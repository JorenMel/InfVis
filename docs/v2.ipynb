{
 "cells": [
  {
   "cell_type": "code",
   "execution_count": 255,
   "metadata": {
    "tags": [
     "hide-input"
    ]
   },
   "outputs": [],
   "source": [
    "import pandas as pd\n",
    "import numpy as np\n",
    "import plotly as py\n",
    "import matplotlib.pyplot as plt\n",
    "import seaborn as sns\n",
    "import warnings\n",
    "\n",
    "warnings.filterwarnings('ignore')"
   ]
  },
  {
   "cell_type": "markdown",
   "metadata": {},
   "source": [
    "# Palm Oil: Debunking Myths and Exploring Solutions"
   ]
  },
  {
   "cell_type": "markdown",
   "metadata": {},
   "source": [
    "## Introduction\n",
    "\n",
    "With the emergence of more and more palm oil-free products, it seems that palm oil is almost a thing of the past. Spurred on by horror stories of orangutans without trees and burning trees giving way to rows of oil palm trees, more and more people are opting for these products. This seems a very reasonable choice. However, it could be that the solution to this problem takes a more counter-intuitive approach: choose palm oil instead.\n",
    "\n",
    "Using various charts, we will try to present relevant data in as clear a way as possible, so that you can learn more about these two sides of the discussion and make your own choice on which option is best.\n",
    "\n",
    "In this analysis, we will concentrate exclusively on Malaysia and Indonesia, as these two countries are the predominant producers of palm oil globally. Together, they account for nearly 85% of the world's palm oil supply, making them the most significant players in the industry."
   ]
  },
  {
   "cell_type": "code",
   "execution_count": 8,
   "metadata": {
    "tags": [
     "hide-input"
    ]
   },
   "outputs": [
    {
     "data": {
      "application/vnd.plotly.v1+json": {
       "config": {
        "plotlyServerURL": "https://plot.ly"
       },
       "data": [
        {
         "hole": 0.7,
         "insidetextorientation": "radial",
         "labels": [
          "Indonesia",
          "Malaysia",
          "Thailand",
          "Colombia",
          "Nigeria",
          "Other"
         ],
         "marker": {
          "colors": [
           "#4C78A8",
           "#F58518",
           "#E45756",
           "#72B7B2",
           "#54A24B",
           "#EECA3B",
           "#B279A2",
           "#FF9DA6",
           "#9D755D",
           "#BAB0AC"
          ]
         },
         "textinfo": "label+percent",
         "textposition": "outside",
         "type": "pie",
         "values": [
          49710344,
          18116354,
          2940000,
          1747773,
          1350000,
          6759558.03
         ]
        }
       ],
       "layout": {
        "height": 600,
        "showlegend": false,
        "template": {
         "data": {
          "bar": [
           {
            "error_x": {
             "color": "#2a3f5f"
            },
            "error_y": {
             "color": "#2a3f5f"
            },
            "marker": {
             "line": {
              "color": "#E5ECF6",
              "width": 0.5
             },
             "pattern": {
              "fillmode": "overlay",
              "size": 10,
              "solidity": 0.2
             }
            },
            "type": "bar"
           }
          ],
          "barpolar": [
           {
            "marker": {
             "line": {
              "color": "#E5ECF6",
              "width": 0.5
             },
             "pattern": {
              "fillmode": "overlay",
              "size": 10,
              "solidity": 0.2
             }
            },
            "type": "barpolar"
           }
          ],
          "carpet": [
           {
            "aaxis": {
             "endlinecolor": "#2a3f5f",
             "gridcolor": "white",
             "linecolor": "white",
             "minorgridcolor": "white",
             "startlinecolor": "#2a3f5f"
            },
            "baxis": {
             "endlinecolor": "#2a3f5f",
             "gridcolor": "white",
             "linecolor": "white",
             "minorgridcolor": "white",
             "startlinecolor": "#2a3f5f"
            },
            "type": "carpet"
           }
          ],
          "choropleth": [
           {
            "colorbar": {
             "outlinewidth": 0,
             "ticks": ""
            },
            "type": "choropleth"
           }
          ],
          "contour": [
           {
            "colorbar": {
             "outlinewidth": 0,
             "ticks": ""
            },
            "colorscale": [
             [
              0,
              "#0d0887"
             ],
             [
              0.1111111111111111,
              "#46039f"
             ],
             [
              0.2222222222222222,
              "#7201a8"
             ],
             [
              0.3333333333333333,
              "#9c179e"
             ],
             [
              0.4444444444444444,
              "#bd3786"
             ],
             [
              0.5555555555555556,
              "#d8576b"
             ],
             [
              0.6666666666666666,
              "#ed7953"
             ],
             [
              0.7777777777777778,
              "#fb9f3a"
             ],
             [
              0.8888888888888888,
              "#fdca26"
             ],
             [
              1,
              "#f0f921"
             ]
            ],
            "type": "contour"
           }
          ],
          "contourcarpet": [
           {
            "colorbar": {
             "outlinewidth": 0,
             "ticks": ""
            },
            "type": "contourcarpet"
           }
          ],
          "heatmap": [
           {
            "colorbar": {
             "outlinewidth": 0,
             "ticks": ""
            },
            "colorscale": [
             [
              0,
              "#0d0887"
             ],
             [
              0.1111111111111111,
              "#46039f"
             ],
             [
              0.2222222222222222,
              "#7201a8"
             ],
             [
              0.3333333333333333,
              "#9c179e"
             ],
             [
              0.4444444444444444,
              "#bd3786"
             ],
             [
              0.5555555555555556,
              "#d8576b"
             ],
             [
              0.6666666666666666,
              "#ed7953"
             ],
             [
              0.7777777777777778,
              "#fb9f3a"
             ],
             [
              0.8888888888888888,
              "#fdca26"
             ],
             [
              1,
              "#f0f921"
             ]
            ],
            "type": "heatmap"
           }
          ],
          "heatmapgl": [
           {
            "colorbar": {
             "outlinewidth": 0,
             "ticks": ""
            },
            "colorscale": [
             [
              0,
              "#0d0887"
             ],
             [
              0.1111111111111111,
              "#46039f"
             ],
             [
              0.2222222222222222,
              "#7201a8"
             ],
             [
              0.3333333333333333,
              "#9c179e"
             ],
             [
              0.4444444444444444,
              "#bd3786"
             ],
             [
              0.5555555555555556,
              "#d8576b"
             ],
             [
              0.6666666666666666,
              "#ed7953"
             ],
             [
              0.7777777777777778,
              "#fb9f3a"
             ],
             [
              0.8888888888888888,
              "#fdca26"
             ],
             [
              1,
              "#f0f921"
             ]
            ],
            "type": "heatmapgl"
           }
          ],
          "histogram": [
           {
            "marker": {
             "pattern": {
              "fillmode": "overlay",
              "size": 10,
              "solidity": 0.2
             }
            },
            "type": "histogram"
           }
          ],
          "histogram2d": [
           {
            "colorbar": {
             "outlinewidth": 0,
             "ticks": ""
            },
            "colorscale": [
             [
              0,
              "#0d0887"
             ],
             [
              0.1111111111111111,
              "#46039f"
             ],
             [
              0.2222222222222222,
              "#7201a8"
             ],
             [
              0.3333333333333333,
              "#9c179e"
             ],
             [
              0.4444444444444444,
              "#bd3786"
             ],
             [
              0.5555555555555556,
              "#d8576b"
             ],
             [
              0.6666666666666666,
              "#ed7953"
             ],
             [
              0.7777777777777778,
              "#fb9f3a"
             ],
             [
              0.8888888888888888,
              "#fdca26"
             ],
             [
              1,
              "#f0f921"
             ]
            ],
            "type": "histogram2d"
           }
          ],
          "histogram2dcontour": [
           {
            "colorbar": {
             "outlinewidth": 0,
             "ticks": ""
            },
            "colorscale": [
             [
              0,
              "#0d0887"
             ],
             [
              0.1111111111111111,
              "#46039f"
             ],
             [
              0.2222222222222222,
              "#7201a8"
             ],
             [
              0.3333333333333333,
              "#9c179e"
             ],
             [
              0.4444444444444444,
              "#bd3786"
             ],
             [
              0.5555555555555556,
              "#d8576b"
             ],
             [
              0.6666666666666666,
              "#ed7953"
             ],
             [
              0.7777777777777778,
              "#fb9f3a"
             ],
             [
              0.8888888888888888,
              "#fdca26"
             ],
             [
              1,
              "#f0f921"
             ]
            ],
            "type": "histogram2dcontour"
           }
          ],
          "mesh3d": [
           {
            "colorbar": {
             "outlinewidth": 0,
             "ticks": ""
            },
            "type": "mesh3d"
           }
          ],
          "parcoords": [
           {
            "line": {
             "colorbar": {
              "outlinewidth": 0,
              "ticks": ""
             }
            },
            "type": "parcoords"
           }
          ],
          "pie": [
           {
            "automargin": true,
            "type": "pie"
           }
          ],
          "scatter": [
           {
            "fillpattern": {
             "fillmode": "overlay",
             "size": 10,
             "solidity": 0.2
            },
            "type": "scatter"
           }
          ],
          "scatter3d": [
           {
            "line": {
             "colorbar": {
              "outlinewidth": 0,
              "ticks": ""
             }
            },
            "marker": {
             "colorbar": {
              "outlinewidth": 0,
              "ticks": ""
             }
            },
            "type": "scatter3d"
           }
          ],
          "scattercarpet": [
           {
            "marker": {
             "colorbar": {
              "outlinewidth": 0,
              "ticks": ""
             }
            },
            "type": "scattercarpet"
           }
          ],
          "scattergeo": [
           {
            "marker": {
             "colorbar": {
              "outlinewidth": 0,
              "ticks": ""
             }
            },
            "type": "scattergeo"
           }
          ],
          "scattergl": [
           {
            "marker": {
             "colorbar": {
              "outlinewidth": 0,
              "ticks": ""
             }
            },
            "type": "scattergl"
           }
          ],
          "scattermapbox": [
           {
            "marker": {
             "colorbar": {
              "outlinewidth": 0,
              "ticks": ""
             }
            },
            "type": "scattermapbox"
           }
          ],
          "scatterpolar": [
           {
            "marker": {
             "colorbar": {
              "outlinewidth": 0,
              "ticks": ""
             }
            },
            "type": "scatterpolar"
           }
          ],
          "scatterpolargl": [
           {
            "marker": {
             "colorbar": {
              "outlinewidth": 0,
              "ticks": ""
             }
            },
            "type": "scatterpolargl"
           }
          ],
          "scatterternary": [
           {
            "marker": {
             "colorbar": {
              "outlinewidth": 0,
              "ticks": ""
             }
            },
            "type": "scatterternary"
           }
          ],
          "surface": [
           {
            "colorbar": {
             "outlinewidth": 0,
             "ticks": ""
            },
            "colorscale": [
             [
              0,
              "#0d0887"
             ],
             [
              0.1111111111111111,
              "#46039f"
             ],
             [
              0.2222222222222222,
              "#7201a8"
             ],
             [
              0.3333333333333333,
              "#9c179e"
             ],
             [
              0.4444444444444444,
              "#bd3786"
             ],
             [
              0.5555555555555556,
              "#d8576b"
             ],
             [
              0.6666666666666666,
              "#ed7953"
             ],
             [
              0.7777777777777778,
              "#fb9f3a"
             ],
             [
              0.8888888888888888,
              "#fdca26"
             ],
             [
              1,
              "#f0f921"
             ]
            ],
            "type": "surface"
           }
          ],
          "table": [
           {
            "cells": {
             "fill": {
              "color": "#EBF0F8"
             },
             "line": {
              "color": "white"
             }
            },
            "header": {
             "fill": {
              "color": "#C8D4E3"
             },
             "line": {
              "color": "white"
             }
            },
            "type": "table"
           }
          ]
         },
         "layout": {
          "annotationdefaults": {
           "arrowcolor": "#2a3f5f",
           "arrowhead": 0,
           "arrowwidth": 1
          },
          "autotypenumbers": "strict",
          "coloraxis": {
           "colorbar": {
            "outlinewidth": 0,
            "ticks": ""
           }
          },
          "colorscale": {
           "diverging": [
            [
             0,
             "#8e0152"
            ],
            [
             0.1,
             "#c51b7d"
            ],
            [
             0.2,
             "#de77ae"
            ],
            [
             0.3,
             "#f1b6da"
            ],
            [
             0.4,
             "#fde0ef"
            ],
            [
             0.5,
             "#f7f7f7"
            ],
            [
             0.6,
             "#e6f5d0"
            ],
            [
             0.7,
             "#b8e186"
            ],
            [
             0.8,
             "#7fbc41"
            ],
            [
             0.9,
             "#4d9221"
            ],
            [
             1,
             "#276419"
            ]
           ],
           "sequential": [
            [
             0,
             "#0d0887"
            ],
            [
             0.1111111111111111,
             "#46039f"
            ],
            [
             0.2222222222222222,
             "#7201a8"
            ],
            [
             0.3333333333333333,
             "#9c179e"
            ],
            [
             0.4444444444444444,
             "#bd3786"
            ],
            [
             0.5555555555555556,
             "#d8576b"
            ],
            [
             0.6666666666666666,
             "#ed7953"
            ],
            [
             0.7777777777777778,
             "#fb9f3a"
            ],
            [
             0.8888888888888888,
             "#fdca26"
            ],
            [
             1,
             "#f0f921"
            ]
           ],
           "sequentialminus": [
            [
             0,
             "#0d0887"
            ],
            [
             0.1111111111111111,
             "#46039f"
            ],
            [
             0.2222222222222222,
             "#7201a8"
            ],
            [
             0.3333333333333333,
             "#9c179e"
            ],
            [
             0.4444444444444444,
             "#bd3786"
            ],
            [
             0.5555555555555556,
             "#d8576b"
            ],
            [
             0.6666666666666666,
             "#ed7953"
            ],
            [
             0.7777777777777778,
             "#fb9f3a"
            ],
            [
             0.8888888888888888,
             "#fdca26"
            ],
            [
             1,
             "#f0f921"
            ]
           ]
          },
          "colorway": [
           "#636efa",
           "#EF553B",
           "#00cc96",
           "#ab63fa",
           "#FFA15A",
           "#19d3f3",
           "#FF6692",
           "#B6E880",
           "#FF97FF",
           "#FECB52"
          ],
          "font": {
           "color": "#2a3f5f"
          },
          "geo": {
           "bgcolor": "white",
           "lakecolor": "white",
           "landcolor": "#E5ECF6",
           "showlakes": true,
           "showland": true,
           "subunitcolor": "white"
          },
          "hoverlabel": {
           "align": "left"
          },
          "hovermode": "closest",
          "mapbox": {
           "style": "light"
          },
          "paper_bgcolor": "white",
          "plot_bgcolor": "#E5ECF6",
          "polar": {
           "angularaxis": {
            "gridcolor": "white",
            "linecolor": "white",
            "ticks": ""
           },
           "bgcolor": "#E5ECF6",
           "radialaxis": {
            "gridcolor": "white",
            "linecolor": "white",
            "ticks": ""
           }
          },
          "scene": {
           "xaxis": {
            "backgroundcolor": "#E5ECF6",
            "gridcolor": "white",
            "gridwidth": 2,
            "linecolor": "white",
            "showbackground": true,
            "ticks": "",
            "zerolinecolor": "white"
           },
           "yaxis": {
            "backgroundcolor": "#E5ECF6",
            "gridcolor": "white",
            "gridwidth": 2,
            "linecolor": "white",
            "showbackground": true,
            "ticks": "",
            "zerolinecolor": "white"
           },
           "zaxis": {
            "backgroundcolor": "#E5ECF6",
            "gridcolor": "white",
            "gridwidth": 2,
            "linecolor": "white",
            "showbackground": true,
            "ticks": "",
            "zerolinecolor": "white"
           }
          },
          "shapedefaults": {
           "line": {
            "color": "#2a3f5f"
           }
          },
          "ternary": {
           "aaxis": {
            "gridcolor": "white",
            "linecolor": "white",
            "ticks": ""
           },
           "baxis": {
            "gridcolor": "white",
            "linecolor": "white",
            "ticks": ""
           },
           "bgcolor": "#E5ECF6",
           "caxis": {
            "gridcolor": "white",
            "linecolor": "white",
            "ticks": ""
           }
          },
          "title": {
           "x": 0.05
          },
          "xaxis": {
           "automargin": true,
           "gridcolor": "white",
           "linecolor": "white",
           "ticks": "",
           "title": {
            "standoff": 15
           },
           "zerolinecolor": "white",
           "zerolinewidth": 2
          },
          "yaxis": {
           "automargin": true,
           "gridcolor": "white",
           "linecolor": "white",
           "ticks": "",
           "title": {
            "standoff": 15
           },
           "zerolinecolor": "white",
           "zerolinewidth": 2
          }
         }
        },
        "title": {
         "text": "Palm oil production in 2021"
        }
       }
      }
     },
     "metadata": {},
     "output_type": "display_data"
    }
   ],
   "source": [
    "import pandas as pd\n",
    "import plotly.graph_objects as go\n",
    "import plotly.express as px\n",
    "\n",
    "# Load the dataset\n",
    "df = pd.read_csv('../Datasets/palm-oil-production.csv')\n",
    "\n",
    "# Filter data for the year 2021\n",
    "df_2021 = df.loc[df['Year'] == 2021]\n",
    "\n",
    "# Sort by production to get the top 5 entries\n",
    "df_2021_top5 = df_2021.sort_values(by='Production', ascending=False).head(5)\n",
    "\n",
    "# Calculate the total production of the remaining entries\n",
    "others_production = df_2021.sort_values(by='Production', ascending=False).iloc[5:]['Production'].sum()\n",
    "\n",
    "# Create a new DataFrame for the 'Other' category\n",
    "df_others = pd.DataFrame({'Entity': ['Other'], 'Production': [others_production]})\n",
    "\n",
    "# Concatenate the top 5 entries with the 'Other' category\n",
    "df_2021_final = pd.concat([df_2021_top5, df_others], ignore_index=True)\n",
    "\n",
    "# Define labels and values for the donut chart\n",
    "labels = df_2021_final['Entity']\n",
    "values = df_2021_final['Production']\n",
    "\n",
    "# Define colors for the producers using provided palette\n",
    "colors = px.colors.qualitative.T10\n",
    "\n",
    "# Create the donut chart using Plotly\n",
    "fig = go.Figure(data=[go.Pie(\n",
    "    labels=labels, \n",
    "    values=values, \n",
    "    hole=.7,  # Set the hole size for the donut chart\n",
    "    textinfo='label+percent',\n",
    "    textposition='outside',\n",
    "    insidetextorientation='radial',\n",
    "    marker=dict(colors=colors)\n",
    ")])\n",
    "\n",
    "fig.update_layout(\n",
    "    title_text='Palm oil production in 2021',\n",
    "    showlegend=False,\n",
    "    height=600 \n",
    ")\n",
    "\n",
    "# Show the plot\n",
    "fig.show()\n"
   ]
  },
  {
   "cell_type": "markdown",
   "metadata": {},
   "source": [
    "## Dataset and Preprocessing"
   ]
  },
  {
   "cell_type": "markdown",
   "metadata": {},
   "source": [
    "### Datasets\n",
    "\n",
    "https://ourworldindata.org/grapher/oil-yield-by-crop?tab=table\n",
    "\n",
    "https://www.kaggle.com/datasets/karnikakapoor/global-forest-data-2001-2022\n",
    "\n",
    "https://ourworldindata.org/palm-oil\n",
    "\n",
    "https://ourworldindata.org/grapher/vegetable-oil-production"
   ]
  },
  {
   "cell_type": "markdown",
   "metadata": {},
   "source": [
    "### Preprocessing\n",
    "\n",
    "We have sorted the global data within the separate code cells for Indonesia and Malaysia and for 2000-2023 or for vegetable oils."
   ]
  },
  {
   "cell_type": "markdown",
   "metadata": {},
   "source": [
    "## Perspective 1: We must stop the production of palm Oil"
   ]
  },
  {
   "cell_type": "markdown",
   "metadata": {},
   "source": [
    "### Argument 1: It leads to deforestation\n",
    "\n",
    "As we can see in the following graphs, the production of palm oil in Indonesia and Malaysia, has been steadily increasing over the years. With the total production in 2023 being more than three times as much as in 2000."
   ]
  },
  {
   "cell_type": "code",
   "execution_count": 1,
   "metadata": {
    "tags": [
     "hide-input"
    ]
   },
   "outputs": [
    {
     "data": {
      "application/vnd.plotly.v1+json": {
       "config": {
        "plotlyServerURL": "https://plot.ly"
       },
       "data": [
        {
         "coloraxis": "coloraxis",
         "geo": "geo",
         "hovertemplate": "<b>%{hovertext}</b><br><br>Decade=1960<br>Entity=%{location}<br>Production=%{z}<extra></extra>",
         "hovertext": [
          "Albania",
          "Cambodia",
          "Philippines",
          "Cameroon",
          "Peru",
          "Paraguay",
          "Papua New Guinea",
          "Panama",
          "China",
          "Colombia",
          "Nigeria",
          "Nicaragua",
          "Congo",
          "Mexico",
          "Malaysia",
          "Costa Rica",
          "Madagascar",
          "Cote d'Ivoire",
          "Gambia",
          "Equatorial Guinea",
          "Germany",
          "Ecuador",
          "Ghana",
          "East Timor",
          "Sao Tome and Principe",
          "Guatemala",
          "Dominican Republic",
          "Guinea-Bissau",
          "Honduras",
          "Democratic Republic of Congo",
          "Indonesia",
          "Liberia",
          "Guinea",
          "Senegal",
          "Norway",
          "Burundi",
          "Venezuela",
          "Angola",
          "Togo",
          "Austria",
          "Thailand",
          "Benin",
          "Suriname",
          "Brazil",
          "Solomon Islands",
          "Tanzania",
          "Gabon",
          "Sierra Leone"
         ],
         "locationmode": "country names",
         "locations": [
          "Albania",
          "Cambodia",
          "Philippines",
          "Cameroon",
          "Peru",
          "Paraguay",
          "Papua New Guinea",
          "Panama",
          "China",
          "Colombia",
          "Nigeria",
          "Nicaragua",
          "Congo",
          "Mexico",
          "Malaysia",
          "Costa Rica",
          "Madagascar",
          "Cote d'Ivoire",
          "Gambia",
          "Equatorial Guinea",
          "Germany",
          "Ecuador",
          "Ghana",
          "East Timor",
          "Sao Tome and Principe",
          "Guatemala",
          "Dominican Republic",
          "Guinea-Bissau",
          "Honduras",
          "Democratic Republic of Congo",
          "Indonesia",
          "Liberia",
          "Guinea",
          "Senegal",
          "Norway",
          "Burundi",
          "Venezuela",
          "Angola",
          "Togo",
          "Austria",
          "Thailand",
          "Benin",
          "Suriname",
          "Brazil",
          "Solomon Islands",
          "Tanzania",
          "Gabon",
          "Sierra Leone"
         ],
         "name": "",
         "type": "choropleth",
         "z": [
          0,
          0,
          4150,
          469620,
          0,
          42451,
          0,
          0,
          520000,
          55150,
          5863000,
          3000,
          92142,
          178140,
          1652557,
          77700,
          0,
          163000,
          17200,
          32492,
          0,
          335000,
          195000,
          0,
          13069,
          0,
          0,
          53000,
          33363,
          1906200,
          1468543,
          101700,
          287900,
          36900,
          0,
          10010,
          0,
          343000,
          69300,
          0,
          5400,
          236800,
          0,
          71964,
          2000,
          8333,
          19300,
          353000
         ]
        }
       ],
       "frames": [
        {
         "data": [
          {
           "coloraxis": "coloraxis",
           "geo": "geo",
           "hovertemplate": "<b>%{hovertext}</b><br><br>Decade=1960<br>Entity=%{location}<br>Production=%{z}<extra></extra>",
           "hovertext": [
            "Albania",
            "Cambodia",
            "Philippines",
            "Cameroon",
            "Peru",
            "Paraguay",
            "Papua New Guinea",
            "Panama",
            "China",
            "Colombia",
            "Nigeria",
            "Nicaragua",
            "Congo",
            "Mexico",
            "Malaysia",
            "Costa Rica",
            "Madagascar",
            "Cote d'Ivoire",
            "Gambia",
            "Equatorial Guinea",
            "Germany",
            "Ecuador",
            "Ghana",
            "East Timor",
            "Sao Tome and Principe",
            "Guatemala",
            "Dominican Republic",
            "Guinea-Bissau",
            "Honduras",
            "Democratic Republic of Congo",
            "Indonesia",
            "Liberia",
            "Guinea",
            "Senegal",
            "Norway",
            "Burundi",
            "Venezuela",
            "Angola",
            "Togo",
            "Austria",
            "Thailand",
            "Benin",
            "Suriname",
            "Brazil",
            "Solomon Islands",
            "Tanzania",
            "Gabon",
            "Sierra Leone"
           ],
           "locationmode": "country names",
           "locations": [
            "Albania",
            "Cambodia",
            "Philippines",
            "Cameroon",
            "Peru",
            "Paraguay",
            "Papua New Guinea",
            "Panama",
            "China",
            "Colombia",
            "Nigeria",
            "Nicaragua",
            "Congo",
            "Mexico",
            "Malaysia",
            "Costa Rica",
            "Madagascar",
            "Cote d'Ivoire",
            "Gambia",
            "Equatorial Guinea",
            "Germany",
            "Ecuador",
            "Ghana",
            "East Timor",
            "Sao Tome and Principe",
            "Guatemala",
            "Dominican Republic",
            "Guinea-Bissau",
            "Honduras",
            "Democratic Republic of Congo",
            "Indonesia",
            "Liberia",
            "Guinea",
            "Senegal",
            "Norway",
            "Burundi",
            "Venezuela",
            "Angola",
            "Togo",
            "Austria",
            "Thailand",
            "Benin",
            "Suriname",
            "Brazil",
            "Solomon Islands",
            "Tanzania",
            "Gabon",
            "Sierra Leone"
           ],
           "name": "",
           "type": "choropleth",
           "z": [
            0,
            0,
            4150,
            469620,
            0,
            42451,
            0,
            0,
            520000,
            55150,
            5863000,
            3000,
            92142,
            178140,
            1652557,
            77700,
            0,
            163000,
            17200,
            32492,
            0,
            335000,
            195000,
            0,
            13069,
            0,
            0,
            53000,
            33363,
            1906200,
            1468543,
            101700,
            287900,
            36900,
            0,
            10010,
            0,
            343000,
            69300,
            0,
            5400,
            236800,
            0,
            71964,
            2000,
            8333,
            19300,
            353000
           ]
          }
         ],
         "name": "1960"
        },
        {
         "data": [
          {
           "coloraxis": "coloraxis",
           "geo": "geo",
           "hovertemplate": "<b>%{hovertext}</b><br><br>Decade=1970<br>Entity=%{location}<br>Production=%{z}<extra></extra>",
           "hovertext": [
            "Burundi",
            "Costa Rica",
            "Madagascar",
            "Tanzania",
            "Peru",
            "Cote d'Ivoire",
            "Indonesia",
            "Austria",
            "Democratic Republic of Congo",
            "Honduras",
            "Thailand",
            "Guinea-Bissau",
            "Senegal",
            "Dominican Republic",
            "Guinea",
            "Togo",
            "Guatemala",
            "Angola",
            "East Timor",
            "Ghana",
            "Sao Tome and Principe",
            "Ecuador",
            "Germany",
            "Venezuela",
            "Gambia",
            "Equatorial Guinea",
            "Albania",
            "Cambodia",
            "Malaysia",
            "Sierra Leone",
            "Benin",
            "Cameroon",
            "Paraguay",
            "Papua New Guinea",
            "Brazil",
            "Panama",
            "Solomon Islands",
            "China",
            "Gabon",
            "Nigeria",
            "Colombia",
            "Philippines",
            "Norway",
            "Liberia",
            "Suriname",
            "Nicaragua",
            "Congo",
            "Mexico"
           ],
           "locationmode": "country names",
           "locations": [
            "Burundi",
            "Costa Rica",
            "Madagascar",
            "Tanzania",
            "Peru",
            "Cote d'Ivoire",
            "Indonesia",
            "Austria",
            "Democratic Republic of Congo",
            "Honduras",
            "Thailand",
            "Guinea-Bissau",
            "Senegal",
            "Dominican Republic",
            "Guinea",
            "Togo",
            "Guatemala",
            "Angola",
            "East Timor",
            "Ghana",
            "Sao Tome and Principe",
            "Ecuador",
            "Germany",
            "Venezuela",
            "Gambia",
            "Equatorial Guinea",
            "Albania",
            "Cambodia",
            "Malaysia",
            "Sierra Leone",
            "Benin",
            "Cameroon",
            "Paraguay",
            "Papua New Guinea",
            "Brazil",
            "Panama",
            "Solomon Islands",
            "China",
            "Gabon",
            "Nigeria",
            "Colombia",
            "Philippines",
            "Norway",
            "Liberia",
            "Suriname",
            "Nicaragua",
            "Congo",
            "Mexico"
           ],
           "name": "",
           "type": "choropleth",
           "z": [
            17060,
            213626,
            11975,
            22528,
            13511,
            1163500,
            3801991,
            0,
            1910100,
            86480,
            34250,
            48500,
            50400,
            0,
            388200,
            74000,
            0,
            374000,
            0,
            208000,
            5651,
            255281,
            0,
            0,
            25300,
            43300,
            0,
            0,
            11825136,
            433600,
            277275,
            694300,
            54883,
            171000,
            86878,
            0,
            40700,
            1516000,
            20500,
            5096000,
            436140,
            83750,
            0,
            203750,
            11773,
            20500,
            143000,
            93887
           ]
          }
         ],
         "name": "1970"
        },
        {
         "data": [
          {
           "coloraxis": "coloraxis",
           "geo": "geo",
           "hovertemplate": "<b>%{hovertext}</b><br><br>Decade=1980<br>Entity=%{location}<br>Production=%{z}<extra></extra>",
           "hovertext": [
            "Venezuela",
            "Paraguay",
            "Gambia",
            "Suriname",
            "Peru",
            "Germany",
            "Papua New Guinea",
            "Gabon",
            "Sao Tome and Principe",
            "Madagascar",
            "Sierra Leone",
            "Ghana",
            "Indonesia",
            "Nicaragua",
            "Togo",
            "Liberia",
            "Guatemala",
            "Norway",
            "Malaysia",
            "Tanzania",
            "Guinea",
            "Thailand",
            "Nigeria",
            "Solomon Islands",
            "Senegal",
            "Philippines",
            "Honduras",
            "Panama",
            "Mexico",
            "Guinea-Bissau",
            "Cote d'Ivoire",
            "China",
            "Austria",
            "Dominican Republic",
            "Democratic Republic of Congo",
            "Colombia",
            "Cambodia",
            "Benin",
            "Angola",
            "Caribbean (FAO)",
            "Ecuador",
            "Burundi",
            "East Timor",
            "Equatorial Guinea",
            "Costa Rica",
            "Congo",
            "Cameroon",
            "Albania",
            "Brazil"
           ],
           "locationmode": "country names",
           "locations": [
            "Venezuela",
            "Paraguay",
            "Gambia",
            "Suriname",
            "Peru",
            "Germany",
            "Papua New Guinea",
            "Gabon",
            "Sao Tome and Principe",
            "Madagascar",
            "Sierra Leone",
            "Ghana",
            "Indonesia",
            "Nicaragua",
            "Togo",
            "Liberia",
            "Guatemala",
            "Norway",
            "Malaysia",
            "Tanzania",
            "Guinea",
            "Thailand",
            "Nigeria",
            "Solomon Islands",
            "Senegal",
            "Philippines",
            "Honduras",
            "Panama",
            "Mexico",
            "Guinea-Bissau",
            "Cote d'Ivoire",
            "China",
            "Austria",
            "Dominican Republic",
            "Democratic Republic of Congo",
            "Colombia",
            "Cambodia",
            "Benin",
            "Angola",
            "Caribbean (FAO)",
            "Ecuador",
            "Burundi",
            "East Timor",
            "Equatorial Guinea",
            "Costa Rica",
            "Congo",
            "Cameroon",
            "Albania",
            "Brazil"
           ],
           "name": "",
           "type": "choropleth",
           "z": [
            42704,
            45242,
            26000,
            51072,
            124986,
            0,
            999000,
            31251,
            2471,
            28195,
            487300,
            397300,
            12316732,
            32210,
            71000,
            288500,
            34572,
            0,
            39930182,
            42560,
            398000,
            920498,
            6060000,
            172743,
            57600,
            306250,
            504180,
            0,
            24800,
            46000,
            1802571,
            1995000,
            0,
            2600,
            1622300,
            1290403,
            0,
            293000,
            392000,
            2600,
            875696,
            17781,
            0,
            49700,
            453930,
            154700,
            924715,
            0,
            281700
           ]
          }
         ],
         "name": "1980"
        },
        {
         "data": [
          {
           "coloraxis": "coloraxis",
           "geo": "geo",
           "hovertemplate": "<b>%{hovertext}</b><br><br>Decade=1990<br>Entity=%{location}<br>Production=%{z}<extra></extra>",
           "hovertext": [
            "Congo",
            "Brazil",
            "Austria",
            "Nigeria",
            "Democratic Republic of Congo",
            "Sierra Leone",
            "Honduras",
            "Madagascar",
            "Burundi",
            "Sao Tome and Principe",
            "Senegal",
            "Cote d'Ivoire",
            "Indonesia",
            "Nicaragua",
            "Benin",
            "Guinea-Bissau",
            "Colombia",
            "Paraguay",
            "Solomon Islands",
            "Costa Rica",
            "Mexico",
            "Liberia",
            "Suriname",
            "Tanzania",
            "China",
            "Malaysia",
            "Peru",
            "Ecuador",
            "Germany",
            "Caribbean (FAO)",
            "Gambia",
            "Albania",
            "East Timor",
            "Ghana",
            "Cambodia",
            "Togo",
            "Angola",
            "Papua New Guinea",
            "Venezuela",
            "Panama",
            "Guatemala",
            "Philippines",
            "Thailand",
            "Gabon",
            "Dominican Republic",
            "Equatorial Guinea",
            "Guinea",
            "Norway",
            "Cameroon"
           ],
           "locationmode": "country names",
           "locations": [
            "Congo",
            "Brazil",
            "Austria",
            "Nigeria",
            "Democratic Republic of Congo",
            "Sierra Leone",
            "Honduras",
            "Madagascar",
            "Burundi",
            "Sao Tome and Principe",
            "Senegal",
            "Cote d'Ivoire",
            "Indonesia",
            "Nicaragua",
            "Benin",
            "Guinea-Bissau",
            "Colombia",
            "Paraguay",
            "Solomon Islands",
            "Costa Rica",
            "Mexico",
            "Liberia",
            "Suriname",
            "Tanzania",
            "China",
            "Malaysia",
            "Peru",
            "Ecuador",
            "Germany",
            "Caribbean (FAO)",
            "Gambia",
            "Albania",
            "East Timor",
            "Ghana",
            "Cambodia",
            "Togo",
            "Angola",
            "Papua New Guinea",
            "Venezuela",
            "Panama",
            "Guatemala",
            "Philippines",
            "Thailand",
            "Gabon",
            "Dominican Republic",
            "Equatorial Guinea",
            "Guinea",
            "Norway",
            "Cameroon"
           ],
           "name": "",
           "type": "choropleth",
           "z": [
            161422,
            736100,
            0,
            8131000,
            1778960,
            465562,
            806700,
            36550,
            19346,
            9305,
            48040,
            2699491,
            42443234,
            58063,
            139127,
            43954,
            3663025,
            35553,
            283381,
            907510,
            73236,
            358415,
            9560,
            52475,
            2013398,
            77371759,
            299000,
            1887415,
            0,
            203800,
            29866,
            0,
            0,
            969094,
            0,
            78920,
            438000,
            2300700,
            318398,
            26400,
            280000,
            511100,
            3559838,
            67498,
            203800,
            46774,
            482422,
            0,
            1347395
           ]
          }
         ],
         "name": "1990"
        },
        {
         "data": [
          {
           "coloraxis": "coloraxis",
           "geo": "geo",
           "hovertemplate": "<b>%{hovertext}</b><br><br>Decade=2000<br>Entity=%{location}<br>Production=%{z}<extra></extra>",
           "hovertext": [
            "Cameroon",
            "Senegal",
            "Mexico",
            "Malaysia",
            "Peru",
            "Sao Tome and Principe",
            "China",
            "Nicaragua",
            "Panama",
            "Caribbean (FAO)",
            "Burundi",
            "Philippines",
            "Nigeria",
            "Papua New Guinea",
            "Colombia",
            "Paraguay",
            "Angola",
            "Democratic Republic of Congo",
            "Congo",
            "Togo",
            "Guinea-Bissau",
            "Ghana",
            "Ecuador",
            "Thailand",
            "Honduras",
            "Dominican Republic",
            "Suriname",
            "Cote d'Ivoire",
            "Tanzania",
            "Indonesia",
            "Gambia",
            "Solomon Islands",
            "Guatemala",
            "Venezuela",
            "Liberia",
            "Gabon",
            "Costa Rica",
            "Madagascar",
            "Sierra Leone",
            "Brazil",
            "Equatorial Guinea",
            "Benin",
            "Guinea"
           ],
           "locationmode": "country names",
           "locations": [
            "Cameroon",
            "Senegal",
            "Mexico",
            "Malaysia",
            "Peru",
            "Sao Tome and Principe",
            "China",
            "Nicaragua",
            "Panama",
            "Caribbean (FAO)",
            "Burundi",
            "Philippines",
            "Nigeria",
            "Papua New Guinea",
            "Colombia",
            "Paraguay",
            "Angola",
            "Democratic Republic of Congo",
            "Congo",
            "Togo",
            "Guinea-Bissau",
            "Ghana",
            "Ecuador",
            "Thailand",
            "Honduras",
            "Dominican Republic",
            "Suriname",
            "Cote d'Ivoire",
            "Tanzania",
            "Indonesia",
            "Gambia",
            "Solomon Islands",
            "Guatemala",
            "Venezuela",
            "Liberia",
            "Gabon",
            "Costa Rica",
            "Madagascar",
            "Sierra Leone",
            "Brazil",
            "Equatorial Guinea",
            "Benin",
            "Guinea"
           ],
           "name": "",
           "type": "choropleth",
           "z": [
            1844940,
            72591.15,
            453300,
            143851916,
            353100,
            28001,
            2239020,
            87500,
            130652,
            296800,
            57904,
            660300,
            11208050,
            3652000,
            6503220,
            29569,
            511000,
            1753870,
            204559,
            72000,
            54930,
            1164400,
            2707696,
            9619204,
            1997600,
            296800,
            2530,
            2711394,
            68891,
            130031813,
            27394,
            344500,
            1105100,
            651766,
            420000,
            65583,
            1675947,
            36432,
            407060,
            1577000,
            51954,
            369500,
            500000
           ]
          }
         ],
         "name": "2000"
        },
        {
         "data": [
          {
           "coloraxis": "coloraxis",
           "geo": "geo",
           "hovertemplate": "<b>%{hovertext}</b><br><br>Decade=2010<br>Entity=%{location}<br>Production=%{z}<extra></extra>",
           "hovertext": [
            "Brazil",
            "Togo",
            "Ukraine",
            "Cambodia",
            "Peru",
            "Albania",
            "Philippines",
            "Angola",
            "Tanzania",
            "Russia",
            "Austria",
            "Burundi",
            "Belgium",
            "Suriname",
            "Solomon Islands",
            "Sao Tome and Principe",
            "Benin",
            "Sierra Leone",
            "Senegal",
            "Thailand",
            "Equatorial Guinea",
            "Nigeria",
            "Dominican Republic",
            "Colombia",
            "Mozambique",
            "Greece",
            "Japan",
            "Kazakhstan",
            "Honduras",
            "Nicaragua",
            "Mexico",
            "Paraguay",
            "Costa Rica",
            "Malaysia",
            "Congo",
            "Democratic Republic of Congo",
            "Guinea",
            "Guatemala",
            "Venezuela",
            "Ghana",
            "China",
            "Cameroon",
            "Gabon",
            "Papua New Guinea",
            "Iceland",
            "Ecuador",
            "Gambia",
            "Madagascar",
            "Panama",
            "Cote d'Ivoire",
            "Indonesia",
            "Norway",
            "Guinea-Bissau",
            "Germany",
            "East Timor",
            "Caribbean (FAO)",
            "Liberia"
           ],
           "locationmode": "country names",
           "locations": [
            "Brazil",
            "Togo",
            "Ukraine",
            "Cambodia",
            "Peru",
            "Albania",
            "Philippines",
            "Angola",
            "Tanzania",
            "Russia",
            "Austria",
            "Burundi",
            "Belgium",
            "Suriname",
            "Solomon Islands",
            "Sao Tome and Principe",
            "Benin",
            "Sierra Leone",
            "Senegal",
            "Thailand",
            "Equatorial Guinea",
            "Nigeria",
            "Dominican Republic",
            "Colombia",
            "Mozambique",
            "Greece",
            "Japan",
            "Kazakhstan",
            "Honduras",
            "Nicaragua",
            "Mexico",
            "Paraguay",
            "Costa Rica",
            "Malaysia",
            "Congo",
            "Democratic Republic of Congo",
            "Guinea",
            "Guatemala",
            "Venezuela",
            "Ghana",
            "China",
            "Cameroon",
            "Gabon",
            "Papua New Guinea",
            "Iceland",
            "Ecuador",
            "Gambia",
            "Madagascar",
            "Panama",
            "Cote d'Ivoire",
            "Indonesia",
            "Norway",
            "Guinea-Bissau",
            "Germany",
            "East Timor",
            "Caribbean (FAO)",
            "Liberia"
           ],
           "name": "",
           "type": "choropleth",
           "z": [
            3426667.9,
            641000,
            0,
            424950.23,
            1414000,
            0,
            1069600,
            495000,
            67975.14,
            0,
            0,
            152117.28,
            0,
            2188.05,
            338200,
            36915.2,
            613000,
            639579.44,
            138408.45,
            20977109,
            53927.55,
            11776932,
            485000,
            11888944.3,
            0,
            0,
            0,
            0,
            5167746.82,
            503352,
            1214300,
            39553.65,
            2415427,
            190148338,
            265325.5,
            2639000,
            500000,
            5322100,
            490424.64,
            1887551.87,
            1219259.07,
            3052445,
            31787.75,
            5633000,
            0,
            5164300,
            36986,
            40985.16,
            212450,
            4351385,
            316584052,
            0,
            59498.67,
            0,
            0,
            485000,
            420000
           ]
          }
         ],
         "name": "2010"
        },
        {
         "data": [
          {
           "coloraxis": "coloraxis",
           "geo": "geo",
           "hovertemplate": "<b>%{hovertext}</b><br><br>Decade=2020<br>Entity=%{location}<br>Production=%{z}<extra></extra>",
           "hovertext": [
            "Guinea-Bissau",
            "Paraguay",
            "Tanzania",
            "Angola",
            "Democratic Republic of Congo",
            "Guatemala",
            "Thailand",
            "Dominican Republic",
            "Ghana",
            "Togo",
            "Gambia",
            "Ukraine",
            "Ecuador",
            "Gabon",
            "Guinea",
            "Cote d'Ivoire",
            "Costa Rica",
            "Honduras",
            "Cambodia",
            "Papua New Guinea",
            "Cameroon",
            "Panama",
            "Peru",
            "Burundi",
            "Caribbean (FAO)",
            "Nigeria",
            "Philippines",
            "Equatorial Guinea",
            "China",
            "Nicaragua",
            "Suriname",
            "Sao Tome and Principe",
            "Brunei",
            "Brazil",
            "Colombia",
            "Malaysia",
            "Senegal",
            "Congo",
            "Madagascar",
            "Liberia",
            "Sierra Leone",
            "Benin",
            "Solomon Islands",
            "Indonesia",
            "Mexico",
            "Venezuela"
           ],
           "locationmode": "country names",
           "locations": [
            "Guinea-Bissau",
            "Paraguay",
            "Tanzania",
            "Angola",
            "Democratic Republic of Congo",
            "Guatemala",
            "Thailand",
            "Dominican Republic",
            "Ghana",
            "Togo",
            "Gambia",
            "Ukraine",
            "Ecuador",
            "Gabon",
            "Guinea",
            "Cote d'Ivoire",
            "Costa Rica",
            "Honduras",
            "Cambodia",
            "Papua New Guinea",
            "Cameroon",
            "Panama",
            "Peru",
            "Burundi",
            "Caribbean (FAO)",
            "Nigeria",
            "Philippines",
            "Equatorial Guinea",
            "China",
            "Nicaragua",
            "Suriname",
            "Sao Tome and Principe",
            "Brunei",
            "Brazil",
            "Colombia",
            "Malaysia",
            "Senegal",
            "Congo",
            "Madagascar",
            "Liberia",
            "Sierra Leone",
            "Benin",
            "Solomon Islands",
            "Indonesia",
            "Mexico",
            "Venezuela"
           ],
           "name": "",
           "type": "choropleth",
           "z": [
            11878.09,
            7853.1900000000005,
            10951.04,
            116000,
            600000,
            1650000,
            5630000,
            91000,
            536800.5900000001,
            44000,
            8301.689999999999,
            0,
            894100,
            5632.5,
            100000,
            1115781,
            526003,
            1350000,
            180000,
            1445000,
            693463,
            121085,
            500000,
            35536.19,
            91000,
            2630000,
            254000,
            10800,
            224808.18,
            274597.5,
            250.96,
            7586.049999999999,
            0,
            1155921.6,
            3305767.9,
            37256966,
            28000,
            55309.229999999996,
            8164.1,
            90000,
            152600,
            172000,
            67000,
            94469492,
            604200,
            229900
           ]
          }
         ],
         "name": "2020"
        }
       ],
       "layout": {
        "coloraxis": {
         "cmax": 350000000,
         "cmin": 0,
         "colorbar": {
          "title": {
           "text": "Production"
          }
         },
         "colorscale": [
          [
           0,
           "rgb(165,0,38)"
          ],
          [
           0.14285714285714285,
           "rgb(215,48,39)"
          ],
          [
           0.2857142857142857,
           "rgb(244,109,67)"
          ],
          [
           0.42857142857142855,
           "rgb(253,174,97)"
          ],
          [
           0.5714285714285714,
           "rgb(254,224,144)"
          ],
          [
           0.7142857142857143,
           "rgb(224,243,248)"
          ],
          [
           0.8571428571428571,
           "rgb(171,217,233)"
          ],
          [
           1,
           "rgb(49,54,149)"
          ]
         ]
        },
        "geo": {
         "center": {
          "lat": 2.5,
          "lon": 115
         },
         "domain": {
          "x": [
           0,
           1
          ],
          "y": [
           0,
           1
          ]
         },
         "projection": {
          "scale": 4
         },
         "visible": false
        },
        "height": 800,
        "legend": {
         "tracegroupgap": 0
        },
        "sliders": [
         {
          "active": 0,
          "currentvalue": {
           "prefix": "Decade="
          },
          "len": 0.9,
          "pad": {
           "b": 10,
           "t": 60
          },
          "steps": [
           {
            "args": [
             [
              "1960"
             ],
             {
              "frame": {
               "duration": 0,
               "redraw": true
              },
              "fromcurrent": true,
              "mode": "immediate",
              "transition": {
               "duration": 0,
               "easing": "linear"
              }
             }
            ],
            "label": "1960",
            "method": "animate"
           },
           {
            "args": [
             [
              "1970"
             ],
             {
              "frame": {
               "duration": 0,
               "redraw": true
              },
              "fromcurrent": true,
              "mode": "immediate",
              "transition": {
               "duration": 0,
               "easing": "linear"
              }
             }
            ],
            "label": "1970",
            "method": "animate"
           },
           {
            "args": [
             [
              "1980"
             ],
             {
              "frame": {
               "duration": 0,
               "redraw": true
              },
              "fromcurrent": true,
              "mode": "immediate",
              "transition": {
               "duration": 0,
               "easing": "linear"
              }
             }
            ],
            "label": "1980",
            "method": "animate"
           },
           {
            "args": [
             [
              "1990"
             ],
             {
              "frame": {
               "duration": 0,
               "redraw": true
              },
              "fromcurrent": true,
              "mode": "immediate",
              "transition": {
               "duration": 0,
               "easing": "linear"
              }
             }
            ],
            "label": "1990",
            "method": "animate"
           },
           {
            "args": [
             [
              "2000"
             ],
             {
              "frame": {
               "duration": 0,
               "redraw": true
              },
              "fromcurrent": true,
              "mode": "immediate",
              "transition": {
               "duration": 0,
               "easing": "linear"
              }
             }
            ],
            "label": "2000",
            "method": "animate"
           },
           {
            "args": [
             [
              "2010"
             ],
             {
              "frame": {
               "duration": 0,
               "redraw": true
              },
              "fromcurrent": true,
              "mode": "immediate",
              "transition": {
               "duration": 0,
               "easing": "linear"
              }
             }
            ],
            "label": "2010",
            "method": "animate"
           },
           {
            "args": [
             [
              "2020"
             ],
             {
              "frame": {
               "duration": 0,
               "redraw": true
              },
              "fromcurrent": true,
              "mode": "immediate",
              "transition": {
               "duration": 0,
               "easing": "linear"
              }
             }
            ],
            "label": "2020",
            "method": "animate"
           }
          ],
          "x": 0.1,
          "xanchor": "left",
          "y": 0,
          "yanchor": "top"
         }
        ],
        "template": {
         "data": {
          "bar": [
           {
            "error_x": {
             "color": "#2a3f5f"
            },
            "error_y": {
             "color": "#2a3f5f"
            },
            "marker": {
             "line": {
              "color": "#E5ECF6",
              "width": 0.5
             },
             "pattern": {
              "fillmode": "overlay",
              "size": 10,
              "solidity": 0.2
             }
            },
            "type": "bar"
           }
          ],
          "barpolar": [
           {
            "marker": {
             "line": {
              "color": "#E5ECF6",
              "width": 0.5
             },
             "pattern": {
              "fillmode": "overlay",
              "size": 10,
              "solidity": 0.2
             }
            },
            "type": "barpolar"
           }
          ],
          "carpet": [
           {
            "aaxis": {
             "endlinecolor": "#2a3f5f",
             "gridcolor": "white",
             "linecolor": "white",
             "minorgridcolor": "white",
             "startlinecolor": "#2a3f5f"
            },
            "baxis": {
             "endlinecolor": "#2a3f5f",
             "gridcolor": "white",
             "linecolor": "white",
             "minorgridcolor": "white",
             "startlinecolor": "#2a3f5f"
            },
            "type": "carpet"
           }
          ],
          "choropleth": [
           {
            "colorbar": {
             "outlinewidth": 0,
             "ticks": ""
            },
            "type": "choropleth"
           }
          ],
          "contour": [
           {
            "colorbar": {
             "outlinewidth": 0,
             "ticks": ""
            },
            "colorscale": [
             [
              0,
              "#0d0887"
             ],
             [
              0.1111111111111111,
              "#46039f"
             ],
             [
              0.2222222222222222,
              "#7201a8"
             ],
             [
              0.3333333333333333,
              "#9c179e"
             ],
             [
              0.4444444444444444,
              "#bd3786"
             ],
             [
              0.5555555555555556,
              "#d8576b"
             ],
             [
              0.6666666666666666,
              "#ed7953"
             ],
             [
              0.7777777777777778,
              "#fb9f3a"
             ],
             [
              0.8888888888888888,
              "#fdca26"
             ],
             [
              1,
              "#f0f921"
             ]
            ],
            "type": "contour"
           }
          ],
          "contourcarpet": [
           {
            "colorbar": {
             "outlinewidth": 0,
             "ticks": ""
            },
            "type": "contourcarpet"
           }
          ],
          "heatmap": [
           {
            "colorbar": {
             "outlinewidth": 0,
             "ticks": ""
            },
            "colorscale": [
             [
              0,
              "#0d0887"
             ],
             [
              0.1111111111111111,
              "#46039f"
             ],
             [
              0.2222222222222222,
              "#7201a8"
             ],
             [
              0.3333333333333333,
              "#9c179e"
             ],
             [
              0.4444444444444444,
              "#bd3786"
             ],
             [
              0.5555555555555556,
              "#d8576b"
             ],
             [
              0.6666666666666666,
              "#ed7953"
             ],
             [
              0.7777777777777778,
              "#fb9f3a"
             ],
             [
              0.8888888888888888,
              "#fdca26"
             ],
             [
              1,
              "#f0f921"
             ]
            ],
            "type": "heatmap"
           }
          ],
          "heatmapgl": [
           {
            "colorbar": {
             "outlinewidth": 0,
             "ticks": ""
            },
            "colorscale": [
             [
              0,
              "#0d0887"
             ],
             [
              0.1111111111111111,
              "#46039f"
             ],
             [
              0.2222222222222222,
              "#7201a8"
             ],
             [
              0.3333333333333333,
              "#9c179e"
             ],
             [
              0.4444444444444444,
              "#bd3786"
             ],
             [
              0.5555555555555556,
              "#d8576b"
             ],
             [
              0.6666666666666666,
              "#ed7953"
             ],
             [
              0.7777777777777778,
              "#fb9f3a"
             ],
             [
              0.8888888888888888,
              "#fdca26"
             ],
             [
              1,
              "#f0f921"
             ]
            ],
            "type": "heatmapgl"
           }
          ],
          "histogram": [
           {
            "marker": {
             "pattern": {
              "fillmode": "overlay",
              "size": 10,
              "solidity": 0.2
             }
            },
            "type": "histogram"
           }
          ],
          "histogram2d": [
           {
            "colorbar": {
             "outlinewidth": 0,
             "ticks": ""
            },
            "colorscale": [
             [
              0,
              "#0d0887"
             ],
             [
              0.1111111111111111,
              "#46039f"
             ],
             [
              0.2222222222222222,
              "#7201a8"
             ],
             [
              0.3333333333333333,
              "#9c179e"
             ],
             [
              0.4444444444444444,
              "#bd3786"
             ],
             [
              0.5555555555555556,
              "#d8576b"
             ],
             [
              0.6666666666666666,
              "#ed7953"
             ],
             [
              0.7777777777777778,
              "#fb9f3a"
             ],
             [
              0.8888888888888888,
              "#fdca26"
             ],
             [
              1,
              "#f0f921"
             ]
            ],
            "type": "histogram2d"
           }
          ],
          "histogram2dcontour": [
           {
            "colorbar": {
             "outlinewidth": 0,
             "ticks": ""
            },
            "colorscale": [
             [
              0,
              "#0d0887"
             ],
             [
              0.1111111111111111,
              "#46039f"
             ],
             [
              0.2222222222222222,
              "#7201a8"
             ],
             [
              0.3333333333333333,
              "#9c179e"
             ],
             [
              0.4444444444444444,
              "#bd3786"
             ],
             [
              0.5555555555555556,
              "#d8576b"
             ],
             [
              0.6666666666666666,
              "#ed7953"
             ],
             [
              0.7777777777777778,
              "#fb9f3a"
             ],
             [
              0.8888888888888888,
              "#fdca26"
             ],
             [
              1,
              "#f0f921"
             ]
            ],
            "type": "histogram2dcontour"
           }
          ],
          "mesh3d": [
           {
            "colorbar": {
             "outlinewidth": 0,
             "ticks": ""
            },
            "type": "mesh3d"
           }
          ],
          "parcoords": [
           {
            "line": {
             "colorbar": {
              "outlinewidth": 0,
              "ticks": ""
             }
            },
            "type": "parcoords"
           }
          ],
          "pie": [
           {
            "automargin": true,
            "type": "pie"
           }
          ],
          "scatter": [
           {
            "fillpattern": {
             "fillmode": "overlay",
             "size": 10,
             "solidity": 0.2
            },
            "type": "scatter"
           }
          ],
          "scatter3d": [
           {
            "line": {
             "colorbar": {
              "outlinewidth": 0,
              "ticks": ""
             }
            },
            "marker": {
             "colorbar": {
              "outlinewidth": 0,
              "ticks": ""
             }
            },
            "type": "scatter3d"
           }
          ],
          "scattercarpet": [
           {
            "marker": {
             "colorbar": {
              "outlinewidth": 0,
              "ticks": ""
             }
            },
            "type": "scattercarpet"
           }
          ],
          "scattergeo": [
           {
            "marker": {
             "colorbar": {
              "outlinewidth": 0,
              "ticks": ""
             }
            },
            "type": "scattergeo"
           }
          ],
          "scattergl": [
           {
            "marker": {
             "colorbar": {
              "outlinewidth": 0,
              "ticks": ""
             }
            },
            "type": "scattergl"
           }
          ],
          "scattermapbox": [
           {
            "marker": {
             "colorbar": {
              "outlinewidth": 0,
              "ticks": ""
             }
            },
            "type": "scattermapbox"
           }
          ],
          "scatterpolar": [
           {
            "marker": {
             "colorbar": {
              "outlinewidth": 0,
              "ticks": ""
             }
            },
            "type": "scatterpolar"
           }
          ],
          "scatterpolargl": [
           {
            "marker": {
             "colorbar": {
              "outlinewidth": 0,
              "ticks": ""
             }
            },
            "type": "scatterpolargl"
           }
          ],
          "scatterternary": [
           {
            "marker": {
             "colorbar": {
              "outlinewidth": 0,
              "ticks": ""
             }
            },
            "type": "scatterternary"
           }
          ],
          "surface": [
           {
            "colorbar": {
             "outlinewidth": 0,
             "ticks": ""
            },
            "colorscale": [
             [
              0,
              "#0d0887"
             ],
             [
              0.1111111111111111,
              "#46039f"
             ],
             [
              0.2222222222222222,
              "#7201a8"
             ],
             [
              0.3333333333333333,
              "#9c179e"
             ],
             [
              0.4444444444444444,
              "#bd3786"
             ],
             [
              0.5555555555555556,
              "#d8576b"
             ],
             [
              0.6666666666666666,
              "#ed7953"
             ],
             [
              0.7777777777777778,
              "#fb9f3a"
             ],
             [
              0.8888888888888888,
              "#fdca26"
             ],
             [
              1,
              "#f0f921"
             ]
            ],
            "type": "surface"
           }
          ],
          "table": [
           {
            "cells": {
             "fill": {
              "color": "#EBF0F8"
             },
             "line": {
              "color": "white"
             }
            },
            "header": {
             "fill": {
              "color": "#C8D4E3"
             },
             "line": {
              "color": "white"
             }
            },
            "type": "table"
           }
          ]
         },
         "layout": {
          "annotationdefaults": {
           "arrowcolor": "#2a3f5f",
           "arrowhead": 0,
           "arrowwidth": 1
          },
          "autotypenumbers": "strict",
          "coloraxis": {
           "colorbar": {
            "outlinewidth": 0,
            "ticks": ""
           }
          },
          "colorscale": {
           "diverging": [
            [
             0,
             "#8e0152"
            ],
            [
             0.1,
             "#c51b7d"
            ],
            [
             0.2,
             "#de77ae"
            ],
            [
             0.3,
             "#f1b6da"
            ],
            [
             0.4,
             "#fde0ef"
            ],
            [
             0.5,
             "#f7f7f7"
            ],
            [
             0.6,
             "#e6f5d0"
            ],
            [
             0.7,
             "#b8e186"
            ],
            [
             0.8,
             "#7fbc41"
            ],
            [
             0.9,
             "#4d9221"
            ],
            [
             1,
             "#276419"
            ]
           ],
           "sequential": [
            [
             0,
             "#0d0887"
            ],
            [
             0.1111111111111111,
             "#46039f"
            ],
            [
             0.2222222222222222,
             "#7201a8"
            ],
            [
             0.3333333333333333,
             "#9c179e"
            ],
            [
             0.4444444444444444,
             "#bd3786"
            ],
            [
             0.5555555555555556,
             "#d8576b"
            ],
            [
             0.6666666666666666,
             "#ed7953"
            ],
            [
             0.7777777777777778,
             "#fb9f3a"
            ],
            [
             0.8888888888888888,
             "#fdca26"
            ],
            [
             1,
             "#f0f921"
            ]
           ],
           "sequentialminus": [
            [
             0,
             "#0d0887"
            ],
            [
             0.1111111111111111,
             "#46039f"
            ],
            [
             0.2222222222222222,
             "#7201a8"
            ],
            [
             0.3333333333333333,
             "#9c179e"
            ],
            [
             0.4444444444444444,
             "#bd3786"
            ],
            [
             0.5555555555555556,
             "#d8576b"
            ],
            [
             0.6666666666666666,
             "#ed7953"
            ],
            [
             0.7777777777777778,
             "#fb9f3a"
            ],
            [
             0.8888888888888888,
             "#fdca26"
            ],
            [
             1,
             "#f0f921"
            ]
           ]
          },
          "colorway": [
           "#636efa",
           "#EF553B",
           "#00cc96",
           "#ab63fa",
           "#FFA15A",
           "#19d3f3",
           "#FF6692",
           "#B6E880",
           "#FF97FF",
           "#FECB52"
          ],
          "font": {
           "color": "#2a3f5f"
          },
          "geo": {
           "bgcolor": "white",
           "lakecolor": "white",
           "landcolor": "#E5ECF6",
           "showlakes": true,
           "showland": true,
           "subunitcolor": "white"
          },
          "hoverlabel": {
           "align": "left"
          },
          "hovermode": "closest",
          "mapbox": {
           "style": "light"
          },
          "paper_bgcolor": "white",
          "plot_bgcolor": "#E5ECF6",
          "polar": {
           "angularaxis": {
            "gridcolor": "white",
            "linecolor": "white",
            "ticks": ""
           },
           "bgcolor": "#E5ECF6",
           "radialaxis": {
            "gridcolor": "white",
            "linecolor": "white",
            "ticks": ""
           }
          },
          "scene": {
           "xaxis": {
            "backgroundcolor": "#E5ECF6",
            "gridcolor": "white",
            "gridwidth": 2,
            "linecolor": "white",
            "showbackground": true,
            "ticks": "",
            "zerolinecolor": "white"
           },
           "yaxis": {
            "backgroundcolor": "#E5ECF6",
            "gridcolor": "white",
            "gridwidth": 2,
            "linecolor": "white",
            "showbackground": true,
            "ticks": "",
            "zerolinecolor": "white"
           },
           "zaxis": {
            "backgroundcolor": "#E5ECF6",
            "gridcolor": "white",
            "gridwidth": 2,
            "linecolor": "white",
            "showbackground": true,
            "ticks": "",
            "zerolinecolor": "white"
           }
          },
          "shapedefaults": {
           "line": {
            "color": "#2a3f5f"
           }
          },
          "ternary": {
           "aaxis": {
            "gridcolor": "white",
            "linecolor": "white",
            "ticks": ""
           },
           "baxis": {
            "gridcolor": "white",
            "linecolor": "white",
            "ticks": ""
           },
           "bgcolor": "#E5ECF6",
           "caxis": {
            "gridcolor": "white",
            "linecolor": "white",
            "ticks": ""
           }
          },
          "title": {
           "x": 0.05
          },
          "xaxis": {
           "automargin": true,
           "gridcolor": "white",
           "linecolor": "white",
           "ticks": "",
           "title": {
            "standoff": 15
           },
           "zerolinecolor": "white",
           "zerolinewidth": 2
          },
          "yaxis": {
           "automargin": true,
           "gridcolor": "white",
           "linecolor": "white",
           "ticks": "",
           "title": {
            "standoff": 15
           },
           "zerolinecolor": "white",
           "zerolinewidth": 2
          }
         }
        },
        "title": {
         "text": "Palm Oil Production by Country per Decade"
        },
        "updatemenus": [
         {
          "buttons": [
           {
            "args": [
             null,
             {
              "frame": {
               "duration": 500,
               "redraw": true
              },
              "fromcurrent": true,
              "mode": "immediate",
              "transition": {
               "duration": 500,
               "easing": "linear"
              }
             }
            ],
            "label": "&#9654;",
            "method": "animate"
           },
           {
            "args": [
             [
              null
             ],
             {
              "frame": {
               "duration": 0,
               "redraw": true
              },
              "fromcurrent": true,
              "mode": "immediate",
              "transition": {
               "duration": 0,
               "easing": "linear"
              }
             }
            ],
            "label": "&#9724;",
            "method": "animate"
           }
          ],
          "direction": "left",
          "pad": {
           "r": 10,
           "t": 70
          },
          "showactive": false,
          "type": "buttons",
          "x": 0.1,
          "xanchor": "right",
          "y": 0,
          "yanchor": "top"
         }
        ],
        "width": 1200
       }
      }
     },
     "metadata": {},
     "output_type": "display_data"
    }
   ],
   "source": [
    "import pandas as pd\n",
    "import plotly.express as px\n",
    "\n",
    "# Load the data from the provided CSV file\n",
    "file_path = '../Datasets/palm-oil-production.csv'\n",
    "data = pd.read_csv(file_path)\n",
    "\n",
    "# Create a new column for the decade\n",
    "data['Decade'] = (data['Year'] // 10) * 10\n",
    "\n",
    "# Aggregate data to get the total production for each country per decade\n",
    "total_production_by_decade = data.groupby(['Entity', 'Decade'])['Production'].sum().reset_index()\n",
    "\n",
    "# Sort the data by Decade to ensure correct order in the animation\n",
    "total_production_by_decade = total_production_by_decade.sort_values(by='Decade')\n",
    "\n",
    "# Custom color scale with values from 0 to 350 million\n",
    "color_scale = [\n",
    "    (0.0, \"rgb(165,0,38)\"),\n",
    "    (1.0/7.0, \"rgb(215,48,39)\"),\n",
    "    (2.0/7.0, \"rgb(244,109,67)\"),\n",
    "    (3.0/7.0, \"rgb(253,174,97)\"),\n",
    "    (4.0/7.0, \"rgb(254,224,144)\"),\n",
    "    (5.0/7.0, \"rgb(224,243,248)\"),\n",
    "    (6.0/7.0, \"rgb(171,217,233)\"),\n",
    "    (1.0, \"rgb(49,54,149)\")\n",
    "]\n",
    "\n",
    "# Create a choropleth map using Plotly with animation\n",
    "fig = px.choropleth(\n",
    "    total_production_by_decade,\n",
    "    locations=\"Entity\",\n",
    "    locationmode=\"country names\",\n",
    "    color=\"Production\",\n",
    "    hover_name=\"Entity\",\n",
    "    animation_frame=\"Decade\",\n",
    "    color_continuous_scale=color_scale,\n",
    "    range_color=(0, 350e6),\n",
    "    title=\"Palm Oil Production by Country per Decade\"\n",
    ")\n",
    "\n",
    "# Update the layout to focus on Southeast Asia\n",
    "fig.update_geos(\n",
    "    projection_scale=4,  # This controls the zoom level\n",
    "    center={\"lat\": 2.5, \"lon\": 115},  # Center the map roughly around Indonesia/Malaysia\n",
    "    visible=False  # Hide the frame\n",
    ")\n",
    "\n",
    "fig.update_layout(\n",
    "    width=1200,\n",
    "    height=800\n",
    ")\n",
    "\n",
    "# Show the map\n",
    "fig.show()"
   ]
  },
  {
   "cell_type": "code",
   "execution_count": 257,
   "metadata": {
    "tags": [
     "hide-input"
    ]
   },
   "outputs": [
    {
     "data": {
      "application/vnd.plotly.v1+json": {
       "config": {
        "plotlyServerURL": "https://plot.ly"
       },
       "data": [
        {
         "mode": "lines",
         "name": "Indonesia",
         "type": "scatter",
         "x": [
          2000,
          2001,
          2002,
          2003,
          2004,
          2005,
          2006,
          2007,
          2008,
          2009,
          2010,
          2011,
          2012,
          2013,
          2014,
          2015,
          2016,
          2017,
          2018,
          2019,
          2020,
          2021,
          2022,
          2023
         ],
         "y": [
          8300,
          9200,
          10300,
          11970,
          13560,
          15560,
          16600,
          18000,
          20500,
          22000,
          23600,
          26200,
          28500,
          30500,
          33000,
          32000,
          36000,
          39500,
          41500,
          42500,
          43500,
          42000,
          46500,
          47000
         ]
        },
        {
         "mode": "lines",
         "name": "Malaysia",
         "type": "scatter",
         "x": [
          2000,
          2001,
          2002,
          2003,
          2004,
          2005,
          2006,
          2007,
          2008,
          2009,
          2010,
          2011,
          2012,
          2013,
          2014,
          2015,
          2016,
          2017,
          2018,
          2019,
          2020,
          2021,
          2022,
          2023
         ],
         "y": [
          11937,
          11858,
          13180,
          13420,
          15194,
          15485,
          15290,
          17567,
          17259,
          17763,
          18211,
          18202,
          19321,
          20161,
          19879,
          17700,
          18858,
          19683,
          20800,
          19255,
          17854,
          18152,
          18387,
          19000
         ]
        },
        {
         "mode": "lines",
         "name": "Total Production",
         "type": "scatter",
         "x": [
          2000,
          2001,
          2002,
          2003,
          2004,
          2005,
          2006,
          2007,
          2008,
          2009,
          2010,
          2011,
          2012,
          2013,
          2014,
          2015,
          2016,
          2017,
          2018,
          2019,
          2020,
          2021,
          2022,
          2023
         ],
         "y": [
          20237,
          21058,
          23480,
          25390,
          28754,
          31045,
          31890,
          35567,
          37759,
          39763,
          41811,
          44402,
          47821,
          50661,
          52879,
          49700,
          54858,
          59183,
          62300,
          61755,
          61354,
          60152,
          64887,
          66000
         ]
        }
       ],
       "layout": {
        "legend": {
         "orientation": "h",
         "x": 0.1,
         "y": 1.1
        },
        "template": {
         "data": {
          "bar": [
           {
            "error_x": {
             "color": "#2a3f5f"
            },
            "error_y": {
             "color": "#2a3f5f"
            },
            "marker": {
             "line": {
              "color": "#E5ECF6",
              "width": 0.5
             },
             "pattern": {
              "fillmode": "overlay",
              "size": 10,
              "solidity": 0.2
             }
            },
            "type": "bar"
           }
          ],
          "barpolar": [
           {
            "marker": {
             "line": {
              "color": "#E5ECF6",
              "width": 0.5
             },
             "pattern": {
              "fillmode": "overlay",
              "size": 10,
              "solidity": 0.2
             }
            },
            "type": "barpolar"
           }
          ],
          "carpet": [
           {
            "aaxis": {
             "endlinecolor": "#2a3f5f",
             "gridcolor": "white",
             "linecolor": "white",
             "minorgridcolor": "white",
             "startlinecolor": "#2a3f5f"
            },
            "baxis": {
             "endlinecolor": "#2a3f5f",
             "gridcolor": "white",
             "linecolor": "white",
             "minorgridcolor": "white",
             "startlinecolor": "#2a3f5f"
            },
            "type": "carpet"
           }
          ],
          "choropleth": [
           {
            "colorbar": {
             "outlinewidth": 0,
             "ticks": ""
            },
            "type": "choropleth"
           }
          ],
          "contour": [
           {
            "colorbar": {
             "outlinewidth": 0,
             "ticks": ""
            },
            "colorscale": [
             [
              0,
              "#0d0887"
             ],
             [
              0.1111111111111111,
              "#46039f"
             ],
             [
              0.2222222222222222,
              "#7201a8"
             ],
             [
              0.3333333333333333,
              "#9c179e"
             ],
             [
              0.4444444444444444,
              "#bd3786"
             ],
             [
              0.5555555555555556,
              "#d8576b"
             ],
             [
              0.6666666666666666,
              "#ed7953"
             ],
             [
              0.7777777777777778,
              "#fb9f3a"
             ],
             [
              0.8888888888888888,
              "#fdca26"
             ],
             [
              1,
              "#f0f921"
             ]
            ],
            "type": "contour"
           }
          ],
          "contourcarpet": [
           {
            "colorbar": {
             "outlinewidth": 0,
             "ticks": ""
            },
            "type": "contourcarpet"
           }
          ],
          "heatmap": [
           {
            "colorbar": {
             "outlinewidth": 0,
             "ticks": ""
            },
            "colorscale": [
             [
              0,
              "#0d0887"
             ],
             [
              0.1111111111111111,
              "#46039f"
             ],
             [
              0.2222222222222222,
              "#7201a8"
             ],
             [
              0.3333333333333333,
              "#9c179e"
             ],
             [
              0.4444444444444444,
              "#bd3786"
             ],
             [
              0.5555555555555556,
              "#d8576b"
             ],
             [
              0.6666666666666666,
              "#ed7953"
             ],
             [
              0.7777777777777778,
              "#fb9f3a"
             ],
             [
              0.8888888888888888,
              "#fdca26"
             ],
             [
              1,
              "#f0f921"
             ]
            ],
            "type": "heatmap"
           }
          ],
          "heatmapgl": [
           {
            "colorbar": {
             "outlinewidth": 0,
             "ticks": ""
            },
            "colorscale": [
             [
              0,
              "#0d0887"
             ],
             [
              0.1111111111111111,
              "#46039f"
             ],
             [
              0.2222222222222222,
              "#7201a8"
             ],
             [
              0.3333333333333333,
              "#9c179e"
             ],
             [
              0.4444444444444444,
              "#bd3786"
             ],
             [
              0.5555555555555556,
              "#d8576b"
             ],
             [
              0.6666666666666666,
              "#ed7953"
             ],
             [
              0.7777777777777778,
              "#fb9f3a"
             ],
             [
              0.8888888888888888,
              "#fdca26"
             ],
             [
              1,
              "#f0f921"
             ]
            ],
            "type": "heatmapgl"
           }
          ],
          "histogram": [
           {
            "marker": {
             "pattern": {
              "fillmode": "overlay",
              "size": 10,
              "solidity": 0.2
             }
            },
            "type": "histogram"
           }
          ],
          "histogram2d": [
           {
            "colorbar": {
             "outlinewidth": 0,
             "ticks": ""
            },
            "colorscale": [
             [
              0,
              "#0d0887"
             ],
             [
              0.1111111111111111,
              "#46039f"
             ],
             [
              0.2222222222222222,
              "#7201a8"
             ],
             [
              0.3333333333333333,
              "#9c179e"
             ],
             [
              0.4444444444444444,
              "#bd3786"
             ],
             [
              0.5555555555555556,
              "#d8576b"
             ],
             [
              0.6666666666666666,
              "#ed7953"
             ],
             [
              0.7777777777777778,
              "#fb9f3a"
             ],
             [
              0.8888888888888888,
              "#fdca26"
             ],
             [
              1,
              "#f0f921"
             ]
            ],
            "type": "histogram2d"
           }
          ],
          "histogram2dcontour": [
           {
            "colorbar": {
             "outlinewidth": 0,
             "ticks": ""
            },
            "colorscale": [
             [
              0,
              "#0d0887"
             ],
             [
              0.1111111111111111,
              "#46039f"
             ],
             [
              0.2222222222222222,
              "#7201a8"
             ],
             [
              0.3333333333333333,
              "#9c179e"
             ],
             [
              0.4444444444444444,
              "#bd3786"
             ],
             [
              0.5555555555555556,
              "#d8576b"
             ],
             [
              0.6666666666666666,
              "#ed7953"
             ],
             [
              0.7777777777777778,
              "#fb9f3a"
             ],
             [
              0.8888888888888888,
              "#fdca26"
             ],
             [
              1,
              "#f0f921"
             ]
            ],
            "type": "histogram2dcontour"
           }
          ],
          "mesh3d": [
           {
            "colorbar": {
             "outlinewidth": 0,
             "ticks": ""
            },
            "type": "mesh3d"
           }
          ],
          "parcoords": [
           {
            "line": {
             "colorbar": {
              "outlinewidth": 0,
              "ticks": ""
             }
            },
            "type": "parcoords"
           }
          ],
          "pie": [
           {
            "automargin": true,
            "type": "pie"
           }
          ],
          "scatter": [
           {
            "fillpattern": {
             "fillmode": "overlay",
             "size": 10,
             "solidity": 0.2
            },
            "type": "scatter"
           }
          ],
          "scatter3d": [
           {
            "line": {
             "colorbar": {
              "outlinewidth": 0,
              "ticks": ""
             }
            },
            "marker": {
             "colorbar": {
              "outlinewidth": 0,
              "ticks": ""
             }
            },
            "type": "scatter3d"
           }
          ],
          "scattercarpet": [
           {
            "marker": {
             "colorbar": {
              "outlinewidth": 0,
              "ticks": ""
             }
            },
            "type": "scattercarpet"
           }
          ],
          "scattergeo": [
           {
            "marker": {
             "colorbar": {
              "outlinewidth": 0,
              "ticks": ""
             }
            },
            "type": "scattergeo"
           }
          ],
          "scattergl": [
           {
            "marker": {
             "colorbar": {
              "outlinewidth": 0,
              "ticks": ""
             }
            },
            "type": "scattergl"
           }
          ],
          "scattermapbox": [
           {
            "marker": {
             "colorbar": {
              "outlinewidth": 0,
              "ticks": ""
             }
            },
            "type": "scattermapbox"
           }
          ],
          "scatterpolar": [
           {
            "marker": {
             "colorbar": {
              "outlinewidth": 0,
              "ticks": ""
             }
            },
            "type": "scatterpolar"
           }
          ],
          "scatterpolargl": [
           {
            "marker": {
             "colorbar": {
              "outlinewidth": 0,
              "ticks": ""
             }
            },
            "type": "scatterpolargl"
           }
          ],
          "scatterternary": [
           {
            "marker": {
             "colorbar": {
              "outlinewidth": 0,
              "ticks": ""
             }
            },
            "type": "scatterternary"
           }
          ],
          "surface": [
           {
            "colorbar": {
             "outlinewidth": 0,
             "ticks": ""
            },
            "colorscale": [
             [
              0,
              "#0d0887"
             ],
             [
              0.1111111111111111,
              "#46039f"
             ],
             [
              0.2222222222222222,
              "#7201a8"
             ],
             [
              0.3333333333333333,
              "#9c179e"
             ],
             [
              0.4444444444444444,
              "#bd3786"
             ],
             [
              0.5555555555555556,
              "#d8576b"
             ],
             [
              0.6666666666666666,
              "#ed7953"
             ],
             [
              0.7777777777777778,
              "#fb9f3a"
             ],
             [
              0.8888888888888888,
              "#fdca26"
             ],
             [
              1,
              "#f0f921"
             ]
            ],
            "type": "surface"
           }
          ],
          "table": [
           {
            "cells": {
             "fill": {
              "color": "#EBF0F8"
             },
             "line": {
              "color": "white"
             }
            },
            "header": {
             "fill": {
              "color": "#C8D4E3"
             },
             "line": {
              "color": "white"
             }
            },
            "type": "table"
           }
          ]
         },
         "layout": {
          "annotationdefaults": {
           "arrowcolor": "#2a3f5f",
           "arrowhead": 0,
           "arrowwidth": 1
          },
          "autotypenumbers": "strict",
          "coloraxis": {
           "colorbar": {
            "outlinewidth": 0,
            "ticks": ""
           }
          },
          "colorscale": {
           "diverging": [
            [
             0,
             "#8e0152"
            ],
            [
             0.1,
             "#c51b7d"
            ],
            [
             0.2,
             "#de77ae"
            ],
            [
             0.3,
             "#f1b6da"
            ],
            [
             0.4,
             "#fde0ef"
            ],
            [
             0.5,
             "#f7f7f7"
            ],
            [
             0.6,
             "#e6f5d0"
            ],
            [
             0.7,
             "#b8e186"
            ],
            [
             0.8,
             "#7fbc41"
            ],
            [
             0.9,
             "#4d9221"
            ],
            [
             1,
             "#276419"
            ]
           ],
           "sequential": [
            [
             0,
             "#0d0887"
            ],
            [
             0.1111111111111111,
             "#46039f"
            ],
            [
             0.2222222222222222,
             "#7201a8"
            ],
            [
             0.3333333333333333,
             "#9c179e"
            ],
            [
             0.4444444444444444,
             "#bd3786"
            ],
            [
             0.5555555555555556,
             "#d8576b"
            ],
            [
             0.6666666666666666,
             "#ed7953"
            ],
            [
             0.7777777777777778,
             "#fb9f3a"
            ],
            [
             0.8888888888888888,
             "#fdca26"
            ],
            [
             1,
             "#f0f921"
            ]
           ],
           "sequentialminus": [
            [
             0,
             "#0d0887"
            ],
            [
             0.1111111111111111,
             "#46039f"
            ],
            [
             0.2222222222222222,
             "#7201a8"
            ],
            [
             0.3333333333333333,
             "#9c179e"
            ],
            [
             0.4444444444444444,
             "#bd3786"
            ],
            [
             0.5555555555555556,
             "#d8576b"
            ],
            [
             0.6666666666666666,
             "#ed7953"
            ],
            [
             0.7777777777777778,
             "#fb9f3a"
            ],
            [
             0.8888888888888888,
             "#fdca26"
            ],
            [
             1,
             "#f0f921"
            ]
           ]
          },
          "colorway": [
           "#636efa",
           "#EF553B",
           "#00cc96",
           "#ab63fa",
           "#FFA15A",
           "#19d3f3",
           "#FF6692",
           "#B6E880",
           "#FF97FF",
           "#FECB52"
          ],
          "font": {
           "color": "#2a3f5f"
          },
          "geo": {
           "bgcolor": "white",
           "lakecolor": "white",
           "landcolor": "#E5ECF6",
           "showlakes": true,
           "showland": true,
           "subunitcolor": "white"
          },
          "hoverlabel": {
           "align": "left"
          },
          "hovermode": "closest",
          "mapbox": {
           "style": "light"
          },
          "paper_bgcolor": "white",
          "plot_bgcolor": "#E5ECF6",
          "polar": {
           "angularaxis": {
            "gridcolor": "white",
            "linecolor": "white",
            "ticks": ""
           },
           "bgcolor": "#E5ECF6",
           "radialaxis": {
            "gridcolor": "white",
            "linecolor": "white",
            "ticks": ""
           }
          },
          "scene": {
           "xaxis": {
            "backgroundcolor": "#E5ECF6",
            "gridcolor": "white",
            "gridwidth": 2,
            "linecolor": "white",
            "showbackground": true,
            "ticks": "",
            "zerolinecolor": "white"
           },
           "yaxis": {
            "backgroundcolor": "#E5ECF6",
            "gridcolor": "white",
            "gridwidth": 2,
            "linecolor": "white",
            "showbackground": true,
            "ticks": "",
            "zerolinecolor": "white"
           },
           "zaxis": {
            "backgroundcolor": "#E5ECF6",
            "gridcolor": "white",
            "gridwidth": 2,
            "linecolor": "white",
            "showbackground": true,
            "ticks": "",
            "zerolinecolor": "white"
           }
          },
          "shapedefaults": {
           "line": {
            "color": "#2a3f5f"
           }
          },
          "ternary": {
           "aaxis": {
            "gridcolor": "white",
            "linecolor": "white",
            "ticks": ""
           },
           "baxis": {
            "gridcolor": "white",
            "linecolor": "white",
            "ticks": ""
           },
           "bgcolor": "#E5ECF6",
           "caxis": {
            "gridcolor": "white",
            "linecolor": "white",
            "ticks": ""
           }
          },
          "title": {
           "x": 0.05
          },
          "xaxis": {
           "automargin": true,
           "gridcolor": "white",
           "linecolor": "white",
           "ticks": "",
           "title": {
            "standoff": 15
           },
           "zerolinecolor": "white",
           "zerolinewidth": 2
          },
          "yaxis": {
           "automargin": true,
           "gridcolor": "white",
           "linecolor": "white",
           "ticks": "",
           "title": {
            "standoff": 15
           },
           "zerolinecolor": "white",
           "zerolinewidth": 2
          }
         }
        },
        "title": {
         "text": "Palm Oil Production in Indonesia and Malaysia (2000-2023)"
        },
        "xaxis": {
         "title": {
          "text": "Year"
         }
        },
        "yaxis": {
         "title": {
          "text": "Production"
         }
        }
       }
      }
     },
     "metadata": {},
     "output_type": "display_data"
    }
   ],
   "source": [
    "import pandas as pd\n",
    "import plotly.graph_objs as go\n",
    "\n",
    "# Load palm oil production data\n",
    "palm = pd.read_csv('../Datasets/Oils/archive/cleaned/palm.csv')\n",
    "\n",
    "# Filter data for Indonesia and Malaysia and years >= 2000\n",
    "df_Indo = palm[(palm['Country'] == 'Indonesia') & (palm['Year'] >= 2000)]\n",
    "df_Malaysia = palm[(palm['Country'] == 'Malaysia') & (palm['Year'] >= 2000)]\n",
    "\n",
    "# Extract production values and years\n",
    "xi = df_Indo['Production'].values\n",
    "xm = df_Malaysia['Production'].values\n",
    "years = df_Indo['Year'].values  # Both Indo and Malaysia have the same years\n",
    "\n",
    "# Calculate total production\n",
    "total_production = xi + xm\n",
    "\n",
    "# Create traces for Plotly\n",
    "trace_indo = go.Scatter(x=years, y=xi, mode='lines', name='Indonesia')\n",
    "trace_malaysia = go.Scatter(x=years, y=xm, mode='lines', name='Malaysia')\n",
    "trace_total = go.Scatter(x=years, y=total_production, mode='lines', name='Total Production')\n",
    "\n",
    "# Layout\n",
    "layout = go.Layout(\n",
    "    title='Palm Oil Production in Indonesia and Malaysia (2000-2023)',\n",
    "    xaxis=dict(title='Year'),\n",
    "    yaxis=dict(title='Production'),\n",
    "    legend=dict(x=0.1, y=1.1, orientation='h')\n",
    ")\n",
    "\n",
    "# Create figure\n",
    "fig = go.Figure(data=[trace_indo, trace_malaysia, trace_total], layout=layout)\n",
    "\n",
    "# Show plot\n",
    "fig.show()\n"
   ]
  },
  {
   "cell_type": "markdown",
   "metadata": {},
   "source": [
    "At the same time we can see, as shown in the next graph, that the total tree loss has also been steadily increasing since 2001."
   ]
  },
  {
   "cell_type": "code",
   "execution_count": 258,
   "metadata": {
    "tags": [
     "hide-input"
    ]
   },
   "outputs": [
    {
     "data": {
      "application/vnd.plotly.v1+json": {
       "config": {
        "plotlyServerURL": "https://plot.ly"
       },
       "data": [
        {
         "mode": "lines",
         "name": "Sarawak",
         "type": "scatter",
         "x": [
          2001,
          2002,
          2003,
          2004,
          2005,
          2006,
          2007,
          2008,
          2009,
          2010,
          2011,
          2012,
          2013,
          2014,
          2015,
          2016,
          2017,
          2018,
          2019,
          2020,
          2021,
          2022
         ],
         "y": [
          103529,
          178335,
          252827,
          362943,
          485681,
          600348,
          776456,
          940403,
          1247816,
          1384904,
          1576972,
          1848951,
          1982453,
          2220883,
          2384404,
          2574318,
          2751905,
          2914626,
          3043397,
          3126221,
          3208423,
          3295772
         ]
        },
        {
         "mode": "lines",
         "name": "Sabah",
         "type": "scatter",
         "x": [
          2001,
          2002,
          2003,
          2004,
          2005,
          2006,
          2007,
          2008,
          2009,
          2010,
          2011,
          2012,
          2013,
          2014,
          2015,
          2016,
          2017,
          2018,
          2019,
          2020,
          2021,
          2022
         ],
         "y": [
          64055,
          124452,
          157777,
          245073,
          318272,
          399891,
          462556,
          547171,
          639540,
          743731,
          812493,
          918683,
          987437,
          1133894,
          1247842,
          1369003,
          1463592,
          1564770,
          1666502,
          1746346,
          1824212,
          1900753
         ]
        },
        {
         "mode": "lines",
         "name": "East Malaysia",
         "type": "scatter",
         "x": [
          2001,
          2002,
          2003,
          2004,
          2005,
          2006,
          2007,
          2008,
          2009,
          2010,
          2011,
          2012,
          2013,
          2014,
          2015,
          2016,
          2017,
          2018,
          2019,
          2020,
          2021,
          2022
         ],
         "y": [
          167584,
          302787,
          410604,
          608016,
          803953,
          1000239,
          1239012,
          1487574,
          1887356,
          2128635,
          2389465,
          2767634,
          2969890,
          3354777,
          3632246,
          3943321,
          4215497,
          4479396,
          4709899,
          4872567,
          5032635,
          5196525
         ]
        },
        {
         "mode": "lines",
         "name": "West Kalimantan",
         "type": "scatter",
         "x": [
          2001,
          2002,
          2003,
          2004,
          2005,
          2006,
          2007,
          2008,
          2009,
          2010,
          2011,
          2012,
          2013,
          2014,
          2015,
          2016,
          2017,
          2018,
          2019,
          2020,
          2021,
          2022
         ],
         "y": [
          78629,
          176274,
          232459,
          346908,
          451885,
          583497,
          716655,
          920906,
          1210741,
          1363893,
          1627996,
          1943892,
          2150143,
          2454859,
          2732644,
          3033510,
          3226361,
          3398032,
          3551257,
          3681276,
          3799636,
          3947949
         ]
        },
        {
         "mode": "lines",
         "name": "Central Kalimantan",
         "type": "scatter",
         "x": [
          2001,
          2002,
          2003,
          2004,
          2005,
          2006,
          2007,
          2008,
          2009,
          2010,
          2011,
          2012,
          2013,
          2014,
          2015,
          2016,
          2017,
          2018,
          2019,
          2020,
          2021,
          2022
         ],
         "y": [
          64894,
          169183,
          298904,
          471544,
          631755,
          856324,
          1149028,
          1354902,
          1550141,
          1692855,
          1832983,
          2054981,
          2164620,
          2371973,
          2596453,
          3104713,
          3215398,
          3333244,
          3464714,
          3561717,
          3621232,
          3702000
         ]
        },
        {
         "mode": "lines",
         "name": "East Kalimantan",
         "type": "scatter",
         "x": [
          2001,
          2002,
          2003,
          2004,
          2005,
          2006,
          2007,
          2008,
          2009,
          2010,
          2011,
          2012,
          2013,
          2014,
          2015,
          2016,
          2017,
          2018,
          2019,
          2020,
          2021,
          2022
         ],
         "y": [
          74179,
          156042,
          210115,
          319037,
          410705,
          564687,
          719527,
          865942,
          1130807,
          1268718,
          1493892,
          1813746,
          2001348,
          2286048,
          2531947,
          2913673,
          3093543,
          3290553,
          3462664,
          3587652,
          3686154,
          3771626
         ]
        },
        {
         "mode": "lines",
         "name": "South Kalimantan",
         "type": "scatter",
         "x": [
          2001,
          2002,
          2003,
          2004,
          2005,
          2006,
          2007,
          2008,
          2009,
          2010,
          2011,
          2012,
          2013,
          2014,
          2015,
          2016,
          2017,
          2018,
          2019,
          2020,
          2021,
          2022
         ],
         "y": [
          19816,
          44687,
          63281,
          105915,
          131482,
          186002,
          215817,
          234673,
          295746,
          322280,
          371433,
          440943,
          482621,
          559267,
          640517,
          713442,
          756900,
          801721,
          854954,
          879798,
          910308,
          934752
         ]
        },
        {
         "mode": "lines",
         "name": "Total for Kalimantan",
         "type": "scatter",
         "x": [
          2001,
          2002,
          2003,
          2004,
          2005,
          2006,
          2007,
          2008,
          2009,
          2010,
          2011,
          2012,
          2013,
          2014,
          2015,
          2016,
          2017,
          2018,
          2019,
          2020,
          2021,
          2022
         ],
         "y": [
          237518,
          546186,
          804759,
          1243404,
          1625827,
          2190510,
          2801027,
          3376423,
          4187435,
          4647746,
          5326304,
          6253562,
          6798732,
          7672147,
          8501561,
          9765338,
          10292202,
          10823550,
          11333589,
          11710443,
          12017330,
          12356327
         ]
        }
       ],
       "layout": {
        "hovermode": "x unified",
        "legend": {
         "title": {
          "text": "Province"
         }
        },
        "template": {
         "data": {
          "bar": [
           {
            "error_x": {
             "color": "#2a3f5f"
            },
            "error_y": {
             "color": "#2a3f5f"
            },
            "marker": {
             "line": {
              "color": "white",
              "width": 0.5
             },
             "pattern": {
              "fillmode": "overlay",
              "size": 10,
              "solidity": 0.2
             }
            },
            "type": "bar"
           }
          ],
          "barpolar": [
           {
            "marker": {
             "line": {
              "color": "white",
              "width": 0.5
             },
             "pattern": {
              "fillmode": "overlay",
              "size": 10,
              "solidity": 0.2
             }
            },
            "type": "barpolar"
           }
          ],
          "carpet": [
           {
            "aaxis": {
             "endlinecolor": "#2a3f5f",
             "gridcolor": "#C8D4E3",
             "linecolor": "#C8D4E3",
             "minorgridcolor": "#C8D4E3",
             "startlinecolor": "#2a3f5f"
            },
            "baxis": {
             "endlinecolor": "#2a3f5f",
             "gridcolor": "#C8D4E3",
             "linecolor": "#C8D4E3",
             "minorgridcolor": "#C8D4E3",
             "startlinecolor": "#2a3f5f"
            },
            "type": "carpet"
           }
          ],
          "choropleth": [
           {
            "colorbar": {
             "outlinewidth": 0,
             "ticks": ""
            },
            "type": "choropleth"
           }
          ],
          "contour": [
           {
            "colorbar": {
             "outlinewidth": 0,
             "ticks": ""
            },
            "colorscale": [
             [
              0,
              "#0d0887"
             ],
             [
              0.1111111111111111,
              "#46039f"
             ],
             [
              0.2222222222222222,
              "#7201a8"
             ],
             [
              0.3333333333333333,
              "#9c179e"
             ],
             [
              0.4444444444444444,
              "#bd3786"
             ],
             [
              0.5555555555555556,
              "#d8576b"
             ],
             [
              0.6666666666666666,
              "#ed7953"
             ],
             [
              0.7777777777777778,
              "#fb9f3a"
             ],
             [
              0.8888888888888888,
              "#fdca26"
             ],
             [
              1,
              "#f0f921"
             ]
            ],
            "type": "contour"
           }
          ],
          "contourcarpet": [
           {
            "colorbar": {
             "outlinewidth": 0,
             "ticks": ""
            },
            "type": "contourcarpet"
           }
          ],
          "heatmap": [
           {
            "colorbar": {
             "outlinewidth": 0,
             "ticks": ""
            },
            "colorscale": [
             [
              0,
              "#0d0887"
             ],
             [
              0.1111111111111111,
              "#46039f"
             ],
             [
              0.2222222222222222,
              "#7201a8"
             ],
             [
              0.3333333333333333,
              "#9c179e"
             ],
             [
              0.4444444444444444,
              "#bd3786"
             ],
             [
              0.5555555555555556,
              "#d8576b"
             ],
             [
              0.6666666666666666,
              "#ed7953"
             ],
             [
              0.7777777777777778,
              "#fb9f3a"
             ],
             [
              0.8888888888888888,
              "#fdca26"
             ],
             [
              1,
              "#f0f921"
             ]
            ],
            "type": "heatmap"
           }
          ],
          "heatmapgl": [
           {
            "colorbar": {
             "outlinewidth": 0,
             "ticks": ""
            },
            "colorscale": [
             [
              0,
              "#0d0887"
             ],
             [
              0.1111111111111111,
              "#46039f"
             ],
             [
              0.2222222222222222,
              "#7201a8"
             ],
             [
              0.3333333333333333,
              "#9c179e"
             ],
             [
              0.4444444444444444,
              "#bd3786"
             ],
             [
              0.5555555555555556,
              "#d8576b"
             ],
             [
              0.6666666666666666,
              "#ed7953"
             ],
             [
              0.7777777777777778,
              "#fb9f3a"
             ],
             [
              0.8888888888888888,
              "#fdca26"
             ],
             [
              1,
              "#f0f921"
             ]
            ],
            "type": "heatmapgl"
           }
          ],
          "histogram": [
           {
            "marker": {
             "pattern": {
              "fillmode": "overlay",
              "size": 10,
              "solidity": 0.2
             }
            },
            "type": "histogram"
           }
          ],
          "histogram2d": [
           {
            "colorbar": {
             "outlinewidth": 0,
             "ticks": ""
            },
            "colorscale": [
             [
              0,
              "#0d0887"
             ],
             [
              0.1111111111111111,
              "#46039f"
             ],
             [
              0.2222222222222222,
              "#7201a8"
             ],
             [
              0.3333333333333333,
              "#9c179e"
             ],
             [
              0.4444444444444444,
              "#bd3786"
             ],
             [
              0.5555555555555556,
              "#d8576b"
             ],
             [
              0.6666666666666666,
              "#ed7953"
             ],
             [
              0.7777777777777778,
              "#fb9f3a"
             ],
             [
              0.8888888888888888,
              "#fdca26"
             ],
             [
              1,
              "#f0f921"
             ]
            ],
            "type": "histogram2d"
           }
          ],
          "histogram2dcontour": [
           {
            "colorbar": {
             "outlinewidth": 0,
             "ticks": ""
            },
            "colorscale": [
             [
              0,
              "#0d0887"
             ],
             [
              0.1111111111111111,
              "#46039f"
             ],
             [
              0.2222222222222222,
              "#7201a8"
             ],
             [
              0.3333333333333333,
              "#9c179e"
             ],
             [
              0.4444444444444444,
              "#bd3786"
             ],
             [
              0.5555555555555556,
              "#d8576b"
             ],
             [
              0.6666666666666666,
              "#ed7953"
             ],
             [
              0.7777777777777778,
              "#fb9f3a"
             ],
             [
              0.8888888888888888,
              "#fdca26"
             ],
             [
              1,
              "#f0f921"
             ]
            ],
            "type": "histogram2dcontour"
           }
          ],
          "mesh3d": [
           {
            "colorbar": {
             "outlinewidth": 0,
             "ticks": ""
            },
            "type": "mesh3d"
           }
          ],
          "parcoords": [
           {
            "line": {
             "colorbar": {
              "outlinewidth": 0,
              "ticks": ""
             }
            },
            "type": "parcoords"
           }
          ],
          "pie": [
           {
            "automargin": true,
            "type": "pie"
           }
          ],
          "scatter": [
           {
            "fillpattern": {
             "fillmode": "overlay",
             "size": 10,
             "solidity": 0.2
            },
            "type": "scatter"
           }
          ],
          "scatter3d": [
           {
            "line": {
             "colorbar": {
              "outlinewidth": 0,
              "ticks": ""
             }
            },
            "marker": {
             "colorbar": {
              "outlinewidth": 0,
              "ticks": ""
             }
            },
            "type": "scatter3d"
           }
          ],
          "scattercarpet": [
           {
            "marker": {
             "colorbar": {
              "outlinewidth": 0,
              "ticks": ""
             }
            },
            "type": "scattercarpet"
           }
          ],
          "scattergeo": [
           {
            "marker": {
             "colorbar": {
              "outlinewidth": 0,
              "ticks": ""
             }
            },
            "type": "scattergeo"
           }
          ],
          "scattergl": [
           {
            "marker": {
             "colorbar": {
              "outlinewidth": 0,
              "ticks": ""
             }
            },
            "type": "scattergl"
           }
          ],
          "scattermapbox": [
           {
            "marker": {
             "colorbar": {
              "outlinewidth": 0,
              "ticks": ""
             }
            },
            "type": "scattermapbox"
           }
          ],
          "scatterpolar": [
           {
            "marker": {
             "colorbar": {
              "outlinewidth": 0,
              "ticks": ""
             }
            },
            "type": "scatterpolar"
           }
          ],
          "scatterpolargl": [
           {
            "marker": {
             "colorbar": {
              "outlinewidth": 0,
              "ticks": ""
             }
            },
            "type": "scatterpolargl"
           }
          ],
          "scatterternary": [
           {
            "marker": {
             "colorbar": {
              "outlinewidth": 0,
              "ticks": ""
             }
            },
            "type": "scatterternary"
           }
          ],
          "surface": [
           {
            "colorbar": {
             "outlinewidth": 0,
             "ticks": ""
            },
            "colorscale": [
             [
              0,
              "#0d0887"
             ],
             [
              0.1111111111111111,
              "#46039f"
             ],
             [
              0.2222222222222222,
              "#7201a8"
             ],
             [
              0.3333333333333333,
              "#9c179e"
             ],
             [
              0.4444444444444444,
              "#bd3786"
             ],
             [
              0.5555555555555556,
              "#d8576b"
             ],
             [
              0.6666666666666666,
              "#ed7953"
             ],
             [
              0.7777777777777778,
              "#fb9f3a"
             ],
             [
              0.8888888888888888,
              "#fdca26"
             ],
             [
              1,
              "#f0f921"
             ]
            ],
            "type": "surface"
           }
          ],
          "table": [
           {
            "cells": {
             "fill": {
              "color": "#EBF0F8"
             },
             "line": {
              "color": "white"
             }
            },
            "header": {
             "fill": {
              "color": "#C8D4E3"
             },
             "line": {
              "color": "white"
             }
            },
            "type": "table"
           }
          ]
         },
         "layout": {
          "annotationdefaults": {
           "arrowcolor": "#2a3f5f",
           "arrowhead": 0,
           "arrowwidth": 1
          },
          "autotypenumbers": "strict",
          "coloraxis": {
           "colorbar": {
            "outlinewidth": 0,
            "ticks": ""
           }
          },
          "colorscale": {
           "diverging": [
            [
             0,
             "#8e0152"
            ],
            [
             0.1,
             "#c51b7d"
            ],
            [
             0.2,
             "#de77ae"
            ],
            [
             0.3,
             "#f1b6da"
            ],
            [
             0.4,
             "#fde0ef"
            ],
            [
             0.5,
             "#f7f7f7"
            ],
            [
             0.6,
             "#e6f5d0"
            ],
            [
             0.7,
             "#b8e186"
            ],
            [
             0.8,
             "#7fbc41"
            ],
            [
             0.9,
             "#4d9221"
            ],
            [
             1,
             "#276419"
            ]
           ],
           "sequential": [
            [
             0,
             "#0d0887"
            ],
            [
             0.1111111111111111,
             "#46039f"
            ],
            [
             0.2222222222222222,
             "#7201a8"
            ],
            [
             0.3333333333333333,
             "#9c179e"
            ],
            [
             0.4444444444444444,
             "#bd3786"
            ],
            [
             0.5555555555555556,
             "#d8576b"
            ],
            [
             0.6666666666666666,
             "#ed7953"
            ],
            [
             0.7777777777777778,
             "#fb9f3a"
            ],
            [
             0.8888888888888888,
             "#fdca26"
            ],
            [
             1,
             "#f0f921"
            ]
           ],
           "sequentialminus": [
            [
             0,
             "#0d0887"
            ],
            [
             0.1111111111111111,
             "#46039f"
            ],
            [
             0.2222222222222222,
             "#7201a8"
            ],
            [
             0.3333333333333333,
             "#9c179e"
            ],
            [
             0.4444444444444444,
             "#bd3786"
            ],
            [
             0.5555555555555556,
             "#d8576b"
            ],
            [
             0.6666666666666666,
             "#ed7953"
            ],
            [
             0.7777777777777778,
             "#fb9f3a"
            ],
            [
             0.8888888888888888,
             "#fdca26"
            ],
            [
             1,
             "#f0f921"
            ]
           ]
          },
          "colorway": [
           "#636efa",
           "#EF553B",
           "#00cc96",
           "#ab63fa",
           "#FFA15A",
           "#19d3f3",
           "#FF6692",
           "#B6E880",
           "#FF97FF",
           "#FECB52"
          ],
          "font": {
           "color": "#2a3f5f"
          },
          "geo": {
           "bgcolor": "white",
           "lakecolor": "white",
           "landcolor": "white",
           "showlakes": true,
           "showland": true,
           "subunitcolor": "#C8D4E3"
          },
          "hoverlabel": {
           "align": "left"
          },
          "hovermode": "closest",
          "mapbox": {
           "style": "light"
          },
          "paper_bgcolor": "white",
          "plot_bgcolor": "white",
          "polar": {
           "angularaxis": {
            "gridcolor": "#EBF0F8",
            "linecolor": "#EBF0F8",
            "ticks": ""
           },
           "bgcolor": "white",
           "radialaxis": {
            "gridcolor": "#EBF0F8",
            "linecolor": "#EBF0F8",
            "ticks": ""
           }
          },
          "scene": {
           "xaxis": {
            "backgroundcolor": "white",
            "gridcolor": "#DFE8F3",
            "gridwidth": 2,
            "linecolor": "#EBF0F8",
            "showbackground": true,
            "ticks": "",
            "zerolinecolor": "#EBF0F8"
           },
           "yaxis": {
            "backgroundcolor": "white",
            "gridcolor": "#DFE8F3",
            "gridwidth": 2,
            "linecolor": "#EBF0F8",
            "showbackground": true,
            "ticks": "",
            "zerolinecolor": "#EBF0F8"
           },
           "zaxis": {
            "backgroundcolor": "white",
            "gridcolor": "#DFE8F3",
            "gridwidth": 2,
            "linecolor": "#EBF0F8",
            "showbackground": true,
            "ticks": "",
            "zerolinecolor": "#EBF0F8"
           }
          },
          "shapedefaults": {
           "line": {
            "color": "#2a3f5f"
           }
          },
          "ternary": {
           "aaxis": {
            "gridcolor": "#DFE8F3",
            "linecolor": "#A2B1C6",
            "ticks": ""
           },
           "baxis": {
            "gridcolor": "#DFE8F3",
            "linecolor": "#A2B1C6",
            "ticks": ""
           },
           "bgcolor": "white",
           "caxis": {
            "gridcolor": "#DFE8F3",
            "linecolor": "#A2B1C6",
            "ticks": ""
           }
          },
          "title": {
           "x": 0.05
          },
          "xaxis": {
           "automargin": true,
           "gridcolor": "#EBF0F8",
           "linecolor": "#EBF0F8",
           "ticks": "",
           "title": {
            "standoff": 15
           },
           "zerolinecolor": "#EBF0F8",
           "zerolinewidth": 2
          },
          "yaxis": {
           "automargin": true,
           "gridcolor": "#EBF0F8",
           "linecolor": "#EBF0F8",
           "ticks": "",
           "title": {
            "standoff": 15
           },
           "zerolinecolor": "#EBF0F8",
           "zerolinewidth": 2
          }
         }
        },
        "title": {
         "text": "Cumulative tree cover loss on Borneo per country and province (2001-2022)"
        },
        "xaxis": {
         "title": {
          "text": "Year"
         }
        },
        "yaxis": {
         "title": {
          "text": "Cumulative Tree Cover Loss (ha)"
         }
        }
       }
      }
     },
     "metadata": {},
     "output_type": "display_data"
    }
   ],
   "source": [
    "import pandas as pd\n",
    "import plotly.graph_objs as go\n",
    "\n",
    "# Load the dataset\n",
    "df = pd.read_csv('../Datasets/Deforestation/Subnational 1 tree cover loss.csv')\n",
    "\n",
    "# Define the years to plot\n",
    "years = [f'tc_loss_ha_{year}' for year in range(2001, 2023)]\n",
    "\n",
    "# Mapping dictionary from Indonesian to English names for Kalimantan provinces\n",
    "province_mapping = {\n",
    "    'Kalimantan Barat': 'West Kalimantan',\n",
    "    'Kalimantan Tengah': 'Central Kalimantan',\n",
    "    'Kalimantan Timur': 'East Kalimantan',\n",
    "    'Kalimantan Selatan': 'South Kalimantan'\n",
    "}\n",
    "\n",
    "# Create an empty DataFrame to store totals\n",
    "totals_df = pd.DataFrame(columns=['year', 'cumulative_tc_loss_ha'])\n",
    "\n",
    "# Loop through each province\n",
    "for province_indo, province_eng in province_mapping.items():\n",
    "    # Filter the DataFrame for the current province and threshold == 0\n",
    "    province_df = df[(df['subnational1'] == province_indo) & (df['threshold'] == 0)]\n",
    "    \n",
    "    # Keep only relevant columns\n",
    "    columns_to_keep = ['subnational1'] + years\n",
    "    province_df = province_df[columns_to_keep]\n",
    "    \n",
    "    # Melt the DataFrame to long format\n",
    "    province_df_long = province_df.melt(id_vars='subnational1', var_name='year', value_name='tc_loss_ha')\n",
    "    \n",
    "    # Extract year from the column name and convert to integer\n",
    "    province_df_long['year'] = province_df_long['year'].str.extract(r'(\\d+)').astype(int)\n",
    "    \n",
    "    # Sort the DataFrame by year\n",
    "    province_df_long = province_df_long.sort_values(by='year')\n",
    "    \n",
    "    # Calculate cumulative tree loss\n",
    "    province_df_long['cumulative_tc_loss_ha'] = province_df_long['tc_loss_ha'].cumsum()\n",
    "    \n",
    "    # Append to totals_df\n",
    "    totals_df = pd.concat([totals_df, province_df_long[['year', 'cumulative_tc_loss_ha']]], ignore_index=True)\n",
    "\n",
    "# Calculate the total cumulative tree loss across all provinces\n",
    "totals_df = totals_df.groupby('year')['cumulative_tc_loss_ha'].sum().reset_index()\n",
    "\n",
    "# Initialize Figure using Plotly\n",
    "fig = go.Figure()\n",
    "\n",
    "# Plot cumulative tree cover loss for Sarawak\n",
    "sarawak_df = df[(df['subnational1'] == 'Sarawak') & (df['threshold'] == 0)]\n",
    "sarawak_df = sarawak_df[years]\n",
    "sarawak_df_long = sarawak_df.melt(var_name='year', value_name='tc_loss_ha')\n",
    "sarawak_df_long['year'] = sarawak_df_long['year'].str.extract(r'(\\d+)').astype(int)\n",
    "sarawak_df_long = sarawak_df_long.sort_values(by='year')\n",
    "sarawak_df_long['cumulative_tc_loss_ha'] = sarawak_df_long['tc_loss_ha'].cumsum()\n",
    "\n",
    "fig.add_trace(go.Scatter(x=sarawak_df_long['year'], \n",
    "                         y=sarawak_df_long['cumulative_tc_loss_ha'], \n",
    "                         mode='lines', \n",
    "                         name='Sarawak'))\n",
    "\n",
    "# Plot cumulative tree cover loss for Sabah\n",
    "sabah_df = df[(df['subnational1'] == 'Sabah') & (df['threshold'] == 0)]\n",
    "sabah_df = sabah_df[years]\n",
    "sabah_df_long = sabah_df.melt(var_name='year', value_name='tc_loss_ha')\n",
    "sabah_df_long['year'] = sabah_df_long['year'].str.extract(r'(\\d+)').astype(int)\n",
    "sabah_df_long = sabah_df_long.sort_values(by='year')\n",
    "sabah_df_long['cumulative_tc_loss_ha'] = sabah_df_long['tc_loss_ha'].cumsum()\n",
    "\n",
    "fig.add_trace(go.Scatter(x=sabah_df_long['year'], \n",
    "                         y=sabah_df_long['cumulative_tc_loss_ha'], \n",
    "                         mode='lines', \n",
    "                         name='Sabah'))\n",
    "\n",
    "# Combine Sarawak and Sabah into 'East Malaysia'\n",
    "east_malaysia_df = pd.DataFrame()\n",
    "east_malaysia_df['year'] = sarawak_df_long['year']\n",
    "east_malaysia_df['tc_loss_ha'] = sarawak_df_long['tc_loss_ha'] + sabah_df_long['tc_loss_ha']\n",
    "east_malaysia_df['cumulative_tc_loss_ha'] = sarawak_df_long['cumulative_tc_loss_ha'] + sabah_df_long['cumulative_tc_loss_ha']\n",
    "\n",
    "fig.add_trace(go.Scatter(x=east_malaysia_df['year'], \n",
    "                         y=east_malaysia_df['cumulative_tc_loss_ha'], \n",
    "                         mode='lines', \n",
    "                         name='East Malaysia'))\n",
    "\n",
    "# Plot cumulative tree cover loss for Kalimantan provinces\n",
    "for province_indo, province_eng in province_mapping.items():\n",
    "    # Filter the DataFrame for the current province and threshold == 0\n",
    "    province_df = df[(df['subnational1'] == province_indo) & (df['threshold'] == 0)]\n",
    "    \n",
    "    # Keep only relevant columns\n",
    "    province_df = province_df[years]\n",
    "    \n",
    "    # Melt the DataFrame to long format\n",
    "    province_df_long = province_df.melt(var_name='year', value_name='tc_loss_ha')\n",
    "    province_df_long['year'] = province_df_long['year'].str.extract(r'(\\d+)').astype(int)\n",
    "    province_df_long = province_df_long.sort_values(by='year')\n",
    "    \n",
    "    # Calculate cumulative tree loss\n",
    "    province_df_long['cumulative_tc_loss_ha'] = province_df_long['tc_loss_ha'].cumsum()\n",
    "    \n",
    "    # Add trace for the current province\n",
    "    fig.add_trace(go.Scatter(x=province_df_long['year'], \n",
    "                             y=province_df_long['cumulative_tc_loss_ha'], \n",
    "                             mode='lines', \n",
    "                             name=province_eng))\n",
    "\n",
    "# Add trace for total cumulative tree cover loss in Kalimantan\n",
    "fig.add_trace(go.Scatter(x=totals_df['year'], \n",
    "                         y=totals_df['cumulative_tc_loss_ha'], \n",
    "                         mode='lines', \n",
    "                         name='Total for Kalimantan'))\n",
    "\n",
    "# Update layout\n",
    "fig.update_layout(title='Cumulative tree cover loss on Borneo per country and province (2001-2022)',\n",
    "                  xaxis_title='Year',\n",
    "                  yaxis_title='Cumulative Tree Cover Loss (ha)',\n",
    "                  legend_title='Province',\n",
    "                  hovermode='x unified',\n",
    "                  template='plotly_white')\n",
    "\n",
    "# Show the plot\n",
    "fig.show()\n"
   ]
  },
  {
   "cell_type": "markdown",
   "metadata": {},
   "source": [
    "There seems to be a strong negative correlation between the palm oil production and the total tree cover. This can be seen in the next graph, wich contains the data for Indonesia."
   ]
  },
  {
   "cell_type": "code",
   "execution_count": 259,
   "metadata": {
    "tags": [
     "hide-input"
    ]
   },
   "outputs": [
    {
     "data": {
      "application/vnd.plotly.v1+json": {
       "config": {
        "plotlyServerURL": "https://plot.ly"
       },
       "data": [
        {
         "line": {
          "color": "blue"
         },
         "mode": "lines",
         "name": "Total Tree Cover (Kalimantan)",
         "type": "scatter",
         "x": [
          2001,
          2002,
          2003,
          2004,
          2005,
          2006,
          2007,
          2008,
          2009,
          2010,
          2011,
          2012,
          2013,
          2014,
          2015,
          2016,
          2017,
          2018,
          2019,
          2020,
          2021,
          2022
         ],
         "xaxis": "x",
         "y": [
          53233025.86363637,
          53001220.72727273,
          52819510.59090909,
          52457728.45454545,
          52152168.31818182,
          51664348.18181818,
          51130694.04545455,
          50632160.90909091,
          49898011.77272727,
          49514563.63636364,
          48912868.5,
          48062473.36363637,
          47594166.22727273,
          46797614.09090909,
          46045062.95454545,
          44858148.81818182,
          44408147.68181818,
          43953662.54545455,
          43520486.40909091,
          43220495.27272727,
          42990471.13636363,
          42728337
         ],
         "yaxis": "y"
        },
        {
         "line": {
          "color": "green"
         },
         "mode": "lines",
         "name": "Palm Oil Production (Indonesia)",
         "type": "scatter",
         "x": [
          2001,
          2002,
          2003,
          2004,
          2005,
          2006,
          2007,
          2008,
          2009,
          2010,
          2011,
          2012,
          2013,
          2014,
          2015,
          2016,
          2017,
          2018,
          2019,
          2020,
          2021,
          2022
         ],
         "xaxis": "x",
         "y": [
          9200,
          10300,
          11970,
          13560,
          15560,
          16600,
          18000,
          20500,
          22000,
          23600,
          26200,
          28500,
          30500,
          33000,
          32000,
          36000,
          39500,
          41500,
          42500,
          43500,
          42000,
          46500
         ],
         "yaxis": "y2"
        }
       ],
       "layout": {
        "plot_bgcolor": "white",
        "template": {
         "data": {
          "bar": [
           {
            "error_x": {
             "color": "#2a3f5f"
            },
            "error_y": {
             "color": "#2a3f5f"
            },
            "marker": {
             "line": {
              "color": "#E5ECF6",
              "width": 0.5
             },
             "pattern": {
              "fillmode": "overlay",
              "size": 10,
              "solidity": 0.2
             }
            },
            "type": "bar"
           }
          ],
          "barpolar": [
           {
            "marker": {
             "line": {
              "color": "#E5ECF6",
              "width": 0.5
             },
             "pattern": {
              "fillmode": "overlay",
              "size": 10,
              "solidity": 0.2
             }
            },
            "type": "barpolar"
           }
          ],
          "carpet": [
           {
            "aaxis": {
             "endlinecolor": "#2a3f5f",
             "gridcolor": "white",
             "linecolor": "white",
             "minorgridcolor": "white",
             "startlinecolor": "#2a3f5f"
            },
            "baxis": {
             "endlinecolor": "#2a3f5f",
             "gridcolor": "white",
             "linecolor": "white",
             "minorgridcolor": "white",
             "startlinecolor": "#2a3f5f"
            },
            "type": "carpet"
           }
          ],
          "choropleth": [
           {
            "colorbar": {
             "outlinewidth": 0,
             "ticks": ""
            },
            "type": "choropleth"
           }
          ],
          "contour": [
           {
            "colorbar": {
             "outlinewidth": 0,
             "ticks": ""
            },
            "colorscale": [
             [
              0,
              "#0d0887"
             ],
             [
              0.1111111111111111,
              "#46039f"
             ],
             [
              0.2222222222222222,
              "#7201a8"
             ],
             [
              0.3333333333333333,
              "#9c179e"
             ],
             [
              0.4444444444444444,
              "#bd3786"
             ],
             [
              0.5555555555555556,
              "#d8576b"
             ],
             [
              0.6666666666666666,
              "#ed7953"
             ],
             [
              0.7777777777777778,
              "#fb9f3a"
             ],
             [
              0.8888888888888888,
              "#fdca26"
             ],
             [
              1,
              "#f0f921"
             ]
            ],
            "type": "contour"
           }
          ],
          "contourcarpet": [
           {
            "colorbar": {
             "outlinewidth": 0,
             "ticks": ""
            },
            "type": "contourcarpet"
           }
          ],
          "heatmap": [
           {
            "colorbar": {
             "outlinewidth": 0,
             "ticks": ""
            },
            "colorscale": [
             [
              0,
              "#0d0887"
             ],
             [
              0.1111111111111111,
              "#46039f"
             ],
             [
              0.2222222222222222,
              "#7201a8"
             ],
             [
              0.3333333333333333,
              "#9c179e"
             ],
             [
              0.4444444444444444,
              "#bd3786"
             ],
             [
              0.5555555555555556,
              "#d8576b"
             ],
             [
              0.6666666666666666,
              "#ed7953"
             ],
             [
              0.7777777777777778,
              "#fb9f3a"
             ],
             [
              0.8888888888888888,
              "#fdca26"
             ],
             [
              1,
              "#f0f921"
             ]
            ],
            "type": "heatmap"
           }
          ],
          "heatmapgl": [
           {
            "colorbar": {
             "outlinewidth": 0,
             "ticks": ""
            },
            "colorscale": [
             [
              0,
              "#0d0887"
             ],
             [
              0.1111111111111111,
              "#46039f"
             ],
             [
              0.2222222222222222,
              "#7201a8"
             ],
             [
              0.3333333333333333,
              "#9c179e"
             ],
             [
              0.4444444444444444,
              "#bd3786"
             ],
             [
              0.5555555555555556,
              "#d8576b"
             ],
             [
              0.6666666666666666,
              "#ed7953"
             ],
             [
              0.7777777777777778,
              "#fb9f3a"
             ],
             [
              0.8888888888888888,
              "#fdca26"
             ],
             [
              1,
              "#f0f921"
             ]
            ],
            "type": "heatmapgl"
           }
          ],
          "histogram": [
           {
            "marker": {
             "pattern": {
              "fillmode": "overlay",
              "size": 10,
              "solidity": 0.2
             }
            },
            "type": "histogram"
           }
          ],
          "histogram2d": [
           {
            "colorbar": {
             "outlinewidth": 0,
             "ticks": ""
            },
            "colorscale": [
             [
              0,
              "#0d0887"
             ],
             [
              0.1111111111111111,
              "#46039f"
             ],
             [
              0.2222222222222222,
              "#7201a8"
             ],
             [
              0.3333333333333333,
              "#9c179e"
             ],
             [
              0.4444444444444444,
              "#bd3786"
             ],
             [
              0.5555555555555556,
              "#d8576b"
             ],
             [
              0.6666666666666666,
              "#ed7953"
             ],
             [
              0.7777777777777778,
              "#fb9f3a"
             ],
             [
              0.8888888888888888,
              "#fdca26"
             ],
             [
              1,
              "#f0f921"
             ]
            ],
            "type": "histogram2d"
           }
          ],
          "histogram2dcontour": [
           {
            "colorbar": {
             "outlinewidth": 0,
             "ticks": ""
            },
            "colorscale": [
             [
              0,
              "#0d0887"
             ],
             [
              0.1111111111111111,
              "#46039f"
             ],
             [
              0.2222222222222222,
              "#7201a8"
             ],
             [
              0.3333333333333333,
              "#9c179e"
             ],
             [
              0.4444444444444444,
              "#bd3786"
             ],
             [
              0.5555555555555556,
              "#d8576b"
             ],
             [
              0.6666666666666666,
              "#ed7953"
             ],
             [
              0.7777777777777778,
              "#fb9f3a"
             ],
             [
              0.8888888888888888,
              "#fdca26"
             ],
             [
              1,
              "#f0f921"
             ]
            ],
            "type": "histogram2dcontour"
           }
          ],
          "mesh3d": [
           {
            "colorbar": {
             "outlinewidth": 0,
             "ticks": ""
            },
            "type": "mesh3d"
           }
          ],
          "parcoords": [
           {
            "line": {
             "colorbar": {
              "outlinewidth": 0,
              "ticks": ""
             }
            },
            "type": "parcoords"
           }
          ],
          "pie": [
           {
            "automargin": true,
            "type": "pie"
           }
          ],
          "scatter": [
           {
            "fillpattern": {
             "fillmode": "overlay",
             "size": 10,
             "solidity": 0.2
            },
            "type": "scatter"
           }
          ],
          "scatter3d": [
           {
            "line": {
             "colorbar": {
              "outlinewidth": 0,
              "ticks": ""
             }
            },
            "marker": {
             "colorbar": {
              "outlinewidth": 0,
              "ticks": ""
             }
            },
            "type": "scatter3d"
           }
          ],
          "scattercarpet": [
           {
            "marker": {
             "colorbar": {
              "outlinewidth": 0,
              "ticks": ""
             }
            },
            "type": "scattercarpet"
           }
          ],
          "scattergeo": [
           {
            "marker": {
             "colorbar": {
              "outlinewidth": 0,
              "ticks": ""
             }
            },
            "type": "scattergeo"
           }
          ],
          "scattergl": [
           {
            "marker": {
             "colorbar": {
              "outlinewidth": 0,
              "ticks": ""
             }
            },
            "type": "scattergl"
           }
          ],
          "scattermapbox": [
           {
            "marker": {
             "colorbar": {
              "outlinewidth": 0,
              "ticks": ""
             }
            },
            "type": "scattermapbox"
           }
          ],
          "scatterpolar": [
           {
            "marker": {
             "colorbar": {
              "outlinewidth": 0,
              "ticks": ""
             }
            },
            "type": "scatterpolar"
           }
          ],
          "scatterpolargl": [
           {
            "marker": {
             "colorbar": {
              "outlinewidth": 0,
              "ticks": ""
             }
            },
            "type": "scatterpolargl"
           }
          ],
          "scatterternary": [
           {
            "marker": {
             "colorbar": {
              "outlinewidth": 0,
              "ticks": ""
             }
            },
            "type": "scatterternary"
           }
          ],
          "surface": [
           {
            "colorbar": {
             "outlinewidth": 0,
             "ticks": ""
            },
            "colorscale": [
             [
              0,
              "#0d0887"
             ],
             [
              0.1111111111111111,
              "#46039f"
             ],
             [
              0.2222222222222222,
              "#7201a8"
             ],
             [
              0.3333333333333333,
              "#9c179e"
             ],
             [
              0.4444444444444444,
              "#bd3786"
             ],
             [
              0.5555555555555556,
              "#d8576b"
             ],
             [
              0.6666666666666666,
              "#ed7953"
             ],
             [
              0.7777777777777778,
              "#fb9f3a"
             ],
             [
              0.8888888888888888,
              "#fdca26"
             ],
             [
              1,
              "#f0f921"
             ]
            ],
            "type": "surface"
           }
          ],
          "table": [
           {
            "cells": {
             "fill": {
              "color": "#EBF0F8"
             },
             "line": {
              "color": "white"
             }
            },
            "header": {
             "fill": {
              "color": "#C8D4E3"
             },
             "line": {
              "color": "white"
             }
            },
            "type": "table"
           }
          ]
         },
         "layout": {
          "annotationdefaults": {
           "arrowcolor": "#2a3f5f",
           "arrowhead": 0,
           "arrowwidth": 1
          },
          "autotypenumbers": "strict",
          "coloraxis": {
           "colorbar": {
            "outlinewidth": 0,
            "ticks": ""
           }
          },
          "colorscale": {
           "diverging": [
            [
             0,
             "#8e0152"
            ],
            [
             0.1,
             "#c51b7d"
            ],
            [
             0.2,
             "#de77ae"
            ],
            [
             0.3,
             "#f1b6da"
            ],
            [
             0.4,
             "#fde0ef"
            ],
            [
             0.5,
             "#f7f7f7"
            ],
            [
             0.6,
             "#e6f5d0"
            ],
            [
             0.7,
             "#b8e186"
            ],
            [
             0.8,
             "#7fbc41"
            ],
            [
             0.9,
             "#4d9221"
            ],
            [
             1,
             "#276419"
            ]
           ],
           "sequential": [
            [
             0,
             "#0d0887"
            ],
            [
             0.1111111111111111,
             "#46039f"
            ],
            [
             0.2222222222222222,
             "#7201a8"
            ],
            [
             0.3333333333333333,
             "#9c179e"
            ],
            [
             0.4444444444444444,
             "#bd3786"
            ],
            [
             0.5555555555555556,
             "#d8576b"
            ],
            [
             0.6666666666666666,
             "#ed7953"
            ],
            [
             0.7777777777777778,
             "#fb9f3a"
            ],
            [
             0.8888888888888888,
             "#fdca26"
            ],
            [
             1,
             "#f0f921"
            ]
           ],
           "sequentialminus": [
            [
             0,
             "#0d0887"
            ],
            [
             0.1111111111111111,
             "#46039f"
            ],
            [
             0.2222222222222222,
             "#7201a8"
            ],
            [
             0.3333333333333333,
             "#9c179e"
            ],
            [
             0.4444444444444444,
             "#bd3786"
            ],
            [
             0.5555555555555556,
             "#d8576b"
            ],
            [
             0.6666666666666666,
             "#ed7953"
            ],
            [
             0.7777777777777778,
             "#fb9f3a"
            ],
            [
             0.8888888888888888,
             "#fdca26"
            ],
            [
             1,
             "#f0f921"
            ]
           ]
          },
          "colorway": [
           "#636efa",
           "#EF553B",
           "#00cc96",
           "#ab63fa",
           "#FFA15A",
           "#19d3f3",
           "#FF6692",
           "#B6E880",
           "#FF97FF",
           "#FECB52"
          ],
          "font": {
           "color": "#2a3f5f"
          },
          "geo": {
           "bgcolor": "white",
           "lakecolor": "white",
           "landcolor": "#E5ECF6",
           "showlakes": true,
           "showland": true,
           "subunitcolor": "white"
          },
          "hoverlabel": {
           "align": "left"
          },
          "hovermode": "closest",
          "mapbox": {
           "style": "light"
          },
          "paper_bgcolor": "white",
          "plot_bgcolor": "#E5ECF6",
          "polar": {
           "angularaxis": {
            "gridcolor": "white",
            "linecolor": "white",
            "ticks": ""
           },
           "bgcolor": "#E5ECF6",
           "radialaxis": {
            "gridcolor": "white",
            "linecolor": "white",
            "ticks": ""
           }
          },
          "scene": {
           "xaxis": {
            "backgroundcolor": "#E5ECF6",
            "gridcolor": "white",
            "gridwidth": 2,
            "linecolor": "white",
            "showbackground": true,
            "ticks": "",
            "zerolinecolor": "white"
           },
           "yaxis": {
            "backgroundcolor": "#E5ECF6",
            "gridcolor": "white",
            "gridwidth": 2,
            "linecolor": "white",
            "showbackground": true,
            "ticks": "",
            "zerolinecolor": "white"
           },
           "zaxis": {
            "backgroundcolor": "#E5ECF6",
            "gridcolor": "white",
            "gridwidth": 2,
            "linecolor": "white",
            "showbackground": true,
            "ticks": "",
            "zerolinecolor": "white"
           }
          },
          "shapedefaults": {
           "line": {
            "color": "#2a3f5f"
           }
          },
          "ternary": {
           "aaxis": {
            "gridcolor": "white",
            "linecolor": "white",
            "ticks": ""
           },
           "baxis": {
            "gridcolor": "white",
            "linecolor": "white",
            "ticks": ""
           },
           "bgcolor": "#E5ECF6",
           "caxis": {
            "gridcolor": "white",
            "linecolor": "white",
            "ticks": ""
           }
          },
          "title": {
           "x": 0.05
          },
          "xaxis": {
           "automargin": true,
           "gridcolor": "white",
           "linecolor": "white",
           "ticks": "",
           "title": {
            "standoff": 15
           },
           "zerolinecolor": "white",
           "zerolinewidth": 2
          },
          "yaxis": {
           "automargin": true,
           "gridcolor": "white",
           "linecolor": "white",
           "ticks": "",
           "title": {
            "standoff": 15
           },
           "zerolinecolor": "white",
           "zerolinewidth": 2
          }
         }
        },
        "title": {
         "text": "Palm Oil Production vs Total Tree Cover in Kalimantan (2000-2022)"
        },
        "xaxis": {
         "anchor": "y",
         "domain": [
          0,
          0.94
         ],
         "title": {
          "text": "Year"
         }
        },
        "yaxis": {
         "anchor": "x",
         "domain": [
          0,
          1
         ],
         "title": {
          "text": "Total Tree Cover (ha)"
         }
        },
        "yaxis2": {
         "anchor": "x",
         "overlaying": "y",
         "side": "right",
         "title": {
          "text": "Palm Oil Production (tonnes)"
         }
        }
       }
      }
     },
     "metadata": {},
     "output_type": "display_data"
    }
   ],
   "source": [
    "import pandas as pd\n",
    "import plotly.graph_objects as go\n",
    "from scipy import interpolate\n",
    "from plotly.subplots import make_subplots\n",
    "\n",
    "# Load palm oil production data\n",
    "palm = pd.read_csv('../Datasets/Oils/archive/cleaned/palm.csv')\n",
    "\n",
    "# Filter data for Indonesia and years >= 2000\n",
    "df_Indo = palm[(palm['Country'] == 'Indonesia') & (palm['Year'] >= 2000)]\n",
    "\n",
    "# Extract production values and years\n",
    "xi = df_Indo['Production'].values\n",
    "years_palm = df_Indo['Year'].values\n",
    "\n",
    "# Load the dataset for Kalimantan forest cover\n",
    "df = pd.read_csv('../Datasets/Deforestation/Subnational 1 tree cover loss.csv')\n",
    "\n",
    "# Filter for Kalimantan provinces and threshold == 0\n",
    "provinces = ['Kalimantan Barat', 'Kalimantan Tengah', 'Kalimantan Timur', 'Kalimantan Selatan']\n",
    "kalimantan_df = df[(df['subnational1'].isin(provinces)) & (df['threshold'] == 0)]\n",
    "\n",
    "# Calculate initial tree cover in 2000\n",
    "initial_extent_2000 = kalimantan_df['extent_2000_ha'].sum()\n",
    "\n",
    "# Calculate tree cover gain spread over 22 years\n",
    "gain_spread = (kalimantan_df['gain_2000-2020_ha'].sum() / 22)\n",
    "\n",
    "# Calculate cumulative tree cover losses from 2001 to 2022\n",
    "years_tree_cover = range(2001, 2023)\n",
    "cumulative_losses = []\n",
    "for year in years_tree_cover:\n",
    "    loss_column = f'tc_loss_ha_{year}'\n",
    "    cumulative_loss = (kalimantan_df[loss_column].sum() - gain_spread)\n",
    "    cumulative_losses.append(cumulative_loss)\n",
    "\n",
    "# Calculate total tree cover per year\n",
    "annual_tree_cover = []\n",
    "for i, year in enumerate(years_tree_cover):\n",
    "    total_tree_cover = initial_extent_2000 - sum(cumulative_losses[:i + 1])\n",
    "    annual_tree_cover.append(total_tree_cover)\n",
    "\n",
    "# Interpolate palm oil production to match the years_tree_cover\n",
    "interp_func = interpolate.interp1d(years_palm, xi, kind='linear', fill_value='extrapolate')\n",
    "xi_interpolated = interp_func(list(years_tree_cover))\n",
    "\n",
    "# Create subplots with two y-axes\n",
    "fig = make_subplots(specs=[[{\"secondary_y\": True}]])\n",
    "\n",
    "# Add total tree cover trace\n",
    "fig.add_trace(go.Scatter(x=list(years_tree_cover), y=annual_tree_cover,\n",
    "                    mode='lines',\n",
    "                    name='Total Tree Cover (Kalimantan)',\n",
    "                    line=dict(color='blue')),\n",
    "                    secondary_y=False)\n",
    "\n",
    "# Add palm oil production trace\n",
    "fig.add_trace(go.Scatter(x=list(years_tree_cover), y=xi_interpolated,\n",
    "                    mode='lines',\n",
    "                    name='Palm Oil Production (Indonesia)',\n",
    "                    line=dict(color='green')),\n",
    "                    secondary_y=True)\n",
    "\n",
    "# Update layout\n",
    "fig.update_layout(title='Palm Oil Production vs Total Tree Cover in Kalimantan (2000-2022)',\n",
    "                  xaxis_title='Year',\n",
    "                  plot_bgcolor='white')\n",
    "\n",
    "# Set y-axis titles\n",
    "fig.update_yaxes(title_text=\"Total Tree Cover (ha)\", secondary_y=False)\n",
    "fig.update_yaxes(title_text=\"Palm Oil Production (tonnes)\", secondary_y=True)\n",
    "\n",
    "# Show figure\n",
    "fig.show()\n"
   ]
  },
  {
   "cell_type": "code",
   "execution_count": 260,
   "metadata": {
    "tags": [
     "hide-input"
    ]
   },
   "outputs": [
    {
     "name": "stdout",
     "output_type": "stream",
     "text": [
      "Pearson correlation between Palm Oil Production in Indonesia and Total Tree Cover in Kalimantan: -0.99\n"
     ]
    }
   ],
   "source": [
    "import pandas as pd\n",
    "\n",
    "# Load palm oil production data\n",
    "palm = pd.read_csv('../Datasets/Oils/archive/cleaned/palm.csv')\n",
    "\n",
    "# Filter data for Indonesia and years >= 2000\n",
    "df_Indo = palm[(palm['Country'] == 'Indonesia') & (palm['Year'] >= 2000)]\n",
    "\n",
    "# Extract production values\n",
    "xi = df_Indo['Production'].values\n",
    "\n",
    "# Load the dataset for Kalimantan forest cover\n",
    "df = pd.read_csv('../Datasets/Deforestation/Subnational 1 tree cover loss.csv')\n",
    "\n",
    "# Filter for Kalimantan provinces and threshold == 0\n",
    "provinces = ['Kalimantan Barat', 'Kalimantan Tengah', 'Kalimantan Timur', 'Kalimantan Selatan']\n",
    "kalimantan_df = df[(df['subnational1'].isin(provinces)) & (df['threshold'] == 0)]\n",
    "\n",
    "# Calculate initial tree cover in 2000\n",
    "initial_extent_2000 = kalimantan_df['extent_2000_ha'].sum()\n",
    "\n",
    "# Calculate tree cover gain spread over 22 years\n",
    "gain_spread = (kalimantan_df['gain_2000-2020_ha'].sum() / 22)\n",
    "\n",
    "# Calculate cumulative tree cover losses from 2001 to 2022\n",
    "years = range(2001, 2023)\n",
    "cumulative_losses = []\n",
    "for year in years:\n",
    "    loss_column = f'tc_loss_ha_{year}'\n",
    "    cumulative_loss = (kalimantan_df[loss_column].sum() - gain_spread)\n",
    "    cumulative_losses.append(cumulative_loss)\n",
    "\n",
    "# Calculate total tree cover per year\n",
    "annual_tree_cover = []\n",
    "for i, year in enumerate(years):\n",
    "    total_tree_cover = initial_extent_2000 - sum(cumulative_losses[:i + 1])\n",
    "    annual_tree_cover.append(total_tree_cover)\n",
    "\n",
    "# Calculate correlation between palm oil production and annual tree cover\n",
    "correlation = pd.Series(xi).corr(pd.Series(annual_tree_cover))\n",
    "\n",
    "print(f\"Pearson correlation between Palm Oil Production in Indonesia and Total Tree Cover in Kalimantan: {correlation:.2f}\")\n"
   ]
  },
  {
   "cell_type": "markdown",
   "metadata": {},
   "source": [
    "From this data it is evident that the production of palm oil is a mayor factor in more than 10 million hectares of tree cover loss in the Kalimantan provinces of Indonesia alone."
   ]
  },
  {
   "cell_type": "markdown",
   "metadata": {},
   "source": [
    "### Argument 2: Palm oil production emits more CO2 than other vegetable oils.\n",
    "\n",
    "From the graph below, it is clear that palm oil emits the most CO2 per kg of product of all different types of oil, up to more than double the amount."
   ]
  },
  {
   "cell_type": "code",
   "execution_count": 261,
   "metadata": {
    "tags": [
     "hide-input"
    ]
   },
   "outputs": [
    {
     "data": {
      "application/vnd.plotly.v1+json": {
       "config": {
        "plotlyServerURL": "https://plot.ly"
       },
       "data": [
        {
         "marker": {
          "color": [
           "#4C78A8",
           "#F58518",
           "#E45756",
           "#72B7B2",
           "#54A24B"
          ]
         },
         "orientation": "h",
         "type": "bar",
         "x": [
          7.6,
          6,
          6,
          3.7,
          3.5
         ],
         "y": [
          "Palm Oil",
          "Soybean Oil",
          "Olive Oil",
          "Rapeseed Oil",
          "Sunflower Oil"
         ]
        }
       ],
       "layout": {
        "bargap": 0.1,
        "height": 400,
        "margin": {
         "b": 0,
         "l": 0,
         "r": 0,
         "t": 30
        },
        "template": {
         "data": {
          "bar": [
           {
            "error_x": {
             "color": "#2a3f5f"
            },
            "error_y": {
             "color": "#2a3f5f"
            },
            "marker": {
             "line": {
              "color": "#E5ECF6",
              "width": 0.5
             },
             "pattern": {
              "fillmode": "overlay",
              "size": 10,
              "solidity": 0.2
             }
            },
            "type": "bar"
           }
          ],
          "barpolar": [
           {
            "marker": {
             "line": {
              "color": "#E5ECF6",
              "width": 0.5
             },
             "pattern": {
              "fillmode": "overlay",
              "size": 10,
              "solidity": 0.2
             }
            },
            "type": "barpolar"
           }
          ],
          "carpet": [
           {
            "aaxis": {
             "endlinecolor": "#2a3f5f",
             "gridcolor": "white",
             "linecolor": "white",
             "minorgridcolor": "white",
             "startlinecolor": "#2a3f5f"
            },
            "baxis": {
             "endlinecolor": "#2a3f5f",
             "gridcolor": "white",
             "linecolor": "white",
             "minorgridcolor": "white",
             "startlinecolor": "#2a3f5f"
            },
            "type": "carpet"
           }
          ],
          "choropleth": [
           {
            "colorbar": {
             "outlinewidth": 0,
             "ticks": ""
            },
            "type": "choropleth"
           }
          ],
          "contour": [
           {
            "colorbar": {
             "outlinewidth": 0,
             "ticks": ""
            },
            "colorscale": [
             [
              0,
              "#0d0887"
             ],
             [
              0.1111111111111111,
              "#46039f"
             ],
             [
              0.2222222222222222,
              "#7201a8"
             ],
             [
              0.3333333333333333,
              "#9c179e"
             ],
             [
              0.4444444444444444,
              "#bd3786"
             ],
             [
              0.5555555555555556,
              "#d8576b"
             ],
             [
              0.6666666666666666,
              "#ed7953"
             ],
             [
              0.7777777777777778,
              "#fb9f3a"
             ],
             [
              0.8888888888888888,
              "#fdca26"
             ],
             [
              1,
              "#f0f921"
             ]
            ],
            "type": "contour"
           }
          ],
          "contourcarpet": [
           {
            "colorbar": {
             "outlinewidth": 0,
             "ticks": ""
            },
            "type": "contourcarpet"
           }
          ],
          "heatmap": [
           {
            "colorbar": {
             "outlinewidth": 0,
             "ticks": ""
            },
            "colorscale": [
             [
              0,
              "#0d0887"
             ],
             [
              0.1111111111111111,
              "#46039f"
             ],
             [
              0.2222222222222222,
              "#7201a8"
             ],
             [
              0.3333333333333333,
              "#9c179e"
             ],
             [
              0.4444444444444444,
              "#bd3786"
             ],
             [
              0.5555555555555556,
              "#d8576b"
             ],
             [
              0.6666666666666666,
              "#ed7953"
             ],
             [
              0.7777777777777778,
              "#fb9f3a"
             ],
             [
              0.8888888888888888,
              "#fdca26"
             ],
             [
              1,
              "#f0f921"
             ]
            ],
            "type": "heatmap"
           }
          ],
          "heatmapgl": [
           {
            "colorbar": {
             "outlinewidth": 0,
             "ticks": ""
            },
            "colorscale": [
             [
              0,
              "#0d0887"
             ],
             [
              0.1111111111111111,
              "#46039f"
             ],
             [
              0.2222222222222222,
              "#7201a8"
             ],
             [
              0.3333333333333333,
              "#9c179e"
             ],
             [
              0.4444444444444444,
              "#bd3786"
             ],
             [
              0.5555555555555556,
              "#d8576b"
             ],
             [
              0.6666666666666666,
              "#ed7953"
             ],
             [
              0.7777777777777778,
              "#fb9f3a"
             ],
             [
              0.8888888888888888,
              "#fdca26"
             ],
             [
              1,
              "#f0f921"
             ]
            ],
            "type": "heatmapgl"
           }
          ],
          "histogram": [
           {
            "marker": {
             "pattern": {
              "fillmode": "overlay",
              "size": 10,
              "solidity": 0.2
             }
            },
            "type": "histogram"
           }
          ],
          "histogram2d": [
           {
            "colorbar": {
             "outlinewidth": 0,
             "ticks": ""
            },
            "colorscale": [
             [
              0,
              "#0d0887"
             ],
             [
              0.1111111111111111,
              "#46039f"
             ],
             [
              0.2222222222222222,
              "#7201a8"
             ],
             [
              0.3333333333333333,
              "#9c179e"
             ],
             [
              0.4444444444444444,
              "#bd3786"
             ],
             [
              0.5555555555555556,
              "#d8576b"
             ],
             [
              0.6666666666666666,
              "#ed7953"
             ],
             [
              0.7777777777777778,
              "#fb9f3a"
             ],
             [
              0.8888888888888888,
              "#fdca26"
             ],
             [
              1,
              "#f0f921"
             ]
            ],
            "type": "histogram2d"
           }
          ],
          "histogram2dcontour": [
           {
            "colorbar": {
             "outlinewidth": 0,
             "ticks": ""
            },
            "colorscale": [
             [
              0,
              "#0d0887"
             ],
             [
              0.1111111111111111,
              "#46039f"
             ],
             [
              0.2222222222222222,
              "#7201a8"
             ],
             [
              0.3333333333333333,
              "#9c179e"
             ],
             [
              0.4444444444444444,
              "#bd3786"
             ],
             [
              0.5555555555555556,
              "#d8576b"
             ],
             [
              0.6666666666666666,
              "#ed7953"
             ],
             [
              0.7777777777777778,
              "#fb9f3a"
             ],
             [
              0.8888888888888888,
              "#fdca26"
             ],
             [
              1,
              "#f0f921"
             ]
            ],
            "type": "histogram2dcontour"
           }
          ],
          "mesh3d": [
           {
            "colorbar": {
             "outlinewidth": 0,
             "ticks": ""
            },
            "type": "mesh3d"
           }
          ],
          "parcoords": [
           {
            "line": {
             "colorbar": {
              "outlinewidth": 0,
              "ticks": ""
             }
            },
            "type": "parcoords"
           }
          ],
          "pie": [
           {
            "automargin": true,
            "type": "pie"
           }
          ],
          "scatter": [
           {
            "fillpattern": {
             "fillmode": "overlay",
             "size": 10,
             "solidity": 0.2
            },
            "type": "scatter"
           }
          ],
          "scatter3d": [
           {
            "line": {
             "colorbar": {
              "outlinewidth": 0,
              "ticks": ""
             }
            },
            "marker": {
             "colorbar": {
              "outlinewidth": 0,
              "ticks": ""
             }
            },
            "type": "scatter3d"
           }
          ],
          "scattercarpet": [
           {
            "marker": {
             "colorbar": {
              "outlinewidth": 0,
              "ticks": ""
             }
            },
            "type": "scattercarpet"
           }
          ],
          "scattergeo": [
           {
            "marker": {
             "colorbar": {
              "outlinewidth": 0,
              "ticks": ""
             }
            },
            "type": "scattergeo"
           }
          ],
          "scattergl": [
           {
            "marker": {
             "colorbar": {
              "outlinewidth": 0,
              "ticks": ""
             }
            },
            "type": "scattergl"
           }
          ],
          "scattermapbox": [
           {
            "marker": {
             "colorbar": {
              "outlinewidth": 0,
              "ticks": ""
             }
            },
            "type": "scattermapbox"
           }
          ],
          "scatterpolar": [
           {
            "marker": {
             "colorbar": {
              "outlinewidth": 0,
              "ticks": ""
             }
            },
            "type": "scatterpolar"
           }
          ],
          "scatterpolargl": [
           {
            "marker": {
             "colorbar": {
              "outlinewidth": 0,
              "ticks": ""
             }
            },
            "type": "scatterpolargl"
           }
          ],
          "scatterternary": [
           {
            "marker": {
             "colorbar": {
              "outlinewidth": 0,
              "ticks": ""
             }
            },
            "type": "scatterternary"
           }
          ],
          "surface": [
           {
            "colorbar": {
             "outlinewidth": 0,
             "ticks": ""
            },
            "colorscale": [
             [
              0,
              "#0d0887"
             ],
             [
              0.1111111111111111,
              "#46039f"
             ],
             [
              0.2222222222222222,
              "#7201a8"
             ],
             [
              0.3333333333333333,
              "#9c179e"
             ],
             [
              0.4444444444444444,
              "#bd3786"
             ],
             [
              0.5555555555555556,
              "#d8576b"
             ],
             [
              0.6666666666666666,
              "#ed7953"
             ],
             [
              0.7777777777777778,
              "#fb9f3a"
             ],
             [
              0.8888888888888888,
              "#fdca26"
             ],
             [
              1,
              "#f0f921"
             ]
            ],
            "type": "surface"
           }
          ],
          "table": [
           {
            "cells": {
             "fill": {
              "color": "#EBF0F8"
             },
             "line": {
              "color": "white"
             }
            },
            "header": {
             "fill": {
              "color": "#C8D4E3"
             },
             "line": {
              "color": "white"
             }
            },
            "type": "table"
           }
          ]
         },
         "layout": {
          "annotationdefaults": {
           "arrowcolor": "#2a3f5f",
           "arrowhead": 0,
           "arrowwidth": 1
          },
          "autotypenumbers": "strict",
          "coloraxis": {
           "colorbar": {
            "outlinewidth": 0,
            "ticks": ""
           }
          },
          "colorscale": {
           "diverging": [
            [
             0,
             "#8e0152"
            ],
            [
             0.1,
             "#c51b7d"
            ],
            [
             0.2,
             "#de77ae"
            ],
            [
             0.3,
             "#f1b6da"
            ],
            [
             0.4,
             "#fde0ef"
            ],
            [
             0.5,
             "#f7f7f7"
            ],
            [
             0.6,
             "#e6f5d0"
            ],
            [
             0.7,
             "#b8e186"
            ],
            [
             0.8,
             "#7fbc41"
            ],
            [
             0.9,
             "#4d9221"
            ],
            [
             1,
             "#276419"
            ]
           ],
           "sequential": [
            [
             0,
             "#0d0887"
            ],
            [
             0.1111111111111111,
             "#46039f"
            ],
            [
             0.2222222222222222,
             "#7201a8"
            ],
            [
             0.3333333333333333,
             "#9c179e"
            ],
            [
             0.4444444444444444,
             "#bd3786"
            ],
            [
             0.5555555555555556,
             "#d8576b"
            ],
            [
             0.6666666666666666,
             "#ed7953"
            ],
            [
             0.7777777777777778,
             "#fb9f3a"
            ],
            [
             0.8888888888888888,
             "#fdca26"
            ],
            [
             1,
             "#f0f921"
            ]
           ],
           "sequentialminus": [
            [
             0,
             "#0d0887"
            ],
            [
             0.1111111111111111,
             "#46039f"
            ],
            [
             0.2222222222222222,
             "#7201a8"
            ],
            [
             0.3333333333333333,
             "#9c179e"
            ],
            [
             0.4444444444444444,
             "#bd3786"
            ],
            [
             0.5555555555555556,
             "#d8576b"
            ],
            [
             0.6666666666666666,
             "#ed7953"
            ],
            [
             0.7777777777777778,
             "#fb9f3a"
            ],
            [
             0.8888888888888888,
             "#fdca26"
            ],
            [
             1,
             "#f0f921"
            ]
           ]
          },
          "colorway": [
           "#636efa",
           "#EF553B",
           "#00cc96",
           "#ab63fa",
           "#FFA15A",
           "#19d3f3",
           "#FF6692",
           "#B6E880",
           "#FF97FF",
           "#FECB52"
          ],
          "font": {
           "color": "#2a3f5f"
          },
          "geo": {
           "bgcolor": "white",
           "lakecolor": "white",
           "landcolor": "#E5ECF6",
           "showlakes": true,
           "showland": true,
           "subunitcolor": "white"
          },
          "hoverlabel": {
           "align": "left"
          },
          "hovermode": "closest",
          "mapbox": {
           "style": "light"
          },
          "paper_bgcolor": "white",
          "plot_bgcolor": "#E5ECF6",
          "polar": {
           "angularaxis": {
            "gridcolor": "white",
            "linecolor": "white",
            "ticks": ""
           },
           "bgcolor": "#E5ECF6",
           "radialaxis": {
            "gridcolor": "white",
            "linecolor": "white",
            "ticks": ""
           }
          },
          "scene": {
           "xaxis": {
            "backgroundcolor": "#E5ECF6",
            "gridcolor": "white",
            "gridwidth": 2,
            "linecolor": "white",
            "showbackground": true,
            "ticks": "",
            "zerolinecolor": "white"
           },
           "yaxis": {
            "backgroundcolor": "#E5ECF6",
            "gridcolor": "white",
            "gridwidth": 2,
            "linecolor": "white",
            "showbackground": true,
            "ticks": "",
            "zerolinecolor": "white"
           },
           "zaxis": {
            "backgroundcolor": "#E5ECF6",
            "gridcolor": "white",
            "gridwidth": 2,
            "linecolor": "white",
            "showbackground": true,
            "ticks": "",
            "zerolinecolor": "white"
           }
          },
          "shapedefaults": {
           "line": {
            "color": "#2a3f5f"
           }
          },
          "ternary": {
           "aaxis": {
            "gridcolor": "white",
            "linecolor": "white",
            "ticks": ""
           },
           "baxis": {
            "gridcolor": "white",
            "linecolor": "white",
            "ticks": ""
           },
           "bgcolor": "#E5ECF6",
           "caxis": {
            "gridcolor": "white",
            "linecolor": "white",
            "ticks": ""
           }
          },
          "title": {
           "x": 0.05
          },
          "xaxis": {
           "automargin": true,
           "gridcolor": "white",
           "linecolor": "white",
           "ticks": "",
           "title": {
            "standoff": 15
           },
           "zerolinecolor": "white",
           "zerolinewidth": 2
          },
          "yaxis": {
           "automargin": true,
           "gridcolor": "white",
           "linecolor": "white",
           "ticks": "",
           "title": {
            "standoff": 15
           },
           "zerolinecolor": "white",
           "zerolinewidth": 2
          }
         }
        },
        "title": {
         "text": "Greenhouse gas total emissions per food product"
        },
        "xaxis": {
         "title": {
          "text": "Total emissions [Kg CO2 - equivalents per kg product]"
         }
        },
        "yaxis": {
         "automargin": true,
         "title": {
          "text": "Food Product"
         }
        }
       }
      }
     },
     "metadata": {},
     "output_type": "display_data"
    }
   ],
   "source": [
    "import pandas as pd\n",
    "import plotly.graph_objects as go\n",
    "\n",
    "# Read the dataset\n",
    "fp_raw = pd.read_csv('../Datasets/Food_Production.csv')\n",
    "\n",
    "# List of oils\n",
    "oils = [oil for oil in fp_raw['Food product'] if 'Oil' in oil]\n",
    "\n",
    "# Sort the table\n",
    "data1 = fp_raw[fp_raw['Food product'].isin(oils)].sort_values(by=['Total_emissions'], ascending=False)\n",
    "\n",
    "# Define colors for the bars\n",
    "colors = px.colors.qualitative.T10[:len(data1)]\n",
    "\n",
    "# Create Plotly figure\n",
    "fig = go.Figure()\n",
    "\n",
    "fig.add_trace(go.Bar(\n",
    "    y=data1['Food product'],\n",
    "    x=data1['Total_emissions'],\n",
    "    orientation='h',\n",
    "    marker_color=colors,\n",
    "))\n",
    "\n",
    "# Update layout\n",
    "fig.update_layout(\n",
    "    title='Greenhouse gas total emissions per food product',\n",
    "    xaxis_title='Total emissions [Kg CO2 - equivalents per kg product]',\n",
    "    yaxis_title='Food Product',\n",
    "    height=400,\n",
    "    yaxis=dict(automargin=True),  # Ensure labels fit\n",
    "    bargap=0.1,  # Gap between bars\n",
    "    margin=dict(l=0, r=0, t=30, b=0),  # Adjust margins for better appearance\n",
    ")\n",
    "\n",
    "# Show plot\n",
    "fig.show()\n"
   ]
  },
  {
   "cell_type": "markdown",
   "metadata": {},
   "source": [
    "This is mainly due to the land use change as we can see in the graph below. This is caused by the peat soil being exposed after deforestation, allowing oxigen in, which leads to oxidation of the soil (_Manning, F. C. et al, 2019_)."
   ]
  },
  {
   "cell_type": "code",
   "execution_count": 265,
   "metadata": {
    "tags": [
     "hide-input"
    ]
   },
   "outputs": [
    {
     "data": {
      "application/vnd.plotly.v1+json": {
       "config": {
        "plotlyServerURL": "https://plot.ly"
       },
       "data": [
        {
         "marker": {
          "color": "#4C78A8"
         },
         "name": "Land use change",
         "orientation": "h",
         "type": "bar",
         "x": [
          0.1,
          0.2,
          0,
          3.1,
          3.1
         ],
         "y": [
          "Sunflower Oil",
          "Rapeseed Oil",
          "Olive Oil",
          "Soybean Oil",
          "Palm Oil"
         ]
        },
        {
         "marker": {
          "color": "#F58518"
         },
         "name": "Farm",
         "orientation": "h",
         "type": "bar",
         "x": [
          2.1,
          2.3,
          3.9,
          1.5,
          2.1
         ],
         "y": [
          "Sunflower Oil",
          "Rapeseed Oil",
          "Olive Oil",
          "Soybean Oil",
          "Palm Oil"
         ]
        },
        {
         "marker": {
          "color": "#E45756"
         },
         "name": "Processing",
         "orientation": "h",
         "type": "bar",
         "x": [
          0.2,
          0.2,
          0.7,
          0.3,
          1.3
         ],
         "y": [
          "Sunflower Oil",
          "Rapeseed Oil",
          "Olive Oil",
          "Soybean Oil",
          "Palm Oil"
         ]
        },
        {
         "marker": {
          "color": "#72B7B2"
         },
         "name": "Transport",
         "orientation": "h",
         "type": "bar",
         "x": [
          0.2,
          0.2,
          0.5,
          0.3,
          0.2
         ],
         "y": [
          "Sunflower Oil",
          "Rapeseed Oil",
          "Olive Oil",
          "Soybean Oil",
          "Palm Oil"
         ]
        },
        {
         "marker": {
          "color": "#54A24B"
         },
         "name": "Packging",
         "orientation": "h",
         "type": "bar",
         "x": [
          0.9,
          0.8,
          0.9,
          0.8,
          0.9
         ],
         "y": [
          "Sunflower Oil",
          "Rapeseed Oil",
          "Olive Oil",
          "Soybean Oil",
          "Palm Oil"
         ]
        }
       ],
       "layout": {
        "barmode": "stack",
        "height": 600,
        "hovermode": "closest",
        "margin": {
         "l": 200
        },
        "showlegend": true,
        "template": {
         "data": {
          "bar": [
           {
            "error_x": {
             "color": "#2a3f5f"
            },
            "error_y": {
             "color": "#2a3f5f"
            },
            "marker": {
             "line": {
              "color": "#E5ECF6",
              "width": 0.5
             },
             "pattern": {
              "fillmode": "overlay",
              "size": 10,
              "solidity": 0.2
             }
            },
            "type": "bar"
           }
          ],
          "barpolar": [
           {
            "marker": {
             "line": {
              "color": "#E5ECF6",
              "width": 0.5
             },
             "pattern": {
              "fillmode": "overlay",
              "size": 10,
              "solidity": 0.2
             }
            },
            "type": "barpolar"
           }
          ],
          "carpet": [
           {
            "aaxis": {
             "endlinecolor": "#2a3f5f",
             "gridcolor": "white",
             "linecolor": "white",
             "minorgridcolor": "white",
             "startlinecolor": "#2a3f5f"
            },
            "baxis": {
             "endlinecolor": "#2a3f5f",
             "gridcolor": "white",
             "linecolor": "white",
             "minorgridcolor": "white",
             "startlinecolor": "#2a3f5f"
            },
            "type": "carpet"
           }
          ],
          "choropleth": [
           {
            "colorbar": {
             "outlinewidth": 0,
             "ticks": ""
            },
            "type": "choropleth"
           }
          ],
          "contour": [
           {
            "colorbar": {
             "outlinewidth": 0,
             "ticks": ""
            },
            "colorscale": [
             [
              0,
              "#0d0887"
             ],
             [
              0.1111111111111111,
              "#46039f"
             ],
             [
              0.2222222222222222,
              "#7201a8"
             ],
             [
              0.3333333333333333,
              "#9c179e"
             ],
             [
              0.4444444444444444,
              "#bd3786"
             ],
             [
              0.5555555555555556,
              "#d8576b"
             ],
             [
              0.6666666666666666,
              "#ed7953"
             ],
             [
              0.7777777777777778,
              "#fb9f3a"
             ],
             [
              0.8888888888888888,
              "#fdca26"
             ],
             [
              1,
              "#f0f921"
             ]
            ],
            "type": "contour"
           }
          ],
          "contourcarpet": [
           {
            "colorbar": {
             "outlinewidth": 0,
             "ticks": ""
            },
            "type": "contourcarpet"
           }
          ],
          "heatmap": [
           {
            "colorbar": {
             "outlinewidth": 0,
             "ticks": ""
            },
            "colorscale": [
             [
              0,
              "#0d0887"
             ],
             [
              0.1111111111111111,
              "#46039f"
             ],
             [
              0.2222222222222222,
              "#7201a8"
             ],
             [
              0.3333333333333333,
              "#9c179e"
             ],
             [
              0.4444444444444444,
              "#bd3786"
             ],
             [
              0.5555555555555556,
              "#d8576b"
             ],
             [
              0.6666666666666666,
              "#ed7953"
             ],
             [
              0.7777777777777778,
              "#fb9f3a"
             ],
             [
              0.8888888888888888,
              "#fdca26"
             ],
             [
              1,
              "#f0f921"
             ]
            ],
            "type": "heatmap"
           }
          ],
          "heatmapgl": [
           {
            "colorbar": {
             "outlinewidth": 0,
             "ticks": ""
            },
            "colorscale": [
             [
              0,
              "#0d0887"
             ],
             [
              0.1111111111111111,
              "#46039f"
             ],
             [
              0.2222222222222222,
              "#7201a8"
             ],
             [
              0.3333333333333333,
              "#9c179e"
             ],
             [
              0.4444444444444444,
              "#bd3786"
             ],
             [
              0.5555555555555556,
              "#d8576b"
             ],
             [
              0.6666666666666666,
              "#ed7953"
             ],
             [
              0.7777777777777778,
              "#fb9f3a"
             ],
             [
              0.8888888888888888,
              "#fdca26"
             ],
             [
              1,
              "#f0f921"
             ]
            ],
            "type": "heatmapgl"
           }
          ],
          "histogram": [
           {
            "marker": {
             "pattern": {
              "fillmode": "overlay",
              "size": 10,
              "solidity": 0.2
             }
            },
            "type": "histogram"
           }
          ],
          "histogram2d": [
           {
            "colorbar": {
             "outlinewidth": 0,
             "ticks": ""
            },
            "colorscale": [
             [
              0,
              "#0d0887"
             ],
             [
              0.1111111111111111,
              "#46039f"
             ],
             [
              0.2222222222222222,
              "#7201a8"
             ],
             [
              0.3333333333333333,
              "#9c179e"
             ],
             [
              0.4444444444444444,
              "#bd3786"
             ],
             [
              0.5555555555555556,
              "#d8576b"
             ],
             [
              0.6666666666666666,
              "#ed7953"
             ],
             [
              0.7777777777777778,
              "#fb9f3a"
             ],
             [
              0.8888888888888888,
              "#fdca26"
             ],
             [
              1,
              "#f0f921"
             ]
            ],
            "type": "histogram2d"
           }
          ],
          "histogram2dcontour": [
           {
            "colorbar": {
             "outlinewidth": 0,
             "ticks": ""
            },
            "colorscale": [
             [
              0,
              "#0d0887"
             ],
             [
              0.1111111111111111,
              "#46039f"
             ],
             [
              0.2222222222222222,
              "#7201a8"
             ],
             [
              0.3333333333333333,
              "#9c179e"
             ],
             [
              0.4444444444444444,
              "#bd3786"
             ],
             [
              0.5555555555555556,
              "#d8576b"
             ],
             [
              0.6666666666666666,
              "#ed7953"
             ],
             [
              0.7777777777777778,
              "#fb9f3a"
             ],
             [
              0.8888888888888888,
              "#fdca26"
             ],
             [
              1,
              "#f0f921"
             ]
            ],
            "type": "histogram2dcontour"
           }
          ],
          "mesh3d": [
           {
            "colorbar": {
             "outlinewidth": 0,
             "ticks": ""
            },
            "type": "mesh3d"
           }
          ],
          "parcoords": [
           {
            "line": {
             "colorbar": {
              "outlinewidth": 0,
              "ticks": ""
             }
            },
            "type": "parcoords"
           }
          ],
          "pie": [
           {
            "automargin": true,
            "type": "pie"
           }
          ],
          "scatter": [
           {
            "fillpattern": {
             "fillmode": "overlay",
             "size": 10,
             "solidity": 0.2
            },
            "type": "scatter"
           }
          ],
          "scatter3d": [
           {
            "line": {
             "colorbar": {
              "outlinewidth": 0,
              "ticks": ""
             }
            },
            "marker": {
             "colorbar": {
              "outlinewidth": 0,
              "ticks": ""
             }
            },
            "type": "scatter3d"
           }
          ],
          "scattercarpet": [
           {
            "marker": {
             "colorbar": {
              "outlinewidth": 0,
              "ticks": ""
             }
            },
            "type": "scattercarpet"
           }
          ],
          "scattergeo": [
           {
            "marker": {
             "colorbar": {
              "outlinewidth": 0,
              "ticks": ""
             }
            },
            "type": "scattergeo"
           }
          ],
          "scattergl": [
           {
            "marker": {
             "colorbar": {
              "outlinewidth": 0,
              "ticks": ""
             }
            },
            "type": "scattergl"
           }
          ],
          "scattermapbox": [
           {
            "marker": {
             "colorbar": {
              "outlinewidth": 0,
              "ticks": ""
             }
            },
            "type": "scattermapbox"
           }
          ],
          "scatterpolar": [
           {
            "marker": {
             "colorbar": {
              "outlinewidth": 0,
              "ticks": ""
             }
            },
            "type": "scatterpolar"
           }
          ],
          "scatterpolargl": [
           {
            "marker": {
             "colorbar": {
              "outlinewidth": 0,
              "ticks": ""
             }
            },
            "type": "scatterpolargl"
           }
          ],
          "scatterternary": [
           {
            "marker": {
             "colorbar": {
              "outlinewidth": 0,
              "ticks": ""
             }
            },
            "type": "scatterternary"
           }
          ],
          "surface": [
           {
            "colorbar": {
             "outlinewidth": 0,
             "ticks": ""
            },
            "colorscale": [
             [
              0,
              "#0d0887"
             ],
             [
              0.1111111111111111,
              "#46039f"
             ],
             [
              0.2222222222222222,
              "#7201a8"
             ],
             [
              0.3333333333333333,
              "#9c179e"
             ],
             [
              0.4444444444444444,
              "#bd3786"
             ],
             [
              0.5555555555555556,
              "#d8576b"
             ],
             [
              0.6666666666666666,
              "#ed7953"
             ],
             [
              0.7777777777777778,
              "#fb9f3a"
             ],
             [
              0.8888888888888888,
              "#fdca26"
             ],
             [
              1,
              "#f0f921"
             ]
            ],
            "type": "surface"
           }
          ],
          "table": [
           {
            "cells": {
             "fill": {
              "color": "#EBF0F8"
             },
             "line": {
              "color": "white"
             }
            },
            "header": {
             "fill": {
              "color": "#C8D4E3"
             },
             "line": {
              "color": "white"
             }
            },
            "type": "table"
           }
          ]
         },
         "layout": {
          "annotationdefaults": {
           "arrowcolor": "#2a3f5f",
           "arrowhead": 0,
           "arrowwidth": 1
          },
          "autotypenumbers": "strict",
          "coloraxis": {
           "colorbar": {
            "outlinewidth": 0,
            "ticks": ""
           }
          },
          "colorscale": {
           "diverging": [
            [
             0,
             "#8e0152"
            ],
            [
             0.1,
             "#c51b7d"
            ],
            [
             0.2,
             "#de77ae"
            ],
            [
             0.3,
             "#f1b6da"
            ],
            [
             0.4,
             "#fde0ef"
            ],
            [
             0.5,
             "#f7f7f7"
            ],
            [
             0.6,
             "#e6f5d0"
            ],
            [
             0.7,
             "#b8e186"
            ],
            [
             0.8,
             "#7fbc41"
            ],
            [
             0.9,
             "#4d9221"
            ],
            [
             1,
             "#276419"
            ]
           ],
           "sequential": [
            [
             0,
             "#0d0887"
            ],
            [
             0.1111111111111111,
             "#46039f"
            ],
            [
             0.2222222222222222,
             "#7201a8"
            ],
            [
             0.3333333333333333,
             "#9c179e"
            ],
            [
             0.4444444444444444,
             "#bd3786"
            ],
            [
             0.5555555555555556,
             "#d8576b"
            ],
            [
             0.6666666666666666,
             "#ed7953"
            ],
            [
             0.7777777777777778,
             "#fb9f3a"
            ],
            [
             0.8888888888888888,
             "#fdca26"
            ],
            [
             1,
             "#f0f921"
            ]
           ],
           "sequentialminus": [
            [
             0,
             "#0d0887"
            ],
            [
             0.1111111111111111,
             "#46039f"
            ],
            [
             0.2222222222222222,
             "#7201a8"
            ],
            [
             0.3333333333333333,
             "#9c179e"
            ],
            [
             0.4444444444444444,
             "#bd3786"
            ],
            [
             0.5555555555555556,
             "#d8576b"
            ],
            [
             0.6666666666666666,
             "#ed7953"
            ],
            [
             0.7777777777777778,
             "#fb9f3a"
            ],
            [
             0.8888888888888888,
             "#fdca26"
            ],
            [
             1,
             "#f0f921"
            ]
           ]
          },
          "colorway": [
           "#636efa",
           "#EF553B",
           "#00cc96",
           "#ab63fa",
           "#FFA15A",
           "#19d3f3",
           "#FF6692",
           "#B6E880",
           "#FF97FF",
           "#FECB52"
          ],
          "font": {
           "color": "#2a3f5f"
          },
          "geo": {
           "bgcolor": "white",
           "lakecolor": "white",
           "landcolor": "#E5ECF6",
           "showlakes": true,
           "showland": true,
           "subunitcolor": "white"
          },
          "hoverlabel": {
           "align": "left"
          },
          "hovermode": "closest",
          "mapbox": {
           "style": "light"
          },
          "paper_bgcolor": "white",
          "plot_bgcolor": "#E5ECF6",
          "polar": {
           "angularaxis": {
            "gridcolor": "white",
            "linecolor": "white",
            "ticks": ""
           },
           "bgcolor": "#E5ECF6",
           "radialaxis": {
            "gridcolor": "white",
            "linecolor": "white",
            "ticks": ""
           }
          },
          "scene": {
           "xaxis": {
            "backgroundcolor": "#E5ECF6",
            "gridcolor": "white",
            "gridwidth": 2,
            "linecolor": "white",
            "showbackground": true,
            "ticks": "",
            "zerolinecolor": "white"
           },
           "yaxis": {
            "backgroundcolor": "#E5ECF6",
            "gridcolor": "white",
            "gridwidth": 2,
            "linecolor": "white",
            "showbackground": true,
            "ticks": "",
            "zerolinecolor": "white"
           },
           "zaxis": {
            "backgroundcolor": "#E5ECF6",
            "gridcolor": "white",
            "gridwidth": 2,
            "linecolor": "white",
            "showbackground": true,
            "ticks": "",
            "zerolinecolor": "white"
           }
          },
          "shapedefaults": {
           "line": {
            "color": "#2a3f5f"
           }
          },
          "ternary": {
           "aaxis": {
            "gridcolor": "white",
            "linecolor": "white",
            "ticks": ""
           },
           "baxis": {
            "gridcolor": "white",
            "linecolor": "white",
            "ticks": ""
           },
           "bgcolor": "#E5ECF6",
           "caxis": {
            "gridcolor": "white",
            "linecolor": "white",
            "ticks": ""
           }
          },
          "title": {
           "x": 0.05
          },
          "xaxis": {
           "automargin": true,
           "gridcolor": "white",
           "linecolor": "white",
           "ticks": "",
           "title": {
            "standoff": 15
           },
           "zerolinecolor": "white",
           "zerolinewidth": 2
          },
          "yaxis": {
           "automargin": true,
           "gridcolor": "white",
           "linecolor": "white",
           "ticks": "",
           "title": {
            "standoff": 15
           },
           "zerolinecolor": "white",
           "zerolinewidth": 2
          }
         }
        },
        "title": {
         "text": "Greenhouse gas emissions across stages of oil production lifecycle"
        },
        "xaxis": {
         "title": {
          "text": "Emissions [Kg CO2 - equivalents per kg product]"
         }
        },
        "yaxis": {
         "title": {
          "text": "Oil Type"
         }
        }
       }
      }
     },
     "metadata": {},
     "output_type": "display_data"
    }
   ],
   "source": [
    "import pandas as pd\n",
    "import plotly.graph_objs as go\n",
    "import plotly.express as px\n",
    "\n",
    "# Load your dataset\n",
    "fp_raw = pd.read_csv('../Datasets/Food_Production.csv')\n",
    "\n",
    "# Filter for oils\n",
    "oils = fp_raw[fp_raw['Food product'].str.contains('Oil')]\n",
    "\n",
    "# Specify the order of oils\n",
    "oil_order = ['Sunflower Oil', 'Rapeseed Oil', 'Olive Oil', 'Soybean Oil', 'Palm Oil']\n",
    "\n",
    "# Set the order in the DataFrame\n",
    "oils['Food product'] = pd.Categorical(oils['Food product'], categories=oil_order, ordered=True)\n",
    "oils = oils.sort_values(by='Food product')\n",
    "\n",
    "# Select relevant columns for plotting\n",
    "data2 = oils.iloc[:, [0, 1, 2, 3, 4, 5]]  # Assuming columns 1 to 5 are the stages of emissions\n",
    "\n",
    "# Define colors for each stage based on provided color palette\n",
    "colors = px.colors.qualitative.T10[:len(data2.columns[1:])]\n",
    "\n",
    "# Create traces for each stage\n",
    "traces = []\n",
    "for i, stage in enumerate(data2.columns[1:]):\n",
    "    trace = go.Bar(\n",
    "        y=data2['Food product'],\n",
    "        x=data2[stage],\n",
    "        name=stage,\n",
    "        orientation='h',\n",
    "        marker=dict(color=colors[i])\n",
    "    )\n",
    "    traces.append(trace)\n",
    "\n",
    "# Layout settings\n",
    "layout = go.Layout(\n",
    "    title='Greenhouse gas emissions across stages of oil production lifecycle',\n",
    "    barmode='stack',\n",
    "    yaxis=dict(title='Oil Type'),\n",
    "    xaxis=dict(title='Emissions [Kg CO2 - equivalents per kg product]'),\n",
    "    margin=dict(l=200),  # Adjust left margin to accommodate food product labels\n",
    "    height=600,  # Adjust height as needed\n",
    "    hovermode='closest',\n",
    "    showlegend=True\n",
    ")\n",
    "\n",
    "# Create figure object\n",
    "fig = go.Figure(data=traces, layout=layout)\n",
    "\n",
    "# Display the plot\n",
    "fig.show()\n"
   ]
  },
  {
   "cell_type": "markdown",
   "metadata": {},
   "source": [
    "## Perspective 2: The problem is with global demand for vegetable oil, not palm oil\n",
    "\n",
    "The solution seems straightforward: stop using palm oil. However, the solution might be a little more counter-intuitive. In fact, palm oil has some environmental benefits, especially its high yield per hectare. Looking at the chart below, it's clear that other oils require much more land to produce the same amount, with the next best already using 4 times as much area. So, replacing palm oil with other types could lead to more deforestation and all the problems that come with it."
   ]
  },
  {
   "cell_type": "code",
   "execution_count": 263,
   "metadata": {
    "tags": [
     "hide-input"
    ]
   },
   "outputs": [
    {
     "data": {
      "application/vnd.plotly.v1+json": {
       "config": {
        "plotlyServerURL": "https://plot.ly"
       },
       "data": [
        {
         "marker": {
          "color": [
           "#4C78A8",
           "#F58518",
           "#E45756",
           "#72B7B2",
           "#54A24B",
           "#EECA3B",
           "#B279A2",
           "#FF9DA6",
           "#9D755D"
          ]
         },
         "orientation": "h",
         "type": "bar",
         "x": [
          2.9909072,
          0.7332533,
          0.6281971,
          0.4718957,
          0.3241613,
          0.24315979,
          0.14546034,
          0.13188249,
          0.07831836
         ],
         "y": [
          "Oil Palm",
          "Rapeseed",
          "Sunflower",
          "Soybean",
          "Olive",
          "Coconut",
          "Groundnut",
          "Cottonseed",
          "Sesame"
         ]
        }
       ],
       "layout": {
        "height": 600,
        "margin": {
         "b": 0,
         "l": 0,
         "r": 0,
         "t": 30
        },
        "template": {
         "data": {
          "bar": [
           {
            "error_x": {
             "color": "#2a3f5f"
            },
            "error_y": {
             "color": "#2a3f5f"
            },
            "marker": {
             "line": {
              "color": "#E5ECF6",
              "width": 0.5
             },
             "pattern": {
              "fillmode": "overlay",
              "size": 10,
              "solidity": 0.2
             }
            },
            "type": "bar"
           }
          ],
          "barpolar": [
           {
            "marker": {
             "line": {
              "color": "#E5ECF6",
              "width": 0.5
             },
             "pattern": {
              "fillmode": "overlay",
              "size": 10,
              "solidity": 0.2
             }
            },
            "type": "barpolar"
           }
          ],
          "carpet": [
           {
            "aaxis": {
             "endlinecolor": "#2a3f5f",
             "gridcolor": "white",
             "linecolor": "white",
             "minorgridcolor": "white",
             "startlinecolor": "#2a3f5f"
            },
            "baxis": {
             "endlinecolor": "#2a3f5f",
             "gridcolor": "white",
             "linecolor": "white",
             "minorgridcolor": "white",
             "startlinecolor": "#2a3f5f"
            },
            "type": "carpet"
           }
          ],
          "choropleth": [
           {
            "colorbar": {
             "outlinewidth": 0,
             "ticks": ""
            },
            "type": "choropleth"
           }
          ],
          "contour": [
           {
            "colorbar": {
             "outlinewidth": 0,
             "ticks": ""
            },
            "colorscale": [
             [
              0,
              "#0d0887"
             ],
             [
              0.1111111111111111,
              "#46039f"
             ],
             [
              0.2222222222222222,
              "#7201a8"
             ],
             [
              0.3333333333333333,
              "#9c179e"
             ],
             [
              0.4444444444444444,
              "#bd3786"
             ],
             [
              0.5555555555555556,
              "#d8576b"
             ],
             [
              0.6666666666666666,
              "#ed7953"
             ],
             [
              0.7777777777777778,
              "#fb9f3a"
             ],
             [
              0.8888888888888888,
              "#fdca26"
             ],
             [
              1,
              "#f0f921"
             ]
            ],
            "type": "contour"
           }
          ],
          "contourcarpet": [
           {
            "colorbar": {
             "outlinewidth": 0,
             "ticks": ""
            },
            "type": "contourcarpet"
           }
          ],
          "heatmap": [
           {
            "colorbar": {
             "outlinewidth": 0,
             "ticks": ""
            },
            "colorscale": [
             [
              0,
              "#0d0887"
             ],
             [
              0.1111111111111111,
              "#46039f"
             ],
             [
              0.2222222222222222,
              "#7201a8"
             ],
             [
              0.3333333333333333,
              "#9c179e"
             ],
             [
              0.4444444444444444,
              "#bd3786"
             ],
             [
              0.5555555555555556,
              "#d8576b"
             ],
             [
              0.6666666666666666,
              "#ed7953"
             ],
             [
              0.7777777777777778,
              "#fb9f3a"
             ],
             [
              0.8888888888888888,
              "#fdca26"
             ],
             [
              1,
              "#f0f921"
             ]
            ],
            "type": "heatmap"
           }
          ],
          "heatmapgl": [
           {
            "colorbar": {
             "outlinewidth": 0,
             "ticks": ""
            },
            "colorscale": [
             [
              0,
              "#0d0887"
             ],
             [
              0.1111111111111111,
              "#46039f"
             ],
             [
              0.2222222222222222,
              "#7201a8"
             ],
             [
              0.3333333333333333,
              "#9c179e"
             ],
             [
              0.4444444444444444,
              "#bd3786"
             ],
             [
              0.5555555555555556,
              "#d8576b"
             ],
             [
              0.6666666666666666,
              "#ed7953"
             ],
             [
              0.7777777777777778,
              "#fb9f3a"
             ],
             [
              0.8888888888888888,
              "#fdca26"
             ],
             [
              1,
              "#f0f921"
             ]
            ],
            "type": "heatmapgl"
           }
          ],
          "histogram": [
           {
            "marker": {
             "pattern": {
              "fillmode": "overlay",
              "size": 10,
              "solidity": 0.2
             }
            },
            "type": "histogram"
           }
          ],
          "histogram2d": [
           {
            "colorbar": {
             "outlinewidth": 0,
             "ticks": ""
            },
            "colorscale": [
             [
              0,
              "#0d0887"
             ],
             [
              0.1111111111111111,
              "#46039f"
             ],
             [
              0.2222222222222222,
              "#7201a8"
             ],
             [
              0.3333333333333333,
              "#9c179e"
             ],
             [
              0.4444444444444444,
              "#bd3786"
             ],
             [
              0.5555555555555556,
              "#d8576b"
             ],
             [
              0.6666666666666666,
              "#ed7953"
             ],
             [
              0.7777777777777778,
              "#fb9f3a"
             ],
             [
              0.8888888888888888,
              "#fdca26"
             ],
             [
              1,
              "#f0f921"
             ]
            ],
            "type": "histogram2d"
           }
          ],
          "histogram2dcontour": [
           {
            "colorbar": {
             "outlinewidth": 0,
             "ticks": ""
            },
            "colorscale": [
             [
              0,
              "#0d0887"
             ],
             [
              0.1111111111111111,
              "#46039f"
             ],
             [
              0.2222222222222222,
              "#7201a8"
             ],
             [
              0.3333333333333333,
              "#9c179e"
             ],
             [
              0.4444444444444444,
              "#bd3786"
             ],
             [
              0.5555555555555556,
              "#d8576b"
             ],
             [
              0.6666666666666666,
              "#ed7953"
             ],
             [
              0.7777777777777778,
              "#fb9f3a"
             ],
             [
              0.8888888888888888,
              "#fdca26"
             ],
             [
              1,
              "#f0f921"
             ]
            ],
            "type": "histogram2dcontour"
           }
          ],
          "mesh3d": [
           {
            "colorbar": {
             "outlinewidth": 0,
             "ticks": ""
            },
            "type": "mesh3d"
           }
          ],
          "parcoords": [
           {
            "line": {
             "colorbar": {
              "outlinewidth": 0,
              "ticks": ""
             }
            },
            "type": "parcoords"
           }
          ],
          "pie": [
           {
            "automargin": true,
            "type": "pie"
           }
          ],
          "scatter": [
           {
            "fillpattern": {
             "fillmode": "overlay",
             "size": 10,
             "solidity": 0.2
            },
            "type": "scatter"
           }
          ],
          "scatter3d": [
           {
            "line": {
             "colorbar": {
              "outlinewidth": 0,
              "ticks": ""
             }
            },
            "marker": {
             "colorbar": {
              "outlinewidth": 0,
              "ticks": ""
             }
            },
            "type": "scatter3d"
           }
          ],
          "scattercarpet": [
           {
            "marker": {
             "colorbar": {
              "outlinewidth": 0,
              "ticks": ""
             }
            },
            "type": "scattercarpet"
           }
          ],
          "scattergeo": [
           {
            "marker": {
             "colorbar": {
              "outlinewidth": 0,
              "ticks": ""
             }
            },
            "type": "scattergeo"
           }
          ],
          "scattergl": [
           {
            "marker": {
             "colorbar": {
              "outlinewidth": 0,
              "ticks": ""
             }
            },
            "type": "scattergl"
           }
          ],
          "scattermapbox": [
           {
            "marker": {
             "colorbar": {
              "outlinewidth": 0,
              "ticks": ""
             }
            },
            "type": "scattermapbox"
           }
          ],
          "scatterpolar": [
           {
            "marker": {
             "colorbar": {
              "outlinewidth": 0,
              "ticks": ""
             }
            },
            "type": "scatterpolar"
           }
          ],
          "scatterpolargl": [
           {
            "marker": {
             "colorbar": {
              "outlinewidth": 0,
              "ticks": ""
             }
            },
            "type": "scatterpolargl"
           }
          ],
          "scatterternary": [
           {
            "marker": {
             "colorbar": {
              "outlinewidth": 0,
              "ticks": ""
             }
            },
            "type": "scatterternary"
           }
          ],
          "surface": [
           {
            "colorbar": {
             "outlinewidth": 0,
             "ticks": ""
            },
            "colorscale": [
             [
              0,
              "#0d0887"
             ],
             [
              0.1111111111111111,
              "#46039f"
             ],
             [
              0.2222222222222222,
              "#7201a8"
             ],
             [
              0.3333333333333333,
              "#9c179e"
             ],
             [
              0.4444444444444444,
              "#bd3786"
             ],
             [
              0.5555555555555556,
              "#d8576b"
             ],
             [
              0.6666666666666666,
              "#ed7953"
             ],
             [
              0.7777777777777778,
              "#fb9f3a"
             ],
             [
              0.8888888888888888,
              "#fdca26"
             ],
             [
              1,
              "#f0f921"
             ]
            ],
            "type": "surface"
           }
          ],
          "table": [
           {
            "cells": {
             "fill": {
              "color": "#EBF0F8"
             },
             "line": {
              "color": "white"
             }
            },
            "header": {
             "fill": {
              "color": "#C8D4E3"
             },
             "line": {
              "color": "white"
             }
            },
            "type": "table"
           }
          ]
         },
         "layout": {
          "annotationdefaults": {
           "arrowcolor": "#2a3f5f",
           "arrowhead": 0,
           "arrowwidth": 1
          },
          "autotypenumbers": "strict",
          "coloraxis": {
           "colorbar": {
            "outlinewidth": 0,
            "ticks": ""
           }
          },
          "colorscale": {
           "diverging": [
            [
             0,
             "#8e0152"
            ],
            [
             0.1,
             "#c51b7d"
            ],
            [
             0.2,
             "#de77ae"
            ],
            [
             0.3,
             "#f1b6da"
            ],
            [
             0.4,
             "#fde0ef"
            ],
            [
             0.5,
             "#f7f7f7"
            ],
            [
             0.6,
             "#e6f5d0"
            ],
            [
             0.7,
             "#b8e186"
            ],
            [
             0.8,
             "#7fbc41"
            ],
            [
             0.9,
             "#4d9221"
            ],
            [
             1,
             "#276419"
            ]
           ],
           "sequential": [
            [
             0,
             "#0d0887"
            ],
            [
             0.1111111111111111,
             "#46039f"
            ],
            [
             0.2222222222222222,
             "#7201a8"
            ],
            [
             0.3333333333333333,
             "#9c179e"
            ],
            [
             0.4444444444444444,
             "#bd3786"
            ],
            [
             0.5555555555555556,
             "#d8576b"
            ],
            [
             0.6666666666666666,
             "#ed7953"
            ],
            [
             0.7777777777777778,
             "#fb9f3a"
            ],
            [
             0.8888888888888888,
             "#fdca26"
            ],
            [
             1,
             "#f0f921"
            ]
           ],
           "sequentialminus": [
            [
             0,
             "#0d0887"
            ],
            [
             0.1111111111111111,
             "#46039f"
            ],
            [
             0.2222222222222222,
             "#7201a8"
            ],
            [
             0.3333333333333333,
             "#9c179e"
            ],
            [
             0.4444444444444444,
             "#bd3786"
            ],
            [
             0.5555555555555556,
             "#d8576b"
            ],
            [
             0.6666666666666666,
             "#ed7953"
            ],
            [
             0.7777777777777778,
             "#fb9f3a"
            ],
            [
             0.8888888888888888,
             "#fdca26"
            ],
            [
             1,
             "#f0f921"
            ]
           ]
          },
          "colorway": [
           "#636efa",
           "#EF553B",
           "#00cc96",
           "#ab63fa",
           "#FFA15A",
           "#19d3f3",
           "#FF6692",
           "#B6E880",
           "#FF97FF",
           "#FECB52"
          ],
          "font": {
           "color": "#2a3f5f"
          },
          "geo": {
           "bgcolor": "white",
           "lakecolor": "white",
           "landcolor": "#E5ECF6",
           "showlakes": true,
           "showland": true,
           "subunitcolor": "white"
          },
          "hoverlabel": {
           "align": "left"
          },
          "hovermode": "closest",
          "mapbox": {
           "style": "light"
          },
          "paper_bgcolor": "white",
          "plot_bgcolor": "#E5ECF6",
          "polar": {
           "angularaxis": {
            "gridcolor": "white",
            "linecolor": "white",
            "ticks": ""
           },
           "bgcolor": "#E5ECF6",
           "radialaxis": {
            "gridcolor": "white",
            "linecolor": "white",
            "ticks": ""
           }
          },
          "scene": {
           "xaxis": {
            "backgroundcolor": "#E5ECF6",
            "gridcolor": "white",
            "gridwidth": 2,
            "linecolor": "white",
            "showbackground": true,
            "ticks": "",
            "zerolinecolor": "white"
           },
           "yaxis": {
            "backgroundcolor": "#E5ECF6",
            "gridcolor": "white",
            "gridwidth": 2,
            "linecolor": "white",
            "showbackground": true,
            "ticks": "",
            "zerolinecolor": "white"
           },
           "zaxis": {
            "backgroundcolor": "#E5ECF6",
            "gridcolor": "white",
            "gridwidth": 2,
            "linecolor": "white",
            "showbackground": true,
            "ticks": "",
            "zerolinecolor": "white"
           }
          },
          "shapedefaults": {
           "line": {
            "color": "#2a3f5f"
           }
          },
          "ternary": {
           "aaxis": {
            "gridcolor": "white",
            "linecolor": "white",
            "ticks": ""
           },
           "baxis": {
            "gridcolor": "white",
            "linecolor": "white",
            "ticks": ""
           },
           "bgcolor": "#E5ECF6",
           "caxis": {
            "gridcolor": "white",
            "linecolor": "white",
            "ticks": ""
           }
          },
          "title": {
           "x": 0.05
          },
          "xaxis": {
           "automargin": true,
           "gridcolor": "white",
           "linecolor": "white",
           "ticks": "",
           "title": {
            "standoff": 15
           },
           "zerolinecolor": "white",
           "zerolinewidth": 2
          },
          "yaxis": {
           "automargin": true,
           "gridcolor": "white",
           "linecolor": "white",
           "ticks": "",
           "title": {
            "standoff": 15
           },
           "zerolinecolor": "white",
           "zerolinewidth": 2
          }
         }
        },
        "title": {
         "text": "Global mean oil yield per hectare in 2021 per crop"
        },
        "xaxis": {
         "title": {
          "text": "Mean yield per hectare (tonnes)"
         }
        },
        "yaxis": {
         "title": {
          "text": "Type of oil"
         }
        }
       }
      }
     },
     "metadata": {},
     "output_type": "display_data"
    }
   ],
   "source": [
    "import pandas as pd\n",
    "import plotly.graph_objects as go\n",
    "import plotly.express as px\n",
    "\n",
    "# Load the dataset\n",
    "oils_df = pd.read_csv('../Datasets/Oils/oil-yield-by-crop.csv')\n",
    "\n",
    "# Filter for the entity 'World'\n",
    "world_df = oils_df[oils_df['Entity'] == 'World']\n",
    "\n",
    "# Filter for the year 2021\n",
    "df_2021 = world_df.loc[world_df['Year'] == 2021]\n",
    "\n",
    "# Drop unnecessary columns\n",
    "df_2021_clean = df_2021.drop(columns=['Entity', 'Code', 'Year'])\n",
    "\n",
    "# Calculate the mean for each type of oil yield for the year 2021, ignoring NaNs\n",
    "mean_columns_2021 = df_2021_clean.mean()\n",
    "\n",
    "# Sort the mean values in descending order\n",
    "mean_columns_2021_sorted = mean_columns_2021.sort_values(ascending=False)\n",
    "\n",
    "# Define colors from Plotly's T10 qualitative color palette\n",
    "colors = px.colors.qualitative.T10[:len(mean_columns_2021_sorted)]\n",
    "\n",
    "# Create a bar plot using Plotly\n",
    "fig = go.Figure()\n",
    "\n",
    "fig.add_trace(go.Bar(\n",
    "    x=mean_columns_2021_sorted.values,\n",
    "    y=mean_columns_2021_sorted.index,\n",
    "    orientation='h',  # horizontal bar chart\n",
    "    marker_color=colors,  # assign colors to bars\n",
    "))\n",
    "\n",
    "fig.update_layout(\n",
    "    title='Global mean oil yield per hectare in 2021 per crop',\n",
    "    xaxis_title='Mean yield per hectare (tonnes)',\n",
    "    yaxis_title='Type of oil',\n",
    "    height=600,\n",
    "    margin=dict(l=0, r=0, t=30, b=0),  # adjust margins for better appearance\n",
    ")\n",
    "\n",
    "# Show the plot\n",
    "fig.show()\n"
   ]
  },
  {
   "cell_type": "markdown",
   "metadata": {},
   "source": [
    "In fact, as you can see in the following chart, almost 40 per cent of all vegetable oil in the world comes from the oil palm. Should this be replaced by any other oil, the total land area on which vegetable oil crops are grown would be at least doubled."
   ]
  },
  {
   "cell_type": "code",
   "execution_count": 264,
   "metadata": {
    "tags": [
     "hide-input"
    ]
   },
   "outputs": [
    {
     "data": {
      "application/vnd.plotly.v1+json": {
       "config": {
        "plotlyServerURL": "https://plot.ly"
       },
       "data": [
        {
         "hole": 0.7,
         "insidetextorientation": "radial",
         "labels": [
          "Palm",
          "Soybean",
          "Rapeseed",
          "Sunflower",
          "Palm kernel",
          "Groundnut",
          "Cottonseed",
          "Olive",
          "Other"
         ],
         "marker": {
          "colors": [
           "#4C78A8",
           "#F58518",
           "#E45756",
           "#72B7B2",
           "#54A24B",
           "#EECA3B",
           "#B279A2",
           "#FF9DA6",
           "#9D755D",
           "#BAB0AC"
          ]
         },
         "textinfo": "label+percent",
         "textposition": "outside",
         "type": "pie",
         "values": [
          80584560,
          60315692,
          26469122,
          18251694,
          7991699,
          4749601,
          4305035,
          3348153.8,
          7463307.61
         ]
        }
       ],
       "layout": {
        "height": 600,
        "showlegend": false,
        "template": {
         "data": {
          "bar": [
           {
            "error_x": {
             "color": "#2a3f5f"
            },
            "error_y": {
             "color": "#2a3f5f"
            },
            "marker": {
             "line": {
              "color": "#E5ECF6",
              "width": 0.5
             },
             "pattern": {
              "fillmode": "overlay",
              "size": 10,
              "solidity": 0.2
             }
            },
            "type": "bar"
           }
          ],
          "barpolar": [
           {
            "marker": {
             "line": {
              "color": "#E5ECF6",
              "width": 0.5
             },
             "pattern": {
              "fillmode": "overlay",
              "size": 10,
              "solidity": 0.2
             }
            },
            "type": "barpolar"
           }
          ],
          "carpet": [
           {
            "aaxis": {
             "endlinecolor": "#2a3f5f",
             "gridcolor": "white",
             "linecolor": "white",
             "minorgridcolor": "white",
             "startlinecolor": "#2a3f5f"
            },
            "baxis": {
             "endlinecolor": "#2a3f5f",
             "gridcolor": "white",
             "linecolor": "white",
             "minorgridcolor": "white",
             "startlinecolor": "#2a3f5f"
            },
            "type": "carpet"
           }
          ],
          "choropleth": [
           {
            "colorbar": {
             "outlinewidth": 0,
             "ticks": ""
            },
            "type": "choropleth"
           }
          ],
          "contour": [
           {
            "colorbar": {
             "outlinewidth": 0,
             "ticks": ""
            },
            "colorscale": [
             [
              0,
              "#0d0887"
             ],
             [
              0.1111111111111111,
              "#46039f"
             ],
             [
              0.2222222222222222,
              "#7201a8"
             ],
             [
              0.3333333333333333,
              "#9c179e"
             ],
             [
              0.4444444444444444,
              "#bd3786"
             ],
             [
              0.5555555555555556,
              "#d8576b"
             ],
             [
              0.6666666666666666,
              "#ed7953"
             ],
             [
              0.7777777777777778,
              "#fb9f3a"
             ],
             [
              0.8888888888888888,
              "#fdca26"
             ],
             [
              1,
              "#f0f921"
             ]
            ],
            "type": "contour"
           }
          ],
          "contourcarpet": [
           {
            "colorbar": {
             "outlinewidth": 0,
             "ticks": ""
            },
            "type": "contourcarpet"
           }
          ],
          "heatmap": [
           {
            "colorbar": {
             "outlinewidth": 0,
             "ticks": ""
            },
            "colorscale": [
             [
              0,
              "#0d0887"
             ],
             [
              0.1111111111111111,
              "#46039f"
             ],
             [
              0.2222222222222222,
              "#7201a8"
             ],
             [
              0.3333333333333333,
              "#9c179e"
             ],
             [
              0.4444444444444444,
              "#bd3786"
             ],
             [
              0.5555555555555556,
              "#d8576b"
             ],
             [
              0.6666666666666666,
              "#ed7953"
             ],
             [
              0.7777777777777778,
              "#fb9f3a"
             ],
             [
              0.8888888888888888,
              "#fdca26"
             ],
             [
              1,
              "#f0f921"
             ]
            ],
            "type": "heatmap"
           }
          ],
          "heatmapgl": [
           {
            "colorbar": {
             "outlinewidth": 0,
             "ticks": ""
            },
            "colorscale": [
             [
              0,
              "#0d0887"
             ],
             [
              0.1111111111111111,
              "#46039f"
             ],
             [
              0.2222222222222222,
              "#7201a8"
             ],
             [
              0.3333333333333333,
              "#9c179e"
             ],
             [
              0.4444444444444444,
              "#bd3786"
             ],
             [
              0.5555555555555556,
              "#d8576b"
             ],
             [
              0.6666666666666666,
              "#ed7953"
             ],
             [
              0.7777777777777778,
              "#fb9f3a"
             ],
             [
              0.8888888888888888,
              "#fdca26"
             ],
             [
              1,
              "#f0f921"
             ]
            ],
            "type": "heatmapgl"
           }
          ],
          "histogram": [
           {
            "marker": {
             "pattern": {
              "fillmode": "overlay",
              "size": 10,
              "solidity": 0.2
             }
            },
            "type": "histogram"
           }
          ],
          "histogram2d": [
           {
            "colorbar": {
             "outlinewidth": 0,
             "ticks": ""
            },
            "colorscale": [
             [
              0,
              "#0d0887"
             ],
             [
              0.1111111111111111,
              "#46039f"
             ],
             [
              0.2222222222222222,
              "#7201a8"
             ],
             [
              0.3333333333333333,
              "#9c179e"
             ],
             [
              0.4444444444444444,
              "#bd3786"
             ],
             [
              0.5555555555555556,
              "#d8576b"
             ],
             [
              0.6666666666666666,
              "#ed7953"
             ],
             [
              0.7777777777777778,
              "#fb9f3a"
             ],
             [
              0.8888888888888888,
              "#fdca26"
             ],
             [
              1,
              "#f0f921"
             ]
            ],
            "type": "histogram2d"
           }
          ],
          "histogram2dcontour": [
           {
            "colorbar": {
             "outlinewidth": 0,
             "ticks": ""
            },
            "colorscale": [
             [
              0,
              "#0d0887"
             ],
             [
              0.1111111111111111,
              "#46039f"
             ],
             [
              0.2222222222222222,
              "#7201a8"
             ],
             [
              0.3333333333333333,
              "#9c179e"
             ],
             [
              0.4444444444444444,
              "#bd3786"
             ],
             [
              0.5555555555555556,
              "#d8576b"
             ],
             [
              0.6666666666666666,
              "#ed7953"
             ],
             [
              0.7777777777777778,
              "#fb9f3a"
             ],
             [
              0.8888888888888888,
              "#fdca26"
             ],
             [
              1,
              "#f0f921"
             ]
            ],
            "type": "histogram2dcontour"
           }
          ],
          "mesh3d": [
           {
            "colorbar": {
             "outlinewidth": 0,
             "ticks": ""
            },
            "type": "mesh3d"
           }
          ],
          "parcoords": [
           {
            "line": {
             "colorbar": {
              "outlinewidth": 0,
              "ticks": ""
             }
            },
            "type": "parcoords"
           }
          ],
          "pie": [
           {
            "automargin": true,
            "type": "pie"
           }
          ],
          "scatter": [
           {
            "fillpattern": {
             "fillmode": "overlay",
             "size": 10,
             "solidity": 0.2
            },
            "type": "scatter"
           }
          ],
          "scatter3d": [
           {
            "line": {
             "colorbar": {
              "outlinewidth": 0,
              "ticks": ""
             }
            },
            "marker": {
             "colorbar": {
              "outlinewidth": 0,
              "ticks": ""
             }
            },
            "type": "scatter3d"
           }
          ],
          "scattercarpet": [
           {
            "marker": {
             "colorbar": {
              "outlinewidth": 0,
              "ticks": ""
             }
            },
            "type": "scattercarpet"
           }
          ],
          "scattergeo": [
           {
            "marker": {
             "colorbar": {
              "outlinewidth": 0,
              "ticks": ""
             }
            },
            "type": "scattergeo"
           }
          ],
          "scattergl": [
           {
            "marker": {
             "colorbar": {
              "outlinewidth": 0,
              "ticks": ""
             }
            },
            "type": "scattergl"
           }
          ],
          "scattermapbox": [
           {
            "marker": {
             "colorbar": {
              "outlinewidth": 0,
              "ticks": ""
             }
            },
            "type": "scattermapbox"
           }
          ],
          "scatterpolar": [
           {
            "marker": {
             "colorbar": {
              "outlinewidth": 0,
              "ticks": ""
             }
            },
            "type": "scatterpolar"
           }
          ],
          "scatterpolargl": [
           {
            "marker": {
             "colorbar": {
              "outlinewidth": 0,
              "ticks": ""
             }
            },
            "type": "scatterpolargl"
           }
          ],
          "scatterternary": [
           {
            "marker": {
             "colorbar": {
              "outlinewidth": 0,
              "ticks": ""
             }
            },
            "type": "scatterternary"
           }
          ],
          "surface": [
           {
            "colorbar": {
             "outlinewidth": 0,
             "ticks": ""
            },
            "colorscale": [
             [
              0,
              "#0d0887"
             ],
             [
              0.1111111111111111,
              "#46039f"
             ],
             [
              0.2222222222222222,
              "#7201a8"
             ],
             [
              0.3333333333333333,
              "#9c179e"
             ],
             [
              0.4444444444444444,
              "#bd3786"
             ],
             [
              0.5555555555555556,
              "#d8576b"
             ],
             [
              0.6666666666666666,
              "#ed7953"
             ],
             [
              0.7777777777777778,
              "#fb9f3a"
             ],
             [
              0.8888888888888888,
              "#fdca26"
             ],
             [
              1,
              "#f0f921"
             ]
            ],
            "type": "surface"
           }
          ],
          "table": [
           {
            "cells": {
             "fill": {
              "color": "#EBF0F8"
             },
             "line": {
              "color": "white"
             }
            },
            "header": {
             "fill": {
              "color": "#C8D4E3"
             },
             "line": {
              "color": "white"
             }
            },
            "type": "table"
           }
          ]
         },
         "layout": {
          "annotationdefaults": {
           "arrowcolor": "#2a3f5f",
           "arrowhead": 0,
           "arrowwidth": 1
          },
          "autotypenumbers": "strict",
          "coloraxis": {
           "colorbar": {
            "outlinewidth": 0,
            "ticks": ""
           }
          },
          "colorscale": {
           "diverging": [
            [
             0,
             "#8e0152"
            ],
            [
             0.1,
             "#c51b7d"
            ],
            [
             0.2,
             "#de77ae"
            ],
            [
             0.3,
             "#f1b6da"
            ],
            [
             0.4,
             "#fde0ef"
            ],
            [
             0.5,
             "#f7f7f7"
            ],
            [
             0.6,
             "#e6f5d0"
            ],
            [
             0.7,
             "#b8e186"
            ],
            [
             0.8,
             "#7fbc41"
            ],
            [
             0.9,
             "#4d9221"
            ],
            [
             1,
             "#276419"
            ]
           ],
           "sequential": [
            [
             0,
             "#0d0887"
            ],
            [
             0.1111111111111111,
             "#46039f"
            ],
            [
             0.2222222222222222,
             "#7201a8"
            ],
            [
             0.3333333333333333,
             "#9c179e"
            ],
            [
             0.4444444444444444,
             "#bd3786"
            ],
            [
             0.5555555555555556,
             "#d8576b"
            ],
            [
             0.6666666666666666,
             "#ed7953"
            ],
            [
             0.7777777777777778,
             "#fb9f3a"
            ],
            [
             0.8888888888888888,
             "#fdca26"
            ],
            [
             1,
             "#f0f921"
            ]
           ],
           "sequentialminus": [
            [
             0,
             "#0d0887"
            ],
            [
             0.1111111111111111,
             "#46039f"
            ],
            [
             0.2222222222222222,
             "#7201a8"
            ],
            [
             0.3333333333333333,
             "#9c179e"
            ],
            [
             0.4444444444444444,
             "#bd3786"
            ],
            [
             0.5555555555555556,
             "#d8576b"
            ],
            [
             0.6666666666666666,
             "#ed7953"
            ],
            [
             0.7777777777777778,
             "#fb9f3a"
            ],
            [
             0.8888888888888888,
             "#fdca26"
            ],
            [
             1,
             "#f0f921"
            ]
           ]
          },
          "colorway": [
           "#636efa",
           "#EF553B",
           "#00cc96",
           "#ab63fa",
           "#FFA15A",
           "#19d3f3",
           "#FF6692",
           "#B6E880",
           "#FF97FF",
           "#FECB52"
          ],
          "font": {
           "color": "#2a3f5f"
          },
          "geo": {
           "bgcolor": "white",
           "lakecolor": "white",
           "landcolor": "#E5ECF6",
           "showlakes": true,
           "showland": true,
           "subunitcolor": "white"
          },
          "hoverlabel": {
           "align": "left"
          },
          "hovermode": "closest",
          "mapbox": {
           "style": "light"
          },
          "paper_bgcolor": "white",
          "plot_bgcolor": "#E5ECF6",
          "polar": {
           "angularaxis": {
            "gridcolor": "white",
            "linecolor": "white",
            "ticks": ""
           },
           "bgcolor": "#E5ECF6",
           "radialaxis": {
            "gridcolor": "white",
            "linecolor": "white",
            "ticks": ""
           }
          },
          "scene": {
           "xaxis": {
            "backgroundcolor": "#E5ECF6",
            "gridcolor": "white",
            "gridwidth": 2,
            "linecolor": "white",
            "showbackground": true,
            "ticks": "",
            "zerolinecolor": "white"
           },
           "yaxis": {
            "backgroundcolor": "#E5ECF6",
            "gridcolor": "white",
            "gridwidth": 2,
            "linecolor": "white",
            "showbackground": true,
            "ticks": "",
            "zerolinecolor": "white"
           },
           "zaxis": {
            "backgroundcolor": "#E5ECF6",
            "gridcolor": "white",
            "gridwidth": 2,
            "linecolor": "white",
            "showbackground": true,
            "ticks": "",
            "zerolinecolor": "white"
           }
          },
          "shapedefaults": {
           "line": {
            "color": "#2a3f5f"
           }
          },
          "ternary": {
           "aaxis": {
            "gridcolor": "white",
            "linecolor": "white",
            "ticks": ""
           },
           "baxis": {
            "gridcolor": "white",
            "linecolor": "white",
            "ticks": ""
           },
           "bgcolor": "#E5ECF6",
           "caxis": {
            "gridcolor": "white",
            "linecolor": "white",
            "ticks": ""
           }
          },
          "title": {
           "x": 0.05
          },
          "xaxis": {
           "automargin": true,
           "gridcolor": "white",
           "linecolor": "white",
           "ticks": "",
           "title": {
            "standoff": 15
           },
           "zerolinecolor": "white",
           "zerolinewidth": 2
          },
          "yaxis": {
           "automargin": true,
           "gridcolor": "white",
           "linecolor": "white",
           "ticks": "",
           "title": {
            "standoff": 15
           },
           "zerolinecolor": "white",
           "zerolinewidth": 2
          }
         }
        },
        "title": {
         "text": "Total vegetable oil production in 2021"
        }
       }
      }
     },
     "metadata": {},
     "output_type": "display_data"
    }
   ],
   "source": [
    "import pandas as pd\n",
    "import plotly.graph_objects as go\n",
    "\n",
    "# Load the dataset\n",
    "oils_df = pd.read_csv('../Datasets/vegetable-oil-production.csv')\n",
    "\n",
    "# Filter for the entity 'World'\n",
    "world_df = oils_df[oils_df['Entity'] == 'World']\n",
    "\n",
    "# Filter for the year 2021\n",
    "df_2021 = world_df.loc[world_df['Year'] == 2021]\n",
    "\n",
    "# Drop unnecessary columns\n",
    "df_2021_clean = df_2021.drop(columns=['Entity', 'Code', 'Year'])\n",
    "\n",
    "# Calculate the mean for each type of oil yield for the year 2021, ignoring NaNs\n",
    "mean_columns_2021 = df_2021_clean.mean()\n",
    "\n",
    "# Sort the mean values in descending order\n",
    "mean_columns_2021_sorted = mean_columns_2021.sort_values(ascending=False)\n",
    "\n",
    "# Combine the lowest 5 categories into 'Other'\n",
    "top_categories = mean_columns_2021_sorted[:-5]\n",
    "other_category = mean_columns_2021_sorted[-5:].sum()\n",
    "mean_combined = pd.concat([top_categories, pd.Series({'Other': other_category})])\n",
    "\n",
    "# Prepare the data for the Plotly chart\n",
    "labels = mean_combined.index.tolist()\n",
    "values = mean_combined.values.tolist()\n",
    "colors = px.colors.qualitative.T10\n",
    "\n",
    "# Create the donut chart using Plotly\n",
    "fig = go.Figure(data=[go.Pie(\n",
    "    labels=labels, \n",
    "    values=values, \n",
    "    hole=.7,  # Set the hole size for the donut chart\n",
    "    textinfo='label+percent',\n",
    "    textposition='outside',\n",
    "    insidetextorientation='radial',\n",
    "    marker=dict(colors=colors)\n",
    "    )])\n",
    "\n",
    "fig.update_layout(\n",
    "    title_text='Total vegetable oil production in 2021',\n",
    "    showlegend=False,\n",
    "    height=600 \n",
    ")\n",
    "\n",
    "# Show the plot\n",
    "fig.show()\n"
   ]
  },
  {
   "cell_type": "code",
   "execution_count": 29,
   "metadata": {
    "tags": [
     "hide-input"
    ]
   },
   "outputs": [
    {
     "data": {
      "application/vnd.plotly.v1+json": {
       "config": {
        "plotlyServerURL": "https://plot.ly"
       },
       "data": [
        {
         "hovertemplate": "Year=%{x}<br>Tree Cover Loss (ha)=%{y}<br>Palm Oil Production (tonnes)=%{marker.color}<extra></extra>",
         "legendgroup": "",
         "marker": {
          "color": [
           8396472,
           8396472,
           8396472,
           8396472,
           8396472,
           8396472,
           8396472,
           8396472,
           8396472,
           8396472,
           8396472,
           8396472,
           8396472,
           8396472,
           8396472,
           8396472,
           8396472,
           8396472,
           8396472,
           8396472,
           8396472,
           8396472,
           8396472,
           8396472,
           8396472,
           8396472,
           8396472,
           8396472,
           8396472,
           8396472,
           8396472,
           8396472,
           9622344,
           9622344,
           9622344,
           9622344,
           9622344,
           9622344,
           9622344,
           9622344,
           9622344,
           9622344,
           9622344,
           9622344,
           9622344,
           9622344,
           9622344,
           9622344,
           9622344,
           9622344,
           9622344,
           9622344,
           9622344,
           9622344,
           9622344,
           9622344,
           9622344,
           9622344,
           9622344,
           9622344,
           9622344,
           9622344,
           9622344,
           9622344,
           10440834,
           10440834,
           10440834,
           10440834,
           10440834,
           10440834,
           10440834,
           10440834,
           10440834,
           10440834,
           10440834,
           10440834,
           10440834,
           10440834,
           10440834,
           10440834,
           10440834,
           10440834,
           10440834,
           10440834,
           10440834,
           10440834,
           10440834,
           10440834,
           10440834,
           10440834,
           10440834,
           10440834,
           10440834,
           10440834,
           10440834,
           10440834,
           10830389,
           10830389,
           10830389,
           10830389,
           10830389,
           10830389,
           10830389,
           10830389,
           10830389,
           10830389,
           10830389,
           10830389,
           10830389,
           10830389,
           10830389,
           10830389,
           10830389,
           10830389,
           10830389,
           10830389,
           10830389,
           10830389,
           10830389,
           10830389,
           10830389,
           10830389,
           10830389,
           10830389,
           10830389,
           10830389,
           10830389,
           10830389,
           11861615,
           11861615,
           11861615,
           11861615,
           11861615,
           11861615,
           11861615,
           11861615,
           11861615,
           11861615,
           11861615,
           11861615,
           11861615,
           11861615,
           11861615,
           11861615,
           11861615,
           11861615,
           11861615,
           11861615,
           11861615,
           11861615,
           11861615,
           11861615,
           11861615,
           11861615,
           11861615,
           11861615,
           11861615,
           11861615,
           11861615,
           11861615,
           17350848,
           17350848,
           17350848,
           17350848,
           17350848,
           17350848,
           17350848,
           17350848,
           17350848,
           17350848,
           17350848,
           17350848,
           17350848,
           17350848,
           17350848,
           17350848,
           17350848,
           17350848,
           17350848,
           17350848,
           17350848,
           17350848,
           17350848,
           17350848,
           17350848,
           17350848,
           17350848,
           17350848,
           17350848,
           17350848,
           17350848,
           17350848,
           17664724,
           17664724,
           17664724,
           17664724,
           17664724,
           17664724,
           17664724,
           17664724,
           17664724,
           17664724,
           17664724,
           17664724,
           17664724,
           17664724,
           17664724,
           17664724,
           17664724,
           17664724,
           17664724,
           17664724,
           17664724,
           17664724,
           17664724,
           17664724,
           17664724,
           17664724,
           17664724,
           17664724,
           17664724,
           17664724,
           17664724,
           17664724,
           17539788,
           17539788,
           17539788,
           17539788,
           17539788,
           17539788,
           17539788,
           17539788,
           17539788,
           17539788,
           17539788,
           17539788,
           17539788,
           17539788,
           17539788,
           17539788,
           17539788,
           17539788,
           17539788,
           17539788,
           17539788,
           17539788,
           17539788,
           17539788,
           17539788,
           17539788,
           17539788,
           17539788,
           17539788,
           17539788,
           17539788,
           17539788,
           19324292,
           19324292,
           19324292,
           19324292,
           19324292,
           19324292,
           19324292,
           19324292,
           19324292,
           19324292,
           19324292,
           19324292,
           19324292,
           19324292,
           19324292,
           19324292,
           19324292,
           19324292,
           19324292,
           19324292,
           19324292,
           19324292,
           19324292,
           19324292,
           19324292,
           19324292,
           19324292,
           19324292,
           19324292,
           19324292,
           19324292,
           19324292,
           21958120,
           21958120,
           21958120,
           21958120,
           21958120,
           21958120,
           21958120,
           21958120,
           21958120,
           21958120,
           21958120,
           21958120,
           21958120,
           21958120,
           21958120,
           21958120,
           21958120,
           21958120,
           21958120,
           21958120,
           21958120,
           21958120,
           21958120,
           21958120,
           21958120,
           21958120,
           21958120,
           21958120,
           21958120,
           21958120,
           21958120,
           21958120,
           23096540,
           23096540,
           23096540,
           23096540,
           23096540,
           23096540,
           23096540,
           23096540,
           23096540,
           23096540,
           23096540,
           23096540,
           23096540,
           23096540,
           23096540,
           23096540,
           23096540,
           23096540,
           23096540,
           23096540,
           23096540,
           23096540,
           23096540,
           23096540,
           23096540,
           23096540,
           23096540,
           23096540,
           23096540,
           23096540,
           23096540,
           23096540,
           26015520,
           26015520,
           26015520,
           26015520,
           26015520,
           26015520,
           26015520,
           26015520,
           26015520,
           26015520,
           26015520,
           26015520,
           26015520,
           26015520,
           26015520,
           26015520,
           26015520,
           26015520,
           26015520,
           26015520,
           26015520,
           26015520,
           26015520,
           26015520,
           26015520,
           26015520,
           26015520,
           26015520,
           26015520,
           26015520,
           26015520,
           26015520,
           27782004,
           27782004,
           27782004,
           27782004,
           27782004,
           27782004,
           27782004,
           27782004,
           27782004,
           27782004,
           27782004,
           27782004,
           27782004,
           27782004,
           27782004,
           27782004,
           27782004,
           27782004,
           27782004,
           27782004,
           27782004,
           27782004,
           27782004,
           27782004,
           27782004,
           27782004,
           27782004,
           27782004,
           27782004,
           27782004,
           27782004,
           27782004,
           29278188,
           29278188,
           29278188,
           29278188,
           29278188,
           29278188,
           29278188,
           29278188,
           29278188,
           29278188,
           29278188,
           29278188,
           29278188,
           29278188,
           29278188,
           29278188,
           29278188,
           29278188,
           29278188,
           29278188,
           29278188,
           29278188,
           29278188,
           29278188,
           29278188,
           29278188,
           29278188,
           29278188,
           29278188,
           29278188,
           29278188,
           29278188,
           31070016,
           31070016,
           31070016,
           31070016,
           31070016,
           31070016,
           31070016,
           31070016,
           31070016,
           31070016,
           31070016,
           31070016,
           31070016,
           31070016,
           31070016,
           31070016,
           31070016,
           31070016,
           31070016,
           31070016,
           31070016,
           31070016,
           31070016,
           31070016,
           31070016,
           31070016,
           31070016,
           31070016,
           31070016,
           31070016,
           31070016,
           31070016,
           31730960,
           31730960,
           31730960,
           31730960,
           31730960,
           31730960,
           31730960,
           31730960,
           31730960,
           31730960,
           31730960,
           31730960,
           31730960,
           31730960,
           31730960,
           31730960,
           31730960,
           31730960,
           31730960,
           31730960,
           31730960,
           31730960,
           31730960,
           31730960,
           31730960,
           31730960,
           31730960,
           31730960,
           31730960,
           31730960,
           31730960,
           31730960,
           37965224,
           37965224,
           37965224,
           37965224,
           37965224,
           37965224,
           37965224,
           37965224,
           37965224,
           37965224,
           37965224,
           37965224,
           37965224,
           37965224,
           37965224,
           37965224,
           37965224,
           37965224,
           37965224,
           37965224,
           37965224,
           37965224,
           37965224,
           37965224,
           37965224,
           37965224,
           37965224,
           37965224,
           37965224,
           37965224,
           37965224,
           37965224,
           40567230,
           40567230,
           40567230,
           40567230,
           40567230,
           40567230,
           40567230,
           40567230,
           40567230,
           40567230,
           40567230,
           40567230,
           40567230,
           40567230,
           40567230,
           40567230,
           40567230,
           40567230,
           40567230,
           40567230,
           40567230,
           40567230,
           40567230,
           40567230,
           40567230,
           40567230,
           40567230,
           40567230,
           40567230,
           40567230,
           40567230,
           40567230,
           47120250,
           47120250,
           47120250,
           47120250,
           47120250,
           47120250,
           47120250,
           47120250,
           47120250,
           47120250,
           47120250,
           47120250,
           47120250,
           47120250,
           47120250,
           47120250,
           47120250,
           47120250,
           47120250,
           47120250,
           47120250,
           47120250,
           47120250,
           47120250,
           47120250,
           47120250,
           47120250,
           47120250,
           47120250,
           47120250,
           47120250,
           47120250,
           44759148,
           44759148,
           44759148,
           44759148,
           44759148,
           44759148,
           44759148,
           44759148,
           44759148,
           44759148,
           44759148,
           44759148,
           44759148,
           44759148,
           44759148,
           44759148,
           44759148,
           44759148,
           44759148,
           44759148,
           44759148,
           44759148,
           44759148,
           44759148,
           44759148,
           44759148,
           44759148,
           44759148,
           44759148,
           44759148,
           44759148,
           44759148,
           49710344,
           49710344,
           49710344,
           49710344,
           49710344,
           49710344,
           49710344,
           49710344,
           49710344,
           49710344,
           49710344,
           49710344,
           49710344,
           49710344,
           49710344,
           49710344,
           49710344,
           49710344,
           49710344,
           49710344,
           49710344,
           49710344,
           49710344,
           49710344,
           49710344,
           49710344,
           49710344,
           49710344,
           49710344,
           49710344,
           49710344,
           49710344
          ],
          "coloraxis": "coloraxis",
          "symbol": "circle"
         },
         "mode": "markers",
         "name": "",
         "scene": "scene",
         "showlegend": false,
         "type": "scatter3d",
         "x": [
          2001,
          2001,
          2001,
          2001,
          2001,
          2001,
          2001,
          2001,
          2001,
          2001,
          2001,
          2001,
          2001,
          2001,
          2001,
          2001,
          2001,
          2001,
          2001,
          2001,
          2001,
          2001,
          2001,
          2001,
          2001,
          2001,
          2001,
          2001,
          2001,
          2001,
          2001,
          2001,
          2002,
          2002,
          2002,
          2002,
          2002,
          2002,
          2002,
          2002,
          2002,
          2002,
          2002,
          2002,
          2002,
          2002,
          2002,
          2002,
          2002,
          2002,
          2002,
          2002,
          2002,
          2002,
          2002,
          2002,
          2002,
          2002,
          2002,
          2002,
          2002,
          2002,
          2002,
          2002,
          2003,
          2003,
          2003,
          2003,
          2003,
          2003,
          2003,
          2003,
          2003,
          2003,
          2003,
          2003,
          2003,
          2003,
          2003,
          2003,
          2003,
          2003,
          2003,
          2003,
          2003,
          2003,
          2003,
          2003,
          2003,
          2003,
          2003,
          2003,
          2003,
          2003,
          2003,
          2003,
          2004,
          2004,
          2004,
          2004,
          2004,
          2004,
          2004,
          2004,
          2004,
          2004,
          2004,
          2004,
          2004,
          2004,
          2004,
          2004,
          2004,
          2004,
          2004,
          2004,
          2004,
          2004,
          2004,
          2004,
          2004,
          2004,
          2004,
          2004,
          2004,
          2004,
          2004,
          2004,
          2005,
          2005,
          2005,
          2005,
          2005,
          2005,
          2005,
          2005,
          2005,
          2005,
          2005,
          2005,
          2005,
          2005,
          2005,
          2005,
          2005,
          2005,
          2005,
          2005,
          2005,
          2005,
          2005,
          2005,
          2005,
          2005,
          2005,
          2005,
          2005,
          2005,
          2005,
          2005,
          2006,
          2006,
          2006,
          2006,
          2006,
          2006,
          2006,
          2006,
          2006,
          2006,
          2006,
          2006,
          2006,
          2006,
          2006,
          2006,
          2006,
          2006,
          2006,
          2006,
          2006,
          2006,
          2006,
          2006,
          2006,
          2006,
          2006,
          2006,
          2006,
          2006,
          2006,
          2006,
          2007,
          2007,
          2007,
          2007,
          2007,
          2007,
          2007,
          2007,
          2007,
          2007,
          2007,
          2007,
          2007,
          2007,
          2007,
          2007,
          2007,
          2007,
          2007,
          2007,
          2007,
          2007,
          2007,
          2007,
          2007,
          2007,
          2007,
          2007,
          2007,
          2007,
          2007,
          2007,
          2008,
          2008,
          2008,
          2008,
          2008,
          2008,
          2008,
          2008,
          2008,
          2008,
          2008,
          2008,
          2008,
          2008,
          2008,
          2008,
          2008,
          2008,
          2008,
          2008,
          2008,
          2008,
          2008,
          2008,
          2008,
          2008,
          2008,
          2008,
          2008,
          2008,
          2008,
          2008,
          2009,
          2009,
          2009,
          2009,
          2009,
          2009,
          2009,
          2009,
          2009,
          2009,
          2009,
          2009,
          2009,
          2009,
          2009,
          2009,
          2009,
          2009,
          2009,
          2009,
          2009,
          2009,
          2009,
          2009,
          2009,
          2009,
          2009,
          2009,
          2009,
          2009,
          2009,
          2009,
          2010,
          2010,
          2010,
          2010,
          2010,
          2010,
          2010,
          2010,
          2010,
          2010,
          2010,
          2010,
          2010,
          2010,
          2010,
          2010,
          2010,
          2010,
          2010,
          2010,
          2010,
          2010,
          2010,
          2010,
          2010,
          2010,
          2010,
          2010,
          2010,
          2010,
          2010,
          2010,
          2011,
          2011,
          2011,
          2011,
          2011,
          2011,
          2011,
          2011,
          2011,
          2011,
          2011,
          2011,
          2011,
          2011,
          2011,
          2011,
          2011,
          2011,
          2011,
          2011,
          2011,
          2011,
          2011,
          2011,
          2011,
          2011,
          2011,
          2011,
          2011,
          2011,
          2011,
          2011,
          2012,
          2012,
          2012,
          2012,
          2012,
          2012,
          2012,
          2012,
          2012,
          2012,
          2012,
          2012,
          2012,
          2012,
          2012,
          2012,
          2012,
          2012,
          2012,
          2012,
          2012,
          2012,
          2012,
          2012,
          2012,
          2012,
          2012,
          2012,
          2012,
          2012,
          2012,
          2012,
          2013,
          2013,
          2013,
          2013,
          2013,
          2013,
          2013,
          2013,
          2013,
          2013,
          2013,
          2013,
          2013,
          2013,
          2013,
          2013,
          2013,
          2013,
          2013,
          2013,
          2013,
          2013,
          2013,
          2013,
          2013,
          2013,
          2013,
          2013,
          2013,
          2013,
          2013,
          2013,
          2014,
          2014,
          2014,
          2014,
          2014,
          2014,
          2014,
          2014,
          2014,
          2014,
          2014,
          2014,
          2014,
          2014,
          2014,
          2014,
          2014,
          2014,
          2014,
          2014,
          2014,
          2014,
          2014,
          2014,
          2014,
          2014,
          2014,
          2014,
          2014,
          2014,
          2014,
          2014,
          2015,
          2015,
          2015,
          2015,
          2015,
          2015,
          2015,
          2015,
          2015,
          2015,
          2015,
          2015,
          2015,
          2015,
          2015,
          2015,
          2015,
          2015,
          2015,
          2015,
          2015,
          2015,
          2015,
          2015,
          2015,
          2015,
          2015,
          2015,
          2015,
          2015,
          2015,
          2015,
          2016,
          2016,
          2016,
          2016,
          2016,
          2016,
          2016,
          2016,
          2016,
          2016,
          2016,
          2016,
          2016,
          2016,
          2016,
          2016,
          2016,
          2016,
          2016,
          2016,
          2016,
          2016,
          2016,
          2016,
          2016,
          2016,
          2016,
          2016,
          2016,
          2016,
          2016,
          2016,
          2017,
          2017,
          2017,
          2017,
          2017,
          2017,
          2017,
          2017,
          2017,
          2017,
          2017,
          2017,
          2017,
          2017,
          2017,
          2017,
          2017,
          2017,
          2017,
          2017,
          2017,
          2017,
          2017,
          2017,
          2017,
          2017,
          2017,
          2017,
          2017,
          2017,
          2017,
          2017,
          2018,
          2018,
          2018,
          2018,
          2018,
          2018,
          2018,
          2018,
          2018,
          2018,
          2018,
          2018,
          2018,
          2018,
          2018,
          2018,
          2018,
          2018,
          2018,
          2018,
          2018,
          2018,
          2018,
          2018,
          2018,
          2018,
          2018,
          2018,
          2018,
          2018,
          2018,
          2018,
          2019,
          2019,
          2019,
          2019,
          2019,
          2019,
          2019,
          2019,
          2019,
          2019,
          2019,
          2019,
          2019,
          2019,
          2019,
          2019,
          2019,
          2019,
          2019,
          2019,
          2019,
          2019,
          2019,
          2019,
          2019,
          2019,
          2019,
          2019,
          2019,
          2019,
          2019,
          2019,
          2020,
          2020,
          2020,
          2020,
          2020,
          2020,
          2020,
          2020,
          2020,
          2020,
          2020,
          2020,
          2020,
          2020,
          2020,
          2020,
          2020,
          2020,
          2020,
          2020,
          2020,
          2020,
          2020,
          2020,
          2020,
          2020,
          2020,
          2020,
          2020,
          2020,
          2020,
          2020,
          2021,
          2021,
          2021,
          2021,
          2021,
          2021,
          2021,
          2021,
          2021,
          2021,
          2021,
          2021,
          2021,
          2021,
          2021,
          2021,
          2021,
          2021,
          2021,
          2021,
          2021,
          2021,
          2021,
          2021,
          2021,
          2021,
          2021,
          2021,
          2021,
          2021,
          2021,
          2021
         ],
         "y": [
          78629,
          78220,
          78153,
          78045,
          77998,
          77940,
          77314,
          73511,
          19816,
          19373,
          19280,
          19156,
          19033,
          18967,
          18303,
          16405,
          64894,
          64401,
          64316,
          64208,
          64153,
          64076,
          63401,
          60004,
          74179,
          73399,
          73317,
          73199,
          73138,
          73042,
          72128,
          67533,
          97645,
          97193,
          97111,
          96988,
          96928,
          96866,
          96087,
          90750,
          24871,
          24555,
          24498,
          24424,
          24370,
          24324,
          23819,
          21648,
          104289,
          103456,
          103297,
          103114,
          102997,
          102875,
          101594,
          94713,
          81863,
          81359,
          81279,
          81171,
          81104,
          81032,
          80217,
          75398,
          56185,
          56060,
          56034,
          56006,
          55988,
          55967,
          55708,
          53279,
          18594,
          18487,
          18463,
          18436,
          18419,
          18402,
          18174,
          16687,
          129721,
          129372,
          129304,
          129228,
          129177,
          129123,
          128444,
          123150,
          54073,
          53771,
          53727,
          53683,
          53653,
          53624,
          53202,
          50472,
          114449,
          114157,
          114095,
          114021,
          113975,
          113922,
          113171,
          107143,
          42634,
          42204,
          42123,
          41998,
          41925,
          41871,
          40989,
          36786,
          172640,
          171015,
          170685,
          170315,
          170077,
          169838,
          167218,
          153892,
          108922,
          108193,
          108094,
          107980,
          107913,
          107837,
          106947,
          101398,
          104977,
          104755,
          104695,
          104647,
          104612,
          104565,
          103939,
          98753,
          25567,
          25470,
          25453,
          25424,
          25409,
          25392,
          25119,
          23357,
          160211,
          159186,
          158999,
          158835,
          158675,
          158552,
          156863,
          146941,
          91668,
          91009,
          90921,
          90808,
          90764,
          90696,
          89979,
          84937,
          131612,
          131240,
          131148,
          131047,
          130994,
          130920,
          129901,
          122678,
          54520,
          54270,
          54209,
          54124,
          54065,
          54016,
          53113,
          48257,
          224569,
          223066,
          222740,
          222380,
          222133,
          221891,
          218705,
          203063,
          153982,
          152957,
          152802,
          152594,
          152494,
          152370,
          150850,
          140712,
          133158,
          132502,
          132374,
          132245,
          132169,
          132081,
          130951,
          123794,
          29815,
          29691,
          29667,
          29625,
          29605,
          29584,
          29202,
          26849,
          292704,
          292206,
          292074,
          291926,
          291823,
          291717,
          290127,
          280260,
          154840,
          153417,
          153217,
          152970,
          152872,
          152731,
          150973,
          139678,
          204251,
          203357,
          203168,
          202972,
          202844,
          202684,
          200488,
          186370,
          18856,
          18778,
          18756,
          18729,
          18708,
          18695,
          18345,
          15965,
          205874,
          205297,
          205100,
          204930,
          204790,
          204627,
          202526,
          191885,
          146415,
          145465,
          145318,
          145128,
          145047,
          144947,
          143574,
          134185,
          289835,
          289266,
          289066,
          288902,
          288768,
          288606,
          285960,
          269102,
          61073,
          60745,
          60660,
          60576,
          60523,
          60465,
          59304,
          52710,
          195239,
          194794,
          194672,
          194563,
          194475,
          194377,
          192711,
          182310,
          264865,
          263866,
          263681,
          263490,
          263368,
          263221,
          261102,
          246106,
          153152,
          152845,
          152751,
          152667,
          152604,
          152522,
          151246,
          142208,
          26534,
          26332,
          26302,
          26251,
          26227,
          26199,
          25696,
          22750,
          142714,
          142523,
          142467,
          142420,
          142387,
          142341,
          141734,
          137449,
          137911,
          137465,
          137392,
          137315,
          137267,
          137190,
          136240,
          129676,
          264103,
          263282,
          263028,
          262876,
          262704,
          262481,
          259987,
          245557,
          49153,
          48608,
          48499,
          48412,
          48347,
          48257,
          47217,
          42083,
          140128,
          139686,
          139585,
          139497,
          139425,
          139335,
          138181,
          130776,
          225174,
          224265,
          224140,
          224011,
          223933,
          223822,
          222594,
          214089,
          315896,
          313871,
          313478,
          313201,
          312920,
          312530,
          309005,
          290172,
          69510,
          67626,
          67400,
          67147,
          67011,
          66808,
          64444,
          54174,
          221998,
          219766,
          219534,
          219255,
          219112,
          218882,
          216789,
          205377,
          319854,
          317097,
          316807,
          316484,
          316309,
          316053,
          313843,
          298340,
          206251,
          201407,
          200921,
          200463,
          200128,
          199514,
          195282,
          174113,
          41678,
          36873,
          36591,
          36322,
          36171,
          35959,
          34161,
          26026,
          109639,
          104543,
          104185,
          103804,
          103612,
          103285,
          101032,
          91114,
          187602,
          180882,
          180424,
          179999,
          179745,
          179330,
          176697,
          160012,
          304716,
          295058,
          294103,
          293256,
          292653,
          291476,
          283300,
          245182,
          76646,
          68510,
          67876,
          67301,
          66952,
          66372,
          62242,
          46269,
          207353,
          199649,
          198984,
          198331,
          197928,
          197214,
          191127,
          164916,
          284700,
          273314,
          272513,
          271775,
          271313,
          270524,
          265684,
          237607,
          277785,
          270527,
          269795,
          269172,
          268722,
          267807,
          261552,
          229885,
          81250,
          75068,
          74571,
          74121,
          73851,
          73379,
          69937,
          55632,
          224480,
          216437,
          215738,
          215028,
          214563,
          213841,
          207504,
          178558,
          245899,
          234535,
          233734,
          232978,
          232532,
          231724,
          226886,
          200918,
          300866,
          290518,
          289388,
          288473,
          287764,
          286373,
          277231,
          233932,
          72925,
          67199,
          66749,
          66360,
          66125,
          65747,
          63130,
          51409,
          508260,
          496741,
          495645,
          494680,
          494029,
          492975,
          483232,
          438007,
          381726,
          359370,
          357443,
          355889,
          354621,
          352451,
          340042,
          283056,
          192851,
          184546,
          183665,
          182937,
          182405,
          181330,
          174614,
          144645,
          43458,
          38513,
          38178,
          37900,
          37746,
          37466,
          35934,
          30570,
          110685,
          104614,
          104102,
          103666,
          103378,
          102894,
          99410,
          86646,
          179870,
          170532,
          169810,
          169189,
          168777,
          168073,
          163590,
          142820,
          171671,
          162826,
          161803,
          161061,
          160448,
          159316,
          152164,
          123532,
          44821,
          38857,
          38430,
          38075,
          37888,
          37579,
          35836,
          29867,
          117846,
          112109,
          111623,
          111154,
          110849,
          110369,
          106264,
          89628,
          197010,
          187201,
          186392,
          185760,
          185293,
          184555,
          180151,
          160453,
          153225,
          145803,
          145013,
          144454,
          143984,
          143107,
          137376,
          114593,
          53233,
          45934,
          45421,
          45016,
          44749,
          44331,
          41761,
          33960,
          131470,
          124180,
          123577,
          123032,
          122687,
          122143,
          117577,
          96429,
          172111,
          163531,
          162899,
          162367,
          161991,
          161386,
          157530,
          140662,
          130019,
          124078,
          123473,
          123001,
          122640,
          121934,
          117591,
          98497,
          24844,
          21728,
          21491,
          21298,
          21193,
          21000,
          19947,
          16489,
          97003,
          91751,
          91370,
          91051,
          90826,
          90490,
          88162,
          78636,
          124988,
          118219,
          117625,
          117167,
          116825,
          116304,
          113278,
          99568,
          118360,
          111011,
          110428,
          109993,
          109667,
          109033,
          105302,
          88262,
          30510,
          23048,
          22600,
          22205,
          21999,
          21668,
          20145,
          15517,
          59515,
          54385,
          54005,
          53704,
          53494,
          53160,
          51272,
          45111,
          98502,
          94454,
          94093,
          93816,
          93629,
          93322,
          91569,
          82699
         ],
         "z": [
          8396472,
          8396472,
          8396472,
          8396472,
          8396472,
          8396472,
          8396472,
          8396472,
          8396472,
          8396472,
          8396472,
          8396472,
          8396472,
          8396472,
          8396472,
          8396472,
          8396472,
          8396472,
          8396472,
          8396472,
          8396472,
          8396472,
          8396472,
          8396472,
          8396472,
          8396472,
          8396472,
          8396472,
          8396472,
          8396472,
          8396472,
          8396472,
          9622344,
          9622344,
          9622344,
          9622344,
          9622344,
          9622344,
          9622344,
          9622344,
          9622344,
          9622344,
          9622344,
          9622344,
          9622344,
          9622344,
          9622344,
          9622344,
          9622344,
          9622344,
          9622344,
          9622344,
          9622344,
          9622344,
          9622344,
          9622344,
          9622344,
          9622344,
          9622344,
          9622344,
          9622344,
          9622344,
          9622344,
          9622344,
          10440834,
          10440834,
          10440834,
          10440834,
          10440834,
          10440834,
          10440834,
          10440834,
          10440834,
          10440834,
          10440834,
          10440834,
          10440834,
          10440834,
          10440834,
          10440834,
          10440834,
          10440834,
          10440834,
          10440834,
          10440834,
          10440834,
          10440834,
          10440834,
          10440834,
          10440834,
          10440834,
          10440834,
          10440834,
          10440834,
          10440834,
          10440834,
          10830389,
          10830389,
          10830389,
          10830389,
          10830389,
          10830389,
          10830389,
          10830389,
          10830389,
          10830389,
          10830389,
          10830389,
          10830389,
          10830389,
          10830389,
          10830389,
          10830389,
          10830389,
          10830389,
          10830389,
          10830389,
          10830389,
          10830389,
          10830389,
          10830389,
          10830389,
          10830389,
          10830389,
          10830389,
          10830389,
          10830389,
          10830389,
          11861615,
          11861615,
          11861615,
          11861615,
          11861615,
          11861615,
          11861615,
          11861615,
          11861615,
          11861615,
          11861615,
          11861615,
          11861615,
          11861615,
          11861615,
          11861615,
          11861615,
          11861615,
          11861615,
          11861615,
          11861615,
          11861615,
          11861615,
          11861615,
          11861615,
          11861615,
          11861615,
          11861615,
          11861615,
          11861615,
          11861615,
          11861615,
          17350848,
          17350848,
          17350848,
          17350848,
          17350848,
          17350848,
          17350848,
          17350848,
          17350848,
          17350848,
          17350848,
          17350848,
          17350848,
          17350848,
          17350848,
          17350848,
          17350848,
          17350848,
          17350848,
          17350848,
          17350848,
          17350848,
          17350848,
          17350848,
          17350848,
          17350848,
          17350848,
          17350848,
          17350848,
          17350848,
          17350848,
          17350848,
          17664724,
          17664724,
          17664724,
          17664724,
          17664724,
          17664724,
          17664724,
          17664724,
          17664724,
          17664724,
          17664724,
          17664724,
          17664724,
          17664724,
          17664724,
          17664724,
          17664724,
          17664724,
          17664724,
          17664724,
          17664724,
          17664724,
          17664724,
          17664724,
          17664724,
          17664724,
          17664724,
          17664724,
          17664724,
          17664724,
          17664724,
          17664724,
          17539788,
          17539788,
          17539788,
          17539788,
          17539788,
          17539788,
          17539788,
          17539788,
          17539788,
          17539788,
          17539788,
          17539788,
          17539788,
          17539788,
          17539788,
          17539788,
          17539788,
          17539788,
          17539788,
          17539788,
          17539788,
          17539788,
          17539788,
          17539788,
          17539788,
          17539788,
          17539788,
          17539788,
          17539788,
          17539788,
          17539788,
          17539788,
          19324292,
          19324292,
          19324292,
          19324292,
          19324292,
          19324292,
          19324292,
          19324292,
          19324292,
          19324292,
          19324292,
          19324292,
          19324292,
          19324292,
          19324292,
          19324292,
          19324292,
          19324292,
          19324292,
          19324292,
          19324292,
          19324292,
          19324292,
          19324292,
          19324292,
          19324292,
          19324292,
          19324292,
          19324292,
          19324292,
          19324292,
          19324292,
          21958120,
          21958120,
          21958120,
          21958120,
          21958120,
          21958120,
          21958120,
          21958120,
          21958120,
          21958120,
          21958120,
          21958120,
          21958120,
          21958120,
          21958120,
          21958120,
          21958120,
          21958120,
          21958120,
          21958120,
          21958120,
          21958120,
          21958120,
          21958120,
          21958120,
          21958120,
          21958120,
          21958120,
          21958120,
          21958120,
          21958120,
          21958120,
          23096540,
          23096540,
          23096540,
          23096540,
          23096540,
          23096540,
          23096540,
          23096540,
          23096540,
          23096540,
          23096540,
          23096540,
          23096540,
          23096540,
          23096540,
          23096540,
          23096540,
          23096540,
          23096540,
          23096540,
          23096540,
          23096540,
          23096540,
          23096540,
          23096540,
          23096540,
          23096540,
          23096540,
          23096540,
          23096540,
          23096540,
          23096540,
          26015520,
          26015520,
          26015520,
          26015520,
          26015520,
          26015520,
          26015520,
          26015520,
          26015520,
          26015520,
          26015520,
          26015520,
          26015520,
          26015520,
          26015520,
          26015520,
          26015520,
          26015520,
          26015520,
          26015520,
          26015520,
          26015520,
          26015520,
          26015520,
          26015520,
          26015520,
          26015520,
          26015520,
          26015520,
          26015520,
          26015520,
          26015520,
          27782004,
          27782004,
          27782004,
          27782004,
          27782004,
          27782004,
          27782004,
          27782004,
          27782004,
          27782004,
          27782004,
          27782004,
          27782004,
          27782004,
          27782004,
          27782004,
          27782004,
          27782004,
          27782004,
          27782004,
          27782004,
          27782004,
          27782004,
          27782004,
          27782004,
          27782004,
          27782004,
          27782004,
          27782004,
          27782004,
          27782004,
          27782004,
          29278188,
          29278188,
          29278188,
          29278188,
          29278188,
          29278188,
          29278188,
          29278188,
          29278188,
          29278188,
          29278188,
          29278188,
          29278188,
          29278188,
          29278188,
          29278188,
          29278188,
          29278188,
          29278188,
          29278188,
          29278188,
          29278188,
          29278188,
          29278188,
          29278188,
          29278188,
          29278188,
          29278188,
          29278188,
          29278188,
          29278188,
          29278188,
          31070016,
          31070016,
          31070016,
          31070016,
          31070016,
          31070016,
          31070016,
          31070016,
          31070016,
          31070016,
          31070016,
          31070016,
          31070016,
          31070016,
          31070016,
          31070016,
          31070016,
          31070016,
          31070016,
          31070016,
          31070016,
          31070016,
          31070016,
          31070016,
          31070016,
          31070016,
          31070016,
          31070016,
          31070016,
          31070016,
          31070016,
          31070016,
          31730960,
          31730960,
          31730960,
          31730960,
          31730960,
          31730960,
          31730960,
          31730960,
          31730960,
          31730960,
          31730960,
          31730960,
          31730960,
          31730960,
          31730960,
          31730960,
          31730960,
          31730960,
          31730960,
          31730960,
          31730960,
          31730960,
          31730960,
          31730960,
          31730960,
          31730960,
          31730960,
          31730960,
          31730960,
          31730960,
          31730960,
          31730960,
          37965224,
          37965224,
          37965224,
          37965224,
          37965224,
          37965224,
          37965224,
          37965224,
          37965224,
          37965224,
          37965224,
          37965224,
          37965224,
          37965224,
          37965224,
          37965224,
          37965224,
          37965224,
          37965224,
          37965224,
          37965224,
          37965224,
          37965224,
          37965224,
          37965224,
          37965224,
          37965224,
          37965224,
          37965224,
          37965224,
          37965224,
          37965224,
          40567230,
          40567230,
          40567230,
          40567230,
          40567230,
          40567230,
          40567230,
          40567230,
          40567230,
          40567230,
          40567230,
          40567230,
          40567230,
          40567230,
          40567230,
          40567230,
          40567230,
          40567230,
          40567230,
          40567230,
          40567230,
          40567230,
          40567230,
          40567230,
          40567230,
          40567230,
          40567230,
          40567230,
          40567230,
          40567230,
          40567230,
          40567230,
          47120250,
          47120250,
          47120250,
          47120250,
          47120250,
          47120250,
          47120250,
          47120250,
          47120250,
          47120250,
          47120250,
          47120250,
          47120250,
          47120250,
          47120250,
          47120250,
          47120250,
          47120250,
          47120250,
          47120250,
          47120250,
          47120250,
          47120250,
          47120250,
          47120250,
          47120250,
          47120250,
          47120250,
          47120250,
          47120250,
          47120250,
          47120250,
          44759148,
          44759148,
          44759148,
          44759148,
          44759148,
          44759148,
          44759148,
          44759148,
          44759148,
          44759148,
          44759148,
          44759148,
          44759148,
          44759148,
          44759148,
          44759148,
          44759148,
          44759148,
          44759148,
          44759148,
          44759148,
          44759148,
          44759148,
          44759148,
          44759148,
          44759148,
          44759148,
          44759148,
          44759148,
          44759148,
          44759148,
          44759148,
          49710344,
          49710344,
          49710344,
          49710344,
          49710344,
          49710344,
          49710344,
          49710344,
          49710344,
          49710344,
          49710344,
          49710344,
          49710344,
          49710344,
          49710344,
          49710344,
          49710344,
          49710344,
          49710344,
          49710344,
          49710344,
          49710344,
          49710344,
          49710344,
          49710344,
          49710344,
          49710344,
          49710344,
          49710344,
          49710344,
          49710344,
          49710344
         ]
        }
       ],
       "layout": {
        "coloraxis": {
         "colorbar": {
          "title": {
           "text": "Palm Oil Production (tonnes)"
          }
         },
         "colorscale": [
          [
           0,
           "#0d0887"
          ],
          [
           0.1111111111111111,
           "#46039f"
          ],
          [
           0.2222222222222222,
           "#7201a8"
          ],
          [
           0.3333333333333333,
           "#9c179e"
          ],
          [
           0.4444444444444444,
           "#bd3786"
          ],
          [
           0.5555555555555556,
           "#d8576b"
          ],
          [
           0.6666666666666666,
           "#ed7953"
          ],
          [
           0.7777777777777778,
           "#fb9f3a"
          ],
          [
           0.8888888888888888,
           "#fdca26"
          ],
          [
           1,
           "#f0f921"
          ]
         ]
        },
        "height": 800,
        "legend": {
         "tracegroupgap": 0
        },
        "scene": {
         "domain": {
          "x": [
           0,
           1
          ],
          "y": [
           0,
           1
          ]
         },
         "xaxis": {
          "title": {
           "text": "Year"
          }
         },
         "yaxis": {
          "title": {
           "text": "Tree Cover Loss (ha)"
          }
         },
         "zaxis": {
          "title": {
           "text": "Palm Oil Production (tonnes)"
          }
         }
        },
        "template": {
         "data": {
          "bar": [
           {
            "error_x": {
             "color": "#2a3f5f"
            },
            "error_y": {
             "color": "#2a3f5f"
            },
            "marker": {
             "line": {
              "color": "#E5ECF6",
              "width": 0.5
             },
             "pattern": {
              "fillmode": "overlay",
              "size": 10,
              "solidity": 0.2
             }
            },
            "type": "bar"
           }
          ],
          "barpolar": [
           {
            "marker": {
             "line": {
              "color": "#E5ECF6",
              "width": 0.5
             },
             "pattern": {
              "fillmode": "overlay",
              "size": 10,
              "solidity": 0.2
             }
            },
            "type": "barpolar"
           }
          ],
          "carpet": [
           {
            "aaxis": {
             "endlinecolor": "#2a3f5f",
             "gridcolor": "white",
             "linecolor": "white",
             "minorgridcolor": "white",
             "startlinecolor": "#2a3f5f"
            },
            "baxis": {
             "endlinecolor": "#2a3f5f",
             "gridcolor": "white",
             "linecolor": "white",
             "minorgridcolor": "white",
             "startlinecolor": "#2a3f5f"
            },
            "type": "carpet"
           }
          ],
          "choropleth": [
           {
            "colorbar": {
             "outlinewidth": 0,
             "ticks": ""
            },
            "type": "choropleth"
           }
          ],
          "contour": [
           {
            "colorbar": {
             "outlinewidth": 0,
             "ticks": ""
            },
            "colorscale": [
             [
              0,
              "#0d0887"
             ],
             [
              0.1111111111111111,
              "#46039f"
             ],
             [
              0.2222222222222222,
              "#7201a8"
             ],
             [
              0.3333333333333333,
              "#9c179e"
             ],
             [
              0.4444444444444444,
              "#bd3786"
             ],
             [
              0.5555555555555556,
              "#d8576b"
             ],
             [
              0.6666666666666666,
              "#ed7953"
             ],
             [
              0.7777777777777778,
              "#fb9f3a"
             ],
             [
              0.8888888888888888,
              "#fdca26"
             ],
             [
              1,
              "#f0f921"
             ]
            ],
            "type": "contour"
           }
          ],
          "contourcarpet": [
           {
            "colorbar": {
             "outlinewidth": 0,
             "ticks": ""
            },
            "type": "contourcarpet"
           }
          ],
          "heatmap": [
           {
            "colorbar": {
             "outlinewidth": 0,
             "ticks": ""
            },
            "colorscale": [
             [
              0,
              "#0d0887"
             ],
             [
              0.1111111111111111,
              "#46039f"
             ],
             [
              0.2222222222222222,
              "#7201a8"
             ],
             [
              0.3333333333333333,
              "#9c179e"
             ],
             [
              0.4444444444444444,
              "#bd3786"
             ],
             [
              0.5555555555555556,
              "#d8576b"
             ],
             [
              0.6666666666666666,
              "#ed7953"
             ],
             [
              0.7777777777777778,
              "#fb9f3a"
             ],
             [
              0.8888888888888888,
              "#fdca26"
             ],
             [
              1,
              "#f0f921"
             ]
            ],
            "type": "heatmap"
           }
          ],
          "heatmapgl": [
           {
            "colorbar": {
             "outlinewidth": 0,
             "ticks": ""
            },
            "colorscale": [
             [
              0,
              "#0d0887"
             ],
             [
              0.1111111111111111,
              "#46039f"
             ],
             [
              0.2222222222222222,
              "#7201a8"
             ],
             [
              0.3333333333333333,
              "#9c179e"
             ],
             [
              0.4444444444444444,
              "#bd3786"
             ],
             [
              0.5555555555555556,
              "#d8576b"
             ],
             [
              0.6666666666666666,
              "#ed7953"
             ],
             [
              0.7777777777777778,
              "#fb9f3a"
             ],
             [
              0.8888888888888888,
              "#fdca26"
             ],
             [
              1,
              "#f0f921"
             ]
            ],
            "type": "heatmapgl"
           }
          ],
          "histogram": [
           {
            "marker": {
             "pattern": {
              "fillmode": "overlay",
              "size": 10,
              "solidity": 0.2
             }
            },
            "type": "histogram"
           }
          ],
          "histogram2d": [
           {
            "colorbar": {
             "outlinewidth": 0,
             "ticks": ""
            },
            "colorscale": [
             [
              0,
              "#0d0887"
             ],
             [
              0.1111111111111111,
              "#46039f"
             ],
             [
              0.2222222222222222,
              "#7201a8"
             ],
             [
              0.3333333333333333,
              "#9c179e"
             ],
             [
              0.4444444444444444,
              "#bd3786"
             ],
             [
              0.5555555555555556,
              "#d8576b"
             ],
             [
              0.6666666666666666,
              "#ed7953"
             ],
             [
              0.7777777777777778,
              "#fb9f3a"
             ],
             [
              0.8888888888888888,
              "#fdca26"
             ],
             [
              1,
              "#f0f921"
             ]
            ],
            "type": "histogram2d"
           }
          ],
          "histogram2dcontour": [
           {
            "colorbar": {
             "outlinewidth": 0,
             "ticks": ""
            },
            "colorscale": [
             [
              0,
              "#0d0887"
             ],
             [
              0.1111111111111111,
              "#46039f"
             ],
             [
              0.2222222222222222,
              "#7201a8"
             ],
             [
              0.3333333333333333,
              "#9c179e"
             ],
             [
              0.4444444444444444,
              "#bd3786"
             ],
             [
              0.5555555555555556,
              "#d8576b"
             ],
             [
              0.6666666666666666,
              "#ed7953"
             ],
             [
              0.7777777777777778,
              "#fb9f3a"
             ],
             [
              0.8888888888888888,
              "#fdca26"
             ],
             [
              1,
              "#f0f921"
             ]
            ],
            "type": "histogram2dcontour"
           }
          ],
          "mesh3d": [
           {
            "colorbar": {
             "outlinewidth": 0,
             "ticks": ""
            },
            "type": "mesh3d"
           }
          ],
          "parcoords": [
           {
            "line": {
             "colorbar": {
              "outlinewidth": 0,
              "ticks": ""
             }
            },
            "type": "parcoords"
           }
          ],
          "pie": [
           {
            "automargin": true,
            "type": "pie"
           }
          ],
          "scatter": [
           {
            "fillpattern": {
             "fillmode": "overlay",
             "size": 10,
             "solidity": 0.2
            },
            "type": "scatter"
           }
          ],
          "scatter3d": [
           {
            "line": {
             "colorbar": {
              "outlinewidth": 0,
              "ticks": ""
             }
            },
            "marker": {
             "colorbar": {
              "outlinewidth": 0,
              "ticks": ""
             }
            },
            "type": "scatter3d"
           }
          ],
          "scattercarpet": [
           {
            "marker": {
             "colorbar": {
              "outlinewidth": 0,
              "ticks": ""
             }
            },
            "type": "scattercarpet"
           }
          ],
          "scattergeo": [
           {
            "marker": {
             "colorbar": {
              "outlinewidth": 0,
              "ticks": ""
             }
            },
            "type": "scattergeo"
           }
          ],
          "scattergl": [
           {
            "marker": {
             "colorbar": {
              "outlinewidth": 0,
              "ticks": ""
             }
            },
            "type": "scattergl"
           }
          ],
          "scattermapbox": [
           {
            "marker": {
             "colorbar": {
              "outlinewidth": 0,
              "ticks": ""
             }
            },
            "type": "scattermapbox"
           }
          ],
          "scatterpolar": [
           {
            "marker": {
             "colorbar": {
              "outlinewidth": 0,
              "ticks": ""
             }
            },
            "type": "scatterpolar"
           }
          ],
          "scatterpolargl": [
           {
            "marker": {
             "colorbar": {
              "outlinewidth": 0,
              "ticks": ""
             }
            },
            "type": "scatterpolargl"
           }
          ],
          "scatterternary": [
           {
            "marker": {
             "colorbar": {
              "outlinewidth": 0,
              "ticks": ""
             }
            },
            "type": "scatterternary"
           }
          ],
          "surface": [
           {
            "colorbar": {
             "outlinewidth": 0,
             "ticks": ""
            },
            "colorscale": [
             [
              0,
              "#0d0887"
             ],
             [
              0.1111111111111111,
              "#46039f"
             ],
             [
              0.2222222222222222,
              "#7201a8"
             ],
             [
              0.3333333333333333,
              "#9c179e"
             ],
             [
              0.4444444444444444,
              "#bd3786"
             ],
             [
              0.5555555555555556,
              "#d8576b"
             ],
             [
              0.6666666666666666,
              "#ed7953"
             ],
             [
              0.7777777777777778,
              "#fb9f3a"
             ],
             [
              0.8888888888888888,
              "#fdca26"
             ],
             [
              1,
              "#f0f921"
             ]
            ],
            "type": "surface"
           }
          ],
          "table": [
           {
            "cells": {
             "fill": {
              "color": "#EBF0F8"
             },
             "line": {
              "color": "white"
             }
            },
            "header": {
             "fill": {
              "color": "#C8D4E3"
             },
             "line": {
              "color": "white"
             }
            },
            "type": "table"
           }
          ]
         },
         "layout": {
          "annotationdefaults": {
           "arrowcolor": "#2a3f5f",
           "arrowhead": 0,
           "arrowwidth": 1
          },
          "autotypenumbers": "strict",
          "coloraxis": {
           "colorbar": {
            "outlinewidth": 0,
            "ticks": ""
           }
          },
          "colorscale": {
           "diverging": [
            [
             0,
             "#8e0152"
            ],
            [
             0.1,
             "#c51b7d"
            ],
            [
             0.2,
             "#de77ae"
            ],
            [
             0.3,
             "#f1b6da"
            ],
            [
             0.4,
             "#fde0ef"
            ],
            [
             0.5,
             "#f7f7f7"
            ],
            [
             0.6,
             "#e6f5d0"
            ],
            [
             0.7,
             "#b8e186"
            ],
            [
             0.8,
             "#7fbc41"
            ],
            [
             0.9,
             "#4d9221"
            ],
            [
             1,
             "#276419"
            ]
           ],
           "sequential": [
            [
             0,
             "#0d0887"
            ],
            [
             0.1111111111111111,
             "#46039f"
            ],
            [
             0.2222222222222222,
             "#7201a8"
            ],
            [
             0.3333333333333333,
             "#9c179e"
            ],
            [
             0.4444444444444444,
             "#bd3786"
            ],
            [
             0.5555555555555556,
             "#d8576b"
            ],
            [
             0.6666666666666666,
             "#ed7953"
            ],
            [
             0.7777777777777778,
             "#fb9f3a"
            ],
            [
             0.8888888888888888,
             "#fdca26"
            ],
            [
             1,
             "#f0f921"
            ]
           ],
           "sequentialminus": [
            [
             0,
             "#0d0887"
            ],
            [
             0.1111111111111111,
             "#46039f"
            ],
            [
             0.2222222222222222,
             "#7201a8"
            ],
            [
             0.3333333333333333,
             "#9c179e"
            ],
            [
             0.4444444444444444,
             "#bd3786"
            ],
            [
             0.5555555555555556,
             "#d8576b"
            ],
            [
             0.6666666666666666,
             "#ed7953"
            ],
            [
             0.7777777777777778,
             "#fb9f3a"
            ],
            [
             0.8888888888888888,
             "#fdca26"
            ],
            [
             1,
             "#f0f921"
            ]
           ]
          },
          "colorway": [
           "#636efa",
           "#EF553B",
           "#00cc96",
           "#ab63fa",
           "#FFA15A",
           "#19d3f3",
           "#FF6692",
           "#B6E880",
           "#FF97FF",
           "#FECB52"
          ],
          "font": {
           "color": "#2a3f5f"
          },
          "geo": {
           "bgcolor": "white",
           "lakecolor": "white",
           "landcolor": "#E5ECF6",
           "showlakes": true,
           "showland": true,
           "subunitcolor": "white"
          },
          "hoverlabel": {
           "align": "left"
          },
          "hovermode": "closest",
          "mapbox": {
           "style": "light"
          },
          "paper_bgcolor": "white",
          "plot_bgcolor": "#E5ECF6",
          "polar": {
           "angularaxis": {
            "gridcolor": "white",
            "linecolor": "white",
            "ticks": ""
           },
           "bgcolor": "#E5ECF6",
           "radialaxis": {
            "gridcolor": "white",
            "linecolor": "white",
            "ticks": ""
           }
          },
          "scene": {
           "xaxis": {
            "backgroundcolor": "#E5ECF6",
            "gridcolor": "white",
            "gridwidth": 2,
            "linecolor": "white",
            "showbackground": true,
            "ticks": "",
            "zerolinecolor": "white"
           },
           "yaxis": {
            "backgroundcolor": "#E5ECF6",
            "gridcolor": "white",
            "gridwidth": 2,
            "linecolor": "white",
            "showbackground": true,
            "ticks": "",
            "zerolinecolor": "white"
           },
           "zaxis": {
            "backgroundcolor": "#E5ECF6",
            "gridcolor": "white",
            "gridwidth": 2,
            "linecolor": "white",
            "showbackground": true,
            "ticks": "",
            "zerolinecolor": "white"
           }
          },
          "shapedefaults": {
           "line": {
            "color": "#2a3f5f"
           }
          },
          "ternary": {
           "aaxis": {
            "gridcolor": "white",
            "linecolor": "white",
            "ticks": ""
           },
           "baxis": {
            "gridcolor": "white",
            "linecolor": "white",
            "ticks": ""
           },
           "bgcolor": "#E5ECF6",
           "caxis": {
            "gridcolor": "white",
            "linecolor": "white",
            "ticks": ""
           }
          },
          "title": {
           "x": 0.05
          },
          "xaxis": {
           "automargin": true,
           "gridcolor": "white",
           "linecolor": "white",
           "ticks": "",
           "title": {
            "standoff": 15
           },
           "zerolinecolor": "white",
           "zerolinewidth": 2
          },
          "yaxis": {
           "automargin": true,
           "gridcolor": "white",
           "linecolor": "white",
           "ticks": "",
           "title": {
            "standoff": 15
           },
           "zerolinecolor": "white",
           "zerolinewidth": 2
          }
         }
        },
        "title": {
         "text": "3D Scatter Plot of Tree Cover Loss, Palm Oil Production over Time"
        },
        "width": 1200
       }
      }
     },
     "metadata": {},
     "output_type": "display_data"
    }
   ],
   "source": [
    "import pandas as pd\n",
    "import plotly.express as px\n",
    "\n",
    "# Load the data\n",
    "tree_cover_loss_df = pd.read_csv('../Datasets/Deforestation/Subnational 1 tree cover loss.csv')\n",
    "palm_oil_production_df = pd.read_csv('../Datasets/palm-oil-production.csv')\n",
    "\n",
    "# Filter the tree cover loss data for Kalimantan\n",
    "kalimantan_df = tree_cover_loss_df[tree_cover_loss_df['subnational1'].str.contains(\"Kalimantan\")]\n",
    "\n",
    "# Reshape the tree cover loss data to have year and loss columns\n",
    "tree_cover_loss_years = kalimantan_df.melt(\n",
    "    id_vars=['country', 'subnational1', 'threshold', 'area_ha'],\n",
    "    value_vars=[col for col in kalimantan_df.columns if 'tc_loss_ha_' in col],\n",
    "    var_name='year',\n",
    "    value_name='tree_cover_loss'\n",
    ")\n",
    "\n",
    "# Extract year from the column name\n",
    "tree_cover_loss_years['year'] = tree_cover_loss_years['year'].str.extract(r'(\\d+)$').astype(int)\n",
    "\n",
    "# Filter palm oil production data for Indonesia\n",
    "palm_oil_indonesia_df = palm_oil_production_df[palm_oil_production_df['Entity'] == 'Indonesia']\n",
    "\n",
    "# Merge the datasets on the year\n",
    "merged_df = pd.merge(tree_cover_loss_years, palm_oil_indonesia_df, left_on='year', right_on='Year', how='inner')\n",
    "\n",
    "# Create the interactive 3D scatter plot with larger size\n",
    "fig = px.scatter_3d(\n",
    "    merged_df,\n",
    "    x='year',\n",
    "    y='tree_cover_loss',\n",
    "    z='Production',\n",
    "    color='Production',\n",
    "    title='3D Scatter Plot of Tree Cover Loss, Palm Oil Production over Time',\n",
    "    labels={\n",
    "        'year': 'Year',\n",
    "        'tree_cover_loss': 'Tree Cover Loss (ha)',\n",
    "        'Production': 'Palm Oil Production (tonnes)'\n",
    "    },\n",
    "    width=1200,  # Increase the width of the plot\n",
    "    height=800   # Increase the height of the plot\n",
    ")\n",
    "\n",
    "# Show plot\n",
    "fig.show()"
   ]
  },
  {
   "cell_type": "code",
   "execution_count": 34,
   "metadata": {},
   "outputs": [
    {
     "data": {
      "application/vnd.plotly.v1+json": {
       "config": {
        "plotlyServerURL": "https://plot.ly"
       },
       "data": [
        {
         "marker": {
          "color": [
           237518,
           546186,
           804759,
           1243404,
           1625827,
           2190510,
           2801027,
           3376423,
           4187435,
           4647746,
           5326304,
           6253562,
           6798732,
           7672147,
           8501561,
           9765338,
           10292202,
           10823550,
           11333589,
           11710443,
           12017330,
           12356327
          ],
          "colorscale": [
           [
            0,
            "#440154"
           ],
           [
            0.1111111111111111,
            "#482878"
           ],
           [
            0.2222222222222222,
            "#3e4989"
           ],
           [
            0.3333333333333333,
            "#31688e"
           ],
           [
            0.4444444444444444,
            "#26828e"
           ],
           [
            0.5555555555555556,
            "#1f9e89"
           ],
           [
            0.6666666666666666,
            "#35b779"
           ],
           [
            0.7777777777777778,
            "#6ece58"
           ],
           [
            0.8888888888888888,
            "#b5de2b"
           ],
           [
            1,
            "#fde725"
           ]
          ],
          "opacity": 0.8,
          "size": 5
         },
         "mode": "markers",
         "type": "scatter3d",
         "x": [
          2001,
          2002,
          2003,
          2004,
          2005,
          2006,
          2007,
          2008,
          2009,
          2010,
          2011,
          2012,
          2013,
          2014,
          2015,
          2016,
          2017,
          2018,
          2019,
          2020,
          2021,
          2022
         ],
         "y": [
          237518,
          546186,
          804759,
          1243404,
          1625827,
          2190510,
          2801027,
          3376423,
          4187435,
          4647746,
          5326304,
          6253562,
          6798732,
          7672147,
          8501561,
          9765338,
          10292202,
          10823550,
          11333589,
          11710443,
          12017330,
          12356327
         ],
         "z": [
          9200,
          10300,
          11970,
          13560,
          15560,
          16600,
          18000,
          20500,
          22000,
          23600,
          26200,
          28500,
          30500,
          33000,
          32000,
          36000,
          39500,
          41500,
          42500,
          43500,
          42000,
          46500
         ]
        }
       ],
       "layout": {
        "height": 800,
        "scene": {
         "xaxis": {
          "title": {
           "text": "Year"
          }
         },
         "yaxis": {
          "title": {
           "text": "Cumulative Tree Cover Loss (ha)"
          }
         },
         "zaxis": {
          "title": {
           "text": "Palm Oil Production"
          }
         }
        },
        "template": {
         "data": {
          "bar": [
           {
            "error_x": {
             "color": "#2a3f5f"
            },
            "error_y": {
             "color": "#2a3f5f"
            },
            "marker": {
             "line": {
              "color": "#E5ECF6",
              "width": 0.5
             },
             "pattern": {
              "fillmode": "overlay",
              "size": 10,
              "solidity": 0.2
             }
            },
            "type": "bar"
           }
          ],
          "barpolar": [
           {
            "marker": {
             "line": {
              "color": "#E5ECF6",
              "width": 0.5
             },
             "pattern": {
              "fillmode": "overlay",
              "size": 10,
              "solidity": 0.2
             }
            },
            "type": "barpolar"
           }
          ],
          "carpet": [
           {
            "aaxis": {
             "endlinecolor": "#2a3f5f",
             "gridcolor": "white",
             "linecolor": "white",
             "minorgridcolor": "white",
             "startlinecolor": "#2a3f5f"
            },
            "baxis": {
             "endlinecolor": "#2a3f5f",
             "gridcolor": "white",
             "linecolor": "white",
             "minorgridcolor": "white",
             "startlinecolor": "#2a3f5f"
            },
            "type": "carpet"
           }
          ],
          "choropleth": [
           {
            "colorbar": {
             "outlinewidth": 0,
             "ticks": ""
            },
            "type": "choropleth"
           }
          ],
          "contour": [
           {
            "colorbar": {
             "outlinewidth": 0,
             "ticks": ""
            },
            "colorscale": [
             [
              0,
              "#0d0887"
             ],
             [
              0.1111111111111111,
              "#46039f"
             ],
             [
              0.2222222222222222,
              "#7201a8"
             ],
             [
              0.3333333333333333,
              "#9c179e"
             ],
             [
              0.4444444444444444,
              "#bd3786"
             ],
             [
              0.5555555555555556,
              "#d8576b"
             ],
             [
              0.6666666666666666,
              "#ed7953"
             ],
             [
              0.7777777777777778,
              "#fb9f3a"
             ],
             [
              0.8888888888888888,
              "#fdca26"
             ],
             [
              1,
              "#f0f921"
             ]
            ],
            "type": "contour"
           }
          ],
          "contourcarpet": [
           {
            "colorbar": {
             "outlinewidth": 0,
             "ticks": ""
            },
            "type": "contourcarpet"
           }
          ],
          "heatmap": [
           {
            "colorbar": {
             "outlinewidth": 0,
             "ticks": ""
            },
            "colorscale": [
             [
              0,
              "#0d0887"
             ],
             [
              0.1111111111111111,
              "#46039f"
             ],
             [
              0.2222222222222222,
              "#7201a8"
             ],
             [
              0.3333333333333333,
              "#9c179e"
             ],
             [
              0.4444444444444444,
              "#bd3786"
             ],
             [
              0.5555555555555556,
              "#d8576b"
             ],
             [
              0.6666666666666666,
              "#ed7953"
             ],
             [
              0.7777777777777778,
              "#fb9f3a"
             ],
             [
              0.8888888888888888,
              "#fdca26"
             ],
             [
              1,
              "#f0f921"
             ]
            ],
            "type": "heatmap"
           }
          ],
          "heatmapgl": [
           {
            "colorbar": {
             "outlinewidth": 0,
             "ticks": ""
            },
            "colorscale": [
             [
              0,
              "#0d0887"
             ],
             [
              0.1111111111111111,
              "#46039f"
             ],
             [
              0.2222222222222222,
              "#7201a8"
             ],
             [
              0.3333333333333333,
              "#9c179e"
             ],
             [
              0.4444444444444444,
              "#bd3786"
             ],
             [
              0.5555555555555556,
              "#d8576b"
             ],
             [
              0.6666666666666666,
              "#ed7953"
             ],
             [
              0.7777777777777778,
              "#fb9f3a"
             ],
             [
              0.8888888888888888,
              "#fdca26"
             ],
             [
              1,
              "#f0f921"
             ]
            ],
            "type": "heatmapgl"
           }
          ],
          "histogram": [
           {
            "marker": {
             "pattern": {
              "fillmode": "overlay",
              "size": 10,
              "solidity": 0.2
             }
            },
            "type": "histogram"
           }
          ],
          "histogram2d": [
           {
            "colorbar": {
             "outlinewidth": 0,
             "ticks": ""
            },
            "colorscale": [
             [
              0,
              "#0d0887"
             ],
             [
              0.1111111111111111,
              "#46039f"
             ],
             [
              0.2222222222222222,
              "#7201a8"
             ],
             [
              0.3333333333333333,
              "#9c179e"
             ],
             [
              0.4444444444444444,
              "#bd3786"
             ],
             [
              0.5555555555555556,
              "#d8576b"
             ],
             [
              0.6666666666666666,
              "#ed7953"
             ],
             [
              0.7777777777777778,
              "#fb9f3a"
             ],
             [
              0.8888888888888888,
              "#fdca26"
             ],
             [
              1,
              "#f0f921"
             ]
            ],
            "type": "histogram2d"
           }
          ],
          "histogram2dcontour": [
           {
            "colorbar": {
             "outlinewidth": 0,
             "ticks": ""
            },
            "colorscale": [
             [
              0,
              "#0d0887"
             ],
             [
              0.1111111111111111,
              "#46039f"
             ],
             [
              0.2222222222222222,
              "#7201a8"
             ],
             [
              0.3333333333333333,
              "#9c179e"
             ],
             [
              0.4444444444444444,
              "#bd3786"
             ],
             [
              0.5555555555555556,
              "#d8576b"
             ],
             [
              0.6666666666666666,
              "#ed7953"
             ],
             [
              0.7777777777777778,
              "#fb9f3a"
             ],
             [
              0.8888888888888888,
              "#fdca26"
             ],
             [
              1,
              "#f0f921"
             ]
            ],
            "type": "histogram2dcontour"
           }
          ],
          "mesh3d": [
           {
            "colorbar": {
             "outlinewidth": 0,
             "ticks": ""
            },
            "type": "mesh3d"
           }
          ],
          "parcoords": [
           {
            "line": {
             "colorbar": {
              "outlinewidth": 0,
              "ticks": ""
             }
            },
            "type": "parcoords"
           }
          ],
          "pie": [
           {
            "automargin": true,
            "type": "pie"
           }
          ],
          "scatter": [
           {
            "fillpattern": {
             "fillmode": "overlay",
             "size": 10,
             "solidity": 0.2
            },
            "type": "scatter"
           }
          ],
          "scatter3d": [
           {
            "line": {
             "colorbar": {
              "outlinewidth": 0,
              "ticks": ""
             }
            },
            "marker": {
             "colorbar": {
              "outlinewidth": 0,
              "ticks": ""
             }
            },
            "type": "scatter3d"
           }
          ],
          "scattercarpet": [
           {
            "marker": {
             "colorbar": {
              "outlinewidth": 0,
              "ticks": ""
             }
            },
            "type": "scattercarpet"
           }
          ],
          "scattergeo": [
           {
            "marker": {
             "colorbar": {
              "outlinewidth": 0,
              "ticks": ""
             }
            },
            "type": "scattergeo"
           }
          ],
          "scattergl": [
           {
            "marker": {
             "colorbar": {
              "outlinewidth": 0,
              "ticks": ""
             }
            },
            "type": "scattergl"
           }
          ],
          "scattermapbox": [
           {
            "marker": {
             "colorbar": {
              "outlinewidth": 0,
              "ticks": ""
             }
            },
            "type": "scattermapbox"
           }
          ],
          "scatterpolar": [
           {
            "marker": {
             "colorbar": {
              "outlinewidth": 0,
              "ticks": ""
             }
            },
            "type": "scatterpolar"
           }
          ],
          "scatterpolargl": [
           {
            "marker": {
             "colorbar": {
              "outlinewidth": 0,
              "ticks": ""
             }
            },
            "type": "scatterpolargl"
           }
          ],
          "scatterternary": [
           {
            "marker": {
             "colorbar": {
              "outlinewidth": 0,
              "ticks": ""
             }
            },
            "type": "scatterternary"
           }
          ],
          "surface": [
           {
            "colorbar": {
             "outlinewidth": 0,
             "ticks": ""
            },
            "colorscale": [
             [
              0,
              "#0d0887"
             ],
             [
              0.1111111111111111,
              "#46039f"
             ],
             [
              0.2222222222222222,
              "#7201a8"
             ],
             [
              0.3333333333333333,
              "#9c179e"
             ],
             [
              0.4444444444444444,
              "#bd3786"
             ],
             [
              0.5555555555555556,
              "#d8576b"
             ],
             [
              0.6666666666666666,
              "#ed7953"
             ],
             [
              0.7777777777777778,
              "#fb9f3a"
             ],
             [
              0.8888888888888888,
              "#fdca26"
             ],
             [
              1,
              "#f0f921"
             ]
            ],
            "type": "surface"
           }
          ],
          "table": [
           {
            "cells": {
             "fill": {
              "color": "#EBF0F8"
             },
             "line": {
              "color": "white"
             }
            },
            "header": {
             "fill": {
              "color": "#C8D4E3"
             },
             "line": {
              "color": "white"
             }
            },
            "type": "table"
           }
          ]
         },
         "layout": {
          "annotationdefaults": {
           "arrowcolor": "#2a3f5f",
           "arrowhead": 0,
           "arrowwidth": 1
          },
          "autotypenumbers": "strict",
          "coloraxis": {
           "colorbar": {
            "outlinewidth": 0,
            "ticks": ""
           }
          },
          "colorscale": {
           "diverging": [
            [
             0,
             "#8e0152"
            ],
            [
             0.1,
             "#c51b7d"
            ],
            [
             0.2,
             "#de77ae"
            ],
            [
             0.3,
             "#f1b6da"
            ],
            [
             0.4,
             "#fde0ef"
            ],
            [
             0.5,
             "#f7f7f7"
            ],
            [
             0.6,
             "#e6f5d0"
            ],
            [
             0.7,
             "#b8e186"
            ],
            [
             0.8,
             "#7fbc41"
            ],
            [
             0.9,
             "#4d9221"
            ],
            [
             1,
             "#276419"
            ]
           ],
           "sequential": [
            [
             0,
             "#0d0887"
            ],
            [
             0.1111111111111111,
             "#46039f"
            ],
            [
             0.2222222222222222,
             "#7201a8"
            ],
            [
             0.3333333333333333,
             "#9c179e"
            ],
            [
             0.4444444444444444,
             "#bd3786"
            ],
            [
             0.5555555555555556,
             "#d8576b"
            ],
            [
             0.6666666666666666,
             "#ed7953"
            ],
            [
             0.7777777777777778,
             "#fb9f3a"
            ],
            [
             0.8888888888888888,
             "#fdca26"
            ],
            [
             1,
             "#f0f921"
            ]
           ],
           "sequentialminus": [
            [
             0,
             "#0d0887"
            ],
            [
             0.1111111111111111,
             "#46039f"
            ],
            [
             0.2222222222222222,
             "#7201a8"
            ],
            [
             0.3333333333333333,
             "#9c179e"
            ],
            [
             0.4444444444444444,
             "#bd3786"
            ],
            [
             0.5555555555555556,
             "#d8576b"
            ],
            [
             0.6666666666666666,
             "#ed7953"
            ],
            [
             0.7777777777777778,
             "#fb9f3a"
            ],
            [
             0.8888888888888888,
             "#fdca26"
            ],
            [
             1,
             "#f0f921"
            ]
           ]
          },
          "colorway": [
           "#636efa",
           "#EF553B",
           "#00cc96",
           "#ab63fa",
           "#FFA15A",
           "#19d3f3",
           "#FF6692",
           "#B6E880",
           "#FF97FF",
           "#FECB52"
          ],
          "font": {
           "color": "#2a3f5f"
          },
          "geo": {
           "bgcolor": "white",
           "lakecolor": "white",
           "landcolor": "#E5ECF6",
           "showlakes": true,
           "showland": true,
           "subunitcolor": "white"
          },
          "hoverlabel": {
           "align": "left"
          },
          "hovermode": "closest",
          "mapbox": {
           "style": "light"
          },
          "paper_bgcolor": "white",
          "plot_bgcolor": "#E5ECF6",
          "polar": {
           "angularaxis": {
            "gridcolor": "white",
            "linecolor": "white",
            "ticks": ""
           },
           "bgcolor": "#E5ECF6",
           "radialaxis": {
            "gridcolor": "white",
            "linecolor": "white",
            "ticks": ""
           }
          },
          "scene": {
           "xaxis": {
            "backgroundcolor": "#E5ECF6",
            "gridcolor": "white",
            "gridwidth": 2,
            "linecolor": "white",
            "showbackground": true,
            "ticks": "",
            "zerolinecolor": "white"
           },
           "yaxis": {
            "backgroundcolor": "#E5ECF6",
            "gridcolor": "white",
            "gridwidth": 2,
            "linecolor": "white",
            "showbackground": true,
            "ticks": "",
            "zerolinecolor": "white"
           },
           "zaxis": {
            "backgroundcolor": "#E5ECF6",
            "gridcolor": "white",
            "gridwidth": 2,
            "linecolor": "white",
            "showbackground": true,
            "ticks": "",
            "zerolinecolor": "white"
           }
          },
          "shapedefaults": {
           "line": {
            "color": "#2a3f5f"
           }
          },
          "ternary": {
           "aaxis": {
            "gridcolor": "white",
            "linecolor": "white",
            "ticks": ""
           },
           "baxis": {
            "gridcolor": "white",
            "linecolor": "white",
            "ticks": ""
           },
           "bgcolor": "#E5ECF6",
           "caxis": {
            "gridcolor": "white",
            "linecolor": "white",
            "ticks": ""
           }
          },
          "title": {
           "x": 0.05
          },
          "xaxis": {
           "automargin": true,
           "gridcolor": "white",
           "linecolor": "white",
           "ticks": "",
           "title": {
            "standoff": 15
           },
           "zerolinecolor": "white",
           "zerolinewidth": 2
          },
          "yaxis": {
           "automargin": true,
           "gridcolor": "white",
           "linecolor": "white",
           "ticks": "",
           "title": {
            "standoff": 15
           },
           "zerolinecolor": "white",
           "zerolinewidth": 2
          }
         }
        },
        "title": {
         "text": "3D Scatter Plot of Palm Oil Production and Tree Cover Loss"
        },
        "width": 1200
       }
      }
     },
     "metadata": {},
     "output_type": "display_data"
    }
   ],
   "source": [
    "import pandas as pd\n",
    "import plotly.graph_objs as go\n",
    "\n",
    "# Load the dataset for tree cover loss\n",
    "df = pd.read_csv('../Datasets/Deforestation/Subnational 1 tree cover loss.csv')\n",
    "# Define the years to plot\n",
    "years = [f'tc_loss_ha_{year}' for year in range(2001, 2023)]\n",
    "\n",
    "# Mapping dictionary from Indonesian to English names for Kalimantan provinces\n",
    "province_mapping = {\n",
    "    'Kalimantan Barat': 'West Kalimantan',\n",
    "    'Kalimantan Tengah': 'Central Kalimantan',\n",
    "    'Kalimantan Timur': 'East Kalimantan',\n",
    "    'Kalimantan Selatan': 'South Kalimantan'\n",
    "}\n",
    "\n",
    "# Create an empty DataFrame to store totals\n",
    "totals_df = pd.DataFrame(columns=['year', 'cumulative_tc_loss_ha'])\n",
    "\n",
    "# Loop through each province\n",
    "for province_indo, province_eng in province_mapping.items():\n",
    "    # Filter the DataFrame for the current province and threshold == 0\n",
    "    province_df = df[(df['subnational1'] == province_indo) & (df['threshold'] == 0)]\n",
    "    \n",
    "    # Keep only relevant columns\n",
    "    columns_to_keep = ['subnational1'] + years\n",
    "    province_df = province_df[columns_to_keep]\n",
    "    \n",
    "    # Melt the DataFrame to long format\n",
    "    province_df_long = province_df.melt(id_vars='subnational1', var_name='year', value_name='tc_loss_ha')\n",
    "    \n",
    "    # Extract year from the column name and convert to integer\n",
    "    province_df_long['year'] = province_df_long['year'].str.extract(r'(\\d+)').astype(int)\n",
    "    \n",
    "    # Sort the DataFrame by year\n",
    "    province_df_long = province_df_long.sort_values(by='year')\n",
    "    \n",
    "    # Calculate cumulative tree loss\n",
    "    province_df_long['cumulative_tc_loss_ha'] = province_df_long['tc_loss_ha'].cumsum()\n",
    "    \n",
    "    # Append to totals_df\n",
    "    totals_df = pd.concat([totals_df, province_df_long[['year', 'cumulative_tc_loss_ha']]], ignore_index=True)\n",
    "\n",
    "# Calculate the total cumulative tree loss across all provinces\n",
    "totals_df = totals_df.groupby('year')['cumulative_tc_loss_ha'].sum().reset_index()\n",
    "\n",
    "# Load palm oil production data\n",
    "palm = pd.read_csv('../Datasets/Oils/archive/cleaned/palm.csv')\n",
    "\n",
    "# Filter data for Indonesia and years >= 2000\n",
    "df_Indo = palm[(palm['Country'] == 'Indonesia') & (palm['Year'] >= 2000)]\n",
    "\n",
    "# Ensure both datasets are aligned by year\n",
    "merged_df = pd.merge(totals_df, df_Indo[['Year', 'Production']], left_on='year', right_on='Year')\n",
    "\n",
    "# Create 3D scatter plot\n",
    "trace_3d = go.Scatter3d(\n",
    "    x=merged_df['year'],\n",
    "    y=merged_df['cumulative_tc_loss_ha'],\n",
    "    z=merged_df['Production'],\n",
    "    mode='markers',\n",
    "    marker=dict(\n",
    "        size=5,\n",
    "        color=merged_df['cumulative_tc_loss_ha'],  # Set color to cumulative tree loss for a gradient effect\n",
    "        colorscale='Viridis',\n",
    "        opacity=0.8\n",
    "    )\n",
    ")\n",
    "\n",
    "layout_3d = go.Layout(\n",
    "    title='3D Scatter Plot of Palm Oil Production and Tree Cover Loss',\n",
    "    scene=dict(\n",
    "        xaxis=dict(title='Year'),\n",
    "        yaxis=dict(title='Cumulative Tree Cover Loss (ha)'),\n",
    "        zaxis=dict(title='Palm Oil Production')\n",
    "    ),\n",
    "    width=1200,  # Increase the width of the plot\n",
    "    height=800   # Increase the height of the plot\n",
    ")\n",
    "\n",
    "fig3 = go.Figure(data=[trace_3d], layout=layout_3d)\n",
    "\n",
    "# Show 3D plot\n",
    "fig3.show()\n"
   ]
  },
  {
   "cell_type": "markdown",
   "metadata": {},
   "source": [
    "So what is the real solution? It seems there is a problem with the global demand for vegetable oil in general, not specifically palm oil. A solution could be to reduce the consumption af all oils."
   ]
  },
  {
   "cell_type": "markdown",
   "metadata": {},
   "source": [
    "Citations:\n",
    "\n",
    "_Manning, F. C., Kho, L. K., Hill, T. C., Cornulier, T., & Teh, Y. A. (2019). Carbon emissions from oil palm plantations on peat soil. Frontiers in Forests and Global Change, 2, 37._"
   ]
  },
  {
   "cell_type": "markdown",
   "metadata": {},
   "source": [
    "## Reflections"
   ]
  },
  {
   "cell_type": "markdown",
   "metadata": {},
   "source": []
  },
  {
   "cell_type": "markdown",
   "metadata": {},
   "source": [
    "The feedback from our peers and the TA helped us to improve a number of things. First of all we reduced the number of line and bar charts, to get a more diverse set of visualisations. This makes sure we can visualize the data in better way, so the readers of our story get a better understanding of the data. Secondly, we added another argument to the second perspective. This gives it more weight and credibility. Lastly we improved a number of small things thanks to the feedback, such as the addition of a map, an interactive plot and we fixed the 'hide-input' tags to make the github page neater. "
   ]
  },
  {
   "cell_type": "markdown",
   "metadata": {},
   "source": [
    "## Work distribution"
   ]
  },
  {
   "cell_type": "code",
   "execution_count": null,
   "metadata": {},
   "outputs": [],
   "source": []
  },
  {
   "cell_type": "markdown",
   "metadata": {},
   "source": [
    "Aylwin:\n",
    "\n",
    "- All arguments and perspectives <br>\n",
    "- Visualisations:\n",
    "    - Palm oil production in 2021\n",
    "    - Cumulative tree cover loss on Borneo per country and province (2001-2022)\n",
    "    - Palm Oil Production vs Total Tree Cover in Kalimantan (2000-2022)\n",
    "    - Global mean oil yield per hectare in 2021 per crop\n",
    "    - Total vegetable oil production in 2021\n",
    "    - Some polishing on a number of others\n",
    "\n",
    "Joren:\n",
    "\n",
    "- Visualisations\n",
    "    - Greenhouse gas emissions across stages of oil production lifecycle\n",
    "    - Greenhouse gas total emissions per food product\n",
    "\n",
    "Mikail:\n",
    "\n",
    "- Visualisations\n",
    "    - Palm Oil Production in Indonesia and Malaysia (2000-2023)\n",
    "- Fixed hide-input tags\n",
    "\n",
    "Maywand:\n",
    "\n",
    "- Visualisations\n",
    "    - 3D Scatter Plot of Palm Oil Production and Tree Cover Loss\n",
    "    - Palm Oil Production by Country per Decade"
   ]
  }
 ],
 "metadata": {
  "celltoolbar": "Tags",
  "kernelspec": {
   "display_name": "Python 3 (ipykernel)",
   "language": "python",
   "name": "python3"
  },
  "language_info": {
   "codemirror_mode": {
    "name": "ipython",
    "version": 3
   },
   "file_extension": ".py",
   "mimetype": "text/x-python",
   "name": "python",
   "nbconvert_exporter": "python",
   "pygments_lexer": "ipython3",
   "version": "3.12.3"
  }
 },
 "nbformat": 4,
 "nbformat_minor": 2
}
