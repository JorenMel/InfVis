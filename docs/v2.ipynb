{
 "cells": [
  {
   "cell_type": "code",
   "execution_count": 255,
   "metadata": {},
   "outputs": [],
   "source": [
    "import pandas as pd\n",
    "import numpy as np\n",
    "import plotly as py\n",
    "import matplotlib.pyplot as plt\n",
    "import seaborn as sns\n",
    "import warnings\n",
    "\n",
    "warnings.filterwarnings('ignore')"
   ]
  },
  {
   "cell_type": "markdown",
   "metadata": {},
   "source": [
    "# Palm Oil: Debunking Myths and Exploring Solutions"
   ]
  },
  {
   "cell_type": "markdown",
   "metadata": {},
   "source": [
    "## Introduction\n",
    "\n",
    "With the emergence of more and more palm oil-free products, it seems that palm oil is almost a thing of the past. Spurred on by horror stories of orangutans without trees and burning trees giving way to rows of oil palm trees, more and more people are opting for these products. This seems a very reasonable choice. However, it could be that the solution to this problem takes a more counter-intuitive approach: choose palm oil instead.\n",
    "\n",
    "Using various charts, we will try to present relevant data in as clear a way as possible, so that you can learn more about these two sides of the discussion and make your own choice on which option is best.\n",
    "\n",
    "In this analysis, we will concentrate exclusively on Malaysia and Indonesia, as these two countries are the predominant producers of palm oil globally. Together, they account for nearly 85% of the world's palm oil supply, making them the most significant players in the industry."
   ]
  },
  {
   "cell_type": "code",
   "execution_count": 8,
   "metadata": {},
   "outputs": [
    {
     "data": {
      "application/vnd.plotly.v1+json": {
       "config": {
        "plotlyServerURL": "https://plot.ly"
       },
       "data": [
        {
         "hole": 0.7,
         "insidetextorientation": "radial",
         "labels": [
          "Indonesia",
          "Malaysia",
          "Thailand",
          "Colombia",
          "Nigeria",
          "Other"
         ],
         "marker": {
          "colors": [
           "#4C78A8",
           "#F58518",
           "#E45756",
           "#72B7B2",
           "#54A24B",
           "#EECA3B",
           "#B279A2",
           "#FF9DA6",
           "#9D755D",
           "#BAB0AC"
          ]
         },
         "textinfo": "label+percent",
         "textposition": "outside",
         "type": "pie",
         "values": [
          49710344,
          18116354,
          2940000,
          1747773,
          1350000,
          6759558.03
         ]
        }
       ],
       "layout": {
        "height": 600,
        "showlegend": false,
        "template": {
         "data": {
          "bar": [
           {
            "error_x": {
             "color": "#2a3f5f"
            },
            "error_y": {
             "color": "#2a3f5f"
            },
            "marker": {
             "line": {
              "color": "#E5ECF6",
              "width": 0.5
             },
             "pattern": {
              "fillmode": "overlay",
              "size": 10,
              "solidity": 0.2
             }
            },
            "type": "bar"
           }
          ],
          "barpolar": [
           {
            "marker": {
             "line": {
              "color": "#E5ECF6",
              "width": 0.5
             },
             "pattern": {
              "fillmode": "overlay",
              "size": 10,
              "solidity": 0.2
             }
            },
            "type": "barpolar"
           }
          ],
          "carpet": [
           {
            "aaxis": {
             "endlinecolor": "#2a3f5f",
             "gridcolor": "white",
             "linecolor": "white",
             "minorgridcolor": "white",
             "startlinecolor": "#2a3f5f"
            },
            "baxis": {
             "endlinecolor": "#2a3f5f",
             "gridcolor": "white",
             "linecolor": "white",
             "minorgridcolor": "white",
             "startlinecolor": "#2a3f5f"
            },
            "type": "carpet"
           }
          ],
          "choropleth": [
           {
            "colorbar": {
             "outlinewidth": 0,
             "ticks": ""
            },
            "type": "choropleth"
           }
          ],
          "contour": [
           {
            "colorbar": {
             "outlinewidth": 0,
             "ticks": ""
            },
            "colorscale": [
             [
              0,
              "#0d0887"
             ],
             [
              0.1111111111111111,
              "#46039f"
             ],
             [
              0.2222222222222222,
              "#7201a8"
             ],
             [
              0.3333333333333333,
              "#9c179e"
             ],
             [
              0.4444444444444444,
              "#bd3786"
             ],
             [
              0.5555555555555556,
              "#d8576b"
             ],
             [
              0.6666666666666666,
              "#ed7953"
             ],
             [
              0.7777777777777778,
              "#fb9f3a"
             ],
             [
              0.8888888888888888,
              "#fdca26"
             ],
             [
              1,
              "#f0f921"
             ]
            ],
            "type": "contour"
           }
          ],
          "contourcarpet": [
           {
            "colorbar": {
             "outlinewidth": 0,
             "ticks": ""
            },
            "type": "contourcarpet"
           }
          ],
          "heatmap": [
           {
            "colorbar": {
             "outlinewidth": 0,
             "ticks": ""
            },
            "colorscale": [
             [
              0,
              "#0d0887"
             ],
             [
              0.1111111111111111,
              "#46039f"
             ],
             [
              0.2222222222222222,
              "#7201a8"
             ],
             [
              0.3333333333333333,
              "#9c179e"
             ],
             [
              0.4444444444444444,
              "#bd3786"
             ],
             [
              0.5555555555555556,
              "#d8576b"
             ],
             [
              0.6666666666666666,
              "#ed7953"
             ],
             [
              0.7777777777777778,
              "#fb9f3a"
             ],
             [
              0.8888888888888888,
              "#fdca26"
             ],
             [
              1,
              "#f0f921"
             ]
            ],
            "type": "heatmap"
           }
          ],
          "heatmapgl": [
           {
            "colorbar": {
             "outlinewidth": 0,
             "ticks": ""
            },
            "colorscale": [
             [
              0,
              "#0d0887"
             ],
             [
              0.1111111111111111,
              "#46039f"
             ],
             [
              0.2222222222222222,
              "#7201a8"
             ],
             [
              0.3333333333333333,
              "#9c179e"
             ],
             [
              0.4444444444444444,
              "#bd3786"
             ],
             [
              0.5555555555555556,
              "#d8576b"
             ],
             [
              0.6666666666666666,
              "#ed7953"
             ],
             [
              0.7777777777777778,
              "#fb9f3a"
             ],
             [
              0.8888888888888888,
              "#fdca26"
             ],
             [
              1,
              "#f0f921"
             ]
            ],
            "type": "heatmapgl"
           }
          ],
          "histogram": [
           {
            "marker": {
             "pattern": {
              "fillmode": "overlay",
              "size": 10,
              "solidity": 0.2
             }
            },
            "type": "histogram"
           }
          ],
          "histogram2d": [
           {
            "colorbar": {
             "outlinewidth": 0,
             "ticks": ""
            },
            "colorscale": [
             [
              0,
              "#0d0887"
             ],
             [
              0.1111111111111111,
              "#46039f"
             ],
             [
              0.2222222222222222,
              "#7201a8"
             ],
             [
              0.3333333333333333,
              "#9c179e"
             ],
             [
              0.4444444444444444,
              "#bd3786"
             ],
             [
              0.5555555555555556,
              "#d8576b"
             ],
             [
              0.6666666666666666,
              "#ed7953"
             ],
             [
              0.7777777777777778,
              "#fb9f3a"
             ],
             [
              0.8888888888888888,
              "#fdca26"
             ],
             [
              1,
              "#f0f921"
             ]
            ],
            "type": "histogram2d"
           }
          ],
          "histogram2dcontour": [
           {
            "colorbar": {
             "outlinewidth": 0,
             "ticks": ""
            },
            "colorscale": [
             [
              0,
              "#0d0887"
             ],
             [
              0.1111111111111111,
              "#46039f"
             ],
             [
              0.2222222222222222,
              "#7201a8"
             ],
             [
              0.3333333333333333,
              "#9c179e"
             ],
             [
              0.4444444444444444,
              "#bd3786"
             ],
             [
              0.5555555555555556,
              "#d8576b"
             ],
             [
              0.6666666666666666,
              "#ed7953"
             ],
             [
              0.7777777777777778,
              "#fb9f3a"
             ],
             [
              0.8888888888888888,
              "#fdca26"
             ],
             [
              1,
              "#f0f921"
             ]
            ],
            "type": "histogram2dcontour"
           }
          ],
          "mesh3d": [
           {
            "colorbar": {
             "outlinewidth": 0,
             "ticks": ""
            },
            "type": "mesh3d"
           }
          ],
          "parcoords": [
           {
            "line": {
             "colorbar": {
              "outlinewidth": 0,
              "ticks": ""
             }
            },
            "type": "parcoords"
           }
          ],
          "pie": [
           {
            "automargin": true,
            "type": "pie"
           }
          ],
          "scatter": [
           {
            "fillpattern": {
             "fillmode": "overlay",
             "size": 10,
             "solidity": 0.2
            },
            "type": "scatter"
           }
          ],
          "scatter3d": [
           {
            "line": {
             "colorbar": {
              "outlinewidth": 0,
              "ticks": ""
             }
            },
            "marker": {
             "colorbar": {
              "outlinewidth": 0,
              "ticks": ""
             }
            },
            "type": "scatter3d"
           }
          ],
          "scattercarpet": [
           {
            "marker": {
             "colorbar": {
              "outlinewidth": 0,
              "ticks": ""
             }
            },
            "type": "scattercarpet"
           }
          ],
          "scattergeo": [
           {
            "marker": {
             "colorbar": {
              "outlinewidth": 0,
              "ticks": ""
             }
            },
            "type": "scattergeo"
           }
          ],
          "scattergl": [
           {
            "marker": {
             "colorbar": {
              "outlinewidth": 0,
              "ticks": ""
             }
            },
            "type": "scattergl"
           }
          ],
          "scattermapbox": [
           {
            "marker": {
             "colorbar": {
              "outlinewidth": 0,
              "ticks": ""
             }
            },
            "type": "scattermapbox"
           }
          ],
          "scatterpolar": [
           {
            "marker": {
             "colorbar": {
              "outlinewidth": 0,
              "ticks": ""
             }
            },
            "type": "scatterpolar"
           }
          ],
          "scatterpolargl": [
           {
            "marker": {
             "colorbar": {
              "outlinewidth": 0,
              "ticks": ""
             }
            },
            "type": "scatterpolargl"
           }
          ],
          "scatterternary": [
           {
            "marker": {
             "colorbar": {
              "outlinewidth": 0,
              "ticks": ""
             }
            },
            "type": "scatterternary"
           }
          ],
          "surface": [
           {
            "colorbar": {
             "outlinewidth": 0,
             "ticks": ""
            },
            "colorscale": [
             [
              0,
              "#0d0887"
             ],
             [
              0.1111111111111111,
              "#46039f"
             ],
             [
              0.2222222222222222,
              "#7201a8"
             ],
             [
              0.3333333333333333,
              "#9c179e"
             ],
             [
              0.4444444444444444,
              "#bd3786"
             ],
             [
              0.5555555555555556,
              "#d8576b"
             ],
             [
              0.6666666666666666,
              "#ed7953"
             ],
             [
              0.7777777777777778,
              "#fb9f3a"
             ],
             [
              0.8888888888888888,
              "#fdca26"
             ],
             [
              1,
              "#f0f921"
             ]
            ],
            "type": "surface"
           }
          ],
          "table": [
           {
            "cells": {
             "fill": {
              "color": "#EBF0F8"
             },
             "line": {
              "color": "white"
             }
            },
            "header": {
             "fill": {
              "color": "#C8D4E3"
             },
             "line": {
              "color": "white"
             }
            },
            "type": "table"
           }
          ]
         },
         "layout": {
          "annotationdefaults": {
           "arrowcolor": "#2a3f5f",
           "arrowhead": 0,
           "arrowwidth": 1
          },
          "autotypenumbers": "strict",
          "coloraxis": {
           "colorbar": {
            "outlinewidth": 0,
            "ticks": ""
           }
          },
          "colorscale": {
           "diverging": [
            [
             0,
             "#8e0152"
            ],
            [
             0.1,
             "#c51b7d"
            ],
            [
             0.2,
             "#de77ae"
            ],
            [
             0.3,
             "#f1b6da"
            ],
            [
             0.4,
             "#fde0ef"
            ],
            [
             0.5,
             "#f7f7f7"
            ],
            [
             0.6,
             "#e6f5d0"
            ],
            [
             0.7,
             "#b8e186"
            ],
            [
             0.8,
             "#7fbc41"
            ],
            [
             0.9,
             "#4d9221"
            ],
            [
             1,
             "#276419"
            ]
           ],
           "sequential": [
            [
             0,
             "#0d0887"
            ],
            [
             0.1111111111111111,
             "#46039f"
            ],
            [
             0.2222222222222222,
             "#7201a8"
            ],
            [
             0.3333333333333333,
             "#9c179e"
            ],
            [
             0.4444444444444444,
             "#bd3786"
            ],
            [
             0.5555555555555556,
             "#d8576b"
            ],
            [
             0.6666666666666666,
             "#ed7953"
            ],
            [
             0.7777777777777778,
             "#fb9f3a"
            ],
            [
             0.8888888888888888,
             "#fdca26"
            ],
            [
             1,
             "#f0f921"
            ]
           ],
           "sequentialminus": [
            [
             0,
             "#0d0887"
            ],
            [
             0.1111111111111111,
             "#46039f"
            ],
            [
             0.2222222222222222,
             "#7201a8"
            ],
            [
             0.3333333333333333,
             "#9c179e"
            ],
            [
             0.4444444444444444,
             "#bd3786"
            ],
            [
             0.5555555555555556,
             "#d8576b"
            ],
            [
             0.6666666666666666,
             "#ed7953"
            ],
            [
             0.7777777777777778,
             "#fb9f3a"
            ],
            [
             0.8888888888888888,
             "#fdca26"
            ],
            [
             1,
             "#f0f921"
            ]
           ]
          },
          "colorway": [
           "#636efa",
           "#EF553B",
           "#00cc96",
           "#ab63fa",
           "#FFA15A",
           "#19d3f3",
           "#FF6692",
           "#B6E880",
           "#FF97FF",
           "#FECB52"
          ],
          "font": {
           "color": "#2a3f5f"
          },
          "geo": {
           "bgcolor": "white",
           "lakecolor": "white",
           "landcolor": "#E5ECF6",
           "showlakes": true,
           "showland": true,
           "subunitcolor": "white"
          },
          "hoverlabel": {
           "align": "left"
          },
          "hovermode": "closest",
          "mapbox": {
           "style": "light"
          },
          "paper_bgcolor": "white",
          "plot_bgcolor": "#E5ECF6",
          "polar": {
           "angularaxis": {
            "gridcolor": "white",
            "linecolor": "white",
            "ticks": ""
           },
           "bgcolor": "#E5ECF6",
           "radialaxis": {
            "gridcolor": "white",
            "linecolor": "white",
            "ticks": ""
           }
          },
          "scene": {
           "xaxis": {
            "backgroundcolor": "#E5ECF6",
            "gridcolor": "white",
            "gridwidth": 2,
            "linecolor": "white",
            "showbackground": true,
            "ticks": "",
            "zerolinecolor": "white"
           },
           "yaxis": {
            "backgroundcolor": "#E5ECF6",
            "gridcolor": "white",
            "gridwidth": 2,
            "linecolor": "white",
            "showbackground": true,
            "ticks": "",
            "zerolinecolor": "white"
           },
           "zaxis": {
            "backgroundcolor": "#E5ECF6",
            "gridcolor": "white",
            "gridwidth": 2,
            "linecolor": "white",
            "showbackground": true,
            "ticks": "",
            "zerolinecolor": "white"
           }
          },
          "shapedefaults": {
           "line": {
            "color": "#2a3f5f"
           }
          },
          "ternary": {
           "aaxis": {
            "gridcolor": "white",
            "linecolor": "white",
            "ticks": ""
           },
           "baxis": {
            "gridcolor": "white",
            "linecolor": "white",
            "ticks": ""
           },
           "bgcolor": "#E5ECF6",
           "caxis": {
            "gridcolor": "white",
            "linecolor": "white",
            "ticks": ""
           }
          },
          "title": {
           "x": 0.05
          },
          "xaxis": {
           "automargin": true,
           "gridcolor": "white",
           "linecolor": "white",
           "ticks": "",
           "title": {
            "standoff": 15
           },
           "zerolinecolor": "white",
           "zerolinewidth": 2
          },
          "yaxis": {
           "automargin": true,
           "gridcolor": "white",
           "linecolor": "white",
           "ticks": "",
           "title": {
            "standoff": 15
           },
           "zerolinecolor": "white",
           "zerolinewidth": 2
          }
         }
        },
        "title": {
         "text": "Palm Oil Production in 2021"
        }
       }
      }
     },
     "metadata": {},
     "output_type": "display_data"
    }
   ],
   "source": [
    "import pandas as pd\n",
    "import plotly.graph_objects as go\n",
    "import plotly.express as px\n",
    "\n",
    "# Load the dataset\n",
    "df = pd.read_csv('../Datasets/palm-oil-production.csv')\n",
    "\n",
    "# Filter data for the year 2021\n",
    "df_2021 = df.loc[df['Year'] == 2021]\n",
    "\n",
    "# Sort by production to get the top 5 entries\n",
    "df_2021_top5 = df_2021.sort_values(by='Production', ascending=False).head(5)\n",
    "\n",
    "# Calculate the total production of the remaining entries\n",
    "others_production = df_2021.sort_values(by='Production', ascending=False).iloc[5:]['Production'].sum()\n",
    "\n",
    "# Create a new DataFrame for the 'Other' category\n",
    "df_others = pd.DataFrame({'Entity': ['Other'], 'Production': [others_production]})\n",
    "\n",
    "# Concatenate the top 5 entries with the 'Other' category\n",
    "df_2021_final = pd.concat([df_2021_top5, df_others], ignore_index=True)\n",
    "\n",
    "# Define labels and values for the donut chart\n",
    "labels = df_2021_final['Entity']\n",
    "values = df_2021_final['Production']\n",
    "\n",
    "# Define colors for the producers using provided palette\n",
    "colors = px.colors.qualitative.T10\n",
    "\n",
    "# Create the donut chart using Plotly\n",
    "fig = go.Figure(data=[go.Pie(\n",
    "    labels=labels, \n",
    "    values=values, \n",
    "    hole=.7,  # Set the hole size for the donut chart\n",
    "    textinfo='label+percent',\n",
    "    textposition='outside',\n",
    "    insidetextorientation='radial',\n",
    "    marker=dict(colors=colors)\n",
    ")])\n",
    "\n",
    "fig.update_layout(\n",
    "    title_text='Palm oil production in 2021',\n",
    "    showlegend=False,\n",
    "    height=600 \n",
    ")\n",
    "\n",
    "# Show the plot\n",
    "fig.show()\n"
   ]
  },
  {
   "cell_type": "markdown",
   "metadata": {},
   "source": [
    "## Perspective 1: We pust stop the production of palm Oil"
   ]
  },
  {
   "cell_type": "markdown",
   "metadata": {},
   "source": [
    "### Argument 1: It leads to deforestation\n",
    "\n",
    "As we can see in the following graphs, the production of palm oil in Indonesia and Malaysia, has been steadily increasing over the years. With the total production in 2023 being more than three times as much as in 2000."
   ]
  },
  {
   "cell_type": "code",
   "execution_count": 1,
   "metadata": {},
   "outputs": [
    {
     "data": {
      "application/vnd.plotly.v1+json": {
       "config": {
        "plotlyServerURL": "https://plot.ly"
       },
       "data": [
        {
         "coloraxis": "coloraxis",
         "geo": "geo",
         "hovertemplate": "<b>%{hovertext}</b><br><br>Decade=1960<br>Entity=%{location}<br>Production=%{z}<extra></extra>",
         "hovertext": [
          "Albania",
          "Guatemala",
          "Ghana",
          "Germany",
          "Small Island Developing States (FAO)",
          "Gambia",
          "Gabon",
          "European Union (27)",
          "Solomon Islands",
          "Europe",
          "Equatorial Guinea",
          "Sierra Leone",
          "Suriname",
          "East Timor",
          "Dominican Republic",
          "Democratic Republic of Congo",
          "Tanzania",
          "Cote d'Ivoire",
          "Costa Rica",
          "Congo",
          "Thailand",
          "Colombia",
          "China (FAO)",
          "Ecuador",
          "Guinea",
          "Guinea-Bissau",
          "High-income countries",
          "Oceania (FAO)",
          "Oceania",
          "Norway",
          "Nigeria",
          "Papua New Guinea",
          "Nicaragua",
          "Middle Africa (FAO)",
          "Paraguay",
          "Mexico",
          "Melanesia",
          "Malaysia",
          "Peru",
          "Madagascar",
          "Low-income countries",
          "Low Income Food Deficit Countries (FAO)",
          "Philippines",
          "Liberia",
          "Least Developed Countries (FAO)",
          "Land Locked Developing Countries (FAO)",
          "Sao Tome and Principe",
          "Indonesia",
          "Honduras",
          "Senegal",
          "China",
          "Togo",
          "Panama",
          "Cambodia",
          "World",
          "Venezuela",
          "Burundi",
          "Cameroon",
          "Austria",
          "Benin",
          "Angola",
          "Brazil"
         ],
         "locationmode": "country names",
         "locations": [
          "Albania",
          "Guatemala",
          "Ghana",
          "Germany",
          "Small Island Developing States (FAO)",
          "Gambia",
          "Gabon",
          "European Union (27)",
          "Solomon Islands",
          "Europe",
          "Equatorial Guinea",
          "Sierra Leone",
          "Suriname",
          "East Timor",
          "Dominican Republic",
          "Democratic Republic of Congo",
          "Tanzania",
          "Cote d'Ivoire",
          "Costa Rica",
          "Congo",
          "Thailand",
          "Colombia",
          "China (FAO)",
          "Ecuador",
          "Guinea",
          "Guinea-Bissau",
          "High-income countries",
          "Oceania (FAO)",
          "Oceania",
          "Norway",
          "Nigeria",
          "Papua New Guinea",
          "Nicaragua",
          "Middle Africa (FAO)",
          "Paraguay",
          "Mexico",
          "Melanesia",
          "Malaysia",
          "Peru",
          "Madagascar",
          "Low-income countries",
          "Low Income Food Deficit Countries (FAO)",
          "Philippines",
          "Liberia",
          "Least Developed Countries (FAO)",
          "Land Locked Developing Countries (FAO)",
          "Sao Tome and Principe",
          "Indonesia",
          "Honduras",
          "Senegal",
          "China",
          "Togo",
          "Panama",
          "Cambodia",
          "World",
          "Venezuela",
          "Burundi",
          "Cameroon",
          "Austria",
          "Benin",
          "Angola",
          "Brazil"
         ],
         "name": "",
         "type": "choropleth",
         "z": [
          0,
          0,
          195000,
          0,
          68069,
          17200,
          19300,
          0,
          2000,
          0,
          32492,
          353000,
          0,
          0,
          0,
          1906200,
          8333,
          163000,
          77700,
          92142,
          5400,
          55150,
          520000,
          335000,
          287900,
          53000,
          0,
          2000,
          2000,
          0,
          5863000,
          0,
          3000,
          2893213,
          42451,
          178140,
          2000,
          1652557,
          0,
          0,
          2527800,
          3675564,
          4150,
          101700,
          3455802,
          69851,
          13069,
          1468543,
          33363,
          36900,
          520000,
          69300,
          0,
          0,
          14737774,
          0,
          10010,
          469620,
          0,
          236800,
          343000,
          71964
         ]
        }
       ],
       "frames": [
        {
         "data": [
          {
           "coloraxis": "coloraxis",
           "geo": "geo",
           "hovertemplate": "<b>%{hovertext}</b><br><br>Decade=1960<br>Entity=%{location}<br>Production=%{z}<extra></extra>",
           "hovertext": [
            "Albania",
            "Guatemala",
            "Ghana",
            "Germany",
            "Small Island Developing States (FAO)",
            "Gambia",
            "Gabon",
            "European Union (27)",
            "Solomon Islands",
            "Europe",
            "Equatorial Guinea",
            "Sierra Leone",
            "Suriname",
            "East Timor",
            "Dominican Republic",
            "Democratic Republic of Congo",
            "Tanzania",
            "Cote d'Ivoire",
            "Costa Rica",
            "Congo",
            "Thailand",
            "Colombia",
            "China (FAO)",
            "Ecuador",
            "Guinea",
            "Guinea-Bissau",
            "High-income countries",
            "Oceania (FAO)",
            "Oceania",
            "Norway",
            "Nigeria",
            "Papua New Guinea",
            "Nicaragua",
            "Middle Africa (FAO)",
            "Paraguay",
            "Mexico",
            "Melanesia",
            "Malaysia",
            "Peru",
            "Madagascar",
            "Low-income countries",
            "Low Income Food Deficit Countries (FAO)",
            "Philippines",
            "Liberia",
            "Least Developed Countries (FAO)",
            "Land Locked Developing Countries (FAO)",
            "Sao Tome and Principe",
            "Indonesia",
            "Honduras",
            "Senegal",
            "China",
            "Togo",
            "Panama",
            "Cambodia",
            "World",
            "Venezuela",
            "Burundi",
            "Cameroon",
            "Austria",
            "Benin",
            "Angola",
            "Brazil"
           ],
           "locationmode": "country names",
           "locations": [
            "Albania",
            "Guatemala",
            "Ghana",
            "Germany",
            "Small Island Developing States (FAO)",
            "Gambia",
            "Gabon",
            "European Union (27)",
            "Solomon Islands",
            "Europe",
            "Equatorial Guinea",
            "Sierra Leone",
            "Suriname",
            "East Timor",
            "Dominican Republic",
            "Democratic Republic of Congo",
            "Tanzania",
            "Cote d'Ivoire",
            "Costa Rica",
            "Congo",
            "Thailand",
            "Colombia",
            "China (FAO)",
            "Ecuador",
            "Guinea",
            "Guinea-Bissau",
            "High-income countries",
            "Oceania (FAO)",
            "Oceania",
            "Norway",
            "Nigeria",
            "Papua New Guinea",
            "Nicaragua",
            "Middle Africa (FAO)",
            "Paraguay",
            "Mexico",
            "Melanesia",
            "Malaysia",
            "Peru",
            "Madagascar",
            "Low-income countries",
            "Low Income Food Deficit Countries (FAO)",
            "Philippines",
            "Liberia",
            "Least Developed Countries (FAO)",
            "Land Locked Developing Countries (FAO)",
            "Sao Tome and Principe",
            "Indonesia",
            "Honduras",
            "Senegal",
            "China",
            "Togo",
            "Panama",
            "Cambodia",
            "World",
            "Venezuela",
            "Burundi",
            "Cameroon",
            "Austria",
            "Benin",
            "Angola",
            "Brazil"
           ],
           "name": "",
           "type": "choropleth",
           "z": [
            0,
            0,
            195000,
            0,
            68069,
            17200,
            19300,
            0,
            2000,
            0,
            32492,
            353000,
            0,
            0,
            0,
            1906200,
            8333,
            163000,
            77700,
            92142,
            5400,
            55150,
            520000,
            335000,
            287900,
            53000,
            0,
            2000,
            2000,
            0,
            5863000,
            0,
            3000,
            2893213,
            42451,
            178140,
            2000,
            1652557,
            0,
            0,
            2527800,
            3675564,
            4150,
            101700,
            3455802,
            69851,
            13069,
            1468543,
            33363,
            36900,
            520000,
            69300,
            0,
            0,
            14737774,
            0,
            10010,
            469620,
            0,
            236800,
            343000,
            71964
           ]
          }
         ],
         "name": "1960"
        },
        {
         "data": [
          {
           "coloraxis": "coloraxis",
           "geo": "geo",
           "hovertemplate": "<b>%{hovertext}</b><br><br>Decade=1970<br>Entity=%{location}<br>Production=%{z}<extra></extra>",
           "hovertext": [
            "Indonesia",
            "Low Income Food Deficit Countries (FAO)",
            "Sierra Leone",
            "World",
            "Cambodia",
            "East Timor",
            "Guatemala",
            "Middle Africa (FAO)",
            "Democratic Republic of Congo",
            "Brazil",
            "Tanzania",
            "Dominican Republic",
            "Mexico",
            "Paraguay",
            "Guinea",
            "Madagascar",
            "Austria",
            "Peru",
            "European Union (27)",
            "Burundi",
            "Solomon Islands",
            "Small Island Developing States (FAO)",
            "Venezuela",
            "Gambia",
            "Europe",
            "Malaysia",
            "Low-income countries",
            "Equatorial Guinea",
            "Melanesia",
            "Germany",
            "Ghana",
            "Ecuador",
            "Suriname",
            "Angola",
            "Liberia",
            "Cote d'Ivoire",
            "Senegal",
            "Colombia",
            "Least Developed Countries (FAO)",
            "High-income countries",
            "Land Locked Developing Countries (FAO)",
            "China (FAO)",
            "Oceania",
            "Honduras",
            "Benin",
            "Panama",
            "China",
            "Albania",
            "Oceania (FAO)",
            "Togo",
            "Sao Tome and Principe",
            "Norway",
            "Thailand",
            "Gabon",
            "Costa Rica",
            "Congo",
            "Nicaragua",
            "Philippines",
            "Papua New Guinea",
            "Cameroon",
            "Nigeria",
            "Guinea-Bissau"
           ],
           "locationmode": "country names",
           "locations": [
            "Indonesia",
            "Low Income Food Deficit Countries (FAO)",
            "Sierra Leone",
            "World",
            "Cambodia",
            "East Timor",
            "Guatemala",
            "Middle Africa (FAO)",
            "Democratic Republic of Congo",
            "Brazil",
            "Tanzania",
            "Dominican Republic",
            "Mexico",
            "Paraguay",
            "Guinea",
            "Madagascar",
            "Austria",
            "Peru",
            "European Union (27)",
            "Burundi",
            "Solomon Islands",
            "Small Island Developing States (FAO)",
            "Venezuela",
            "Gambia",
            "Europe",
            "Malaysia",
            "Low-income countries",
            "Equatorial Guinea",
            "Melanesia",
            "Germany",
            "Ghana",
            "Ecuador",
            "Suriname",
            "Angola",
            "Liberia",
            "Cote d'Ivoire",
            "Senegal",
            "Colombia",
            "Least Developed Countries (FAO)",
            "High-income countries",
            "Land Locked Developing Countries (FAO)",
            "China (FAO)",
            "Oceania",
            "Honduras",
            "Benin",
            "Panama",
            "China",
            "Albania",
            "Oceania (FAO)",
            "Togo",
            "Sao Tome and Principe",
            "Norway",
            "Thailand",
            "Gabon",
            "Costa Rica",
            "Congo",
            "Nicaragua",
            "Philippines",
            "Papua New Guinea",
            "Cameroon",
            "Nigeria",
            "Guinea-Bissau"
           ],
           "name": "",
           "type": "choropleth",
           "z": [
            3801991,
            4380939,
            433600,
            30011525,
            0,
            0,
            0,
            3245651,
            1910100,
            86878,
            22528,
            0,
            93887,
            54883,
            388200,
            11975,
            0,
            13511,
            0,
            17060,
            40700,
            277624,
            0,
            25300,
            0,
            11825136,
            2779085,
            43300,
            211700,
            0,
            208000,
            255281,
            11773,
            374000,
            203750,
            1163500,
            50400,
            436140,
            3937839,
            0,
            126743,
            1516000,
            211700,
            86480,
            277275,
            0,
            1516000,
            0,
            211700,
            74000,
            5651,
            0,
            34250,
            20500,
            213626,
            143000,
            20500,
            83750,
            171000,
            694300,
            5096000,
            48500
           ]
          }
         ],
         "name": "1970"
        },
        {
         "data": [
          {
           "coloraxis": "coloraxis",
           "geo": "geo",
           "hovertemplate": "<b>%{hovertext}</b><br><br>Decade=1980<br>Entity=%{location}<br>Production=%{z}<extra></extra>",
           "hovertext": [
            "Honduras",
            "Guatemala",
            "Liberia",
            "Ghana",
            "Small Island Developing States (FAO)",
            "Philippines",
            "Gabon",
            "Sao Tome and Principe",
            "Benin",
            "Brazil",
            "Gambia",
            "Peru",
            "Venezuela",
            "Low-income countries",
            "Land Locked Developing Countries (FAO)",
            "High-income countries",
            "Guinea-Bissau",
            "Germany",
            "Guinea",
            "Least Developed Countries (FAO)",
            "Sierra Leone",
            "Senegal",
            "Low Income Food Deficit Countries (FAO)",
            "Togo",
            "Austria",
            "Caribbean (FAO)",
            "Cambodia",
            "Middle Africa (FAO)",
            "Democratic Republic of Congo",
            "Madagascar",
            "Papua New Guinea",
            "Cote d'Ivoire",
            "Tanzania",
            "Nicaragua",
            "Costa Rica",
            "Nigeria",
            "Angola",
            "Congo",
            "Colombia",
            "Cameroon",
            "Thailand",
            "Albania",
            "China (FAO)",
            "Oceania",
            "Panama",
            "China",
            "Oceania (FAO)",
            "Norway",
            "Dominican Republic",
            "Malaysia",
            "Equatorial Guinea",
            "Mexico",
            "European Union (27)",
            "Suriname",
            "East Timor",
            "Burundi",
            "Ecuador",
            "Solomon Islands",
            "Paraguay",
            "World",
            "Europe",
            "Melanesia",
            "Indonesia"
           ],
           "locationmode": "country names",
           "locations": [
            "Honduras",
            "Guatemala",
            "Liberia",
            "Ghana",
            "Small Island Developing States (FAO)",
            "Philippines",
            "Gabon",
            "Sao Tome and Principe",
            "Benin",
            "Brazil",
            "Gambia",
            "Peru",
            "Venezuela",
            "Low-income countries",
            "Land Locked Developing Countries (FAO)",
            "High-income countries",
            "Guinea-Bissau",
            "Germany",
            "Guinea",
            "Least Developed Countries (FAO)",
            "Sierra Leone",
            "Senegal",
            "Low Income Food Deficit Countries (FAO)",
            "Togo",
            "Austria",
            "Caribbean (FAO)",
            "Cambodia",
            "Middle Africa (FAO)",
            "Democratic Republic of Congo",
            "Madagascar",
            "Papua New Guinea",
            "Cote d'Ivoire",
            "Tanzania",
            "Nicaragua",
            "Costa Rica",
            "Nigeria",
            "Angola",
            "Congo",
            "Colombia",
            "Cameroon",
            "Thailand",
            "Albania",
            "China (FAO)",
            "Oceania",
            "Panama",
            "China",
            "Oceania (FAO)",
            "Norway",
            "Dominican Republic",
            "Malaysia",
            "Equatorial Guinea",
            "Mexico",
            "European Union (27)",
            "Suriname",
            "East Timor",
            "Burundi",
            "Ecuador",
            "Solomon Islands",
            "Paraguay",
            "World",
            "Europe",
            "Melanesia",
            "Indonesia"
           ],
           "name": "",
           "type": "choropleth",
           "z": [
            504180,
            34572,
            288500,
            397300,
            1273886,
            306250,
            31251,
            2471,
            293000,
            281700,
            26000,
            124986,
            42704,
            2649576,
            125523,
            0,
            46000,
            0,
            398000,
            4007950,
            487300,
            57600,
            4554832,
            71000,
            0,
            2600,
            0,
            3239637,
            1622300,
            28195,
            999000,
            1802571,
            42560,
            32210,
            453930,
            6060000,
            392000,
            154700,
            1290403,
            924715,
            920498,
            0,
            1995000,
            1171743,
            0,
            1995000,
            1171743,
            0,
            2600,
            39930182,
            49700,
            24800,
            0,
            51072,
            0,
            17781,
            875696,
            172743,
            45242,
            73659944,
            0,
            1171743,
            12316732
           ]
          }
         ],
         "name": "1980"
        },
        {
         "data": [
          {
           "coloraxis": "coloraxis",
           "geo": "geo",
           "hovertemplate": "<b>%{hovertext}</b><br><br>Decade=1990<br>Entity=%{location}<br>Production=%{z}<extra></extra>",
           "hovertext": [
            "Panama",
            "Philippines",
            "Land Locked Developing Countries (FAO)",
            "Oceania",
            "Indonesia",
            "Oceania (FAO)",
            "Norway",
            "Malaysia",
            "Mexico",
            "Paraguay",
            "World",
            "Angola",
            "Least Developed Countries (FAO)",
            "Albania",
            "Nigeria",
            "Melanesia",
            "Nicaragua",
            "Peru",
            "Low Income Food Deficit Countries (FAO)",
            "Papua New Guinea",
            "Middle Africa (FAO)",
            "Liberia",
            "Austria",
            "Low-income countries",
            "Madagascar",
            "Senegal",
            "Sao Tome and Principe",
            "Sierra Leone",
            "Costa Rica",
            "Tanzania",
            "Germany",
            "Venezuela",
            "Cote d'Ivoire",
            "Cambodia",
            "Gambia",
            "Gabon",
            "Brazil",
            "Small Island Developing States (FAO)",
            "Democratic Republic of Congo",
            "Europe",
            "Burundi",
            "Solomon Islands",
            "Dominican Republic",
            "Benin",
            "Equatorial Guinea",
            "Suriname",
            "East Timor",
            "European Union (27)",
            "Guatemala",
            "Ghana",
            "Ecuador",
            "China (FAO)",
            "High-income countries",
            "Thailand",
            "Colombia",
            "Guinea-Bissau",
            "Congo",
            "China",
            "Honduras",
            "Togo",
            "Guinea",
            "Caribbean (FAO)",
            "Cameroon"
           ],
           "locationmode": "country names",
           "locations": [
            "Panama",
            "Philippines",
            "Land Locked Developing Countries (FAO)",
            "Oceania",
            "Indonesia",
            "Oceania (FAO)",
            "Norway",
            "Malaysia",
            "Mexico",
            "Paraguay",
            "World",
            "Angola",
            "Least Developed Countries (FAO)",
            "Albania",
            "Nigeria",
            "Melanesia",
            "Nicaragua",
            "Peru",
            "Low Income Food Deficit Countries (FAO)",
            "Papua New Guinea",
            "Middle Africa (FAO)",
            "Liberia",
            "Austria",
            "Low-income countries",
            "Madagascar",
            "Senegal",
            "Sao Tome and Principe",
            "Sierra Leone",
            "Costa Rica",
            "Tanzania",
            "Germany",
            "Venezuela",
            "Cote d'Ivoire",
            "Cambodia",
            "Gambia",
            "Gabon",
            "Brazil",
            "Small Island Developing States (FAO)",
            "Democratic Republic of Congo",
            "Europe",
            "Burundi",
            "Solomon Islands",
            "Dominican Republic",
            "Benin",
            "Equatorial Guinea",
            "Suriname",
            "East Timor",
            "European Union (27)",
            "Guatemala",
            "Ghana",
            "Ecuador",
            "China (FAO)",
            "High-income countries",
            "Thailand",
            "Colombia",
            "Guinea-Bissau",
            "Congo",
            "China",
            "Honduras",
            "Togo",
            "Guinea",
            "Caribbean (FAO)",
            "Cameroon"
           ],
           "name": "",
           "type": "choropleth",
           "z": [
            26400,
            511100,
            105895,
            2584081,
            42443234,
            2584081,
            0,
            77371759,
            73236,
            35553,
            155242782,
            438000,
            4315319,
            0,
            8131000,
            2584081,
            58063,
            299000,
            5160818,
            2300700,
            3900350,
            358415,
            0,
            2862569,
            36550,
            48040,
            9305,
            465562,
            907510,
            52475,
            0,
            318398,
            2699491,
            0,
            29866,
            67498,
            736100,
            2850700,
            1778960,
            0,
            19346,
            283381,
            203800,
            139127,
            46774,
            9560,
            0,
            0,
            280000,
            969094,
            1887415,
            2013398,
            26400,
            3559838,
            3663025,
            43954,
            161422,
            2013398,
            806700,
            78920,
            482422,
            203800,
            1347395
           ]
          }
         ],
         "name": "1990"
        },
        {
         "data": [
          {
           "coloraxis": "coloraxis",
           "geo": "geo",
           "hovertemplate": "<b>%{hovertext}</b><br><br>Decade=2000<br>Entity=%{location}<br>Production=%{z}<extra></extra>",
           "hovertext": [
            "Dominican Republic",
            "Democratic Republic of Congo",
            "Cameroon",
            "China",
            "Caribbean (FAO)",
            "Oceania",
            "Suriname",
            "Mexico",
            "Tanzania",
            "Middle Africa (FAO)",
            "Congo",
            "Papua New Guinea",
            "Cote d'Ivoire",
            "Colombia",
            "Costa Rica",
            "Nicaragua",
            "Panama",
            "Angola",
            "Togo",
            "World",
            "Nigeria",
            "Thailand",
            "China (FAO)",
            "Equatorial Guinea",
            "Sierra Leone",
            "High-income countries",
            "Venezuela",
            "Guinea-Bissau",
            "Least Developed Countries (FAO)",
            "Senegal",
            "Guinea",
            "Guatemala",
            "Liberia",
            "Melanesia",
            "Ghana",
            "Brazil",
            "Low Income Food Deficit Countries (FAO)",
            "Peru",
            "Philippines",
            "Benin",
            "Land Locked Developing Countries (FAO)",
            "Gambia",
            "Ecuador",
            "Indonesia",
            "Burundi",
            "Paraguay",
            "Malaysia",
            "Solomon Islands",
            "Oceania (FAO)",
            "Sao Tome and Principe",
            "Honduras",
            "Madagascar",
            "Small Island Developing States (FAO)",
            "Gabon",
            "Low-income countries"
           ],
           "locationmode": "country names",
           "locations": [
            "Dominican Republic",
            "Democratic Republic of Congo",
            "Cameroon",
            "China",
            "Caribbean (FAO)",
            "Oceania",
            "Suriname",
            "Mexico",
            "Tanzania",
            "Middle Africa (FAO)",
            "Congo",
            "Papua New Guinea",
            "Cote d'Ivoire",
            "Colombia",
            "Costa Rica",
            "Nicaragua",
            "Panama",
            "Angola",
            "Togo",
            "World",
            "Nigeria",
            "Thailand",
            "China (FAO)",
            "Equatorial Guinea",
            "Sierra Leone",
            "High-income countries",
            "Venezuela",
            "Guinea-Bissau",
            "Least Developed Countries (FAO)",
            "Senegal",
            "Guinea",
            "Guatemala",
            "Liberia",
            "Melanesia",
            "Ghana",
            "Brazil",
            "Low Income Food Deficit Countries (FAO)",
            "Peru",
            "Philippines",
            "Benin",
            "Land Locked Developing Countries (FAO)",
            "Gambia",
            "Ecuador",
            "Indonesia",
            "Burundi",
            "Paraguay",
            "Malaysia",
            "Solomon Islands",
            "Oceania (FAO)",
            "Sao Tome and Principe",
            "Honduras",
            "Madagascar",
            "Small Island Developing States (FAO)",
            "Gabon",
            "Low-income countries"
           ],
           "name": "",
           "type": "choropleth",
           "z": [
            296800,
            1753870,
            1844940,
            2239020,
            296800,
            3996500,
            2530,
            453300,
            68891,
            4476056,
            204559,
            3652000,
            2711394,
            6503220,
            1675947,
            87500,
            130652,
            511000,
            72000,
            329617130,
            11208050,
            9619204,
            2239020,
            51954,
            407060,
            130652,
            651766,
            54930,
            4740222.12,
            72591.15,
            500000,
            1105100,
            420000,
            3996500,
            1164400,
            1577000,
            6021721.1899999995,
            353100,
            660300,
            369500,
            103622,
            27394,
            2707696,
            130031813,
            57904,
            29569,
            143851916,
            344500,
            3996500,
            28001,
            1997600,
            36432,
            4378761,
            65583,
            2845739
           ]
          }
         ],
         "name": "2000"
        },
        {
         "data": [
          {
           "coloraxis": "coloraxis",
           "geo": "geo",
           "hovertemplate": "<b>%{hovertext}</b><br><br>Decade=2010<br>Entity=%{location}<br>Production=%{z}<extra></extra>",
           "hovertext": [
            "Thailand",
            "Venezuela",
            "Russia",
            "Philippines",
            "Sao Tome and Principe",
            "Ukraine",
            "Peru",
            "Senegal",
            "Tanzania",
            "Togo",
            "Small Island Developing States (FAO)",
            "Suriname",
            "Paraguay",
            "Papua New Guinea",
            "Solomon Islands",
            "Panama",
            "Sierra Leone",
            "Kazakhstan",
            "Oceania (FAO)",
            "Ecuador",
            "Equatorial Guinea",
            "Europe",
            "Europe (FAO)",
            "European Union (27)",
            "European Union (27) (FAO)",
            "Gabon",
            "Germany",
            "Ghana",
            "Greece",
            "Guatemala",
            "Guinea",
            "Guinea-Bissau",
            "High-income countries",
            "Honduras",
            "East Timor",
            "Iceland",
            "Dominican Republic",
            "Cote d'Ivoire",
            "Albania",
            "Angola",
            "Austria",
            "Belgium",
            "Benin",
            "Brazil",
            "Burundi",
            "Cambodia",
            "Cameroon",
            "Caribbean (FAO)",
            "China",
            "China (FAO)",
            "Colombia",
            "Congo",
            "Costa Rica",
            "Democratic Republic of Congo",
            "Indonesia",
            "Gambia",
            "Japan",
            "Mexico",
            "Malaysia",
            "Madagascar",
            "Middle Africa (FAO)",
            "Low-income countries",
            "Mozambique",
            "Low Income Food Deficit Countries (FAO)",
            "Liberia",
            "Least Developed Countries (FAO)",
            "Nicaragua",
            "World",
            "Oceania",
            "Norway",
            "Land Locked Developing Countries (FAO)",
            "Melanesia",
            "Nigeria"
           ],
           "locationmode": "country names",
           "locations": [
            "Thailand",
            "Venezuela",
            "Russia",
            "Philippines",
            "Sao Tome and Principe",
            "Ukraine",
            "Peru",
            "Senegal",
            "Tanzania",
            "Togo",
            "Small Island Developing States (FAO)",
            "Suriname",
            "Paraguay",
            "Papua New Guinea",
            "Solomon Islands",
            "Panama",
            "Sierra Leone",
            "Kazakhstan",
            "Oceania (FAO)",
            "Ecuador",
            "Equatorial Guinea",
            "Europe",
            "Europe (FAO)",
            "European Union (27)",
            "European Union (27) (FAO)",
            "Gabon",
            "Germany",
            "Ghana",
            "Greece",
            "Guatemala",
            "Guinea",
            "Guinea-Bissau",
            "High-income countries",
            "Honduras",
            "East Timor",
            "Iceland",
            "Dominican Republic",
            "Cote d'Ivoire",
            "Albania",
            "Angola",
            "Austria",
            "Belgium",
            "Benin",
            "Brazil",
            "Burundi",
            "Cambodia",
            "Cameroon",
            "Caribbean (FAO)",
            "China",
            "China (FAO)",
            "Colombia",
            "Congo",
            "Costa Rica",
            "Democratic Republic of Congo",
            "Indonesia",
            "Gambia",
            "Japan",
            "Mexico",
            "Malaysia",
            "Madagascar",
            "Middle Africa (FAO)",
            "Low-income countries",
            "Mozambique",
            "Low Income Food Deficit Countries (FAO)",
            "Liberia",
            "Least Developed Countries (FAO)",
            "Nicaragua",
            "World",
            "Oceania",
            "Norway",
            "Land Locked Developing Countries (FAO)",
            "Melanesia",
            "Nigeria"
           ],
           "name": "",
           "type": "choropleth",
           "z": [
            20977109,
            490424.64,
            0,
            1069600,
            36915.2,
            0,
            1414000,
            138408.45,
            67975.14,
            641000,
            6554802.08,
            2188.05,
            39553.65,
            5633000,
            338200,
            212450,
            639579.44,
            0,
            5971200,
            5164300,
            53927.55,
            0,
            0,
            0,
            0,
            31787.75,
            0,
            1887551.87,
            0,
            5322100,
            500000,
            59498.67,
            212450,
            5167746.82,
            0,
            0,
            485000,
            4351385,
            0,
            495000,
            0,
            0,
            613000,
            3426667.9,
            152117.28,
            424950.23,
            3052445,
            485000,
            1219259.07,
            1219259.07,
            11888944.3,
            265325.5,
            2415427,
            2639000,
            316584052,
            36986,
            0,
            1214300,
            190148338,
            40985.16,
            6579292.7,
            4634058.24,
            0,
            9811479.33,
            420000,
            7248507.24,
            503352,
            602045664,
            5971200,
            0,
            196562.6,
            5971200,
            11776932
           ]
          }
         ],
         "name": "2010"
        },
        {
         "data": [
          {
           "coloraxis": "coloraxis",
           "geo": "geo",
           "hovertemplate": "<b>%{hovertext}</b><br><br>Decade=2020<br>Entity=%{location}<br>Production=%{z}<extra></extra>",
           "hovertext": [
            "Nicaragua",
            "Congo",
            "Oceania",
            "Tanzania",
            "Colombia",
            "Papua New Guinea",
            "China (FAO)",
            "Mexico",
            "China",
            "Angola",
            "Brazil",
            "Thailand",
            "Caribbean (FAO)",
            "Benin",
            "Middle Africa (FAO)",
            "Cameroon",
            "Nigeria",
            "Brunei",
            "Cambodia",
            "Melanesia",
            "Togo",
            "Burundi",
            "Ukraine",
            "Venezuela",
            "Panama",
            "Malaysia",
            "Cote d'Ivoire",
            "Honduras",
            "Philippines",
            "High-income countries",
            "Sao Tome and Principe",
            "Guinea-Bissau",
            "Guinea",
            "Land Locked Developing Countries (FAO)",
            "Guatemala",
            "Senegal",
            "Least Developed Countries (FAO)",
            "Ghana",
            "Peru",
            "Gambia",
            "Sierra Leone",
            "Oceania (FAO)",
            "Gabon",
            "Liberia",
            "Suriname",
            "Indonesia",
            "Democratic Republic of Congo",
            "Dominican Republic",
            "Madagascar",
            "Paraguay",
            "Costa Rica",
            "Solomon Islands",
            "Equatorial Guinea",
            "Low-income countries",
            "Europe",
            "Small Island Developing States (FAO)",
            "Europe (FAO)",
            "Low Income Food Deficit Countries (FAO)",
            "Ecuador",
            "World"
           ],
           "locationmode": "country names",
           "locations": [
            "Nicaragua",
            "Congo",
            "Oceania",
            "Tanzania",
            "Colombia",
            "Papua New Guinea",
            "China (FAO)",
            "Mexico",
            "China",
            "Angola",
            "Brazil",
            "Thailand",
            "Caribbean (FAO)",
            "Benin",
            "Middle Africa (FAO)",
            "Cameroon",
            "Nigeria",
            "Brunei",
            "Cambodia",
            "Melanesia",
            "Togo",
            "Burundi",
            "Ukraine",
            "Venezuela",
            "Panama",
            "Malaysia",
            "Cote d'Ivoire",
            "Honduras",
            "Philippines",
            "High-income countries",
            "Sao Tome and Principe",
            "Guinea-Bissau",
            "Guinea",
            "Land Locked Developing Countries (FAO)",
            "Guatemala",
            "Senegal",
            "Least Developed Countries (FAO)",
            "Ghana",
            "Peru",
            "Gambia",
            "Sierra Leone",
            "Oceania (FAO)",
            "Gabon",
            "Liberia",
            "Suriname",
            "Indonesia",
            "Democratic Republic of Congo",
            "Dominican Republic",
            "Madagascar",
            "Paraguay",
            "Costa Rica",
            "Solomon Islands",
            "Equatorial Guinea",
            "Low-income countries",
            "Europe",
            "Small Island Developing States (FAO)",
            "Europe (FAO)",
            "Low Income Food Deficit Countries (FAO)",
            "Ecuador",
            "World"
           ],
           "name": "",
           "type": "choropleth",
           "z": [
            274597.5,
            55309.229999999996,
            1512000,
            10951.04,
            3305767.9,
            1445000,
            224808.18,
            604200,
            224808.18,
            116000,
            1155921.6,
            5630000,
            91000,
            172000,
            1489831.6,
            693463,
            2630000,
            0,
            180000,
            1512000,
            44000,
            35536.19,
            0,
            229900,
            121085,
            37256966,
            1115781,
            1350000,
            254000,
            121085,
            7586.049999999999,
            11878.09,
            100000,
            44430.16,
            1650000,
            28000,
            1633057.94,
            536800.5900000001,
            500000,
            8301.689999999999,
            152600,
            1512000,
            5632.5,
            90000,
            250.96,
            94469492,
            600000,
            91000,
            8164.1,
            7853.1900000000005,
            526003,
            67000,
            10800,
            951520.8400000001,
            0,
            1622715.15,
            0,
            2293427.7,
            894100,
            156671790
           ]
          }
         ],
         "name": "2020"
        }
       ],
       "layout": {
        "coloraxis": {
         "cmax": 350000000,
         "cmin": 0,
         "colorbar": {
          "title": {
           "text": "Production"
          }
         },
         "colorscale": [
          [
           0,
           "rgb(165,0,38)"
          ],
          [
           0.14285714285714285,
           "rgb(215,48,39)"
          ],
          [
           0.2857142857142857,
           "rgb(244,109,67)"
          ],
          [
           0.42857142857142855,
           "rgb(253,174,97)"
          ],
          [
           0.5714285714285714,
           "rgb(254,224,144)"
          ],
          [
           0.7142857142857143,
           "rgb(224,243,248)"
          ],
          [
           0.8571428571428571,
           "rgb(171,217,233)"
          ],
          [
           1,
           "rgb(49,54,149)"
          ]
         ]
        },
        "geo": {
         "center": {
          "lat": 2.5,
          "lon": 115
         },
         "domain": {
          "x": [
           0,
           1
          ],
          "y": [
           0,
           1
          ]
         },
         "projection": {
          "scale": 4
         },
         "visible": false
        },
        "height": 800,
        "legend": {
         "tracegroupgap": 0
        },
        "sliders": [
         {
          "active": 0,
          "currentvalue": {
           "prefix": "Decade="
          },
          "len": 0.9,
          "pad": {
           "b": 10,
           "t": 60
          },
          "steps": [
           {
            "args": [
             [
              "1960"
             ],
             {
              "frame": {
               "duration": 0,
               "redraw": true
              },
              "fromcurrent": true,
              "mode": "immediate",
              "transition": {
               "duration": 0,
               "easing": "linear"
              }
             }
            ],
            "label": "1960",
            "method": "animate"
           },
           {
            "args": [
             [
              "1970"
             ],
             {
              "frame": {
               "duration": 0,
               "redraw": true
              },
              "fromcurrent": true,
              "mode": "immediate",
              "transition": {
               "duration": 0,
               "easing": "linear"
              }
             }
            ],
            "label": "1970",
            "method": "animate"
           },
           {
            "args": [
             [
              "1980"
             ],
             {
              "frame": {
               "duration": 0,
               "redraw": true
              },
              "fromcurrent": true,
              "mode": "immediate",
              "transition": {
               "duration": 0,
               "easing": "linear"
              }
             }
            ],
            "label": "1980",
            "method": "animate"
           },
           {
            "args": [
             [
              "1990"
             ],
             {
              "frame": {
               "duration": 0,
               "redraw": true
              },
              "fromcurrent": true,
              "mode": "immediate",
              "transition": {
               "duration": 0,
               "easing": "linear"
              }
             }
            ],
            "label": "1990",
            "method": "animate"
           },
           {
            "args": [
             [
              "2000"
             ],
             {
              "frame": {
               "duration": 0,
               "redraw": true
              },
              "fromcurrent": true,
              "mode": "immediate",
              "transition": {
               "duration": 0,
               "easing": "linear"
              }
             }
            ],
            "label": "2000",
            "method": "animate"
           },
           {
            "args": [
             [
              "2010"
             ],
             {
              "frame": {
               "duration": 0,
               "redraw": true
              },
              "fromcurrent": true,
              "mode": "immediate",
              "transition": {
               "duration": 0,
               "easing": "linear"
              }
             }
            ],
            "label": "2010",
            "method": "animate"
           },
           {
            "args": [
             [
              "2020"
             ],
             {
              "frame": {
               "duration": 0,
               "redraw": true
              },
              "fromcurrent": true,
              "mode": "immediate",
              "transition": {
               "duration": 0,
               "easing": "linear"
              }
             }
            ],
            "label": "2020",
            "method": "animate"
           }
          ],
          "x": 0.1,
          "xanchor": "left",
          "y": 0,
          "yanchor": "top"
         }
        ],
        "template": {
         "data": {
          "bar": [
           {
            "error_x": {
             "color": "#2a3f5f"
            },
            "error_y": {
             "color": "#2a3f5f"
            },
            "marker": {
             "line": {
              "color": "#E5ECF6",
              "width": 0.5
             },
             "pattern": {
              "fillmode": "overlay",
              "size": 10,
              "solidity": 0.2
             }
            },
            "type": "bar"
           }
          ],
          "barpolar": [
           {
            "marker": {
             "line": {
              "color": "#E5ECF6",
              "width": 0.5
             },
             "pattern": {
              "fillmode": "overlay",
              "size": 10,
              "solidity": 0.2
             }
            },
            "type": "barpolar"
           }
          ],
          "carpet": [
           {
            "aaxis": {
             "endlinecolor": "#2a3f5f",
             "gridcolor": "white",
             "linecolor": "white",
             "minorgridcolor": "white",
             "startlinecolor": "#2a3f5f"
            },
            "baxis": {
             "endlinecolor": "#2a3f5f",
             "gridcolor": "white",
             "linecolor": "white",
             "minorgridcolor": "white",
             "startlinecolor": "#2a3f5f"
            },
            "type": "carpet"
           }
          ],
          "choropleth": [
           {
            "colorbar": {
             "outlinewidth": 0,
             "ticks": ""
            },
            "type": "choropleth"
           }
          ],
          "contour": [
           {
            "colorbar": {
             "outlinewidth": 0,
             "ticks": ""
            },
            "colorscale": [
             [
              0,
              "#0d0887"
             ],
             [
              0.1111111111111111,
              "#46039f"
             ],
             [
              0.2222222222222222,
              "#7201a8"
             ],
             [
              0.3333333333333333,
              "#9c179e"
             ],
             [
              0.4444444444444444,
              "#bd3786"
             ],
             [
              0.5555555555555556,
              "#d8576b"
             ],
             [
              0.6666666666666666,
              "#ed7953"
             ],
             [
              0.7777777777777778,
              "#fb9f3a"
             ],
             [
              0.8888888888888888,
              "#fdca26"
             ],
             [
              1,
              "#f0f921"
             ]
            ],
            "type": "contour"
           }
          ],
          "contourcarpet": [
           {
            "colorbar": {
             "outlinewidth": 0,
             "ticks": ""
            },
            "type": "contourcarpet"
           }
          ],
          "heatmap": [
           {
            "colorbar": {
             "outlinewidth": 0,
             "ticks": ""
            },
            "colorscale": [
             [
              0,
              "#0d0887"
             ],
             [
              0.1111111111111111,
              "#46039f"
             ],
             [
              0.2222222222222222,
              "#7201a8"
             ],
             [
              0.3333333333333333,
              "#9c179e"
             ],
             [
              0.4444444444444444,
              "#bd3786"
             ],
             [
              0.5555555555555556,
              "#d8576b"
             ],
             [
              0.6666666666666666,
              "#ed7953"
             ],
             [
              0.7777777777777778,
              "#fb9f3a"
             ],
             [
              0.8888888888888888,
              "#fdca26"
             ],
             [
              1,
              "#f0f921"
             ]
            ],
            "type": "heatmap"
           }
          ],
          "heatmapgl": [
           {
            "colorbar": {
             "outlinewidth": 0,
             "ticks": ""
            },
            "colorscale": [
             [
              0,
              "#0d0887"
             ],
             [
              0.1111111111111111,
              "#46039f"
             ],
             [
              0.2222222222222222,
              "#7201a8"
             ],
             [
              0.3333333333333333,
              "#9c179e"
             ],
             [
              0.4444444444444444,
              "#bd3786"
             ],
             [
              0.5555555555555556,
              "#d8576b"
             ],
             [
              0.6666666666666666,
              "#ed7953"
             ],
             [
              0.7777777777777778,
              "#fb9f3a"
             ],
             [
              0.8888888888888888,
              "#fdca26"
             ],
             [
              1,
              "#f0f921"
             ]
            ],
            "type": "heatmapgl"
           }
          ],
          "histogram": [
           {
            "marker": {
             "pattern": {
              "fillmode": "overlay",
              "size": 10,
              "solidity": 0.2
             }
            },
            "type": "histogram"
           }
          ],
          "histogram2d": [
           {
            "colorbar": {
             "outlinewidth": 0,
             "ticks": ""
            },
            "colorscale": [
             [
              0,
              "#0d0887"
             ],
             [
              0.1111111111111111,
              "#46039f"
             ],
             [
              0.2222222222222222,
              "#7201a8"
             ],
             [
              0.3333333333333333,
              "#9c179e"
             ],
             [
              0.4444444444444444,
              "#bd3786"
             ],
             [
              0.5555555555555556,
              "#d8576b"
             ],
             [
              0.6666666666666666,
              "#ed7953"
             ],
             [
              0.7777777777777778,
              "#fb9f3a"
             ],
             [
              0.8888888888888888,
              "#fdca26"
             ],
             [
              1,
              "#f0f921"
             ]
            ],
            "type": "histogram2d"
           }
          ],
          "histogram2dcontour": [
           {
            "colorbar": {
             "outlinewidth": 0,
             "ticks": ""
            },
            "colorscale": [
             [
              0,
              "#0d0887"
             ],
             [
              0.1111111111111111,
              "#46039f"
             ],
             [
              0.2222222222222222,
              "#7201a8"
             ],
             [
              0.3333333333333333,
              "#9c179e"
             ],
             [
              0.4444444444444444,
              "#bd3786"
             ],
             [
              0.5555555555555556,
              "#d8576b"
             ],
             [
              0.6666666666666666,
              "#ed7953"
             ],
             [
              0.7777777777777778,
              "#fb9f3a"
             ],
             [
              0.8888888888888888,
              "#fdca26"
             ],
             [
              1,
              "#f0f921"
             ]
            ],
            "type": "histogram2dcontour"
           }
          ],
          "mesh3d": [
           {
            "colorbar": {
             "outlinewidth": 0,
             "ticks": ""
            },
            "type": "mesh3d"
           }
          ],
          "parcoords": [
           {
            "line": {
             "colorbar": {
              "outlinewidth": 0,
              "ticks": ""
             }
            },
            "type": "parcoords"
           }
          ],
          "pie": [
           {
            "automargin": true,
            "type": "pie"
           }
          ],
          "scatter": [
           {
            "fillpattern": {
             "fillmode": "overlay",
             "size": 10,
             "solidity": 0.2
            },
            "type": "scatter"
           }
          ],
          "scatter3d": [
           {
            "line": {
             "colorbar": {
              "outlinewidth": 0,
              "ticks": ""
             }
            },
            "marker": {
             "colorbar": {
              "outlinewidth": 0,
              "ticks": ""
             }
            },
            "type": "scatter3d"
           }
          ],
          "scattercarpet": [
           {
            "marker": {
             "colorbar": {
              "outlinewidth": 0,
              "ticks": ""
             }
            },
            "type": "scattercarpet"
           }
          ],
          "scattergeo": [
           {
            "marker": {
             "colorbar": {
              "outlinewidth": 0,
              "ticks": ""
             }
            },
            "type": "scattergeo"
           }
          ],
          "scattergl": [
           {
            "marker": {
             "colorbar": {
              "outlinewidth": 0,
              "ticks": ""
             }
            },
            "type": "scattergl"
           }
          ],
          "scattermapbox": [
           {
            "marker": {
             "colorbar": {
              "outlinewidth": 0,
              "ticks": ""
             }
            },
            "type": "scattermapbox"
           }
          ],
          "scatterpolar": [
           {
            "marker": {
             "colorbar": {
              "outlinewidth": 0,
              "ticks": ""
             }
            },
            "type": "scatterpolar"
           }
          ],
          "scatterpolargl": [
           {
            "marker": {
             "colorbar": {
              "outlinewidth": 0,
              "ticks": ""
             }
            },
            "type": "scatterpolargl"
           }
          ],
          "scatterternary": [
           {
            "marker": {
             "colorbar": {
              "outlinewidth": 0,
              "ticks": ""
             }
            },
            "type": "scatterternary"
           }
          ],
          "surface": [
           {
            "colorbar": {
             "outlinewidth": 0,
             "ticks": ""
            },
            "colorscale": [
             [
              0,
              "#0d0887"
             ],
             [
              0.1111111111111111,
              "#46039f"
             ],
             [
              0.2222222222222222,
              "#7201a8"
             ],
             [
              0.3333333333333333,
              "#9c179e"
             ],
             [
              0.4444444444444444,
              "#bd3786"
             ],
             [
              0.5555555555555556,
              "#d8576b"
             ],
             [
              0.6666666666666666,
              "#ed7953"
             ],
             [
              0.7777777777777778,
              "#fb9f3a"
             ],
             [
              0.8888888888888888,
              "#fdca26"
             ],
             [
              1,
              "#f0f921"
             ]
            ],
            "type": "surface"
           }
          ],
          "table": [
           {
            "cells": {
             "fill": {
              "color": "#EBF0F8"
             },
             "line": {
              "color": "white"
             }
            },
            "header": {
             "fill": {
              "color": "#C8D4E3"
             },
             "line": {
              "color": "white"
             }
            },
            "type": "table"
           }
          ]
         },
         "layout": {
          "annotationdefaults": {
           "arrowcolor": "#2a3f5f",
           "arrowhead": 0,
           "arrowwidth": 1
          },
          "autotypenumbers": "strict",
          "coloraxis": {
           "colorbar": {
            "outlinewidth": 0,
            "ticks": ""
           }
          },
          "colorscale": {
           "diverging": [
            [
             0,
             "#8e0152"
            ],
            [
             0.1,
             "#c51b7d"
            ],
            [
             0.2,
             "#de77ae"
            ],
            [
             0.3,
             "#f1b6da"
            ],
            [
             0.4,
             "#fde0ef"
            ],
            [
             0.5,
             "#f7f7f7"
            ],
            [
             0.6,
             "#e6f5d0"
            ],
            [
             0.7,
             "#b8e186"
            ],
            [
             0.8,
             "#7fbc41"
            ],
            [
             0.9,
             "#4d9221"
            ],
            [
             1,
             "#276419"
            ]
           ],
           "sequential": [
            [
             0,
             "#0d0887"
            ],
            [
             0.1111111111111111,
             "#46039f"
            ],
            [
             0.2222222222222222,
             "#7201a8"
            ],
            [
             0.3333333333333333,
             "#9c179e"
            ],
            [
             0.4444444444444444,
             "#bd3786"
            ],
            [
             0.5555555555555556,
             "#d8576b"
            ],
            [
             0.6666666666666666,
             "#ed7953"
            ],
            [
             0.7777777777777778,
             "#fb9f3a"
            ],
            [
             0.8888888888888888,
             "#fdca26"
            ],
            [
             1,
             "#f0f921"
            ]
           ],
           "sequentialminus": [
            [
             0,
             "#0d0887"
            ],
            [
             0.1111111111111111,
             "#46039f"
            ],
            [
             0.2222222222222222,
             "#7201a8"
            ],
            [
             0.3333333333333333,
             "#9c179e"
            ],
            [
             0.4444444444444444,
             "#bd3786"
            ],
            [
             0.5555555555555556,
             "#d8576b"
            ],
            [
             0.6666666666666666,
             "#ed7953"
            ],
            [
             0.7777777777777778,
             "#fb9f3a"
            ],
            [
             0.8888888888888888,
             "#fdca26"
            ],
            [
             1,
             "#f0f921"
            ]
           ]
          },
          "colorway": [
           "#636efa",
           "#EF553B",
           "#00cc96",
           "#ab63fa",
           "#FFA15A",
           "#19d3f3",
           "#FF6692",
           "#B6E880",
           "#FF97FF",
           "#FECB52"
          ],
          "font": {
           "color": "#2a3f5f"
          },
          "geo": {
           "bgcolor": "white",
           "lakecolor": "white",
           "landcolor": "#E5ECF6",
           "showlakes": true,
           "showland": true,
           "subunitcolor": "white"
          },
          "hoverlabel": {
           "align": "left"
          },
          "hovermode": "closest",
          "mapbox": {
           "style": "light"
          },
          "paper_bgcolor": "white",
          "plot_bgcolor": "#E5ECF6",
          "polar": {
           "angularaxis": {
            "gridcolor": "white",
            "linecolor": "white",
            "ticks": ""
           },
           "bgcolor": "#E5ECF6",
           "radialaxis": {
            "gridcolor": "white",
            "linecolor": "white",
            "ticks": ""
           }
          },
          "scene": {
           "xaxis": {
            "backgroundcolor": "#E5ECF6",
            "gridcolor": "white",
            "gridwidth": 2,
            "linecolor": "white",
            "showbackground": true,
            "ticks": "",
            "zerolinecolor": "white"
           },
           "yaxis": {
            "backgroundcolor": "#E5ECF6",
            "gridcolor": "white",
            "gridwidth": 2,
            "linecolor": "white",
            "showbackground": true,
            "ticks": "",
            "zerolinecolor": "white"
           },
           "zaxis": {
            "backgroundcolor": "#E5ECF6",
            "gridcolor": "white",
            "gridwidth": 2,
            "linecolor": "white",
            "showbackground": true,
            "ticks": "",
            "zerolinecolor": "white"
           }
          },
          "shapedefaults": {
           "line": {
            "color": "#2a3f5f"
           }
          },
          "ternary": {
           "aaxis": {
            "gridcolor": "white",
            "linecolor": "white",
            "ticks": ""
           },
           "baxis": {
            "gridcolor": "white",
            "linecolor": "white",
            "ticks": ""
           },
           "bgcolor": "#E5ECF6",
           "caxis": {
            "gridcolor": "white",
            "linecolor": "white",
            "ticks": ""
           }
          },
          "title": {
           "x": 0.05
          },
          "xaxis": {
           "automargin": true,
           "gridcolor": "white",
           "linecolor": "white",
           "ticks": "",
           "title": {
            "standoff": 15
           },
           "zerolinecolor": "white",
           "zerolinewidth": 2
          },
          "yaxis": {
           "automargin": true,
           "gridcolor": "white",
           "linecolor": "white",
           "ticks": "",
           "title": {
            "standoff": 15
           },
           "zerolinecolor": "white",
           "zerolinewidth": 2
          }
         }
        },
        "title": {
         "text": "Palm Oil Production by Country per Decade"
        },
        "updatemenus": [
         {
          "buttons": [
           {
            "args": [
             null,
             {
              "frame": {
               "duration": 500,
               "redraw": true
              },
              "fromcurrent": true,
              "mode": "immediate",
              "transition": {
               "duration": 500,
               "easing": "linear"
              }
             }
            ],
            "label": "&#9654;",
            "method": "animate"
           },
           {
            "args": [
             [
              null
             ],
             {
              "frame": {
               "duration": 0,
               "redraw": true
              },
              "fromcurrent": true,
              "mode": "immediate",
              "transition": {
               "duration": 0,
               "easing": "linear"
              }
             }
            ],
            "label": "&#9724;",
            "method": "animate"
           }
          ],
          "direction": "left",
          "pad": {
           "r": 10,
           "t": 70
          },
          "showactive": false,
          "type": "buttons",
          "x": 0.1,
          "xanchor": "right",
          "y": 0,
          "yanchor": "top"
         }
        ],
        "width": 1200
       }
      }
     },
     "metadata": {},
     "output_type": "display_data"
    }
   ],
   "source": [
    "import pandas as pd\n",
    "import plotly.express as px\n",
    "\n",
    "# Load the data from the provided CSV file\n",
    "file_path = '../Datasets/palm-oil-production.csv'\n",
    "data = pd.read_csv(file_path)\n",
    "\n",
    "# Create a new column for the decade\n",
    "data['Decade'] = (data['Year'] // 10) * 10\n",
    "\n",
    "# Aggregate data to get the total production for each country per decade\n",
    "total_production_by_decade = data.groupby(['Entity', 'Decade'])['Production'].sum().reset_index()\n",
    "\n",
    "# Sort the data by Decade to ensure correct order in the animation\n",
    "total_production_by_decade = total_production_by_decade.sort_values(by='Decade')\n",
    "\n",
    "# Custom color scale with values from 0 to 350 million\n",
    "color_scale = [\n",
    "    (0.0, \"rgb(165,0,38)\"),\n",
    "    (1.0/7.0, \"rgb(215,48,39)\"),\n",
    "    (2.0/7.0, \"rgb(244,109,67)\"),\n",
    "    (3.0/7.0, \"rgb(253,174,97)\"),\n",
    "    (4.0/7.0, \"rgb(254,224,144)\"),\n",
    "    (5.0/7.0, \"rgb(224,243,248)\"),\n",
    "    (6.0/7.0, \"rgb(171,217,233)\"),\n",
    "    (1.0, \"rgb(49,54,149)\")\n",
    "]\n",
    "\n",
    "# Create a choropleth map using Plotly with animation\n",
    "fig = px.choropleth(\n",
    "    total_production_by_decade,\n",
    "    locations=\"Entity\",\n",
    "    locationmode=\"country names\",\n",
    "    color=\"Production\",\n",
    "    hover_name=\"Entity\",\n",
    "    animation_frame=\"Decade\",\n",
    "    color_continuous_scale=color_scale,\n",
    "    range_color=(0, 350e6),\n",
    "    title=\"Palm Oil Production by Country per Decade\"\n",
    ")\n",
    "\n",
    "# Update the layout to focus on Southeast Asia\n",
    "fig.update_geos(\n",
    "    projection_scale=4,  # This controls the zoom level\n",
    "    center={\"lat\": 2.5, \"lon\": 115},  # Center the map roughly around Indonesia/Malaysia\n",
    "    visible=False  # Hide the frame\n",
    ")\n",
    "\n",
    "fig.update_layout(\n",
    "    width=1200,\n",
    "    height=800\n",
    ")\n",
    "\n",
    "# Show the map\n",
    "fig.show()"
   ]
  },
  {
   "cell_type": "code",
   "execution_count": 257,
   "metadata": {},
   "outputs": [
    {
     "data": {
      "application/vnd.plotly.v1+json": {
       "config": {
        "plotlyServerURL": "https://plot.ly"
       },
       "data": [
        {
         "mode": "lines",
         "name": "Indonesia",
         "type": "scatter",
         "x": [
          2000,
          2001,
          2002,
          2003,
          2004,
          2005,
          2006,
          2007,
          2008,
          2009,
          2010,
          2011,
          2012,
          2013,
          2014,
          2015,
          2016,
          2017,
          2018,
          2019,
          2020,
          2021,
          2022,
          2023
         ],
         "y": [
          8300,
          9200,
          10300,
          11970,
          13560,
          15560,
          16600,
          18000,
          20500,
          22000,
          23600,
          26200,
          28500,
          30500,
          33000,
          32000,
          36000,
          39500,
          41500,
          42500,
          43500,
          42000,
          46500,
          47000
         ]
        },
        {
         "mode": "lines",
         "name": "Malaysia",
         "type": "scatter",
         "x": [
          2000,
          2001,
          2002,
          2003,
          2004,
          2005,
          2006,
          2007,
          2008,
          2009,
          2010,
          2011,
          2012,
          2013,
          2014,
          2015,
          2016,
          2017,
          2018,
          2019,
          2020,
          2021,
          2022,
          2023
         ],
         "y": [
          11937,
          11858,
          13180,
          13420,
          15194,
          15485,
          15290,
          17567,
          17259,
          17763,
          18211,
          18202,
          19321,
          20161,
          19879,
          17700,
          18858,
          19683,
          20800,
          19255,
          17854,
          18152,
          18387,
          19000
         ]
        },
        {
         "mode": "lines",
         "name": "Total Production",
         "type": "scatter",
         "x": [
          2000,
          2001,
          2002,
          2003,
          2004,
          2005,
          2006,
          2007,
          2008,
          2009,
          2010,
          2011,
          2012,
          2013,
          2014,
          2015,
          2016,
          2017,
          2018,
          2019,
          2020,
          2021,
          2022,
          2023
         ],
         "y": [
          20237,
          21058,
          23480,
          25390,
          28754,
          31045,
          31890,
          35567,
          37759,
          39763,
          41811,
          44402,
          47821,
          50661,
          52879,
          49700,
          54858,
          59183,
          62300,
          61755,
          61354,
          60152,
          64887,
          66000
         ]
        }
       ],
       "layout": {
        "legend": {
         "orientation": "h",
         "x": 0.1,
         "y": 1.1
        },
        "template": {
         "data": {
          "bar": [
           {
            "error_x": {
             "color": "#2a3f5f"
            },
            "error_y": {
             "color": "#2a3f5f"
            },
            "marker": {
             "line": {
              "color": "#E5ECF6",
              "width": 0.5
             },
             "pattern": {
              "fillmode": "overlay",
              "size": 10,
              "solidity": 0.2
             }
            },
            "type": "bar"
           }
          ],
          "barpolar": [
           {
            "marker": {
             "line": {
              "color": "#E5ECF6",
              "width": 0.5
             },
             "pattern": {
              "fillmode": "overlay",
              "size": 10,
              "solidity": 0.2
             }
            },
            "type": "barpolar"
           }
          ],
          "carpet": [
           {
            "aaxis": {
             "endlinecolor": "#2a3f5f",
             "gridcolor": "white",
             "linecolor": "white",
             "minorgridcolor": "white",
             "startlinecolor": "#2a3f5f"
            },
            "baxis": {
             "endlinecolor": "#2a3f5f",
             "gridcolor": "white",
             "linecolor": "white",
             "minorgridcolor": "white",
             "startlinecolor": "#2a3f5f"
            },
            "type": "carpet"
           }
          ],
          "choropleth": [
           {
            "colorbar": {
             "outlinewidth": 0,
             "ticks": ""
            },
            "type": "choropleth"
           }
          ],
          "contour": [
           {
            "colorbar": {
             "outlinewidth": 0,
             "ticks": ""
            },
            "colorscale": [
             [
              0,
              "#0d0887"
             ],
             [
              0.1111111111111111,
              "#46039f"
             ],
             [
              0.2222222222222222,
              "#7201a8"
             ],
             [
              0.3333333333333333,
              "#9c179e"
             ],
             [
              0.4444444444444444,
              "#bd3786"
             ],
             [
              0.5555555555555556,
              "#d8576b"
             ],
             [
              0.6666666666666666,
              "#ed7953"
             ],
             [
              0.7777777777777778,
              "#fb9f3a"
             ],
             [
              0.8888888888888888,
              "#fdca26"
             ],
             [
              1,
              "#f0f921"
             ]
            ],
            "type": "contour"
           }
          ],
          "contourcarpet": [
           {
            "colorbar": {
             "outlinewidth": 0,
             "ticks": ""
            },
            "type": "contourcarpet"
           }
          ],
          "heatmap": [
           {
            "colorbar": {
             "outlinewidth": 0,
             "ticks": ""
            },
            "colorscale": [
             [
              0,
              "#0d0887"
             ],
             [
              0.1111111111111111,
              "#46039f"
             ],
             [
              0.2222222222222222,
              "#7201a8"
             ],
             [
              0.3333333333333333,
              "#9c179e"
             ],
             [
              0.4444444444444444,
              "#bd3786"
             ],
             [
              0.5555555555555556,
              "#d8576b"
             ],
             [
              0.6666666666666666,
              "#ed7953"
             ],
             [
              0.7777777777777778,
              "#fb9f3a"
             ],
             [
              0.8888888888888888,
              "#fdca26"
             ],
             [
              1,
              "#f0f921"
             ]
            ],
            "type": "heatmap"
           }
          ],
          "heatmapgl": [
           {
            "colorbar": {
             "outlinewidth": 0,
             "ticks": ""
            },
            "colorscale": [
             [
              0,
              "#0d0887"
             ],
             [
              0.1111111111111111,
              "#46039f"
             ],
             [
              0.2222222222222222,
              "#7201a8"
             ],
             [
              0.3333333333333333,
              "#9c179e"
             ],
             [
              0.4444444444444444,
              "#bd3786"
             ],
             [
              0.5555555555555556,
              "#d8576b"
             ],
             [
              0.6666666666666666,
              "#ed7953"
             ],
             [
              0.7777777777777778,
              "#fb9f3a"
             ],
             [
              0.8888888888888888,
              "#fdca26"
             ],
             [
              1,
              "#f0f921"
             ]
            ],
            "type": "heatmapgl"
           }
          ],
          "histogram": [
           {
            "marker": {
             "pattern": {
              "fillmode": "overlay",
              "size": 10,
              "solidity": 0.2
             }
            },
            "type": "histogram"
           }
          ],
          "histogram2d": [
           {
            "colorbar": {
             "outlinewidth": 0,
             "ticks": ""
            },
            "colorscale": [
             [
              0,
              "#0d0887"
             ],
             [
              0.1111111111111111,
              "#46039f"
             ],
             [
              0.2222222222222222,
              "#7201a8"
             ],
             [
              0.3333333333333333,
              "#9c179e"
             ],
             [
              0.4444444444444444,
              "#bd3786"
             ],
             [
              0.5555555555555556,
              "#d8576b"
             ],
             [
              0.6666666666666666,
              "#ed7953"
             ],
             [
              0.7777777777777778,
              "#fb9f3a"
             ],
             [
              0.8888888888888888,
              "#fdca26"
             ],
             [
              1,
              "#f0f921"
             ]
            ],
            "type": "histogram2d"
           }
          ],
          "histogram2dcontour": [
           {
            "colorbar": {
             "outlinewidth": 0,
             "ticks": ""
            },
            "colorscale": [
             [
              0,
              "#0d0887"
             ],
             [
              0.1111111111111111,
              "#46039f"
             ],
             [
              0.2222222222222222,
              "#7201a8"
             ],
             [
              0.3333333333333333,
              "#9c179e"
             ],
             [
              0.4444444444444444,
              "#bd3786"
             ],
             [
              0.5555555555555556,
              "#d8576b"
             ],
             [
              0.6666666666666666,
              "#ed7953"
             ],
             [
              0.7777777777777778,
              "#fb9f3a"
             ],
             [
              0.8888888888888888,
              "#fdca26"
             ],
             [
              1,
              "#f0f921"
             ]
            ],
            "type": "histogram2dcontour"
           }
          ],
          "mesh3d": [
           {
            "colorbar": {
             "outlinewidth": 0,
             "ticks": ""
            },
            "type": "mesh3d"
           }
          ],
          "parcoords": [
           {
            "line": {
             "colorbar": {
              "outlinewidth": 0,
              "ticks": ""
             }
            },
            "type": "parcoords"
           }
          ],
          "pie": [
           {
            "automargin": true,
            "type": "pie"
           }
          ],
          "scatter": [
           {
            "fillpattern": {
             "fillmode": "overlay",
             "size": 10,
             "solidity": 0.2
            },
            "type": "scatter"
           }
          ],
          "scatter3d": [
           {
            "line": {
             "colorbar": {
              "outlinewidth": 0,
              "ticks": ""
             }
            },
            "marker": {
             "colorbar": {
              "outlinewidth": 0,
              "ticks": ""
             }
            },
            "type": "scatter3d"
           }
          ],
          "scattercarpet": [
           {
            "marker": {
             "colorbar": {
              "outlinewidth": 0,
              "ticks": ""
             }
            },
            "type": "scattercarpet"
           }
          ],
          "scattergeo": [
           {
            "marker": {
             "colorbar": {
              "outlinewidth": 0,
              "ticks": ""
             }
            },
            "type": "scattergeo"
           }
          ],
          "scattergl": [
           {
            "marker": {
             "colorbar": {
              "outlinewidth": 0,
              "ticks": ""
             }
            },
            "type": "scattergl"
           }
          ],
          "scattermapbox": [
           {
            "marker": {
             "colorbar": {
              "outlinewidth": 0,
              "ticks": ""
             }
            },
            "type": "scattermapbox"
           }
          ],
          "scatterpolar": [
           {
            "marker": {
             "colorbar": {
              "outlinewidth": 0,
              "ticks": ""
             }
            },
            "type": "scatterpolar"
           }
          ],
          "scatterpolargl": [
           {
            "marker": {
             "colorbar": {
              "outlinewidth": 0,
              "ticks": ""
             }
            },
            "type": "scatterpolargl"
           }
          ],
          "scatterternary": [
           {
            "marker": {
             "colorbar": {
              "outlinewidth": 0,
              "ticks": ""
             }
            },
            "type": "scatterternary"
           }
          ],
          "surface": [
           {
            "colorbar": {
             "outlinewidth": 0,
             "ticks": ""
            },
            "colorscale": [
             [
              0,
              "#0d0887"
             ],
             [
              0.1111111111111111,
              "#46039f"
             ],
             [
              0.2222222222222222,
              "#7201a8"
             ],
             [
              0.3333333333333333,
              "#9c179e"
             ],
             [
              0.4444444444444444,
              "#bd3786"
             ],
             [
              0.5555555555555556,
              "#d8576b"
             ],
             [
              0.6666666666666666,
              "#ed7953"
             ],
             [
              0.7777777777777778,
              "#fb9f3a"
             ],
             [
              0.8888888888888888,
              "#fdca26"
             ],
             [
              1,
              "#f0f921"
             ]
            ],
            "type": "surface"
           }
          ],
          "table": [
           {
            "cells": {
             "fill": {
              "color": "#EBF0F8"
             },
             "line": {
              "color": "white"
             }
            },
            "header": {
             "fill": {
              "color": "#C8D4E3"
             },
             "line": {
              "color": "white"
             }
            },
            "type": "table"
           }
          ]
         },
         "layout": {
          "annotationdefaults": {
           "arrowcolor": "#2a3f5f",
           "arrowhead": 0,
           "arrowwidth": 1
          },
          "autotypenumbers": "strict",
          "coloraxis": {
           "colorbar": {
            "outlinewidth": 0,
            "ticks": ""
           }
          },
          "colorscale": {
           "diverging": [
            [
             0,
             "#8e0152"
            ],
            [
             0.1,
             "#c51b7d"
            ],
            [
             0.2,
             "#de77ae"
            ],
            [
             0.3,
             "#f1b6da"
            ],
            [
             0.4,
             "#fde0ef"
            ],
            [
             0.5,
             "#f7f7f7"
            ],
            [
             0.6,
             "#e6f5d0"
            ],
            [
             0.7,
             "#b8e186"
            ],
            [
             0.8,
             "#7fbc41"
            ],
            [
             0.9,
             "#4d9221"
            ],
            [
             1,
             "#276419"
            ]
           ],
           "sequential": [
            [
             0,
             "#0d0887"
            ],
            [
             0.1111111111111111,
             "#46039f"
            ],
            [
             0.2222222222222222,
             "#7201a8"
            ],
            [
             0.3333333333333333,
             "#9c179e"
            ],
            [
             0.4444444444444444,
             "#bd3786"
            ],
            [
             0.5555555555555556,
             "#d8576b"
            ],
            [
             0.6666666666666666,
             "#ed7953"
            ],
            [
             0.7777777777777778,
             "#fb9f3a"
            ],
            [
             0.8888888888888888,
             "#fdca26"
            ],
            [
             1,
             "#f0f921"
            ]
           ],
           "sequentialminus": [
            [
             0,
             "#0d0887"
            ],
            [
             0.1111111111111111,
             "#46039f"
            ],
            [
             0.2222222222222222,
             "#7201a8"
            ],
            [
             0.3333333333333333,
             "#9c179e"
            ],
            [
             0.4444444444444444,
             "#bd3786"
            ],
            [
             0.5555555555555556,
             "#d8576b"
            ],
            [
             0.6666666666666666,
             "#ed7953"
            ],
            [
             0.7777777777777778,
             "#fb9f3a"
            ],
            [
             0.8888888888888888,
             "#fdca26"
            ],
            [
             1,
             "#f0f921"
            ]
           ]
          },
          "colorway": [
           "#636efa",
           "#EF553B",
           "#00cc96",
           "#ab63fa",
           "#FFA15A",
           "#19d3f3",
           "#FF6692",
           "#B6E880",
           "#FF97FF",
           "#FECB52"
          ],
          "font": {
           "color": "#2a3f5f"
          },
          "geo": {
           "bgcolor": "white",
           "lakecolor": "white",
           "landcolor": "#E5ECF6",
           "showlakes": true,
           "showland": true,
           "subunitcolor": "white"
          },
          "hoverlabel": {
           "align": "left"
          },
          "hovermode": "closest",
          "mapbox": {
           "style": "light"
          },
          "paper_bgcolor": "white",
          "plot_bgcolor": "#E5ECF6",
          "polar": {
           "angularaxis": {
            "gridcolor": "white",
            "linecolor": "white",
            "ticks": ""
           },
           "bgcolor": "#E5ECF6",
           "radialaxis": {
            "gridcolor": "white",
            "linecolor": "white",
            "ticks": ""
           }
          },
          "scene": {
           "xaxis": {
            "backgroundcolor": "#E5ECF6",
            "gridcolor": "white",
            "gridwidth": 2,
            "linecolor": "white",
            "showbackground": true,
            "ticks": "",
            "zerolinecolor": "white"
           },
           "yaxis": {
            "backgroundcolor": "#E5ECF6",
            "gridcolor": "white",
            "gridwidth": 2,
            "linecolor": "white",
            "showbackground": true,
            "ticks": "",
            "zerolinecolor": "white"
           },
           "zaxis": {
            "backgroundcolor": "#E5ECF6",
            "gridcolor": "white",
            "gridwidth": 2,
            "linecolor": "white",
            "showbackground": true,
            "ticks": "",
            "zerolinecolor": "white"
           }
          },
          "shapedefaults": {
           "line": {
            "color": "#2a3f5f"
           }
          },
          "ternary": {
           "aaxis": {
            "gridcolor": "white",
            "linecolor": "white",
            "ticks": ""
           },
           "baxis": {
            "gridcolor": "white",
            "linecolor": "white",
            "ticks": ""
           },
           "bgcolor": "#E5ECF6",
           "caxis": {
            "gridcolor": "white",
            "linecolor": "white",
            "ticks": ""
           }
          },
          "title": {
           "x": 0.05
          },
          "xaxis": {
           "automargin": true,
           "gridcolor": "white",
           "linecolor": "white",
           "ticks": "",
           "title": {
            "standoff": 15
           },
           "zerolinecolor": "white",
           "zerolinewidth": 2
          },
          "yaxis": {
           "automargin": true,
           "gridcolor": "white",
           "linecolor": "white",
           "ticks": "",
           "title": {
            "standoff": 15
           },
           "zerolinecolor": "white",
           "zerolinewidth": 2
          }
         }
        },
        "title": {
         "text": "Palm Oil Production in Indonesia and Malaysia (2000-2023)"
        },
        "xaxis": {
         "title": {
          "text": "Year"
         }
        },
        "yaxis": {
         "title": {
          "text": "Production"
         }
        }
       }
      }
     },
     "metadata": {},
     "output_type": "display_data"
    }
   ],
   "source": [
    "import pandas as pd\n",
    "import plotly.graph_objs as go\n",
    "\n",
    "# Load palm oil production data\n",
    "palm = pd.read_csv('../Datasets/Oils/archive/cleaned/palm.csv')\n",
    "\n",
    "# Filter data for Indonesia and Malaysia and years >= 2000\n",
    "df_Indo = palm[(palm['Country'] == 'Indonesia') & (palm['Year'] >= 2000)]\n",
    "df_Malaysia = palm[(palm['Country'] == 'Malaysia') & (palm['Year'] >= 2000)]\n",
    "\n",
    "# Extract production values and years\n",
    "xi = df_Indo['Production'].values\n",
    "xm = df_Malaysia['Production'].values\n",
    "years = df_Indo['Year'].values  # Both Indo and Malaysia have the same years\n",
    "\n",
    "# Calculate total production\n",
    "total_production = xi + xm\n",
    "\n",
    "# Create traces for Plotly\n",
    "trace_indo = go.Scatter(x=years, y=xi, mode='lines', name='Indonesia')\n",
    "trace_malaysia = go.Scatter(x=years, y=xm, mode='lines', name='Malaysia')\n",
    "trace_total = go.Scatter(x=years, y=total_production, mode='lines', name='Total Production')\n",
    "\n",
    "# Layout\n",
    "layout = go.Layout(\n",
    "    title='Palm Oil Production in Indonesia and Malaysia (2000-2023)',\n",
    "    xaxis=dict(title='Year'),\n",
    "    yaxis=dict(title='Production'),\n",
    "    legend=dict(x=0.1, y=1.1, orientation='h')\n",
    ")\n",
    "\n",
    "# Create figure\n",
    "fig = go.Figure(data=[trace_indo, trace_malaysia, trace_total], layout=layout)\n",
    "\n",
    "# Show plot\n",
    "fig.show()\n"
   ]
  },
  {
   "cell_type": "markdown",
   "metadata": {},
   "source": [
    "At the same time we can see, as shown in the next graph, that the total tree loss has also been steadily increasing since 2001."
   ]
  },
  {
   "cell_type": "code",
   "execution_count": 258,
   "metadata": {},
   "outputs": [
    {
     "data": {
      "application/vnd.plotly.v1+json": {
       "config": {
        "plotlyServerURL": "https://plot.ly"
       },
       "data": [
        {
         "mode": "lines",
         "name": "Sarawak",
         "type": "scatter",
         "x": [
          2001,
          2002,
          2003,
          2004,
          2005,
          2006,
          2007,
          2008,
          2009,
          2010,
          2011,
          2012,
          2013,
          2014,
          2015,
          2016,
          2017,
          2018,
          2019,
          2020,
          2021,
          2022
         ],
         "y": [
          103529,
          178335,
          252827,
          362943,
          485681,
          600348,
          776456,
          940403,
          1247816,
          1384904,
          1576972,
          1848951,
          1982453,
          2220883,
          2384404,
          2574318,
          2751905,
          2914626,
          3043397,
          3126221,
          3208423,
          3295772
         ]
        },
        {
         "mode": "lines",
         "name": "Sabah",
         "type": "scatter",
         "x": [
          2001,
          2002,
          2003,
          2004,
          2005,
          2006,
          2007,
          2008,
          2009,
          2010,
          2011,
          2012,
          2013,
          2014,
          2015,
          2016,
          2017,
          2018,
          2019,
          2020,
          2021,
          2022
         ],
         "y": [
          64055,
          124452,
          157777,
          245073,
          318272,
          399891,
          462556,
          547171,
          639540,
          743731,
          812493,
          918683,
          987437,
          1133894,
          1247842,
          1369003,
          1463592,
          1564770,
          1666502,
          1746346,
          1824212,
          1900753
         ]
        },
        {
         "mode": "lines",
         "name": "East Malaysia",
         "type": "scatter",
         "x": [
          2001,
          2002,
          2003,
          2004,
          2005,
          2006,
          2007,
          2008,
          2009,
          2010,
          2011,
          2012,
          2013,
          2014,
          2015,
          2016,
          2017,
          2018,
          2019,
          2020,
          2021,
          2022
         ],
         "y": [
          167584,
          302787,
          410604,
          608016,
          803953,
          1000239,
          1239012,
          1487574,
          1887356,
          2128635,
          2389465,
          2767634,
          2969890,
          3354777,
          3632246,
          3943321,
          4215497,
          4479396,
          4709899,
          4872567,
          5032635,
          5196525
         ]
        },
        {
         "mode": "lines",
         "name": "West Kalimantan",
         "type": "scatter",
         "x": [
          2001,
          2002,
          2003,
          2004,
          2005,
          2006,
          2007,
          2008,
          2009,
          2010,
          2011,
          2012,
          2013,
          2014,
          2015,
          2016,
          2017,
          2018,
          2019,
          2020,
          2021,
          2022
         ],
         "y": [
          78629,
          176274,
          232459,
          346908,
          451885,
          583497,
          716655,
          920906,
          1210741,
          1363893,
          1627996,
          1943892,
          2150143,
          2454859,
          2732644,
          3033510,
          3226361,
          3398032,
          3551257,
          3681276,
          3799636,
          3947949
         ]
        },
        {
         "mode": "lines",
         "name": "Central Kalimantan",
         "type": "scatter",
         "x": [
          2001,
          2002,
          2003,
          2004,
          2005,
          2006,
          2007,
          2008,
          2009,
          2010,
          2011,
          2012,
          2013,
          2014,
          2015,
          2016,
          2017,
          2018,
          2019,
          2020,
          2021,
          2022
         ],
         "y": [
          64894,
          169183,
          298904,
          471544,
          631755,
          856324,
          1149028,
          1354902,
          1550141,
          1692855,
          1832983,
          2054981,
          2164620,
          2371973,
          2596453,
          3104713,
          3215398,
          3333244,
          3464714,
          3561717,
          3621232,
          3702000
         ]
        },
        {
         "mode": "lines",
         "name": "East Kalimantan",
         "type": "scatter",
         "x": [
          2001,
          2002,
          2003,
          2004,
          2005,
          2006,
          2007,
          2008,
          2009,
          2010,
          2011,
          2012,
          2013,
          2014,
          2015,
          2016,
          2017,
          2018,
          2019,
          2020,
          2021,
          2022
         ],
         "y": [
          74179,
          156042,
          210115,
          319037,
          410705,
          564687,
          719527,
          865942,
          1130807,
          1268718,
          1493892,
          1813746,
          2001348,
          2286048,
          2531947,
          2913673,
          3093543,
          3290553,
          3462664,
          3587652,
          3686154,
          3771626
         ]
        },
        {
         "mode": "lines",
         "name": "South Kalimantan",
         "type": "scatter",
         "x": [
          2001,
          2002,
          2003,
          2004,
          2005,
          2006,
          2007,
          2008,
          2009,
          2010,
          2011,
          2012,
          2013,
          2014,
          2015,
          2016,
          2017,
          2018,
          2019,
          2020,
          2021,
          2022
         ],
         "y": [
          19816,
          44687,
          63281,
          105915,
          131482,
          186002,
          215817,
          234673,
          295746,
          322280,
          371433,
          440943,
          482621,
          559267,
          640517,
          713442,
          756900,
          801721,
          854954,
          879798,
          910308,
          934752
         ]
        },
        {
         "mode": "lines",
         "name": "Total for Kalimantan",
         "type": "scatter",
         "x": [
          2001,
          2002,
          2003,
          2004,
          2005,
          2006,
          2007,
          2008,
          2009,
          2010,
          2011,
          2012,
          2013,
          2014,
          2015,
          2016,
          2017,
          2018,
          2019,
          2020,
          2021,
          2022
         ],
         "y": [
          237518,
          546186,
          804759,
          1243404,
          1625827,
          2190510,
          2801027,
          3376423,
          4187435,
          4647746,
          5326304,
          6253562,
          6798732,
          7672147,
          8501561,
          9765338,
          10292202,
          10823550,
          11333589,
          11710443,
          12017330,
          12356327
         ]
        }
       ],
       "layout": {
        "hovermode": "x unified",
        "legend": {
         "title": {
          "text": "Province"
         }
        },
        "template": {
         "data": {
          "bar": [
           {
            "error_x": {
             "color": "#2a3f5f"
            },
            "error_y": {
             "color": "#2a3f5f"
            },
            "marker": {
             "line": {
              "color": "white",
              "width": 0.5
             },
             "pattern": {
              "fillmode": "overlay",
              "size": 10,
              "solidity": 0.2
             }
            },
            "type": "bar"
           }
          ],
          "barpolar": [
           {
            "marker": {
             "line": {
              "color": "white",
              "width": 0.5
             },
             "pattern": {
              "fillmode": "overlay",
              "size": 10,
              "solidity": 0.2
             }
            },
            "type": "barpolar"
           }
          ],
          "carpet": [
           {
            "aaxis": {
             "endlinecolor": "#2a3f5f",
             "gridcolor": "#C8D4E3",
             "linecolor": "#C8D4E3",
             "minorgridcolor": "#C8D4E3",
             "startlinecolor": "#2a3f5f"
            },
            "baxis": {
             "endlinecolor": "#2a3f5f",
             "gridcolor": "#C8D4E3",
             "linecolor": "#C8D4E3",
             "minorgridcolor": "#C8D4E3",
             "startlinecolor": "#2a3f5f"
            },
            "type": "carpet"
           }
          ],
          "choropleth": [
           {
            "colorbar": {
             "outlinewidth": 0,
             "ticks": ""
            },
            "type": "choropleth"
           }
          ],
          "contour": [
           {
            "colorbar": {
             "outlinewidth": 0,
             "ticks": ""
            },
            "colorscale": [
             [
              0,
              "#0d0887"
             ],
             [
              0.1111111111111111,
              "#46039f"
             ],
             [
              0.2222222222222222,
              "#7201a8"
             ],
             [
              0.3333333333333333,
              "#9c179e"
             ],
             [
              0.4444444444444444,
              "#bd3786"
             ],
             [
              0.5555555555555556,
              "#d8576b"
             ],
             [
              0.6666666666666666,
              "#ed7953"
             ],
             [
              0.7777777777777778,
              "#fb9f3a"
             ],
             [
              0.8888888888888888,
              "#fdca26"
             ],
             [
              1,
              "#f0f921"
             ]
            ],
            "type": "contour"
           }
          ],
          "contourcarpet": [
           {
            "colorbar": {
             "outlinewidth": 0,
             "ticks": ""
            },
            "type": "contourcarpet"
           }
          ],
          "heatmap": [
           {
            "colorbar": {
             "outlinewidth": 0,
             "ticks": ""
            },
            "colorscale": [
             [
              0,
              "#0d0887"
             ],
             [
              0.1111111111111111,
              "#46039f"
             ],
             [
              0.2222222222222222,
              "#7201a8"
             ],
             [
              0.3333333333333333,
              "#9c179e"
             ],
             [
              0.4444444444444444,
              "#bd3786"
             ],
             [
              0.5555555555555556,
              "#d8576b"
             ],
             [
              0.6666666666666666,
              "#ed7953"
             ],
             [
              0.7777777777777778,
              "#fb9f3a"
             ],
             [
              0.8888888888888888,
              "#fdca26"
             ],
             [
              1,
              "#f0f921"
             ]
            ],
            "type": "heatmap"
           }
          ],
          "heatmapgl": [
           {
            "colorbar": {
             "outlinewidth": 0,
             "ticks": ""
            },
            "colorscale": [
             [
              0,
              "#0d0887"
             ],
             [
              0.1111111111111111,
              "#46039f"
             ],
             [
              0.2222222222222222,
              "#7201a8"
             ],
             [
              0.3333333333333333,
              "#9c179e"
             ],
             [
              0.4444444444444444,
              "#bd3786"
             ],
             [
              0.5555555555555556,
              "#d8576b"
             ],
             [
              0.6666666666666666,
              "#ed7953"
             ],
             [
              0.7777777777777778,
              "#fb9f3a"
             ],
             [
              0.8888888888888888,
              "#fdca26"
             ],
             [
              1,
              "#f0f921"
             ]
            ],
            "type": "heatmapgl"
           }
          ],
          "histogram": [
           {
            "marker": {
             "pattern": {
              "fillmode": "overlay",
              "size": 10,
              "solidity": 0.2
             }
            },
            "type": "histogram"
           }
          ],
          "histogram2d": [
           {
            "colorbar": {
             "outlinewidth": 0,
             "ticks": ""
            },
            "colorscale": [
             [
              0,
              "#0d0887"
             ],
             [
              0.1111111111111111,
              "#46039f"
             ],
             [
              0.2222222222222222,
              "#7201a8"
             ],
             [
              0.3333333333333333,
              "#9c179e"
             ],
             [
              0.4444444444444444,
              "#bd3786"
             ],
             [
              0.5555555555555556,
              "#d8576b"
             ],
             [
              0.6666666666666666,
              "#ed7953"
             ],
             [
              0.7777777777777778,
              "#fb9f3a"
             ],
             [
              0.8888888888888888,
              "#fdca26"
             ],
             [
              1,
              "#f0f921"
             ]
            ],
            "type": "histogram2d"
           }
          ],
          "histogram2dcontour": [
           {
            "colorbar": {
             "outlinewidth": 0,
             "ticks": ""
            },
            "colorscale": [
             [
              0,
              "#0d0887"
             ],
             [
              0.1111111111111111,
              "#46039f"
             ],
             [
              0.2222222222222222,
              "#7201a8"
             ],
             [
              0.3333333333333333,
              "#9c179e"
             ],
             [
              0.4444444444444444,
              "#bd3786"
             ],
             [
              0.5555555555555556,
              "#d8576b"
             ],
             [
              0.6666666666666666,
              "#ed7953"
             ],
             [
              0.7777777777777778,
              "#fb9f3a"
             ],
             [
              0.8888888888888888,
              "#fdca26"
             ],
             [
              1,
              "#f0f921"
             ]
            ],
            "type": "histogram2dcontour"
           }
          ],
          "mesh3d": [
           {
            "colorbar": {
             "outlinewidth": 0,
             "ticks": ""
            },
            "type": "mesh3d"
           }
          ],
          "parcoords": [
           {
            "line": {
             "colorbar": {
              "outlinewidth": 0,
              "ticks": ""
             }
            },
            "type": "parcoords"
           }
          ],
          "pie": [
           {
            "automargin": true,
            "type": "pie"
           }
          ],
          "scatter": [
           {
            "fillpattern": {
             "fillmode": "overlay",
             "size": 10,
             "solidity": 0.2
            },
            "type": "scatter"
           }
          ],
          "scatter3d": [
           {
            "line": {
             "colorbar": {
              "outlinewidth": 0,
              "ticks": ""
             }
            },
            "marker": {
             "colorbar": {
              "outlinewidth": 0,
              "ticks": ""
             }
            },
            "type": "scatter3d"
           }
          ],
          "scattercarpet": [
           {
            "marker": {
             "colorbar": {
              "outlinewidth": 0,
              "ticks": ""
             }
            },
            "type": "scattercarpet"
           }
          ],
          "scattergeo": [
           {
            "marker": {
             "colorbar": {
              "outlinewidth": 0,
              "ticks": ""
             }
            },
            "type": "scattergeo"
           }
          ],
          "scattergl": [
           {
            "marker": {
             "colorbar": {
              "outlinewidth": 0,
              "ticks": ""
             }
            },
            "type": "scattergl"
           }
          ],
          "scattermapbox": [
           {
            "marker": {
             "colorbar": {
              "outlinewidth": 0,
              "ticks": ""
             }
            },
            "type": "scattermapbox"
           }
          ],
          "scatterpolar": [
           {
            "marker": {
             "colorbar": {
              "outlinewidth": 0,
              "ticks": ""
             }
            },
            "type": "scatterpolar"
           }
          ],
          "scatterpolargl": [
           {
            "marker": {
             "colorbar": {
              "outlinewidth": 0,
              "ticks": ""
             }
            },
            "type": "scatterpolargl"
           }
          ],
          "scatterternary": [
           {
            "marker": {
             "colorbar": {
              "outlinewidth": 0,
              "ticks": ""
             }
            },
            "type": "scatterternary"
           }
          ],
          "surface": [
           {
            "colorbar": {
             "outlinewidth": 0,
             "ticks": ""
            },
            "colorscale": [
             [
              0,
              "#0d0887"
             ],
             [
              0.1111111111111111,
              "#46039f"
             ],
             [
              0.2222222222222222,
              "#7201a8"
             ],
             [
              0.3333333333333333,
              "#9c179e"
             ],
             [
              0.4444444444444444,
              "#bd3786"
             ],
             [
              0.5555555555555556,
              "#d8576b"
             ],
             [
              0.6666666666666666,
              "#ed7953"
             ],
             [
              0.7777777777777778,
              "#fb9f3a"
             ],
             [
              0.8888888888888888,
              "#fdca26"
             ],
             [
              1,
              "#f0f921"
             ]
            ],
            "type": "surface"
           }
          ],
          "table": [
           {
            "cells": {
             "fill": {
              "color": "#EBF0F8"
             },
             "line": {
              "color": "white"
             }
            },
            "header": {
             "fill": {
              "color": "#C8D4E3"
             },
             "line": {
              "color": "white"
             }
            },
            "type": "table"
           }
          ]
         },
         "layout": {
          "annotationdefaults": {
           "arrowcolor": "#2a3f5f",
           "arrowhead": 0,
           "arrowwidth": 1
          },
          "autotypenumbers": "strict",
          "coloraxis": {
           "colorbar": {
            "outlinewidth": 0,
            "ticks": ""
           }
          },
          "colorscale": {
           "diverging": [
            [
             0,
             "#8e0152"
            ],
            [
             0.1,
             "#c51b7d"
            ],
            [
             0.2,
             "#de77ae"
            ],
            [
             0.3,
             "#f1b6da"
            ],
            [
             0.4,
             "#fde0ef"
            ],
            [
             0.5,
             "#f7f7f7"
            ],
            [
             0.6,
             "#e6f5d0"
            ],
            [
             0.7,
             "#b8e186"
            ],
            [
             0.8,
             "#7fbc41"
            ],
            [
             0.9,
             "#4d9221"
            ],
            [
             1,
             "#276419"
            ]
           ],
           "sequential": [
            [
             0,
             "#0d0887"
            ],
            [
             0.1111111111111111,
             "#46039f"
            ],
            [
             0.2222222222222222,
             "#7201a8"
            ],
            [
             0.3333333333333333,
             "#9c179e"
            ],
            [
             0.4444444444444444,
             "#bd3786"
            ],
            [
             0.5555555555555556,
             "#d8576b"
            ],
            [
             0.6666666666666666,
             "#ed7953"
            ],
            [
             0.7777777777777778,
             "#fb9f3a"
            ],
            [
             0.8888888888888888,
             "#fdca26"
            ],
            [
             1,
             "#f0f921"
            ]
           ],
           "sequentialminus": [
            [
             0,
             "#0d0887"
            ],
            [
             0.1111111111111111,
             "#46039f"
            ],
            [
             0.2222222222222222,
             "#7201a8"
            ],
            [
             0.3333333333333333,
             "#9c179e"
            ],
            [
             0.4444444444444444,
             "#bd3786"
            ],
            [
             0.5555555555555556,
             "#d8576b"
            ],
            [
             0.6666666666666666,
             "#ed7953"
            ],
            [
             0.7777777777777778,
             "#fb9f3a"
            ],
            [
             0.8888888888888888,
             "#fdca26"
            ],
            [
             1,
             "#f0f921"
            ]
           ]
          },
          "colorway": [
           "#636efa",
           "#EF553B",
           "#00cc96",
           "#ab63fa",
           "#FFA15A",
           "#19d3f3",
           "#FF6692",
           "#B6E880",
           "#FF97FF",
           "#FECB52"
          ],
          "font": {
           "color": "#2a3f5f"
          },
          "geo": {
           "bgcolor": "white",
           "lakecolor": "white",
           "landcolor": "white",
           "showlakes": true,
           "showland": true,
           "subunitcolor": "#C8D4E3"
          },
          "hoverlabel": {
           "align": "left"
          },
          "hovermode": "closest",
          "mapbox": {
           "style": "light"
          },
          "paper_bgcolor": "white",
          "plot_bgcolor": "white",
          "polar": {
           "angularaxis": {
            "gridcolor": "#EBF0F8",
            "linecolor": "#EBF0F8",
            "ticks": ""
           },
           "bgcolor": "white",
           "radialaxis": {
            "gridcolor": "#EBF0F8",
            "linecolor": "#EBF0F8",
            "ticks": ""
           }
          },
          "scene": {
           "xaxis": {
            "backgroundcolor": "white",
            "gridcolor": "#DFE8F3",
            "gridwidth": 2,
            "linecolor": "#EBF0F8",
            "showbackground": true,
            "ticks": "",
            "zerolinecolor": "#EBF0F8"
           },
           "yaxis": {
            "backgroundcolor": "white",
            "gridcolor": "#DFE8F3",
            "gridwidth": 2,
            "linecolor": "#EBF0F8",
            "showbackground": true,
            "ticks": "",
            "zerolinecolor": "#EBF0F8"
           },
           "zaxis": {
            "backgroundcolor": "white",
            "gridcolor": "#DFE8F3",
            "gridwidth": 2,
            "linecolor": "#EBF0F8",
            "showbackground": true,
            "ticks": "",
            "zerolinecolor": "#EBF0F8"
           }
          },
          "shapedefaults": {
           "line": {
            "color": "#2a3f5f"
           }
          },
          "ternary": {
           "aaxis": {
            "gridcolor": "#DFE8F3",
            "linecolor": "#A2B1C6",
            "ticks": ""
           },
           "baxis": {
            "gridcolor": "#DFE8F3",
            "linecolor": "#A2B1C6",
            "ticks": ""
           },
           "bgcolor": "white",
           "caxis": {
            "gridcolor": "#DFE8F3",
            "linecolor": "#A2B1C6",
            "ticks": ""
           }
          },
          "title": {
           "x": 0.05
          },
          "xaxis": {
           "automargin": true,
           "gridcolor": "#EBF0F8",
           "linecolor": "#EBF0F8",
           "ticks": "",
           "title": {
            "standoff": 15
           },
           "zerolinecolor": "#EBF0F8",
           "zerolinewidth": 2
          },
          "yaxis": {
           "automargin": true,
           "gridcolor": "#EBF0F8",
           "linecolor": "#EBF0F8",
           "ticks": "",
           "title": {
            "standoff": 15
           },
           "zerolinecolor": "#EBF0F8",
           "zerolinewidth": 2
          }
         }
        },
        "title": {
         "text": "Cumulative tree cover loss on Borneo per country and province (2001-2022)"
        },
        "xaxis": {
         "title": {
          "text": "Year"
         }
        },
        "yaxis": {
         "title": {
          "text": "Cumulative Tree Cover Loss (ha)"
         }
        }
       }
      }
     },
     "metadata": {},
     "output_type": "display_data"
    }
   ],
   "source": [
    "import pandas as pd\n",
    "import plotly.graph_objs as go\n",
    "\n",
    "# Load the dataset\n",
    "df = pd.read_csv('../Datasets/Deforestation/Subnational 1 tree cover loss.csv')\n",
    "\n",
    "# Define the years to plot\n",
    "years = [f'tc_loss_ha_{year}' for year in range(2001, 2023)]\n",
    "\n",
    "# Mapping dictionary from Indonesian to English names for Kalimantan provinces\n",
    "province_mapping = {\n",
    "    'Kalimantan Barat': 'West Kalimantan',\n",
    "    'Kalimantan Tengah': 'Central Kalimantan',\n",
    "    'Kalimantan Timur': 'East Kalimantan',\n",
    "    'Kalimantan Selatan': 'South Kalimantan'\n",
    "}\n",
    "\n",
    "# Create an empty DataFrame to store totals\n",
    "totals_df = pd.DataFrame(columns=['year', 'cumulative_tc_loss_ha'])\n",
    "\n",
    "# Loop through each province\n",
    "for province_indo, province_eng in province_mapping.items():\n",
    "    # Filter the DataFrame for the current province and threshold == 0\n",
    "    province_df = df[(df['subnational1'] == province_indo) & (df['threshold'] == 0)]\n",
    "    \n",
    "    # Keep only relevant columns\n",
    "    columns_to_keep = ['subnational1'] + years\n",
    "    province_df = province_df[columns_to_keep]\n",
    "    \n",
    "    # Melt the DataFrame to long format\n",
    "    province_df_long = province_df.melt(id_vars='subnational1', var_name='year', value_name='tc_loss_ha')\n",
    "    \n",
    "    # Extract year from the column name and convert to integer\n",
    "    province_df_long['year'] = province_df_long['year'].str.extract(r'(\\d+)').astype(int)\n",
    "    \n",
    "    # Sort the DataFrame by year\n",
    "    province_df_long = province_df_long.sort_values(by='year')\n",
    "    \n",
    "    # Calculate cumulative tree loss\n",
    "    province_df_long['cumulative_tc_loss_ha'] = province_df_long['tc_loss_ha'].cumsum()\n",
    "    \n",
    "    # Append to totals_df\n",
    "    totals_df = pd.concat([totals_df, province_df_long[['year', 'cumulative_tc_loss_ha']]], ignore_index=True)\n",
    "\n",
    "# Calculate the total cumulative tree loss across all provinces\n",
    "totals_df = totals_df.groupby('year')['cumulative_tc_loss_ha'].sum().reset_index()\n",
    "\n",
    "# Initialize Figure using Plotly\n",
    "fig = go.Figure()\n",
    "\n",
    "# Plot cumulative tree cover loss for Sarawak\n",
    "sarawak_df = df[(df['subnational1'] == 'Sarawak') & (df['threshold'] == 0)]\n",
    "sarawak_df = sarawak_df[years]\n",
    "sarawak_df_long = sarawak_df.melt(var_name='year', value_name='tc_loss_ha')\n",
    "sarawak_df_long['year'] = sarawak_df_long['year'].str.extract(r'(\\d+)').astype(int)\n",
    "sarawak_df_long = sarawak_df_long.sort_values(by='year')\n",
    "sarawak_df_long['cumulative_tc_loss_ha'] = sarawak_df_long['tc_loss_ha'].cumsum()\n",
    "\n",
    "fig.add_trace(go.Scatter(x=sarawak_df_long['year'], \n",
    "                         y=sarawak_df_long['cumulative_tc_loss_ha'], \n",
    "                         mode='lines', \n",
    "                         name='Sarawak'))\n",
    "\n",
    "# Plot cumulative tree cover loss for Sabah\n",
    "sabah_df = df[(df['subnational1'] == 'Sabah') & (df['threshold'] == 0)]\n",
    "sabah_df = sabah_df[years]\n",
    "sabah_df_long = sabah_df.melt(var_name='year', value_name='tc_loss_ha')\n",
    "sabah_df_long['year'] = sabah_df_long['year'].str.extract(r'(\\d+)').astype(int)\n",
    "sabah_df_long = sabah_df_long.sort_values(by='year')\n",
    "sabah_df_long['cumulative_tc_loss_ha'] = sabah_df_long['tc_loss_ha'].cumsum()\n",
    "\n",
    "fig.add_trace(go.Scatter(x=sabah_df_long['year'], \n",
    "                         y=sabah_df_long['cumulative_tc_loss_ha'], \n",
    "                         mode='lines', \n",
    "                         name='Sabah'))\n",
    "\n",
    "# Combine Sarawak and Sabah into 'East Malaysia'\n",
    "east_malaysia_df = pd.DataFrame()\n",
    "east_malaysia_df['year'] = sarawak_df_long['year']\n",
    "east_malaysia_df['tc_loss_ha'] = sarawak_df_long['tc_loss_ha'] + sabah_df_long['tc_loss_ha']\n",
    "east_malaysia_df['cumulative_tc_loss_ha'] = sarawak_df_long['cumulative_tc_loss_ha'] + sabah_df_long['cumulative_tc_loss_ha']\n",
    "\n",
    "fig.add_trace(go.Scatter(x=east_malaysia_df['year'], \n",
    "                         y=east_malaysia_df['cumulative_tc_loss_ha'], \n",
    "                         mode='lines', \n",
    "                         name='East Malaysia'))\n",
    "\n",
    "# Plot cumulative tree cover loss for Kalimantan provinces\n",
    "for province_indo, province_eng in province_mapping.items():\n",
    "    # Filter the DataFrame for the current province and threshold == 0\n",
    "    province_df = df[(df['subnational1'] == province_indo) & (df['threshold'] == 0)]\n",
    "    \n",
    "    # Keep only relevant columns\n",
    "    province_df = province_df[years]\n",
    "    \n",
    "    # Melt the DataFrame to long format\n",
    "    province_df_long = province_df.melt(var_name='year', value_name='tc_loss_ha')\n",
    "    province_df_long['year'] = province_df_long['year'].str.extract(r'(\\d+)').astype(int)\n",
    "    province_df_long = province_df_long.sort_values(by='year')\n",
    "    \n",
    "    # Calculate cumulative tree loss\n",
    "    province_df_long['cumulative_tc_loss_ha'] = province_df_long['tc_loss_ha'].cumsum()\n",
    "    \n",
    "    # Add trace for the current province\n",
    "    fig.add_trace(go.Scatter(x=province_df_long['year'], \n",
    "                             y=province_df_long['cumulative_tc_loss_ha'], \n",
    "                             mode='lines', \n",
    "                             name=province_eng))\n",
    "\n",
    "# Add trace for total cumulative tree cover loss in Kalimantan\n",
    "fig.add_trace(go.Scatter(x=totals_df['year'], \n",
    "                         y=totals_df['cumulative_tc_loss_ha'], \n",
    "                         mode='lines', \n",
    "                         name='Total for Kalimantan'))\n",
    "\n",
    "# Update layout\n",
    "fig.update_layout(title='Cumulative tree cover loss on Borneo per country and province (2001-2022)',\n",
    "                  xaxis_title='Year',\n",
    "                  yaxis_title='Cumulative Tree Cover Loss (ha)',\n",
    "                  legend_title='Province',\n",
    "                  hovermode='x unified',\n",
    "                  template='plotly_white')\n",
    "\n",
    "# Show the plot\n",
    "fig.show()\n"
   ]
  },
  {
   "cell_type": "markdown",
   "metadata": {},
   "source": [
    "There seems to be a strong negative correlation between the palm oil production and the total tree cover. This can be seen in the next graph, wich contains the data for Indonesia."
   ]
  },
  {
   "cell_type": "code",
   "execution_count": 259,
   "metadata": {},
   "outputs": [
    {
     "data": {
      "application/vnd.plotly.v1+json": {
       "config": {
        "plotlyServerURL": "https://plot.ly"
       },
       "data": [
        {
         "line": {
          "color": "blue"
         },
         "mode": "lines",
         "name": "Total Tree Cover (Kalimantan)",
         "type": "scatter",
         "x": [
          2001,
          2002,
          2003,
          2004,
          2005,
          2006,
          2007,
          2008,
          2009,
          2010,
          2011,
          2012,
          2013,
          2014,
          2015,
          2016,
          2017,
          2018,
          2019,
          2020,
          2021,
          2022
         ],
         "xaxis": "x",
         "y": [
          53233025.86363637,
          53001220.72727273,
          52819510.59090909,
          52457728.45454545,
          52152168.31818182,
          51664348.18181818,
          51130694.04545455,
          50632160.90909091,
          49898011.77272727,
          49514563.63636364,
          48912868.5,
          48062473.36363637,
          47594166.22727273,
          46797614.09090909,
          46045062.95454545,
          44858148.81818182,
          44408147.68181818,
          43953662.54545455,
          43520486.40909091,
          43220495.27272727,
          42990471.13636363,
          42728337
         ],
         "yaxis": "y"
        },
        {
         "line": {
          "color": "green"
         },
         "mode": "lines",
         "name": "Palm Oil Production (Indonesia)",
         "type": "scatter",
         "x": [
          2001,
          2002,
          2003,
          2004,
          2005,
          2006,
          2007,
          2008,
          2009,
          2010,
          2011,
          2012,
          2013,
          2014,
          2015,
          2016,
          2017,
          2018,
          2019,
          2020,
          2021,
          2022
         ],
         "xaxis": "x",
         "y": [
          9200,
          10300,
          11970,
          13560,
          15560,
          16600,
          18000,
          20500,
          22000,
          23600,
          26200,
          28500,
          30500,
          33000,
          32000,
          36000,
          39500,
          41500,
          42500,
          43500,
          42000,
          46500
         ],
         "yaxis": "y2"
        }
       ],
       "layout": {
        "plot_bgcolor": "white",
        "template": {
         "data": {
          "bar": [
           {
            "error_x": {
             "color": "#2a3f5f"
            },
            "error_y": {
             "color": "#2a3f5f"
            },
            "marker": {
             "line": {
              "color": "#E5ECF6",
              "width": 0.5
             },
             "pattern": {
              "fillmode": "overlay",
              "size": 10,
              "solidity": 0.2
             }
            },
            "type": "bar"
           }
          ],
          "barpolar": [
           {
            "marker": {
             "line": {
              "color": "#E5ECF6",
              "width": 0.5
             },
             "pattern": {
              "fillmode": "overlay",
              "size": 10,
              "solidity": 0.2
             }
            },
            "type": "barpolar"
           }
          ],
          "carpet": [
           {
            "aaxis": {
             "endlinecolor": "#2a3f5f",
             "gridcolor": "white",
             "linecolor": "white",
             "minorgridcolor": "white",
             "startlinecolor": "#2a3f5f"
            },
            "baxis": {
             "endlinecolor": "#2a3f5f",
             "gridcolor": "white",
             "linecolor": "white",
             "minorgridcolor": "white",
             "startlinecolor": "#2a3f5f"
            },
            "type": "carpet"
           }
          ],
          "choropleth": [
           {
            "colorbar": {
             "outlinewidth": 0,
             "ticks": ""
            },
            "type": "choropleth"
           }
          ],
          "contour": [
           {
            "colorbar": {
             "outlinewidth": 0,
             "ticks": ""
            },
            "colorscale": [
             [
              0,
              "#0d0887"
             ],
             [
              0.1111111111111111,
              "#46039f"
             ],
             [
              0.2222222222222222,
              "#7201a8"
             ],
             [
              0.3333333333333333,
              "#9c179e"
             ],
             [
              0.4444444444444444,
              "#bd3786"
             ],
             [
              0.5555555555555556,
              "#d8576b"
             ],
             [
              0.6666666666666666,
              "#ed7953"
             ],
             [
              0.7777777777777778,
              "#fb9f3a"
             ],
             [
              0.8888888888888888,
              "#fdca26"
             ],
             [
              1,
              "#f0f921"
             ]
            ],
            "type": "contour"
           }
          ],
          "contourcarpet": [
           {
            "colorbar": {
             "outlinewidth": 0,
             "ticks": ""
            },
            "type": "contourcarpet"
           }
          ],
          "heatmap": [
           {
            "colorbar": {
             "outlinewidth": 0,
             "ticks": ""
            },
            "colorscale": [
             [
              0,
              "#0d0887"
             ],
             [
              0.1111111111111111,
              "#46039f"
             ],
             [
              0.2222222222222222,
              "#7201a8"
             ],
             [
              0.3333333333333333,
              "#9c179e"
             ],
             [
              0.4444444444444444,
              "#bd3786"
             ],
             [
              0.5555555555555556,
              "#d8576b"
             ],
             [
              0.6666666666666666,
              "#ed7953"
             ],
             [
              0.7777777777777778,
              "#fb9f3a"
             ],
             [
              0.8888888888888888,
              "#fdca26"
             ],
             [
              1,
              "#f0f921"
             ]
            ],
            "type": "heatmap"
           }
          ],
          "heatmapgl": [
           {
            "colorbar": {
             "outlinewidth": 0,
             "ticks": ""
            },
            "colorscale": [
             [
              0,
              "#0d0887"
             ],
             [
              0.1111111111111111,
              "#46039f"
             ],
             [
              0.2222222222222222,
              "#7201a8"
             ],
             [
              0.3333333333333333,
              "#9c179e"
             ],
             [
              0.4444444444444444,
              "#bd3786"
             ],
             [
              0.5555555555555556,
              "#d8576b"
             ],
             [
              0.6666666666666666,
              "#ed7953"
             ],
             [
              0.7777777777777778,
              "#fb9f3a"
             ],
             [
              0.8888888888888888,
              "#fdca26"
             ],
             [
              1,
              "#f0f921"
             ]
            ],
            "type": "heatmapgl"
           }
          ],
          "histogram": [
           {
            "marker": {
             "pattern": {
              "fillmode": "overlay",
              "size": 10,
              "solidity": 0.2
             }
            },
            "type": "histogram"
           }
          ],
          "histogram2d": [
           {
            "colorbar": {
             "outlinewidth": 0,
             "ticks": ""
            },
            "colorscale": [
             [
              0,
              "#0d0887"
             ],
             [
              0.1111111111111111,
              "#46039f"
             ],
             [
              0.2222222222222222,
              "#7201a8"
             ],
             [
              0.3333333333333333,
              "#9c179e"
             ],
             [
              0.4444444444444444,
              "#bd3786"
             ],
             [
              0.5555555555555556,
              "#d8576b"
             ],
             [
              0.6666666666666666,
              "#ed7953"
             ],
             [
              0.7777777777777778,
              "#fb9f3a"
             ],
             [
              0.8888888888888888,
              "#fdca26"
             ],
             [
              1,
              "#f0f921"
             ]
            ],
            "type": "histogram2d"
           }
          ],
          "histogram2dcontour": [
           {
            "colorbar": {
             "outlinewidth": 0,
             "ticks": ""
            },
            "colorscale": [
             [
              0,
              "#0d0887"
             ],
             [
              0.1111111111111111,
              "#46039f"
             ],
             [
              0.2222222222222222,
              "#7201a8"
             ],
             [
              0.3333333333333333,
              "#9c179e"
             ],
             [
              0.4444444444444444,
              "#bd3786"
             ],
             [
              0.5555555555555556,
              "#d8576b"
             ],
             [
              0.6666666666666666,
              "#ed7953"
             ],
             [
              0.7777777777777778,
              "#fb9f3a"
             ],
             [
              0.8888888888888888,
              "#fdca26"
             ],
             [
              1,
              "#f0f921"
             ]
            ],
            "type": "histogram2dcontour"
           }
          ],
          "mesh3d": [
           {
            "colorbar": {
             "outlinewidth": 0,
             "ticks": ""
            },
            "type": "mesh3d"
           }
          ],
          "parcoords": [
           {
            "line": {
             "colorbar": {
              "outlinewidth": 0,
              "ticks": ""
             }
            },
            "type": "parcoords"
           }
          ],
          "pie": [
           {
            "automargin": true,
            "type": "pie"
           }
          ],
          "scatter": [
           {
            "fillpattern": {
             "fillmode": "overlay",
             "size": 10,
             "solidity": 0.2
            },
            "type": "scatter"
           }
          ],
          "scatter3d": [
           {
            "line": {
             "colorbar": {
              "outlinewidth": 0,
              "ticks": ""
             }
            },
            "marker": {
             "colorbar": {
              "outlinewidth": 0,
              "ticks": ""
             }
            },
            "type": "scatter3d"
           }
          ],
          "scattercarpet": [
           {
            "marker": {
             "colorbar": {
              "outlinewidth": 0,
              "ticks": ""
             }
            },
            "type": "scattercarpet"
           }
          ],
          "scattergeo": [
           {
            "marker": {
             "colorbar": {
              "outlinewidth": 0,
              "ticks": ""
             }
            },
            "type": "scattergeo"
           }
          ],
          "scattergl": [
           {
            "marker": {
             "colorbar": {
              "outlinewidth": 0,
              "ticks": ""
             }
            },
            "type": "scattergl"
           }
          ],
          "scattermapbox": [
           {
            "marker": {
             "colorbar": {
              "outlinewidth": 0,
              "ticks": ""
             }
            },
            "type": "scattermapbox"
           }
          ],
          "scatterpolar": [
           {
            "marker": {
             "colorbar": {
              "outlinewidth": 0,
              "ticks": ""
             }
            },
            "type": "scatterpolar"
           }
          ],
          "scatterpolargl": [
           {
            "marker": {
             "colorbar": {
              "outlinewidth": 0,
              "ticks": ""
             }
            },
            "type": "scatterpolargl"
           }
          ],
          "scatterternary": [
           {
            "marker": {
             "colorbar": {
              "outlinewidth": 0,
              "ticks": ""
             }
            },
            "type": "scatterternary"
           }
          ],
          "surface": [
           {
            "colorbar": {
             "outlinewidth": 0,
             "ticks": ""
            },
            "colorscale": [
             [
              0,
              "#0d0887"
             ],
             [
              0.1111111111111111,
              "#46039f"
             ],
             [
              0.2222222222222222,
              "#7201a8"
             ],
             [
              0.3333333333333333,
              "#9c179e"
             ],
             [
              0.4444444444444444,
              "#bd3786"
             ],
             [
              0.5555555555555556,
              "#d8576b"
             ],
             [
              0.6666666666666666,
              "#ed7953"
             ],
             [
              0.7777777777777778,
              "#fb9f3a"
             ],
             [
              0.8888888888888888,
              "#fdca26"
             ],
             [
              1,
              "#f0f921"
             ]
            ],
            "type": "surface"
           }
          ],
          "table": [
           {
            "cells": {
             "fill": {
              "color": "#EBF0F8"
             },
             "line": {
              "color": "white"
             }
            },
            "header": {
             "fill": {
              "color": "#C8D4E3"
             },
             "line": {
              "color": "white"
             }
            },
            "type": "table"
           }
          ]
         },
         "layout": {
          "annotationdefaults": {
           "arrowcolor": "#2a3f5f",
           "arrowhead": 0,
           "arrowwidth": 1
          },
          "autotypenumbers": "strict",
          "coloraxis": {
           "colorbar": {
            "outlinewidth": 0,
            "ticks": ""
           }
          },
          "colorscale": {
           "diverging": [
            [
             0,
             "#8e0152"
            ],
            [
             0.1,
             "#c51b7d"
            ],
            [
             0.2,
             "#de77ae"
            ],
            [
             0.3,
             "#f1b6da"
            ],
            [
             0.4,
             "#fde0ef"
            ],
            [
             0.5,
             "#f7f7f7"
            ],
            [
             0.6,
             "#e6f5d0"
            ],
            [
             0.7,
             "#b8e186"
            ],
            [
             0.8,
             "#7fbc41"
            ],
            [
             0.9,
             "#4d9221"
            ],
            [
             1,
             "#276419"
            ]
           ],
           "sequential": [
            [
             0,
             "#0d0887"
            ],
            [
             0.1111111111111111,
             "#46039f"
            ],
            [
             0.2222222222222222,
             "#7201a8"
            ],
            [
             0.3333333333333333,
             "#9c179e"
            ],
            [
             0.4444444444444444,
             "#bd3786"
            ],
            [
             0.5555555555555556,
             "#d8576b"
            ],
            [
             0.6666666666666666,
             "#ed7953"
            ],
            [
             0.7777777777777778,
             "#fb9f3a"
            ],
            [
             0.8888888888888888,
             "#fdca26"
            ],
            [
             1,
             "#f0f921"
            ]
           ],
           "sequentialminus": [
            [
             0,
             "#0d0887"
            ],
            [
             0.1111111111111111,
             "#46039f"
            ],
            [
             0.2222222222222222,
             "#7201a8"
            ],
            [
             0.3333333333333333,
             "#9c179e"
            ],
            [
             0.4444444444444444,
             "#bd3786"
            ],
            [
             0.5555555555555556,
             "#d8576b"
            ],
            [
             0.6666666666666666,
             "#ed7953"
            ],
            [
             0.7777777777777778,
             "#fb9f3a"
            ],
            [
             0.8888888888888888,
             "#fdca26"
            ],
            [
             1,
             "#f0f921"
            ]
           ]
          },
          "colorway": [
           "#636efa",
           "#EF553B",
           "#00cc96",
           "#ab63fa",
           "#FFA15A",
           "#19d3f3",
           "#FF6692",
           "#B6E880",
           "#FF97FF",
           "#FECB52"
          ],
          "font": {
           "color": "#2a3f5f"
          },
          "geo": {
           "bgcolor": "white",
           "lakecolor": "white",
           "landcolor": "#E5ECF6",
           "showlakes": true,
           "showland": true,
           "subunitcolor": "white"
          },
          "hoverlabel": {
           "align": "left"
          },
          "hovermode": "closest",
          "mapbox": {
           "style": "light"
          },
          "paper_bgcolor": "white",
          "plot_bgcolor": "#E5ECF6",
          "polar": {
           "angularaxis": {
            "gridcolor": "white",
            "linecolor": "white",
            "ticks": ""
           },
           "bgcolor": "#E5ECF6",
           "radialaxis": {
            "gridcolor": "white",
            "linecolor": "white",
            "ticks": ""
           }
          },
          "scene": {
           "xaxis": {
            "backgroundcolor": "#E5ECF6",
            "gridcolor": "white",
            "gridwidth": 2,
            "linecolor": "white",
            "showbackground": true,
            "ticks": "",
            "zerolinecolor": "white"
           },
           "yaxis": {
            "backgroundcolor": "#E5ECF6",
            "gridcolor": "white",
            "gridwidth": 2,
            "linecolor": "white",
            "showbackground": true,
            "ticks": "",
            "zerolinecolor": "white"
           },
           "zaxis": {
            "backgroundcolor": "#E5ECF6",
            "gridcolor": "white",
            "gridwidth": 2,
            "linecolor": "white",
            "showbackground": true,
            "ticks": "",
            "zerolinecolor": "white"
           }
          },
          "shapedefaults": {
           "line": {
            "color": "#2a3f5f"
           }
          },
          "ternary": {
           "aaxis": {
            "gridcolor": "white",
            "linecolor": "white",
            "ticks": ""
           },
           "baxis": {
            "gridcolor": "white",
            "linecolor": "white",
            "ticks": ""
           },
           "bgcolor": "#E5ECF6",
           "caxis": {
            "gridcolor": "white",
            "linecolor": "white",
            "ticks": ""
           }
          },
          "title": {
           "x": 0.05
          },
          "xaxis": {
           "automargin": true,
           "gridcolor": "white",
           "linecolor": "white",
           "ticks": "",
           "title": {
            "standoff": 15
           },
           "zerolinecolor": "white",
           "zerolinewidth": 2
          },
          "yaxis": {
           "automargin": true,
           "gridcolor": "white",
           "linecolor": "white",
           "ticks": "",
           "title": {
            "standoff": 15
           },
           "zerolinecolor": "white",
           "zerolinewidth": 2
          }
         }
        },
        "title": {
         "text": "Palm Oil Production vs Total Tree Cover in Kalimantan (2000-2022)"
        },
        "xaxis": {
         "anchor": "y",
         "domain": [
          0,
          0.94
         ],
         "title": {
          "text": "Year"
         }
        },
        "yaxis": {
         "anchor": "x",
         "domain": [
          0,
          1
         ],
         "title": {
          "text": "Total Tree Cover (ha)"
         }
        },
        "yaxis2": {
         "anchor": "x",
         "overlaying": "y",
         "side": "right",
         "title": {
          "text": "Palm Oil Production (tonnes)"
         }
        }
       }
      }
     },
     "metadata": {},
     "output_type": "display_data"
    }
   ],
   "source": [
    "import pandas as pd\n",
    "import plotly.graph_objects as go\n",
    "from scipy import interpolate\n",
    "from plotly.subplots import make_subplots\n",
    "\n",
    "# Load palm oil production data\n",
    "palm = pd.read_csv('../Datasets/Oils/archive/cleaned/palm.csv')\n",
    "\n",
    "# Filter data for Indonesia and years >= 2000\n",
    "df_Indo = palm[(palm['Country'] == 'Indonesia') & (palm['Year'] >= 2000)]\n",
    "\n",
    "# Extract production values and years\n",
    "xi = df_Indo['Production'].values\n",
    "years_palm = df_Indo['Year'].values\n",
    "\n",
    "# Load the dataset for Kalimantan forest cover\n",
    "df = pd.read_csv('../Datasets/Deforestation/Subnational 1 tree cover loss.csv')\n",
    "\n",
    "# Filter for Kalimantan provinces and threshold == 0\n",
    "provinces = ['Kalimantan Barat', 'Kalimantan Tengah', 'Kalimantan Timur', 'Kalimantan Selatan']\n",
    "kalimantan_df = df[(df['subnational1'].isin(provinces)) & (df['threshold'] == 0)]\n",
    "\n",
    "# Calculate initial tree cover in 2000\n",
    "initial_extent_2000 = kalimantan_df['extent_2000_ha'].sum()\n",
    "\n",
    "# Calculate tree cover gain spread over 22 years\n",
    "gain_spread = (kalimantan_df['gain_2000-2020_ha'].sum() / 22)\n",
    "\n",
    "# Calculate cumulative tree cover losses from 2001 to 2022\n",
    "years_tree_cover = range(2001, 2023)\n",
    "cumulative_losses = []\n",
    "for year in years_tree_cover:\n",
    "    loss_column = f'tc_loss_ha_{year}'\n",
    "    cumulative_loss = (kalimantan_df[loss_column].sum() - gain_spread)\n",
    "    cumulative_losses.append(cumulative_loss)\n",
    "\n",
    "# Calculate total tree cover per year\n",
    "annual_tree_cover = []\n",
    "for i, year in enumerate(years_tree_cover):\n",
    "    total_tree_cover = initial_extent_2000 - sum(cumulative_losses[:i + 1])\n",
    "    annual_tree_cover.append(total_tree_cover)\n",
    "\n",
    "# Interpolate palm oil production to match the years_tree_cover\n",
    "interp_func = interpolate.interp1d(years_palm, xi, kind='linear', fill_value='extrapolate')\n",
    "xi_interpolated = interp_func(list(years_tree_cover))\n",
    "\n",
    "# Create subplots with two y-axes\n",
    "fig = make_subplots(specs=[[{\"secondary_y\": True}]])\n",
    "\n",
    "# Add total tree cover trace\n",
    "fig.add_trace(go.Scatter(x=list(years_tree_cover), y=annual_tree_cover,\n",
    "                    mode='lines',\n",
    "                    name='Total Tree Cover (Kalimantan)',\n",
    "                    line=dict(color='blue')),\n",
    "                    secondary_y=False)\n",
    "\n",
    "# Add palm oil production trace\n",
    "fig.add_trace(go.Scatter(x=list(years_tree_cover), y=xi_interpolated,\n",
    "                    mode='lines',\n",
    "                    name='Palm Oil Production (Indonesia)',\n",
    "                    line=dict(color='green')),\n",
    "                    secondary_y=True)\n",
    "\n",
    "# Update layout\n",
    "fig.update_layout(title='Palm Oil Production vs Total Tree Cover in Kalimantan (2000-2022)',\n",
    "                  xaxis_title='Year',\n",
    "                  plot_bgcolor='white')\n",
    "\n",
    "# Set y-axis titles\n",
    "fig.update_yaxes(title_text=\"Total Tree Cover (ha)\", secondary_y=False)\n",
    "fig.update_yaxes(title_text=\"Palm Oil Production (tonnes)\", secondary_y=True)\n",
    "\n",
    "# Show figure\n",
    "fig.show()\n"
   ]
  },
  {
   "cell_type": "code",
   "execution_count": 260,
   "metadata": {},
   "outputs": [
    {
     "name": "stdout",
     "output_type": "stream",
     "text": [
      "Pearson correlation between Palm Oil Production in Indonesia and Total Tree Cover in Kalimantan: -0.99\n"
     ]
    }
   ],
   "source": [
    "import pandas as pd\n",
    "\n",
    "# Load palm oil production data\n",
    "palm = pd.read_csv('../Datasets/Oils/archive/cleaned/palm.csv')\n",
    "\n",
    "# Filter data for Indonesia and years >= 2000\n",
    "df_Indo = palm[(palm['Country'] == 'Indonesia') & (palm['Year'] >= 2000)]\n",
    "\n",
    "# Extract production values\n",
    "xi = df_Indo['Production'].values\n",
    "\n",
    "# Load the dataset for Kalimantan forest cover\n",
    "df = pd.read_csv('../Datasets/Deforestation/Subnational 1 tree cover loss.csv')\n",
    "\n",
    "# Filter for Kalimantan provinces and threshold == 0\n",
    "provinces = ['Kalimantan Barat', 'Kalimantan Tengah', 'Kalimantan Timur', 'Kalimantan Selatan']\n",
    "kalimantan_df = df[(df['subnational1'].isin(provinces)) & (df['threshold'] == 0)]\n",
    "\n",
    "# Calculate initial tree cover in 2000\n",
    "initial_extent_2000 = kalimantan_df['extent_2000_ha'].sum()\n",
    "\n",
    "# Calculate tree cover gain spread over 22 years\n",
    "gain_spread = (kalimantan_df['gain_2000-2020_ha'].sum() / 22)\n",
    "\n",
    "# Calculate cumulative tree cover losses from 2001 to 2022\n",
    "years = range(2001, 2023)\n",
    "cumulative_losses = []\n",
    "for year in years:\n",
    "    loss_column = f'tc_loss_ha_{year}'\n",
    "    cumulative_loss = (kalimantan_df[loss_column].sum() - gain_spread)\n",
    "    cumulative_losses.append(cumulative_loss)\n",
    "\n",
    "# Calculate total tree cover per year\n",
    "annual_tree_cover = []\n",
    "for i, year in enumerate(years):\n",
    "    total_tree_cover = initial_extent_2000 - sum(cumulative_losses[:i + 1])\n",
    "    annual_tree_cover.append(total_tree_cover)\n",
    "\n",
    "# Calculate correlation between palm oil production and annual tree cover\n",
    "correlation = pd.Series(xi).corr(pd.Series(annual_tree_cover))\n",
    "\n",
    "print(f\"Pearson correlation between Palm Oil Production in Indonesia and Total Tree Cover in Kalimantan: {correlation:.2f}\")\n"
   ]
  },
  {
   "cell_type": "markdown",
   "metadata": {},
   "source": [
    "From this data it is evident that the production of palm oil is a mayor factor in more than 10 million hectares of tree cover loss in the Kalimantan provinces of Indonesia alone."
   ]
  },
  {
   "cell_type": "markdown",
   "metadata": {},
   "source": [
    "### Argument 2: Palm oil production emits more CO2 than other vegetable oils.\n",
    "\n",
    "From the graph below, it is clear that palm oil emits the most CO2 per kg of product of all different types of oil, up to more than double the amount."
   ]
  },
  {
   "cell_type": "code",
   "execution_count": 261,
   "metadata": {},
   "outputs": [
    {
     "data": {
      "application/vnd.plotly.v1+json": {
       "config": {
        "plotlyServerURL": "https://plot.ly"
       },
       "data": [
        {
         "marker": {
          "color": [
           "#4C78A8",
           "#F58518",
           "#E45756",
           "#72B7B2",
           "#54A24B"
          ]
         },
         "orientation": "h",
         "type": "bar",
         "x": [
          7.6,
          6,
          6,
          3.7,
          3.5
         ],
         "y": [
          "Palm Oil",
          "Soybean Oil",
          "Olive Oil",
          "Rapeseed Oil",
          "Sunflower Oil"
         ]
        }
       ],
       "layout": {
        "bargap": 0.1,
        "height": 400,
        "margin": {
         "b": 0,
         "l": 0,
         "r": 0,
         "t": 30
        },
        "template": {
         "data": {
          "bar": [
           {
            "error_x": {
             "color": "#2a3f5f"
            },
            "error_y": {
             "color": "#2a3f5f"
            },
            "marker": {
             "line": {
              "color": "#E5ECF6",
              "width": 0.5
             },
             "pattern": {
              "fillmode": "overlay",
              "size": 10,
              "solidity": 0.2
             }
            },
            "type": "bar"
           }
          ],
          "barpolar": [
           {
            "marker": {
             "line": {
              "color": "#E5ECF6",
              "width": 0.5
             },
             "pattern": {
              "fillmode": "overlay",
              "size": 10,
              "solidity": 0.2
             }
            },
            "type": "barpolar"
           }
          ],
          "carpet": [
           {
            "aaxis": {
             "endlinecolor": "#2a3f5f",
             "gridcolor": "white",
             "linecolor": "white",
             "minorgridcolor": "white",
             "startlinecolor": "#2a3f5f"
            },
            "baxis": {
             "endlinecolor": "#2a3f5f",
             "gridcolor": "white",
             "linecolor": "white",
             "minorgridcolor": "white",
             "startlinecolor": "#2a3f5f"
            },
            "type": "carpet"
           }
          ],
          "choropleth": [
           {
            "colorbar": {
             "outlinewidth": 0,
             "ticks": ""
            },
            "type": "choropleth"
           }
          ],
          "contour": [
           {
            "colorbar": {
             "outlinewidth": 0,
             "ticks": ""
            },
            "colorscale": [
             [
              0,
              "#0d0887"
             ],
             [
              0.1111111111111111,
              "#46039f"
             ],
             [
              0.2222222222222222,
              "#7201a8"
             ],
             [
              0.3333333333333333,
              "#9c179e"
             ],
             [
              0.4444444444444444,
              "#bd3786"
             ],
             [
              0.5555555555555556,
              "#d8576b"
             ],
             [
              0.6666666666666666,
              "#ed7953"
             ],
             [
              0.7777777777777778,
              "#fb9f3a"
             ],
             [
              0.8888888888888888,
              "#fdca26"
             ],
             [
              1,
              "#f0f921"
             ]
            ],
            "type": "contour"
           }
          ],
          "contourcarpet": [
           {
            "colorbar": {
             "outlinewidth": 0,
             "ticks": ""
            },
            "type": "contourcarpet"
           }
          ],
          "heatmap": [
           {
            "colorbar": {
             "outlinewidth": 0,
             "ticks": ""
            },
            "colorscale": [
             [
              0,
              "#0d0887"
             ],
             [
              0.1111111111111111,
              "#46039f"
             ],
             [
              0.2222222222222222,
              "#7201a8"
             ],
             [
              0.3333333333333333,
              "#9c179e"
             ],
             [
              0.4444444444444444,
              "#bd3786"
             ],
             [
              0.5555555555555556,
              "#d8576b"
             ],
             [
              0.6666666666666666,
              "#ed7953"
             ],
             [
              0.7777777777777778,
              "#fb9f3a"
             ],
             [
              0.8888888888888888,
              "#fdca26"
             ],
             [
              1,
              "#f0f921"
             ]
            ],
            "type": "heatmap"
           }
          ],
          "heatmapgl": [
           {
            "colorbar": {
             "outlinewidth": 0,
             "ticks": ""
            },
            "colorscale": [
             [
              0,
              "#0d0887"
             ],
             [
              0.1111111111111111,
              "#46039f"
             ],
             [
              0.2222222222222222,
              "#7201a8"
             ],
             [
              0.3333333333333333,
              "#9c179e"
             ],
             [
              0.4444444444444444,
              "#bd3786"
             ],
             [
              0.5555555555555556,
              "#d8576b"
             ],
             [
              0.6666666666666666,
              "#ed7953"
             ],
             [
              0.7777777777777778,
              "#fb9f3a"
             ],
             [
              0.8888888888888888,
              "#fdca26"
             ],
             [
              1,
              "#f0f921"
             ]
            ],
            "type": "heatmapgl"
           }
          ],
          "histogram": [
           {
            "marker": {
             "pattern": {
              "fillmode": "overlay",
              "size": 10,
              "solidity": 0.2
             }
            },
            "type": "histogram"
           }
          ],
          "histogram2d": [
           {
            "colorbar": {
             "outlinewidth": 0,
             "ticks": ""
            },
            "colorscale": [
             [
              0,
              "#0d0887"
             ],
             [
              0.1111111111111111,
              "#46039f"
             ],
             [
              0.2222222222222222,
              "#7201a8"
             ],
             [
              0.3333333333333333,
              "#9c179e"
             ],
             [
              0.4444444444444444,
              "#bd3786"
             ],
             [
              0.5555555555555556,
              "#d8576b"
             ],
             [
              0.6666666666666666,
              "#ed7953"
             ],
             [
              0.7777777777777778,
              "#fb9f3a"
             ],
             [
              0.8888888888888888,
              "#fdca26"
             ],
             [
              1,
              "#f0f921"
             ]
            ],
            "type": "histogram2d"
           }
          ],
          "histogram2dcontour": [
           {
            "colorbar": {
             "outlinewidth": 0,
             "ticks": ""
            },
            "colorscale": [
             [
              0,
              "#0d0887"
             ],
             [
              0.1111111111111111,
              "#46039f"
             ],
             [
              0.2222222222222222,
              "#7201a8"
             ],
             [
              0.3333333333333333,
              "#9c179e"
             ],
             [
              0.4444444444444444,
              "#bd3786"
             ],
             [
              0.5555555555555556,
              "#d8576b"
             ],
             [
              0.6666666666666666,
              "#ed7953"
             ],
             [
              0.7777777777777778,
              "#fb9f3a"
             ],
             [
              0.8888888888888888,
              "#fdca26"
             ],
             [
              1,
              "#f0f921"
             ]
            ],
            "type": "histogram2dcontour"
           }
          ],
          "mesh3d": [
           {
            "colorbar": {
             "outlinewidth": 0,
             "ticks": ""
            },
            "type": "mesh3d"
           }
          ],
          "parcoords": [
           {
            "line": {
             "colorbar": {
              "outlinewidth": 0,
              "ticks": ""
             }
            },
            "type": "parcoords"
           }
          ],
          "pie": [
           {
            "automargin": true,
            "type": "pie"
           }
          ],
          "scatter": [
           {
            "fillpattern": {
             "fillmode": "overlay",
             "size": 10,
             "solidity": 0.2
            },
            "type": "scatter"
           }
          ],
          "scatter3d": [
           {
            "line": {
             "colorbar": {
              "outlinewidth": 0,
              "ticks": ""
             }
            },
            "marker": {
             "colorbar": {
              "outlinewidth": 0,
              "ticks": ""
             }
            },
            "type": "scatter3d"
           }
          ],
          "scattercarpet": [
           {
            "marker": {
             "colorbar": {
              "outlinewidth": 0,
              "ticks": ""
             }
            },
            "type": "scattercarpet"
           }
          ],
          "scattergeo": [
           {
            "marker": {
             "colorbar": {
              "outlinewidth": 0,
              "ticks": ""
             }
            },
            "type": "scattergeo"
           }
          ],
          "scattergl": [
           {
            "marker": {
             "colorbar": {
              "outlinewidth": 0,
              "ticks": ""
             }
            },
            "type": "scattergl"
           }
          ],
          "scattermapbox": [
           {
            "marker": {
             "colorbar": {
              "outlinewidth": 0,
              "ticks": ""
             }
            },
            "type": "scattermapbox"
           }
          ],
          "scatterpolar": [
           {
            "marker": {
             "colorbar": {
              "outlinewidth": 0,
              "ticks": ""
             }
            },
            "type": "scatterpolar"
           }
          ],
          "scatterpolargl": [
           {
            "marker": {
             "colorbar": {
              "outlinewidth": 0,
              "ticks": ""
             }
            },
            "type": "scatterpolargl"
           }
          ],
          "scatterternary": [
           {
            "marker": {
             "colorbar": {
              "outlinewidth": 0,
              "ticks": ""
             }
            },
            "type": "scatterternary"
           }
          ],
          "surface": [
           {
            "colorbar": {
             "outlinewidth": 0,
             "ticks": ""
            },
            "colorscale": [
             [
              0,
              "#0d0887"
             ],
             [
              0.1111111111111111,
              "#46039f"
             ],
             [
              0.2222222222222222,
              "#7201a8"
             ],
             [
              0.3333333333333333,
              "#9c179e"
             ],
             [
              0.4444444444444444,
              "#bd3786"
             ],
             [
              0.5555555555555556,
              "#d8576b"
             ],
             [
              0.6666666666666666,
              "#ed7953"
             ],
             [
              0.7777777777777778,
              "#fb9f3a"
             ],
             [
              0.8888888888888888,
              "#fdca26"
             ],
             [
              1,
              "#f0f921"
             ]
            ],
            "type": "surface"
           }
          ],
          "table": [
           {
            "cells": {
             "fill": {
              "color": "#EBF0F8"
             },
             "line": {
              "color": "white"
             }
            },
            "header": {
             "fill": {
              "color": "#C8D4E3"
             },
             "line": {
              "color": "white"
             }
            },
            "type": "table"
           }
          ]
         },
         "layout": {
          "annotationdefaults": {
           "arrowcolor": "#2a3f5f",
           "arrowhead": 0,
           "arrowwidth": 1
          },
          "autotypenumbers": "strict",
          "coloraxis": {
           "colorbar": {
            "outlinewidth": 0,
            "ticks": ""
           }
          },
          "colorscale": {
           "diverging": [
            [
             0,
             "#8e0152"
            ],
            [
             0.1,
             "#c51b7d"
            ],
            [
             0.2,
             "#de77ae"
            ],
            [
             0.3,
             "#f1b6da"
            ],
            [
             0.4,
             "#fde0ef"
            ],
            [
             0.5,
             "#f7f7f7"
            ],
            [
             0.6,
             "#e6f5d0"
            ],
            [
             0.7,
             "#b8e186"
            ],
            [
             0.8,
             "#7fbc41"
            ],
            [
             0.9,
             "#4d9221"
            ],
            [
             1,
             "#276419"
            ]
           ],
           "sequential": [
            [
             0,
             "#0d0887"
            ],
            [
             0.1111111111111111,
             "#46039f"
            ],
            [
             0.2222222222222222,
             "#7201a8"
            ],
            [
             0.3333333333333333,
             "#9c179e"
            ],
            [
             0.4444444444444444,
             "#bd3786"
            ],
            [
             0.5555555555555556,
             "#d8576b"
            ],
            [
             0.6666666666666666,
             "#ed7953"
            ],
            [
             0.7777777777777778,
             "#fb9f3a"
            ],
            [
             0.8888888888888888,
             "#fdca26"
            ],
            [
             1,
             "#f0f921"
            ]
           ],
           "sequentialminus": [
            [
             0,
             "#0d0887"
            ],
            [
             0.1111111111111111,
             "#46039f"
            ],
            [
             0.2222222222222222,
             "#7201a8"
            ],
            [
             0.3333333333333333,
             "#9c179e"
            ],
            [
             0.4444444444444444,
             "#bd3786"
            ],
            [
             0.5555555555555556,
             "#d8576b"
            ],
            [
             0.6666666666666666,
             "#ed7953"
            ],
            [
             0.7777777777777778,
             "#fb9f3a"
            ],
            [
             0.8888888888888888,
             "#fdca26"
            ],
            [
             1,
             "#f0f921"
            ]
           ]
          },
          "colorway": [
           "#636efa",
           "#EF553B",
           "#00cc96",
           "#ab63fa",
           "#FFA15A",
           "#19d3f3",
           "#FF6692",
           "#B6E880",
           "#FF97FF",
           "#FECB52"
          ],
          "font": {
           "color": "#2a3f5f"
          },
          "geo": {
           "bgcolor": "white",
           "lakecolor": "white",
           "landcolor": "#E5ECF6",
           "showlakes": true,
           "showland": true,
           "subunitcolor": "white"
          },
          "hoverlabel": {
           "align": "left"
          },
          "hovermode": "closest",
          "mapbox": {
           "style": "light"
          },
          "paper_bgcolor": "white",
          "plot_bgcolor": "#E5ECF6",
          "polar": {
           "angularaxis": {
            "gridcolor": "white",
            "linecolor": "white",
            "ticks": ""
           },
           "bgcolor": "#E5ECF6",
           "radialaxis": {
            "gridcolor": "white",
            "linecolor": "white",
            "ticks": ""
           }
          },
          "scene": {
           "xaxis": {
            "backgroundcolor": "#E5ECF6",
            "gridcolor": "white",
            "gridwidth": 2,
            "linecolor": "white",
            "showbackground": true,
            "ticks": "",
            "zerolinecolor": "white"
           },
           "yaxis": {
            "backgroundcolor": "#E5ECF6",
            "gridcolor": "white",
            "gridwidth": 2,
            "linecolor": "white",
            "showbackground": true,
            "ticks": "",
            "zerolinecolor": "white"
           },
           "zaxis": {
            "backgroundcolor": "#E5ECF6",
            "gridcolor": "white",
            "gridwidth": 2,
            "linecolor": "white",
            "showbackground": true,
            "ticks": "",
            "zerolinecolor": "white"
           }
          },
          "shapedefaults": {
           "line": {
            "color": "#2a3f5f"
           }
          },
          "ternary": {
           "aaxis": {
            "gridcolor": "white",
            "linecolor": "white",
            "ticks": ""
           },
           "baxis": {
            "gridcolor": "white",
            "linecolor": "white",
            "ticks": ""
           },
           "bgcolor": "#E5ECF6",
           "caxis": {
            "gridcolor": "white",
            "linecolor": "white",
            "ticks": ""
           }
          },
          "title": {
           "x": 0.05
          },
          "xaxis": {
           "automargin": true,
           "gridcolor": "white",
           "linecolor": "white",
           "ticks": "",
           "title": {
            "standoff": 15
           },
           "zerolinecolor": "white",
           "zerolinewidth": 2
          },
          "yaxis": {
           "automargin": true,
           "gridcolor": "white",
           "linecolor": "white",
           "ticks": "",
           "title": {
            "standoff": 15
           },
           "zerolinecolor": "white",
           "zerolinewidth": 2
          }
         }
        },
        "title": {
         "text": "Greenhouse gas total emissions per food product"
        },
        "xaxis": {
         "title": {
          "text": "Total emissions [Kg CO2 - equivalents per kg product]"
         }
        },
        "yaxis": {
         "automargin": true,
         "title": {
          "text": "Food Product"
         }
        }
       }
      }
     },
     "metadata": {},
     "output_type": "display_data"
    }
   ],
   "source": [
    "import pandas as pd\n",
    "import plotly.graph_objects as go\n",
    "\n",
    "# Read the dataset\n",
    "fp_raw = pd.read_csv('../Datasets/Food_Production.csv')\n",
    "\n",
    "# List of oils\n",
    "oils = [oil for oil in fp_raw['Food product'] if 'Oil' in oil]\n",
    "\n",
    "# Sort the table\n",
    "data1 = fp_raw[fp_raw['Food product'].isin(oils)].sort_values(by=['Total_emissions'], ascending=False)\n",
    "\n",
    "# Define colors for the bars\n",
    "colors = px.colors.qualitative.T10[:len(data1)]\n",
    "\n",
    "# Create Plotly figure\n",
    "fig = go.Figure()\n",
    "\n",
    "fig.add_trace(go.Bar(\n",
    "    y=data1['Food product'],\n",
    "    x=data1['Total_emissions'],\n",
    "    orientation='h',\n",
    "    marker_color=colors,\n",
    "))\n",
    "\n",
    "# Update layout\n",
    "fig.update_layout(\n",
    "    title='Greenhouse gas total emissions per food product',\n",
    "    xaxis_title='Total emissions [Kg CO2 - equivalents per kg product]',\n",
    "    yaxis_title='Food Product',\n",
    "    height=400,\n",
    "    yaxis=dict(automargin=True),  # Ensure labels fit\n",
    "    bargap=0.1,  # Gap between bars\n",
    "    margin=dict(l=0, r=0, t=30, b=0),  # Adjust margins for better appearance\n",
    ")\n",
    "\n",
    "# Show plot\n",
    "fig.show()\n"
   ]
  },
  {
   "cell_type": "markdown",
   "metadata": {},
   "source": [
    "This is mainly due to the land use change as we can see in the graph below. This is caused by the peat soil being exposed after deforestation, allowing oxigen in, which leads to oxidation of the soil (_Manning, F. C. et al, 2019_)."
   ]
  },
  {
   "cell_type": "code",
   "execution_count": 265,
   "metadata": {},
   "outputs": [
    {
     "data": {
      "application/vnd.plotly.v1+json": {
       "config": {
        "plotlyServerURL": "https://plot.ly"
       },
       "data": [
        {
         "marker": {
          "color": "#4C78A8"
         },
         "name": "Land use change",
         "orientation": "h",
         "type": "bar",
         "x": [
          0.1,
          0.2,
          0,
          3.1,
          3.1
         ],
         "y": [
          "Sunflower Oil",
          "Rapeseed Oil",
          "Olive Oil",
          "Soybean Oil",
          "Palm Oil"
         ]
        },
        {
         "marker": {
          "color": "#F58518"
         },
         "name": "Farm",
         "orientation": "h",
         "type": "bar",
         "x": [
          2.1,
          2.3,
          3.9,
          1.5,
          2.1
         ],
         "y": [
          "Sunflower Oil",
          "Rapeseed Oil",
          "Olive Oil",
          "Soybean Oil",
          "Palm Oil"
         ]
        },
        {
         "marker": {
          "color": "#E45756"
         },
         "name": "Processing",
         "orientation": "h",
         "type": "bar",
         "x": [
          0.2,
          0.2,
          0.7,
          0.3,
          1.3
         ],
         "y": [
          "Sunflower Oil",
          "Rapeseed Oil",
          "Olive Oil",
          "Soybean Oil",
          "Palm Oil"
         ]
        },
        {
         "marker": {
          "color": "#72B7B2"
         },
         "name": "Transport",
         "orientation": "h",
         "type": "bar",
         "x": [
          0.2,
          0.2,
          0.5,
          0.3,
          0.2
         ],
         "y": [
          "Sunflower Oil",
          "Rapeseed Oil",
          "Olive Oil",
          "Soybean Oil",
          "Palm Oil"
         ]
        },
        {
         "marker": {
          "color": "#54A24B"
         },
         "name": "Packging",
         "orientation": "h",
         "type": "bar",
         "x": [
          0.9,
          0.8,
          0.9,
          0.8,
          0.9
         ],
         "y": [
          "Sunflower Oil",
          "Rapeseed Oil",
          "Olive Oil",
          "Soybean Oil",
          "Palm Oil"
         ]
        }
       ],
       "layout": {
        "barmode": "stack",
        "height": 600,
        "hovermode": "closest",
        "margin": {
         "l": 200
        },
        "showlegend": true,
        "template": {
         "data": {
          "bar": [
           {
            "error_x": {
             "color": "#2a3f5f"
            },
            "error_y": {
             "color": "#2a3f5f"
            },
            "marker": {
             "line": {
              "color": "#E5ECF6",
              "width": 0.5
             },
             "pattern": {
              "fillmode": "overlay",
              "size": 10,
              "solidity": 0.2
             }
            },
            "type": "bar"
           }
          ],
          "barpolar": [
           {
            "marker": {
             "line": {
              "color": "#E5ECF6",
              "width": 0.5
             },
             "pattern": {
              "fillmode": "overlay",
              "size": 10,
              "solidity": 0.2
             }
            },
            "type": "barpolar"
           }
          ],
          "carpet": [
           {
            "aaxis": {
             "endlinecolor": "#2a3f5f",
             "gridcolor": "white",
             "linecolor": "white",
             "minorgridcolor": "white",
             "startlinecolor": "#2a3f5f"
            },
            "baxis": {
             "endlinecolor": "#2a3f5f",
             "gridcolor": "white",
             "linecolor": "white",
             "minorgridcolor": "white",
             "startlinecolor": "#2a3f5f"
            },
            "type": "carpet"
           }
          ],
          "choropleth": [
           {
            "colorbar": {
             "outlinewidth": 0,
             "ticks": ""
            },
            "type": "choropleth"
           }
          ],
          "contour": [
           {
            "colorbar": {
             "outlinewidth": 0,
             "ticks": ""
            },
            "colorscale": [
             [
              0,
              "#0d0887"
             ],
             [
              0.1111111111111111,
              "#46039f"
             ],
             [
              0.2222222222222222,
              "#7201a8"
             ],
             [
              0.3333333333333333,
              "#9c179e"
             ],
             [
              0.4444444444444444,
              "#bd3786"
             ],
             [
              0.5555555555555556,
              "#d8576b"
             ],
             [
              0.6666666666666666,
              "#ed7953"
             ],
             [
              0.7777777777777778,
              "#fb9f3a"
             ],
             [
              0.8888888888888888,
              "#fdca26"
             ],
             [
              1,
              "#f0f921"
             ]
            ],
            "type": "contour"
           }
          ],
          "contourcarpet": [
           {
            "colorbar": {
             "outlinewidth": 0,
             "ticks": ""
            },
            "type": "contourcarpet"
           }
          ],
          "heatmap": [
           {
            "colorbar": {
             "outlinewidth": 0,
             "ticks": ""
            },
            "colorscale": [
             [
              0,
              "#0d0887"
             ],
             [
              0.1111111111111111,
              "#46039f"
             ],
             [
              0.2222222222222222,
              "#7201a8"
             ],
             [
              0.3333333333333333,
              "#9c179e"
             ],
             [
              0.4444444444444444,
              "#bd3786"
             ],
             [
              0.5555555555555556,
              "#d8576b"
             ],
             [
              0.6666666666666666,
              "#ed7953"
             ],
             [
              0.7777777777777778,
              "#fb9f3a"
             ],
             [
              0.8888888888888888,
              "#fdca26"
             ],
             [
              1,
              "#f0f921"
             ]
            ],
            "type": "heatmap"
           }
          ],
          "heatmapgl": [
           {
            "colorbar": {
             "outlinewidth": 0,
             "ticks": ""
            },
            "colorscale": [
             [
              0,
              "#0d0887"
             ],
             [
              0.1111111111111111,
              "#46039f"
             ],
             [
              0.2222222222222222,
              "#7201a8"
             ],
             [
              0.3333333333333333,
              "#9c179e"
             ],
             [
              0.4444444444444444,
              "#bd3786"
             ],
             [
              0.5555555555555556,
              "#d8576b"
             ],
             [
              0.6666666666666666,
              "#ed7953"
             ],
             [
              0.7777777777777778,
              "#fb9f3a"
             ],
             [
              0.8888888888888888,
              "#fdca26"
             ],
             [
              1,
              "#f0f921"
             ]
            ],
            "type": "heatmapgl"
           }
          ],
          "histogram": [
           {
            "marker": {
             "pattern": {
              "fillmode": "overlay",
              "size": 10,
              "solidity": 0.2
             }
            },
            "type": "histogram"
           }
          ],
          "histogram2d": [
           {
            "colorbar": {
             "outlinewidth": 0,
             "ticks": ""
            },
            "colorscale": [
             [
              0,
              "#0d0887"
             ],
             [
              0.1111111111111111,
              "#46039f"
             ],
             [
              0.2222222222222222,
              "#7201a8"
             ],
             [
              0.3333333333333333,
              "#9c179e"
             ],
             [
              0.4444444444444444,
              "#bd3786"
             ],
             [
              0.5555555555555556,
              "#d8576b"
             ],
             [
              0.6666666666666666,
              "#ed7953"
             ],
             [
              0.7777777777777778,
              "#fb9f3a"
             ],
             [
              0.8888888888888888,
              "#fdca26"
             ],
             [
              1,
              "#f0f921"
             ]
            ],
            "type": "histogram2d"
           }
          ],
          "histogram2dcontour": [
           {
            "colorbar": {
             "outlinewidth": 0,
             "ticks": ""
            },
            "colorscale": [
             [
              0,
              "#0d0887"
             ],
             [
              0.1111111111111111,
              "#46039f"
             ],
             [
              0.2222222222222222,
              "#7201a8"
             ],
             [
              0.3333333333333333,
              "#9c179e"
             ],
             [
              0.4444444444444444,
              "#bd3786"
             ],
             [
              0.5555555555555556,
              "#d8576b"
             ],
             [
              0.6666666666666666,
              "#ed7953"
             ],
             [
              0.7777777777777778,
              "#fb9f3a"
             ],
             [
              0.8888888888888888,
              "#fdca26"
             ],
             [
              1,
              "#f0f921"
             ]
            ],
            "type": "histogram2dcontour"
           }
          ],
          "mesh3d": [
           {
            "colorbar": {
             "outlinewidth": 0,
             "ticks": ""
            },
            "type": "mesh3d"
           }
          ],
          "parcoords": [
           {
            "line": {
             "colorbar": {
              "outlinewidth": 0,
              "ticks": ""
             }
            },
            "type": "parcoords"
           }
          ],
          "pie": [
           {
            "automargin": true,
            "type": "pie"
           }
          ],
          "scatter": [
           {
            "fillpattern": {
             "fillmode": "overlay",
             "size": 10,
             "solidity": 0.2
            },
            "type": "scatter"
           }
          ],
          "scatter3d": [
           {
            "line": {
             "colorbar": {
              "outlinewidth": 0,
              "ticks": ""
             }
            },
            "marker": {
             "colorbar": {
              "outlinewidth": 0,
              "ticks": ""
             }
            },
            "type": "scatter3d"
           }
          ],
          "scattercarpet": [
           {
            "marker": {
             "colorbar": {
              "outlinewidth": 0,
              "ticks": ""
             }
            },
            "type": "scattercarpet"
           }
          ],
          "scattergeo": [
           {
            "marker": {
             "colorbar": {
              "outlinewidth": 0,
              "ticks": ""
             }
            },
            "type": "scattergeo"
           }
          ],
          "scattergl": [
           {
            "marker": {
             "colorbar": {
              "outlinewidth": 0,
              "ticks": ""
             }
            },
            "type": "scattergl"
           }
          ],
          "scattermapbox": [
           {
            "marker": {
             "colorbar": {
              "outlinewidth": 0,
              "ticks": ""
             }
            },
            "type": "scattermapbox"
           }
          ],
          "scatterpolar": [
           {
            "marker": {
             "colorbar": {
              "outlinewidth": 0,
              "ticks": ""
             }
            },
            "type": "scatterpolar"
           }
          ],
          "scatterpolargl": [
           {
            "marker": {
             "colorbar": {
              "outlinewidth": 0,
              "ticks": ""
             }
            },
            "type": "scatterpolargl"
           }
          ],
          "scatterternary": [
           {
            "marker": {
             "colorbar": {
              "outlinewidth": 0,
              "ticks": ""
             }
            },
            "type": "scatterternary"
           }
          ],
          "surface": [
           {
            "colorbar": {
             "outlinewidth": 0,
             "ticks": ""
            },
            "colorscale": [
             [
              0,
              "#0d0887"
             ],
             [
              0.1111111111111111,
              "#46039f"
             ],
             [
              0.2222222222222222,
              "#7201a8"
             ],
             [
              0.3333333333333333,
              "#9c179e"
             ],
             [
              0.4444444444444444,
              "#bd3786"
             ],
             [
              0.5555555555555556,
              "#d8576b"
             ],
             [
              0.6666666666666666,
              "#ed7953"
             ],
             [
              0.7777777777777778,
              "#fb9f3a"
             ],
             [
              0.8888888888888888,
              "#fdca26"
             ],
             [
              1,
              "#f0f921"
             ]
            ],
            "type": "surface"
           }
          ],
          "table": [
           {
            "cells": {
             "fill": {
              "color": "#EBF0F8"
             },
             "line": {
              "color": "white"
             }
            },
            "header": {
             "fill": {
              "color": "#C8D4E3"
             },
             "line": {
              "color": "white"
             }
            },
            "type": "table"
           }
          ]
         },
         "layout": {
          "annotationdefaults": {
           "arrowcolor": "#2a3f5f",
           "arrowhead": 0,
           "arrowwidth": 1
          },
          "autotypenumbers": "strict",
          "coloraxis": {
           "colorbar": {
            "outlinewidth": 0,
            "ticks": ""
           }
          },
          "colorscale": {
           "diverging": [
            [
             0,
             "#8e0152"
            ],
            [
             0.1,
             "#c51b7d"
            ],
            [
             0.2,
             "#de77ae"
            ],
            [
             0.3,
             "#f1b6da"
            ],
            [
             0.4,
             "#fde0ef"
            ],
            [
             0.5,
             "#f7f7f7"
            ],
            [
             0.6,
             "#e6f5d0"
            ],
            [
             0.7,
             "#b8e186"
            ],
            [
             0.8,
             "#7fbc41"
            ],
            [
             0.9,
             "#4d9221"
            ],
            [
             1,
             "#276419"
            ]
           ],
           "sequential": [
            [
             0,
             "#0d0887"
            ],
            [
             0.1111111111111111,
             "#46039f"
            ],
            [
             0.2222222222222222,
             "#7201a8"
            ],
            [
             0.3333333333333333,
             "#9c179e"
            ],
            [
             0.4444444444444444,
             "#bd3786"
            ],
            [
             0.5555555555555556,
             "#d8576b"
            ],
            [
             0.6666666666666666,
             "#ed7953"
            ],
            [
             0.7777777777777778,
             "#fb9f3a"
            ],
            [
             0.8888888888888888,
             "#fdca26"
            ],
            [
             1,
             "#f0f921"
            ]
           ],
           "sequentialminus": [
            [
             0,
             "#0d0887"
            ],
            [
             0.1111111111111111,
             "#46039f"
            ],
            [
             0.2222222222222222,
             "#7201a8"
            ],
            [
             0.3333333333333333,
             "#9c179e"
            ],
            [
             0.4444444444444444,
             "#bd3786"
            ],
            [
             0.5555555555555556,
             "#d8576b"
            ],
            [
             0.6666666666666666,
             "#ed7953"
            ],
            [
             0.7777777777777778,
             "#fb9f3a"
            ],
            [
             0.8888888888888888,
             "#fdca26"
            ],
            [
             1,
             "#f0f921"
            ]
           ]
          },
          "colorway": [
           "#636efa",
           "#EF553B",
           "#00cc96",
           "#ab63fa",
           "#FFA15A",
           "#19d3f3",
           "#FF6692",
           "#B6E880",
           "#FF97FF",
           "#FECB52"
          ],
          "font": {
           "color": "#2a3f5f"
          },
          "geo": {
           "bgcolor": "white",
           "lakecolor": "white",
           "landcolor": "#E5ECF6",
           "showlakes": true,
           "showland": true,
           "subunitcolor": "white"
          },
          "hoverlabel": {
           "align": "left"
          },
          "hovermode": "closest",
          "mapbox": {
           "style": "light"
          },
          "paper_bgcolor": "white",
          "plot_bgcolor": "#E5ECF6",
          "polar": {
           "angularaxis": {
            "gridcolor": "white",
            "linecolor": "white",
            "ticks": ""
           },
           "bgcolor": "#E5ECF6",
           "radialaxis": {
            "gridcolor": "white",
            "linecolor": "white",
            "ticks": ""
           }
          },
          "scene": {
           "xaxis": {
            "backgroundcolor": "#E5ECF6",
            "gridcolor": "white",
            "gridwidth": 2,
            "linecolor": "white",
            "showbackground": true,
            "ticks": "",
            "zerolinecolor": "white"
           },
           "yaxis": {
            "backgroundcolor": "#E5ECF6",
            "gridcolor": "white",
            "gridwidth": 2,
            "linecolor": "white",
            "showbackground": true,
            "ticks": "",
            "zerolinecolor": "white"
           },
           "zaxis": {
            "backgroundcolor": "#E5ECF6",
            "gridcolor": "white",
            "gridwidth": 2,
            "linecolor": "white",
            "showbackground": true,
            "ticks": "",
            "zerolinecolor": "white"
           }
          },
          "shapedefaults": {
           "line": {
            "color": "#2a3f5f"
           }
          },
          "ternary": {
           "aaxis": {
            "gridcolor": "white",
            "linecolor": "white",
            "ticks": ""
           },
           "baxis": {
            "gridcolor": "white",
            "linecolor": "white",
            "ticks": ""
           },
           "bgcolor": "#E5ECF6",
           "caxis": {
            "gridcolor": "white",
            "linecolor": "white",
            "ticks": ""
           }
          },
          "title": {
           "x": 0.05
          },
          "xaxis": {
           "automargin": true,
           "gridcolor": "white",
           "linecolor": "white",
           "ticks": "",
           "title": {
            "standoff": 15
           },
           "zerolinecolor": "white",
           "zerolinewidth": 2
          },
          "yaxis": {
           "automargin": true,
           "gridcolor": "white",
           "linecolor": "white",
           "ticks": "",
           "title": {
            "standoff": 15
           },
           "zerolinecolor": "white",
           "zerolinewidth": 2
          }
         }
        },
        "title": {
         "text": "Greenhouse gas emissions across stages of oil production lifecycle"
        },
        "xaxis": {
         "title": {
          "text": "Emissions [Kg CO2 - equivalents per kg product]"
         }
        },
        "yaxis": {
         "title": {
          "text": "Oil Type"
         }
        }
       }
      }
     },
     "metadata": {},
     "output_type": "display_data"
    }
   ],
   "source": [
    "import pandas as pd\n",
    "import plotly.graph_objs as go\n",
    "import plotly.express as px\n",
    "\n",
    "# Load your dataset\n",
    "fp_raw = pd.read_csv('../Datasets/Food_Production.csv')\n",
    "\n",
    "# Filter for oils\n",
    "oils = fp_raw[fp_raw['Food product'].str.contains('Oil')]\n",
    "\n",
    "# Specify the order of oils\n",
    "oil_order = ['Sunflower Oil', 'Rapeseed Oil', 'Olive Oil', 'Soybean Oil', 'Palm Oil']\n",
    "\n",
    "# Set the order in the DataFrame\n",
    "oils['Food product'] = pd.Categorical(oils['Food product'], categories=oil_order, ordered=True)\n",
    "oils = oils.sort_values(by='Food product')\n",
    "\n",
    "# Select relevant columns for plotting\n",
    "data2 = oils.iloc[:, [0, 1, 2, 3, 4, 5]]  # Assuming columns 1 to 5 are the stages of emissions\n",
    "\n",
    "# Define colors for each stage based on provided color palette\n",
    "colors = px.colors.qualitative.T10[:len(data2.columns[1:])]\n",
    "\n",
    "# Create traces for each stage\n",
    "traces = []\n",
    "for i, stage in enumerate(data2.columns[1:]):\n",
    "    trace = go.Bar(\n",
    "        y=data2['Food product'],\n",
    "        x=data2[stage],\n",
    "        name=stage,\n",
    "        orientation='h',\n",
    "        marker=dict(color=colors[i])\n",
    "    )\n",
    "    traces.append(trace)\n",
    "\n",
    "# Layout settings\n",
    "layout = go.Layout(\n",
    "    title='Greenhouse gas emissions across stages of oil production lifecycle',\n",
    "    barmode='stack',\n",
    "    yaxis=dict(title='Oil Type'),\n",
    "    xaxis=dict(title='Emissions [Kg CO2 - equivalents per kg product]'),\n",
    "    margin=dict(l=200),  # Adjust left margin to accommodate food product labels\n",
    "    height=600,  # Adjust height as needed\n",
    "    hovermode='closest',\n",
    "    showlegend=True\n",
    ")\n",
    "\n",
    "# Create figure object\n",
    "fig = go.Figure(data=traces, layout=layout)\n",
    "\n",
    "# Display the plot\n",
    "fig.show()\n"
   ]
  },
  {
   "cell_type": "markdown",
   "metadata": {},
   "source": [
    "## Perspective 2: The problem is with global demand for vegetable oil, not palm oil\n",
    "\n",
    "The solution seems straightforward: stop using palm oil. However, the solution might be a little more counter-intuitive. In fact, palm oil has some environmental benefits, especially its high yield per hectare. Looking at the chart below, it's clear that other oils require much more land to produce the same amount, with the next best already using 4 times as much area. So, replacing palm oil with other types could lead to more deforestation and all the problems that come with it."
   ]
  },
  {
   "cell_type": "code",
   "execution_count": 263,
   "metadata": {},
   "outputs": [
    {
     "data": {
      "application/vnd.plotly.v1+json": {
       "config": {
        "plotlyServerURL": "https://plot.ly"
       },
       "data": [
        {
         "marker": {
          "color": [
           "#4C78A8",
           "#F58518",
           "#E45756",
           "#72B7B2",
           "#54A24B",
           "#EECA3B",
           "#B279A2",
           "#FF9DA6",
           "#9D755D"
          ]
         },
         "orientation": "h",
         "type": "bar",
         "x": [
          2.9909072,
          0.7332533,
          0.6281971,
          0.4718957,
          0.3241613,
          0.24315979,
          0.14546034,
          0.13188249,
          0.07831836
         ],
         "y": [
          "Oil Palm",
          "Rapeseed",
          "Sunflower",
          "Soybean",
          "Olive",
          "Coconut",
          "Groundnut",
          "Cottonseed",
          "Sesame"
         ]
        }
       ],
       "layout": {
        "height": 600,
        "margin": {
         "b": 0,
         "l": 0,
         "r": 0,
         "t": 30
        },
        "template": {
         "data": {
          "bar": [
           {
            "error_x": {
             "color": "#2a3f5f"
            },
            "error_y": {
             "color": "#2a3f5f"
            },
            "marker": {
             "line": {
              "color": "#E5ECF6",
              "width": 0.5
             },
             "pattern": {
              "fillmode": "overlay",
              "size": 10,
              "solidity": 0.2
             }
            },
            "type": "bar"
           }
          ],
          "barpolar": [
           {
            "marker": {
             "line": {
              "color": "#E5ECF6",
              "width": 0.5
             },
             "pattern": {
              "fillmode": "overlay",
              "size": 10,
              "solidity": 0.2
             }
            },
            "type": "barpolar"
           }
          ],
          "carpet": [
           {
            "aaxis": {
             "endlinecolor": "#2a3f5f",
             "gridcolor": "white",
             "linecolor": "white",
             "minorgridcolor": "white",
             "startlinecolor": "#2a3f5f"
            },
            "baxis": {
             "endlinecolor": "#2a3f5f",
             "gridcolor": "white",
             "linecolor": "white",
             "minorgridcolor": "white",
             "startlinecolor": "#2a3f5f"
            },
            "type": "carpet"
           }
          ],
          "choropleth": [
           {
            "colorbar": {
             "outlinewidth": 0,
             "ticks": ""
            },
            "type": "choropleth"
           }
          ],
          "contour": [
           {
            "colorbar": {
             "outlinewidth": 0,
             "ticks": ""
            },
            "colorscale": [
             [
              0,
              "#0d0887"
             ],
             [
              0.1111111111111111,
              "#46039f"
             ],
             [
              0.2222222222222222,
              "#7201a8"
             ],
             [
              0.3333333333333333,
              "#9c179e"
             ],
             [
              0.4444444444444444,
              "#bd3786"
             ],
             [
              0.5555555555555556,
              "#d8576b"
             ],
             [
              0.6666666666666666,
              "#ed7953"
             ],
             [
              0.7777777777777778,
              "#fb9f3a"
             ],
             [
              0.8888888888888888,
              "#fdca26"
             ],
             [
              1,
              "#f0f921"
             ]
            ],
            "type": "contour"
           }
          ],
          "contourcarpet": [
           {
            "colorbar": {
             "outlinewidth": 0,
             "ticks": ""
            },
            "type": "contourcarpet"
           }
          ],
          "heatmap": [
           {
            "colorbar": {
             "outlinewidth": 0,
             "ticks": ""
            },
            "colorscale": [
             [
              0,
              "#0d0887"
             ],
             [
              0.1111111111111111,
              "#46039f"
             ],
             [
              0.2222222222222222,
              "#7201a8"
             ],
             [
              0.3333333333333333,
              "#9c179e"
             ],
             [
              0.4444444444444444,
              "#bd3786"
             ],
             [
              0.5555555555555556,
              "#d8576b"
             ],
             [
              0.6666666666666666,
              "#ed7953"
             ],
             [
              0.7777777777777778,
              "#fb9f3a"
             ],
             [
              0.8888888888888888,
              "#fdca26"
             ],
             [
              1,
              "#f0f921"
             ]
            ],
            "type": "heatmap"
           }
          ],
          "heatmapgl": [
           {
            "colorbar": {
             "outlinewidth": 0,
             "ticks": ""
            },
            "colorscale": [
             [
              0,
              "#0d0887"
             ],
             [
              0.1111111111111111,
              "#46039f"
             ],
             [
              0.2222222222222222,
              "#7201a8"
             ],
             [
              0.3333333333333333,
              "#9c179e"
             ],
             [
              0.4444444444444444,
              "#bd3786"
             ],
             [
              0.5555555555555556,
              "#d8576b"
             ],
             [
              0.6666666666666666,
              "#ed7953"
             ],
             [
              0.7777777777777778,
              "#fb9f3a"
             ],
             [
              0.8888888888888888,
              "#fdca26"
             ],
             [
              1,
              "#f0f921"
             ]
            ],
            "type": "heatmapgl"
           }
          ],
          "histogram": [
           {
            "marker": {
             "pattern": {
              "fillmode": "overlay",
              "size": 10,
              "solidity": 0.2
             }
            },
            "type": "histogram"
           }
          ],
          "histogram2d": [
           {
            "colorbar": {
             "outlinewidth": 0,
             "ticks": ""
            },
            "colorscale": [
             [
              0,
              "#0d0887"
             ],
             [
              0.1111111111111111,
              "#46039f"
             ],
             [
              0.2222222222222222,
              "#7201a8"
             ],
             [
              0.3333333333333333,
              "#9c179e"
             ],
             [
              0.4444444444444444,
              "#bd3786"
             ],
             [
              0.5555555555555556,
              "#d8576b"
             ],
             [
              0.6666666666666666,
              "#ed7953"
             ],
             [
              0.7777777777777778,
              "#fb9f3a"
             ],
             [
              0.8888888888888888,
              "#fdca26"
             ],
             [
              1,
              "#f0f921"
             ]
            ],
            "type": "histogram2d"
           }
          ],
          "histogram2dcontour": [
           {
            "colorbar": {
             "outlinewidth": 0,
             "ticks": ""
            },
            "colorscale": [
             [
              0,
              "#0d0887"
             ],
             [
              0.1111111111111111,
              "#46039f"
             ],
             [
              0.2222222222222222,
              "#7201a8"
             ],
             [
              0.3333333333333333,
              "#9c179e"
             ],
             [
              0.4444444444444444,
              "#bd3786"
             ],
             [
              0.5555555555555556,
              "#d8576b"
             ],
             [
              0.6666666666666666,
              "#ed7953"
             ],
             [
              0.7777777777777778,
              "#fb9f3a"
             ],
             [
              0.8888888888888888,
              "#fdca26"
             ],
             [
              1,
              "#f0f921"
             ]
            ],
            "type": "histogram2dcontour"
           }
          ],
          "mesh3d": [
           {
            "colorbar": {
             "outlinewidth": 0,
             "ticks": ""
            },
            "type": "mesh3d"
           }
          ],
          "parcoords": [
           {
            "line": {
             "colorbar": {
              "outlinewidth": 0,
              "ticks": ""
             }
            },
            "type": "parcoords"
           }
          ],
          "pie": [
           {
            "automargin": true,
            "type": "pie"
           }
          ],
          "scatter": [
           {
            "fillpattern": {
             "fillmode": "overlay",
             "size": 10,
             "solidity": 0.2
            },
            "type": "scatter"
           }
          ],
          "scatter3d": [
           {
            "line": {
             "colorbar": {
              "outlinewidth": 0,
              "ticks": ""
             }
            },
            "marker": {
             "colorbar": {
              "outlinewidth": 0,
              "ticks": ""
             }
            },
            "type": "scatter3d"
           }
          ],
          "scattercarpet": [
           {
            "marker": {
             "colorbar": {
              "outlinewidth": 0,
              "ticks": ""
             }
            },
            "type": "scattercarpet"
           }
          ],
          "scattergeo": [
           {
            "marker": {
             "colorbar": {
              "outlinewidth": 0,
              "ticks": ""
             }
            },
            "type": "scattergeo"
           }
          ],
          "scattergl": [
           {
            "marker": {
             "colorbar": {
              "outlinewidth": 0,
              "ticks": ""
             }
            },
            "type": "scattergl"
           }
          ],
          "scattermapbox": [
           {
            "marker": {
             "colorbar": {
              "outlinewidth": 0,
              "ticks": ""
             }
            },
            "type": "scattermapbox"
           }
          ],
          "scatterpolar": [
           {
            "marker": {
             "colorbar": {
              "outlinewidth": 0,
              "ticks": ""
             }
            },
            "type": "scatterpolar"
           }
          ],
          "scatterpolargl": [
           {
            "marker": {
             "colorbar": {
              "outlinewidth": 0,
              "ticks": ""
             }
            },
            "type": "scatterpolargl"
           }
          ],
          "scatterternary": [
           {
            "marker": {
             "colorbar": {
              "outlinewidth": 0,
              "ticks": ""
             }
            },
            "type": "scatterternary"
           }
          ],
          "surface": [
           {
            "colorbar": {
             "outlinewidth": 0,
             "ticks": ""
            },
            "colorscale": [
             [
              0,
              "#0d0887"
             ],
             [
              0.1111111111111111,
              "#46039f"
             ],
             [
              0.2222222222222222,
              "#7201a8"
             ],
             [
              0.3333333333333333,
              "#9c179e"
             ],
             [
              0.4444444444444444,
              "#bd3786"
             ],
             [
              0.5555555555555556,
              "#d8576b"
             ],
             [
              0.6666666666666666,
              "#ed7953"
             ],
             [
              0.7777777777777778,
              "#fb9f3a"
             ],
             [
              0.8888888888888888,
              "#fdca26"
             ],
             [
              1,
              "#f0f921"
             ]
            ],
            "type": "surface"
           }
          ],
          "table": [
           {
            "cells": {
             "fill": {
              "color": "#EBF0F8"
             },
             "line": {
              "color": "white"
             }
            },
            "header": {
             "fill": {
              "color": "#C8D4E3"
             },
             "line": {
              "color": "white"
             }
            },
            "type": "table"
           }
          ]
         },
         "layout": {
          "annotationdefaults": {
           "arrowcolor": "#2a3f5f",
           "arrowhead": 0,
           "arrowwidth": 1
          },
          "autotypenumbers": "strict",
          "coloraxis": {
           "colorbar": {
            "outlinewidth": 0,
            "ticks": ""
           }
          },
          "colorscale": {
           "diverging": [
            [
             0,
             "#8e0152"
            ],
            [
             0.1,
             "#c51b7d"
            ],
            [
             0.2,
             "#de77ae"
            ],
            [
             0.3,
             "#f1b6da"
            ],
            [
             0.4,
             "#fde0ef"
            ],
            [
             0.5,
             "#f7f7f7"
            ],
            [
             0.6,
             "#e6f5d0"
            ],
            [
             0.7,
             "#b8e186"
            ],
            [
             0.8,
             "#7fbc41"
            ],
            [
             0.9,
             "#4d9221"
            ],
            [
             1,
             "#276419"
            ]
           ],
           "sequential": [
            [
             0,
             "#0d0887"
            ],
            [
             0.1111111111111111,
             "#46039f"
            ],
            [
             0.2222222222222222,
             "#7201a8"
            ],
            [
             0.3333333333333333,
             "#9c179e"
            ],
            [
             0.4444444444444444,
             "#bd3786"
            ],
            [
             0.5555555555555556,
             "#d8576b"
            ],
            [
             0.6666666666666666,
             "#ed7953"
            ],
            [
             0.7777777777777778,
             "#fb9f3a"
            ],
            [
             0.8888888888888888,
             "#fdca26"
            ],
            [
             1,
             "#f0f921"
            ]
           ],
           "sequentialminus": [
            [
             0,
             "#0d0887"
            ],
            [
             0.1111111111111111,
             "#46039f"
            ],
            [
             0.2222222222222222,
             "#7201a8"
            ],
            [
             0.3333333333333333,
             "#9c179e"
            ],
            [
             0.4444444444444444,
             "#bd3786"
            ],
            [
             0.5555555555555556,
             "#d8576b"
            ],
            [
             0.6666666666666666,
             "#ed7953"
            ],
            [
             0.7777777777777778,
             "#fb9f3a"
            ],
            [
             0.8888888888888888,
             "#fdca26"
            ],
            [
             1,
             "#f0f921"
            ]
           ]
          },
          "colorway": [
           "#636efa",
           "#EF553B",
           "#00cc96",
           "#ab63fa",
           "#FFA15A",
           "#19d3f3",
           "#FF6692",
           "#B6E880",
           "#FF97FF",
           "#FECB52"
          ],
          "font": {
           "color": "#2a3f5f"
          },
          "geo": {
           "bgcolor": "white",
           "lakecolor": "white",
           "landcolor": "#E5ECF6",
           "showlakes": true,
           "showland": true,
           "subunitcolor": "white"
          },
          "hoverlabel": {
           "align": "left"
          },
          "hovermode": "closest",
          "mapbox": {
           "style": "light"
          },
          "paper_bgcolor": "white",
          "plot_bgcolor": "#E5ECF6",
          "polar": {
           "angularaxis": {
            "gridcolor": "white",
            "linecolor": "white",
            "ticks": ""
           },
           "bgcolor": "#E5ECF6",
           "radialaxis": {
            "gridcolor": "white",
            "linecolor": "white",
            "ticks": ""
           }
          },
          "scene": {
           "xaxis": {
            "backgroundcolor": "#E5ECF6",
            "gridcolor": "white",
            "gridwidth": 2,
            "linecolor": "white",
            "showbackground": true,
            "ticks": "",
            "zerolinecolor": "white"
           },
           "yaxis": {
            "backgroundcolor": "#E5ECF6",
            "gridcolor": "white",
            "gridwidth": 2,
            "linecolor": "white",
            "showbackground": true,
            "ticks": "",
            "zerolinecolor": "white"
           },
           "zaxis": {
            "backgroundcolor": "#E5ECF6",
            "gridcolor": "white",
            "gridwidth": 2,
            "linecolor": "white",
            "showbackground": true,
            "ticks": "",
            "zerolinecolor": "white"
           }
          },
          "shapedefaults": {
           "line": {
            "color": "#2a3f5f"
           }
          },
          "ternary": {
           "aaxis": {
            "gridcolor": "white",
            "linecolor": "white",
            "ticks": ""
           },
           "baxis": {
            "gridcolor": "white",
            "linecolor": "white",
            "ticks": ""
           },
           "bgcolor": "#E5ECF6",
           "caxis": {
            "gridcolor": "white",
            "linecolor": "white",
            "ticks": ""
           }
          },
          "title": {
           "x": 0.05
          },
          "xaxis": {
           "automargin": true,
           "gridcolor": "white",
           "linecolor": "white",
           "ticks": "",
           "title": {
            "standoff": 15
           },
           "zerolinecolor": "white",
           "zerolinewidth": 2
          },
          "yaxis": {
           "automargin": true,
           "gridcolor": "white",
           "linecolor": "white",
           "ticks": "",
           "title": {
            "standoff": 15
           },
           "zerolinecolor": "white",
           "zerolinewidth": 2
          }
         }
        },
        "title": {
         "text": "Global mean oil yield per hectare in 2021 per crop"
        },
        "xaxis": {
         "title": {
          "text": "Mean yield per hectare (tonnes)"
         }
        },
        "yaxis": {
         "title": {
          "text": "Type of oil"
         }
        }
       }
      }
     },
     "metadata": {},
     "output_type": "display_data"
    }
   ],
   "source": [
    "import pandas as pd\n",
    "import plotly.graph_objects as go\n",
    "import plotly.express as px\n",
    "\n",
    "# Load the dataset\n",
    "oils_df = pd.read_csv('../Datasets/Oils/oil-yield-by-crop.csv')\n",
    "\n",
    "# Filter for the entity 'World'\n",
    "world_df = oils_df[oils_df['Entity'] == 'World']\n",
    "\n",
    "# Filter for the year 2021\n",
    "df_2021 = world_df.loc[world_df['Year'] == 2021]\n",
    "\n",
    "# Drop unnecessary columns\n",
    "df_2021_clean = df_2021.drop(columns=['Entity', 'Code', 'Year'])\n",
    "\n",
    "# Calculate the mean for each type of oil yield for the year 2021, ignoring NaNs\n",
    "mean_columns_2021 = df_2021_clean.mean()\n",
    "\n",
    "# Sort the mean values in descending order\n",
    "mean_columns_2021_sorted = mean_columns_2021.sort_values(ascending=False)\n",
    "\n",
    "# Define colors from Plotly's T10 qualitative color palette\n",
    "colors = px.colors.qualitative.T10[:len(mean_columns_2021_sorted)]\n",
    "\n",
    "# Create a bar plot using Plotly\n",
    "fig = go.Figure()\n",
    "\n",
    "fig.add_trace(go.Bar(\n",
    "    x=mean_columns_2021_sorted.values,\n",
    "    y=mean_columns_2021_sorted.index,\n",
    "    orientation='h',  # horizontal bar chart\n",
    "    marker_color=colors,  # assign colors to bars\n",
    "))\n",
    "\n",
    "fig.update_layout(\n",
    "    title='Global mean oil yield per hectare in 2021 per crop',\n",
    "    xaxis_title='Mean yield per hectare (tonnes)',\n",
    "    yaxis_title='Type of oil',\n",
    "    height=600,\n",
    "    margin=dict(l=0, r=0, t=30, b=0),  # adjust margins for better appearance\n",
    ")\n",
    "\n",
    "# Show the plot\n",
    "fig.show()\n"
   ]
  },
  {
   "cell_type": "markdown",
   "metadata": {},
   "source": [
    "In fact, as you can see in the following chart, almost 40 per cent of all vegetable oil in the world comes from the oil palm. Should this be replaced by any other oil, the total land area on which vegetable oil crops are grown would be at least doubled."
   ]
  },
  {
   "cell_type": "code",
   "execution_count": 264,
   "metadata": {},
   "outputs": [
    {
     "data": {
      "application/vnd.plotly.v1+json": {
       "config": {
        "plotlyServerURL": "https://plot.ly"
       },
       "data": [
        {
         "hole": 0.7,
         "insidetextorientation": "radial",
         "labels": [
          "Palm",
          "Soybean",
          "Rapeseed",
          "Sunflower",
          "Palm kernel",
          "Groundnut",
          "Cottonseed",
          "Olive",
          "Other"
         ],
         "marker": {
          "colors": [
           "#4C78A8",
           "#F58518",
           "#E45756",
           "#72B7B2",
           "#54A24B",
           "#EECA3B",
           "#B279A2",
           "#FF9DA6",
           "#9D755D",
           "#BAB0AC"
          ]
         },
         "textinfo": "label+percent",
         "textposition": "outside",
         "type": "pie",
         "values": [
          80584560,
          60315692,
          26469122,
          18251694,
          7991699,
          4749601,
          4305035,
          3348153.8,
          7463307.61
         ]
        }
       ],
       "layout": {
        "height": 600,
        "showlegend": false,
        "template": {
         "data": {
          "bar": [
           {
            "error_x": {
             "color": "#2a3f5f"
            },
            "error_y": {
             "color": "#2a3f5f"
            },
            "marker": {
             "line": {
              "color": "#E5ECF6",
              "width": 0.5
             },
             "pattern": {
              "fillmode": "overlay",
              "size": 10,
              "solidity": 0.2
             }
            },
            "type": "bar"
           }
          ],
          "barpolar": [
           {
            "marker": {
             "line": {
              "color": "#E5ECF6",
              "width": 0.5
             },
             "pattern": {
              "fillmode": "overlay",
              "size": 10,
              "solidity": 0.2
             }
            },
            "type": "barpolar"
           }
          ],
          "carpet": [
           {
            "aaxis": {
             "endlinecolor": "#2a3f5f",
             "gridcolor": "white",
             "linecolor": "white",
             "minorgridcolor": "white",
             "startlinecolor": "#2a3f5f"
            },
            "baxis": {
             "endlinecolor": "#2a3f5f",
             "gridcolor": "white",
             "linecolor": "white",
             "minorgridcolor": "white",
             "startlinecolor": "#2a3f5f"
            },
            "type": "carpet"
           }
          ],
          "choropleth": [
           {
            "colorbar": {
             "outlinewidth": 0,
             "ticks": ""
            },
            "type": "choropleth"
           }
          ],
          "contour": [
           {
            "colorbar": {
             "outlinewidth": 0,
             "ticks": ""
            },
            "colorscale": [
             [
              0,
              "#0d0887"
             ],
             [
              0.1111111111111111,
              "#46039f"
             ],
             [
              0.2222222222222222,
              "#7201a8"
             ],
             [
              0.3333333333333333,
              "#9c179e"
             ],
             [
              0.4444444444444444,
              "#bd3786"
             ],
             [
              0.5555555555555556,
              "#d8576b"
             ],
             [
              0.6666666666666666,
              "#ed7953"
             ],
             [
              0.7777777777777778,
              "#fb9f3a"
             ],
             [
              0.8888888888888888,
              "#fdca26"
             ],
             [
              1,
              "#f0f921"
             ]
            ],
            "type": "contour"
           }
          ],
          "contourcarpet": [
           {
            "colorbar": {
             "outlinewidth": 0,
             "ticks": ""
            },
            "type": "contourcarpet"
           }
          ],
          "heatmap": [
           {
            "colorbar": {
             "outlinewidth": 0,
             "ticks": ""
            },
            "colorscale": [
             [
              0,
              "#0d0887"
             ],
             [
              0.1111111111111111,
              "#46039f"
             ],
             [
              0.2222222222222222,
              "#7201a8"
             ],
             [
              0.3333333333333333,
              "#9c179e"
             ],
             [
              0.4444444444444444,
              "#bd3786"
             ],
             [
              0.5555555555555556,
              "#d8576b"
             ],
             [
              0.6666666666666666,
              "#ed7953"
             ],
             [
              0.7777777777777778,
              "#fb9f3a"
             ],
             [
              0.8888888888888888,
              "#fdca26"
             ],
             [
              1,
              "#f0f921"
             ]
            ],
            "type": "heatmap"
           }
          ],
          "heatmapgl": [
           {
            "colorbar": {
             "outlinewidth": 0,
             "ticks": ""
            },
            "colorscale": [
             [
              0,
              "#0d0887"
             ],
             [
              0.1111111111111111,
              "#46039f"
             ],
             [
              0.2222222222222222,
              "#7201a8"
             ],
             [
              0.3333333333333333,
              "#9c179e"
             ],
             [
              0.4444444444444444,
              "#bd3786"
             ],
             [
              0.5555555555555556,
              "#d8576b"
             ],
             [
              0.6666666666666666,
              "#ed7953"
             ],
             [
              0.7777777777777778,
              "#fb9f3a"
             ],
             [
              0.8888888888888888,
              "#fdca26"
             ],
             [
              1,
              "#f0f921"
             ]
            ],
            "type": "heatmapgl"
           }
          ],
          "histogram": [
           {
            "marker": {
             "pattern": {
              "fillmode": "overlay",
              "size": 10,
              "solidity": 0.2
             }
            },
            "type": "histogram"
           }
          ],
          "histogram2d": [
           {
            "colorbar": {
             "outlinewidth": 0,
             "ticks": ""
            },
            "colorscale": [
             [
              0,
              "#0d0887"
             ],
             [
              0.1111111111111111,
              "#46039f"
             ],
             [
              0.2222222222222222,
              "#7201a8"
             ],
             [
              0.3333333333333333,
              "#9c179e"
             ],
             [
              0.4444444444444444,
              "#bd3786"
             ],
             [
              0.5555555555555556,
              "#d8576b"
             ],
             [
              0.6666666666666666,
              "#ed7953"
             ],
             [
              0.7777777777777778,
              "#fb9f3a"
             ],
             [
              0.8888888888888888,
              "#fdca26"
             ],
             [
              1,
              "#f0f921"
             ]
            ],
            "type": "histogram2d"
           }
          ],
          "histogram2dcontour": [
           {
            "colorbar": {
             "outlinewidth": 0,
             "ticks": ""
            },
            "colorscale": [
             [
              0,
              "#0d0887"
             ],
             [
              0.1111111111111111,
              "#46039f"
             ],
             [
              0.2222222222222222,
              "#7201a8"
             ],
             [
              0.3333333333333333,
              "#9c179e"
             ],
             [
              0.4444444444444444,
              "#bd3786"
             ],
             [
              0.5555555555555556,
              "#d8576b"
             ],
             [
              0.6666666666666666,
              "#ed7953"
             ],
             [
              0.7777777777777778,
              "#fb9f3a"
             ],
             [
              0.8888888888888888,
              "#fdca26"
             ],
             [
              1,
              "#f0f921"
             ]
            ],
            "type": "histogram2dcontour"
           }
          ],
          "mesh3d": [
           {
            "colorbar": {
             "outlinewidth": 0,
             "ticks": ""
            },
            "type": "mesh3d"
           }
          ],
          "parcoords": [
           {
            "line": {
             "colorbar": {
              "outlinewidth": 0,
              "ticks": ""
             }
            },
            "type": "parcoords"
           }
          ],
          "pie": [
           {
            "automargin": true,
            "type": "pie"
           }
          ],
          "scatter": [
           {
            "fillpattern": {
             "fillmode": "overlay",
             "size": 10,
             "solidity": 0.2
            },
            "type": "scatter"
           }
          ],
          "scatter3d": [
           {
            "line": {
             "colorbar": {
              "outlinewidth": 0,
              "ticks": ""
             }
            },
            "marker": {
             "colorbar": {
              "outlinewidth": 0,
              "ticks": ""
             }
            },
            "type": "scatter3d"
           }
          ],
          "scattercarpet": [
           {
            "marker": {
             "colorbar": {
              "outlinewidth": 0,
              "ticks": ""
             }
            },
            "type": "scattercarpet"
           }
          ],
          "scattergeo": [
           {
            "marker": {
             "colorbar": {
              "outlinewidth": 0,
              "ticks": ""
             }
            },
            "type": "scattergeo"
           }
          ],
          "scattergl": [
           {
            "marker": {
             "colorbar": {
              "outlinewidth": 0,
              "ticks": ""
             }
            },
            "type": "scattergl"
           }
          ],
          "scattermapbox": [
           {
            "marker": {
             "colorbar": {
              "outlinewidth": 0,
              "ticks": ""
             }
            },
            "type": "scattermapbox"
           }
          ],
          "scatterpolar": [
           {
            "marker": {
             "colorbar": {
              "outlinewidth": 0,
              "ticks": ""
             }
            },
            "type": "scatterpolar"
           }
          ],
          "scatterpolargl": [
           {
            "marker": {
             "colorbar": {
              "outlinewidth": 0,
              "ticks": ""
             }
            },
            "type": "scatterpolargl"
           }
          ],
          "scatterternary": [
           {
            "marker": {
             "colorbar": {
              "outlinewidth": 0,
              "ticks": ""
             }
            },
            "type": "scatterternary"
           }
          ],
          "surface": [
           {
            "colorbar": {
             "outlinewidth": 0,
             "ticks": ""
            },
            "colorscale": [
             [
              0,
              "#0d0887"
             ],
             [
              0.1111111111111111,
              "#46039f"
             ],
             [
              0.2222222222222222,
              "#7201a8"
             ],
             [
              0.3333333333333333,
              "#9c179e"
             ],
             [
              0.4444444444444444,
              "#bd3786"
             ],
             [
              0.5555555555555556,
              "#d8576b"
             ],
             [
              0.6666666666666666,
              "#ed7953"
             ],
             [
              0.7777777777777778,
              "#fb9f3a"
             ],
             [
              0.8888888888888888,
              "#fdca26"
             ],
             [
              1,
              "#f0f921"
             ]
            ],
            "type": "surface"
           }
          ],
          "table": [
           {
            "cells": {
             "fill": {
              "color": "#EBF0F8"
             },
             "line": {
              "color": "white"
             }
            },
            "header": {
             "fill": {
              "color": "#C8D4E3"
             },
             "line": {
              "color": "white"
             }
            },
            "type": "table"
           }
          ]
         },
         "layout": {
          "annotationdefaults": {
           "arrowcolor": "#2a3f5f",
           "arrowhead": 0,
           "arrowwidth": 1
          },
          "autotypenumbers": "strict",
          "coloraxis": {
           "colorbar": {
            "outlinewidth": 0,
            "ticks": ""
           }
          },
          "colorscale": {
           "diverging": [
            [
             0,
             "#8e0152"
            ],
            [
             0.1,
             "#c51b7d"
            ],
            [
             0.2,
             "#de77ae"
            ],
            [
             0.3,
             "#f1b6da"
            ],
            [
             0.4,
             "#fde0ef"
            ],
            [
             0.5,
             "#f7f7f7"
            ],
            [
             0.6,
             "#e6f5d0"
            ],
            [
             0.7,
             "#b8e186"
            ],
            [
             0.8,
             "#7fbc41"
            ],
            [
             0.9,
             "#4d9221"
            ],
            [
             1,
             "#276419"
            ]
           ],
           "sequential": [
            [
             0,
             "#0d0887"
            ],
            [
             0.1111111111111111,
             "#46039f"
            ],
            [
             0.2222222222222222,
             "#7201a8"
            ],
            [
             0.3333333333333333,
             "#9c179e"
            ],
            [
             0.4444444444444444,
             "#bd3786"
            ],
            [
             0.5555555555555556,
             "#d8576b"
            ],
            [
             0.6666666666666666,
             "#ed7953"
            ],
            [
             0.7777777777777778,
             "#fb9f3a"
            ],
            [
             0.8888888888888888,
             "#fdca26"
            ],
            [
             1,
             "#f0f921"
            ]
           ],
           "sequentialminus": [
            [
             0,
             "#0d0887"
            ],
            [
             0.1111111111111111,
             "#46039f"
            ],
            [
             0.2222222222222222,
             "#7201a8"
            ],
            [
             0.3333333333333333,
             "#9c179e"
            ],
            [
             0.4444444444444444,
             "#bd3786"
            ],
            [
             0.5555555555555556,
             "#d8576b"
            ],
            [
             0.6666666666666666,
             "#ed7953"
            ],
            [
             0.7777777777777778,
             "#fb9f3a"
            ],
            [
             0.8888888888888888,
             "#fdca26"
            ],
            [
             1,
             "#f0f921"
            ]
           ]
          },
          "colorway": [
           "#636efa",
           "#EF553B",
           "#00cc96",
           "#ab63fa",
           "#FFA15A",
           "#19d3f3",
           "#FF6692",
           "#B6E880",
           "#FF97FF",
           "#FECB52"
          ],
          "font": {
           "color": "#2a3f5f"
          },
          "geo": {
           "bgcolor": "white",
           "lakecolor": "white",
           "landcolor": "#E5ECF6",
           "showlakes": true,
           "showland": true,
           "subunitcolor": "white"
          },
          "hoverlabel": {
           "align": "left"
          },
          "hovermode": "closest",
          "mapbox": {
           "style": "light"
          },
          "paper_bgcolor": "white",
          "plot_bgcolor": "#E5ECF6",
          "polar": {
           "angularaxis": {
            "gridcolor": "white",
            "linecolor": "white",
            "ticks": ""
           },
           "bgcolor": "#E5ECF6",
           "radialaxis": {
            "gridcolor": "white",
            "linecolor": "white",
            "ticks": ""
           }
          },
          "scene": {
           "xaxis": {
            "backgroundcolor": "#E5ECF6",
            "gridcolor": "white",
            "gridwidth": 2,
            "linecolor": "white",
            "showbackground": true,
            "ticks": "",
            "zerolinecolor": "white"
           },
           "yaxis": {
            "backgroundcolor": "#E5ECF6",
            "gridcolor": "white",
            "gridwidth": 2,
            "linecolor": "white",
            "showbackground": true,
            "ticks": "",
            "zerolinecolor": "white"
           },
           "zaxis": {
            "backgroundcolor": "#E5ECF6",
            "gridcolor": "white",
            "gridwidth": 2,
            "linecolor": "white",
            "showbackground": true,
            "ticks": "",
            "zerolinecolor": "white"
           }
          },
          "shapedefaults": {
           "line": {
            "color": "#2a3f5f"
           }
          },
          "ternary": {
           "aaxis": {
            "gridcolor": "white",
            "linecolor": "white",
            "ticks": ""
           },
           "baxis": {
            "gridcolor": "white",
            "linecolor": "white",
            "ticks": ""
           },
           "bgcolor": "#E5ECF6",
           "caxis": {
            "gridcolor": "white",
            "linecolor": "white",
            "ticks": ""
           }
          },
          "title": {
           "x": 0.05
          },
          "xaxis": {
           "automargin": true,
           "gridcolor": "white",
           "linecolor": "white",
           "ticks": "",
           "title": {
            "standoff": 15
           },
           "zerolinecolor": "white",
           "zerolinewidth": 2
          },
          "yaxis": {
           "automargin": true,
           "gridcolor": "white",
           "linecolor": "white",
           "ticks": "",
           "title": {
            "standoff": 15
           },
           "zerolinecolor": "white",
           "zerolinewidth": 2
          }
         }
        },
        "title": {
         "text": "Total vegetable oil production in 2021"
        }
       }
      }
     },
     "metadata": {},
     "output_type": "display_data"
    }
   ],
   "source": [
    "import pandas as pd\n",
    "import plotly.graph_objects as go\n",
    "\n",
    "# Load the dataset\n",
    "oils_df = pd.read_csv('../Datasets/vegetable-oil-production.csv')\n",
    "\n",
    "# Filter for the entity 'World'\n",
    "world_df = oils_df[oils_df['Entity'] == 'World']\n",
    "\n",
    "# Filter for the year 2021\n",
    "df_2021 = world_df.loc[world_df['Year'] == 2021]\n",
    "\n",
    "# Drop unnecessary columns\n",
    "df_2021_clean = df_2021.drop(columns=['Entity', 'Code', 'Year'])\n",
    "\n",
    "# Calculate the mean for each type of oil yield for the year 2021, ignoring NaNs\n",
    "mean_columns_2021 = df_2021_clean.mean()\n",
    "\n",
    "# Sort the mean values in descending order\n",
    "mean_columns_2021_sorted = mean_columns_2021.sort_values(ascending=False)\n",
    "\n",
    "# Combine the lowest 5 categories into 'Other'\n",
    "top_categories = mean_columns_2021_sorted[:-5]\n",
    "other_category = mean_columns_2021_sorted[-5:].sum()\n",
    "mean_combined = pd.concat([top_categories, pd.Series({'Other': other_category})])\n",
    "\n",
    "# Prepare the data for the Plotly chart\n",
    "labels = mean_combined.index.tolist()\n",
    "values = mean_combined.values.tolist()\n",
    "colors = px.colors.qualitative.T10\n",
    "\n",
    "# Create the donut chart using Plotly\n",
    "fig = go.Figure(data=[go.Pie(\n",
    "    labels=labels, \n",
    "    values=values, \n",
    "    hole=.7,  # Set the hole size for the donut chart\n",
    "    textinfo='label+percent',\n",
    "    textposition='outside',\n",
    "    insidetextorientation='radial',\n",
    "    marker=dict(colors=colors)\n",
    "    )])\n",
    "\n",
    "fig.update_layout(\n",
    "    title_text='Total vegetable oil production in 2021',\n",
    "    showlegend=False,\n",
    "    height=600 \n",
    ")\n",
    "\n",
    "# Show the plot\n",
    "fig.show()\n"
   ]
  },
  {
   "cell_type": "markdown",
   "metadata": {},
   "source": [
    "So what is the real solution? It seems there is a problem with the global demand for vegetable oil in general, not specifically palm oil. A solution could be to reduce the consumption af all oils."
   ]
  },
  {
   "cell_type": "markdown",
   "metadata": {},
   "source": [
    "Citations:\n",
    "\n",
    "_Manning, F. C., Kho, L. K., Hill, T. C., Cornulier, T., & Teh, Y. A. (2019). Carbon emissions from oil palm plantations on peat soil. Frontiers in Forests and Global Change, 2, 37._\n",
    "\n",
    "Sources:\n",
    "\n",
    "https://ourworldindata.org/grapher/oil-yield-by-crop?tab=table\n",
    "\n",
    "https://www.kaggle.com/datasets/karnikakapoor/global-forest-data-2001-2022\n",
    "\n",
    "https://ourworldindata.org/palm-oil\n",
    "\n",
    "https://ourworldindata.org/grapher/vegetable-oil-production"
   ]
  }
 ],
 "metadata": {
  "kernelspec": {
   "display_name": "Python 3",
   "language": "python",
   "name": "python3"
  },
  "language_info": {
   "codemirror_mode": {
    "name": "ipython",
    "version": 3
   },
   "file_extension": ".py",
   "mimetype": "text/x-python",
   "name": "python",
   "nbconvert_exporter": "python",
   "pygments_lexer": "ipython3",
   "version": "3.12.0"
  }
 },
 "nbformat": 4,
 "nbformat_minor": 2
}
