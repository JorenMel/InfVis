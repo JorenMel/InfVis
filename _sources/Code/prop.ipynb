{
 "cells": [
  {
   "cell_type": "code",
   "execution_count": null,
   "metadata": {},
   "outputs": [],
   "source": [
    "import pandas as pd\n",
    "import numpy as np\n",
    "import matplotlib.pyplot as plt"
   ]
  },
  {
   "cell_type": "code",
   "execution_count": null,
   "metadata": {},
   "outputs": [],
   "source": [
    "oil = {}\n",
    "oil['coconut'] = pd.read_csv('../Datasets/Oils/archive/cleaned/cocount.csv')\n",
    "oil['cottonseed'] = pd.read_csv('../Datasets/Oils/archive/cleaned/cottonseed.csv')\n",
    "oil['olive'] = pd.read_csv('../Datasets/Oils/archive/cleaned/olive.csv')\n",
    "oil['palm'] = pd.read_csv('../Datasets/Oils/archive/cleaned/palm.csv')\n",
    "oil['palm_kernel'] = pd.read_csv('../Datasets/Oils/archive/cleaned/palm_kernel.csv')\n",
    "oil['peanut'] = pd.read_csv('../Datasets/Oils/archive/cleaned/peanut.csv')\n",
    "oil['rapeseed'] = pd.read_csv('../Datasets/Oils/archive/cleaned/rapeseeed.csv')\n",
    "oil['soybean'] = pd.read_csv('../Datasets/Oils/archive/cleaned/soybean.csv')\n",
    "oil['sunflowerseed'] = pd.read_csv('../Datasets/Oils/archive/cleaned/sunflowerseed.csv')\n"
   ]
  },
  {
   "cell_type": "code",
   "execution_count": null,
   "metadata": {},
   "outputs": [],
   "source": [
    "palm = pd.read_csv('../Datasets/Oils/archive/cleaned/palm.csv')\n",
    "trees = pd.read_csv('../Datasets/Deforestation/Country tree cover loss.csv').groupby('country').agg({'area_ha': 'sum'})\n",
    "mala = palm[palm['Country'] == 'Malaysia']\n"
   ]
  },
  {
   "cell_type": "code",
   "execution_count": null,
   "metadata": {},
   "outputs": [],
   "source": [
    "indo = palm[palm['Country'] == 'Indonesia'].drop(indo[indo['Year'] < 2000].index)\n",
    "mala = palm[palm['Country'] == 'Malaysia'].drop(mala[mala['Year'] < 2000].index)"
   ]
  },
  {
   "cell_type": "code",
   "execution_count": null,
   "metadata": {},
   "outputs": [],
   "source": [
    "mala.head(50)\n"
   ]
  },
  {
   "cell_type": "code",
   "execution_count": 2,
   "metadata": {},
   "outputs": [
    {
     "data": {
      "image/png": "[encoded data removed]",
      "text/plain": [
       "<Figure size 432x288 with 1 Axes>"
      ]
     },
     "metadata": {
      "needs_background": "light"
     },
     "output_type": "display_data"
    }
   ],
   "source": [
    "import pandas as pd\n",
    "import numpy as np\n",
    "import matplotlib.pyplot as plt\n",
    "\n",
    "palm = pd.read_csv('../Datasets/Oils/archive/cleaned/palm.csv')\n",
    "a = palm[palm['Country'] == 'Indonesia']\n",
    "b = palm[palm['Country'] == 'Malaysia']\n",
    "\n",
    "indo = a.drop(a[a['Year'] < 2000].index)\n",
    "mala = b.drop(b[b['Year'] < 2000].index)\n",
    "\n",
    "xi = indo['Production'].values\n",
    "xm = mala['Production'].values\n",
    "y = range(2000, 2024)\n",
    "plt.plot(y, xi, label='Indonesia')\n",
    "plt.plot(y, xm, label='Malaysia')\n",
    "plt.xlabel('Year')\n",
    "plt.ylabel('Production')\n",
    "plt.legend()\n",
    "plt.show()"
   ]
  },
  {
   "cell_type": "code",
   "execution_count": null,
   "metadata": {},
   "outputs": [],
   "source": [
    "# for key, value in oil.items():\n",
    "#     print(key)\n",
    "#     print(value.info())\n",
    "#     print()\n",
    "\n",
    "oil['palm']['Domestic Consumption'].describe()\n",
    "# oil['palm']['Area Harvested'].max()"
   ]
  },
  {
   "cell_type": "code",
   "execution_count": null,
   "metadata": {},
   "outputs": [],
   "source": [
    "palm = palm.drop(palm[palm['Year'] < 2000].index).groupby('Country').agg({'Production': 'sum'})"
   ]
  },
  {
   "cell_type": "code",
   "execution_count": null,
   "metadata": {},
   "outputs": [],
   "source": [
    "palm = palm.drop(palm[palm['Production'] == 0].index)\n",
    "palm.head(60)"
   ]
  },
  {
   "cell_type": "code",
   "execution_count": null,
   "metadata": {},
   "outputs": [],
   "source": [
    "pd.read_csv('../Datasets/Oils/archive/cleaned/palm.csv').groupby('Country').agg({'Production': 'sum'}).head(60)"
   ]
  },
  {
   "cell_type": "code",
   "execution_count": null,
   "metadata": {},
   "outputs": [],
   "source": []
  }
 ],
 "metadata": {
  "kernelspec": {
   "display_name": "Python 3",
   "language": "python",
   "name": "python3"
  },
  "language_info": {
   "codemirror_mode": {
    "name": "ipython",
    "version": 3
   },
   "file_extension": ".py",
   "mimetype": "text/x-python",
   "name": "python",
   "nbconvert_exporter": "python",
   "pygments_lexer": "ipython3",
   "version": "3.10.12"
  }
 },
 "nbformat": 4,
 "nbformat_minor": 2
}
