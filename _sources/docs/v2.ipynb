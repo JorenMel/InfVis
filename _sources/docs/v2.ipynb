{
 "cells": [
  {
   "cell_type": "code",
   "execution_count": 24,
   "metadata": {
    "tags": [
     "hide-input"
    ]
   },
   "outputs": [],
   "source": [
    "import pandas as pd\n",
    "import numpy as np\n",
    "import plotly as py\n",
    "import matplotlib.pyplot as plt\n",
    "import seaborn as sns\n",
    "import warnings\n",
    "\n",
    "warnings.filterwarnings('ignore')"
   ]
  },
  {
   "cell_type": "markdown",
   "metadata": {},
   "source": [
    "# Palm Oil: Debunking Myths and Exploring Solutions"
   ]
  },
  {
   "cell_type": "markdown",
   "metadata": {},
   "source": [
    "Student names: Maywand Hashemi, Joren Melissen, Mikail van Dartel and Aylwin Gall\n",
    "Team number: I5"
   ]
  },
  {
   "cell_type": "markdown",
   "metadata": {},
   "source": [
    "## Introduction\n",
    "\n",
    "With the emergence of more and more palm oil-free products, it seems that palm oil is almost a thing of the past. Spurred on by horror stories of orangutans without trees and burning trees giving way to rows of oil palm trees, more and more people are opting for these products. This seems a very reasonable choice. However, it could be that the solution to this problem takes a more counter-intuitive approach: choose palm oil instead.\n",
    "\n",
    "Using various charts, we will try to present relevant data in as clear a way as possible, so that you can learn more about these two sides of the discussion and make your own choice on which option is best.\n",
    "\n",
    "The first perspective is that we must stop the production of palm oil, because it leads to deforestation and it emits more CO2 per kg of product than others. The second perspective is that palm oil is actually more efficient in land use and replacing it with other oils might make the deforestation worse. Thus the ploblem lies with the global demand for vegetable oils, not palm oil in particular.\n",
    "\n",
    "In this analysis, we will concentrate exclusively on Malaysia and Indonesia, as these two countries are the predominant producers of palm oil globally. Together, they account for nearly 85% of the world's palm oil supply, making them the most significant players in the industry."
   ]
  },
  {
   "cell_type": "code",
   "execution_count": 25,
   "metadata": {
    "tags": [
     "hide-input"
    ]
   },
   "outputs": [
    {
     "data": {
      "application/vnd.plotly.v1+json": {
       "config": {
        "plotlyServerURL": "https://plot.ly"
       },
       "data": [
        {
         "hole": 0.7,
         "insidetextorientation": "radial",
         "labels": [
          "Indonesia",
          "Malaysia",
          "Thailand",
          "Colombia",
          "Nigeria",
          "Other"
         ],
         "marker": {
          "colors": [
           "#4C78A8",
           "#F58518",
           "#E45756",
           "#72B7B2",
           "#54A24B",
           "#EECA3B",
           "#B279A2",
           "#FF9DA6",
           "#9D755D",
           "#BAB0AC"
          ]
         },
         "textinfo": "label+percent",
         "textposition": "outside",
         "type": "pie",
         "values": [
          49710344,
          18116354,
          2940000,
          1747773,
          1350000,
          6759558.03
         ]
        }
       ],
       "layout": {
        "height": 600,
        "showlegend": false,
        "template": {
         "data": {
          "bar": [
           {
            "error_x": {
             "color": "#2a3f5f"
            },
            "error_y": {
             "color": "#2a3f5f"
            },
            "marker": {
             "line": {
              "color": "#E5ECF6",
              "width": 0.5
             },
             "pattern": {
              "fillmode": "overlay",
              "size": 10,
              "solidity": 0.2
             }
            },
            "type": "bar"
           }
          ],
          "barpolar": [
           {
            "marker": {
             "line": {
              "color": "#E5ECF6",
              "width": 0.5
             },
             "pattern": {
              "fillmode": "overlay",
              "size": 10,
              "solidity": 0.2
             }
            },
            "type": "barpolar"
           }
          ],
          "carpet": [
           {
            "aaxis": {
             "endlinecolor": "#2a3f5f",
             "gridcolor": "white",
             "linecolor": "white",
             "minorgridcolor": "white",
             "startlinecolor": "#2a3f5f"
            },
            "baxis": {
             "endlinecolor": "#2a3f5f",
             "gridcolor": "white",
             "linecolor": "white",
             "minorgridcolor": "white",
             "startlinecolor": "#2a3f5f"
            },
            "type": "carpet"
           }
          ],
          "choropleth": [
           {
            "colorbar": {
             "outlinewidth": 0,
             "ticks": ""
            },
            "type": "choropleth"
           }
          ],
          "contour": [
           {
            "colorbar": {
             "outlinewidth": 0,
             "ticks": ""
            },
            "colorscale": [
             [
              0,
              "#0d0887"
             ],
             [
              0.1111111111111111,
              "#46039f"
             ],
             [
              0.2222222222222222,
              "#7201a8"
             ],
             [
              0.3333333333333333,
              "#9c179e"
             ],
             [
              0.4444444444444444,
              "#bd3786"
             ],
             [
              0.5555555555555556,
              "#d8576b"
             ],
             [
              0.6666666666666666,
              "#ed7953"
             ],
             [
              0.7777777777777778,
              "#fb9f3a"
             ],
             [
              0.8888888888888888,
              "#fdca26"
             ],
             [
              1,
              "#f0f921"
             ]
            ],
            "type": "contour"
           }
          ],
          "contourcarpet": [
           {
            "colorbar": {
             "outlinewidth": 0,
             "ticks": ""
            },
            "type": "contourcarpet"
           }
          ],
          "heatmap": [
           {
            "colorbar": {
             "outlinewidth": 0,
             "ticks": ""
            },
            "colorscale": [
             [
              0,
              "#0d0887"
             ],
             [
              0.1111111111111111,
              "#46039f"
             ],
             [
              0.2222222222222222,
              "#7201a8"
             ],
             [
              0.3333333333333333,
              "#9c179e"
             ],
             [
              0.4444444444444444,
              "#bd3786"
             ],
             [
              0.5555555555555556,
              "#d8576b"
             ],
             [
              0.6666666666666666,
              "#ed7953"
             ],
             [
              0.7777777777777778,
              "#fb9f3a"
             ],
             [
              0.8888888888888888,
              "#fdca26"
             ],
             [
              1,
              "#f0f921"
             ]
            ],
            "type": "heatmap"
           }
          ],
          "heatmapgl": [
           {
            "colorbar": {
             "outlinewidth": 0,
             "ticks": ""
            },
            "colorscale": [
             [
              0,
              "#0d0887"
             ],
             [
              0.1111111111111111,
              "#46039f"
             ],
             [
              0.2222222222222222,
              "#7201a8"
             ],
             [
              0.3333333333333333,
              "#9c179e"
             ],
             [
              0.4444444444444444,
              "#bd3786"
             ],
             [
              0.5555555555555556,
              "#d8576b"
             ],
             [
              0.6666666666666666,
              "#ed7953"
             ],
             [
              0.7777777777777778,
              "#fb9f3a"
             ],
             [
              0.8888888888888888,
              "#fdca26"
             ],
             [
              1,
              "#f0f921"
             ]
            ],
            "type": "heatmapgl"
           }
          ],
          "histogram": [
           {
            "marker": {
             "pattern": {
              "fillmode": "overlay",
              "size": 10,
              "solidity": 0.2
             }
            },
            "type": "histogram"
           }
          ],
          "histogram2d": [
           {
            "colorbar": {
             "outlinewidth": 0,
             "ticks": ""
            },
            "colorscale": [
             [
              0,
              "#0d0887"
             ],
             [
              0.1111111111111111,
              "#46039f"
             ],
             [
              0.2222222222222222,
              "#7201a8"
             ],
             [
              0.3333333333333333,
              "#9c179e"
             ],
             [
              0.4444444444444444,
              "#bd3786"
             ],
             [
              0.5555555555555556,
              "#d8576b"
             ],
             [
              0.6666666666666666,
              "#ed7953"
             ],
             [
              0.7777777777777778,
              "#fb9f3a"
             ],
             [
              0.8888888888888888,
              "#fdca26"
             ],
             [
              1,
              "#f0f921"
             ]
            ],
            "type": "histogram2d"
           }
          ],
          "histogram2dcontour": [
           {
            "colorbar": {
             "outlinewidth": 0,
             "ticks": ""
            },
            "colorscale": [
             [
              0,
              "#0d0887"
             ],
             [
              0.1111111111111111,
              "#46039f"
             ],
             [
              0.2222222222222222,
              "#7201a8"
             ],
             [
              0.3333333333333333,
              "#9c179e"
             ],
             [
              0.4444444444444444,
              "#bd3786"
             ],
             [
              0.5555555555555556,
              "#d8576b"
             ],
             [
              0.6666666666666666,
              "#ed7953"
             ],
             [
              0.7777777777777778,
              "#fb9f3a"
             ],
             [
              0.8888888888888888,
              "#fdca26"
             ],
             [
              1,
              "#f0f921"
             ]
            ],
            "type": "histogram2dcontour"
           }
          ],
          "mesh3d": [
           {
            "colorbar": {
             "outlinewidth": 0,
             "ticks": ""
            },
            "type": "mesh3d"
           }
          ],
          "parcoords": [
           {
            "line": {
             "colorbar": {
              "outlinewidth": 0,
              "ticks": ""
             }
            },
            "type": "parcoords"
           }
          ],
          "pie": [
           {
            "automargin": true,
            "type": "pie"
           }
          ],
          "scatter": [
           {
            "fillpattern": {
             "fillmode": "overlay",
             "size": 10,
             "solidity": 0.2
            },
            "type": "scatter"
           }
          ],
          "scatter3d": [
           {
            "line": {
             "colorbar": {
              "outlinewidth": 0,
              "ticks": ""
             }
            },
            "marker": {
             "colorbar": {
              "outlinewidth": 0,
              "ticks": ""
             }
            },
            "type": "scatter3d"
           }
          ],
          "scattercarpet": [
           {
            "marker": {
             "colorbar": {
              "outlinewidth": 0,
              "ticks": ""
             }
            },
            "type": "scattercarpet"
           }
          ],
          "scattergeo": [
           {
            "marker": {
             "colorbar": {
              "outlinewidth": 0,
              "ticks": ""
             }
            },
            "type": "scattergeo"
           }
          ],
          "scattergl": [
           {
            "marker": {
             "colorbar": {
              "outlinewidth": 0,
              "ticks": ""
             }
            },
            "type": "scattergl"
           }
          ],
          "scattermapbox": [
           {
            "marker": {
             "colorbar": {
              "outlinewidth": 0,
              "ticks": ""
             }
            },
            "type": "scattermapbox"
           }
          ],
          "scatterpolar": [
           {
            "marker": {
             "colorbar": {
              "outlinewidth": 0,
              "ticks": ""
             }
            },
            "type": "scatterpolar"
           }
          ],
          "scatterpolargl": [
           {
            "marker": {
             "colorbar": {
              "outlinewidth": 0,
              "ticks": ""
             }
            },
            "type": "scatterpolargl"
           }
          ],
          "scatterternary": [
           {
            "marker": {
             "colorbar": {
              "outlinewidth": 0,
              "ticks": ""
             }
            },
            "type": "scatterternary"
           }
          ],
          "surface": [
           {
            "colorbar": {
             "outlinewidth": 0,
             "ticks": ""
            },
            "colorscale": [
             [
              0,
              "#0d0887"
             ],
             [
              0.1111111111111111,
              "#46039f"
             ],
             [
              0.2222222222222222,
              "#7201a8"
             ],
             [
              0.3333333333333333,
              "#9c179e"
             ],
             [
              0.4444444444444444,
              "#bd3786"
             ],
             [
              0.5555555555555556,
              "#d8576b"
             ],
             [
              0.6666666666666666,
              "#ed7953"
             ],
             [
              0.7777777777777778,
              "#fb9f3a"
             ],
             [
              0.8888888888888888,
              "#fdca26"
             ],
             [
              1,
              "#f0f921"
             ]
            ],
            "type": "surface"
           }
          ],
          "table": [
           {
            "cells": {
             "fill": {
              "color": "#EBF0F8"
             },
             "line": {
              "color": "white"
             }
            },
            "header": {
             "fill": {
              "color": "#C8D4E3"
             },
             "line": {
              "color": "white"
             }
            },
            "type": "table"
           }
          ]
         },
         "layout": {
          "annotationdefaults": {
           "arrowcolor": "#2a3f5f",
           "arrowhead": 0,
           "arrowwidth": 1
          },
          "autotypenumbers": "strict",
          "coloraxis": {
           "colorbar": {
            "outlinewidth": 0,
            "ticks": ""
           }
          },
          "colorscale": {
           "diverging": [
            [
             0,
             "#8e0152"
            ],
            [
             0.1,
             "#c51b7d"
            ],
            [
             0.2,
             "#de77ae"
            ],
            [
             0.3,
             "#f1b6da"
            ],
            [
             0.4,
             "#fde0ef"
            ],
            [
             0.5,
             "#f7f7f7"
            ],
            [
             0.6,
             "#e6f5d0"
            ],
            [
             0.7,
             "#b8e186"
            ],
            [
             0.8,
             "#7fbc41"
            ],
            [
             0.9,
             "#4d9221"
            ],
            [
             1,
             "#276419"
            ]
           ],
           "sequential": [
            [
             0,
             "#0d0887"
            ],
            [
             0.1111111111111111,
             "#46039f"
            ],
            [
             0.2222222222222222,
             "#7201a8"
            ],
            [
             0.3333333333333333,
             "#9c179e"
            ],
            [
             0.4444444444444444,
             "#bd3786"
            ],
            [
             0.5555555555555556,
             "#d8576b"
            ],
            [
             0.6666666666666666,
             "#ed7953"
            ],
            [
             0.7777777777777778,
             "#fb9f3a"
            ],
            [
             0.8888888888888888,
             "#fdca26"
            ],
            [
             1,
             "#f0f921"
            ]
           ],
           "sequentialminus": [
            [
             0,
             "#0d0887"
            ],
            [
             0.1111111111111111,
             "#46039f"
            ],
            [
             0.2222222222222222,
             "#7201a8"
            ],
            [
             0.3333333333333333,
             "#9c179e"
            ],
            [
             0.4444444444444444,
             "#bd3786"
            ],
            [
             0.5555555555555556,
             "#d8576b"
            ],
            [
             0.6666666666666666,
             "#ed7953"
            ],
            [
             0.7777777777777778,
             "#fb9f3a"
            ],
            [
             0.8888888888888888,
             "#fdca26"
            ],
            [
             1,
             "#f0f921"
            ]
           ]
          },
          "colorway": [
           "#636efa",
           "#EF553B",
           "#00cc96",
           "#ab63fa",
           "#FFA15A",
           "#19d3f3",
           "#FF6692",
           "#B6E880",
           "#FF97FF",
           "#FECB52"
          ],
          "font": {
           "color": "#2a3f5f"
          },
          "geo": {
           "bgcolor": "white",
           "lakecolor": "white",
           "landcolor": "#E5ECF6",
           "showlakes": true,
           "showland": true,
           "subunitcolor": "white"
          },
          "hoverlabel": {
           "align": "left"
          },
          "hovermode": "closest",
          "mapbox": {
           "style": "light"
          },
          "paper_bgcolor": "white",
          "plot_bgcolor": "#E5ECF6",
          "polar": {
           "angularaxis": {
            "gridcolor": "white",
            "linecolor": "white",
            "ticks": ""
           },
           "bgcolor": "#E5ECF6",
           "radialaxis": {
            "gridcolor": "white",
            "linecolor": "white",
            "ticks": ""
           }
          },
          "scene": {
           "xaxis": {
            "backgroundcolor": "#E5ECF6",
            "gridcolor": "white",
            "gridwidth": 2,
            "linecolor": "white",
            "showbackground": true,
            "ticks": "",
            "zerolinecolor": "white"
           },
           "yaxis": {
            "backgroundcolor": "#E5ECF6",
            "gridcolor": "white",
            "gridwidth": 2,
            "linecolor": "white",
            "showbackground": true,
            "ticks": "",
            "zerolinecolor": "white"
           },
           "zaxis": {
            "backgroundcolor": "#E5ECF6",
            "gridcolor": "white",
            "gridwidth": 2,
            "linecolor": "white",
            "showbackground": true,
            "ticks": "",
            "zerolinecolor": "white"
           }
          },
          "shapedefaults": {
           "line": {
            "color": "#2a3f5f"
           }
          },
          "ternary": {
           "aaxis": {
            "gridcolor": "white",
            "linecolor": "white",
            "ticks": ""
           },
           "baxis": {
            "gridcolor": "white",
            "linecolor": "white",
            "ticks": ""
           },
           "bgcolor": "#E5ECF6",
           "caxis": {
            "gridcolor": "white",
            "linecolor": "white",
            "ticks": ""
           }
          },
          "title": {
           "x": 0.05
          },
          "xaxis": {
           "automargin": true,
           "gridcolor": "white",
           "linecolor": "white",
           "ticks": "",
           "title": {
            "standoff": 15
           },
           "zerolinecolor": "white",
           "zerolinewidth": 2
          },
          "yaxis": {
           "automargin": true,
           "gridcolor": "white",
           "linecolor": "white",
           "ticks": "",
           "title": {
            "standoff": 15
           },
           "zerolinecolor": "white",
           "zerolinewidth": 2
          }
         }
        },
        "title": {
         "text": "Palm oil production in 2021"
        }
       }
      }
     },
     "metadata": {},
     "output_type": "display_data"
    }
   ],
   "source": [
    "import pandas as pd\n",
    "import plotly.graph_objects as go\n",
    "import plotly.express as px\n",
    "\n",
    "# Load the dataset\n",
    "df = pd.read_csv('../Datasets/palm-oil-production.csv')\n",
    "\n",
    "# Filter data for the year 2021\n",
    "df_2021 = df.loc[df['Year'] == 2021]\n",
    "\n",
    "# Sort by production to get the top 5 entries\n",
    "df_2021_top5 = df_2021.sort_values(by='Production', ascending=False).head(5)\n",
    "\n",
    "# Calculate the total production of the remaining entries\n",
    "others_production = df_2021.sort_values(by='Production', ascending=False).iloc[5:]['Production'].sum()\n",
    "\n",
    "# Create a new DataFrame for the 'Other' category\n",
    "df_others = pd.DataFrame({'Entity': ['Other'], 'Production': [others_production]})\n",
    "\n",
    "# Concatenate the top 5 entries with the 'Other' category\n",
    "df_2021_final = pd.concat([df_2021_top5, df_others], ignore_index=True)\n",
    "\n",
    "# Define labels and values for the donut chart\n",
    "labels = df_2021_final['Entity']\n",
    "values = df_2021_final['Production']\n",
    "\n",
    "# Define colors for the producers using provided palette\n",
    "colors = px.colors.qualitative.T10\n",
    "\n",
    "# Create the donut chart using Plotly\n",
    "fig = go.Figure(data=[go.Pie(\n",
    "    labels=labels, \n",
    "    values=values, \n",
    "    hole=.7,  # Set the hole size for the donut chart\n",
    "    textinfo='label+percent',\n",
    "    textposition='outside',\n",
    "    insidetextorientation='radial',\n",
    "    marker=dict(colors=colors)\n",
    ")])\n",
    "\n",
    "fig.update_layout(\n",
    "    title_text='Palm oil production in 2021',\n",
    "    showlegend=False,\n",
    "    height=600 \n",
    ")\n",
    "\n",
    "# Show the plot\n",
    "fig.show()\n"
   ]
  },
  {
   "cell_type": "markdown",
   "metadata": {},
   "source": [
    "## Dataset and Preprocessing"
   ]
  },
  {
   "cell_type": "markdown",
   "metadata": {},
   "source": [
    "### Datasets\n",
    "\n",
    "Th\n",
    "https://ourworldindata.org/grapher/oil-yield-by-crop?tab=table\n",
    "\n",
    "https://www.kaggle.com/datasets/karnikakapoor/global-forest-data-2001-2022\n",
    "\n",
    "https://ourworldindata.org/palm-oil\n",
    "\n",
    "https://ourworldindata.org/grapher/vegetable-oil-production"
   ]
  },
  {
   "cell_type": "markdown",
   "metadata": {},
   "source": [
    "### Preprocessing\n",
    "\n",
    "We have sorted the global data within the separate code cells. Most of the data is sorted for Indonesia and Malaysia and the years 2000-2023."
   ]
  },
  {
   "cell_type": "markdown",
   "metadata": {},
   "source": [
    "## Perspective 1: We must stop the production of palm Oil"
   ]
  },
  {
   "cell_type": "markdown",
   "metadata": {},
   "source": [
    "### Argument 1: It leads to deforestation\n",
    "\n",
    "As we can see in the following graphs, the production of palm oil in Indonesia and Malaysia, has been steadily increasing over the years. With the total production in 2023 being more than three times as much as in 2000."
   ]
  },
  {
   "cell_type": "code",
   "execution_count": 49,
   "metadata": {
    "tags": [
     "hide-input"
    ]
   },
   "outputs": [
    {
     "data": {
      "application/vnd.plotly.v1+json": {
       "config": {
        "plotlyServerURL": "https://plot.ly"
       },
       "data": [
        {
         "coloraxis": "coloraxis",
         "geo": "geo",
         "hovertemplate": "<b>%{hovertext}</b><br><br>Year=1961<br>Entity=%{location}<br>Production=%{z}<extra></extra>",
         "hovertext": [
          "Albania",
          "Colombia",
          "Papua New Guinea",
          "Paraguay",
          "China",
          "Peru",
          "Philippines",
          "Sao Tome and Principe",
          "Cameroon",
          "Cambodia",
          "Senegal",
          "Sierra Leone",
          "Burundi",
          "Solomon Islands",
          "Suriname",
          "Brazil",
          "Tanzania",
          "Benin",
          "Thailand",
          "Austria",
          "Congo",
          "Norway",
          "Nigeria",
          "Costa Rica",
          "Gambia",
          "Germany",
          "Ghana",
          "Gabon",
          "Guatemala",
          "Equatorial Guinea",
          "Guinea",
          "Guinea-Bissau",
          "Ecuador",
          "Togo",
          "Honduras",
          "Indonesia",
          "Dominican Republic",
          "Liberia",
          "Madagascar",
          "Democratic Republic of Congo",
          "Malaysia",
          "Cote d'Ivoire",
          "Mexico",
          "Nicaragua",
          "East Timor",
          "Venezuela",
          "Panama",
          "Angola"
         ],
         "locationmode": "country names",
         "locations": [
          "Albania",
          "Colombia",
          "Papua New Guinea",
          "Paraguay",
          "China",
          "Peru",
          "Philippines",
          "Sao Tome and Principe",
          "Cameroon",
          "Cambodia",
          "Senegal",
          "Sierra Leone",
          "Burundi",
          "Solomon Islands",
          "Suriname",
          "Brazil",
          "Tanzania",
          "Benin",
          "Thailand",
          "Austria",
          "Congo",
          "Norway",
          "Nigeria",
          "Costa Rica",
          "Gambia",
          "Germany",
          "Ghana",
          "Gabon",
          "Guatemala",
          "Equatorial Guinea",
          "Guinea",
          "Guinea-Bissau",
          "Ecuador",
          "Togo",
          "Honduras",
          "Indonesia",
          "Dominican Republic",
          "Liberia",
          "Madagascar",
          "Democratic Republic of Congo",
          "Malaysia",
          "Cote d'Ivoire",
          "Mexico",
          "Nicaragua",
          "East Timor",
          "Venezuela",
          "Panama",
          "Angola"
         ],
         "name": "",
         "type": "choropleth",
         "z": [
          0,
          1700,
          0,
          2500,
          40000,
          0,
          280,
          2000,
          37200,
          0,
          3700,
          35000,
          1000,
          200,
          0,
          3993,
          700,
          24600,
          600,
          0,
          6592,
          0,
          669000,
          4300,
          1700,
          0,
          23000,
          1500,
          0,
          3100,
          22400,
          6500,
          30000,
          7700,
          2660,
          145700,
          0,
          7000,
          0,
          224000,
          94846,
          14000,
          20240,
          0,
          0,
          0,
          0,
          40000
         ]
        }
       ],
       "frames": [
        {
         "data": [
          {
           "coloraxis": "coloraxis",
           "geo": "geo",
           "hovertemplate": "<b>%{hovertext}</b><br><br>Year=1961<br>Entity=%{location}<br>Production=%{z}<extra></extra>",
           "hovertext": [
            "Albania",
            "Colombia",
            "Papua New Guinea",
            "Paraguay",
            "China",
            "Peru",
            "Philippines",
            "Sao Tome and Principe",
            "Cameroon",
            "Cambodia",
            "Senegal",
            "Sierra Leone",
            "Burundi",
            "Solomon Islands",
            "Suriname",
            "Brazil",
            "Tanzania",
            "Benin",
            "Thailand",
            "Austria",
            "Congo",
            "Norway",
            "Nigeria",
            "Costa Rica",
            "Gambia",
            "Germany",
            "Ghana",
            "Gabon",
            "Guatemala",
            "Equatorial Guinea",
            "Guinea",
            "Guinea-Bissau",
            "Ecuador",
            "Togo",
            "Honduras",
            "Indonesia",
            "Dominican Republic",
            "Liberia",
            "Madagascar",
            "Democratic Republic of Congo",
            "Malaysia",
            "Cote d'Ivoire",
            "Mexico",
            "Nicaragua",
            "East Timor",
            "Venezuela",
            "Panama",
            "Angola"
           ],
           "locationmode": "country names",
           "locations": [
            "Albania",
            "Colombia",
            "Papua New Guinea",
            "Paraguay",
            "China",
            "Peru",
            "Philippines",
            "Sao Tome and Principe",
            "Cameroon",
            "Cambodia",
            "Senegal",
            "Sierra Leone",
            "Burundi",
            "Solomon Islands",
            "Suriname",
            "Brazil",
            "Tanzania",
            "Benin",
            "Thailand",
            "Austria",
            "Congo",
            "Norway",
            "Nigeria",
            "Costa Rica",
            "Gambia",
            "Germany",
            "Ghana",
            "Gabon",
            "Guatemala",
            "Equatorial Guinea",
            "Guinea",
            "Guinea-Bissau",
            "Ecuador",
            "Togo",
            "Honduras",
            "Indonesia",
            "Dominican Republic",
            "Liberia",
            "Madagascar",
            "Democratic Republic of Congo",
            "Malaysia",
            "Cote d'Ivoire",
            "Mexico",
            "Nicaragua",
            "East Timor",
            "Venezuela",
            "Panama",
            "Angola"
           ],
           "name": "",
           "type": "choropleth",
           "z": [
            0,
            1700,
            0,
            2500,
            40000,
            0,
            280,
            2000,
            37200,
            0,
            3700,
            35000,
            1000,
            200,
            0,
            3993,
            700,
            24600,
            600,
            0,
            6592,
            0,
            669000,
            4300,
            1700,
            0,
            23000,
            1500,
            0,
            3100,
            22400,
            6500,
            30000,
            7700,
            2660,
            145700,
            0,
            7000,
            0,
            224000,
            94846,
            14000,
            20240,
            0,
            0,
            0,
            0,
            40000
           ]
          }
         ],
         "name": "1961"
        },
        {
         "data": [
          {
           "coloraxis": "coloraxis",
           "geo": "geo",
           "hovertemplate": "<b>%{hovertext}</b><br><br>Year=1962<br>Entity=%{location}<br>Production=%{z}<extra></extra>",
           "hovertext": [
            "Congo",
            "Guinea-Bissau",
            "Sierra Leone",
            "Thailand",
            "Costa Rica",
            "Nigeria",
            "Guinea",
            "Equatorial Guinea",
            "Senegal",
            "Cambodia",
            "Guatemala",
            "Panama",
            "Austria",
            "Gabon",
            "Colombia",
            "Papua New Guinea",
            "Benin",
            "Nicaragua",
            "Mexico",
            "Ecuador",
            "Dominican Republic",
            "Liberia",
            "Brazil",
            "Madagascar",
            "Suriname",
            "Democratic Republic of Congo",
            "Indonesia",
            "Malaysia",
            "Angola",
            "Tanzania",
            "Solomon Islands",
            "East Timor",
            "Cote d'Ivoire",
            "Burundi",
            "Honduras",
            "Togo",
            "Cameroon",
            "Norway",
            "Ghana",
            "Venezuela",
            "Philippines",
            "Gambia",
            "Paraguay",
            "Albania",
            "China",
            "Peru",
            "Sao Tome and Principe",
            "Germany"
           ],
           "locationmode": "country names",
           "locations": [
            "Congo",
            "Guinea-Bissau",
            "Sierra Leone",
            "Thailand",
            "Costa Rica",
            "Nigeria",
            "Guinea",
            "Equatorial Guinea",
            "Senegal",
            "Cambodia",
            "Guatemala",
            "Panama",
            "Austria",
            "Gabon",
            "Colombia",
            "Papua New Guinea",
            "Benin",
            "Nicaragua",
            "Mexico",
            "Ecuador",
            "Dominican Republic",
            "Liberia",
            "Brazil",
            "Madagascar",
            "Suriname",
            "Democratic Republic of Congo",
            "Indonesia",
            "Malaysia",
            "Angola",
            "Tanzania",
            "Solomon Islands",
            "East Timor",
            "Cote d'Ivoire",
            "Burundi",
            "Honduras",
            "Togo",
            "Cameroon",
            "Norway",
            "Ghana",
            "Venezuela",
            "Philippines",
            "Gambia",
            "Paraguay",
            "Albania",
            "China",
            "Peru",
            "Sao Tome and Principe",
            "Germany"
           ],
           "name": "",
           "type": "choropleth",
           "z": [
            7100,
            6500,
            35000,
            600,
            5300,
            640000,
            24200,
            3300,
            3800,
            0,
            0,
            0,
            0,
            1500,
            1950,
            0,
            23200,
            0,
            23400,
            32000,
            0,
            8000,
            5126,
            0,
            0,
            229000,
            141500,
            108171,
            41000,
            800,
            200,
            0,
            13000,
            1000,
            2808,
            7700,
            37000,
            0,
            24000,
            0,
            280,
            1800,
            3600,
            0,
            40000,
            0,
            1856,
            0
           ]
          }
         ],
         "name": "1962"
        },
        {
         "data": [
          {
           "coloraxis": "coloraxis",
           "geo": "geo",
           "hovertemplate": "<b>%{hovertext}</b><br><br>Year=1963<br>Entity=%{location}<br>Production=%{z}<extra></extra>",
           "hovertext": [
            "China",
            "Guinea",
            "Solomon Islands",
            "Germany",
            "Albania",
            "East Timor",
            "Sao Tome and Principe",
            "Nigeria",
            "Tanzania",
            "Dominican Republic",
            "Cote d'Ivoire",
            "Senegal",
            "Peru",
            "Angola",
            "Venezuela",
            "Benin",
            "Burundi",
            "Sierra Leone",
            "Cameroon",
            "Honduras",
            "Guinea-Bissau",
            "Ecuador",
            "Nicaragua",
            "Thailand",
            "Costa Rica",
            "Equatorial Guinea",
            "Mexico",
            "Philippines",
            "Colombia",
            "Madagascar",
            "Austria",
            "Paraguay",
            "Malaysia",
            "Suriname",
            "Togo",
            "Panama",
            "Gabon",
            "Democratic Republic of Congo",
            "Papua New Guinea",
            "Liberia",
            "Guatemala",
            "Indonesia",
            "Norway",
            "Cambodia",
            "Ghana",
            "Congo",
            "Gambia",
            "Brazil"
           ],
           "locationmode": "country names",
           "locations": [
            "China",
            "Guinea",
            "Solomon Islands",
            "Germany",
            "Albania",
            "East Timor",
            "Sao Tome and Principe",
            "Nigeria",
            "Tanzania",
            "Dominican Republic",
            "Cote d'Ivoire",
            "Senegal",
            "Peru",
            "Angola",
            "Venezuela",
            "Benin",
            "Burundi",
            "Sierra Leone",
            "Cameroon",
            "Honduras",
            "Guinea-Bissau",
            "Ecuador",
            "Nicaragua",
            "Thailand",
            "Costa Rica",
            "Equatorial Guinea",
            "Mexico",
            "Philippines",
            "Colombia",
            "Madagascar",
            "Austria",
            "Paraguay",
            "Malaysia",
            "Suriname",
            "Togo",
            "Panama",
            "Gabon",
            "Democratic Republic of Congo",
            "Papua New Guinea",
            "Liberia",
            "Guatemala",
            "Indonesia",
            "Norway",
            "Cambodia",
            "Ghana",
            "Congo",
            "Gambia",
            "Brazil"
           ],
           "name": "",
           "type": "choropleth",
           "z": [
            40000,
            27600,
            200,
            0,
            0,
            0,
            1641,
            657000,
            813,
            0,
            15000,
            3900,
            0,
            36000,
            0,
            24800,
            1000,
            37000,
            51400,
            2855,
            6500,
            32000,
            0,
            600,
            9200,
            3100,
            18800,
            280,
            2100,
            0,
            0,
            4700,
            125691,
            0,
            7700,
            0,
            1600,
            223500,
            0,
            10000,
            0,
            148300,
            0,
            0,
            25000,
            8750,
            1600,
            5340
           ]
          }
         ],
         "name": "1963"
        },
        {
         "data": [
          {
           "coloraxis": "coloraxis",
           "geo": "geo",
           "hovertemplate": "<b>%{hovertext}</b><br><br>Year=1964<br>Entity=%{location}<br>Production=%{z}<extra></extra>",
           "hovertext": [
            "Liberia",
            "Philippines",
            "Brazil",
            "Ecuador",
            "Burundi",
            "Honduras",
            "Malaysia",
            "Peru",
            "Cote d'Ivoire",
            "Gambia",
            "East Timor",
            "Democratic Republic of Congo",
            "Germany",
            "Indonesia",
            "Solomon Islands",
            "Tanzania",
            "Madagascar",
            "Suriname",
            "Cameroon",
            "Equatorial Guinea",
            "Austria",
            "Ghana",
            "Guatemala",
            "Norway",
            "Cambodia",
            "Congo",
            "Mexico",
            "Albania",
            "Senegal",
            "Colombia",
            "China",
            "Paraguay",
            "Guinea",
            "Dominican Republic",
            "Gabon",
            "Sierra Leone",
            "Venezuela",
            "Nicaragua",
            "Guinea-Bissau",
            "Papua New Guinea",
            "Benin",
            "Sao Tome and Principe",
            "Panama",
            "Angola",
            "Togo",
            "Thailand",
            "Nigeria",
            "Costa Rica"
           ],
           "locationmode": "country names",
           "locations": [
            "Liberia",
            "Philippines",
            "Brazil",
            "Ecuador",
            "Burundi",
            "Honduras",
            "Malaysia",
            "Peru",
            "Cote d'Ivoire",
            "Gambia",
            "East Timor",
            "Democratic Republic of Congo",
            "Germany",
            "Indonesia",
            "Solomon Islands",
            "Tanzania",
            "Madagascar",
            "Suriname",
            "Cameroon",
            "Equatorial Guinea",
            "Austria",
            "Ghana",
            "Guatemala",
            "Norway",
            "Cambodia",
            "Congo",
            "Mexico",
            "Albania",
            "Senegal",
            "Colombia",
            "China",
            "Paraguay",
            "Guinea",
            "Dominican Republic",
            "Gabon",
            "Sierra Leone",
            "Venezuela",
            "Nicaragua",
            "Guinea-Bissau",
            "Papua New Guinea",
            "Benin",
            "Sao Tome and Principe",
            "Panama",
            "Angola",
            "Togo",
            "Thailand",
            "Nigeria",
            "Costa Rica"
           ],
           "name": "",
           "type": "choropleth",
           "z": [
            10000,
            280,
            6429,
            34000,
            1000,
            3150,
            122913,
            0,
            16000,
            1700,
            0,
            209300,
            0,
            164000,
            200,
            800,
            0,
            0,
            52600,
            3209,
            0,
            26000,
            0,
            0,
            0,
            9000,
            20600,
            0,
            4000,
            2200,
            40000,
            5929,
            25800,
            0,
            1900,
            39000,
            0,
            0,
            6000,
            0,
            27000,
            1372,
            0,
            41000,
            7700,
            600,
            676000,
            8900
           ]
          }
         ],
         "name": "1964"
        },
        {
         "data": [
          {
           "coloraxis": "coloraxis",
           "geo": "geo",
           "hovertemplate": "<b>%{hovertext}</b><br><br>Year=1965<br>Entity=%{location}<br>Production=%{z}<extra></extra>",
           "hovertext": [
            "Peru",
            "Liberia",
            "Colombia",
            "Papua New Guinea",
            "Panama",
            "Paraguay",
            "Philippines",
            "Cameroon",
            "Burundi",
            "Democratic Republic of Congo",
            "China",
            "Norway",
            "Cambodia",
            "Malaysia",
            "Senegal",
            "Solomon Islands",
            "Congo",
            "Cote d'Ivoire",
            "Nigeria",
            "Sao Tome and Principe",
            "Costa Rica",
            "Nicaragua",
            "Mexico",
            "Madagascar",
            "Sierra Leone",
            "Suriname",
            "Austria",
            "Honduras",
            "Ecuador",
            "Guinea-Bissau",
            "Tanzania",
            "Venezuela",
            "Benin",
            "Indonesia",
            "Thailand",
            "East Timor",
            "Dominican Republic",
            "Germany",
            "Gambia",
            "Guinea",
            "Togo",
            "Ghana",
            "Angola",
            "Equatorial Guinea",
            "Brazil",
            "Guatemala",
            "Gabon",
            "Albania"
           ],
           "locationmode": "country names",
           "locations": [
            "Peru",
            "Liberia",
            "Colombia",
            "Papua New Guinea",
            "Panama",
            "Paraguay",
            "Philippines",
            "Cameroon",
            "Burundi",
            "Democratic Republic of Congo",
            "China",
            "Norway",
            "Cambodia",
            "Malaysia",
            "Senegal",
            "Solomon Islands",
            "Congo",
            "Cote d'Ivoire",
            "Nigeria",
            "Sao Tome and Principe",
            "Costa Rica",
            "Nicaragua",
            "Mexico",
            "Madagascar",
            "Sierra Leone",
            "Suriname",
            "Austria",
            "Honduras",
            "Ecuador",
            "Guinea-Bissau",
            "Tanzania",
            "Venezuela",
            "Benin",
            "Indonesia",
            "Thailand",
            "East Timor",
            "Dominican Republic",
            "Germany",
            "Gambia",
            "Guinea",
            "Togo",
            "Ghana",
            "Angola",
            "Equatorial Guinea",
            "Brazil",
            "Guatemala",
            "Gabon",
            "Albania"
           ],
           "name": "",
           "type": "choropleth",
           "z": [
            0,
            13000,
            2200,
            0,
            0,
            5021,
            280,
            60750,
            1000,
            162400,
            40000,
            0,
            0,
            150411,
            4100,
            200,
            10000,
            18000,
            687000,
            1733,
            9200,
            0,
            20700,
            0,
            39000,
            0,
            0,
            3550,
            40000,
            6000,
            794,
            0,
            27000,
            156700,
            600,
            0,
            0,
            0,
            2100,
            31300,
            7700,
            27000,
            32000,
            3783,
            8491,
            0,
            2600,
            0
           ]
          }
         ],
         "name": "1965"
        },
        {
         "data": [
          {
           "coloraxis": "coloraxis",
           "geo": "geo",
           "hovertemplate": "<b>%{hovertext}</b><br><br>Year=1966<br>Entity=%{location}<br>Production=%{z}<extra></extra>",
           "hovertext": [
            "Guinea-Bissau",
            "Austria",
            "Mexico",
            "Ghana",
            "Angola",
            "Nicaragua",
            "Burundi",
            "Ecuador",
            "Norway",
            "China",
            "Panama",
            "Paraguay",
            "Albania",
            "Gabon",
            "Costa Rica",
            "Senegal",
            "Sierra Leone",
            "Benin",
            "Guatemala",
            "Sao Tome and Principe",
            "Cambodia",
            "Colombia",
            "Nigeria",
            "Papua New Guinea",
            "Equatorial Guinea",
            "Togo",
            "Congo",
            "Cameroon",
            "Thailand",
            "Guinea",
            "East Timor",
            "Solomon Islands",
            "Madagascar",
            "Tanzania",
            "Suriname",
            "Germany",
            "Dominican Republic",
            "Honduras",
            "Malaysia",
            "Peru",
            "Gambia",
            "Philippines",
            "Liberia",
            "Brazil",
            "Democratic Republic of Congo",
            "Indonesia",
            "Cote d'Ivoire",
            "Venezuela"
           ],
           "locationmode": "country names",
           "locations": [
            "Guinea-Bissau",
            "Austria",
            "Mexico",
            "Ghana",
            "Angola",
            "Nicaragua",
            "Burundi",
            "Ecuador",
            "Norway",
            "China",
            "Panama",
            "Paraguay",
            "Albania",
            "Gabon",
            "Costa Rica",
            "Senegal",
            "Sierra Leone",
            "Benin",
            "Guatemala",
            "Sao Tome and Principe",
            "Cambodia",
            "Colombia",
            "Nigeria",
            "Papua New Guinea",
            "Equatorial Guinea",
            "Togo",
            "Congo",
            "Cameroon",
            "Thailand",
            "Guinea",
            "East Timor",
            "Solomon Islands",
            "Madagascar",
            "Tanzania",
            "Suriname",
            "Germany",
            "Dominican Republic",
            "Honduras",
            "Malaysia",
            "Peru",
            "Gambia",
            "Philippines",
            "Liberia",
            "Brazil",
            "Democratic Republic of Congo",
            "Indonesia",
            "Cote d'Ivoire",
            "Venezuela"
           ],
           "name": "",
           "type": "choropleth",
           "z": [
            5000,
            0,
            20800,
            16000,
            35000,
            0,
            1000,
            37000,
            0,
            60000,
            0,
            4544,
            0,
            2400,
            9100,
            4200,
            40000,
            27000,
            0,
            1364,
            0,
            2800,
            713000,
            0,
            4000,
            7700,
            11000,
            46000,
            600,
            35000,
            0,
            200,
            0,
            885,
            0,
            0,
            0,
            3895,
            189687,
            0,
            2100,
            550,
            13000,
            10980,
            167600,
            174400,
            17000,
            0
           ]
          }
         ],
         "name": "1966"
        },
        {
         "data": [
          {
           "coloraxis": "coloraxis",
           "geo": "geo",
           "hovertemplate": "<b>%{hovertext}</b><br><br>Year=1967<br>Entity=%{location}<br>Production=%{z}<extra></extra>",
           "hovertext": [
            "Senegal",
            "Togo",
            "Madagascar",
            "Democratic Republic of Congo",
            "Papua New Guinea",
            "Peru",
            "Congo",
            "Equatorial Guinea",
            "Dominican Republic",
            "Philippines",
            "Nigeria",
            "Gambia",
            "Suriname",
            "Guatemala",
            "Cambodia",
            "Colombia",
            "Liberia",
            "Norway",
            "Panama",
            "Brazil",
            "Austria",
            "Albania",
            "Guinea",
            "Thailand",
            "Tanzania",
            "Cote d'Ivoire",
            "Germany",
            "Burundi",
            "China",
            "Ecuador",
            "Paraguay",
            "Malaysia",
            "Mexico",
            "Guinea-Bissau",
            "Nicaragua",
            "Cameroon",
            "Gabon",
            "Ghana",
            "East Timor",
            "Solomon Islands",
            "Angola",
            "Indonesia",
            "Sierra Leone",
            "Sao Tome and Principe",
            "Benin",
            "Costa Rica",
            "Venezuela",
            "Honduras"
           ],
           "locationmode": "country names",
           "locations": [
            "Senegal",
            "Togo",
            "Madagascar",
            "Democratic Republic of Congo",
            "Papua New Guinea",
            "Peru",
            "Congo",
            "Equatorial Guinea",
            "Dominican Republic",
            "Philippines",
            "Nigeria",
            "Gambia",
            "Suriname",
            "Guatemala",
            "Cambodia",
            "Colombia",
            "Liberia",
            "Norway",
            "Panama",
            "Brazil",
            "Austria",
            "Albania",
            "Guinea",
            "Thailand",
            "Tanzania",
            "Cote d'Ivoire",
            "Germany",
            "Burundi",
            "China",
            "Ecuador",
            "Paraguay",
            "Malaysia",
            "Mexico",
            "Guinea-Bissau",
            "Nicaragua",
            "Cameroon",
            "Gabon",
            "Ghana",
            "East Timor",
            "Solomon Islands",
            "Angola",
            "Indonesia",
            "Sierra Leone",
            "Sao Tome and Principe",
            "Benin",
            "Costa Rica",
            "Venezuela",
            "Honduras"
           ],
           "name": "",
           "type": "choropleth",
           "z": [
            4300,
            7700,
            0,
            203200,
            0,
            0,
            12000,
            4000,
            0,
            550,
            601000,
            2100,
            0,
            0,
            0,
            11100,
            13500,
            0,
            0,
            9795,
            0,
            0,
            37500,
            600,
            938,
            20000,
            0,
            1000,
            72000,
            45000,
            4188,
            225758,
            18500,
            5500,
            0,
            62500,
            2500,
            18000,
            0,
            200,
            35000,
            167699,
            41000,
            1169,
            24700,
            9500,
            0,
            4320
           ]
          }
         ],
         "name": "1967"
        },
        {
         "data": [
          {
           "coloraxis": "coloraxis",
           "geo": "geo",
           "hovertemplate": "<b>%{hovertext}</b><br><br>Year=1968<br>Entity=%{location}<br>Production=%{z}<extra></extra>",
           "hovertext": [
            "Peru",
            "Germany",
            "Panama",
            "Sao Tome and Principe",
            "Paraguay",
            "Colombia",
            "Gambia",
            "Ghana",
            "Cameroon",
            "Togo",
            "Papua New Guinea",
            "Gabon",
            "China",
            "Venezuela",
            "Brazil",
            "Mexico",
            "Costa Rica",
            "Nicaragua",
            "Guinea-Bissau",
            "Austria",
            "Ecuador",
            "Burundi",
            "East Timor",
            "Cote d'Ivoire",
            "Benin",
            "Malaysia",
            "Solomon Islands",
            "Honduras",
            "Indonesia",
            "Democratic Republic of Congo",
            "Madagascar",
            "Dominican Republic",
            "Suriname",
            "Liberia",
            "Tanzania",
            "Sierra Leone",
            "Philippines",
            "Norway",
            "Guinea",
            "Equatorial Guinea",
            "Thailand",
            "Nigeria",
            "Albania",
            "Guatemala",
            "Senegal",
            "Cambodia",
            "Angola",
            "Congo"
           ],
           "locationmode": "country names",
           "locations": [
            "Peru",
            "Germany",
            "Panama",
            "Sao Tome and Principe",
            "Paraguay",
            "Colombia",
            "Gambia",
            "Ghana",
            "Cameroon",
            "Togo",
            "Papua New Guinea",
            "Gabon",
            "China",
            "Venezuela",
            "Brazil",
            "Mexico",
            "Costa Rica",
            "Nicaragua",
            "Guinea-Bissau",
            "Austria",
            "Ecuador",
            "Burundi",
            "East Timor",
            "Cote d'Ivoire",
            "Benin",
            "Malaysia",
            "Solomon Islands",
            "Honduras",
            "Indonesia",
            "Democratic Republic of Congo",
            "Madagascar",
            "Dominican Republic",
            "Suriname",
            "Liberia",
            "Tanzania",
            "Sierra Leone",
            "Philippines",
            "Norway",
            "Guinea",
            "Equatorial Guinea",
            "Thailand",
            "Nigeria",
            "Albania",
            "Guatemala",
            "Senegal",
            "Cambodia",
            "Angola",
            "Congo"
           ],
           "name": "",
           "type": "choropleth",
           "z": [
            0,
            0,
            0,
            997,
            5634,
            13400,
            2100,
            18000,
            64170,
            7700,
            0,
            2900,
            88000,
            0,
            10191,
            20200,
            10200,
            1500,
            6000,
            0,
            50000,
            1340,
            0,
            22000,
            27200,
            282984,
            200,
            4800,
            181444,
            242200,
            0,
            0,
            0,
            13500,
            1114,
            42000,
            550,
            0,
            41300,
            4000,
            600,
            599000,
            0,
            0,
            4400,
            0,
            38000,
            13700
           ]
          }
         ],
         "name": "1968"
        },
        {
         "data": [
          {
           "coloraxis": "coloraxis",
           "geo": "geo",
           "hovertemplate": "<b>%{hovertext}</b><br><br>Year=1969<br>Entity=%{location}<br>Production=%{z}<extra></extra>",
           "hovertext": [
            "Albania",
            "Paraguay",
            "Madagascar",
            "Indonesia",
            "Honduras",
            "Dominican Republic",
            "Peru",
            "Colombia",
            "Panama",
            "Liberia",
            "Gambia",
            "Democratic Republic of Congo",
            "Guatemala",
            "Malaysia",
            "Equatorial Guinea",
            "Guinea",
            "Costa Rica",
            "Nicaragua",
            "Gabon",
            "Mexico",
            "Nigeria",
            "Ghana",
            "Guinea-Bissau",
            "China",
            "Congo",
            "East Timor",
            "Germany",
            "Cote d'Ivoire",
            "Papua New Guinea",
            "Ecuador",
            "Norway",
            "Angola",
            "Suriname",
            "Philippines",
            "Tanzania",
            "Cambodia",
            "Venezuela",
            "Senegal",
            "Solomon Islands",
            "Austria",
            "Cameroon",
            "Sierra Leone",
            "Brazil",
            "Benin",
            "Burundi",
            "Thailand",
            "Togo",
            "Sao Tome and Principe"
           ],
           "locationmode": "country names",
           "locations": [
            "Albania",
            "Paraguay",
            "Madagascar",
            "Indonesia",
            "Honduras",
            "Dominican Republic",
            "Peru",
            "Colombia",
            "Panama",
            "Liberia",
            "Gambia",
            "Democratic Republic of Congo",
            "Guatemala",
            "Malaysia",
            "Equatorial Guinea",
            "Guinea",
            "Costa Rica",
            "Nicaragua",
            "Gabon",
            "Mexico",
            "Nigeria",
            "Ghana",
            "Guinea-Bissau",
            "China",
            "Congo",
            "East Timor",
            "Germany",
            "Cote d'Ivoire",
            "Papua New Guinea",
            "Ecuador",
            "Norway",
            "Angola",
            "Suriname",
            "Philippines",
            "Tanzania",
            "Cambodia",
            "Venezuela",
            "Senegal",
            "Solomon Islands",
            "Austria",
            "Cameroon",
            "Sierra Leone",
            "Brazil",
            "Benin",
            "Burundi",
            "Thailand",
            "Togo",
            "Sao Tome and Principe"
           ],
           "name": "",
           "type": "choropleth",
           "z": [
            0,
            6335,
            0,
            188800,
            5325,
            0,
            0,
            17700,
            0,
            13700,
            2000,
            245000,
            0,
            352096,
            4000,
            42800,
            12000,
            1500,
            2400,
            14900,
            621000,
            18000,
            5000,
            100000,
            14000,
            0,
            0,
            28000,
            0,
            35000,
            0,
            45000,
            0,
            1100,
            1489,
            0,
            0,
            4500,
            400,
            0,
            58000,
            45000,
            11619,
            31300,
            1670,
            600,
            7700,
            937
           ]
          }
         ],
         "name": "1969"
        },
        {
         "data": [
          {
           "coloraxis": "coloraxis",
           "geo": "geo",
           "hovertemplate": "<b>%{hovertext}</b><br><br>Year=1970<br>Entity=%{location}<br>Production=%{z}<extra></extra>",
           "hovertext": [
            "Congo",
            "Paraguay",
            "Indonesia",
            "Austria",
            "Dominican Republic",
            "Cambodia",
            "China",
            "Papua New Guinea",
            "Senegal",
            "Philippines",
            "Honduras",
            "Sao Tome and Principe",
            "Thailand",
            "Benin",
            "Guinea-Bissau",
            "Equatorial Guinea",
            "Colombia",
            "Norway",
            "Cameroon",
            "Albania",
            "Panama",
            "Mexico",
            "East Timor",
            "Tanzania",
            "Suriname",
            "Ecuador",
            "Guatemala",
            "Guinea",
            "Madagascar",
            "Angola",
            "Solomon Islands",
            "Germany",
            "Ghana",
            "Gambia",
            "Costa Rica",
            "Nicaragua",
            "Peru",
            "Sierra Leone",
            "Venezuela",
            "Democratic Republic of Congo",
            "Malaysia",
            "Togo",
            "Burundi",
            "Liberia",
            "Brazil",
            "Gabon",
            "Nigeria",
            "Cote d'Ivoire"
           ],
           "locationmode": "country names",
           "locations": [
            "Congo",
            "Paraguay",
            "Indonesia",
            "Austria",
            "Dominican Republic",
            "Cambodia",
            "China",
            "Papua New Guinea",
            "Senegal",
            "Philippines",
            "Honduras",
            "Sao Tome and Principe",
            "Thailand",
            "Benin",
            "Guinea-Bissau",
            "Equatorial Guinea",
            "Colombia",
            "Norway",
            "Cameroon",
            "Albania",
            "Panama",
            "Mexico",
            "East Timor",
            "Tanzania",
            "Suriname",
            "Ecuador",
            "Guatemala",
            "Guinea",
            "Madagascar",
            "Angola",
            "Solomon Islands",
            "Germany",
            "Ghana",
            "Gambia",
            "Costa Rica",
            "Nicaragua",
            "Peru",
            "Sierra Leone",
            "Venezuela",
            "Democratic Republic of Congo",
            "Malaysia",
            "Togo",
            "Burundi",
            "Liberia",
            "Brazil",
            "Gabon",
            "Nigeria",
            "Cote d'Ivoire"
           ],
           "name": "",
           "type": "choropleth",
           "z": [
            14000,
            6976,
            216827,
            0,
            0,
            0,
            112000,
            0,
            4600,
            2200,
            5910,
            952,
            600,
            31957,
            5000,
            4000,
            26900,
            0,
            64500,
            0,
            0,
            11200,
            0,
            1580,
            0,
            27000,
            0,
            43800,
            0,
            38000,
            400,
            0,
            20000,
            2000,
            13000,
            1500,
            0,
            48000,
            0,
            231700,
            431069,
            7700,
            1740,
            13750,
            4678,
            2200,
            488000,
            50000
           ]
          }
         ],
         "name": "1970"
        },
        {
         "data": [
          {
           "coloraxis": "coloraxis",
           "geo": "geo",
           "hovertemplate": "<b>%{hovertext}</b><br><br>Year=1971<br>Entity=%{location}<br>Production=%{z}<extra></extra>",
           "hovertext": [
            "Venezuela",
            "Ecuador",
            "Mexico",
            "Colombia",
            "Sao Tome and Principe",
            "Guinea",
            "Guinea-Bissau",
            "Malaysia",
            "Benin",
            "Cote d'Ivoire",
            "Burundi",
            "Suriname",
            "Solomon Islands",
            "Albania",
            "Congo",
            "Brazil",
            "Senegal",
            "Nigeria",
            "Liberia",
            "Democratic Republic of Congo",
            "Indonesia",
            "Cambodia",
            "Madagascar",
            "Norway",
            "Honduras",
            "Sierra Leone",
            "Costa Rica",
            "Tanzania",
            "Panama",
            "Nicaragua",
            "Dominican Republic",
            "East Timor",
            "Paraguay",
            "Angola",
            "Gabon",
            "Equatorial Guinea",
            "Philippines",
            "Togo",
            "China",
            "Cameroon",
            "Gambia",
            "Peru",
            "Thailand",
            "Guatemala",
            "Ghana",
            "Austria",
            "Papua New Guinea",
            "Germany"
           ],
           "locationmode": "country names",
           "locations": [
            "Venezuela",
            "Ecuador",
            "Mexico",
            "Colombia",
            "Sao Tome and Principe",
            "Guinea",
            "Guinea-Bissau",
            "Malaysia",
            "Benin",
            "Cote d'Ivoire",
            "Burundi",
            "Suriname",
            "Solomon Islands",
            "Albania",
            "Congo",
            "Brazil",
            "Senegal",
            "Nigeria",
            "Liberia",
            "Democratic Republic of Congo",
            "Indonesia",
            "Cambodia",
            "Madagascar",
            "Norway",
            "Honduras",
            "Sierra Leone",
            "Costa Rica",
            "Tanzania",
            "Panama",
            "Nicaragua",
            "Dominican Republic",
            "East Timor",
            "Paraguay",
            "Angola",
            "Gabon",
            "Equatorial Guinea",
            "Philippines",
            "Togo",
            "China",
            "Cameroon",
            "Gambia",
            "Peru",
            "Thailand",
            "Guatemala",
            "Ghana",
            "Austria",
            "Papua New Guinea",
            "Germany"
           ],
           "name": "",
           "type": "choropleth",
           "z": [
            0,
            38000,
            12000,
            36200,
            679,
            44000,
            5000,
            580389,
            19990,
            61400,
            1780,
            0,
            500,
            0,
            14000,
            5200,
            4800,
            500000,
            15000,
            220600,
            249957,
            0,
            0,
            0,
            5375,
            46400,
            14000,
            1608,
            0,
            1500,
            0,
            0,
            7202,
            38000,
            2400,
            4000,
            2750,
            7700,
            128000,
            63700,
            2000,
            0,
            600,
            0,
            20000,
            0,
            1000,
            0
           ]
          }
         ],
         "name": "1971"
        },
        {
         "data": [
          {
           "coloraxis": "coloraxis",
           "geo": "geo",
           "hovertemplate": "<b>%{hovertext}</b><br><br>Year=1972<br>Entity=%{location}<br>Production=%{z}<extra></extra>",
           "hovertext": [
            "Papua New Guinea",
            "China",
            "Norway",
            "Angola",
            "Nigeria",
            "Albania",
            "Guatemala",
            "Tanzania",
            "Nicaragua",
            "Solomon Islands",
            "Cambodia",
            "Ghana",
            "Austria",
            "Peru",
            "Senegal",
            "Congo",
            "Sierra Leone",
            "Indonesia",
            "Germany",
            "Dominican Republic",
            "Venezuela",
            "Suriname",
            "Paraguay",
            "Madagascar",
            "Togo",
            "Brazil",
            "Costa Rica",
            "Gambia",
            "Honduras",
            "Gabon",
            "Burundi",
            "Benin",
            "Philippines",
            "Thailand",
            "Cote d'Ivoire",
            "Guinea-Bissau",
            "Guinea",
            "Democratic Republic of Congo",
            "Mexico",
            "Sao Tome and Principe",
            "Colombia",
            "East Timor",
            "Malaysia",
            "Equatorial Guinea",
            "Ecuador",
            "Panama",
            "Liberia",
            "Cameroon"
           ],
           "locationmode": "country names",
           "locations": [
            "Papua New Guinea",
            "China",
            "Norway",
            "Angola",
            "Nigeria",
            "Albania",
            "Guatemala",
            "Tanzania",
            "Nicaragua",
            "Solomon Islands",
            "Cambodia",
            "Ghana",
            "Austria",
            "Peru",
            "Senegal",
            "Congo",
            "Sierra Leone",
            "Indonesia",
            "Germany",
            "Dominican Republic",
            "Venezuela",
            "Suriname",
            "Paraguay",
            "Madagascar",
            "Togo",
            "Brazil",
            "Costa Rica",
            "Gambia",
            "Honduras",
            "Gabon",
            "Burundi",
            "Benin",
            "Philippines",
            "Thailand",
            "Cote d'Ivoire",
            "Guinea-Bissau",
            "Guinea",
            "Democratic Republic of Congo",
            "Mexico",
            "Sao Tome and Principe",
            "Colombia",
            "East Timor",
            "Malaysia",
            "Equatorial Guinea",
            "Ecuador",
            "Panama",
            "Liberia",
            "Cameroon"
           ],
           "name": "",
           "type": "choropleth",
           "z": [
            5000,
            148000,
            0,
            38000,
            460000,
            0,
            0,
            1640,
            1500,
            500,
            0,
            20000,
            0,
            0,
            4900,
            14000,
            43500,
            269464,
            0,
            0,
            0,
            0,
            7635,
            0,
            7700,
            5500,
            14000,
            2000,
            6260,
            2400,
            1600,
            15396,
            5500,
            600,
            93400,
            5000,
            30000,
            208000,
            10087,
            754,
            41400,
            0,
            718580,
            4100,
            36000,
            0,
            16000,
            64600
           ]
          }
         ],
         "name": "1972"
        },
        {
         "data": [
          {
           "coloraxis": "coloraxis",
           "geo": "geo",
           "hovertemplate": "<b>%{hovertext}</b><br><br>Year=1973<br>Entity=%{location}<br>Production=%{z}<extra></extra>",
           "hovertext": [
            "Burundi",
            "Congo",
            "Liberia",
            "Philippines",
            "Indonesia",
            "Thailand",
            "Dominican Republic",
            "Ghana",
            "Democratic Republic of Congo",
            "Mexico",
            "Guinea",
            "Paraguay",
            "Sao Tome and Principe",
            "Papua New Guinea",
            "Germany",
            "Gabon",
            "Nicaragua",
            "Nigeria",
            "Benin",
            "Senegal",
            "Venezuela",
            "Sierra Leone",
            "Panama",
            "Malaysia",
            "Tanzania",
            "Guatemala",
            "East Timor",
            "Cameroon",
            "Angola",
            "Cote d'Ivoire",
            "Honduras",
            "Solomon Islands",
            "Albania",
            "Ecuador",
            "Togo",
            "Norway",
            "Guinea-Bissau",
            "China",
            "Suriname",
            "Equatorial Guinea",
            "Brazil",
            "Cambodia",
            "Gambia",
            "Costa Rica",
            "Colombia",
            "Austria",
            "Peru",
            "Madagascar"
           ],
           "locationmode": "country names",
           "locations": [
            "Burundi",
            "Congo",
            "Liberia",
            "Philippines",
            "Indonesia",
            "Thailand",
            "Dominican Republic",
            "Ghana",
            "Democratic Republic of Congo",
            "Mexico",
            "Guinea",
            "Paraguay",
            "Sao Tome and Principe",
            "Papua New Guinea",
            "Germany",
            "Gabon",
            "Nicaragua",
            "Nigeria",
            "Benin",
            "Senegal",
            "Venezuela",
            "Sierra Leone",
            "Panama",
            "Malaysia",
            "Tanzania",
            "Guatemala",
            "East Timor",
            "Cameroon",
            "Angola",
            "Cote d'Ivoire",
            "Honduras",
            "Solomon Islands",
            "Albania",
            "Ecuador",
            "Togo",
            "Norway",
            "Guinea-Bissau",
            "China",
            "Suriname",
            "Equatorial Guinea",
            "Brazil",
            "Cambodia",
            "Gambia",
            "Costa Rica",
            "Colombia",
            "Austria",
            "Peru",
            "Madagascar"
           ],
           "name": "",
           "type": "choropleth",
           "z": [
            1690,
            14000,
            17000,
            7700,
            289677,
            1150,
            0,
            20000,
            194400,
            10500,
            40000,
            4262,
            653,
            10000,
            0,
            2400,
            2000,
            430000,
            15636,
            4000,
            0,
            37800,
            0,
            812614,
            2000,
            0,
            0,
            69300,
            40000,
            99100,
            8850,
            500,
            0,
            29800,
            7700,
            0,
            3000,
            152000,
            0,
            4200,
            6000,
            0,
            2200,
            22226,
            44000,
            0,
            0,
            430
           ]
          }
         ],
         "name": "1973"
        },
        {
         "data": [
          {
           "coloraxis": "coloraxis",
           "geo": "geo",
           "hovertemplate": "<b>%{hovertext}</b><br><br>Year=1974<br>Entity=%{location}<br>Production=%{z}<extra></extra>",
           "hovertext": [
            "Nicaragua",
            "Togo",
            "Solomon Islands",
            "Madagascar",
            "Costa Rica",
            "Peru",
            "Angola",
            "Sierra Leone",
            "Malaysia",
            "Cote d'Ivoire",
            "Gambia",
            "Philippines",
            "Mexico",
            "Germany",
            "Democratic Republic of Congo",
            "Burundi",
            "Honduras",
            "Venezuela",
            "East Timor",
            "Cameroon",
            "Cambodia",
            "Norway",
            "Suriname",
            "Thailand",
            "Ecuador",
            "Colombia",
            "Tanzania",
            "Guinea-Bissau",
            "Guatemala",
            "Equatorial Guinea",
            "Panama",
            "China",
            "Ghana",
            "Austria",
            "Indonesia",
            "Liberia",
            "Sao Tome and Principe",
            "Papua New Guinea",
            "Guinea",
            "Gabon",
            "Brazil",
            "Congo",
            "Nigeria",
            "Benin",
            "Albania",
            "Paraguay",
            "Senegal",
            "Dominican Republic"
           ],
           "locationmode": "country names",
           "locations": [
            "Nicaragua",
            "Togo",
            "Solomon Islands",
            "Madagascar",
            "Costa Rica",
            "Peru",
            "Angola",
            "Sierra Leone",
            "Malaysia",
            "Cote d'Ivoire",
            "Gambia",
            "Philippines",
            "Mexico",
            "Germany",
            "Democratic Republic of Congo",
            "Burundi",
            "Honduras",
            "Venezuela",
            "East Timor",
            "Cameroon",
            "Cambodia",
            "Norway",
            "Suriname",
            "Thailand",
            "Ecuador",
            "Colombia",
            "Tanzania",
            "Guinea-Bissau",
            "Guatemala",
            "Equatorial Guinea",
            "Panama",
            "China",
            "Ghana",
            "Austria",
            "Indonesia",
            "Liberia",
            "Sao Tome and Principe",
            "Papua New Guinea",
            "Guinea",
            "Gabon",
            "Brazil",
            "Congo",
            "Nigeria",
            "Benin",
            "Albania",
            "Paraguay",
            "Senegal",
            "Dominican Republic"
           ],
           "name": "",
           "type": "choropleth",
           "z": [
            2000,
            7700,
            1000,
            925,
            22000,
            0,
            40000,
            39000,
            1045975,
            145900,
            2500,
            7700,
            10900,
            0,
            184400,
            1360,
            8415,
            0,
            0,
            72200,
            0,
            0,
            300,
            1150,
            11007,
            50800,
            2000,
            4500,
            0,
            4300,
            0,
            156000,
            23000,
            0,
            347676,
            19000,
            539,
            10000,
            37000,
            2500,
            6500,
            14000,
            485000,
            25796,
            0,
            6248,
            5300,
            0
           ]
          }
         ],
         "name": "1974"
        },
        {
         "data": [
          {
           "coloraxis": "coloraxis",
           "geo": "geo",
           "hovertemplate": "<b>%{hovertext}</b><br><br>Year=1975<br>Entity=%{location}<br>Production=%{z}<extra></extra>",
           "hovertext": [
            "Gambia",
            "Sierra Leone",
            "Thailand",
            "Guinea",
            "Guinea-Bissau",
            "East Timor",
            "Benin",
            "Ecuador",
            "Cote d'Ivoire",
            "Liberia",
            "Equatorial Guinea",
            "Gabon",
            "Togo",
            "Germany",
            "Brazil",
            "Albania",
            "Dominican Republic",
            "Ghana",
            "Madagascar",
            "Suriname",
            "Honduras",
            "Angola",
            "Democratic Republic of Congo",
            "Austria",
            "Tanzania",
            "Guatemala",
            "Malaysia",
            "Indonesia",
            "Solomon Islands",
            "Nicaragua",
            "Sao Tome and Principe",
            "Burundi",
            "Venezuela",
            "Paraguay",
            "Papua New Guinea",
            "Panama",
            "Peru",
            "Senegal",
            "Nigeria",
            "Colombia",
            "Cambodia",
            "Norway",
            "Mexico",
            "China",
            "Cameroon",
            "Congo",
            "Costa Rica",
            "Philippines"
           ],
           "locationmode": "country names",
           "locations": [
            "Gambia",
            "Sierra Leone",
            "Thailand",
            "Guinea",
            "Guinea-Bissau",
            "East Timor",
            "Benin",
            "Ecuador",
            "Cote d'Ivoire",
            "Liberia",
            "Equatorial Guinea",
            "Gabon",
            "Togo",
            "Germany",
            "Brazil",
            "Albania",
            "Dominican Republic",
            "Ghana",
            "Madagascar",
            "Suriname",
            "Honduras",
            "Angola",
            "Democratic Republic of Congo",
            "Austria",
            "Tanzania",
            "Guatemala",
            "Malaysia",
            "Indonesia",
            "Solomon Islands",
            "Nicaragua",
            "Sao Tome and Principe",
            "Burundi",
            "Venezuela",
            "Paraguay",
            "Papua New Guinea",
            "Panama",
            "Peru",
            "Senegal",
            "Nigeria",
            "Colombia",
            "Cambodia",
            "Norway",
            "Mexico",
            "China",
            "Cameroon",
            "Congo",
            "Costa Rica",
            "Philippines"
           ],
           "name": "",
           "type": "choropleth",
           "z": [
            2600,
            43100,
            3250,
            40000,
            4000,
            0,
            38500,
            14186,
            153400,
            23000,
            4200,
            2000,
            7100,
            0,
            7000,
            0,
            0,
            24000,
            2700,
            625,
            9100,
            40000,
            181400,
            0,
            2400,
            0,
            1257573,
            397253,
            2300,
            2000,
            342,
            1620,
            0,
            3854,
            20000,
            0,
            650,
            5400,
            500000,
            39200,
            0,
            0,
            8300,
            156000,
            79900,
            14000,
            22000,
            11000
           ]
          }
         ],
         "name": "1975"
        },
        {
         "data": [
          {
           "coloraxis": "coloraxis",
           "geo": "geo",
           "hovertemplate": "<b>%{hovertext}</b><br><br>Year=1976<br>Entity=%{location}<br>Production=%{z}<extra></extra>",
           "hovertext": [
            "Sao Tome and Principe",
            "Guinea",
            "Thailand",
            "Solomon Islands",
            "Madagascar",
            "Nicaragua",
            "Democratic Republic of Congo",
            "Costa Rica",
            "Papua New Guinea",
            "Burundi",
            "Albania",
            "Colombia",
            "Indonesia",
            "Congo",
            "Cambodia",
            "Nigeria",
            "Norway",
            "Suriname",
            "Senegal",
            "Ecuador",
            "Brazil",
            "Tanzania",
            "Liberia",
            "Panama",
            "East Timor",
            "Equatorial Guinea",
            "Guinea-Bissau",
            "Benin",
            "Honduras",
            "Guatemala",
            "Dominican Republic",
            "Ghana",
            "China",
            "Cote d'Ivoire",
            "Gabon",
            "Germany",
            "Paraguay",
            "Venezuela",
            "Malaysia",
            "Sierra Leone",
            "Angola",
            "Cameroon",
            "Togo",
            "Gambia",
            "Mexico",
            "Austria",
            "Philippines",
            "Peru"
           ],
           "locationmode": "country names",
           "locations": [
            "Sao Tome and Principe",
            "Guinea",
            "Thailand",
            "Solomon Islands",
            "Madagascar",
            "Nicaragua",
            "Democratic Republic of Congo",
            "Costa Rica",
            "Papua New Guinea",
            "Burundi",
            "Albania",
            "Colombia",
            "Indonesia",
            "Congo",
            "Cambodia",
            "Nigeria",
            "Norway",
            "Suriname",
            "Senegal",
            "Ecuador",
            "Brazil",
            "Tanzania",
            "Liberia",
            "Panama",
            "East Timor",
            "Equatorial Guinea",
            "Guinea-Bissau",
            "Benin",
            "Honduras",
            "Guatemala",
            "Dominican Republic",
            "Ghana",
            "China",
            "Cote d'Ivoire",
            "Gabon",
            "Germany",
            "Paraguay",
            "Venezuela",
            "Malaysia",
            "Sierra Leone",
            "Angola",
            "Cameroon",
            "Togo",
            "Gambia",
            "Mexico",
            "Austria",
            "Philippines",
            "Peru"
           ],
           "name": "",
           "type": "choropleth",
           "z": [
            500,
            35000,
            4000,
            4535,
            1035,
            2000,
            175400,
            23000,
            30000,
            1620,
            0,
            38940,
            431006,
            14000,
            0,
            525000,
            0,
            1330,
            4000,
            15288,
            9000,
            2400,
            24000,
            0,
            0,
            4500,
            4000,
            47000,
            8750,
            0,
            0,
            18000,
            164000,
            150600,
            2000,
            0,
            4589,
            0,
            1391965,
            45200,
            35000,
            62500,
            7100,
            3000,
            11900,
            0,
            12100,
            660
           ]
          }
         ],
         "name": "1976"
        },
        {
         "data": [
          {
           "coloraxis": "coloraxis",
           "geo": "geo",
           "hovertemplate": "<b>%{hovertext}</b><br><br>Year=1977<br>Entity=%{location}<br>Production=%{z}<extra></extra>",
           "hovertext": [
            "Benin",
            "Indonesia",
            "Cote d'Ivoire",
            "Guinea-Bissau",
            "Congo",
            "East Timor",
            "Burundi",
            "Liberia",
            "Germany",
            "Mexico",
            "Tanzania",
            "Peru",
            "Gambia",
            "Philippines",
            "Honduras",
            "Togo",
            "Brazil",
            "Senegal",
            "Angola",
            "Sierra Leone",
            "Venezuela",
            "Norway",
            "Suriname",
            "Nigeria",
            "Cambodia",
            "China",
            "Colombia",
            "Gabon",
            "Austria",
            "Guatemala",
            "Equatorial Guinea",
            "Thailand",
            "Madagascar",
            "Costa Rica",
            "Cameroon",
            "Papua New Guinea",
            "Ghana",
            "Dominican Republic",
            "Solomon Islands",
            "Malaysia",
            "Paraguay",
            "Guinea",
            "Albania",
            "Nicaragua",
            "Sao Tome and Principe",
            "Panama",
            "Ecuador",
            "Democratic Republic of Congo"
           ],
           "locationmode": "country names",
           "locations": [
            "Benin",
            "Indonesia",
            "Cote d'Ivoire",
            "Guinea-Bissau",
            "Congo",
            "East Timor",
            "Burundi",
            "Liberia",
            "Germany",
            "Mexico",
            "Tanzania",
            "Peru",
            "Gambia",
            "Philippines",
            "Honduras",
            "Togo",
            "Brazil",
            "Senegal",
            "Angola",
            "Sierra Leone",
            "Venezuela",
            "Norway",
            "Suriname",
            "Nigeria",
            "Cambodia",
            "China",
            "Colombia",
            "Gabon",
            "Austria",
            "Guatemala",
            "Equatorial Guinea",
            "Thailand",
            "Madagascar",
            "Costa Rica",
            "Cameroon",
            "Papua New Guinea",
            "Ghana",
            "Dominican Republic",
            "Solomon Islands",
            "Malaysia",
            "Paraguay",
            "Guinea",
            "Albania",
            "Nicaragua",
            "Sao Tome and Principe",
            "Panama",
            "Ecuador",
            "Democratic Republic of Congo"
           ],
           "name": "",
           "type": "choropleth",
           "z": [
            33000,
            457607,
            133200,
            6000,
            15000,
            0,
            1700,
            25000,
            0,
            6000,
            2700,
            3380,
            3000,
            12000,
            10100,
            7100,
            12000,
            5700,
            30000,
            40600,
            0,
            0,
            1840,
            528000,
            0,
            160000,
            48100,
            1600,
            0,
            0,
            4600,
            5000,
            2285,
            23000,
            62600,
            30000,
            21000,
            0,
            7044,
            1612747,
            4959,
            37800,
            0,
            2000,
            532,
            0,
            25000,
            173300
           ]
          }
         ],
         "name": "1977"
        },
        {
         "data": [
          {
           "coloraxis": "coloraxis",
           "geo": "geo",
           "hovertemplate": "<b>%{hovertext}</b><br><br>Year=1978<br>Entity=%{location}<br>Production=%{z}<extra></extra>",
           "hovertext": [
            "Indonesia",
            "Congo",
            "Benin",
            "Dominican Republic",
            "Equatorial Guinea",
            "Ecuador",
            "Austria",
            "Peru",
            "Thailand",
            "Colombia",
            "Sao Tome and Principe",
            "China",
            "Guatemala",
            "Panama",
            "Cameroon",
            "Paraguay",
            "Philippines",
            "Cambodia",
            "Germany",
            "Norway",
            "Venezuela",
            "Guinea",
            "East Timor",
            "Angola",
            "Togo",
            "Guinea-Bissau",
            "Papua New Guinea",
            "Ghana",
            "Honduras",
            "Gabon",
            "Suriname",
            "Tanzania",
            "Gambia",
            "Senegal",
            "Nigeria",
            "Burundi",
            "Cote d'Ivoire",
            "Democratic Republic of Congo",
            "Liberia",
            "Costa Rica",
            "Solomon Islands",
            "Albania",
            "Malaysia",
            "Brazil",
            "Madagascar",
            "Nicaragua",
            "Mexico",
            "Sierra Leone"
           ],
           "locationmode": "country names",
           "locations": [
            "Indonesia",
            "Congo",
            "Benin",
            "Dominican Republic",
            "Equatorial Guinea",
            "Ecuador",
            "Austria",
            "Peru",
            "Thailand",
            "Colombia",
            "Sao Tome and Principe",
            "China",
            "Guatemala",
            "Panama",
            "Cameroon",
            "Paraguay",
            "Philippines",
            "Cambodia",
            "Germany",
            "Norway",
            "Venezuela",
            "Guinea",
            "East Timor",
            "Angola",
            "Togo",
            "Guinea-Bissau",
            "Papua New Guinea",
            "Ghana",
            "Honduras",
            "Gabon",
            "Suriname",
            "Tanzania",
            "Gambia",
            "Senegal",
            "Nigeria",
            "Burundi",
            "Cote d'Ivoire",
            "Democratic Republic of Congo",
            "Liberia",
            "Costa Rica",
            "Solomon Islands",
            "Albania",
            "Malaysia",
            "Brazil",
            "Madagascar",
            "Nicaragua",
            "Mexico",
            "Sierra Leone"
           ],
           "name": "",
           "type": "choropleth",
           "z": [
            501284,
            15000,
            25000,
            0,
            4700,
            28000,
            0,
            4392,
            6300,
            48800,
            400,
            168000,
            0,
            0,
            80000,
            4281,
            10800,
            0,
            0,
            0,
            0,
            40600,
            0,
            35000,
            7100,
            6000,
            30000,
            21000,
            11350,
            1400,
            2804,
            3000,
            3000,
            5800,
            530000,
            2200,
            145500,
            170900,
            25000,
            29600,
            10911,
            0,
            1785525,
            15000,
            2300,
            3000,
            6000,
            45000
           ]
          }
         ],
         "name": "1978"
        },
        {
         "data": [
          {
           "coloraxis": "coloraxis",
           "geo": "geo",
           "hovertemplate": "<b>%{hovertext}</b><br><br>Year=1979<br>Entity=%{location}<br>Production=%{z}<extra></extra>",
           "hovertext": [
            "Venezuela",
            "Malaysia",
            "Burundi",
            "Thailand",
            "Senegal",
            "Cambodia",
            "Guinea-Bissau",
            "Solomon Islands",
            "Cameroon",
            "Colombia",
            "Costa Rica",
            "China",
            "Papua New Guinea",
            "Liberia",
            "Guatemala",
            "East Timor",
            "Congo",
            "Equatorial Guinea",
            "Madagascar",
            "Ghana",
            "Paraguay",
            "Tanzania",
            "Norway",
            "Dominican Republic",
            "Mexico",
            "Ecuador",
            "Peru",
            "Albania",
            "Sao Tome and Principe",
            "Sierra Leone",
            "Gambia",
            "Democratic Republic of Congo",
            "Angola",
            "Benin",
            "Nigeria",
            "Nicaragua",
            "Indonesia",
            "Panama",
            "Austria",
            "Brazil",
            "Gabon",
            "Honduras",
            "Philippines",
            "Cote d'Ivoire",
            "Guinea",
            "Suriname",
            "Germany",
            "Togo"
           ],
           "locationmode": "country names",
           "locations": [
            "Venezuela",
            "Malaysia",
            "Burundi",
            "Thailand",
            "Senegal",
            "Cambodia",
            "Guinea-Bissau",
            "Solomon Islands",
            "Cameroon",
            "Colombia",
            "Costa Rica",
            "China",
            "Papua New Guinea",
            "Liberia",
            "Guatemala",
            "East Timor",
            "Congo",
            "Equatorial Guinea",
            "Madagascar",
            "Ghana",
            "Paraguay",
            "Tanzania",
            "Norway",
            "Dominican Republic",
            "Mexico",
            "Ecuador",
            "Peru",
            "Albania",
            "Sao Tome and Principe",
            "Sierra Leone",
            "Gambia",
            "Democratic Republic of Congo",
            "Angola",
            "Benin",
            "Nigeria",
            "Nicaragua",
            "Indonesia",
            "Panama",
            "Austria",
            "Brazil",
            "Gabon",
            "Honduras",
            "Philippines",
            "Cote d'Ivoire",
            "Guinea",
            "Suriname",
            "Germany",
            "Togo"
           ],
           "name": "",
           "type": "choropleth",
           "z": [
            0,
            2188699,
            1750,
            11600,
            5900,
            0,
            6000,
            13010,
            75000,
            61800,
            30800,
            172000,
            35000,
            26000,
            0,
            0,
            15000,
            4700,
            2300,
            21000,
            4877,
            3200,
            0,
            0,
            7000,
            31000,
            4429,
            0,
            300,
            45000,
            3000,
            170000,
            40000,
            25000,
            650000,
            3000,
            641240,
            0,
            0,
            16000,
            1600,
            12370,
            12000,
            131000,
            40000,
            4874,
            0,
            7100
           ]
          }
         ],
         "name": "1979"
        },
        {
         "data": [
          {
           "coloraxis": "coloraxis",
           "geo": "geo",
           "hovertemplate": "<b>%{hovertext}</b><br><br>Year=1980<br>Entity=%{location}<br>Production=%{z}<extra></extra>",
           "hovertext": [
            "Guinea",
            "Papua New Guinea",
            "Solomon Islands",
            "Ecuador",
            "Panama",
            "Nicaragua",
            "Burundi",
            "Madagascar",
            "Albania",
            "Peru",
            "Mexico",
            "Gambia",
            "Angola",
            "Sierra Leone",
            "Philippines",
            "Germany",
            "Togo",
            "Gabon",
            "Austria",
            "Cote d'Ivoire",
            "Malaysia",
            "Thailand",
            "Democratic Republic of Congo",
            "Ghana",
            "Cameroon",
            "Costa Rica",
            "China",
            "Guatemala",
            "Equatorial Guinea",
            "Venezuela",
            "Paraguay",
            "Sao Tome and Principe",
            "Congo",
            "Guinea-Bissau",
            "Suriname",
            "Nigeria",
            "Tanzania",
            "Benin",
            "East Timor",
            "Indonesia",
            "Colombia",
            "Senegal",
            "Liberia",
            "Cambodia",
            "Brazil",
            "Honduras",
            "Dominican Republic",
            "Norway"
           ],
           "locationmode": "country names",
           "locations": [
            "Guinea",
            "Papua New Guinea",
            "Solomon Islands",
            "Ecuador",
            "Panama",
            "Nicaragua",
            "Burundi",
            "Madagascar",
            "Albania",
            "Peru",
            "Mexico",
            "Gambia",
            "Angola",
            "Sierra Leone",
            "Philippines",
            "Germany",
            "Togo",
            "Gabon",
            "Austria",
            "Cote d'Ivoire",
            "Malaysia",
            "Thailand",
            "Democratic Republic of Congo",
            "Ghana",
            "Cameroon",
            "Costa Rica",
            "China",
            "Guatemala",
            "Equatorial Guinea",
            "Venezuela",
            "Paraguay",
            "Sao Tome and Principe",
            "Congo",
            "Guinea-Bissau",
            "Suriname",
            "Nigeria",
            "Tanzania",
            "Benin",
            "East Timor",
            "Indonesia",
            "Colombia",
            "Senegal",
            "Liberia",
            "Cambodia",
            "Brazil",
            "Honduras",
            "Dominican Republic",
            "Norway"
           ],
           "name": "",
           "type": "choropleth",
           "z": [
            40000,
            35000,
            14228,
            37300,
            0,
            3000,
            1800,
            1885,
            0,
            5239,
            6700,
            3000,
            40000,
            47000,
            12500,
            0,
            7100,
            2000,
            0,
            189100,
            2573173,
            18900,
            168300,
            21000,
            85000,
            31300,
            160000,
            0,
            4800,
            3767,
            5118,
            200,
            15000,
            6000,
            4091,
            650000,
            3400,
            34000,
            0,
            721172,
            69800,
            6000,
            27000,
            0,
            12000,
            12180,
            0,
            0
           ]
          }
         ],
         "name": "1980"
        },
        {
         "data": [
          {
           "coloraxis": "coloraxis",
           "geo": "geo",
           "hovertemplate": "<b>%{hovertext}</b><br><br>Year=1981<br>Entity=%{location}<br>Production=%{z}<extra></extra>",
           "hovertext": [
            "Paraguay",
            "Cote d'Ivoire",
            "Austria",
            "Gabon",
            "Guinea-Bissau",
            "Senegal",
            "Colombia",
            "Thailand",
            "Malaysia",
            "Madagascar",
            "Suriname",
            "East Timor",
            "Equatorial Guinea",
            "Cameroon",
            "Guatemala",
            "Liberia",
            "Burundi",
            "China",
            "Cambodia",
            "Ghana",
            "Sao Tome and Principe",
            "Costa Rica",
            "Norway",
            "Honduras",
            "Papua New Guinea",
            "Angola",
            "Panama",
            "Benin",
            "Peru",
            "Ecuador",
            "Togo",
            "Guinea",
            "Gambia",
            "Sierra Leone",
            "Dominican Republic",
            "Mexico",
            "Nicaragua",
            "Philippines",
            "Albania",
            "Venezuela",
            "Solomon Islands",
            "Democratic Republic of Congo",
            "Congo",
            "Brazil",
            "Nigeria",
            "Germany",
            "Indonesia",
            "Tanzania"
           ],
           "locationmode": "country names",
           "locations": [
            "Paraguay",
            "Cote d'Ivoire",
            "Austria",
            "Gabon",
            "Guinea-Bissau",
            "Senegal",
            "Colombia",
            "Thailand",
            "Malaysia",
            "Madagascar",
            "Suriname",
            "East Timor",
            "Equatorial Guinea",
            "Cameroon",
            "Guatemala",
            "Liberia",
            "Burundi",
            "China",
            "Cambodia",
            "Ghana",
            "Sao Tome and Principe",
            "Costa Rica",
            "Norway",
            "Honduras",
            "Papua New Guinea",
            "Angola",
            "Panama",
            "Benin",
            "Peru",
            "Ecuador",
            "Togo",
            "Guinea",
            "Gambia",
            "Sierra Leone",
            "Dominican Republic",
            "Mexico",
            "Nicaragua",
            "Philippines",
            "Albania",
            "Venezuela",
            "Solomon Islands",
            "Democratic Republic of Congo",
            "Congo",
            "Brazil",
            "Nigeria",
            "Germany",
            "Indonesia",
            "Tanzania"
           ],
           "name": "",
           "type": "choropleth",
           "z": [
            4638,
            153200,
            0,
            1800,
            4000,
            6100,
            79900,
            30163,
            2822144,
            2010,
            4722,
            0,
            4800,
            70744,
            0,
            25000,
            1800,
            164000,
            0,
            21000,
            250,
            37300,
            0,
            22000,
            50000,
            38000,
            0,
            30000,
            6395,
            43700,
            7100,
            40000,
            3000,
            48000,
            0,
            4000,
            3000,
            12750,
            0,
            2590,
            18081,
            165000,
            15000,
            14000,
            530000,
            0,
            800060,
            4000
           ]
          }
         ],
         "name": "1981"
        },
        {
         "data": [
          {
           "coloraxis": "coloraxis",
           "geo": "geo",
           "hovertemplate": "<b>%{hovertext}</b><br><br>Year=1982<br>Entity=%{location}<br>Production=%{z}<extra></extra>",
           "hovertext": [
            "Peru",
            "Congo",
            "Dominican Republic",
            "Ghana",
            "Cambodia",
            "Nigeria",
            "Gambia",
            "Honduras",
            "Suriname",
            "Germany",
            "Thailand",
            "Norway",
            "Angola",
            "Malaysia",
            "Togo",
            "Paraguay",
            "Mexico",
            "Cote d'Ivoire",
            "Gabon",
            "Philippines",
            "Indonesia",
            "Cameroon",
            "Burundi",
            "Sao Tome and Principe",
            "China",
            "Sierra Leone",
            "Panama",
            "Brazil",
            "Austria",
            "Benin",
            "Liberia",
            "Guinea",
            "Papua New Guinea",
            "East Timor",
            "Tanzania",
            "Guinea-Bissau",
            "Madagascar",
            "Nicaragua",
            "Equatorial Guinea",
            "Venezuela",
            "Albania",
            "Senegal",
            "Democratic Republic of Congo",
            "Guatemala",
            "Solomon Islands",
            "Ecuador",
            "Costa Rica",
            "Colombia"
           ],
           "locationmode": "country names",
           "locations": [
            "Peru",
            "Congo",
            "Dominican Republic",
            "Ghana",
            "Cambodia",
            "Nigeria",
            "Gambia",
            "Honduras",
            "Suriname",
            "Germany",
            "Thailand",
            "Norway",
            "Angola",
            "Malaysia",
            "Togo",
            "Paraguay",
            "Mexico",
            "Cote d'Ivoire",
            "Gabon",
            "Philippines",
            "Indonesia",
            "Cameroon",
            "Burundi",
            "Sao Tome and Principe",
            "China",
            "Sierra Leone",
            "Panama",
            "Brazil",
            "Austria",
            "Benin",
            "Liberia",
            "Guinea",
            "Papua New Guinea",
            "East Timor",
            "Tanzania",
            "Guinea-Bissau",
            "Madagascar",
            "Nicaragua",
            "Equatorial Guinea",
            "Venezuela",
            "Albania",
            "Senegal",
            "Democratic Republic of Congo",
            "Guatemala",
            "Solomon Islands",
            "Ecuador",
            "Costa Rica",
            "Colombia"
           ],
           "name": "",
           "type": "choropleth",
           "z": [
            5898,
            15000,
            0,
            23000,
            0,
            500000,
            2500,
            31500,
            5691,
            0,
            49522,
            0,
            38000,
            3510920,
            7100,
            6485,
            2000,
            168800,
            1800,
            30000,
            886820,
            72485,
            1800,
            200,
            180000,
            48000,
            0,
            16000,
            0,
            31000,
            30000,
            40000,
            80000,
            0,
            4200,
            4000,
            2700,
            3000,
            4900,
            3688,
            0,
            6000,
            155000,
            0,
            19238,
            56000,
            39900,
            85200
           ]
          }
         ],
         "name": "1982"
        },
        {
         "data": [
          {
           "coloraxis": "coloraxis",
           "geo": "geo",
           "hovertemplate": "<b>%{hovertext}</b><br><br>Year=1983<br>Entity=%{location}<br>Production=%{z}<extra></extra>",
           "hovertext": [
            "Democratic Republic of Congo",
            "Sao Tome and Principe",
            "Mexico",
            "Brazil",
            "Tanzania",
            "Liberia",
            "Germany",
            "Indonesia",
            "Panama",
            "Benin",
            "Nicaragua",
            "Nigeria",
            "Guinea",
            "Togo",
            "Ecuador",
            "Angola",
            "Dominican Republic",
            "Venezuela",
            "Malaysia",
            "Solomon Islands",
            "Gambia",
            "Congo",
            "Peru",
            "Costa Rica",
            "Honduras",
            "Philippines",
            "Burundi",
            "Sierra Leone",
            "Cambodia",
            "Albania",
            "Colombia",
            "Equatorial Guinea",
            "Cameroon",
            "Suriname",
            "Madagascar",
            "Norway",
            "Senegal",
            "China",
            "Papua New Guinea",
            "East Timor",
            "Paraguay",
            "Thailand",
            "Cote d'Ivoire",
            "Gabon",
            "Guatemala",
            "Ghana",
            "Guinea-Bissau",
            "Austria"
           ],
           "locationmode": "country names",
           "locations": [
            "Democratic Republic of Congo",
            "Sao Tome and Principe",
            "Mexico",
            "Brazil",
            "Tanzania",
            "Liberia",
            "Germany",
            "Indonesia",
            "Panama",
            "Benin",
            "Nicaragua",
            "Nigeria",
            "Guinea",
            "Togo",
            "Ecuador",
            "Angola",
            "Dominican Republic",
            "Venezuela",
            "Malaysia",
            "Solomon Islands",
            "Gambia",
            "Congo",
            "Peru",
            "Costa Rica",
            "Honduras",
            "Philippines",
            "Burundi",
            "Sierra Leone",
            "Cambodia",
            "Albania",
            "Colombia",
            "Equatorial Guinea",
            "Cameroon",
            "Suriname",
            "Madagascar",
            "Norway",
            "Senegal",
            "China",
            "Papua New Guinea",
            "East Timor",
            "Paraguay",
            "Thailand",
            "Cote d'Ivoire",
            "Gabon",
            "Guatemala",
            "Ghana",
            "Guinea-Bissau",
            "Austria"
           ],
           "name": "",
           "type": "choropleth",
           "z": [
            145000,
            288,
            2000,
            18000,
            4200,
            30000,
            0,
            982987,
            0,
            35000,
            3200,
            500000,
            40000,
            7100,
            64000,
            40000,
            0,
            4739,
            3016481,
            19654,
            2500,
            15300,
            7754,
            43400,
            35000,
            21000,
            1800,
            45500,
            0,
            0,
            101900,
            5000,
            64586,
            6558,
            2700,
            0,
            6000,
            188000,
            84000,
            0,
            3416,
            55552,
            168100,
            3000,
            2138,
            20000,
            5000,
            0
           ]
          }
         ],
         "name": "1983"
        },
        {
         "data": [
          {
           "coloraxis": "coloraxis",
           "geo": "geo",
           "hovertemplate": "<b>%{hovertext}</b><br><br>Year=1984<br>Entity=%{location}<br>Production=%{z}<extra></extra>",
           "hovertext": [
            "Togo",
            "Honduras",
            "Philippines",
            "Sierra Leone",
            "Malaysia",
            "Peru",
            "Ghana",
            "Germany",
            "Sao Tome and Principe",
            "Guatemala",
            "Madagascar",
            "Norway",
            "Suriname",
            "Solomon Islands",
            "Venezuela",
            "Paraguay",
            "Liberia",
            "Nicaragua",
            "Tanzania",
            "Panama",
            "Gambia",
            "Mexico",
            "Senegal",
            "Thailand",
            "Guinea",
            "Indonesia",
            "Papua New Guinea",
            "Nigeria",
            "Guinea-Bissau",
            "Ecuador",
            "Cambodia",
            "Congo",
            "Dominican Republic",
            "Colombia",
            "East Timor",
            "Burundi",
            "Cote d'Ivoire",
            "Cameroon",
            "Equatorial Guinea",
            "Gabon",
            "Democratic Republic of Congo",
            "Angola",
            "Albania",
            "Costa Rica",
            "Brazil",
            "Benin",
            "China",
            "Austria"
           ],
           "locationmode": "country names",
           "locations": [
            "Togo",
            "Honduras",
            "Philippines",
            "Sierra Leone",
            "Malaysia",
            "Peru",
            "Ghana",
            "Germany",
            "Sao Tome and Principe",
            "Guatemala",
            "Madagascar",
            "Norway",
            "Suriname",
            "Solomon Islands",
            "Venezuela",
            "Paraguay",
            "Liberia",
            "Nicaragua",
            "Tanzania",
            "Panama",
            "Gambia",
            "Mexico",
            "Senegal",
            "Thailand",
            "Guinea",
            "Indonesia",
            "Papua New Guinea",
            "Nigeria",
            "Guinea-Bissau",
            "Ecuador",
            "Cambodia",
            "Congo",
            "Dominican Republic",
            "Colombia",
            "East Timor",
            "Burundi",
            "Cote d'Ivoire",
            "Cameroon",
            "Equatorial Guinea",
            "Gabon",
            "Democratic Republic of Congo",
            "Angola",
            "Albania",
            "Costa Rica",
            "Brazil",
            "Benin",
            "China",
            "Austria"
           ],
           "name": "",
           "type": "choropleth",
           "z": [
            7100,
            52000,
            34000,
            48500,
            3714795,
            10000,
            30000,
            0,
            221,
            2333,
            2800,
            0,
            7140,
            19666,
            5033,
            5000,
            34000,
            3200,
            4200,
            0,
            2500,
            1500,
            6000,
            81361,
            40000,
            1147190,
            121000,
            500000,
            4000,
            67000,
            0,
            15300,
            0,
            118628,
            0,
            1800,
            166632,
            79012,
            5200,
            3200,
            153000,
            38000,
            0,
            43196,
            23000,
            35000,
            184000,
            0
           ]
          }
         ],
         "name": "1984"
        },
        {
         "data": [
          {
           "coloraxis": "coloraxis",
           "geo": "geo",
           "hovertemplate": "<b>%{hovertext}</b><br><br>Year=1985<br>Entity=%{location}<br>Production=%{z}<extra></extra>",
           "hovertext": [
            "Germany",
            "Cameroon",
            "Angola",
            "Thailand",
            "Philippines",
            "Honduras",
            "Peru",
            "East Timor",
            "Dominican Republic",
            "Mexico",
            "Cambodia",
            "Suriname",
            "Brazil",
            "Equatorial Guinea",
            "Benin",
            "Tanzania",
            "Solomon Islands",
            "Guinea-Bissau",
            "Guatemala",
            "Sierra Leone",
            "Burundi",
            "Guinea",
            "Senegal",
            "Ecuador",
            "Sao Tome and Principe",
            "Gabon",
            "Indonesia",
            "Austria",
            "Ghana",
            "Madagascar",
            "Congo",
            "Norway",
            "Cote d'Ivoire",
            "Malaysia",
            "Togo",
            "Democratic Republic of Congo",
            "Nicaragua",
            "Costa Rica",
            "Colombia",
            "Panama",
            "Gambia",
            "Albania",
            "Nigeria",
            "Liberia",
            "Papua New Guinea",
            "Paraguay",
            "Venezuela",
            "China"
           ],
           "locationmode": "country names",
           "locations": [
            "Germany",
            "Cameroon",
            "Angola",
            "Thailand",
            "Philippines",
            "Honduras",
            "Peru",
            "East Timor",
            "Dominican Republic",
            "Mexico",
            "Cambodia",
            "Suriname",
            "Brazil",
            "Equatorial Guinea",
            "Benin",
            "Tanzania",
            "Solomon Islands",
            "Guinea-Bissau",
            "Guatemala",
            "Sierra Leone",
            "Burundi",
            "Guinea",
            "Senegal",
            "Ecuador",
            "Sao Tome and Principe",
            "Gabon",
            "Indonesia",
            "Austria",
            "Ghana",
            "Madagascar",
            "Congo",
            "Norway",
            "Cote d'Ivoire",
            "Malaysia",
            "Togo",
            "Democratic Republic of Congo",
            "Nicaragua",
            "Costa Rica",
            "Colombia",
            "Panama",
            "Gambia",
            "Albania",
            "Nigeria",
            "Liberia",
            "Papua New Guinea",
            "Paraguay",
            "Venezuela",
            "China"
           ],
           "name": "",
           "type": "choropleth",
           "z": [
            0,
            102598,
            36000,
            89000,
            34000,
            61000,
            10000,
            0,
            0,
            1500,
            0,
            7958,
            29000,
            5000,
            33000,
            4320,
            20000,
            4000,
            3581,
            51000,
            1800,
            40000,
            6000,
            82000,
            278,
            3060,
            1243430,
            0,
            42000,
            2900,
            15300,
            0,
            160886,
            4134463,
            7100,
            160000,
            3200,
            35583,
            125250,
            0,
            2500,
            0,
            615000,
            34000,
            123000,
            4695,
            4405,
            240000
           ]
          }
         ],
         "name": "1985"
        },
        {
         "data": [
          {
           "coloraxis": "coloraxis",
           "geo": "geo",
           "hovertemplate": "<b>%{hovertext}</b><br><br>Year=1986<br>Entity=%{location}<br>Production=%{z}<extra></extra>",
           "hovertext": [
            "Congo",
            "Albania",
            "Cote d'Ivoire",
            "Sierra Leone",
            "Guatemala",
            "Equatorial Guinea",
            "Costa Rica",
            "Venezuela",
            "Malaysia",
            "Nicaragua",
            "Brazil",
            "Burundi",
            "Solomon Islands",
            "Suriname",
            "Mexico",
            "Paraguay",
            "Senegal",
            "China",
            "Papua New Guinea",
            "Ghana",
            "Dominican Republic",
            "Angola",
            "Peru",
            "Honduras",
            "Liberia",
            "Panama",
            "Guinea",
            "Philippines",
            "Colombia",
            "Democratic Republic of Congo",
            "Guinea-Bissau",
            "Cambodia",
            "Norway",
            "Sao Tome and Principe",
            "Indonesia",
            "Ecuador",
            "Nigeria",
            "Cameroon",
            "Madagascar",
            "East Timor",
            "Austria",
            "Togo",
            "Gambia",
            "Germany",
            "Gabon",
            "Thailand",
            "Tanzania",
            "Benin"
           ],
           "locationmode": "country names",
           "locations": [
            "Congo",
            "Albania",
            "Cote d'Ivoire",
            "Sierra Leone",
            "Guatemala",
            "Equatorial Guinea",
            "Costa Rica",
            "Venezuela",
            "Malaysia",
            "Nicaragua",
            "Brazil",
            "Burundi",
            "Solomon Islands",
            "Suriname",
            "Mexico",
            "Paraguay",
            "Senegal",
            "China",
            "Papua New Guinea",
            "Ghana",
            "Dominican Republic",
            "Angola",
            "Peru",
            "Honduras",
            "Liberia",
            "Panama",
            "Guinea",
            "Philippines",
            "Colombia",
            "Democratic Republic of Congo",
            "Guinea-Bissau",
            "Cambodia",
            "Norway",
            "Sao Tome and Principe",
            "Indonesia",
            "Ecuador",
            "Nigeria",
            "Cameroon",
            "Madagascar",
            "East Timor",
            "Austria",
            "Togo",
            "Gambia",
            "Germany",
            "Gabon",
            "Thailand",
            "Tanzania",
            "Benin"
           ],
           "name": "",
           "type": "choropleth",
           "z": [
            15600,
            0,
            203232,
            49300,
            6600,
            5000,
            44681,
            4746,
            4542249,
            3280,
            31000,
            1800,
            14560,
            6024,
            1500,
            4880,
            6000,
            240000,
            132000,
            51300,
            0,
            38000,
            13200,
            73000,
            30000,
            0,
            40000,
            38000,
            140000,
            155000,
            4000,
            0,
            0,
            272,
            1350729,
            118000,
            650000,
            103960,
            3000,
            0,
            0,
            7100,
            2500,
            0,
            4500,
            105000,
            4420,
            25000
           ]
          }
         ],
         "name": "1986"
        },
        {
         "data": [
          {
           "coloraxis": "coloraxis",
           "geo": "geo",
           "hovertemplate": "<b>%{hovertext}</b><br><br>Year=1987<br>Entity=%{location}<br>Production=%{z}<extra></extra>",
           "hovertext": [
            "Solomon Islands",
            "Cote d'Ivoire",
            "Dominican Republic",
            "Sao Tome and Principe",
            "Gambia",
            "Thailand",
            "Costa Rica",
            "East Timor",
            "Democratic Republic of Congo",
            "Burundi",
            "Panama",
            "Albania",
            "Liberia",
            "Gabon",
            "Sierra Leone",
            "Norway",
            "Equatorial Guinea",
            "Benin",
            "Tanzania",
            "Honduras",
            "Guatemala",
            "Malaysia",
            "Austria",
            "Colombia",
            "Peru",
            "Nicaragua",
            "Brazil",
            "Togo",
            "Guinea",
            "Ghana",
            "Ecuador",
            "Cambodia",
            "Mexico",
            "Germany",
            "Guinea-Bissau",
            "China",
            "Papua New Guinea",
            "Paraguay",
            "Nigeria",
            "Philippines",
            "Venezuela",
            "Senegal",
            "Congo",
            "Suriname",
            "Madagascar",
            "Cameroon",
            "Indonesia",
            "Angola"
           ],
           "locationmode": "country names",
           "locations": [
            "Solomon Islands",
            "Cote d'Ivoire",
            "Dominican Republic",
            "Sao Tome and Principe",
            "Gambia",
            "Thailand",
            "Costa Rica",
            "East Timor",
            "Democratic Republic of Congo",
            "Burundi",
            "Panama",
            "Albania",
            "Liberia",
            "Gabon",
            "Sierra Leone",
            "Norway",
            "Equatorial Guinea",
            "Benin",
            "Tanzania",
            "Honduras",
            "Guatemala",
            "Malaysia",
            "Austria",
            "Colombia",
            "Peru",
            "Nicaragua",
            "Brazil",
            "Togo",
            "Guinea",
            "Ghana",
            "Ecuador",
            "Cambodia",
            "Mexico",
            "Germany",
            "Guinea-Bissau",
            "China",
            "Papua New Guinea",
            "Paraguay",
            "Nigeria",
            "Philippines",
            "Venezuela",
            "Senegal",
            "Congo",
            "Suriname",
            "Madagascar",
            "Cameroon",
            "Indonesia",
            "Angola"
           ],
           "name": "",
           "type": "choropleth",
           "z": [
            11999,
            212807,
            0,
            300,
            2500,
            131000,
            47216,
            0,
            165000,
            1850,
            0,
            0,
            27500,
            4746,
            50000,
            0,
            5000,
            25000,
            4510,
            73800,
            7920,
            4531960,
            0,
            147000,
            19000,
            3360,
            39000,
            7100,
            40000,
            51000,
            123779,
            0,
            2000,
            0,
            5000,
            223000,
            131000,
            3619,
            715000,
            39000,
            4896,
            6000,
            15700,
            3710,
            3200,
            98000,
            1506055,
            40000
           ]
          }
         ],
         "name": "1987"
        },
        {
         "data": [
          {
           "coloraxis": "coloraxis",
           "geo": "geo",
           "hovertemplate": "<b>%{hovertext}</b><br><br>Year=1988<br>Entity=%{location}<br>Production=%{z}<extra></extra>",
           "hovertext": [
            "Congo",
            "Guinea",
            "Togo",
            "Peru",
            "Ecuador",
            "Malaysia",
            "East Timor",
            "Angola",
            "Sao Tome and Principe",
            "Honduras",
            "Germany",
            "Philippines",
            "Albania",
            "Senegal",
            "Democratic Republic of Congo",
            "Guinea-Bissau",
            "Cameroon",
            "Sierra Leone",
            "Nigeria",
            "Burundi",
            "Madagascar",
            "Cambodia",
            "Gabon",
            "Cote d'Ivoire",
            "Norway",
            "Brazil",
            "Gambia",
            "Venezuela",
            "Liberia",
            "Suriname",
            "Benin",
            "Thailand",
            "Equatorial Guinea",
            "Paraguay",
            "Papua New Guinea",
            "Tanzania",
            "Mexico",
            "China",
            "Guatemala",
            "Solomon Islands",
            "Dominican Republic",
            "Costa Rica",
            "Austria",
            "Colombia",
            "Panama",
            "Nicaragua",
            "Ghana",
            "Indonesia"
           ],
           "locationmode": "country names",
           "locations": [
            "Congo",
            "Guinea",
            "Togo",
            "Peru",
            "Ecuador",
            "Malaysia",
            "East Timor",
            "Angola",
            "Sao Tome and Principe",
            "Honduras",
            "Germany",
            "Philippines",
            "Albania",
            "Senegal",
            "Democratic Republic of Congo",
            "Guinea-Bissau",
            "Cameroon",
            "Sierra Leone",
            "Nigeria",
            "Burundi",
            "Madagascar",
            "Cambodia",
            "Gabon",
            "Cote d'Ivoire",
            "Norway",
            "Brazil",
            "Gambia",
            "Venezuela",
            "Liberia",
            "Suriname",
            "Benin",
            "Thailand",
            "Equatorial Guinea",
            "Paraguay",
            "Papua New Guinea",
            "Tanzania",
            "Mexico",
            "China",
            "Guatemala",
            "Solomon Islands",
            "Dominican Republic",
            "Costa Rica",
            "Austria",
            "Colombia",
            "Panama",
            "Nicaragua",
            "Ghana",
            "Indonesia"
           ],
           "name": "",
           "type": "choropleth",
           "z": [
            16000,
            38000,
            7100,
            25000,
            121347,
            5027496,
            0,
            42000,
            97,
            70000,
            0,
            43000,
            0,
            5200,
            178000,
            5000,
            100000,
            50700,
            700000,
            1930,
            3400,
            0,
            4616,
            186542,
            0,
            46000,
            2500,
            3772,
            26000,
            2227,
            25000,
            161000,
            5000,
            3691,
            110000,
            4610,
            1800,
            213000,
            5800,
            15227,
            0,
            59246,
            0,
            198725,
            0,
            3450,
            60000,
            1713335
           ]
          }
         ],
         "name": "1988"
        },
        {
         "data": [
          {
           "coloraxis": "coloraxis",
           "geo": "geo",
           "hovertemplate": "<b>%{hovertext}</b><br><br>Year=1989<br>Entity=%{location}<br>Production=%{z}<extra></extra>",
           "hovertext": [
            "Thailand",
            "Guinea",
            "Albania",
            "Panama",
            "Benin",
            "Suriname",
            "Philippines",
            "Caribbean (FAO)",
            "Indonesia",
            "Ghana",
            "Ecuador",
            "Germany",
            "East Timor",
            "Papua New Guinea",
            "Nigeria",
            "Cambodia",
            "China",
            "Mexico",
            "Guinea-Bissau",
            "Paraguay",
            "Tanzania",
            "Madagascar",
            "Senegal",
            "Sao Tome and Principe",
            "Congo",
            "Togo",
            "Brazil",
            "Nicaragua",
            "Austria",
            "Colombia",
            "Malaysia",
            "Guatemala",
            "Honduras",
            "Norway",
            "Sierra Leone",
            "Equatorial Guinea",
            "Liberia",
            "Gabon",
            "Democratic Republic of Congo",
            "Dominican Republic",
            "Peru",
            "Cameroon",
            "Burundi",
            "Angola",
            "Costa Rica",
            "Solomon Islands",
            "Gambia",
            "Venezuela",
            "Cote d'Ivoire"
           ],
           "locationmode": "country names",
           "locations": [
            "Thailand",
            "Guinea",
            "Albania",
            "Panama",
            "Benin",
            "Suriname",
            "Philippines",
            "Caribbean (FAO)",
            "Indonesia",
            "Ghana",
            "Ecuador",
            "Germany",
            "East Timor",
            "Papua New Guinea",
            "Nigeria",
            "Cambodia",
            "China",
            "Mexico",
            "Guinea-Bissau",
            "Paraguay",
            "Tanzania",
            "Madagascar",
            "Senegal",
            "Sao Tome and Principe",
            "Congo",
            "Togo",
            "Brazil",
            "Nicaragua",
            "Austria",
            "Colombia",
            "Malaysia",
            "Guatemala",
            "Honduras",
            "Norway",
            "Sierra Leone",
            "Equatorial Guinea",
            "Liberia",
            "Gabon",
            "Democratic Republic of Congo",
            "Dominican Republic",
            "Peru",
            "Cameroon",
            "Burundi",
            "Angola",
            "Costa Rica",
            "Solomon Islands",
            "Gambia",
            "Venezuela",
            "Cote d'Ivoire"
           ],
           "name": "",
           "type": "choropleth",
           "z": [
            199000,
            40000,
            0,
            0,
            20000,
            2951,
            42000,
            2600,
            1964954,
            78000,
            162570,
            0,
            0,
            133000,
            700000,
            0,
            203000,
            1800,
            5000,
            3700,
            4700,
            3600,
            4300,
            365,
            16500,
            7100,
            53700,
            3520,
            0,
            224000,
            6056501,
            6200,
            73700,
            0,
            49300,
            5000,
            25000,
            2529,
            178000,
            2600,
            22500,
            148330,
            1401,
            42000,
            72108,
            20090,
            2500,
            5068,
            193272
           ]
          }
         ],
         "name": "1989"
        },
        {
         "data": [
          {
           "coloraxis": "coloraxis",
           "geo": "geo",
           "hovertemplate": "<b>%{hovertext}</b><br><br>Year=1990<br>Entity=%{location}<br>Production=%{z}<extra></extra>",
           "hovertext": [
            "Panama",
            "Honduras",
            "Colombia",
            "Cambodia",
            "East Timor",
            "Germany",
            "Austria",
            "Albania",
            "Papua New Guinea",
            "Peru",
            "Norway",
            "Thailand",
            "Philippines",
            "Cameroon",
            "Guinea-Bissau",
            "Paraguay",
            "Togo",
            "Caribbean (FAO)",
            "Dominican Republic",
            "China",
            "Angola",
            "Indonesia",
            "Democratic Republic of Congo",
            "Liberia",
            "Madagascar",
            "Ecuador",
            "Gambia",
            "Benin",
            "Guinea",
            "Tanzania",
            "Cote d'Ivoire",
            "Suriname",
            "Venezuela",
            "Senegal",
            "Equatorial Guinea",
            "Costa Rica",
            "Congo",
            "Brazil",
            "Guatemala",
            "Burundi",
            "Gabon",
            "Solomon Islands",
            "Sierra Leone",
            "Sao Tome and Principe",
            "Nigeria",
            "Ghana",
            "Nicaragua",
            "Malaysia",
            "Mexico"
           ],
           "locationmode": "country names",
           "locations": [
            "Panama",
            "Honduras",
            "Colombia",
            "Cambodia",
            "East Timor",
            "Germany",
            "Austria",
            "Albania",
            "Papua New Guinea",
            "Peru",
            "Norway",
            "Thailand",
            "Philippines",
            "Cameroon",
            "Guinea-Bissau",
            "Paraguay",
            "Togo",
            "Caribbean (FAO)",
            "Dominican Republic",
            "China",
            "Angola",
            "Indonesia",
            "Democratic Republic of Congo",
            "Liberia",
            "Madagascar",
            "Ecuador",
            "Gambia",
            "Benin",
            "Guinea",
            "Tanzania",
            "Cote d'Ivoire",
            "Suriname",
            "Venezuela",
            "Senegal",
            "Equatorial Guinea",
            "Costa Rica",
            "Congo",
            "Brazil",
            "Guatemala",
            "Burundi",
            "Gabon",
            "Solomon Islands",
            "Sierra Leone",
            "Sao Tome and Principe",
            "Nigeria",
            "Ghana",
            "Nicaragua",
            "Malaysia",
            "Mexico"
           ],
           "name": "",
           "type": "choropleth",
           "z": [
            0,
            78000,
            251961,
            0,
            0,
            0,
            0,
            0,
            145000,
            25700,
            0,
            226000,
            45100,
            157708,
            4000,
            3955,
            7758,
            8800,
            8800,
            180000,
            40000,
            2412612,
            179000,
            23500,
            3800,
            150425,
            2732,
            21854,
            41000,
            4800,
            250188,
            1574,
            4324,
            5200,
            5370,
            73178,
            17722,
            65600,
            8000,
            1931,
            4324,
            22104,
            50000,
            350,
            730000,
            85000,
            3680,
            6094622,
            4500
           ]
          }
         ],
         "name": "1990"
        },
        {
         "data": [
          {
           "coloraxis": "coloraxis",
           "geo": "geo",
           "hovertemplate": "<b>%{hovertext}</b><br><br>Year=1991<br>Entity=%{location}<br>Production=%{z}<extra></extra>",
           "hovertext": [
            "Gabon",
            "Gambia",
            "Peru",
            "Guinea",
            "Honduras",
            "Venezuela",
            "Dominican Republic",
            "Cote d'Ivoire",
            "Cameroon",
            "Democratic Republic of Congo",
            "Equatorial Guinea",
            "Nicaragua",
            "Caribbean (FAO)",
            "Sierra Leone",
            "Philippines",
            "Liberia",
            "Burundi",
            "Brazil",
            "Guatemala",
            "Nigeria",
            "Solomon Islands",
            "Papua New Guinea",
            "Ghana",
            "Mexico",
            "East Timor",
            "Ecuador",
            "Sao Tome and Principe",
            "Thailand",
            "Costa Rica",
            "China",
            "Guinea-Bissau",
            "Colombia",
            "Indonesia",
            "Madagascar",
            "Tanzania",
            "Malaysia",
            "Suriname",
            "Benin",
            "Paraguay",
            "Congo",
            "Togo",
            "Senegal",
            "Angola"
           ],
           "locationmode": "country names",
           "locations": [
            "Gabon",
            "Gambia",
            "Peru",
            "Guinea",
            "Honduras",
            "Venezuela",
            "Dominican Republic",
            "Cote d'Ivoire",
            "Cameroon",
            "Democratic Republic of Congo",
            "Equatorial Guinea",
            "Nicaragua",
            "Caribbean (FAO)",
            "Sierra Leone",
            "Philippines",
            "Liberia",
            "Burundi",
            "Brazil",
            "Guatemala",
            "Nigeria",
            "Solomon Islands",
            "Papua New Guinea",
            "Ghana",
            "Mexico",
            "East Timor",
            "Ecuador",
            "Sao Tome and Principe",
            "Thailand",
            "Costa Rica",
            "China",
            "Guinea-Bissau",
            "Colombia",
            "Indonesia",
            "Madagascar",
            "Tanzania",
            "Malaysia",
            "Suriname",
            "Benin",
            "Paraguay",
            "Congo",
            "Togo",
            "Senegal",
            "Angola"
           ],
           "name": "",
           "type": "choropleth",
           "z": [
            6969,
            2832,
            23100,
            43000,
            80000,
            6758,
            13200,
            255267,
            130000,
            180000,
            4704,
            3750,
            13200,
            50700,
            51900,
            35000,
            1958,
            69900,
            10000,
            760000,
            22518,
            180000,
            90000,
            3000,
            0,
            160618,
            923,
            234000,
            76298,
            184628,
            5000,
            290856,
            2657600,
            3800,
            4945,
            6141353,
            1509,
            14000,
            5376,
            16000,
            8042,
            3400,
            40000
           ]
          }
         ],
         "name": "1991"
        },
        {
         "data": [
          {
           "coloraxis": "coloraxis",
           "geo": "geo",
           "hovertemplate": "<b>%{hovertext}</b><br><br>Year=1992<br>Entity=%{location}<br>Production=%{z}<extra></extra>",
           "hovertext": [
            "Suriname",
            "Malaysia",
            "Peru",
            "Solomon Islands",
            "Brazil",
            "Ghana",
            "Nicaragua",
            "Benin",
            "Thailand",
            "Paraguay",
            "Dominican Republic",
            "Costa Rica",
            "Democratic Republic of Congo",
            "Caribbean (FAO)",
            "Equatorial Guinea",
            "Liberia",
            "China",
            "Indonesia",
            "Mexico",
            "Guatemala",
            "Colombia",
            "Venezuela",
            "Congo",
            "Philippines",
            "Guinea",
            "Gabon",
            "Senegal",
            "Cote d'Ivoire",
            "Tanzania",
            "Cameroon",
            "Madagascar",
            "Angola",
            "Nigeria",
            "Togo",
            "Burundi",
            "Guinea-Bissau",
            "Ecuador",
            "Sao Tome and Principe",
            "Gambia",
            "Honduras",
            "Sierra Leone",
            "East Timor",
            "Papua New Guinea"
           ],
           "locationmode": "country names",
           "locations": [
            "Suriname",
            "Malaysia",
            "Peru",
            "Solomon Islands",
            "Brazil",
            "Ghana",
            "Nicaragua",
            "Benin",
            "Thailand",
            "Paraguay",
            "Dominican Republic",
            "Costa Rica",
            "Democratic Republic of Congo",
            "Caribbean (FAO)",
            "Equatorial Guinea",
            "Liberia",
            "China",
            "Indonesia",
            "Mexico",
            "Guatemala",
            "Colombia",
            "Venezuela",
            "Congo",
            "Philippines",
            "Guinea",
            "Gabon",
            "Senegal",
            "Cote d'Ivoire",
            "Tanzania",
            "Cameroon",
            "Madagascar",
            "Angola",
            "Nigeria",
            "Togo",
            "Burundi",
            "Guinea-Bissau",
            "Ecuador",
            "Sao Tome and Principe",
            "Gambia",
            "Honduras",
            "Sierra Leone",
            "East Timor",
            "Papua New Guinea"
           ],
           "name": "",
           "type": "choropleth",
           "z": [
            1988,
            6373460,
            25000,
            30854,
            60000,
            100000,
            2933,
            13700,
            270000,
            5728,
            16300,
            75155,
            181000,
            16300,
            4900,
            35000,
            192000,
            3266250,
            3286,
            13000,
            290470,
            11935,
            15000,
            54000,
            40000,
            6848,
            3583,
            281108,
            4990,
            120000,
            3850,
            40000,
            792000,
            8475,
            2012,
            4500,
            166271,
            1096,
            2984,
            82000,
            48000,
            0,
            202000
           ]
          }
         ],
         "name": "1992"
        },
        {
         "data": [
          {
           "coloraxis": "coloraxis",
           "geo": "geo",
           "hovertemplate": "<b>%{hovertext}</b><br><br>Year=1993<br>Entity=%{location}<br>Production=%{z}<extra></extra>",
           "hovertext": [
            "Paraguay",
            "Nigeria",
            "Madagascar",
            "Tanzania",
            "Gabon",
            "Benin",
            "Ghana",
            "Senegal",
            "Mexico",
            "Guinea-Bissau",
            "Indonesia",
            "Thailand",
            "China",
            "Ecuador",
            "Togo",
            "Sao Tome and Principe",
            "Costa Rica",
            "Suriname",
            "Congo",
            "Peru",
            "Liberia",
            "Colombia",
            "Honduras",
            "Malaysia",
            "Nicaragua",
            "Brazil",
            "Gambia",
            "Sierra Leone",
            "Caribbean (FAO)",
            "Guatemala",
            "Burundi",
            "Angola",
            "Venezuela",
            "Papua New Guinea",
            "Solomon Islands",
            "Guinea",
            "Democratic Republic of Congo",
            "Philippines",
            "Equatorial Guinea",
            "Cameroon",
            "Dominican Republic",
            "Cote d'Ivoire"
           ],
           "locationmode": "country names",
           "locations": [
            "Paraguay",
            "Nigeria",
            "Madagascar",
            "Tanzania",
            "Gabon",
            "Benin",
            "Ghana",
            "Senegal",
            "Mexico",
            "Guinea-Bissau",
            "Indonesia",
            "Thailand",
            "China",
            "Ecuador",
            "Togo",
            "Sao Tome and Principe",
            "Costa Rica",
            "Suriname",
            "Congo",
            "Peru",
            "Liberia",
            "Colombia",
            "Honduras",
            "Malaysia",
            "Nicaragua",
            "Brazil",
            "Gambia",
            "Sierra Leone",
            "Caribbean (FAO)",
            "Guatemala",
            "Burundi",
            "Angola",
            "Venezuela",
            "Papua New Guinea",
            "Solomon Islands",
            "Guinea",
            "Democratic Republic of Congo",
            "Philippines",
            "Equatorial Guinea",
            "Cameroon",
            "Dominican Republic",
            "Cote d'Ivoire"
           ],
           "name": "",
           "type": "choropleth",
           "z": [
            3800,
            825000,
            4000,
            5090,
            8010,
            14000,
            95000,
            3641,
            7700,
            4000,
            3421448,
            265000,
            200000,
            170502,
            8612,
            1089,
            84858,
            1700,
            15400,
            30000,
            35000,
            314680,
            80000,
            7402930,
            4000,
            53800,
            3032,
            47000,
            20000,
            16000,
            1960,
            40000,
            20576,
            222800,
            30986,
            48000,
            182000,
            54700,
            4800,
            123000,
            20000,
            274401
           ]
          }
         ],
         "name": "1993"
        },
        {
         "data": [
          {
           "coloraxis": "coloraxis",
           "geo": "geo",
           "hovertemplate": "<b>%{hovertext}</b><br><br>Year=1994<br>Entity=%{location}<br>Production=%{z}<extra></extra>",
           "hovertext": [
            "Venezuela",
            "Congo",
            "Madagascar",
            "Malaysia",
            "Nicaragua",
            "Cote d'Ivoire",
            "Colombia",
            "Costa Rica",
            "Democratic Republic of Congo",
            "Liberia",
            "Togo",
            "Angola",
            "Gambia",
            "China",
            "Mexico",
            "Nigeria",
            "Benin",
            "Caribbean (FAO)",
            "Peru",
            "Cameroon",
            "Gabon",
            "Philippines",
            "Guinea-Bissau",
            "Papua New Guinea",
            "Tanzania",
            "Ecuador",
            "Sao Tome and Principe",
            "Guinea",
            "Senegal",
            "Honduras",
            "Paraguay",
            "Burundi",
            "Sierra Leone",
            "Dominican Republic",
            "Thailand",
            "Brazil",
            "Solomon Islands",
            "Suriname",
            "Guatemala",
            "Equatorial Guinea",
            "Indonesia",
            "Ghana"
           ],
           "locationmode": "country names",
           "locations": [
            "Venezuela",
            "Congo",
            "Madagascar",
            "Malaysia",
            "Nicaragua",
            "Cote d'Ivoire",
            "Colombia",
            "Costa Rica",
            "Democratic Republic of Congo",
            "Liberia",
            "Togo",
            "Angola",
            "Gambia",
            "China",
            "Mexico",
            "Nigeria",
            "Benin",
            "Caribbean (FAO)",
            "Peru",
            "Cameroon",
            "Gabon",
            "Philippines",
            "Guinea-Bissau",
            "Papua New Guinea",
            "Tanzania",
            "Ecuador",
            "Sao Tome and Principe",
            "Guinea",
            "Senegal",
            "Honduras",
            "Paraguay",
            "Burundi",
            "Sierra Leone",
            "Dominican Republic",
            "Thailand",
            "Brazil",
            "Solomon Islands",
            "Suriname",
            "Guatemala",
            "Equatorial Guinea",
            "Indonesia",
            "Ghana"
           ],
           "name": "",
           "type": "choropleth",
           "z": [
            34092,
            16000,
            3400,
            7220630,
            6000,
            275887,
            353163,
            89457,
            170520,
            36000,
            8733,
            40000,
            3075,
            211948,
            5000,
            837000,
            9432,
            23000,
            29000,
            125000,
            7576,
            54400,
            4500,
            224800,
            5180,
            194668,
            811,
            50000,
            4300,
            75600,
            4524,
            1755,
            50264,
            23000,
            300000,
            70800,
            29737,
            1485,
            22000,
            4700,
            4008060,
            100000
           ]
          }
         ],
         "name": "1994"
        },
        {
         "data": [
          {
           "coloraxis": "coloraxis",
           "geo": "geo",
           "hovertemplate": "<b>%{hovertext}</b><br><br>Year=1995<br>Entity=%{location}<br>Production=%{z}<extra></extra>",
           "hovertext": [
            "Cameroon",
            "Ghana",
            "Gabon",
            "Peru",
            "Mexico",
            "Togo",
            "Philippines",
            "Nigeria",
            "Guinea-Bissau",
            "Costa Rica",
            "Madagascar",
            "Colombia",
            "Venezuela",
            "Suriname",
            "Brazil",
            "Ecuador",
            "Solomon Islands",
            "Sao Tome and Principe",
            "Guinea",
            "Congo",
            "Cote d'Ivoire",
            "Equatorial Guinea",
            "Senegal",
            "Gambia",
            "Burundi",
            "Guatemala",
            "Sierra Leone",
            "Malaysia",
            "Nicaragua",
            "Tanzania",
            "Honduras",
            "Papua New Guinea",
            "Thailand",
            "China",
            "Indonesia",
            "Paraguay",
            "Democratic Republic of Congo",
            "Liberia",
            "Caribbean (FAO)",
            "Dominican Republic",
            "Benin",
            "Angola"
           ],
           "locationmode": "country names",
           "locations": [
            "Cameroon",
            "Ghana",
            "Gabon",
            "Peru",
            "Mexico",
            "Togo",
            "Philippines",
            "Nigeria",
            "Guinea-Bissau",
            "Costa Rica",
            "Madagascar",
            "Colombia",
            "Venezuela",
            "Suriname",
            "Brazil",
            "Ecuador",
            "Solomon Islands",
            "Sao Tome and Principe",
            "Guinea",
            "Congo",
            "Cote d'Ivoire",
            "Equatorial Guinea",
            "Senegal",
            "Gambia",
            "Burundi",
            "Guatemala",
            "Sierra Leone",
            "Malaysia",
            "Nicaragua",
            "Tanzania",
            "Honduras",
            "Papua New Guinea",
            "Thailand",
            "China",
            "Indonesia",
            "Paraguay",
            "Democratic Republic of Congo",
            "Liberia",
            "Caribbean (FAO)",
            "Dominican Republic",
            "Benin",
            "Angola"
           ],
           "name": "",
           "type": "choropleth",
           "z": [
            125000,
            102000,
            7405,
            32200,
            5700,
            8000,
            53000,
            860000,
            4538,
            93217,
            3600,
            387646,
            38699,
            1015,
            75500,
            179933,
            29562,
            719,
            50422,
            16100,
            267889,
            4500,
            5900,
            3101,
            1890,
            25400,
            45238,
            7810546,
            6200,
            5280,
            75500,
            223412,
            370000,
            220822,
            4479670,
            2400,
            195630,
            35000,
            24000,
            24000,
            12500,
            40000
           ]
          }
         ],
         "name": "1995"
        },
        {
         "data": [
          {
           "coloraxis": "coloraxis",
           "geo": "geo",
           "hovertemplate": "<b>%{hovertext}</b><br><br>Year=1996<br>Entity=%{location}<br>Production=%{z}<extra></extra>",
           "hovertext": [
            "Paraguay",
            "Guinea",
            "Nigeria",
            "Cote d'Ivoire",
            "Philippines",
            "Togo",
            "Guatemala",
            "Guinea-Bissau",
            "Indonesia",
            "Thailand",
            "Madagascar",
            "Caribbean (FAO)",
            "Brazil",
            "Ecuador",
            "Democratic Republic of Congo",
            "Solomon Islands",
            "Congo",
            "Dominican Republic",
            "Sao Tome and Principe",
            "Suriname",
            "Tanzania",
            "Mexico",
            "Costa Rica",
            "Honduras",
            "Malaysia",
            "Colombia",
            "Sierra Leone",
            "Papua New Guinea",
            "Angola",
            "Nicaragua",
            "Venezuela",
            "Peru",
            "Burundi",
            "Liberia",
            "Gambia",
            "Ghana",
            "Equatorial Guinea",
            "Senegal",
            "Cameroon",
            "Gabon",
            "China",
            "Benin"
           ],
           "locationmode": "country names",
           "locations": [
            "Paraguay",
            "Guinea",
            "Nigeria",
            "Cote d'Ivoire",
            "Philippines",
            "Togo",
            "Guatemala",
            "Guinea-Bissau",
            "Indonesia",
            "Thailand",
            "Madagascar",
            "Caribbean (FAO)",
            "Brazil",
            "Ecuador",
            "Democratic Republic of Congo",
            "Solomon Islands",
            "Congo",
            "Dominican Republic",
            "Sao Tome and Principe",
            "Suriname",
            "Tanzania",
            "Mexico",
            "Costa Rica",
            "Honduras",
            "Malaysia",
            "Colombia",
            "Sierra Leone",
            "Papua New Guinea",
            "Angola",
            "Nicaragua",
            "Venezuela",
            "Peru",
            "Burundi",
            "Liberia",
            "Gambia",
            "Ghana",
            "Equatorial Guinea",
            "Senegal",
            "Cameroon",
            "Gabon",
            "China",
            "Benin"
           ],
           "name": "",
           "type": "choropleth",
           "z": [
            2570,
            55000,
            776000,
            296948,
            52000,
            8500,
            35600,
            4268,
            4898658,
            400000,
            3400,
            25000,
            79500,
            187755,
            186120,
            28680,
            16700,
            25000,
            1084,
            22,
            5370,
            7200,
            96789,
            76000,
            8385890,
            409620,
            48000,
            271806,
            48000,
            7500,
            44756,
            32500,
            1960,
            32915,
            2916,
            83680,
            4600,
            5200,
            160708,
            6721,
            202000,
            15000
           ]
          }
         ],
         "name": "1996"
        },
        {
         "data": [
          {
           "coloraxis": "coloraxis",
           "geo": "geo",
           "hovertemplate": "<b>%{hovertext}</b><br><br>Year=1997<br>Entity=%{location}<br>Production=%{z}<extra></extra>",
           "hovertext": [
            "Guinea",
            "Democratic Republic of Congo",
            "Sierra Leone",
            "Malaysia",
            "Senegal",
            "Gambia",
            "Guatemala",
            "Panama",
            "China",
            "Indonesia",
            "Nicaragua",
            "Burundi",
            "Ecuador",
            "Cote d'Ivoire",
            "Congo",
            "Honduras",
            "Equatorial Guinea",
            "Costa Rica",
            "Colombia",
            "Togo",
            "Angola",
            "Peru",
            "Ghana",
            "Cameroon",
            "Benin",
            "Gabon",
            "Liberia",
            "Venezuela",
            "Mexico",
            "Nigeria",
            "Caribbean (FAO)",
            "Philippines",
            "Brazil",
            "Papua New Guinea",
            "Guinea-Bissau",
            "Thailand",
            "Suriname",
            "Tanzania",
            "Madagascar",
            "Paraguay",
            "Sao Tome and Principe",
            "Solomon Islands",
            "Dominican Republic"
           ],
           "locationmode": "country names",
           "locations": [
            "Guinea",
            "Democratic Republic of Congo",
            "Sierra Leone",
            "Malaysia",
            "Senegal",
            "Gambia",
            "Guatemala",
            "Panama",
            "China",
            "Indonesia",
            "Nicaragua",
            "Burundi",
            "Ecuador",
            "Cote d'Ivoire",
            "Congo",
            "Honduras",
            "Equatorial Guinea",
            "Costa Rica",
            "Colombia",
            "Togo",
            "Angola",
            "Peru",
            "Ghana",
            "Cameroon",
            "Benin",
            "Gabon",
            "Liberia",
            "Venezuela",
            "Mexico",
            "Nigeria",
            "Caribbean (FAO)",
            "Philippines",
            "Brazil",
            "Papua New Guinea",
            "Guinea-Bissau",
            "Thailand",
            "Suriname",
            "Tanzania",
            "Madagascar",
            "Paraguay",
            "Sao Tome and Principe",
            "Solomon Islands",
            "Dominican Republic"
           ],
           "name": "",
           "type": "choropleth",
           "z": [
            55000,
            167810,
            50800,
            9068730,
            5176,
            2902,
            50000,
            5000,
            205000,
            5385458,
            8000,
            2030,
            243556,
            248882,
            15700,
            77000,
            4400,
            101000,
            440796,
            6800,
            50000,
            33000,
            92044,
            135000,
            8841,
            7000,
            42000,
            53587,
            6500,
            810000,
            25000,
            50000,
            80400,
            248882,
            4248,
            449796,
            17,
            5280,
            3500,
            2234,
            1163,
            28863,
            25000
           ]
          }
         ],
         "name": "1997"
        },
        {
         "data": [
          {
           "coloraxis": "coloraxis",
           "geo": "geo",
           "hovertemplate": "<b>%{hovertext}</b><br><br>Year=1998<br>Entity=%{location}<br>Production=%{z}<extra></extra>",
           "hovertext": [
            "China",
            "Equatorial Guinea",
            "Costa Rica",
            "Malaysia",
            "Solomon Islands",
            "Mexico",
            "Ghana",
            "Benin",
            "Suriname",
            "Papua New Guinea",
            "Indonesia",
            "Venezuela",
            "Guatemala",
            "Madagascar",
            "Peru",
            "Guinea-Bissau",
            "Caribbean (FAO)",
            "Togo",
            "Liberia",
            "Tanzania",
            "Brazil",
            "Paraguay",
            "Cameroon",
            "Dominican Republic",
            "Thailand",
            "Gambia",
            "Sao Tome and Principe",
            "Nigeria",
            "Burundi",
            "Philippines",
            "Congo",
            "Sierra Leone",
            "Colombia",
            "Panama",
            "Gabon",
            "Guinea",
            "Democratic Republic of Congo",
            "Senegal",
            "Cote d'Ivoire",
            "Nicaragua",
            "Honduras",
            "Angola",
            "Ecuador"
           ],
           "locationmode": "country names",
           "locations": [
            "China",
            "Equatorial Guinea",
            "Costa Rica",
            "Malaysia",
            "Solomon Islands",
            "Mexico",
            "Ghana",
            "Benin",
            "Suriname",
            "Papua New Guinea",
            "Indonesia",
            "Venezuela",
            "Guatemala",
            "Madagascar",
            "Peru",
            "Guinea-Bissau",
            "Caribbean (FAO)",
            "Togo",
            "Liberia",
            "Tanzania",
            "Brazil",
            "Paraguay",
            "Cameroon",
            "Dominican Republic",
            "Thailand",
            "Gambia",
            "Sao Tome and Principe",
            "Nigeria",
            "Burundi",
            "Philippines",
            "Congo",
            "Sierra Leone",
            "Colombia",
            "Panama",
            "Gabon",
            "Guinea",
            "Democratic Republic of Congo",
            "Senegal",
            "Cote d'Ivoire",
            "Nicaragua",
            "Honduras",
            "Angola",
            "Ecuador"
           ],
           "name": "",
           "type": "choropleth",
           "z": [
            207000,
            4300,
            108586,
            8319680,
            29077,
            12350,
            111370,
            14800,
            100,
            283000,
            5902178,
            43606,
            47000,
            3500,
            33500,
            4400,
            25000,
            7000,
            42000,
            5570,
            88600,
            2216,
            139000,
            25000,
            475042,
            3065,
            979,
            845000,
            1960,
            48000,
            16100,
            40000,
            424198,
            10000,
            6400,
            50000,
            168830,
            5500,
            264403,
            8000,
            92000,
            51000,
            269642
           ]
          }
         ],
         "name": "1998"
        },
        {
         "data": [
          {
           "coloraxis": "coloraxis",
           "geo": "geo",
           "hovertemplate": "<b>%{hovertext}</b><br><br>Year=1999<br>Entity=%{location}<br>Production=%{z}<extra></extra>",
           "hovertext": [
            "Cameroon",
            "Angola",
            "Colombia",
            "Peru",
            "Nigeria",
            "Tanzania",
            "Brazil",
            "Papua New Guinea",
            "Philippines",
            "Benin",
            "Suriname",
            "Caribbean (FAO)",
            "Paraguay",
            "Solomon Islands",
            "Thailand",
            "Sao Tome and Principe",
            "Burundi",
            "Congo",
            "Senegal",
            "Panama",
            "China",
            "Sierra Leone",
            "Mexico",
            "Nicaragua",
            "Togo",
            "Venezuela",
            "Ghana",
            "Guinea",
            "Cote d'Ivoire",
            "Dominican Republic",
            "Malaysia",
            "Costa Rica",
            "Indonesia",
            "Ecuador",
            "Honduras",
            "Guatemala",
            "Equatorial Guinea",
            "Gambia",
            "Guinea-Bissau",
            "Liberia",
            "Democratic Republic of Congo",
            "Gabon",
            "Madagascar"
           ],
           "locationmode": "country names",
           "locations": [
            "Cameroon",
            "Angola",
            "Colombia",
            "Peru",
            "Nigeria",
            "Tanzania",
            "Brazil",
            "Papua New Guinea",
            "Philippines",
            "Benin",
            "Suriname",
            "Caribbean (FAO)",
            "Paraguay",
            "Solomon Islands",
            "Thailand",
            "Sao Tome and Principe",
            "Burundi",
            "Congo",
            "Senegal",
            "Panama",
            "China",
            "Sierra Leone",
            "Mexico",
            "Nicaragua",
            "Togo",
            "Venezuela",
            "Ghana",
            "Guinea",
            "Cote d'Ivoire",
            "Dominican Republic",
            "Malaysia",
            "Costa Rica",
            "Indonesia",
            "Ecuador",
            "Honduras",
            "Guatemala",
            "Equatorial Guinea",
            "Gambia",
            "Guinea-Bissau",
            "Liberia",
            "Democratic Republic of Congo",
            "Gabon",
            "Madagascar"
           ],
           "name": "",
           "type": "choropleth",
           "z": [
            131979,
            49000,
            499635,
            35000,
            896000,
            5970,
            92000,
            299000,
            48000,
            15000,
            150,
            23500,
            2750,
            31000,
            570000,
            1091,
            1890,
            16700,
            6140,
            11400,
            210000,
            35560,
            18000,
            8000,
            7000,
            60065,
            110000,
            50000,
            284518,
            23500,
            10553918,
            108972,
            6011300,
            164045,
            90600,
            53000,
            4500,
            3227,
            4500,
            42000,
            168050,
            6245,
            3700
           ]
          }
         ],
         "name": "1999"
        },
        {
         "data": [
          {
           "coloraxis": "coloraxis",
           "geo": "geo",
           "hovertemplate": "<b>%{hovertext}</b><br><br>Year=2000<br>Entity=%{location}<br>Production=%{z}<extra></extra>",
           "hovertext": [
            "Costa Rica",
            "Democratic Republic of Congo",
            "Ecuador",
            "Cote d'Ivoire",
            "Sierra Leone",
            "Brazil",
            "Nicaragua",
            "Malaysia",
            "Guatemala",
            "Equatorial Guinea",
            "Senegal",
            "Guinea",
            "Madagascar",
            "Sao Tome and Principe",
            "Liberia",
            "Panama",
            "China",
            "Papua New Guinea",
            "Indonesia",
            "Venezuela",
            "Colombia",
            "Dominican Republic",
            "Paraguay",
            "Caribbean (FAO)",
            "Honduras",
            "Peru",
            "Cameroon",
            "Philippines",
            "Nigeria",
            "Solomon Islands",
            "Guinea-Bissau",
            "Burundi",
            "Suriname",
            "Congo",
            "Togo",
            "Thailand",
            "Gambia",
            "Tanzania",
            "Angola",
            "Ghana",
            "Mexico",
            "Benin",
            "Gabon"
           ],
           "locationmode": "country names",
           "locations": [
            "Costa Rica",
            "Democratic Republic of Congo",
            "Ecuador",
            "Cote d'Ivoire",
            "Sierra Leone",
            "Brazil",
            "Nicaragua",
            "Malaysia",
            "Guatemala",
            "Equatorial Guinea",
            "Senegal",
            "Guinea",
            "Madagascar",
            "Sao Tome and Principe",
            "Liberia",
            "Panama",
            "China",
            "Papua New Guinea",
            "Indonesia",
            "Venezuela",
            "Colombia",
            "Dominican Republic",
            "Paraguay",
            "Caribbean (FAO)",
            "Honduras",
            "Peru",
            "Cameroon",
            "Philippines",
            "Nigeria",
            "Solomon Islands",
            "Guinea-Bissau",
            "Burundi",
            "Suriname",
            "Congo",
            "Togo",
            "Thailand",
            "Gambia",
            "Tanzania",
            "Angola",
            "Ghana",
            "Mexico",
            "Benin",
            "Gabon"
           ],
           "name": "",
           "type": "choropleth",
           "z": [
            137051,
            167640,
            217864,
            263213,
            36000,
            108000,
            8200,
            10842095,
            65000,
            4551,
            5600,
            50000,
            3500,
            2025,
            42000,
            11600,
            213000,
            336000,
            7000507,
            70340,
            524001,
            26000,
            2913,
            26000,
            95000,
            24500,
            136277,
            54000,
            899000,
            35000,
            5000,
            1760,
            220,
            16891,
            7000,
            579000,
            3182,
            6140,
            49000,
            108000,
            26200,
            36000,
            6316
           ]
          }
         ],
         "name": "2000"
        },
        {
         "data": [
          {
           "coloraxis": "coloraxis",
           "geo": "geo",
           "hovertemplate": "<b>%{hovertext}</b><br><br>Year=2001<br>Entity=%{location}<br>Production=%{z}<extra></extra>",
           "hovertext": [
            "Honduras",
            "Senegal",
            "Caribbean (FAO)",
            "Democratic Republic of Congo",
            "Paraguay",
            "Sao Tome and Principe",
            "Mexico",
            "Venezuela",
            "Sierra Leone",
            "Ecuador",
            "Cameroon",
            "Togo",
            "Philippines",
            "Congo",
            "Gabon",
            "Guinea",
            "Nigeria",
            "Suriname",
            "Burundi",
            "Guinea-Bissau",
            "Thailand",
            "Madagascar",
            "Peru",
            "Brazil",
            "Dominican Republic",
            "Colombia",
            "Liberia",
            "Tanzania",
            "Solomon Islands",
            "China",
            "Indonesia",
            "Papua New Guinea",
            "Malaysia",
            "Guatemala",
            "Panama",
            "Ghana",
            "Cote d'Ivoire",
            "Gambia",
            "Nicaragua",
            "Costa Rica",
            "Equatorial Guinea",
            "Angola",
            "Benin"
           ],
           "locationmode": "country names",
           "locations": [
            "Honduras",
            "Senegal",
            "Caribbean (FAO)",
            "Democratic Republic of Congo",
            "Paraguay",
            "Sao Tome and Principe",
            "Mexico",
            "Venezuela",
            "Sierra Leone",
            "Ecuador",
            "Cameroon",
            "Togo",
            "Philippines",
            "Congo",
            "Gabon",
            "Guinea",
            "Nigeria",
            "Suriname",
            "Burundi",
            "Guinea-Bissau",
            "Thailand",
            "Madagascar",
            "Peru",
            "Brazil",
            "Dominican Republic",
            "Colombia",
            "Liberia",
            "Tanzania",
            "Solomon Islands",
            "China",
            "Indonesia",
            "Papua New Guinea",
            "Malaysia",
            "Guatemala",
            "Panama",
            "Ghana",
            "Cote d'Ivoire",
            "Gambia",
            "Nicaragua",
            "Costa Rica",
            "Equatorial Guinea",
            "Angola",
            "Benin"
           ],
           "name": "",
           "type": "choropleth",
           "z": [
            130000,
            7621,
            26000,
            167230,
            3650,
            2500,
            34000,
            52852,
            36000,
            227830,
            138476,
            7000,
            55000,
            16962,
            6343,
            50000,
            903000,
            234,
            1260,
            4500,
            780390,
            3182,
            30800,
            110000,
            26000,
            547571,
            42000,
            6932,
            36000,
            217000,
            8396472,
            329000,
            11804000,
            70100,
            11800,
            108000,
            219634,
            3095,
            8000,
            149868,
            4570,
            49000,
            36000
           ]
          }
         ],
         "name": "2001"
        },
        {
         "data": [
          {
           "coloraxis": "coloraxis",
           "geo": "geo",
           "hovertemplate": "<b>%{hovertext}</b><br><br>Year=2002<br>Entity=%{location}<br>Production=%{z}<extra></extra>",
           "hovertext": [
            "Liberia",
            "Panama",
            "Thailand",
            "Guinea-Bissau",
            "Democratic Republic of Congo",
            "Costa Rica",
            "Madagascar",
            "Nigeria",
            "Philippines",
            "Cameroon",
            "Gambia",
            "Peru",
            "Papua New Guinea",
            "Dominican Republic",
            "Indonesia",
            "Honduras",
            "Venezuela",
            "Caribbean (FAO)",
            "Paraguay",
            "Mexico",
            "Angola",
            "Colombia",
            "China",
            "Togo",
            "Suriname",
            "Tanzania",
            "Cote d'Ivoire",
            "Sierra Leone",
            "Brazil",
            "Ecuador",
            "Nicaragua",
            "Ghana",
            "Malaysia",
            "Guatemala",
            "Congo",
            "Gabon",
            "Benin",
            "Guinea",
            "Senegal",
            "Sao Tome and Principe",
            "Burundi",
            "Solomon Islands",
            "Equatorial Guinea"
           ],
           "locationmode": "country names",
           "locations": [
            "Liberia",
            "Panama",
            "Thailand",
            "Guinea-Bissau",
            "Democratic Republic of Congo",
            "Costa Rica",
            "Madagascar",
            "Nigeria",
            "Philippines",
            "Cameroon",
            "Gambia",
            "Peru",
            "Papua New Guinea",
            "Dominican Republic",
            "Indonesia",
            "Honduras",
            "Venezuela",
            "Caribbean (FAO)",
            "Paraguay",
            "Mexico",
            "Angola",
            "Colombia",
            "China",
            "Togo",
            "Suriname",
            "Tanzania",
            "Cote d'Ivoire",
            "Sierra Leone",
            "Brazil",
            "Ecuador",
            "Nicaragua",
            "Ghana",
            "Malaysia",
            "Guatemala",
            "Congo",
            "Gabon",
            "Benin",
            "Guinea",
            "Senegal",
            "Sao Tome and Principe",
            "Burundi",
            "Solomon Islands",
            "Equatorial Guinea"
           ],
           "name": "",
           "type": "choropleth",
           "z": [
            42000,
            11500,
            641608,
            4778,
            170000,
            128400,
            3499,
            961000,
            56300,
            153121,
            2000,
            23800,
            316000,
            25200,
            9622344,
            126500,
            55987,
            25200,
            2760,
            36000,
            50000,
            528400,
            220000,
            7000,
            238,
            7623,
            252289,
            36000,
            118000,
            263252,
            8000,
            108000,
            11909300,
            86000,
            18900,
            6672,
            32000,
            50000,
            7031,
            2550,
            1490,
            34000,
            4807
           ]
          }
         ],
         "name": "2002"
        },
        {
         "data": [
          {
           "coloraxis": "coloraxis",
           "geo": "geo",
           "hovertemplate": "<b>%{hovertext}</b><br><br>Year=2003<br>Entity=%{location}<br>Production=%{z}<extra></extra>",
           "hovertext": [
            "Equatorial Guinea",
            "Senegal",
            "Caribbean (FAO)",
            "Ghana",
            "Togo",
            "Paraguay",
            "Sierra Leone",
            "Brazil",
            "Colombia",
            "Costa Rica",
            "Democratic Republic of Congo",
            "Solomon Islands",
            "Gambia",
            "Malaysia",
            "Guatemala",
            "Indonesia",
            "Mexico",
            "Panama",
            "Suriname",
            "Liberia",
            "China",
            "Benin",
            "Nicaragua",
            "Papua New Guinea",
            "Guinea-Bissau",
            "Honduras",
            "Guinea",
            "Thailand",
            "Venezuela",
            "Congo",
            "Cameroon",
            "Gabon",
            "Burundi",
            "Philippines",
            "Ecuador",
            "Peru",
            "Nigeria",
            "Madagascar",
            "Tanzania",
            "Dominican Republic",
            "Cote d'Ivoire",
            "Sao Tome and Principe",
            "Angola"
           ],
           "locationmode": "country names",
           "locations": [
            "Equatorial Guinea",
            "Senegal",
            "Caribbean (FAO)",
            "Ghana",
            "Togo",
            "Paraguay",
            "Sierra Leone",
            "Brazil",
            "Colombia",
            "Costa Rica",
            "Democratic Republic of Congo",
            "Solomon Islands",
            "Gambia",
            "Malaysia",
            "Guatemala",
            "Indonesia",
            "Mexico",
            "Panama",
            "Suriname",
            "Liberia",
            "China",
            "Benin",
            "Nicaragua",
            "Papua New Guinea",
            "Guinea-Bissau",
            "Honduras",
            "Guinea",
            "Thailand",
            "Venezuela",
            "Congo",
            "Cameroon",
            "Gabon",
            "Burundi",
            "Philippines",
            "Ecuador",
            "Peru",
            "Nigeria",
            "Madagascar",
            "Tanzania",
            "Dominican Republic",
            "Cote d'Ivoire",
            "Sao Tome and Principe",
            "Angola"
           ],
           "name": "",
           "type": "choropleth",
           "z": [
            4921,
            6000,
            27000,
            108400,
            7000,
            2800,
            36000,
            129000,
            526634,
            131460,
            175000,
            33000,
            2500,
            13354800,
            85000,
            10440834,
            39500,
            11800,
            236,
            42000,
            223000,
            32000,
            8000,
            326000,
            4890,
            158000,
            50000,
            863835,
            42035,
            15000,
            162308,
            6830,
            2000,
            59000,
            220945,
            27000,
            1022000,
            3575,
            7789,
            27000,
            225872,
            2600,
            49000
           ]
          }
         ],
         "name": "2003"
        },
        {
         "data": [
          {
           "coloraxis": "coloraxis",
           "geo": "geo",
           "hovertemplate": "<b>%{hovertext}</b><br><br>Year=2004<br>Entity=%{location}<br>Production=%{z}<extra></extra>",
           "hovertext": [
            "Philippines",
            "China",
            "Guinea",
            "Solomon Islands",
            "Democratic Republic of Congo",
            "Guinea-Bissau",
            "Panama",
            "Benin",
            "Burundi",
            "Sao Tome and Principe",
            "Ghana",
            "Equatorial Guinea",
            "Papua New Guinea",
            "Thailand",
            "Senegal",
            "Paraguay",
            "Angola",
            "Sierra Leone",
            "Brazil",
            "Dominican Republic",
            "Ecuador",
            "Guatemala",
            "Peru",
            "Cameroon",
            "Gambia",
            "Tanzania",
            "Togo",
            "Indonesia",
            "Caribbean (FAO)",
            "Honduras",
            "Venezuela",
            "Suriname",
            "Gabon",
            "Nigeria",
            "Costa Rica",
            "Malaysia",
            "Nicaragua",
            "Cote d'Ivoire",
            "Liberia",
            "Congo",
            "Mexico",
            "Colombia",
            "Madagascar"
           ],
           "locationmode": "country names",
           "locations": [
            "Philippines",
            "China",
            "Guinea",
            "Solomon Islands",
            "Democratic Republic of Congo",
            "Guinea-Bissau",
            "Panama",
            "Benin",
            "Burundi",
            "Sao Tome and Principe",
            "Ghana",
            "Equatorial Guinea",
            "Papua New Guinea",
            "Thailand",
            "Senegal",
            "Paraguay",
            "Angola",
            "Sierra Leone",
            "Brazil",
            "Dominican Republic",
            "Ecuador",
            "Guatemala",
            "Peru",
            "Cameroon",
            "Gambia",
            "Tanzania",
            "Togo",
            "Indonesia",
            "Caribbean (FAO)",
            "Honduras",
            "Venezuela",
            "Suriname",
            "Gabon",
            "Nigeria",
            "Costa Rica",
            "Malaysia",
            "Nicaragua",
            "Cote d'Ivoire",
            "Liberia",
            "Congo",
            "Mexico",
            "Colombia",
            "Madagascar"
           ],
           "name": "",
           "type": "choropleth",
           "z": [
            60000,
            225000,
            50000,
            34000,
            175000,
            5386,
            13000,
            33500,
            2700,
            2650,
            114000,
            5102,
            345000,
            820838,
            6608,
            2770,
            51000,
            38300,
            142000,
            27600,
            261237,
            87000,
            28000,
            172047,
            2753,
            7858,
            7000,
            10830389,
            27600,
            170000,
            62741,
            274,
            7081,
            1094000,
            158700,
            13976200,
            8400,
            297534,
            42000,
            18000,
            41000,
            630400,
            3607
           ]
          }
         ],
         "name": "2004"
        },
        {
         "data": [
          {
           "coloraxis": "coloraxis",
           "geo": "geo",
           "hovertemplate": "<b>%{hovertext}</b><br><br>Year=2005<br>Entity=%{location}<br>Production=%{z}<extra></extra>",
           "hovertext": [
            "Congo",
            "Tanzania",
            "Venezuela",
            "Solomon Islands",
            "Gabon",
            "Nigeria",
            "Papua New Guinea",
            "Philippines",
            "Thailand",
            "Cote d'Ivoire",
            "Senegal",
            "Ecuador",
            "Sierra Leone",
            "Cameroon",
            "Malaysia",
            "Honduras",
            "Guatemala",
            "Nicaragua",
            "Benin",
            "Dominican Republic",
            "Indonesia",
            "Paraguay",
            "Colombia",
            "Ghana",
            "Peru",
            "Suriname",
            "Caribbean (FAO)",
            "Guinea",
            "Brazil",
            "Burundi",
            "Togo",
            "Equatorial Guinea",
            "Angola",
            "Guinea-Bissau",
            "Mexico",
            "Madagascar",
            "Gambia",
            "Liberia",
            "Costa Rica",
            "China",
            "Democratic Republic of Congo",
            "Sao Tome and Principe",
            "Panama"
           ],
           "locationmode": "country names",
           "locations": [
            "Congo",
            "Tanzania",
            "Venezuela",
            "Solomon Islands",
            "Gabon",
            "Nigeria",
            "Papua New Guinea",
            "Philippines",
            "Thailand",
            "Cote d'Ivoire",
            "Senegal",
            "Ecuador",
            "Sierra Leone",
            "Cameroon",
            "Malaysia",
            "Honduras",
            "Guatemala",
            "Nicaragua",
            "Benin",
            "Dominican Republic",
            "Indonesia",
            "Paraguay",
            "Colombia",
            "Ghana",
            "Peru",
            "Suriname",
            "Caribbean (FAO)",
            "Guinea",
            "Brazil",
            "Burundi",
            "Togo",
            "Equatorial Guinea",
            "Angola",
            "Guinea-Bissau",
            "Mexico",
            "Madagascar",
            "Gambia",
            "Liberia",
            "Costa Rica",
            "China",
            "Democratic Republic of Congo",
            "Sao Tome and Principe",
            "Panama"
           ],
           "name": "",
           "type": "choropleth",
           "z": [
            19000,
            7829,
            62600,
            35000,
            7308,
            1170000,
            310000,
            61000,
            783953,
            236000,
            6691,
            290568,
            35560,
            198325,
            14961700,
            237500,
            92000,
            8600,
            36000,
            29000,
            11861615,
            2485,
            672576,
            117000,
            29000,
            306,
            29000,
            50000,
            160000,
            4500,
            7000,
            5265,
            53000,
            5453,
            42600,
            3594,
            2787,
            42000,
            179400,
            248020,
            175000,
            2700,
            13500
           ]
          }
         ],
         "name": "2005"
        },
        {
         "data": [
          {
           "coloraxis": "coloraxis",
           "geo": "geo",
           "hovertemplate": "<b>%{hovertext}</b><br><br>Year=2006<br>Entity=%{location}<br>Production=%{z}<extra></extra>",
           "hovertext": [
            "Democratic Republic of Congo",
            "Angola",
            "Paraguay",
            "Venezuela",
            "Suriname",
            "Dominican Republic",
            "Tanzania",
            "Cote d'Ivoire",
            "Caribbean (FAO)",
            "Equatorial Guinea",
            "Ecuador",
            "Ghana",
            "Gambia",
            "Sierra Leone",
            "Sao Tome and Principe",
            "Senegal",
            "Cameroon",
            "Brazil",
            "Togo",
            "Colombia",
            "Indonesia",
            "Panama",
            "Peru",
            "Guinea",
            "Thailand",
            "China",
            "Honduras",
            "Nicaragua",
            "Philippines",
            "Madagascar",
            "Mexico",
            "Congo",
            "Costa Rica",
            "Malaysia",
            "Nigeria",
            "Guinea-Bissau",
            "Gabon",
            "Burundi",
            "Papua New Guinea",
            "Benin",
            "Solomon Islands",
            "Guatemala",
            "Liberia"
           ],
           "locationmode": "country names",
           "locations": [
            "Democratic Republic of Congo",
            "Angola",
            "Paraguay",
            "Venezuela",
            "Suriname",
            "Dominican Republic",
            "Tanzania",
            "Cote d'Ivoire",
            "Caribbean (FAO)",
            "Equatorial Guinea",
            "Ecuador",
            "Ghana",
            "Gambia",
            "Sierra Leone",
            "Sao Tome and Principe",
            "Senegal",
            "Cameroon",
            "Brazil",
            "Togo",
            "Colombia",
            "Indonesia",
            "Panama",
            "Peru",
            "Guinea",
            "Thailand",
            "China",
            "Honduras",
            "Nicaragua",
            "Philippines",
            "Madagascar",
            "Mexico",
            "Congo",
            "Costa Rica",
            "Malaysia",
            "Nigeria",
            "Guinea-Bissau",
            "Gabon",
            "Burundi",
            "Papua New Guinea",
            "Benin",
            "Solomon Islands",
            "Guatemala",
            "Liberia"
           ],
           "name": "",
           "type": "choropleth",
           "z": [
            175000,
            54000,
            2584,
            66500,
            333,
            31000,
            6150,
            281000,
            31000,
            5479,
            291000,
            121000,
            3077,
            45000,
            3000,
            7387,
            205318,
            170000,
            7000,
            711000,
            17350848,
            13800,
            32000,
            50000,
            1167126,
            217000,
            257600,
            8800,
            68000,
            3482,
            50000,
            24500,
            196300,
            15880700,
            1287000,
            6020,
            7605,
            7500,
            365000,
            38000,
            36000,
            125000,
            42000
           ]
          }
         ],
         "name": "2006"
        },
        {
         "data": [
          {
           "coloraxis": "coloraxis",
           "geo": "geo",
           "hovertemplate": "<b>%{hovertext}</b><br><br>Year=2007<br>Entity=%{location}<br>Production=%{z}<extra></extra>",
           "hovertext": [
            "Malaysia",
            "Ghana",
            "Gambia",
            "Solomon Islands",
            "Nicaragua",
            "Honduras",
            "Colombia",
            "Venezuela",
            "Dominican Republic",
            "Guatemala",
            "Panama",
            "Madagascar",
            "Benin",
            "Paraguay",
            "Suriname",
            "Brazil",
            "Costa Rica",
            "Democratic Republic of Congo",
            "Cote d'Ivoire",
            "Burundi",
            "Guinea-Bissau",
            "Guinea",
            "Mexico",
            "Liberia",
            "Thailand",
            "Philippines",
            "China",
            "Congo",
            "Nigeria",
            "Gabon",
            "Papua New Guinea",
            "Peru",
            "Angola",
            "Senegal",
            "Equatorial Guinea",
            "Ecuador",
            "Indonesia",
            "Caribbean (FAO)",
            "Sierra Leone",
            "Sao Tome and Principe",
            "Cameroon",
            "Tanzania",
            "Togo"
           ],
           "locationmode": "country names",
           "locations": [
            "Malaysia",
            "Ghana",
            "Gambia",
            "Solomon Islands",
            "Nicaragua",
            "Honduras",
            "Colombia",
            "Venezuela",
            "Dominican Republic",
            "Guatemala",
            "Panama",
            "Madagascar",
            "Benin",
            "Paraguay",
            "Suriname",
            "Brazil",
            "Costa Rica",
            "Democratic Republic of Congo",
            "Cote d'Ivoire",
            "Burundi",
            "Guinea-Bissau",
            "Guinea",
            "Mexico",
            "Liberia",
            "Thailand",
            "Philippines",
            "China",
            "Congo",
            "Nigeria",
            "Gabon",
            "Papua New Guinea",
            "Peru",
            "Angola",
            "Senegal",
            "Equatorial Guinea",
            "Ecuador",
            "Indonesia",
            "Caribbean (FAO)",
            "Sierra Leone",
            "Sao Tome and Principe",
            "Cameroon",
            "Tanzania",
            "Togo"
           ],
           "name": "",
           "type": "choropleth",
           "z": [
            15823745,
            122000,
            2550,
            37400,
            9000,
            265000,
            780000,
            70400,
            32000,
            130000,
            15306,
            3841,
            40000,
            3135,
            240,
            190000,
            189750,
            182000,
            288819,
            11500,
            6153,
            50000,
            57000,
            42000,
            1051089,
            75000,
            221000,
            25000,
            1309000,
            6700,
            382000,
            34000,
            55000,
            7100,
            5992,
            295000,
            17664724,
            32000,
            46200,
            3281,
            215462,
            6200,
            7000
           ]
          }
         ],
         "name": "2007"
        },
        {
         "data": [
          {
           "coloraxis": "coloraxis",
           "geo": "geo",
           "hovertemplate": "<b>%{hovertext}</b><br><br>Year=2008<br>Entity=%{location}<br>Production=%{z}<extra></extra>",
           "hovertext": [
            "Nigeria",
            "Burundi",
            "Sierra Leone",
            "Honduras",
            "Malaysia",
            "Madagascar",
            "Guinea",
            "Dominican Republic",
            "Cameroon",
            "Brazil",
            "Guatemala",
            "Cote d'Ivoire",
            "Guinea-Bissau",
            "Congo",
            "Ecuador",
            "Nicaragua",
            "Sao Tome and Principe",
            "Senegal",
            "Philippines",
            "Peru",
            "Venezuela",
            "Mexico",
            "China",
            "Democratic Republic of Congo",
            "Suriname",
            "Angola",
            "Equatorial Guinea",
            "Ghana",
            "Colombia",
            "Paraguay",
            "Thailand",
            "Liberia",
            "Benin",
            "Indonesia",
            "Gambia",
            "Caribbean (FAO)",
            "Tanzania",
            "Costa Rica",
            "Panama",
            "Papua New Guinea",
            "Solomon Islands",
            "Gabon",
            "Togo"
           ],
           "locationmode": "country names",
           "locations": [
            "Nigeria",
            "Burundi",
            "Sierra Leone",
            "Honduras",
            "Malaysia",
            "Madagascar",
            "Guinea",
            "Dominican Republic",
            "Cameroon",
            "Brazil",
            "Guatemala",
            "Cote d'Ivoire",
            "Guinea-Bissau",
            "Congo",
            "Ecuador",
            "Nicaragua",
            "Sao Tome and Principe",
            "Senegal",
            "Philippines",
            "Peru",
            "Venezuela",
            "Mexico",
            "China",
            "Democratic Republic of Congo",
            "Suriname",
            "Angola",
            "Equatorial Guinea",
            "Ghana",
            "Colombia",
            "Paraguay",
            "Thailand",
            "Liberia",
            "Benin",
            "Indonesia",
            "Gambia",
            "Caribbean (FAO)",
            "Tanzania",
            "Costa Rica",
            "Panama",
            "Papua New Guinea",
            "Solomon Islands",
            "Gabon",
            "Togo"
           ],
           "name": "",
           "type": "choropleth",
           "z": [
            1330000,
            12977,
            48000,
            278000,
            17734440,
            4131,
            50000,
            35000,
            225606,
            210000,
            185000,
            302033,
            6350,
            25106,
            312000,
            9500,
            3295,
            9189.92,
            82000,
            59000,
            94115,
            62000,
            225000,
            182000,
            220,
            46000,
            6017,
            128000,
            777800,
            3128,
            1543761,
            42000,
            42000,
            17539788,
            2500,
            35000,
            5970,
            198536,
            12818,
            465000,
            39000,
            6728,
            7800
           ]
          }
         ],
         "name": "2008"
        },
        {
         "data": [
          {
           "coloraxis": "coloraxis",
           "geo": "geo",
           "hovertemplate": "<b>%{hovertext}</b><br><br>Year=2009<br>Entity=%{location}<br>Production=%{z}<extra></extra>",
           "hovertext": [
            "Indonesia",
            "Guinea-Bissau",
            "Caribbean (FAO)",
            "Burundi",
            "Dominican Republic",
            "Democratic Republic of Congo",
            "Cameroon",
            "Senegal",
            "Angola",
            "Liberia",
            "Guinea",
            "Guatemala",
            "Gabon",
            "Thailand",
            "Tanzania",
            "Philippines",
            "Mexico",
            "Ecuador",
            "Nigeria",
            "Equatorial Guinea",
            "Sierra Leone",
            "Papua New Guinea",
            "Congo",
            "Benin",
            "Gambia",
            "Madagascar",
            "Panama",
            "Costa Rica",
            "Paraguay",
            "Nicaragua",
            "Venezuela",
            "Togo",
            "Colombia",
            "Solomon Islands",
            "Ghana",
            "Brazil",
            "Sao Tome and Principe",
            "Honduras",
            "Suriname",
            "Peru",
            "China",
            "Cote d'Ivoire",
            "Malaysia"
           ],
           "locationmode": "country names",
           "locations": [
            "Indonesia",
            "Guinea-Bissau",
            "Caribbean (FAO)",
            "Burundi",
            "Dominican Republic",
            "Democratic Republic of Congo",
            "Cameroon",
            "Senegal",
            "Angola",
            "Liberia",
            "Guinea",
            "Guatemala",
            "Gabon",
            "Thailand",
            "Tanzania",
            "Philippines",
            "Mexico",
            "Ecuador",
            "Nigeria",
            "Equatorial Guinea",
            "Sierra Leone",
            "Papua New Guinea",
            "Congo",
            "Benin",
            "Gambia",
            "Madagascar",
            "Panama",
            "Costa Rica",
            "Paraguay",
            "Nicaragua",
            "Venezuela",
            "Togo",
            "Colombia",
            "Solomon Islands",
            "Ghana",
            "Brazil",
            "Sao Tome and Principe",
            "Honduras",
            "Suriname",
            "Peru",
            "China",
            "Cote d'Ivoire",
            "Malaysia"
           ],
           "name": "",
           "type": "choropleth",
           "z": [
            19324292,
            6400,
            38000,
            12217,
            38000,
            185000,
            238000,
            9363.23,
            55000,
            42000,
            50000,
            180000,
            4000,
            1387604,
            6400,
            90000,
            65000,
            328000,
            1233050,
            5250,
            50000,
            478000,
            25200,
            44000,
            2950,
            4021,
            15528,
            206482,
            3344,
            11000,
            74196,
            8200,
            804838,
            25100,
            130000,
            240000,
            3400,
            280000,
            229,
            65000,
            230000,
            345000,
            17564936
           ]
          }
         ],
         "name": "2009"
        },
        {
         "data": [
          {
           "coloraxis": "coloraxis",
           "geo": "geo",
           "hovertemplate": "<b>%{hovertext}</b><br><br>Year=2010<br>Entity=%{location}<br>Production=%{z}<extra></extra>",
           "hovertext": [
            "Liberia",
            "Guinea",
            "East Timor",
            "Guinea-Bissau",
            "Panama",
            "Gabon",
            "Philippines",
            "Cambodia",
            "Burundi",
            "Cote d'Ivoire",
            "Madagascar",
            "Thailand",
            "Gambia",
            "Angola",
            "Costa Rica",
            "Sao Tome and Principe",
            "Democratic Republic of Congo",
            "China",
            "Mexico",
            "Congo",
            "Germany",
            "Austria",
            "Nicaragua",
            "Papua New Guinea",
            "Suriname",
            "Sierra Leone",
            "Brazil",
            "Peru",
            "Norway",
            "Cameroon",
            "Ghana",
            "Paraguay",
            "Albania",
            "Benin",
            "Greece",
            "Togo",
            "Honduras",
            "Malaysia",
            "Colombia",
            "Equatorial Guinea",
            "Caribbean (FAO)",
            "Solomon Islands",
            "Ecuador",
            "Tanzania",
            "Venezuela",
            "Dominican Republic",
            "Nigeria",
            "Senegal",
            "Indonesia",
            "Guatemala"
           ],
           "locationmode": "country names",
           "locations": [
            "Liberia",
            "Guinea",
            "East Timor",
            "Guinea-Bissau",
            "Panama",
            "Gabon",
            "Philippines",
            "Cambodia",
            "Burundi",
            "Cote d'Ivoire",
            "Madagascar",
            "Thailand",
            "Gambia",
            "Angola",
            "Costa Rica",
            "Sao Tome and Principe",
            "Democratic Republic of Congo",
            "China",
            "Mexico",
            "Congo",
            "Germany",
            "Austria",
            "Nicaragua",
            "Papua New Guinea",
            "Suriname",
            "Sierra Leone",
            "Brazil",
            "Peru",
            "Norway",
            "Cameroon",
            "Ghana",
            "Paraguay",
            "Albania",
            "Benin",
            "Greece",
            "Togo",
            "Honduras",
            "Malaysia",
            "Colombia",
            "Equatorial Guinea",
            "Caribbean (FAO)",
            "Solomon Islands",
            "Ecuador",
            "Tanzania",
            "Venezuela",
            "Dominican Republic",
            "Nigeria",
            "Senegal",
            "Indonesia",
            "Guatemala"
           ],
           "name": "",
           "type": "choropleth",
           "z": [
            42000,
            50000,
            0,
            5824.37,
            12218,
            2430.4,
            92000,
            31606.85,
            11418,
            360000,
            3961.76,
            1287509,
            2958.95,
            57000,
            226734,
            3500,
            186000,
            135662.83,
            68000,
            25450,
            0,
            0,
            13000,
            488000,
            230,
            52000,
            250000,
            70000,
            0,
            326940,
            120000,
            3800,
            0,
            46000,
            0,
            72000,
            353000,
            16993716,
            753039,
            5000,
            41000,
            28600,
            380300,
            8350,
            20742,
            41000,
            970820,
            12408.45,
            21958120,
            182000
           ]
          }
         ],
         "name": "2010"
        },
        {
         "data": [
          {
           "coloraxis": "coloraxis",
           "geo": "geo",
           "hovertemplate": "<b>%{hovertext}</b><br><br>Year=2011<br>Entity=%{location}<br>Production=%{z}<extra></extra>",
           "hovertext": [
            "Solomon Islands",
            "Mexico",
            "Senegal",
            "Benin",
            "Tanzania",
            "Austria",
            "Congo",
            "Ghana",
            "Guinea",
            "Gabon",
            "Togo",
            "Greece",
            "Germany",
            "Costa Rica",
            "Angola",
            "Sao Tome and Principe",
            "Burundi",
            "Ecuador",
            "Brazil",
            "Sierra Leone",
            "Venezuela",
            "Suriname",
            "Guatemala",
            "Nicaragua",
            "Madagascar",
            "Thailand",
            "Equatorial Guinea",
            "Gambia",
            "Malaysia",
            "Philippines",
            "Cameroon",
            "Dominican Republic",
            "Cote d'Ivoire",
            "China",
            "Peru",
            "Guinea-Bissau",
            "Democratic Republic of Congo",
            "Liberia",
            "Paraguay",
            "Honduras",
            "Albania",
            "Cambodia",
            "Indonesia",
            "Papua New Guinea",
            "Nigeria",
            "Caribbean (FAO)",
            "Panama",
            "Colombia",
            "East Timor"
           ],
           "locationmode": "country names",
           "locations": [
            "Solomon Islands",
            "Mexico",
            "Senegal",
            "Benin",
            "Tanzania",
            "Austria",
            "Congo",
            "Ghana",
            "Guinea",
            "Gabon",
            "Togo",
            "Greece",
            "Germany",
            "Costa Rica",
            "Angola",
            "Sao Tome and Principe",
            "Burundi",
            "Ecuador",
            "Brazil",
            "Sierra Leone",
            "Venezuela",
            "Suriname",
            "Guatemala",
            "Nicaragua",
            "Madagascar",
            "Thailand",
            "Equatorial Guinea",
            "Gambia",
            "Malaysia",
            "Philippines",
            "Cameroon",
            "Dominican Republic",
            "Cote d'Ivoire",
            "China",
            "Peru",
            "Guinea-Bissau",
            "Democratic Republic of Congo",
            "Liberia",
            "Paraguay",
            "Honduras",
            "Albania",
            "Cambodia",
            "Indonesia",
            "Papua New Guinea",
            "Nigeria",
            "Caribbean (FAO)",
            "Panama",
            "Colombia",
            "East Timor"
           ],
           "name": "",
           "type": "choropleth",
           "z": [
            31600,
            73000,
            14000,
            46000,
            8500,
            0,
            25550,
            122000,
            50000,
            3000,
            64000,
            0,
            0,
            241500,
            50000,
            3500,
            9689,
            495000,
            270000,
            54000,
            14738,
            235,
            248000,
            13000,
            4057.39,
            1650000,
            5000,
            2958.95,
            18911520,
            87000,
            354076,
            44000,
            371000,
            132666.7,
            87000,
            5916.36,
            190000,
            42000,
            4000,
            373000,
            0,
            31594.22,
            23096540,
            580000,
            930000,
            44000,
            10425,
            804838,
            0
           ]
          }
         ],
         "name": "2011"
        },
        {
         "data": [
          {
           "coloraxis": "coloraxis",
           "geo": "geo",
           "hovertemplate": "<b>%{hovertext}</b><br><br>Year=2012<br>Entity=%{location}<br>Production=%{z}<extra></extra>",
           "hovertext": [
            "Mexico",
            "Caribbean (FAO)",
            "Guatemala",
            "Nigeria",
            "Madagascar",
            "Thailand",
            "Gabon",
            "Dominican Republic",
            "Cote d'Ivoire",
            "Equatorial Guinea",
            "Philippines",
            "Honduras",
            "Nicaragua",
            "Guinea-Bissau",
            "Liberia",
            "Germany",
            "Congo",
            "Colombia",
            "Papua New Guinea",
            "Austria",
            "Senegal",
            "Ecuador",
            "Solomon Islands",
            "Indonesia",
            "Tanzania",
            "Benin",
            "Cameroon",
            "Albania",
            "Panama",
            "Guinea",
            "Paraguay",
            "East Timor",
            "Cambodia",
            "Ghana",
            "Malaysia",
            "Gambia",
            "Peru",
            "Greece",
            "Brazil",
            "Togo",
            "Costa Rica",
            "Sao Tome and Principe",
            "China",
            "Democratic Republic of Congo",
            "Venezuela",
            "Burundi",
            "Sierra Leone",
            "Suriname",
            "Angola"
           ],
           "locationmode": "country names",
           "locations": [
            "Mexico",
            "Caribbean (FAO)",
            "Guatemala",
            "Nigeria",
            "Madagascar",
            "Thailand",
            "Gabon",
            "Dominican Republic",
            "Cote d'Ivoire",
            "Equatorial Guinea",
            "Philippines",
            "Honduras",
            "Nicaragua",
            "Guinea-Bissau",
            "Liberia",
            "Germany",
            "Congo",
            "Colombia",
            "Papua New Guinea",
            "Austria",
            "Senegal",
            "Ecuador",
            "Solomon Islands",
            "Indonesia",
            "Tanzania",
            "Benin",
            "Cameroon",
            "Albania",
            "Panama",
            "Guinea",
            "Paraguay",
            "East Timor",
            "Cambodia",
            "Ghana",
            "Malaysia",
            "Gambia",
            "Peru",
            "Greece",
            "Brazil",
            "Togo",
            "Costa Rica",
            "Sao Tome and Principe",
            "China",
            "Democratic Republic of Congo",
            "Venezuela",
            "Burundi",
            "Sierra Leone",
            "Suriname",
            "Angola"
           ],
           "name": "",
           "type": "choropleth",
           "z": [
            75000,
            45000,
            310000,
            940000,
            4155.97,
            1780000,
            3200,
            45000,
            417770,
            5500,
            98000,
            398000,
            13000,
            5916.36,
            42000,
            0,
            25850,
            973039,
            520000,
            0,
            14000,
            543000,
            33000,
            26015520,
            8650,
            53000,
            240000,
            0,
            6603,
            50000,
            4000,
            0,
            31603.64,
            122000,
            18785030,
            2958.95,
            104000,
            0,
            310000,
            75000,
            255588,
            3500,
            135662.83,
            236000,
            14738,
            9923,
            57000,
            240,
            48000
           ]
          }
         ],
         "name": "2012"
        },
        {
         "data": [
          {
           "coloraxis": "coloraxis",
           "geo": "geo",
           "hovertemplate": "<b>%{hovertext}</b><br><br>Year=2013<br>Entity=%{location}<br>Production=%{z}<extra></extra>",
           "hovertext": [
            "Togo",
            "Nicaragua",
            "Mozambique",
            "Paraguay",
            "Ecuador",
            "Venezuela",
            "Congo",
            "Cameroon",
            "Benin",
            "Nigeria",
            "Ghana",
            "Suriname",
            "Germany",
            "Honduras",
            "Peru",
            "Malaysia",
            "Guatemala",
            "Sierra Leone",
            "Caribbean (FAO)",
            "Brazil",
            "Equatorial Guinea",
            "Cote d'Ivoire",
            "Tanzania",
            "Dominican Republic",
            "Austria",
            "Thailand",
            "Costa Rica",
            "Greece",
            "Madagascar",
            "Angola",
            "Democratic Republic of Congo",
            "Colombia",
            "China",
            "Gabon",
            "Indonesia",
            "Philippines",
            "Burundi",
            "Mexico",
            "Gambia",
            "Solomon Islands",
            "Sao Tome and Principe",
            "Guinea-Bissau",
            "Panama",
            "Liberia",
            "Albania",
            "Papua New Guinea",
            "Cambodia",
            "Guinea",
            "East Timor",
            "Senegal"
           ],
           "locationmode": "country names",
           "locations": [
            "Togo",
            "Nicaragua",
            "Mozambique",
            "Paraguay",
            "Ecuador",
            "Venezuela",
            "Congo",
            "Cameroon",
            "Benin",
            "Nigeria",
            "Ghana",
            "Suriname",
            "Germany",
            "Honduras",
            "Peru",
            "Malaysia",
            "Guatemala",
            "Sierra Leone",
            "Caribbean (FAO)",
            "Brazil",
            "Equatorial Guinea",
            "Cote d'Ivoire",
            "Tanzania",
            "Dominican Republic",
            "Austria",
            "Thailand",
            "Costa Rica",
            "Greece",
            "Madagascar",
            "Angola",
            "Democratic Republic of Congo",
            "Colombia",
            "China",
            "Gabon",
            "Indonesia",
            "Philippines",
            "Burundi",
            "Mexico",
            "Gambia",
            "Solomon Islands",
            "Sao Tome and Principe",
            "Guinea-Bissau",
            "Panama",
            "Liberia",
            "Albania",
            "Papua New Guinea",
            "Cambodia",
            "Guinea",
            "East Timor",
            "Senegal"
           ],
           "name": "",
           "type": "choropleth",
           "z": [
            95000,
            30000,
            0,
            4000,
            495000,
            10545,
            25950,
            249000,
            56000,
            880000,
            120000,
            250,
            0,
            425000,
            122000,
            19216460,
            410000,
            60000,
            46000,
            340000,
            5500,
            395800,
            8650,
            46000,
            0,
            1970000,
            299911,
            0,
            4058.61,
            46000,
            282000,
            1040835,
            138687.89,
            3200,
            27782004,
            106000,
            15778,
            77000,
            2958.95,
            37000,
            3500,
            5916.36,
            2835,
            42000,
            0,
            500000,
            31622.7,
            50000,
            0,
            14000
           ]
          }
         ],
         "name": "2013"
        },
        {
         "data": [
          {
           "coloraxis": "coloraxis",
           "geo": "geo",
           "hovertemplate": "<b>%{hovertext}</b><br><br>Year=2014<br>Entity=%{location}<br>Production=%{z}<extra></extra>",
           "hovertext": [
            "Panama",
            "Paraguay",
            "Guinea",
            "East Timor",
            "Angola",
            "Burundi",
            "Peru",
            "Democratic Republic of Congo",
            "Liberia",
            "Sierra Leone",
            "Ghana",
            "Cote d'Ivoire",
            "Malaysia",
            "Albania",
            "Solomon Islands",
            "Sao Tome and Principe",
            "Gambia",
            "Cambodia",
            "Benin",
            "Suriname",
            "Papua New Guinea",
            "Congo",
            "Togo",
            "Mexico",
            "Guinea-Bissau",
            "Mozambique",
            "Costa Rica",
            "Ecuador",
            "Germany",
            "Senegal",
            "Dominican Republic",
            "Austria",
            "Belgium",
            "Venezuela",
            "Tanzania",
            "Honduras",
            "Cameroon",
            "Colombia",
            "China",
            "Brazil",
            "Thailand",
            "Russia",
            "Nigeria",
            "Madagascar",
            "Kazakhstan",
            "Greece",
            "Equatorial Guinea",
            "Guatemala",
            "Caribbean (FAO)",
            "Indonesia",
            "Philippines",
            "Gabon",
            "Nicaragua"
           ],
           "locationmode": "country names",
           "locations": [
            "Panama",
            "Paraguay",
            "Guinea",
            "East Timor",
            "Angola",
            "Burundi",
            "Peru",
            "Democratic Republic of Congo",
            "Liberia",
            "Sierra Leone",
            "Ghana",
            "Cote d'Ivoire",
            "Malaysia",
            "Albania",
            "Solomon Islands",
            "Sao Tome and Principe",
            "Gambia",
            "Cambodia",
            "Benin",
            "Suriname",
            "Papua New Guinea",
            "Congo",
            "Togo",
            "Mexico",
            "Guinea-Bissau",
            "Mozambique",
            "Costa Rica",
            "Ecuador",
            "Germany",
            "Senegal",
            "Dominican Republic",
            "Austria",
            "Belgium",
            "Venezuela",
            "Tanzania",
            "Honduras",
            "Cameroon",
            "Colombia",
            "China",
            "Brazil",
            "Thailand",
            "Russia",
            "Nigeria",
            "Madagascar",
            "Kazakhstan",
            "Greece",
            "Equatorial Guinea",
            "Guatemala",
            "Caribbean (FAO)",
            "Indonesia",
            "Philippines",
            "Gabon",
            "Nicaragua"
           ],
           "name": "",
           "type": "choropleth",
           "z": [
            22599,
            3982.34,
            50000,
            0,
            42000,
            18468,
            128000,
            288000,
            42000,
            61000,
            121000,
            415000,
            19667016,
            0,
            36000,
            3650,
            4200,
            31557.2,
            64000,
            245.41,
            537000,
            26043,
            92000,
            83000,
            6000,
            0,
            203413,
            490000,
            0,
            14000,
            47000,
            0,
            0,
            9697,
            5225.95,
            469413.88,
            253000,
            1109586,
            114109.69,
            365000,
            2000000,
            0,
            1350095,
            4006.67,
            0,
            0,
            5494,
            455000,
            47000,
            29278188,
            105000,
            3644.85,
            42000
           ]
          }
         ],
         "name": "2014"
        },
        {
         "data": [
          {
           "coloraxis": "coloraxis",
           "geo": "geo",
           "hovertemplate": "<b>%{hovertext}</b><br><br>Year=2015<br>Entity=%{location}<br>Production=%{z}<extra></extra>",
           "hovertext": [
            "East Timor",
            "Solomon Islands",
            "Benin",
            "Venezuela",
            "Ghana",
            "Panama",
            "Gambia",
            "Albania",
            "Angola",
            "Democratic Republic of Congo",
            "Thailand",
            "Kazakhstan",
            "Indonesia",
            "Gabon",
            "Mexico",
            "Paraguay",
            "Austria",
            "Tanzania",
            "Papua New Guinea",
            "Mozambique",
            "Germany",
            "Equatorial Guinea",
            "Caribbean (FAO)",
            "Costa Rica",
            "Suriname",
            "Liberia",
            "Malaysia",
            "Belgium",
            "Colombia",
            "China",
            "Guatemala",
            "Cameroon",
            "Russia",
            "Ukraine",
            "Togo",
            "Cote d'Ivoire",
            "Sao Tome and Principe",
            "Cambodia",
            "Guinea",
            "Philippines",
            "Ecuador",
            "Madagascar",
            "Dominican Republic",
            "Brazil",
            "Peru",
            "Congo",
            "Burundi",
            "Nigeria",
            "Nicaragua",
            "Guinea-Bissau",
            "Greece",
            "Sierra Leone",
            "Senegal",
            "Honduras"
           ],
           "locationmode": "country names",
           "locations": [
            "East Timor",
            "Solomon Islands",
            "Benin",
            "Venezuela",
            "Ghana",
            "Panama",
            "Gambia",
            "Albania",
            "Angola",
            "Democratic Republic of Congo",
            "Thailand",
            "Kazakhstan",
            "Indonesia",
            "Gabon",
            "Mexico",
            "Paraguay",
            "Austria",
            "Tanzania",
            "Papua New Guinea",
            "Mozambique",
            "Germany",
            "Equatorial Guinea",
            "Caribbean (FAO)",
            "Costa Rica",
            "Suriname",
            "Liberia",
            "Malaysia",
            "Belgium",
            "Colombia",
            "China",
            "Guatemala",
            "Cameroon",
            "Russia",
            "Ukraine",
            "Togo",
            "Cote d'Ivoire",
            "Sao Tome and Principe",
            "Cambodia",
            "Guinea",
            "Philippines",
            "Ecuador",
            "Madagascar",
            "Dominican Republic",
            "Brazil",
            "Peru",
            "Congo",
            "Burundi",
            "Nigeria",
            "Nicaragua",
            "Guinea-Bissau",
            "Greece",
            "Sierra Leone",
            "Senegal",
            "Honduras"
           ],
           "name": "",
           "type": "choropleth",
           "z": [
            0,
            39000,
            60000,
            43019,
            236697.2,
            18082,
            4200,
            0,
            45000,
            291000,
            2068400,
            0,
            31070016,
            3705,
            87000,
            3948.97,
            0,
            5299.19,
            525000,
            0,
            0,
            5443.55,
            50000,
            187680,
            216,
            42000,
            19961580,
            0,
            1275000,
            112495.94,
            522000,
            260000,
            0,
            0,
            85000,
            415000,
            3838.9,
            38025.53,
            50000,
            115000,
            535000,
            4174,
            50000,
            400000,
            142000,
            27021.15,
            16571,
            1432103,
            59594,
            6000,
            0,
            62000,
            14000,
            489183
           ]
          }
         ],
         "name": "2015"
        },
        {
         "data": [
          {
           "coloraxis": "coloraxis",
           "geo": "geo",
           "hovertemplate": "<b>%{hovertext}</b><br><br>Year=2016<br>Entity=%{location}<br>Production=%{z}<extra></extra>",
           "hovertext": [
            "Kazakhstan",
            "Caribbean (FAO)",
            "Sierra Leone",
            "Suriname",
            "Peru",
            "Burundi",
            "Russia",
            "Thailand",
            "Costa Rica",
            "Guatemala",
            "Germany",
            "Equatorial Guinea",
            "Mexico",
            "Guinea-Bissau",
            "Senegal",
            "Austria",
            "Nicaragua",
            "Angola",
            "Tanzania",
            "Dominican Republic",
            "Brazil",
            "Papua New Guinea",
            "Albania",
            "Mozambique",
            "Philippines",
            "Togo",
            "Venezuela",
            "Gambia",
            "Belgium",
            "Indonesia",
            "Madagascar",
            "Liberia",
            "Ecuador",
            "Malaysia",
            "China",
            "Sao Tome and Principe",
            "Benin",
            "Gabon",
            "Guinea",
            "Cote d'Ivoire",
            "Paraguay",
            "Solomon Islands",
            "Cameroon",
            "Congo",
            "Ukraine",
            "Ghana",
            "Democratic Republic of Congo",
            "Nigeria",
            "Cambodia",
            "Panama",
            "Honduras",
            "Colombia",
            "Greece"
           ],
           "locationmode": "country names",
           "locations": [
            "Kazakhstan",
            "Caribbean (FAO)",
            "Sierra Leone",
            "Suriname",
            "Peru",
            "Burundi",
            "Russia",
            "Thailand",
            "Costa Rica",
            "Guatemala",
            "Germany",
            "Equatorial Guinea",
            "Mexico",
            "Guinea-Bissau",
            "Senegal",
            "Austria",
            "Nicaragua",
            "Angola",
            "Tanzania",
            "Dominican Republic",
            "Brazil",
            "Papua New Guinea",
            "Albania",
            "Mozambique",
            "Philippines",
            "Togo",
            "Venezuela",
            "Gambia",
            "Belgium",
            "Indonesia",
            "Madagascar",
            "Liberia",
            "Ecuador",
            "Malaysia",
            "China",
            "Sao Tome and Principe",
            "Benin",
            "Gabon",
            "Guinea",
            "Cote d'Ivoire",
            "Paraguay",
            "Solomon Islands",
            "Cameroon",
            "Congo",
            "Ukraine",
            "Ghana",
            "Democratic Republic of Congo",
            "Nigeria",
            "Cambodia",
            "Panama",
            "Honduras",
            "Colombia",
            "Greece"
           ],
           "name": "",
           "type": "choropleth",
           "z": [
            0,
            52000,
            65000,
            220,
            160000,
            19216,
            0,
            1804400,
            250573,
            730000,
            0,
            5480,
            90000,
            6000,
            14000,
            0,
            50458,
            48000,
            7000,
            52000,
            415000,
            565000,
            0,
            0,
            98000,
            88000,
            95191.33,
            4200,
            0,
            31730960,
            4185,
            42000,
            587000,
            17319176,
            112290.03,
            3900,
            65000,
            3750,
            50000,
            486000,
            3930,
            34000,
            318773,
            27192.2,
            0,
            236697.2,
            288000,
            960000,
            43670.02,
            17371,
            610149.94,
            1146000,
            0
           ]
          }
         ],
         "name": "2016"
        },
        {
         "data": [
          {
           "coloraxis": "coloraxis",
           "geo": "geo",
           "hovertemplate": "<b>%{hovertext}</b><br><br>Year=2017<br>Entity=%{location}<br>Production=%{z}<extra></extra>",
           "hovertext": [
            "Mozambique",
            "Cambodia",
            "Benin",
            "Philippines",
            "Cameroon",
            "Germany",
            "Gambia",
            "Togo",
            "Ecuador",
            "Malaysia",
            "Guinea",
            "Albania",
            "Madagascar",
            "Papua New Guinea",
            "Greece",
            "Dominican Republic",
            "Tanzania",
            "Angola",
            "Nicaragua",
            "Solomon Islands",
            "Austria",
            "Congo",
            "Senegal",
            "Gabon",
            "Honduras",
            "China",
            "Venezuela",
            "Mexico",
            "Guinea-Bissau",
            "Nigeria",
            "Suriname",
            "Sao Tome and Principe",
            "Russia",
            "Ukraine",
            "Costa Rica",
            "Guatemala",
            "Peru",
            "Democratic Republic of Congo",
            "Kazakhstan",
            "Thailand",
            "Ghana",
            "Liberia",
            "Cote d'Ivoire",
            "Burundi",
            "Sierra Leone",
            "Panama",
            "Brazil",
            "Colombia",
            "Equatorial Guinea",
            "Indonesia",
            "Belgium",
            "Paraguay",
            "Caribbean (FAO)"
           ],
           "locationmode": "country names",
           "locations": [
            "Mozambique",
            "Cambodia",
            "Benin",
            "Philippines",
            "Cameroon",
            "Germany",
            "Gambia",
            "Togo",
            "Ecuador",
            "Malaysia",
            "Guinea",
            "Albania",
            "Madagascar",
            "Papua New Guinea",
            "Greece",
            "Dominican Republic",
            "Tanzania",
            "Angola",
            "Nicaragua",
            "Solomon Islands",
            "Austria",
            "Congo",
            "Senegal",
            "Gabon",
            "Honduras",
            "China",
            "Venezuela",
            "Mexico",
            "Guinea-Bissau",
            "Nigeria",
            "Suriname",
            "Sao Tome and Principe",
            "Russia",
            "Ukraine",
            "Costa Rica",
            "Guatemala",
            "Peru",
            "Democratic Republic of Congo",
            "Kazakhstan",
            "Thailand",
            "Ghana",
            "Liberia",
            "Cote d'Ivoire",
            "Burundi",
            "Sierra Leone",
            "Panama",
            "Brazil",
            "Colombia",
            "Equatorial Guinea",
            "Indonesia",
            "Belgium",
            "Paraguay",
            "Caribbean (FAO)"
           ],
           "name": "",
           "type": "choropleth",
           "z": [
            0,
            48234.1,
            70000,
            118700,
            361995,
            0,
            4200,
            23000,
            570000,
            19919332,
            50000,
            0,
            4182,
            645000,
            0,
            52000,
            5300,
            51000,
            74300,
            38000,
            0,
            27485.87,
            14000,
            3187.5,
            690000,
            112335.93,
            99199.57,
            183400,
            6000,
            1529315,
            220,
            4000,
            0,
            0,
            252034,
            739000,
            178000,
            291000,
            0,
            2602000,
            238865.42,
            42000,
            483000,
            17282.65,
            69000,
            18124,
            313376,
            1627552,
            5500,
            37965224,
            0,
            3940,
            52000
           ]
          }
         ],
         "name": "2017"
        },
        {
         "data": [
          {
           "coloraxis": "coloraxis",
           "geo": "geo",
           "hovertemplate": "<b>%{hovertext}</b><br><br>Year=2018<br>Entity=%{location}<br>Production=%{z}<extra></extra>",
           "hovertext": [
            "Burundi",
            "Sao Tome and Principe",
            "Gabon",
            "Angola",
            "Gambia",
            "Nicaragua",
            "Madagascar",
            "Russia",
            "Philippines",
            "Kazakhstan",
            "China",
            "Guinea",
            "Ukraine",
            "Indonesia",
            "Cambodia",
            "Venezuela",
            "Thailand",
            "Panama",
            "Honduras",
            "Equatorial Guinea",
            "Brazil",
            "Suriname",
            "Germany",
            "Mexico",
            "Benin",
            "Sierra Leone",
            "Cameroon",
            "Belgium",
            "Paraguay",
            "Colombia",
            "Malaysia",
            "Cote d'Ivoire",
            "Costa Rica",
            "Caribbean (FAO)",
            "Nigeria",
            "Guatemala",
            "Albania",
            "Ghana",
            "Togo",
            "Guinea-Bissau",
            "Liberia",
            "Austria",
            "Senegal",
            "Peru",
            "Congo",
            "Solomon Islands",
            "Ecuador",
            "Mozambique",
            "Tanzania",
            "Greece",
            "Dominican Republic",
            "Papua New Guinea",
            "Democratic Republic of Congo"
           ],
           "locationmode": "country names",
           "locations": [
            "Burundi",
            "Sao Tome and Principe",
            "Gabon",
            "Angola",
            "Gambia",
            "Nicaragua",
            "Madagascar",
            "Russia",
            "Philippines",
            "Kazakhstan",
            "China",
            "Guinea",
            "Ukraine",
            "Indonesia",
            "Cambodia",
            "Venezuela",
            "Thailand",
            "Panama",
            "Honduras",
            "Equatorial Guinea",
            "Brazil",
            "Suriname",
            "Germany",
            "Mexico",
            "Benin",
            "Sierra Leone",
            "Cameroon",
            "Belgium",
            "Paraguay",
            "Colombia",
            "Malaysia",
            "Cote d'Ivoire",
            "Costa Rica",
            "Caribbean (FAO)",
            "Nigeria",
            "Guatemala",
            "Albania",
            "Ghana",
            "Togo",
            "Guinea-Bissau",
            "Liberia",
            "Austria",
            "Senegal",
            "Peru",
            "Congo",
            "Solomon Islands",
            "Ecuador",
            "Mozambique",
            "Tanzania",
            "Greece",
            "Dominican Republic",
            "Papua New Guinea",
            "Democratic Republic of Congo"
           ],
           "name": "",
           "type": "choropleth",
           "z": [
            17000,
            3940.7,
            3150,
            53000,
            4200,
            80000,
            4178,
            0,
            125100,
            0,
            112381.82,
            50000,
            0,
            40567230,
            53035.97,
            85907.74,
            2774800,
            48725,
            653000,
            5510,
            362732,
            200,
            0,
            206600,
            75000,
            71000,
            352195,
            0,
            3997.6,
            1631506.4,
            19516140,
            472450,
            250194,
            53000,
            1564599,
            862800,
            0,
            312530,
            23000,
            6000,
            42000,
            0,
            14000,
            203000,
            27779.53,
            38000,
            560000,
            0,
            5400,
            0,
            53000,
            648000,
            293000
           ]
          }
         ],
         "name": "2018"
        },
        {
         "data": [
          {
           "coloraxis": "coloraxis",
           "geo": "geo",
           "hovertemplate": "<b>%{hovertext}</b><br><br>Year=2019<br>Entity=%{location}<br>Production=%{z}<extra></extra>",
           "hovertext": [
            "Democratic Republic of Congo",
            "Sao Tome and Principe",
            "Panama",
            "Cote d'Ivoire",
            "Liberia",
            "Mexico",
            "Congo",
            "Cambodia",
            "Colombia",
            "Benin",
            "Paraguay",
            "Iceland",
            "Ghana",
            "China",
            "Cameroon",
            "Solomon Islands",
            "Honduras",
            "Gabon",
            "Nigeria",
            "Sierra Leone",
            "Suriname",
            "Burundi",
            "Guinea-Bissau",
            "Senegal",
            "Togo",
            "Angola",
            "Tanzania",
            "Dominican Republic",
            "Nicaragua",
            "Madagascar",
            "Papua New Guinea",
            "Brazil",
            "Venezuela",
            "Gambia",
            "Germany",
            "Equatorial Guinea",
            "Philippines",
            "Belgium",
            "Ecuador",
            "Indonesia",
            "Japan",
            "Caribbean (FAO)",
            "Guatemala",
            "Costa Rica",
            "Malaysia",
            "Thailand",
            "Kazakhstan",
            "Russia",
            "Ukraine",
            "Peru",
            "Guinea"
           ],
           "locationmode": "country names",
           "locations": [
            "Democratic Republic of Congo",
            "Sao Tome and Principe",
            "Panama",
            "Cote d'Ivoire",
            "Liberia",
            "Mexico",
            "Congo",
            "Cambodia",
            "Colombia",
            "Benin",
            "Paraguay",
            "Iceland",
            "Ghana",
            "China",
            "Cameroon",
            "Solomon Islands",
            "Honduras",
            "Gabon",
            "Nigeria",
            "Sierra Leone",
            "Suriname",
            "Burundi",
            "Guinea-Bissau",
            "Senegal",
            "Togo",
            "Angola",
            "Tanzania",
            "Dominican Republic",
            "Nicaragua",
            "Madagascar",
            "Papua New Guinea",
            "Brazil",
            "Venezuela",
            "Gambia",
            "Germany",
            "Equatorial Guinea",
            "Philippines",
            "Belgium",
            "Ecuador",
            "Indonesia",
            "Japan",
            "Caribbean (FAO)",
            "Guatemala",
            "Costa Rica",
            "Malaysia",
            "Thailand",
            "Kazakhstan",
            "Russia",
            "Ukraine",
            "Peru",
            "Guinea"
           ],
           "name": "",
           "type": "choropleth",
           "z": [
            294000,
            3585.6,
            55468,
            535365,
            42000,
            271300,
            27003.75,
            84000,
            1527548.9,
            78000,
            3954.74,
            0,
            257762.05,
            112965.41,
            336466,
            23000,
            707000,
            2520,
            1220000,
            88579.44,
            131.64,
            16771.63,
            5925.22,
            14000,
            24000,
            55000,
            5600,
            55000,
            128000,
            4025.76,
            625000,
            400559.9,
            96647,
            4150.2,
            0,
            5500,
            124800,
            0,
            509000,
            47120250,
            0,
            55000,
            863300,
            247800,
            19858368,
            3040000,
            0,
            0,
            0,
            220000,
            50000
           ]
          }
         ],
         "name": "2019"
        },
        {
         "data": [
          {
           "coloraxis": "coloraxis",
           "geo": "geo",
           "hovertemplate": "<b>%{hovertext}</b><br><br>Year=2020<br>Entity=%{location}<br>Production=%{z}<extra></extra>",
           "hovertext": [
            "Ukraine",
            "Togo",
            "Gabon",
            "Thailand",
            "Paraguay",
            "Caribbean (FAO)",
            "Papua New Guinea",
            "Panama",
            "China",
            "Nigeria",
            "Nicaragua",
            "Congo",
            "Mexico",
            "Malaysia",
            "Costa Rica",
            "Madagascar",
            "Cameroon",
            "Cote d'Ivoire",
            "Indonesia",
            "Democratic Republic of Congo",
            "Honduras",
            "Dominican Republic",
            "Guinea-Bissau",
            "Venezuela",
            "Guinea",
            "Guatemala",
            "Ecuador",
            "Ghana",
            "Equatorial Guinea",
            "Gambia",
            "Liberia",
            "Peru",
            "Colombia",
            "Philippines",
            "Angola",
            "Tanzania",
            "Suriname",
            "Benin",
            "Solomon Islands",
            "Sierra Leone",
            "Brazil",
            "Senegal",
            "Burundi",
            "Brunei",
            "Sao Tome and Principe",
            "Cambodia"
           ],
           "locationmode": "country names",
           "locations": [
            "Ukraine",
            "Togo",
            "Gabon",
            "Thailand",
            "Paraguay",
            "Caribbean (FAO)",
            "Papua New Guinea",
            "Panama",
            "China",
            "Nigeria",
            "Nicaragua",
            "Congo",
            "Mexico",
            "Malaysia",
            "Costa Rica",
            "Madagascar",
            "Cameroon",
            "Cote d'Ivoire",
            "Indonesia",
            "Democratic Republic of Congo",
            "Honduras",
            "Dominican Republic",
            "Guinea-Bissau",
            "Venezuela",
            "Guinea",
            "Guatemala",
            "Ecuador",
            "Ghana",
            "Equatorial Guinea",
            "Gambia",
            "Liberia",
            "Peru",
            "Colombia",
            "Philippines",
            "Angola",
            "Tanzania",
            "Suriname",
            "Benin",
            "Solomon Islands",
            "Sierra Leone",
            "Brazil",
            "Senegal",
            "Burundi",
            "Brunei",
            "Sao Tome and Principe",
            "Cambodia"
           ],
           "name": "",
           "type": "choropleth",
           "z": [
            0,
            22000,
            2632.5,
            2690000,
            3919.35,
            51000,
            680000,
            62037,
            112389.98,
            1280000,
            133950,
            27574.59,
            299200,
            19140612,
            260100,
            4147.42,
            373463,
            514491,
            44759148,
            300000,
            700000,
            51000,
            5943.03,
            114000,
            50000,
            850000,
            475100,
            264494.25,
            5400,
            4150.78,
            45000,
            230000,
            1557994.9,
            123300,
            57000,
            5400,
            125.78,
            80000,
            30000,
            75000,
            576763,
            14000,
            17744.64,
            0,
            3638.56,
            85000
           ]
          }
         ],
         "name": "2020"
        },
        {
         "data": [
          {
           "coloraxis": "coloraxis",
           "geo": "geo",
           "hovertemplate": "<b>%{hovertext}</b><br><br>Year=2021<br>Entity=%{location}<br>Production=%{z}<extra></extra>",
           "hovertext": [
            "Democratic Republic of Congo",
            "Honduras",
            "Cambodia",
            "Solomon Islands",
            "Dominican Republic",
            "Guinea-Bissau",
            "Benin",
            "Philippines",
            "Guinea",
            "Sao Tome and Principe",
            "Guatemala",
            "Suriname",
            "Cameroon",
            "Ecuador",
            "Ghana",
            "Tanzania",
            "Angola",
            "Equatorial Guinea",
            "Gambia",
            "Ukraine",
            "Sierra Leone",
            "Paraguay",
            "Indonesia",
            "Papua New Guinea",
            "China",
            "Gabon",
            "Thailand",
            "Colombia",
            "Nigeria",
            "Burundi",
            "Nicaragua",
            "Togo",
            "Panama",
            "Caribbean (FAO)",
            "Congo",
            "Malaysia",
            "Senegal",
            "Brunei",
            "Costa Rica",
            "Madagascar",
            "Peru",
            "Brazil",
            "Cote d'Ivoire",
            "Liberia",
            "Mexico",
            "Venezuela"
           ],
           "locationmode": "country names",
           "locations": [
            "Democratic Republic of Congo",
            "Honduras",
            "Cambodia",
            "Solomon Islands",
            "Dominican Republic",
            "Guinea-Bissau",
            "Benin",
            "Philippines",
            "Guinea",
            "Sao Tome and Principe",
            "Guatemala",
            "Suriname",
            "Cameroon",
            "Ecuador",
            "Ghana",
            "Tanzania",
            "Angola",
            "Equatorial Guinea",
            "Gambia",
            "Ukraine",
            "Sierra Leone",
            "Paraguay",
            "Indonesia",
            "Papua New Guinea",
            "China",
            "Gabon",
            "Thailand",
            "Colombia",
            "Nigeria",
            "Burundi",
            "Nicaragua",
            "Togo",
            "Panama",
            "Caribbean (FAO)",
            "Congo",
            "Malaysia",
            "Senegal",
            "Brunei",
            "Costa Rica",
            "Madagascar",
            "Peru",
            "Brazil",
            "Cote d'Ivoire",
            "Liberia",
            "Mexico",
            "Venezuela"
           ],
           "name": "",
           "type": "choropleth",
           "z": [
            300000,
            650000,
            95000,
            37000,
            40000,
            5935.06,
            92000,
            130700,
            50000,
            3947.49,
            800000,
            125.18,
            320000,
            419000,
            272306.34,
            5551.04,
            59000,
            5400,
            4150.91,
            0,
            77600,
            3933.84,
            49710344,
            765000,
            112418.2,
            3000,
            2940000,
            1747773,
            1350000,
            17791.55,
            140647.5,
            22000,
            59048,
            40000,
            27734.64,
            18116354,
            14000,
            0,
            265903,
            4016.68,
            270000,
            579158.6,
            601290,
            45000,
            305000,
            115900
           ]
          }
         ],
         "name": "2021"
        }
       ],
       "layout": {
        "coloraxis": {
         "cmax": 50000000,
         "cmin": 0,
         "colorbar": {
          "title": {
           "text": "Production"
          }
         },
         "colorscale": [
          [
           0,
           "rgb(255,182,193)"
          ],
          [
           0.2,
           "rgb(255,105,180)"
          ],
          [
           0.4,
           "rgb(255,0,0)"
          ],
          [
           0.6,
           "rgb(139,0,0)"
          ],
          [
           0.8,
           "rgb(105,0,0)"
          ],
          [
           1,
           "rgb(50,0,0)"
          ]
         ]
        },
        "geo": {
         "center": {
          "lat": 2.5,
          "lon": 115
         },
         "domain": {
          "x": [
           0,
           1
          ],
          "y": [
           0,
           1
          ]
         },
         "projection": {
          "scale": 4
         },
         "visible": false
        },
        "legend": {
         "tracegroupgap": 0
        },
        "sliders": [
         {
          "active": 0,
          "currentvalue": {
           "prefix": "Year="
          },
          "len": 0.9,
          "pad": {
           "b": 10,
           "t": 60
          },
          "steps": [
           {
            "args": [
             [
              "1961"
             ],
             {
              "frame": {
               "duration": 0,
               "redraw": true
              },
              "fromcurrent": true,
              "mode": "immediate",
              "transition": {
               "duration": 0,
               "easing": "linear"
              }
             }
            ],
            "label": "1961",
            "method": "animate"
           },
           {
            "args": [
             [
              "1962"
             ],
             {
              "frame": {
               "duration": 0,
               "redraw": true
              },
              "fromcurrent": true,
              "mode": "immediate",
              "transition": {
               "duration": 0,
               "easing": "linear"
              }
             }
            ],
            "label": "1962",
            "method": "animate"
           },
           {
            "args": [
             [
              "1963"
             ],
             {
              "frame": {
               "duration": 0,
               "redraw": true
              },
              "fromcurrent": true,
              "mode": "immediate",
              "transition": {
               "duration": 0,
               "easing": "linear"
              }
             }
            ],
            "label": "1963",
            "method": "animate"
           },
           {
            "args": [
             [
              "1964"
             ],
             {
              "frame": {
               "duration": 0,
               "redraw": true
              },
              "fromcurrent": true,
              "mode": "immediate",
              "transition": {
               "duration": 0,
               "easing": "linear"
              }
             }
            ],
            "label": "1964",
            "method": "animate"
           },
           {
            "args": [
             [
              "1965"
             ],
             {
              "frame": {
               "duration": 0,
               "redraw": true
              },
              "fromcurrent": true,
              "mode": "immediate",
              "transition": {
               "duration": 0,
               "easing": "linear"
              }
             }
            ],
            "label": "1965",
            "method": "animate"
           },
           {
            "args": [
             [
              "1966"
             ],
             {
              "frame": {
               "duration": 0,
               "redraw": true
              },
              "fromcurrent": true,
              "mode": "immediate",
              "transition": {
               "duration": 0,
               "easing": "linear"
              }
             }
            ],
            "label": "1966",
            "method": "animate"
           },
           {
            "args": [
             [
              "1967"
             ],
             {
              "frame": {
               "duration": 0,
               "redraw": true
              },
              "fromcurrent": true,
              "mode": "immediate",
              "transition": {
               "duration": 0,
               "easing": "linear"
              }
             }
            ],
            "label": "1967",
            "method": "animate"
           },
           {
            "args": [
             [
              "1968"
             ],
             {
              "frame": {
               "duration": 0,
               "redraw": true
              },
              "fromcurrent": true,
              "mode": "immediate",
              "transition": {
               "duration": 0,
               "easing": "linear"
              }
             }
            ],
            "label": "1968",
            "method": "animate"
           },
           {
            "args": [
             [
              "1969"
             ],
             {
              "frame": {
               "duration": 0,
               "redraw": true
              },
              "fromcurrent": true,
              "mode": "immediate",
              "transition": {
               "duration": 0,
               "easing": "linear"
              }
             }
            ],
            "label": "1969",
            "method": "animate"
           },
           {
            "args": [
             [
              "1970"
             ],
             {
              "frame": {
               "duration": 0,
               "redraw": true
              },
              "fromcurrent": true,
              "mode": "immediate",
              "transition": {
               "duration": 0,
               "easing": "linear"
              }
             }
            ],
            "label": "1970",
            "method": "animate"
           },
           {
            "args": [
             [
              "1971"
             ],
             {
              "frame": {
               "duration": 0,
               "redraw": true
              },
              "fromcurrent": true,
              "mode": "immediate",
              "transition": {
               "duration": 0,
               "easing": "linear"
              }
             }
            ],
            "label": "1971",
            "method": "animate"
           },
           {
            "args": [
             [
              "1972"
             ],
             {
              "frame": {
               "duration": 0,
               "redraw": true
              },
              "fromcurrent": true,
              "mode": "immediate",
              "transition": {
               "duration": 0,
               "easing": "linear"
              }
             }
            ],
            "label": "1972",
            "method": "animate"
           },
           {
            "args": [
             [
              "1973"
             ],
             {
              "frame": {
               "duration": 0,
               "redraw": true
              },
              "fromcurrent": true,
              "mode": "immediate",
              "transition": {
               "duration": 0,
               "easing": "linear"
              }
             }
            ],
            "label": "1973",
            "method": "animate"
           },
           {
            "args": [
             [
              "1974"
             ],
             {
              "frame": {
               "duration": 0,
               "redraw": true
              },
              "fromcurrent": true,
              "mode": "immediate",
              "transition": {
               "duration": 0,
               "easing": "linear"
              }
             }
            ],
            "label": "1974",
            "method": "animate"
           },
           {
            "args": [
             [
              "1975"
             ],
             {
              "frame": {
               "duration": 0,
               "redraw": true
              },
              "fromcurrent": true,
              "mode": "immediate",
              "transition": {
               "duration": 0,
               "easing": "linear"
              }
             }
            ],
            "label": "1975",
            "method": "animate"
           },
           {
            "args": [
             [
              "1976"
             ],
             {
              "frame": {
               "duration": 0,
               "redraw": true
              },
              "fromcurrent": true,
              "mode": "immediate",
              "transition": {
               "duration": 0,
               "easing": "linear"
              }
             }
            ],
            "label": "1976",
            "method": "animate"
           },
           {
            "args": [
             [
              "1977"
             ],
             {
              "frame": {
               "duration": 0,
               "redraw": true
              },
              "fromcurrent": true,
              "mode": "immediate",
              "transition": {
               "duration": 0,
               "easing": "linear"
              }
             }
            ],
            "label": "1977",
            "method": "animate"
           },
           {
            "args": [
             [
              "1978"
             ],
             {
              "frame": {
               "duration": 0,
               "redraw": true
              },
              "fromcurrent": true,
              "mode": "immediate",
              "transition": {
               "duration": 0,
               "easing": "linear"
              }
             }
            ],
            "label": "1978",
            "method": "animate"
           },
           {
            "args": [
             [
              "1979"
             ],
             {
              "frame": {
               "duration": 0,
               "redraw": true
              },
              "fromcurrent": true,
              "mode": "immediate",
              "transition": {
               "duration": 0,
               "easing": "linear"
              }
             }
            ],
            "label": "1979",
            "method": "animate"
           },
           {
            "args": [
             [
              "1980"
             ],
             {
              "frame": {
               "duration": 0,
               "redraw": true
              },
              "fromcurrent": true,
              "mode": "immediate",
              "transition": {
               "duration": 0,
               "easing": "linear"
              }
             }
            ],
            "label": "1980",
            "method": "animate"
           },
           {
            "args": [
             [
              "1981"
             ],
             {
              "frame": {
               "duration": 0,
               "redraw": true
              },
              "fromcurrent": true,
              "mode": "immediate",
              "transition": {
               "duration": 0,
               "easing": "linear"
              }
             }
            ],
            "label": "1981",
            "method": "animate"
           },
           {
            "args": [
             [
              "1982"
             ],
             {
              "frame": {
               "duration": 0,
               "redraw": true
              },
              "fromcurrent": true,
              "mode": "immediate",
              "transition": {
               "duration": 0,
               "easing": "linear"
              }
             }
            ],
            "label": "1982",
            "method": "animate"
           },
           {
            "args": [
             [
              "1983"
             ],
             {
              "frame": {
               "duration": 0,
               "redraw": true
              },
              "fromcurrent": true,
              "mode": "immediate",
              "transition": {
               "duration": 0,
               "easing": "linear"
              }
             }
            ],
            "label": "1983",
            "method": "animate"
           },
           {
            "args": [
             [
              "1984"
             ],
             {
              "frame": {
               "duration": 0,
               "redraw": true
              },
              "fromcurrent": true,
              "mode": "immediate",
              "transition": {
               "duration": 0,
               "easing": "linear"
              }
             }
            ],
            "label": "1984",
            "method": "animate"
           },
           {
            "args": [
             [
              "1985"
             ],
             {
              "frame": {
               "duration": 0,
               "redraw": true
              },
              "fromcurrent": true,
              "mode": "immediate",
              "transition": {
               "duration": 0,
               "easing": "linear"
              }
             }
            ],
            "label": "1985",
            "method": "animate"
           },
           {
            "args": [
             [
              "1986"
             ],
             {
              "frame": {
               "duration": 0,
               "redraw": true
              },
              "fromcurrent": true,
              "mode": "immediate",
              "transition": {
               "duration": 0,
               "easing": "linear"
              }
             }
            ],
            "label": "1986",
            "method": "animate"
           },
           {
            "args": [
             [
              "1987"
             ],
             {
              "frame": {
               "duration": 0,
               "redraw": true
              },
              "fromcurrent": true,
              "mode": "immediate",
              "transition": {
               "duration": 0,
               "easing": "linear"
              }
             }
            ],
            "label": "1987",
            "method": "animate"
           },
           {
            "args": [
             [
              "1988"
             ],
             {
              "frame": {
               "duration": 0,
               "redraw": true
              },
              "fromcurrent": true,
              "mode": "immediate",
              "transition": {
               "duration": 0,
               "easing": "linear"
              }
             }
            ],
            "label": "1988",
            "method": "animate"
           },
           {
            "args": [
             [
              "1989"
             ],
             {
              "frame": {
               "duration": 0,
               "redraw": true
              },
              "fromcurrent": true,
              "mode": "immediate",
              "transition": {
               "duration": 0,
               "easing": "linear"
              }
             }
            ],
            "label": "1989",
            "method": "animate"
           },
           {
            "args": [
             [
              "1990"
             ],
             {
              "frame": {
               "duration": 0,
               "redraw": true
              },
              "fromcurrent": true,
              "mode": "immediate",
              "transition": {
               "duration": 0,
               "easing": "linear"
              }
             }
            ],
            "label": "1990",
            "method": "animate"
           },
           {
            "args": [
             [
              "1991"
             ],
             {
              "frame": {
               "duration": 0,
               "redraw": true
              },
              "fromcurrent": true,
              "mode": "immediate",
              "transition": {
               "duration": 0,
               "easing": "linear"
              }
             }
            ],
            "label": "1991",
            "method": "animate"
           },
           {
            "args": [
             [
              "1992"
             ],
             {
              "frame": {
               "duration": 0,
               "redraw": true
              },
              "fromcurrent": true,
              "mode": "immediate",
              "transition": {
               "duration": 0,
               "easing": "linear"
              }
             }
            ],
            "label": "1992",
            "method": "animate"
           },
           {
            "args": [
             [
              "1993"
             ],
             {
              "frame": {
               "duration": 0,
               "redraw": true
              },
              "fromcurrent": true,
              "mode": "immediate",
              "transition": {
               "duration": 0,
               "easing": "linear"
              }
             }
            ],
            "label": "1993",
            "method": "animate"
           },
           {
            "args": [
             [
              "1994"
             ],
             {
              "frame": {
               "duration": 0,
               "redraw": true
              },
              "fromcurrent": true,
              "mode": "immediate",
              "transition": {
               "duration": 0,
               "easing": "linear"
              }
             }
            ],
            "label": "1994",
            "method": "animate"
           },
           {
            "args": [
             [
              "1995"
             ],
             {
              "frame": {
               "duration": 0,
               "redraw": true
              },
              "fromcurrent": true,
              "mode": "immediate",
              "transition": {
               "duration": 0,
               "easing": "linear"
              }
             }
            ],
            "label": "1995",
            "method": "animate"
           },
           {
            "args": [
             [
              "1996"
             ],
             {
              "frame": {
               "duration": 0,
               "redraw": true
              },
              "fromcurrent": true,
              "mode": "immediate",
              "transition": {
               "duration": 0,
               "easing": "linear"
              }
             }
            ],
            "label": "1996",
            "method": "animate"
           },
           {
            "args": [
             [
              "1997"
             ],
             {
              "frame": {
               "duration": 0,
               "redraw": true
              },
              "fromcurrent": true,
              "mode": "immediate",
              "transition": {
               "duration": 0,
               "easing": "linear"
              }
             }
            ],
            "label": "1997",
            "method": "animate"
           },
           {
            "args": [
             [
              "1998"
             ],
             {
              "frame": {
               "duration": 0,
               "redraw": true
              },
              "fromcurrent": true,
              "mode": "immediate",
              "transition": {
               "duration": 0,
               "easing": "linear"
              }
             }
            ],
            "label": "1998",
            "method": "animate"
           },
           {
            "args": [
             [
              "1999"
             ],
             {
              "frame": {
               "duration": 0,
               "redraw": true
              },
              "fromcurrent": true,
              "mode": "immediate",
              "transition": {
               "duration": 0,
               "easing": "linear"
              }
             }
            ],
            "label": "1999",
            "method": "animate"
           },
           {
            "args": [
             [
              "2000"
             ],
             {
              "frame": {
               "duration": 0,
               "redraw": true
              },
              "fromcurrent": true,
              "mode": "immediate",
              "transition": {
               "duration": 0,
               "easing": "linear"
              }
             }
            ],
            "label": "2000",
            "method": "animate"
           },
           {
            "args": [
             [
              "2001"
             ],
             {
              "frame": {
               "duration": 0,
               "redraw": true
              },
              "fromcurrent": true,
              "mode": "immediate",
              "transition": {
               "duration": 0,
               "easing": "linear"
              }
             }
            ],
            "label": "2001",
            "method": "animate"
           },
           {
            "args": [
             [
              "2002"
             ],
             {
              "frame": {
               "duration": 0,
               "redraw": true
              },
              "fromcurrent": true,
              "mode": "immediate",
              "transition": {
               "duration": 0,
               "easing": "linear"
              }
             }
            ],
            "label": "2002",
            "method": "animate"
           },
           {
            "args": [
             [
              "2003"
             ],
             {
              "frame": {
               "duration": 0,
               "redraw": true
              },
              "fromcurrent": true,
              "mode": "immediate",
              "transition": {
               "duration": 0,
               "easing": "linear"
              }
             }
            ],
            "label": "2003",
            "method": "animate"
           },
           {
            "args": [
             [
              "2004"
             ],
             {
              "frame": {
               "duration": 0,
               "redraw": true
              },
              "fromcurrent": true,
              "mode": "immediate",
              "transition": {
               "duration": 0,
               "easing": "linear"
              }
             }
            ],
            "label": "2004",
            "method": "animate"
           },
           {
            "args": [
             [
              "2005"
             ],
             {
              "frame": {
               "duration": 0,
               "redraw": true
              },
              "fromcurrent": true,
              "mode": "immediate",
              "transition": {
               "duration": 0,
               "easing": "linear"
              }
             }
            ],
            "label": "2005",
            "method": "animate"
           },
           {
            "args": [
             [
              "2006"
             ],
             {
              "frame": {
               "duration": 0,
               "redraw": true
              },
              "fromcurrent": true,
              "mode": "immediate",
              "transition": {
               "duration": 0,
               "easing": "linear"
              }
             }
            ],
            "label": "2006",
            "method": "animate"
           },
           {
            "args": [
             [
              "2007"
             ],
             {
              "frame": {
               "duration": 0,
               "redraw": true
              },
              "fromcurrent": true,
              "mode": "immediate",
              "transition": {
               "duration": 0,
               "easing": "linear"
              }
             }
            ],
            "label": "2007",
            "method": "animate"
           },
           {
            "args": [
             [
              "2008"
             ],
             {
              "frame": {
               "duration": 0,
               "redraw": true
              },
              "fromcurrent": true,
              "mode": "immediate",
              "transition": {
               "duration": 0,
               "easing": "linear"
              }
             }
            ],
            "label": "2008",
            "method": "animate"
           },
           {
            "args": [
             [
              "2009"
             ],
             {
              "frame": {
               "duration": 0,
               "redraw": true
              },
              "fromcurrent": true,
              "mode": "immediate",
              "transition": {
               "duration": 0,
               "easing": "linear"
              }
             }
            ],
            "label": "2009",
            "method": "animate"
           },
           {
            "args": [
             [
              "2010"
             ],
             {
              "frame": {
               "duration": 0,
               "redraw": true
              },
              "fromcurrent": true,
              "mode": "immediate",
              "transition": {
               "duration": 0,
               "easing": "linear"
              }
             }
            ],
            "label": "2010",
            "method": "animate"
           },
           {
            "args": [
             [
              "2011"
             ],
             {
              "frame": {
               "duration": 0,
               "redraw": true
              },
              "fromcurrent": true,
              "mode": "immediate",
              "transition": {
               "duration": 0,
               "easing": "linear"
              }
             }
            ],
            "label": "2011",
            "method": "animate"
           },
           {
            "args": [
             [
              "2012"
             ],
             {
              "frame": {
               "duration": 0,
               "redraw": true
              },
              "fromcurrent": true,
              "mode": "immediate",
              "transition": {
               "duration": 0,
               "easing": "linear"
              }
             }
            ],
            "label": "2012",
            "method": "animate"
           },
           {
            "args": [
             [
              "2013"
             ],
             {
              "frame": {
               "duration": 0,
               "redraw": true
              },
              "fromcurrent": true,
              "mode": "immediate",
              "transition": {
               "duration": 0,
               "easing": "linear"
              }
             }
            ],
            "label": "2013",
            "method": "animate"
           },
           {
            "args": [
             [
              "2014"
             ],
             {
              "frame": {
               "duration": 0,
               "redraw": true
              },
              "fromcurrent": true,
              "mode": "immediate",
              "transition": {
               "duration": 0,
               "easing": "linear"
              }
             }
            ],
            "label": "2014",
            "method": "animate"
           },
           {
            "args": [
             [
              "2015"
             ],
             {
              "frame": {
               "duration": 0,
               "redraw": true
              },
              "fromcurrent": true,
              "mode": "immediate",
              "transition": {
               "duration": 0,
               "easing": "linear"
              }
             }
            ],
            "label": "2015",
            "method": "animate"
           },
           {
            "args": [
             [
              "2016"
             ],
             {
              "frame": {
               "duration": 0,
               "redraw": true
              },
              "fromcurrent": true,
              "mode": "immediate",
              "transition": {
               "duration": 0,
               "easing": "linear"
              }
             }
            ],
            "label": "2016",
            "method": "animate"
           },
           {
            "args": [
             [
              "2017"
             ],
             {
              "frame": {
               "duration": 0,
               "redraw": true
              },
              "fromcurrent": true,
              "mode": "immediate",
              "transition": {
               "duration": 0,
               "easing": "linear"
              }
             }
            ],
            "label": "2017",
            "method": "animate"
           },
           {
            "args": [
             [
              "2018"
             ],
             {
              "frame": {
               "duration": 0,
               "redraw": true
              },
              "fromcurrent": true,
              "mode": "immediate",
              "transition": {
               "duration": 0,
               "easing": "linear"
              }
             }
            ],
            "label": "2018",
            "method": "animate"
           },
           {
            "args": [
             [
              "2019"
             ],
             {
              "frame": {
               "duration": 0,
               "redraw": true
              },
              "fromcurrent": true,
              "mode": "immediate",
              "transition": {
               "duration": 0,
               "easing": "linear"
              }
             }
            ],
            "label": "2019",
            "method": "animate"
           },
           {
            "args": [
             [
              "2020"
             ],
             {
              "frame": {
               "duration": 0,
               "redraw": true
              },
              "fromcurrent": true,
              "mode": "immediate",
              "transition": {
               "duration": 0,
               "easing": "linear"
              }
             }
            ],
            "label": "2020",
            "method": "animate"
           },
           {
            "args": [
             [
              "2021"
             ],
             {
              "frame": {
               "duration": 0,
               "redraw": true
              },
              "fromcurrent": true,
              "mode": "immediate",
              "transition": {
               "duration": 0,
               "easing": "linear"
              }
             }
            ],
            "label": "2021",
            "method": "animate"
           }
          ],
          "x": 0.1,
          "xanchor": "left",
          "y": 0,
          "yanchor": "top"
         }
        ],
        "template": {
         "data": {
          "bar": [
           {
            "error_x": {
             "color": "#2a3f5f"
            },
            "error_y": {
             "color": "#2a3f5f"
            },
            "marker": {
             "line": {
              "color": "#E5ECF6",
              "width": 0.5
             },
             "pattern": {
              "fillmode": "overlay",
              "size": 10,
              "solidity": 0.2
             }
            },
            "type": "bar"
           }
          ],
          "barpolar": [
           {
            "marker": {
             "line": {
              "color": "#E5ECF6",
              "width": 0.5
             },
             "pattern": {
              "fillmode": "overlay",
              "size": 10,
              "solidity": 0.2
             }
            },
            "type": "barpolar"
           }
          ],
          "carpet": [
           {
            "aaxis": {
             "endlinecolor": "#2a3f5f",
             "gridcolor": "white",
             "linecolor": "white",
             "minorgridcolor": "white",
             "startlinecolor": "#2a3f5f"
            },
            "baxis": {
             "endlinecolor": "#2a3f5f",
             "gridcolor": "white",
             "linecolor": "white",
             "minorgridcolor": "white",
             "startlinecolor": "#2a3f5f"
            },
            "type": "carpet"
           }
          ],
          "choropleth": [
           {
            "colorbar": {
             "outlinewidth": 0,
             "ticks": ""
            },
            "type": "choropleth"
           }
          ],
          "contour": [
           {
            "colorbar": {
             "outlinewidth": 0,
             "ticks": ""
            },
            "colorscale": [
             [
              0,
              "#0d0887"
             ],
             [
              0.1111111111111111,
              "#46039f"
             ],
             [
              0.2222222222222222,
              "#7201a8"
             ],
             [
              0.3333333333333333,
              "#9c179e"
             ],
             [
              0.4444444444444444,
              "#bd3786"
             ],
             [
              0.5555555555555556,
              "#d8576b"
             ],
             [
              0.6666666666666666,
              "#ed7953"
             ],
             [
              0.7777777777777778,
              "#fb9f3a"
             ],
             [
              0.8888888888888888,
              "#fdca26"
             ],
             [
              1,
              "#f0f921"
             ]
            ],
            "type": "contour"
           }
          ],
          "contourcarpet": [
           {
            "colorbar": {
             "outlinewidth": 0,
             "ticks": ""
            },
            "type": "contourcarpet"
           }
          ],
          "heatmap": [
           {
            "colorbar": {
             "outlinewidth": 0,
             "ticks": ""
            },
            "colorscale": [
             [
              0,
              "#0d0887"
             ],
             [
              0.1111111111111111,
              "#46039f"
             ],
             [
              0.2222222222222222,
              "#7201a8"
             ],
             [
              0.3333333333333333,
              "#9c179e"
             ],
             [
              0.4444444444444444,
              "#bd3786"
             ],
             [
              0.5555555555555556,
              "#d8576b"
             ],
             [
              0.6666666666666666,
              "#ed7953"
             ],
             [
              0.7777777777777778,
              "#fb9f3a"
             ],
             [
              0.8888888888888888,
              "#fdca26"
             ],
             [
              1,
              "#f0f921"
             ]
            ],
            "type": "heatmap"
           }
          ],
          "heatmapgl": [
           {
            "colorbar": {
             "outlinewidth": 0,
             "ticks": ""
            },
            "colorscale": [
             [
              0,
              "#0d0887"
             ],
             [
              0.1111111111111111,
              "#46039f"
             ],
             [
              0.2222222222222222,
              "#7201a8"
             ],
             [
              0.3333333333333333,
              "#9c179e"
             ],
             [
              0.4444444444444444,
              "#bd3786"
             ],
             [
              0.5555555555555556,
              "#d8576b"
             ],
             [
              0.6666666666666666,
              "#ed7953"
             ],
             [
              0.7777777777777778,
              "#fb9f3a"
             ],
             [
              0.8888888888888888,
              "#fdca26"
             ],
             [
              1,
              "#f0f921"
             ]
            ],
            "type": "heatmapgl"
           }
          ],
          "histogram": [
           {
            "marker": {
             "pattern": {
              "fillmode": "overlay",
              "size": 10,
              "solidity": 0.2
             }
            },
            "type": "histogram"
           }
          ],
          "histogram2d": [
           {
            "colorbar": {
             "outlinewidth": 0,
             "ticks": ""
            },
            "colorscale": [
             [
              0,
              "#0d0887"
             ],
             [
              0.1111111111111111,
              "#46039f"
             ],
             [
              0.2222222222222222,
              "#7201a8"
             ],
             [
              0.3333333333333333,
              "#9c179e"
             ],
             [
              0.4444444444444444,
              "#bd3786"
             ],
             [
              0.5555555555555556,
              "#d8576b"
             ],
             [
              0.6666666666666666,
              "#ed7953"
             ],
             [
              0.7777777777777778,
              "#fb9f3a"
             ],
             [
              0.8888888888888888,
              "#fdca26"
             ],
             [
              1,
              "#f0f921"
             ]
            ],
            "type": "histogram2d"
           }
          ],
          "histogram2dcontour": [
           {
            "colorbar": {
             "outlinewidth": 0,
             "ticks": ""
            },
            "colorscale": [
             [
              0,
              "#0d0887"
             ],
             [
              0.1111111111111111,
              "#46039f"
             ],
             [
              0.2222222222222222,
              "#7201a8"
             ],
             [
              0.3333333333333333,
              "#9c179e"
             ],
             [
              0.4444444444444444,
              "#bd3786"
             ],
             [
              0.5555555555555556,
              "#d8576b"
             ],
             [
              0.6666666666666666,
              "#ed7953"
             ],
             [
              0.7777777777777778,
              "#fb9f3a"
             ],
             [
              0.8888888888888888,
              "#fdca26"
             ],
             [
              1,
              "#f0f921"
             ]
            ],
            "type": "histogram2dcontour"
           }
          ],
          "mesh3d": [
           {
            "colorbar": {
             "outlinewidth": 0,
             "ticks": ""
            },
            "type": "mesh3d"
           }
          ],
          "parcoords": [
           {
            "line": {
             "colorbar": {
              "outlinewidth": 0,
              "ticks": ""
             }
            },
            "type": "parcoords"
           }
          ],
          "pie": [
           {
            "automargin": true,
            "type": "pie"
           }
          ],
          "scatter": [
           {
            "fillpattern": {
             "fillmode": "overlay",
             "size": 10,
             "solidity": 0.2
            },
            "type": "scatter"
           }
          ],
          "scatter3d": [
           {
            "line": {
             "colorbar": {
              "outlinewidth": 0,
              "ticks": ""
             }
            },
            "marker": {
             "colorbar": {
              "outlinewidth": 0,
              "ticks": ""
             }
            },
            "type": "scatter3d"
           }
          ],
          "scattercarpet": [
           {
            "marker": {
             "colorbar": {
              "outlinewidth": 0,
              "ticks": ""
             }
            },
            "type": "scattercarpet"
           }
          ],
          "scattergeo": [
           {
            "marker": {
             "colorbar": {
              "outlinewidth": 0,
              "ticks": ""
             }
            },
            "type": "scattergeo"
           }
          ],
          "scattergl": [
           {
            "marker": {
             "colorbar": {
              "outlinewidth": 0,
              "ticks": ""
             }
            },
            "type": "scattergl"
           }
          ],
          "scattermapbox": [
           {
            "marker": {
             "colorbar": {
              "outlinewidth": 0,
              "ticks": ""
             }
            },
            "type": "scattermapbox"
           }
          ],
          "scatterpolar": [
           {
            "marker": {
             "colorbar": {
              "outlinewidth": 0,
              "ticks": ""
             }
            },
            "type": "scatterpolar"
           }
          ],
          "scatterpolargl": [
           {
            "marker": {
             "colorbar": {
              "outlinewidth": 0,
              "ticks": ""
             }
            },
            "type": "scatterpolargl"
           }
          ],
          "scatterternary": [
           {
            "marker": {
             "colorbar": {
              "outlinewidth": 0,
              "ticks": ""
             }
            },
            "type": "scatterternary"
           }
          ],
          "surface": [
           {
            "colorbar": {
             "outlinewidth": 0,
             "ticks": ""
            },
            "colorscale": [
             [
              0,
              "#0d0887"
             ],
             [
              0.1111111111111111,
              "#46039f"
             ],
             [
              0.2222222222222222,
              "#7201a8"
             ],
             [
              0.3333333333333333,
              "#9c179e"
             ],
             [
              0.4444444444444444,
              "#bd3786"
             ],
             [
              0.5555555555555556,
              "#d8576b"
             ],
             [
              0.6666666666666666,
              "#ed7953"
             ],
             [
              0.7777777777777778,
              "#fb9f3a"
             ],
             [
              0.8888888888888888,
              "#fdca26"
             ],
             [
              1,
              "#f0f921"
             ]
            ],
            "type": "surface"
           }
          ],
          "table": [
           {
            "cells": {
             "fill": {
              "color": "#EBF0F8"
             },
             "line": {
              "color": "white"
             }
            },
            "header": {
             "fill": {
              "color": "#C8D4E3"
             },
             "line": {
              "color": "white"
             }
            },
            "type": "table"
           }
          ]
         },
         "layout": {
          "annotationdefaults": {
           "arrowcolor": "#2a3f5f",
           "arrowhead": 0,
           "arrowwidth": 1
          },
          "autotypenumbers": "strict",
          "coloraxis": {
           "colorbar": {
            "outlinewidth": 0,
            "ticks": ""
           }
          },
          "colorscale": {
           "diverging": [
            [
             0,
             "#8e0152"
            ],
            [
             0.1,
             "#c51b7d"
            ],
            [
             0.2,
             "#de77ae"
            ],
            [
             0.3,
             "#f1b6da"
            ],
            [
             0.4,
             "#fde0ef"
            ],
            [
             0.5,
             "#f7f7f7"
            ],
            [
             0.6,
             "#e6f5d0"
            ],
            [
             0.7,
             "#b8e186"
            ],
            [
             0.8,
             "#7fbc41"
            ],
            [
             0.9,
             "#4d9221"
            ],
            [
             1,
             "#276419"
            ]
           ],
           "sequential": [
            [
             0,
             "#0d0887"
            ],
            [
             0.1111111111111111,
             "#46039f"
            ],
            [
             0.2222222222222222,
             "#7201a8"
            ],
            [
             0.3333333333333333,
             "#9c179e"
            ],
            [
             0.4444444444444444,
             "#bd3786"
            ],
            [
             0.5555555555555556,
             "#d8576b"
            ],
            [
             0.6666666666666666,
             "#ed7953"
            ],
            [
             0.7777777777777778,
             "#fb9f3a"
            ],
            [
             0.8888888888888888,
             "#fdca26"
            ],
            [
             1,
             "#f0f921"
            ]
           ],
           "sequentialminus": [
            [
             0,
             "#0d0887"
            ],
            [
             0.1111111111111111,
             "#46039f"
            ],
            [
             0.2222222222222222,
             "#7201a8"
            ],
            [
             0.3333333333333333,
             "#9c179e"
            ],
            [
             0.4444444444444444,
             "#bd3786"
            ],
            [
             0.5555555555555556,
             "#d8576b"
            ],
            [
             0.6666666666666666,
             "#ed7953"
            ],
            [
             0.7777777777777778,
             "#fb9f3a"
            ],
            [
             0.8888888888888888,
             "#fdca26"
            ],
            [
             1,
             "#f0f921"
            ]
           ]
          },
          "colorway": [
           "#636efa",
           "#EF553B",
           "#00cc96",
           "#ab63fa",
           "#FFA15A",
           "#19d3f3",
           "#FF6692",
           "#B6E880",
           "#FF97FF",
           "#FECB52"
          ],
          "font": {
           "color": "#2a3f5f"
          },
          "geo": {
           "bgcolor": "white",
           "lakecolor": "white",
           "landcolor": "#E5ECF6",
           "showlakes": true,
           "showland": true,
           "subunitcolor": "white"
          },
          "hoverlabel": {
           "align": "left"
          },
          "hovermode": "closest",
          "mapbox": {
           "style": "light"
          },
          "paper_bgcolor": "white",
          "plot_bgcolor": "#E5ECF6",
          "polar": {
           "angularaxis": {
            "gridcolor": "white",
            "linecolor": "white",
            "ticks": ""
           },
           "bgcolor": "#E5ECF6",
           "radialaxis": {
            "gridcolor": "white",
            "linecolor": "white",
            "ticks": ""
           }
          },
          "scene": {
           "xaxis": {
            "backgroundcolor": "#E5ECF6",
            "gridcolor": "white",
            "gridwidth": 2,
            "linecolor": "white",
            "showbackground": true,
            "ticks": "",
            "zerolinecolor": "white"
           },
           "yaxis": {
            "backgroundcolor": "#E5ECF6",
            "gridcolor": "white",
            "gridwidth": 2,
            "linecolor": "white",
            "showbackground": true,
            "ticks": "",
            "zerolinecolor": "white"
           },
           "zaxis": {
            "backgroundcolor": "#E5ECF6",
            "gridcolor": "white",
            "gridwidth": 2,
            "linecolor": "white",
            "showbackground": true,
            "ticks": "",
            "zerolinecolor": "white"
           }
          },
          "shapedefaults": {
           "line": {
            "color": "#2a3f5f"
           }
          },
          "ternary": {
           "aaxis": {
            "gridcolor": "white",
            "linecolor": "white",
            "ticks": ""
           },
           "baxis": {
            "gridcolor": "white",
            "linecolor": "white",
            "ticks": ""
           },
           "bgcolor": "#E5ECF6",
           "caxis": {
            "gridcolor": "white",
            "linecolor": "white",
            "ticks": ""
           }
          },
          "title": {
           "x": 0.05
          },
          "xaxis": {
           "automargin": true,
           "gridcolor": "white",
           "linecolor": "white",
           "ticks": "",
           "title": {
            "standoff": 15
           },
           "zerolinecolor": "white",
           "zerolinewidth": 2
          },
          "yaxis": {
           "automargin": true,
           "gridcolor": "white",
           "linecolor": "white",
           "ticks": "",
           "title": {
            "standoff": 15
           },
           "zerolinecolor": "white",
           "zerolinewidth": 2
          }
         }
        },
        "title": {
         "text": "Palm Oil Production by Country per Year"
        },
        "updatemenus": [
         {
          "buttons": [
           {
            "args": [
             null,
             {
              "frame": {
               "duration": 500,
               "redraw": true
              },
              "fromcurrent": true,
              "mode": "immediate",
              "transition": {
               "duration": 500,
               "easing": "linear"
              }
             }
            ],
            "label": "&#9654;",
            "method": "animate"
           },
           {
            "args": [
             [
              null
             ],
             {
              "frame": {
               "duration": 0,
               "redraw": true
              },
              "fromcurrent": true,
              "mode": "immediate",
              "transition": {
               "duration": 0,
               "easing": "linear"
              }
             }
            ],
            "label": "&#9724;",
            "method": "animate"
           }
          ],
          "direction": "left",
          "pad": {
           "r": 10,
           "t": 70
          },
          "showactive": false,
          "type": "buttons",
          "x": 0.1,
          "xanchor": "right",
          "y": 0,
          "yanchor": "top"
         }
        ]
       }
      }
     },
     "metadata": {},
     "output_type": "display_data"
    }
   ],
   "source": [
    "import pandas as pd\n",
    "import plotly.express as px\n",
    "\n",
    "# Load the data from the provided CSV file\n",
    "file_path = '../Datasets/palm-oil-production.csv'\n",
    "data = pd.read_csv(file_path)\n",
    "\n",
    "# Aggregate data to get the total production for each country per year\n",
    "total_production_by_year = data.groupby(['Entity', 'Year'])['Production'].sum().reset_index()\n",
    "\n",
    "# Sort the data by Year to ensure correct order in the animation\n",
    "total_production_by_year = total_production_by_year.sort_values(by='Year')\n",
    "\n",
    "# Custom color scale with values from 0 to 350 million\n",
    "color_scale = [\n",
    "    (0.0, \"rgb(255,182,193)\"),  # Light Pink\n",
    "    (0.2, \"rgb(255,105,180)\"),  # Hot Pink\n",
    "    (0.4, \"rgb(255,0,0)\"),      # Red\n",
    "    (0.6, \"rgb(139,0,0)\"),      # Dark Red\n",
    "    (0.8, \"rgb(105,0,0)\"),      # Darker Red\n",
    "    (1.0, \"rgb(50,0,0)\")        # Very Dark Red\n",
    "]\n",
    "\n",
    "# Create a choropleth map using Plotly with animation\n",
    "fig = px.choropleth(\n",
    "    total_production_by_year,\n",
    "    locations=\"Entity\",\n",
    "    locationmode=\"country names\",\n",
    "    color=\"Production\",\n",
    "    hover_name=\"Entity\",\n",
    "    animation_frame=\"Year\",\n",
    "    color_continuous_scale=color_scale,\n",
    "    range_color=(0, 50e6),\n",
    "    title=\"Palm Oil Production by Country per Year\"\n",
    ")\n",
    "\n",
    "# Update the layout to focus on Southeast Asia\n",
    "fig.update_geos(\n",
    "    projection_scale=4,  # This controls the zoom level\n",
    "    center={\"lat\": 2.5, \"lon\": 115},  # Center the map roughly around Indonesia/Malaysia\n",
    "    visible=False  # Hide the frame\n",
    ")\n",
    "\n",
    "fig.update_layout(\n",
    "    # height=600,\n",
    "    # width=800\n",
    ")\n",
    "\n",
    "# Show the map\n",
    "fig.show()\n"
   ]
  },
  {
   "cell_type": "code",
   "execution_count": 35,
   "metadata": {
    "tags": [
     "hide-input"
    ]
   },
   "outputs": [
    {
     "data": {
      "application/vnd.plotly.v1+json": {
       "config": {
        "plotlyServerURL": "https://plot.ly"
       },
       "data": [
        {
         "mode": "lines",
         "name": "Indonesia",
         "type": "scatter",
         "x": [
          2000,
          2001,
          2002,
          2003,
          2004,
          2005,
          2006,
          2007,
          2008,
          2009,
          2010,
          2011,
          2012,
          2013,
          2014,
          2015,
          2016,
          2017,
          2018,
          2019,
          2020,
          2021,
          2022,
          2023
         ],
         "y": [
          8300,
          9200,
          10300,
          11970,
          13560,
          15560,
          16600,
          18000,
          20500,
          22000,
          23600,
          26200,
          28500,
          30500,
          33000,
          32000,
          36000,
          39500,
          41500,
          42500,
          43500,
          42000,
          46500,
          47000
         ]
        },
        {
         "mode": "lines",
         "name": "Malaysia",
         "type": "scatter",
         "x": [
          2000,
          2001,
          2002,
          2003,
          2004,
          2005,
          2006,
          2007,
          2008,
          2009,
          2010,
          2011,
          2012,
          2013,
          2014,
          2015,
          2016,
          2017,
          2018,
          2019,
          2020,
          2021,
          2022,
          2023
         ],
         "y": [
          11937,
          11858,
          13180,
          13420,
          15194,
          15485,
          15290,
          17567,
          17259,
          17763,
          18211,
          18202,
          19321,
          20161,
          19879,
          17700,
          18858,
          19683,
          20800,
          19255,
          17854,
          18152,
          18387,
          19000
         ]
        },
        {
         "mode": "lines",
         "name": "Indonesia + Malaysia",
         "type": "scatter",
         "x": [
          2000,
          2001,
          2002,
          2003,
          2004,
          2005,
          2006,
          2007,
          2008,
          2009,
          2010,
          2011,
          2012,
          2013,
          2014,
          2015,
          2016,
          2017,
          2018,
          2019,
          2020,
          2021,
          2022,
          2023
         ],
         "y": [
          20237,
          21058,
          23480,
          25390,
          28754,
          31045,
          31890,
          35567,
          37759,
          39763,
          41811,
          44402,
          47821,
          50661,
          52879,
          49700,
          54858,
          59183,
          62300,
          61755,
          61354,
          60152,
          64887,
          66000
         ]
        }
       ],
       "layout": {
        "legend": {
         "orientation": "h",
         "x": 0.1,
         "y": 1.1
        },
        "template": {
         "data": {
          "bar": [
           {
            "error_x": {
             "color": "#2a3f5f"
            },
            "error_y": {
             "color": "#2a3f5f"
            },
            "marker": {
             "line": {
              "color": "#E5ECF6",
              "width": 0.5
             },
             "pattern": {
              "fillmode": "overlay",
              "size": 10,
              "solidity": 0.2
             }
            },
            "type": "bar"
           }
          ],
          "barpolar": [
           {
            "marker": {
             "line": {
              "color": "#E5ECF6",
              "width": 0.5
             },
             "pattern": {
              "fillmode": "overlay",
              "size": 10,
              "solidity": 0.2
             }
            },
            "type": "barpolar"
           }
          ],
          "carpet": [
           {
            "aaxis": {
             "endlinecolor": "#2a3f5f",
             "gridcolor": "white",
             "linecolor": "white",
             "minorgridcolor": "white",
             "startlinecolor": "#2a3f5f"
            },
            "baxis": {
             "endlinecolor": "#2a3f5f",
             "gridcolor": "white",
             "linecolor": "white",
             "minorgridcolor": "white",
             "startlinecolor": "#2a3f5f"
            },
            "type": "carpet"
           }
          ],
          "choropleth": [
           {
            "colorbar": {
             "outlinewidth": 0,
             "ticks": ""
            },
            "type": "choropleth"
           }
          ],
          "contour": [
           {
            "colorbar": {
             "outlinewidth": 0,
             "ticks": ""
            },
            "colorscale": [
             [
              0,
              "#0d0887"
             ],
             [
              0.1111111111111111,
              "#46039f"
             ],
             [
              0.2222222222222222,
              "#7201a8"
             ],
             [
              0.3333333333333333,
              "#9c179e"
             ],
             [
              0.4444444444444444,
              "#bd3786"
             ],
             [
              0.5555555555555556,
              "#d8576b"
             ],
             [
              0.6666666666666666,
              "#ed7953"
             ],
             [
              0.7777777777777778,
              "#fb9f3a"
             ],
             [
              0.8888888888888888,
              "#fdca26"
             ],
             [
              1,
              "#f0f921"
             ]
            ],
            "type": "contour"
           }
          ],
          "contourcarpet": [
           {
            "colorbar": {
             "outlinewidth": 0,
             "ticks": ""
            },
            "type": "contourcarpet"
           }
          ],
          "heatmap": [
           {
            "colorbar": {
             "outlinewidth": 0,
             "ticks": ""
            },
            "colorscale": [
             [
              0,
              "#0d0887"
             ],
             [
              0.1111111111111111,
              "#46039f"
             ],
             [
              0.2222222222222222,
              "#7201a8"
             ],
             [
              0.3333333333333333,
              "#9c179e"
             ],
             [
              0.4444444444444444,
              "#bd3786"
             ],
             [
              0.5555555555555556,
              "#d8576b"
             ],
             [
              0.6666666666666666,
              "#ed7953"
             ],
             [
              0.7777777777777778,
              "#fb9f3a"
             ],
             [
              0.8888888888888888,
              "#fdca26"
             ],
             [
              1,
              "#f0f921"
             ]
            ],
            "type": "heatmap"
           }
          ],
          "heatmapgl": [
           {
            "colorbar": {
             "outlinewidth": 0,
             "ticks": ""
            },
            "colorscale": [
             [
              0,
              "#0d0887"
             ],
             [
              0.1111111111111111,
              "#46039f"
             ],
             [
              0.2222222222222222,
              "#7201a8"
             ],
             [
              0.3333333333333333,
              "#9c179e"
             ],
             [
              0.4444444444444444,
              "#bd3786"
             ],
             [
              0.5555555555555556,
              "#d8576b"
             ],
             [
              0.6666666666666666,
              "#ed7953"
             ],
             [
              0.7777777777777778,
              "#fb9f3a"
             ],
             [
              0.8888888888888888,
              "#fdca26"
             ],
             [
              1,
              "#f0f921"
             ]
            ],
            "type": "heatmapgl"
           }
          ],
          "histogram": [
           {
            "marker": {
             "pattern": {
              "fillmode": "overlay",
              "size": 10,
              "solidity": 0.2
             }
            },
            "type": "histogram"
           }
          ],
          "histogram2d": [
           {
            "colorbar": {
             "outlinewidth": 0,
             "ticks": ""
            },
            "colorscale": [
             [
              0,
              "#0d0887"
             ],
             [
              0.1111111111111111,
              "#46039f"
             ],
             [
              0.2222222222222222,
              "#7201a8"
             ],
             [
              0.3333333333333333,
              "#9c179e"
             ],
             [
              0.4444444444444444,
              "#bd3786"
             ],
             [
              0.5555555555555556,
              "#d8576b"
             ],
             [
              0.6666666666666666,
              "#ed7953"
             ],
             [
              0.7777777777777778,
              "#fb9f3a"
             ],
             [
              0.8888888888888888,
              "#fdca26"
             ],
             [
              1,
              "#f0f921"
             ]
            ],
            "type": "histogram2d"
           }
          ],
          "histogram2dcontour": [
           {
            "colorbar": {
             "outlinewidth": 0,
             "ticks": ""
            },
            "colorscale": [
             [
              0,
              "#0d0887"
             ],
             [
              0.1111111111111111,
              "#46039f"
             ],
             [
              0.2222222222222222,
              "#7201a8"
             ],
             [
              0.3333333333333333,
              "#9c179e"
             ],
             [
              0.4444444444444444,
              "#bd3786"
             ],
             [
              0.5555555555555556,
              "#d8576b"
             ],
             [
              0.6666666666666666,
              "#ed7953"
             ],
             [
              0.7777777777777778,
              "#fb9f3a"
             ],
             [
              0.8888888888888888,
              "#fdca26"
             ],
             [
              1,
              "#f0f921"
             ]
            ],
            "type": "histogram2dcontour"
           }
          ],
          "mesh3d": [
           {
            "colorbar": {
             "outlinewidth": 0,
             "ticks": ""
            },
            "type": "mesh3d"
           }
          ],
          "parcoords": [
           {
            "line": {
             "colorbar": {
              "outlinewidth": 0,
              "ticks": ""
             }
            },
            "type": "parcoords"
           }
          ],
          "pie": [
           {
            "automargin": true,
            "type": "pie"
           }
          ],
          "scatter": [
           {
            "fillpattern": {
             "fillmode": "overlay",
             "size": 10,
             "solidity": 0.2
            },
            "type": "scatter"
           }
          ],
          "scatter3d": [
           {
            "line": {
             "colorbar": {
              "outlinewidth": 0,
              "ticks": ""
             }
            },
            "marker": {
             "colorbar": {
              "outlinewidth": 0,
              "ticks": ""
             }
            },
            "type": "scatter3d"
           }
          ],
          "scattercarpet": [
           {
            "marker": {
             "colorbar": {
              "outlinewidth": 0,
              "ticks": ""
             }
            },
            "type": "scattercarpet"
           }
          ],
          "scattergeo": [
           {
            "marker": {
             "colorbar": {
              "outlinewidth": 0,
              "ticks": ""
             }
            },
            "type": "scattergeo"
           }
          ],
          "scattergl": [
           {
            "marker": {
             "colorbar": {
              "outlinewidth": 0,
              "ticks": ""
             }
            },
            "type": "scattergl"
           }
          ],
          "scattermapbox": [
           {
            "marker": {
             "colorbar": {
              "outlinewidth": 0,
              "ticks": ""
             }
            },
            "type": "scattermapbox"
           }
          ],
          "scatterpolar": [
           {
            "marker": {
             "colorbar": {
              "outlinewidth": 0,
              "ticks": ""
             }
            },
            "type": "scatterpolar"
           }
          ],
          "scatterpolargl": [
           {
            "marker": {
             "colorbar": {
              "outlinewidth": 0,
              "ticks": ""
             }
            },
            "type": "scatterpolargl"
           }
          ],
          "scatterternary": [
           {
            "marker": {
             "colorbar": {
              "outlinewidth": 0,
              "ticks": ""
             }
            },
            "type": "scatterternary"
           }
          ],
          "surface": [
           {
            "colorbar": {
             "outlinewidth": 0,
             "ticks": ""
            },
            "colorscale": [
             [
              0,
              "#0d0887"
             ],
             [
              0.1111111111111111,
              "#46039f"
             ],
             [
              0.2222222222222222,
              "#7201a8"
             ],
             [
              0.3333333333333333,
              "#9c179e"
             ],
             [
              0.4444444444444444,
              "#bd3786"
             ],
             [
              0.5555555555555556,
              "#d8576b"
             ],
             [
              0.6666666666666666,
              "#ed7953"
             ],
             [
              0.7777777777777778,
              "#fb9f3a"
             ],
             [
              0.8888888888888888,
              "#fdca26"
             ],
             [
              1,
              "#f0f921"
             ]
            ],
            "type": "surface"
           }
          ],
          "table": [
           {
            "cells": {
             "fill": {
              "color": "#EBF0F8"
             },
             "line": {
              "color": "white"
             }
            },
            "header": {
             "fill": {
              "color": "#C8D4E3"
             },
             "line": {
              "color": "white"
             }
            },
            "type": "table"
           }
          ]
         },
         "layout": {
          "annotationdefaults": {
           "arrowcolor": "#2a3f5f",
           "arrowhead": 0,
           "arrowwidth": 1
          },
          "autotypenumbers": "strict",
          "coloraxis": {
           "colorbar": {
            "outlinewidth": 0,
            "ticks": ""
           }
          },
          "colorscale": {
           "diverging": [
            [
             0,
             "#8e0152"
            ],
            [
             0.1,
             "#c51b7d"
            ],
            [
             0.2,
             "#de77ae"
            ],
            [
             0.3,
             "#f1b6da"
            ],
            [
             0.4,
             "#fde0ef"
            ],
            [
             0.5,
             "#f7f7f7"
            ],
            [
             0.6,
             "#e6f5d0"
            ],
            [
             0.7,
             "#b8e186"
            ],
            [
             0.8,
             "#7fbc41"
            ],
            [
             0.9,
             "#4d9221"
            ],
            [
             1,
             "#276419"
            ]
           ],
           "sequential": [
            [
             0,
             "#0d0887"
            ],
            [
             0.1111111111111111,
             "#46039f"
            ],
            [
             0.2222222222222222,
             "#7201a8"
            ],
            [
             0.3333333333333333,
             "#9c179e"
            ],
            [
             0.4444444444444444,
             "#bd3786"
            ],
            [
             0.5555555555555556,
             "#d8576b"
            ],
            [
             0.6666666666666666,
             "#ed7953"
            ],
            [
             0.7777777777777778,
             "#fb9f3a"
            ],
            [
             0.8888888888888888,
             "#fdca26"
            ],
            [
             1,
             "#f0f921"
            ]
           ],
           "sequentialminus": [
            [
             0,
             "#0d0887"
            ],
            [
             0.1111111111111111,
             "#46039f"
            ],
            [
             0.2222222222222222,
             "#7201a8"
            ],
            [
             0.3333333333333333,
             "#9c179e"
            ],
            [
             0.4444444444444444,
             "#bd3786"
            ],
            [
             0.5555555555555556,
             "#d8576b"
            ],
            [
             0.6666666666666666,
             "#ed7953"
            ],
            [
             0.7777777777777778,
             "#fb9f3a"
            ],
            [
             0.8888888888888888,
             "#fdca26"
            ],
            [
             1,
             "#f0f921"
            ]
           ]
          },
          "colorway": [
           "#636efa",
           "#EF553B",
           "#00cc96",
           "#ab63fa",
           "#FFA15A",
           "#19d3f3",
           "#FF6692",
           "#B6E880",
           "#FF97FF",
           "#FECB52"
          ],
          "font": {
           "color": "#2a3f5f"
          },
          "geo": {
           "bgcolor": "white",
           "lakecolor": "white",
           "landcolor": "#E5ECF6",
           "showlakes": true,
           "showland": true,
           "subunitcolor": "white"
          },
          "hoverlabel": {
           "align": "left"
          },
          "hovermode": "closest",
          "mapbox": {
           "style": "light"
          },
          "paper_bgcolor": "white",
          "plot_bgcolor": "#E5ECF6",
          "polar": {
           "angularaxis": {
            "gridcolor": "white",
            "linecolor": "white",
            "ticks": ""
           },
           "bgcolor": "#E5ECF6",
           "radialaxis": {
            "gridcolor": "white",
            "linecolor": "white",
            "ticks": ""
           }
          },
          "scene": {
           "xaxis": {
            "backgroundcolor": "#E5ECF6",
            "gridcolor": "white",
            "gridwidth": 2,
            "linecolor": "white",
            "showbackground": true,
            "ticks": "",
            "zerolinecolor": "white"
           },
           "yaxis": {
            "backgroundcolor": "#E5ECF6",
            "gridcolor": "white",
            "gridwidth": 2,
            "linecolor": "white",
            "showbackground": true,
            "ticks": "",
            "zerolinecolor": "white"
           },
           "zaxis": {
            "backgroundcolor": "#E5ECF6",
            "gridcolor": "white",
            "gridwidth": 2,
            "linecolor": "white",
            "showbackground": true,
            "ticks": "",
            "zerolinecolor": "white"
           }
          },
          "shapedefaults": {
           "line": {
            "color": "#2a3f5f"
           }
          },
          "ternary": {
           "aaxis": {
            "gridcolor": "white",
            "linecolor": "white",
            "ticks": ""
           },
           "baxis": {
            "gridcolor": "white",
            "linecolor": "white",
            "ticks": ""
           },
           "bgcolor": "#E5ECF6",
           "caxis": {
            "gridcolor": "white",
            "linecolor": "white",
            "ticks": ""
           }
          },
          "title": {
           "x": 0.05
          },
          "xaxis": {
           "automargin": true,
           "gridcolor": "white",
           "linecolor": "white",
           "ticks": "",
           "title": {
            "standoff": 15
           },
           "zerolinecolor": "white",
           "zerolinewidth": 2
          },
          "yaxis": {
           "automargin": true,
           "gridcolor": "white",
           "linecolor": "white",
           "ticks": "",
           "title": {
            "standoff": 15
           },
           "zerolinecolor": "white",
           "zerolinewidth": 2
          }
         }
        },
        "title": {
         "text": "Palm Oil Production in Indonesia and Malaysia (2000-2023)"
        },
        "xaxis": {
         "title": {
          "text": "Year"
         }
        },
        "yaxis": {
         "title": {
          "text": "Production"
         }
        }
       }
      }
     },
     "metadata": {},
     "output_type": "display_data"
    }
   ],
   "source": [
    "import pandas as pd\n",
    "import plotly.graph_objs as go\n",
    "\n",
    "# Load palm oil production data\n",
    "palm = pd.read_csv('../Datasets/Oils/archive/cleaned/palm.csv')\n",
    "\n",
    "# Filter data for Indonesia and Malaysia and years >= 2000\n",
    "df_Indo = palm[(palm['Country'] == 'Indonesia') & (palm['Year'] >= 2000)]\n",
    "df_Malaysia = palm[(palm['Country'] == 'Malaysia') & (palm['Year'] >= 2000)]\n",
    "\n",
    "# Extract production values and years\n",
    "xi = df_Indo['Production'].values\n",
    "xm = df_Malaysia['Production'].values\n",
    "years = df_Indo['Year'].values  # Both Indo and Malaysia have the same years\n",
    "\n",
    "# Calculate total production\n",
    "total_production = xi + xm\n",
    "\n",
    "# Create traces for Plotly\n",
    "trace_indo = go.Scatter(x=years, y=xi, mode='lines', name='Indonesia')\n",
    "trace_malaysia = go.Scatter(x=years, y=xm, mode='lines', name='Malaysia')\n",
    "trace_total = go.Scatter(x=years, y=total_production, mode='lines', name='Indonesia + Malaysia')\n",
    "\n",
    "# Layout\n",
    "layout = go.Layout(\n",
    "    title='Palm Oil Production in Indonesia and Malaysia (2000-2023)',\n",
    "    xaxis=dict(title='Year'),\n",
    "    yaxis=dict(title='Production'),\n",
    "    legend=dict(x=0.1, y=1.1, orientation='h')\n",
    ")\n",
    "\n",
    "# Create figure\n",
    "fig = go.Figure(data=[trace_indo, trace_malaysia, trace_total], layout=layout)\n",
    "\n",
    "# Show plot\n",
    "fig.show()\n"
   ]
  },
  {
   "cell_type": "markdown",
   "metadata": {},
   "source": [
    "At the same time we can see, as shown in the next graph, that the total tree loss has also been steadily increasing since 2001."
   ]
  },
  {
   "cell_type": "code",
   "execution_count": 28,
   "metadata": {
    "tags": [
     "hide-input"
    ]
   },
   "outputs": [
    {
     "data": {
      "application/vnd.plotly.v1+json": {
       "config": {
        "plotlyServerURL": "https://plot.ly"
       },
       "data": [
        {
         "mode": "lines",
         "name": "Sarawak",
         "type": "scatter",
         "x": [
          2001,
          2002,
          2003,
          2004,
          2005,
          2006,
          2007,
          2008,
          2009,
          2010,
          2011,
          2012,
          2013,
          2014,
          2015,
          2016,
          2017,
          2018,
          2019,
          2020,
          2021,
          2022
         ],
         "y": [
          103529,
          178335,
          252827,
          362943,
          485681,
          600348,
          776456,
          940403,
          1247816,
          1384904,
          1576972,
          1848951,
          1982453,
          2220883,
          2384404,
          2574318,
          2751905,
          2914626,
          3043397,
          3126221,
          3208423,
          3295772
         ]
        },
        {
         "mode": "lines",
         "name": "Sabah",
         "type": "scatter",
         "x": [
          2001,
          2002,
          2003,
          2004,
          2005,
          2006,
          2007,
          2008,
          2009,
          2010,
          2011,
          2012,
          2013,
          2014,
          2015,
          2016,
          2017,
          2018,
          2019,
          2020,
          2021,
          2022
         ],
         "y": [
          64055,
          124452,
          157777,
          245073,
          318272,
          399891,
          462556,
          547171,
          639540,
          743731,
          812493,
          918683,
          987437,
          1133894,
          1247842,
          1369003,
          1463592,
          1564770,
          1666502,
          1746346,
          1824212,
          1900753
         ]
        },
        {
         "mode": "lines",
         "name": "East Malaysia",
         "type": "scatter",
         "x": [
          2001,
          2002,
          2003,
          2004,
          2005,
          2006,
          2007,
          2008,
          2009,
          2010,
          2011,
          2012,
          2013,
          2014,
          2015,
          2016,
          2017,
          2018,
          2019,
          2020,
          2021,
          2022
         ],
         "y": [
          167584,
          302787,
          410604,
          608016,
          803953,
          1000239,
          1239012,
          1487574,
          1887356,
          2128635,
          2389465,
          2767634,
          2969890,
          3354777,
          3632246,
          3943321,
          4215497,
          4479396,
          4709899,
          4872567,
          5032635,
          5196525
         ]
        },
        {
         "mode": "lines",
         "name": "West Kalimantan",
         "type": "scatter",
         "x": [
          2001,
          2002,
          2003,
          2004,
          2005,
          2006,
          2007,
          2008,
          2009,
          2010,
          2011,
          2012,
          2013,
          2014,
          2015,
          2016,
          2017,
          2018,
          2019,
          2020,
          2021,
          2022
         ],
         "y": [
          78629,
          176274,
          232459,
          346908,
          451885,
          583497,
          716655,
          920906,
          1210741,
          1363893,
          1627996,
          1943892,
          2150143,
          2454859,
          2732644,
          3033510,
          3226361,
          3398032,
          3551257,
          3681276,
          3799636,
          3947949
         ]
        },
        {
         "mode": "lines",
         "name": "Central Kalimantan",
         "type": "scatter",
         "x": [
          2001,
          2002,
          2003,
          2004,
          2005,
          2006,
          2007,
          2008,
          2009,
          2010,
          2011,
          2012,
          2013,
          2014,
          2015,
          2016,
          2017,
          2018,
          2019,
          2020,
          2021,
          2022
         ],
         "y": [
          64894,
          169183,
          298904,
          471544,
          631755,
          856324,
          1149028,
          1354902,
          1550141,
          1692855,
          1832983,
          2054981,
          2164620,
          2371973,
          2596453,
          3104713,
          3215398,
          3333244,
          3464714,
          3561717,
          3621232,
          3702000
         ]
        },
        {
         "mode": "lines",
         "name": "East Kalimantan",
         "type": "scatter",
         "x": [
          2001,
          2002,
          2003,
          2004,
          2005,
          2006,
          2007,
          2008,
          2009,
          2010,
          2011,
          2012,
          2013,
          2014,
          2015,
          2016,
          2017,
          2018,
          2019,
          2020,
          2021,
          2022
         ],
         "y": [
          74179,
          156042,
          210115,
          319037,
          410705,
          564687,
          719527,
          865942,
          1130807,
          1268718,
          1493892,
          1813746,
          2001348,
          2286048,
          2531947,
          2913673,
          3093543,
          3290553,
          3462664,
          3587652,
          3686154,
          3771626
         ]
        },
        {
         "mode": "lines",
         "name": "South Kalimantan",
         "type": "scatter",
         "x": [
          2001,
          2002,
          2003,
          2004,
          2005,
          2006,
          2007,
          2008,
          2009,
          2010,
          2011,
          2012,
          2013,
          2014,
          2015,
          2016,
          2017,
          2018,
          2019,
          2020,
          2021,
          2022
         ],
         "y": [
          19816,
          44687,
          63281,
          105915,
          131482,
          186002,
          215817,
          234673,
          295746,
          322280,
          371433,
          440943,
          482621,
          559267,
          640517,
          713442,
          756900,
          801721,
          854954,
          879798,
          910308,
          934752
         ]
        },
        {
         "mode": "lines",
         "name": "Total for Kalimantan",
         "type": "scatter",
         "x": [
          2001,
          2002,
          2003,
          2004,
          2005,
          2006,
          2007,
          2008,
          2009,
          2010,
          2011,
          2012,
          2013,
          2014,
          2015,
          2016,
          2017,
          2018,
          2019,
          2020,
          2021,
          2022
         ],
         "y": [
          237518,
          546186,
          804759,
          1243404,
          1625827,
          2190510,
          2801027,
          3376423,
          4187435,
          4647746,
          5326304,
          6253562,
          6798732,
          7672147,
          8501561,
          9765338,
          10292202,
          10823550,
          11333589,
          11710443,
          12017330,
          12356327
         ]
        }
       ],
       "layout": {
        "hovermode": "x unified",
        "legend": {
         "title": {
          "text": "Province"
         }
        },
        "template": {
         "data": {
          "bar": [
           {
            "error_x": {
             "color": "#2a3f5f"
            },
            "error_y": {
             "color": "#2a3f5f"
            },
            "marker": {
             "line": {
              "color": "white",
              "width": 0.5
             },
             "pattern": {
              "fillmode": "overlay",
              "size": 10,
              "solidity": 0.2
             }
            },
            "type": "bar"
           }
          ],
          "barpolar": [
           {
            "marker": {
             "line": {
              "color": "white",
              "width": 0.5
             },
             "pattern": {
              "fillmode": "overlay",
              "size": 10,
              "solidity": 0.2
             }
            },
            "type": "barpolar"
           }
          ],
          "carpet": [
           {
            "aaxis": {
             "endlinecolor": "#2a3f5f",
             "gridcolor": "#C8D4E3",
             "linecolor": "#C8D4E3",
             "minorgridcolor": "#C8D4E3",
             "startlinecolor": "#2a3f5f"
            },
            "baxis": {
             "endlinecolor": "#2a3f5f",
             "gridcolor": "#C8D4E3",
             "linecolor": "#C8D4E3",
             "minorgridcolor": "#C8D4E3",
             "startlinecolor": "#2a3f5f"
            },
            "type": "carpet"
           }
          ],
          "choropleth": [
           {
            "colorbar": {
             "outlinewidth": 0,
             "ticks": ""
            },
            "type": "choropleth"
           }
          ],
          "contour": [
           {
            "colorbar": {
             "outlinewidth": 0,
             "ticks": ""
            },
            "colorscale": [
             [
              0,
              "#0d0887"
             ],
             [
              0.1111111111111111,
              "#46039f"
             ],
             [
              0.2222222222222222,
              "#7201a8"
             ],
             [
              0.3333333333333333,
              "#9c179e"
             ],
             [
              0.4444444444444444,
              "#bd3786"
             ],
             [
              0.5555555555555556,
              "#d8576b"
             ],
             [
              0.6666666666666666,
              "#ed7953"
             ],
             [
              0.7777777777777778,
              "#fb9f3a"
             ],
             [
              0.8888888888888888,
              "#fdca26"
             ],
             [
              1,
              "#f0f921"
             ]
            ],
            "type": "contour"
           }
          ],
          "contourcarpet": [
           {
            "colorbar": {
             "outlinewidth": 0,
             "ticks": ""
            },
            "type": "contourcarpet"
           }
          ],
          "heatmap": [
           {
            "colorbar": {
             "outlinewidth": 0,
             "ticks": ""
            },
            "colorscale": [
             [
              0,
              "#0d0887"
             ],
             [
              0.1111111111111111,
              "#46039f"
             ],
             [
              0.2222222222222222,
              "#7201a8"
             ],
             [
              0.3333333333333333,
              "#9c179e"
             ],
             [
              0.4444444444444444,
              "#bd3786"
             ],
             [
              0.5555555555555556,
              "#d8576b"
             ],
             [
              0.6666666666666666,
              "#ed7953"
             ],
             [
              0.7777777777777778,
              "#fb9f3a"
             ],
             [
              0.8888888888888888,
              "#fdca26"
             ],
             [
              1,
              "#f0f921"
             ]
            ],
            "type": "heatmap"
           }
          ],
          "heatmapgl": [
           {
            "colorbar": {
             "outlinewidth": 0,
             "ticks": ""
            },
            "colorscale": [
             [
              0,
              "#0d0887"
             ],
             [
              0.1111111111111111,
              "#46039f"
             ],
             [
              0.2222222222222222,
              "#7201a8"
             ],
             [
              0.3333333333333333,
              "#9c179e"
             ],
             [
              0.4444444444444444,
              "#bd3786"
             ],
             [
              0.5555555555555556,
              "#d8576b"
             ],
             [
              0.6666666666666666,
              "#ed7953"
             ],
             [
              0.7777777777777778,
              "#fb9f3a"
             ],
             [
              0.8888888888888888,
              "#fdca26"
             ],
             [
              1,
              "#f0f921"
             ]
            ],
            "type": "heatmapgl"
           }
          ],
          "histogram": [
           {
            "marker": {
             "pattern": {
              "fillmode": "overlay",
              "size": 10,
              "solidity": 0.2
             }
            },
            "type": "histogram"
           }
          ],
          "histogram2d": [
           {
            "colorbar": {
             "outlinewidth": 0,
             "ticks": ""
            },
            "colorscale": [
             [
              0,
              "#0d0887"
             ],
             [
              0.1111111111111111,
              "#46039f"
             ],
             [
              0.2222222222222222,
              "#7201a8"
             ],
             [
              0.3333333333333333,
              "#9c179e"
             ],
             [
              0.4444444444444444,
              "#bd3786"
             ],
             [
              0.5555555555555556,
              "#d8576b"
             ],
             [
              0.6666666666666666,
              "#ed7953"
             ],
             [
              0.7777777777777778,
              "#fb9f3a"
             ],
             [
              0.8888888888888888,
              "#fdca26"
             ],
             [
              1,
              "#f0f921"
             ]
            ],
            "type": "histogram2d"
           }
          ],
          "histogram2dcontour": [
           {
            "colorbar": {
             "outlinewidth": 0,
             "ticks": ""
            },
            "colorscale": [
             [
              0,
              "#0d0887"
             ],
             [
              0.1111111111111111,
              "#46039f"
             ],
             [
              0.2222222222222222,
              "#7201a8"
             ],
             [
              0.3333333333333333,
              "#9c179e"
             ],
             [
              0.4444444444444444,
              "#bd3786"
             ],
             [
              0.5555555555555556,
              "#d8576b"
             ],
             [
              0.6666666666666666,
              "#ed7953"
             ],
             [
              0.7777777777777778,
              "#fb9f3a"
             ],
             [
              0.8888888888888888,
              "#fdca26"
             ],
             [
              1,
              "#f0f921"
             ]
            ],
            "type": "histogram2dcontour"
           }
          ],
          "mesh3d": [
           {
            "colorbar": {
             "outlinewidth": 0,
             "ticks": ""
            },
            "type": "mesh3d"
           }
          ],
          "parcoords": [
           {
            "line": {
             "colorbar": {
              "outlinewidth": 0,
              "ticks": ""
             }
            },
            "type": "parcoords"
           }
          ],
          "pie": [
           {
            "automargin": true,
            "type": "pie"
           }
          ],
          "scatter": [
           {
            "fillpattern": {
             "fillmode": "overlay",
             "size": 10,
             "solidity": 0.2
            },
            "type": "scatter"
           }
          ],
          "scatter3d": [
           {
            "line": {
             "colorbar": {
              "outlinewidth": 0,
              "ticks": ""
             }
            },
            "marker": {
             "colorbar": {
              "outlinewidth": 0,
              "ticks": ""
             }
            },
            "type": "scatter3d"
           }
          ],
          "scattercarpet": [
           {
            "marker": {
             "colorbar": {
              "outlinewidth": 0,
              "ticks": ""
             }
            },
            "type": "scattercarpet"
           }
          ],
          "scattergeo": [
           {
            "marker": {
             "colorbar": {
              "outlinewidth": 0,
              "ticks": ""
             }
            },
            "type": "scattergeo"
           }
          ],
          "scattergl": [
           {
            "marker": {
             "colorbar": {
              "outlinewidth": 0,
              "ticks": ""
             }
            },
            "type": "scattergl"
           }
          ],
          "scattermapbox": [
           {
            "marker": {
             "colorbar": {
              "outlinewidth": 0,
              "ticks": ""
             }
            },
            "type": "scattermapbox"
           }
          ],
          "scatterpolar": [
           {
            "marker": {
             "colorbar": {
              "outlinewidth": 0,
              "ticks": ""
             }
            },
            "type": "scatterpolar"
           }
          ],
          "scatterpolargl": [
           {
            "marker": {
             "colorbar": {
              "outlinewidth": 0,
              "ticks": ""
             }
            },
            "type": "scatterpolargl"
           }
          ],
          "scatterternary": [
           {
            "marker": {
             "colorbar": {
              "outlinewidth": 0,
              "ticks": ""
             }
            },
            "type": "scatterternary"
           }
          ],
          "surface": [
           {
            "colorbar": {
             "outlinewidth": 0,
             "ticks": ""
            },
            "colorscale": [
             [
              0,
              "#0d0887"
             ],
             [
              0.1111111111111111,
              "#46039f"
             ],
             [
              0.2222222222222222,
              "#7201a8"
             ],
             [
              0.3333333333333333,
              "#9c179e"
             ],
             [
              0.4444444444444444,
              "#bd3786"
             ],
             [
              0.5555555555555556,
              "#d8576b"
             ],
             [
              0.6666666666666666,
              "#ed7953"
             ],
             [
              0.7777777777777778,
              "#fb9f3a"
             ],
             [
              0.8888888888888888,
              "#fdca26"
             ],
             [
              1,
              "#f0f921"
             ]
            ],
            "type": "surface"
           }
          ],
          "table": [
           {
            "cells": {
             "fill": {
              "color": "#EBF0F8"
             },
             "line": {
              "color": "white"
             }
            },
            "header": {
             "fill": {
              "color": "#C8D4E3"
             },
             "line": {
              "color": "white"
             }
            },
            "type": "table"
           }
          ]
         },
         "layout": {
          "annotationdefaults": {
           "arrowcolor": "#2a3f5f",
           "arrowhead": 0,
           "arrowwidth": 1
          },
          "autotypenumbers": "strict",
          "coloraxis": {
           "colorbar": {
            "outlinewidth": 0,
            "ticks": ""
           }
          },
          "colorscale": {
           "diverging": [
            [
             0,
             "#8e0152"
            ],
            [
             0.1,
             "#c51b7d"
            ],
            [
             0.2,
             "#de77ae"
            ],
            [
             0.3,
             "#f1b6da"
            ],
            [
             0.4,
             "#fde0ef"
            ],
            [
             0.5,
             "#f7f7f7"
            ],
            [
             0.6,
             "#e6f5d0"
            ],
            [
             0.7,
             "#b8e186"
            ],
            [
             0.8,
             "#7fbc41"
            ],
            [
             0.9,
             "#4d9221"
            ],
            [
             1,
             "#276419"
            ]
           ],
           "sequential": [
            [
             0,
             "#0d0887"
            ],
            [
             0.1111111111111111,
             "#46039f"
            ],
            [
             0.2222222222222222,
             "#7201a8"
            ],
            [
             0.3333333333333333,
             "#9c179e"
            ],
            [
             0.4444444444444444,
             "#bd3786"
            ],
            [
             0.5555555555555556,
             "#d8576b"
            ],
            [
             0.6666666666666666,
             "#ed7953"
            ],
            [
             0.7777777777777778,
             "#fb9f3a"
            ],
            [
             0.8888888888888888,
             "#fdca26"
            ],
            [
             1,
             "#f0f921"
            ]
           ],
           "sequentialminus": [
            [
             0,
             "#0d0887"
            ],
            [
             0.1111111111111111,
             "#46039f"
            ],
            [
             0.2222222222222222,
             "#7201a8"
            ],
            [
             0.3333333333333333,
             "#9c179e"
            ],
            [
             0.4444444444444444,
             "#bd3786"
            ],
            [
             0.5555555555555556,
             "#d8576b"
            ],
            [
             0.6666666666666666,
             "#ed7953"
            ],
            [
             0.7777777777777778,
             "#fb9f3a"
            ],
            [
             0.8888888888888888,
             "#fdca26"
            ],
            [
             1,
             "#f0f921"
            ]
           ]
          },
          "colorway": [
           "#636efa",
           "#EF553B",
           "#00cc96",
           "#ab63fa",
           "#FFA15A",
           "#19d3f3",
           "#FF6692",
           "#B6E880",
           "#FF97FF",
           "#FECB52"
          ],
          "font": {
           "color": "#2a3f5f"
          },
          "geo": {
           "bgcolor": "white",
           "lakecolor": "white",
           "landcolor": "white",
           "showlakes": true,
           "showland": true,
           "subunitcolor": "#C8D4E3"
          },
          "hoverlabel": {
           "align": "left"
          },
          "hovermode": "closest",
          "mapbox": {
           "style": "light"
          },
          "paper_bgcolor": "white",
          "plot_bgcolor": "white",
          "polar": {
           "angularaxis": {
            "gridcolor": "#EBF0F8",
            "linecolor": "#EBF0F8",
            "ticks": ""
           },
           "bgcolor": "white",
           "radialaxis": {
            "gridcolor": "#EBF0F8",
            "linecolor": "#EBF0F8",
            "ticks": ""
           }
          },
          "scene": {
           "xaxis": {
            "backgroundcolor": "white",
            "gridcolor": "#DFE8F3",
            "gridwidth": 2,
            "linecolor": "#EBF0F8",
            "showbackground": true,
            "ticks": "",
            "zerolinecolor": "#EBF0F8"
           },
           "yaxis": {
            "backgroundcolor": "white",
            "gridcolor": "#DFE8F3",
            "gridwidth": 2,
            "linecolor": "#EBF0F8",
            "showbackground": true,
            "ticks": "",
            "zerolinecolor": "#EBF0F8"
           },
           "zaxis": {
            "backgroundcolor": "white",
            "gridcolor": "#DFE8F3",
            "gridwidth": 2,
            "linecolor": "#EBF0F8",
            "showbackground": true,
            "ticks": "",
            "zerolinecolor": "#EBF0F8"
           }
          },
          "shapedefaults": {
           "line": {
            "color": "#2a3f5f"
           }
          },
          "ternary": {
           "aaxis": {
            "gridcolor": "#DFE8F3",
            "linecolor": "#A2B1C6",
            "ticks": ""
           },
           "baxis": {
            "gridcolor": "#DFE8F3",
            "linecolor": "#A2B1C6",
            "ticks": ""
           },
           "bgcolor": "white",
           "caxis": {
            "gridcolor": "#DFE8F3",
            "linecolor": "#A2B1C6",
            "ticks": ""
           }
          },
          "title": {
           "x": 0.05
          },
          "xaxis": {
           "automargin": true,
           "gridcolor": "#EBF0F8",
           "linecolor": "#EBF0F8",
           "ticks": "",
           "title": {
            "standoff": 15
           },
           "zerolinecolor": "#EBF0F8",
           "zerolinewidth": 2
          },
          "yaxis": {
           "automargin": true,
           "gridcolor": "#EBF0F8",
           "linecolor": "#EBF0F8",
           "ticks": "",
           "title": {
            "standoff": 15
           },
           "zerolinecolor": "#EBF0F8",
           "zerolinewidth": 2
          }
         }
        },
        "title": {
         "text": "Cumulative tree cover loss on Borneo per country and province (2001-2022)"
        },
        "xaxis": {
         "title": {
          "text": "Year"
         }
        },
        "yaxis": {
         "title": {
          "text": "Cumulative Tree Cover Loss (ha)"
         }
        }
       }
      }
     },
     "metadata": {},
     "output_type": "display_data"
    }
   ],
   "source": [
    "import pandas as pd\n",
    "import plotly.graph_objs as go\n",
    "\n",
    "# Load the dataset\n",
    "df = pd.read_csv('../Datasets/Deforestation/Subnational 1 tree cover loss.csv')\n",
    "\n",
    "# Define the years to plot\n",
    "years = [f'tc_loss_ha_{year}' for year in range(2001, 2023)]\n",
    "\n",
    "# Mapping dictionary from Indonesian to English names for Kalimantan provinces\n",
    "province_mapping = {\n",
    "    'Kalimantan Barat': 'West Kalimantan',\n",
    "    'Kalimantan Tengah': 'Central Kalimantan',\n",
    "    'Kalimantan Timur': 'East Kalimantan',\n",
    "    'Kalimantan Selatan': 'South Kalimantan'\n",
    "}\n",
    "\n",
    "# Create an empty DataFrame to store totals\n",
    "totals_df = pd.DataFrame(columns=['year', 'cumulative_tc_loss_ha'])\n",
    "\n",
    "# Loop through each province\n",
    "for province_indo, province_eng in province_mapping.items():\n",
    "    # Filter the DataFrame for the current province and threshold == 0\n",
    "    province_df = df[(df['subnational1'] == province_indo) & (df['threshold'] == 0)]\n",
    "    \n",
    "    # Keep only relevant columns\n",
    "    columns_to_keep = ['subnational1'] + years\n",
    "    province_df = province_df[columns_to_keep]\n",
    "    \n",
    "    # Melt the DataFrame to long format\n",
    "    province_df_long = province_df.melt(id_vars='subnational1', var_name='year', value_name='tc_loss_ha')\n",
    "    \n",
    "    # Extract year from the column name and convert to integer\n",
    "    province_df_long['year'] = province_df_long['year'].str.extract(r'(\\d+)').astype(int)\n",
    "    \n",
    "    # Sort the DataFrame by year\n",
    "    province_df_long = province_df_long.sort_values(by='year')\n",
    "    \n",
    "    # Calculate cumulative tree loss\n",
    "    province_df_long['cumulative_tc_loss_ha'] = province_df_long['tc_loss_ha'].cumsum()\n",
    "    \n",
    "    # Append to totals_df\n",
    "    totals_df = pd.concat([totals_df, province_df_long[['year', 'cumulative_tc_loss_ha']]], ignore_index=True)\n",
    "\n",
    "# Calculate the total cumulative tree loss across all provinces\n",
    "totals_df = totals_df.groupby('year')['cumulative_tc_loss_ha'].sum().reset_index()\n",
    "\n",
    "# Initialize Figure using Plotly\n",
    "fig = go.Figure()\n",
    "\n",
    "# Plot cumulative tree cover loss for Sarawak\n",
    "sarawak_df = df[(df['subnational1'] == 'Sarawak') & (df['threshold'] == 0)]\n",
    "sarawak_df = sarawak_df[years]\n",
    "sarawak_df_long = sarawak_df.melt(var_name='year', value_name='tc_loss_ha')\n",
    "sarawak_df_long['year'] = sarawak_df_long['year'].str.extract(r'(\\d+)').astype(int)\n",
    "sarawak_df_long = sarawak_df_long.sort_values(by='year')\n",
    "sarawak_df_long['cumulative_tc_loss_ha'] = sarawak_df_long['tc_loss_ha'].cumsum()\n",
    "\n",
    "fig.add_trace(go.Scatter(x=sarawak_df_long['year'], \n",
    "                         y=sarawak_df_long['cumulative_tc_loss_ha'], \n",
    "                         mode='lines', \n",
    "                         name='Sarawak'))\n",
    "\n",
    "# Plot cumulative tree cover loss for Sabah\n",
    "sabah_df = df[(df['subnational1'] == 'Sabah') & (df['threshold'] == 0)]\n",
    "sabah_df = sabah_df[years]\n",
    "sabah_df_long = sabah_df.melt(var_name='year', value_name='tc_loss_ha')\n",
    "sabah_df_long['year'] = sabah_df_long['year'].str.extract(r'(\\d+)').astype(int)\n",
    "sabah_df_long = sabah_df_long.sort_values(by='year')\n",
    "sabah_df_long['cumulative_tc_loss_ha'] = sabah_df_long['tc_loss_ha'].cumsum()\n",
    "\n",
    "fig.add_trace(go.Scatter(x=sabah_df_long['year'], \n",
    "                         y=sabah_df_long['cumulative_tc_loss_ha'], \n",
    "                         mode='lines', \n",
    "                         name='Sabah'))\n",
    "\n",
    "# Combine Sarawak and Sabah into 'East Malaysia'\n",
    "east_malaysia_df = pd.DataFrame()\n",
    "east_malaysia_df['year'] = sarawak_df_long['year']\n",
    "east_malaysia_df['tc_loss_ha'] = sarawak_df_long['tc_loss_ha'] + sabah_df_long['tc_loss_ha']\n",
    "east_malaysia_df['cumulative_tc_loss_ha'] = sarawak_df_long['cumulative_tc_loss_ha'] + sabah_df_long['cumulative_tc_loss_ha']\n",
    "\n",
    "fig.add_trace(go.Scatter(x=east_malaysia_df['year'], \n",
    "                         y=east_malaysia_df['cumulative_tc_loss_ha'], \n",
    "                         mode='lines', \n",
    "                         name='East Malaysia'))\n",
    "\n",
    "# Plot cumulative tree cover loss for Kalimantan provinces\n",
    "for province_indo, province_eng in province_mapping.items():\n",
    "    # Filter the DataFrame for the current province and threshold == 0\n",
    "    province_df = df[(df['subnational1'] == province_indo) & (df['threshold'] == 0)]\n",
    "    \n",
    "    # Keep only relevant columns\n",
    "    province_df = province_df[years]\n",
    "    \n",
    "    # Melt the DataFrame to long format\n",
    "    province_df_long = province_df.melt(var_name='year', value_name='tc_loss_ha')\n",
    "    province_df_long['year'] = province_df_long['year'].str.extract(r'(\\d+)').astype(int)\n",
    "    province_df_long = province_df_long.sort_values(by='year')\n",
    "    \n",
    "    # Calculate cumulative tree loss\n",
    "    province_df_long['cumulative_tc_loss_ha'] = province_df_long['tc_loss_ha'].cumsum()\n",
    "    \n",
    "    # Add trace for the current province\n",
    "    fig.add_trace(go.Scatter(x=province_df_long['year'], \n",
    "                             y=province_df_long['cumulative_tc_loss_ha'], \n",
    "                             mode='lines', \n",
    "                             name=province_eng))\n",
    "\n",
    "# Add trace for total cumulative tree cover loss in Kalimantan\n",
    "fig.add_trace(go.Scatter(x=totals_df['year'], \n",
    "                         y=totals_df['cumulative_tc_loss_ha'], \n",
    "                         mode='lines', \n",
    "                         name='Total for Kalimantan'))\n",
    "\n",
    "# Update layout\n",
    "fig.update_layout(title='Cumulative tree cover loss on Borneo per country and province (2001-2022)',\n",
    "                  xaxis_title='Year',\n",
    "                  yaxis_title='Cumulative Tree Cover Loss (ha)',\n",
    "                  legend_title='Province',\n",
    "                  hovermode='x unified',\n",
    "                  template='plotly_white')\n",
    "\n",
    "# Show the plot\n",
    "fig.show()\n"
   ]
  },
  {
   "cell_type": "markdown",
   "metadata": {},
   "source": [
    "There seems to be a strong negative correlation between the palm oil production and the total tree cover. This can be seen in the next graph, wich contains the data for Indonesia."
   ]
  },
  {
   "cell_type": "code",
   "execution_count": null,
   "metadata": {
    "tags": [
     "hide-input"
    ]
   },
   "outputs": [],
   "source": [
    "import pandas as pd\n",
    "import plotly.graph_objects as go\n",
    "from scipy import interpolate\n",
    "from plotly.subplots import make_subplots\n",
    "\n",
    "# Load palm oil production data\n",
    "palm = pd.read_csv('../Datasets/Oils/archive/cleaned/palm.csv')\n",
    "\n",
    "# Filter data for Indonesia and years >= 2000\n",
    "df_Indo = palm[(palm['Country'] == 'Indonesia') & (palm['Year'] >= 2000)]\n",
    "\n",
    "# Extract production values and years\n",
    "xi = df_Indo['Production'].values\n",
    "years_palm = df_Indo['Year'].values\n",
    "\n",
    "# Load the dataset for Kalimantan forest cover\n",
    "df = pd.read_csv('../Datasets/Deforestation/Subnational 1 tree cover loss.csv')\n",
    "\n",
    "# Filter for Kalimantan provinces and threshold == 0\n",
    "provinces = ['Kalimantan Barat', 'Kalimantan Tengah', 'Kalimantan Timur', 'Kalimantan Selatan']\n",
    "kalimantan_df = df[(df['subnational1'].isin(provinces)) & (df['threshold'] == 0)]\n",
    "\n",
    "# Calculate initial tree cover in 2000\n",
    "initial_extent_2000 = kalimantan_df['extent_2000_ha'].sum()\n",
    "\n",
    "# Calculate tree cover gain spread over 22 years\n",
    "gain_spread = (kalimantan_df['gain_2000-2020_ha'].sum() / 22)\n",
    "\n",
    "# Calculate cumulative tree cover losses from 2001 to 2022\n",
    "years_tree_cover = range(2001, 2023)\n",
    "cumulative_losses = []\n",
    "for year in years_tree_cover:\n",
    "    loss_column = f'tc_loss_ha_{year}'\n",
    "    cumulative_loss = (kalimantan_df[loss_column].sum() - gain_spread)\n",
    "    cumulative_losses.append(cumulative_loss)\n",
    "\n",
    "# Calculate total tree cover per year\n",
    "annual_tree_cover = []\n",
    "for i, year in enumerate(years_tree_cover):\n",
    "    total_tree_cover = initial_extent_2000 - sum(cumulative_losses[:i + 1])\n",
    "    annual_tree_cover.append(total_tree_cover)\n",
    "\n",
    "# Interpolate palm oil production to match the years_tree_cover\n",
    "interp_func = interpolate.interp1d(years_palm, xi, kind='linear', fill_value='extrapolate')\n",
    "xi_interpolated = interp_func(list(years_tree_cover))\n",
    "\n",
    "# Create subplots with two y-axes\n",
    "fig = make_subplots(specs=[[{\"secondary_y\": True}]])\n",
    "\n",
    "# Add total tree cover trace\n",
    "fig.add_trace(go.Scatter(x=list(years_tree_cover), y=annual_tree_cover,\n",
    "                    mode='lines',\n",
    "                    name='Total Tree Cover (Kalimantan)',\n",
    "                    line=dict(color='blue')),\n",
    "                    secondary_y=False)\n",
    "\n",
    "# Add palm oil production trace\n",
    "fig.add_trace(go.Scatter(x=list(years_tree_cover), y=xi_interpolated,\n",
    "                    mode='lines',\n",
    "                    name='Palm Oil Production (Indonesia)',\n",
    "                    line=dict(color='green')),\n",
    "                    secondary_y=True)\n",
    "\n",
    "# Update layout\n",
    "fig.update_layout(title='Palm Oil Production vs Total Tree Cover in Kalimantan (2000-2022)',\n",
    "                  xaxis_title='Year',\n",
    "                  plot_bgcolor='white')\n",
    "\n",
    "# Set y-axis titles\n",
    "fig.update_yaxes(title_text=\"Total Tree Cover (ha)\", secondary_y=False)\n",
    "fig.update_yaxes(title_text=\"Palm Oil Production (tonnes)\", secondary_y=True)\n",
    "\n",
    "# Show figure\n",
    "fig.show()\n"
   ]
  },
  {
   "cell_type": "code",
   "execution_count": 48,
   "metadata": {
    "tags": [
     "hide-input"
    ]
   },
   "outputs": [
    {
     "data": {
      "application/vnd.plotly.v1+json": {
       "config": {
        "plotlyServerURL": "https://plot.ly"
       },
       "data": [
        {
         "line": {
          "color": "blue",
          "width": 3
         },
         "mode": "lines+markers",
         "type": "scatter3d",
         "x": [
          2001,
          2002,
          2003,
          2004,
          2005,
          2006,
          2007,
          2008,
          2009,
          2010,
          2011,
          2012,
          2013,
          2014,
          2015,
          2016,
          2017,
          2018,
          2019,
          2020,
          2021,
          2022
         ],
         "y": [
          237518,
          546186,
          804759,
          1243404,
          1625827,
          2190510,
          2801027,
          3376423,
          4187435,
          4647746,
          5326304,
          6253562,
          6798732,
          7672147,
          8501561,
          9765338,
          10292202,
          10823550,
          11333589,
          11710443,
          12017330,
          12356327
         ],
         "z": [
          9200,
          10300,
          11970,
          13560,
          15560,
          16600,
          18000,
          20500,
          22000,
          23600,
          26200,
          28500,
          30500,
          33000,
          32000,
          36000,
          39500,
          41500,
          42500,
          43500,
          42000,
          46500
         ]
        }
       ],
       "layout": {
        "scene": {
         "xaxis": {
          "title": {
           "text": "Year"
          }
         },
         "yaxis": {
          "title": {
           "text": "Cumulative Tree Cover Loss (ha)"
          }
         },
         "zaxis": {
          "title": {
           "text": "Palm Oil Production"
          }
         }
        },
        "template": {
         "data": {
          "bar": [
           {
            "error_x": {
             "color": "#2a3f5f"
            },
            "error_y": {
             "color": "#2a3f5f"
            },
            "marker": {
             "line": {
              "color": "#E5ECF6",
              "width": 0.5
             },
             "pattern": {
              "fillmode": "overlay",
              "size": 10,
              "solidity": 0.2
             }
            },
            "type": "bar"
           }
          ],
          "barpolar": [
           {
            "marker": {
             "line": {
              "color": "#E5ECF6",
              "width": 0.5
             },
             "pattern": {
              "fillmode": "overlay",
              "size": 10,
              "solidity": 0.2
             }
            },
            "type": "barpolar"
           }
          ],
          "carpet": [
           {
            "aaxis": {
             "endlinecolor": "#2a3f5f",
             "gridcolor": "white",
             "linecolor": "white",
             "minorgridcolor": "white",
             "startlinecolor": "#2a3f5f"
            },
            "baxis": {
             "endlinecolor": "#2a3f5f",
             "gridcolor": "white",
             "linecolor": "white",
             "minorgridcolor": "white",
             "startlinecolor": "#2a3f5f"
            },
            "type": "carpet"
           }
          ],
          "choropleth": [
           {
            "colorbar": {
             "outlinewidth": 0,
             "ticks": ""
            },
            "type": "choropleth"
           }
          ],
          "contour": [
           {
            "colorbar": {
             "outlinewidth": 0,
             "ticks": ""
            },
            "colorscale": [
             [
              0,
              "#0d0887"
             ],
             [
              0.1111111111111111,
              "#46039f"
             ],
             [
              0.2222222222222222,
              "#7201a8"
             ],
             [
              0.3333333333333333,
              "#9c179e"
             ],
             [
              0.4444444444444444,
              "#bd3786"
             ],
             [
              0.5555555555555556,
              "#d8576b"
             ],
             [
              0.6666666666666666,
              "#ed7953"
             ],
             [
              0.7777777777777778,
              "#fb9f3a"
             ],
             [
              0.8888888888888888,
              "#fdca26"
             ],
             [
              1,
              "#f0f921"
             ]
            ],
            "type": "contour"
           }
          ],
          "contourcarpet": [
           {
            "colorbar": {
             "outlinewidth": 0,
             "ticks": ""
            },
            "type": "contourcarpet"
           }
          ],
          "heatmap": [
           {
            "colorbar": {
             "outlinewidth": 0,
             "ticks": ""
            },
            "colorscale": [
             [
              0,
              "#0d0887"
             ],
             [
              0.1111111111111111,
              "#46039f"
             ],
             [
              0.2222222222222222,
              "#7201a8"
             ],
             [
              0.3333333333333333,
              "#9c179e"
             ],
             [
              0.4444444444444444,
              "#bd3786"
             ],
             [
              0.5555555555555556,
              "#d8576b"
             ],
             [
              0.6666666666666666,
              "#ed7953"
             ],
             [
              0.7777777777777778,
              "#fb9f3a"
             ],
             [
              0.8888888888888888,
              "#fdca26"
             ],
             [
              1,
              "#f0f921"
             ]
            ],
            "type": "heatmap"
           }
          ],
          "heatmapgl": [
           {
            "colorbar": {
             "outlinewidth": 0,
             "ticks": ""
            },
            "colorscale": [
             [
              0,
              "#0d0887"
             ],
             [
              0.1111111111111111,
              "#46039f"
             ],
             [
              0.2222222222222222,
              "#7201a8"
             ],
             [
              0.3333333333333333,
              "#9c179e"
             ],
             [
              0.4444444444444444,
              "#bd3786"
             ],
             [
              0.5555555555555556,
              "#d8576b"
             ],
             [
              0.6666666666666666,
              "#ed7953"
             ],
             [
              0.7777777777777778,
              "#fb9f3a"
             ],
             [
              0.8888888888888888,
              "#fdca26"
             ],
             [
              1,
              "#f0f921"
             ]
            ],
            "type": "heatmapgl"
           }
          ],
          "histogram": [
           {
            "marker": {
             "pattern": {
              "fillmode": "overlay",
              "size": 10,
              "solidity": 0.2
             }
            },
            "type": "histogram"
           }
          ],
          "histogram2d": [
           {
            "colorbar": {
             "outlinewidth": 0,
             "ticks": ""
            },
            "colorscale": [
             [
              0,
              "#0d0887"
             ],
             [
              0.1111111111111111,
              "#46039f"
             ],
             [
              0.2222222222222222,
              "#7201a8"
             ],
             [
              0.3333333333333333,
              "#9c179e"
             ],
             [
              0.4444444444444444,
              "#bd3786"
             ],
             [
              0.5555555555555556,
              "#d8576b"
             ],
             [
              0.6666666666666666,
              "#ed7953"
             ],
             [
              0.7777777777777778,
              "#fb9f3a"
             ],
             [
              0.8888888888888888,
              "#fdca26"
             ],
             [
              1,
              "#f0f921"
             ]
            ],
            "type": "histogram2d"
           }
          ],
          "histogram2dcontour": [
           {
            "colorbar": {
             "outlinewidth": 0,
             "ticks": ""
            },
            "colorscale": [
             [
              0,
              "#0d0887"
             ],
             [
              0.1111111111111111,
              "#46039f"
             ],
             [
              0.2222222222222222,
              "#7201a8"
             ],
             [
              0.3333333333333333,
              "#9c179e"
             ],
             [
              0.4444444444444444,
              "#bd3786"
             ],
             [
              0.5555555555555556,
              "#d8576b"
             ],
             [
              0.6666666666666666,
              "#ed7953"
             ],
             [
              0.7777777777777778,
              "#fb9f3a"
             ],
             [
              0.8888888888888888,
              "#fdca26"
             ],
             [
              1,
              "#f0f921"
             ]
            ],
            "type": "histogram2dcontour"
           }
          ],
          "mesh3d": [
           {
            "colorbar": {
             "outlinewidth": 0,
             "ticks": ""
            },
            "type": "mesh3d"
           }
          ],
          "parcoords": [
           {
            "line": {
             "colorbar": {
              "outlinewidth": 0,
              "ticks": ""
             }
            },
            "type": "parcoords"
           }
          ],
          "pie": [
           {
            "automargin": true,
            "type": "pie"
           }
          ],
          "scatter": [
           {
            "fillpattern": {
             "fillmode": "overlay",
             "size": 10,
             "solidity": 0.2
            },
            "type": "scatter"
           }
          ],
          "scatter3d": [
           {
            "line": {
             "colorbar": {
              "outlinewidth": 0,
              "ticks": ""
             }
            },
            "marker": {
             "colorbar": {
              "outlinewidth": 0,
              "ticks": ""
             }
            },
            "type": "scatter3d"
           }
          ],
          "scattercarpet": [
           {
            "marker": {
             "colorbar": {
              "outlinewidth": 0,
              "ticks": ""
             }
            },
            "type": "scattercarpet"
           }
          ],
          "scattergeo": [
           {
            "marker": {
             "colorbar": {
              "outlinewidth": 0,
              "ticks": ""
             }
            },
            "type": "scattergeo"
           }
          ],
          "scattergl": [
           {
            "marker": {
             "colorbar": {
              "outlinewidth": 0,
              "ticks": ""
             }
            },
            "type": "scattergl"
           }
          ],
          "scattermapbox": [
           {
            "marker": {
             "colorbar": {
              "outlinewidth": 0,
              "ticks": ""
             }
            },
            "type": "scattermapbox"
           }
          ],
          "scatterpolar": [
           {
            "marker": {
             "colorbar": {
              "outlinewidth": 0,
              "ticks": ""
             }
            },
            "type": "scatterpolar"
           }
          ],
          "scatterpolargl": [
           {
            "marker": {
             "colorbar": {
              "outlinewidth": 0,
              "ticks": ""
             }
            },
            "type": "scatterpolargl"
           }
          ],
          "scatterternary": [
           {
            "marker": {
             "colorbar": {
              "outlinewidth": 0,
              "ticks": ""
             }
            },
            "type": "scatterternary"
           }
          ],
          "surface": [
           {
            "colorbar": {
             "outlinewidth": 0,
             "ticks": ""
            },
            "colorscale": [
             [
              0,
              "#0d0887"
             ],
             [
              0.1111111111111111,
              "#46039f"
             ],
             [
              0.2222222222222222,
              "#7201a8"
             ],
             [
              0.3333333333333333,
              "#9c179e"
             ],
             [
              0.4444444444444444,
              "#bd3786"
             ],
             [
              0.5555555555555556,
              "#d8576b"
             ],
             [
              0.6666666666666666,
              "#ed7953"
             ],
             [
              0.7777777777777778,
              "#fb9f3a"
             ],
             [
              0.8888888888888888,
              "#fdca26"
             ],
             [
              1,
              "#f0f921"
             ]
            ],
            "type": "surface"
           }
          ],
          "table": [
           {
            "cells": {
             "fill": {
              "color": "#EBF0F8"
             },
             "line": {
              "color": "white"
             }
            },
            "header": {
             "fill": {
              "color": "#C8D4E3"
             },
             "line": {
              "color": "white"
             }
            },
            "type": "table"
           }
          ]
         },
         "layout": {
          "annotationdefaults": {
           "arrowcolor": "#2a3f5f",
           "arrowhead": 0,
           "arrowwidth": 1
          },
          "autotypenumbers": "strict",
          "coloraxis": {
           "colorbar": {
            "outlinewidth": 0,
            "ticks": ""
           }
          },
          "colorscale": {
           "diverging": [
            [
             0,
             "#8e0152"
            ],
            [
             0.1,
             "#c51b7d"
            ],
            [
             0.2,
             "#de77ae"
            ],
            [
             0.3,
             "#f1b6da"
            ],
            [
             0.4,
             "#fde0ef"
            ],
            [
             0.5,
             "#f7f7f7"
            ],
            [
             0.6,
             "#e6f5d0"
            ],
            [
             0.7,
             "#b8e186"
            ],
            [
             0.8,
             "#7fbc41"
            ],
            [
             0.9,
             "#4d9221"
            ],
            [
             1,
             "#276419"
            ]
           ],
           "sequential": [
            [
             0,
             "#0d0887"
            ],
            [
             0.1111111111111111,
             "#46039f"
            ],
            [
             0.2222222222222222,
             "#7201a8"
            ],
            [
             0.3333333333333333,
             "#9c179e"
            ],
            [
             0.4444444444444444,
             "#bd3786"
            ],
            [
             0.5555555555555556,
             "#d8576b"
            ],
            [
             0.6666666666666666,
             "#ed7953"
            ],
            [
             0.7777777777777778,
             "#fb9f3a"
            ],
            [
             0.8888888888888888,
             "#fdca26"
            ],
            [
             1,
             "#f0f921"
            ]
           ],
           "sequentialminus": [
            [
             0,
             "#0d0887"
            ],
            [
             0.1111111111111111,
             "#46039f"
            ],
            [
             0.2222222222222222,
             "#7201a8"
            ],
            [
             0.3333333333333333,
             "#9c179e"
            ],
            [
             0.4444444444444444,
             "#bd3786"
            ],
            [
             0.5555555555555556,
             "#d8576b"
            ],
            [
             0.6666666666666666,
             "#ed7953"
            ],
            [
             0.7777777777777778,
             "#fb9f3a"
            ],
            [
             0.8888888888888888,
             "#fdca26"
            ],
            [
             1,
             "#f0f921"
            ]
           ]
          },
          "colorway": [
           "#636efa",
           "#EF553B",
           "#00cc96",
           "#ab63fa",
           "#FFA15A",
           "#19d3f3",
           "#FF6692",
           "#B6E880",
           "#FF97FF",
           "#FECB52"
          ],
          "font": {
           "color": "#2a3f5f"
          },
          "geo": {
           "bgcolor": "white",
           "lakecolor": "white",
           "landcolor": "#E5ECF6",
           "showlakes": true,
           "showland": true,
           "subunitcolor": "white"
          },
          "hoverlabel": {
           "align": "left"
          },
          "hovermode": "closest",
          "mapbox": {
           "style": "light"
          },
          "paper_bgcolor": "white",
          "plot_bgcolor": "#E5ECF6",
          "polar": {
           "angularaxis": {
            "gridcolor": "white",
            "linecolor": "white",
            "ticks": ""
           },
           "bgcolor": "#E5ECF6",
           "radialaxis": {
            "gridcolor": "white",
            "linecolor": "white",
            "ticks": ""
           }
          },
          "scene": {
           "xaxis": {
            "backgroundcolor": "#E5ECF6",
            "gridcolor": "white",
            "gridwidth": 2,
            "linecolor": "white",
            "showbackground": true,
            "ticks": "",
            "zerolinecolor": "white"
           },
           "yaxis": {
            "backgroundcolor": "#E5ECF6",
            "gridcolor": "white",
            "gridwidth": 2,
            "linecolor": "white",
            "showbackground": true,
            "ticks": "",
            "zerolinecolor": "white"
           },
           "zaxis": {
            "backgroundcolor": "#E5ECF6",
            "gridcolor": "white",
            "gridwidth": 2,
            "linecolor": "white",
            "showbackground": true,
            "ticks": "",
            "zerolinecolor": "white"
           }
          },
          "shapedefaults": {
           "line": {
            "color": "#2a3f5f"
           }
          },
          "ternary": {
           "aaxis": {
            "gridcolor": "white",
            "linecolor": "white",
            "ticks": ""
           },
           "baxis": {
            "gridcolor": "white",
            "linecolor": "white",
            "ticks": ""
           },
           "bgcolor": "#E5ECF6",
           "caxis": {
            "gridcolor": "white",
            "linecolor": "white",
            "ticks": ""
           }
          },
          "title": {
           "x": 0.05
          },
          "xaxis": {
           "automargin": true,
           "gridcolor": "white",
           "linecolor": "white",
           "ticks": "",
           "title": {
            "standoff": 15
           },
           "zerolinecolor": "white",
           "zerolinewidth": 2
          },
          "yaxis": {
           "automargin": true,
           "gridcolor": "white",
           "linecolor": "white",
           "ticks": "",
           "title": {
            "standoff": 15
           },
           "zerolinecolor": "white",
           "zerolinewidth": 2
          }
         }
        },
        "title": {
         "text": "Palm oil production vs. cumulative tree cover loss in Kalimantan (2001-2022)"
        }
       }
      }
     },
     "metadata": {},
     "output_type": "display_data"
    }
   ],
   "source": [
    "import pandas as pd\n",
    "import plotly.graph_objs as go\n",
    "\n",
    "# Load the dataset for tree cover loss\n",
    "df = pd.read_csv('../Datasets/Deforestation/Subnational 1 tree cover loss.csv')\n",
    "# Define the years to plot\n",
    "years = [f'tc_loss_ha_{year}' for year in range(2001, 2023)]\n",
    "\n",
    "# Mapping dictionary from Indonesian to English names for Kalimantan provinces\n",
    "province_mapping = {\n",
    "    'Kalimantan Barat': 'West Kalimantan',\n",
    "    'Kalimantan Tengah': 'Central Kalimantan',\n",
    "    'Kalimantan Timur': 'East Kalimantan',\n",
    "    'Kalimantan Selatan': 'South Kalimantan'\n",
    "}\n",
    "\n",
    "# Create an empty DataFrame to store totals\n",
    "totals_df = pd.DataFrame(columns=['year', 'cumulative_tc_loss_ha'])\n",
    "\n",
    "# Loop through each province\n",
    "for province_indo, province_eng in province_mapping.items():\n",
    "    # Filter the DataFrame for the current province and threshold == 0\n",
    "    province_df = df[(df['subnational1'] == province_indo) & (df['threshold'] == 0)]\n",
    "    \n",
    "    # Keep only relevant columns\n",
    "    columns_to_keep = ['subnational1'] + years\n",
    "    province_df = province_df[columns_to_keep]\n",
    "    \n",
    "    # Melt the DataFrame to long format\n",
    "    province_df_long = province_df.melt(id_vars='subnational1', var_name='year', value_name='tc_loss_ha')\n",
    "    \n",
    "    # Extract year from the column name and convert to integer\n",
    "    province_df_long['year'] = province_df_long['year'].str.extract(r'(\\d+)').astype(int)\n",
    "    \n",
    "    # Sort the DataFrame by year\n",
    "    province_df_long = province_df_long.sort_values(by='year')\n",
    "    \n",
    "    # Calculate cumulative tree loss\n",
    "    province_df_long['cumulative_tc_loss_ha'] = province_df_long['tc_loss_ha'].cumsum()\n",
    "    \n",
    "    # Append to totals_df\n",
    "    totals_df = pd.concat([totals_df, province_df_long[['year', 'cumulative_tc_loss_ha']]], ignore_index=True)\n",
    "\n",
    "# Calculate the total cumulative tree loss across all provinces\n",
    "totals_df = totals_df.groupby('year')['cumulative_tc_loss_ha'].sum().reset_index()\n",
    "\n",
    "# Load palm oil production data\n",
    "palm = pd.read_csv('../Datasets/Oils/archive/cleaned/palm.csv')\n",
    "\n",
    "# Filter data for Indonesia and years >= 2000\n",
    "df_Indo = palm[(palm['Country'] == 'Indonesia') & (palm['Year'] >= 2000)]\n",
    "\n",
    "# Ensure both datasets are aligned by year\n",
    "merged_df = pd.merge(totals_df, df_Indo[['Year', 'Production']], left_on='year', right_on='Year')\n",
    "\n",
    "# Create 3D line plot\n",
    "trace_3d = go.Scatter3d(\n",
    "    x=merged_df['year'],\n",
    "    y=merged_df['cumulative_tc_loss_ha'],\n",
    "    z=merged_df['Production'],\n",
    "    mode='lines+markers',\n",
    "    line=dict(\n",
    "        color='blue',\n",
    "        width=3  # Increase the line width\n",
    "    )\n",
    ")\n",
    "\n",
    "layout_3d = go.Layout(\n",
    "    title='Palm oil production vs. cumulative tree cover loss in Kalimantan (2001-2022)',\n",
    "    scene=dict(\n",
    "        xaxis=dict(title='Year'),\n",
    "        yaxis=dict(title='Cumulative Tree Cover Loss (ha)'),\n",
    "        zaxis=dict(title='Palm Oil Production')\n",
    "    ),\n",
    "    # width=800,  # Increase the width of the plot\n",
    "    # height=500   # Increase the height of the plot\n",
    ")\n",
    "\n",
    "fig3 = go.Figure(data=[trace_3d], layout=layout_3d)\n",
    "\n",
    "# Show 3D plot\n",
    "fig3.show()\n"
   ]
  },
  {
   "cell_type": "code",
   "execution_count": 30,
   "metadata": {
    "tags": [
     "hide-input"
    ]
   },
   "outputs": [
    {
     "name": "stdout",
     "output_type": "stream",
     "text": [
      "Pearson correlation between Palm Oil Production in Indonesia and Total Tree Cover in Kalimantan: -0.99\n"
     ]
    }
   ],
   "source": [
    "import pandas as pd\n",
    "\n",
    "# Load palm oil production data\n",
    "palm = pd.read_csv('../Datasets/Oils/archive/cleaned/palm.csv')\n",
    "\n",
    "# Filter data for Indonesia and years >= 2000\n",
    "df_Indo = palm[(palm['Country'] == 'Indonesia') & (palm['Year'] >= 2000)]\n",
    "\n",
    "# Extract production values\n",
    "xi = df_Indo['Production'].values\n",
    "\n",
    "# Load the dataset for Kalimantan forest cover\n",
    "df = pd.read_csv('../Datasets/Deforestation/Subnational 1 tree cover loss.csv')\n",
    "\n",
    "# Filter for Kalimantan provinces and threshold == 0\n",
    "provinces = ['Kalimantan Barat', 'Kalimantan Tengah', 'Kalimantan Timur', 'Kalimantan Selatan']\n",
    "kalimantan_df = df[(df['subnational1'].isin(provinces)) & (df['threshold'] == 0)]\n",
    "\n",
    "# Calculate initial tree cover in 2000\n",
    "initial_extent_2000 = kalimantan_df['extent_2000_ha'].sum()\n",
    "\n",
    "# Calculate tree cover gain spread over 22 years\n",
    "gain_spread = (kalimantan_df['gain_2000-2020_ha'].sum() / 22)\n",
    "\n",
    "# Calculate cumulative tree cover losses from 2001 to 2022\n",
    "years = range(2001, 2023)\n",
    "cumulative_losses = []\n",
    "for year in years:\n",
    "    loss_column = f'tc_loss_ha_{year}'\n",
    "    cumulative_loss = (kalimantan_df[loss_column].sum() - gain_spread)\n",
    "    cumulative_losses.append(cumulative_loss)\n",
    "\n",
    "# Calculate total tree cover per year\n",
    "annual_tree_cover = []\n",
    "for i, year in enumerate(years):\n",
    "    total_tree_cover = initial_extent_2000 - sum(cumulative_losses[:i + 1])\n",
    "    annual_tree_cover.append(total_tree_cover)\n",
    "\n",
    "# Calculate correlation between palm oil production and annual tree cover\n",
    "correlation = pd.Series(xi).corr(pd.Series(annual_tree_cover))\n",
    "\n",
    "print(f\"Pearson correlation between Palm Oil Production in Indonesia and Total Tree Cover in Kalimantan: {correlation:.2f}\")\n"
   ]
  },
  {
   "cell_type": "markdown",
   "metadata": {},
   "source": [
    "From this data it is evident that the production of palm oil is a mayor factor in more than 10 million hectares of tree cover loss in the Kalimantan provinces of Indonesia alone."
   ]
  },
  {
   "cell_type": "markdown",
   "metadata": {},
   "source": [
    "### Argument 2: Palm oil production emits more CO2 than other vegetable oils.\n",
    "\n",
    "From the graph below, it is clear that palm oil emits the most CO2 per kg of product of all different types of oil, up to more than double the amount. This is mainly due to the land use change. This is caused by the peat soil being exposed after deforestation, allowing oxigen in, which leads to oxidation of the soil (_Manning, F. C. et al, 2019_)."
   ]
  },
  {
   "cell_type": "code",
   "execution_count": 32,
   "metadata": {
    "tags": [
     "hide-input"
    ]
   },
   "outputs": [
    {
     "data": {
      "application/vnd.plotly.v1+json": {
       "config": {
        "plotlyServerURL": "https://plot.ly"
       },
       "data": [
        {
         "marker": {
          "color": "#4C78A8"
         },
         "name": "Land use change",
         "orientation": "h",
         "type": "bar",
         "x": [
          0.1,
          0.2,
          0,
          3.1,
          3.1
         ],
         "y": [
          "Sunflower Oil",
          "Rapeseed Oil",
          "Olive Oil",
          "Soybean Oil",
          "Palm Oil"
         ]
        },
        {
         "marker": {
          "color": "#F58518"
         },
         "name": "Farm",
         "orientation": "h",
         "type": "bar",
         "x": [
          2.1,
          2.3,
          3.9,
          1.5,
          2.1
         ],
         "y": [
          "Sunflower Oil",
          "Rapeseed Oil",
          "Olive Oil",
          "Soybean Oil",
          "Palm Oil"
         ]
        },
        {
         "marker": {
          "color": "#E45756"
         },
         "name": "Processing",
         "orientation": "h",
         "type": "bar",
         "x": [
          0.2,
          0.2,
          0.7,
          0.3,
          1.3
         ],
         "y": [
          "Sunflower Oil",
          "Rapeseed Oil",
          "Olive Oil",
          "Soybean Oil",
          "Palm Oil"
         ]
        },
        {
         "marker": {
          "color": "#72B7B2"
         },
         "name": "Transport",
         "orientation": "h",
         "type": "bar",
         "x": [
          0.2,
          0.2,
          0.5,
          0.3,
          0.2
         ],
         "y": [
          "Sunflower Oil",
          "Rapeseed Oil",
          "Olive Oil",
          "Soybean Oil",
          "Palm Oil"
         ]
        },
        {
         "marker": {
          "color": "#54A24B"
         },
         "name": "Packging",
         "orientation": "h",
         "type": "bar",
         "x": [
          0.9,
          0.8,
          0.9,
          0.8,
          0.9
         ],
         "y": [
          "Sunflower Oil",
          "Rapeseed Oil",
          "Olive Oil",
          "Soybean Oil",
          "Palm Oil"
         ]
        }
       ],
       "layout": {
        "barmode": "stack",
        "height": 600,
        "hovermode": "closest",
        "margin": {
         "l": 200
        },
        "showlegend": true,
        "template": {
         "data": {
          "bar": [
           {
            "error_x": {
             "color": "#2a3f5f"
            },
            "error_y": {
             "color": "#2a3f5f"
            },
            "marker": {
             "line": {
              "color": "#E5ECF6",
              "width": 0.5
             },
             "pattern": {
              "fillmode": "overlay",
              "size": 10,
              "solidity": 0.2
             }
            },
            "type": "bar"
           }
          ],
          "barpolar": [
           {
            "marker": {
             "line": {
              "color": "#E5ECF6",
              "width": 0.5
             },
             "pattern": {
              "fillmode": "overlay",
              "size": 10,
              "solidity": 0.2
             }
            },
            "type": "barpolar"
           }
          ],
          "carpet": [
           {
            "aaxis": {
             "endlinecolor": "#2a3f5f",
             "gridcolor": "white",
             "linecolor": "white",
             "minorgridcolor": "white",
             "startlinecolor": "#2a3f5f"
            },
            "baxis": {
             "endlinecolor": "#2a3f5f",
             "gridcolor": "white",
             "linecolor": "white",
             "minorgridcolor": "white",
             "startlinecolor": "#2a3f5f"
            },
            "type": "carpet"
           }
          ],
          "choropleth": [
           {
            "colorbar": {
             "outlinewidth": 0,
             "ticks": ""
            },
            "type": "choropleth"
           }
          ],
          "contour": [
           {
            "colorbar": {
             "outlinewidth": 0,
             "ticks": ""
            },
            "colorscale": [
             [
              0,
              "#0d0887"
             ],
             [
              0.1111111111111111,
              "#46039f"
             ],
             [
              0.2222222222222222,
              "#7201a8"
             ],
             [
              0.3333333333333333,
              "#9c179e"
             ],
             [
              0.4444444444444444,
              "#bd3786"
             ],
             [
              0.5555555555555556,
              "#d8576b"
             ],
             [
              0.6666666666666666,
              "#ed7953"
             ],
             [
              0.7777777777777778,
              "#fb9f3a"
             ],
             [
              0.8888888888888888,
              "#fdca26"
             ],
             [
              1,
              "#f0f921"
             ]
            ],
            "type": "contour"
           }
          ],
          "contourcarpet": [
           {
            "colorbar": {
             "outlinewidth": 0,
             "ticks": ""
            },
            "type": "contourcarpet"
           }
          ],
          "heatmap": [
           {
            "colorbar": {
             "outlinewidth": 0,
             "ticks": ""
            },
            "colorscale": [
             [
              0,
              "#0d0887"
             ],
             [
              0.1111111111111111,
              "#46039f"
             ],
             [
              0.2222222222222222,
              "#7201a8"
             ],
             [
              0.3333333333333333,
              "#9c179e"
             ],
             [
              0.4444444444444444,
              "#bd3786"
             ],
             [
              0.5555555555555556,
              "#d8576b"
             ],
             [
              0.6666666666666666,
              "#ed7953"
             ],
             [
              0.7777777777777778,
              "#fb9f3a"
             ],
             [
              0.8888888888888888,
              "#fdca26"
             ],
             [
              1,
              "#f0f921"
             ]
            ],
            "type": "heatmap"
           }
          ],
          "heatmapgl": [
           {
            "colorbar": {
             "outlinewidth": 0,
             "ticks": ""
            },
            "colorscale": [
             [
              0,
              "#0d0887"
             ],
             [
              0.1111111111111111,
              "#46039f"
             ],
             [
              0.2222222222222222,
              "#7201a8"
             ],
             [
              0.3333333333333333,
              "#9c179e"
             ],
             [
              0.4444444444444444,
              "#bd3786"
             ],
             [
              0.5555555555555556,
              "#d8576b"
             ],
             [
              0.6666666666666666,
              "#ed7953"
             ],
             [
              0.7777777777777778,
              "#fb9f3a"
             ],
             [
              0.8888888888888888,
              "#fdca26"
             ],
             [
              1,
              "#f0f921"
             ]
            ],
            "type": "heatmapgl"
           }
          ],
          "histogram": [
           {
            "marker": {
             "pattern": {
              "fillmode": "overlay",
              "size": 10,
              "solidity": 0.2
             }
            },
            "type": "histogram"
           }
          ],
          "histogram2d": [
           {
            "colorbar": {
             "outlinewidth": 0,
             "ticks": ""
            },
            "colorscale": [
             [
              0,
              "#0d0887"
             ],
             [
              0.1111111111111111,
              "#46039f"
             ],
             [
              0.2222222222222222,
              "#7201a8"
             ],
             [
              0.3333333333333333,
              "#9c179e"
             ],
             [
              0.4444444444444444,
              "#bd3786"
             ],
             [
              0.5555555555555556,
              "#d8576b"
             ],
             [
              0.6666666666666666,
              "#ed7953"
             ],
             [
              0.7777777777777778,
              "#fb9f3a"
             ],
             [
              0.8888888888888888,
              "#fdca26"
             ],
             [
              1,
              "#f0f921"
             ]
            ],
            "type": "histogram2d"
           }
          ],
          "histogram2dcontour": [
           {
            "colorbar": {
             "outlinewidth": 0,
             "ticks": ""
            },
            "colorscale": [
             [
              0,
              "#0d0887"
             ],
             [
              0.1111111111111111,
              "#46039f"
             ],
             [
              0.2222222222222222,
              "#7201a8"
             ],
             [
              0.3333333333333333,
              "#9c179e"
             ],
             [
              0.4444444444444444,
              "#bd3786"
             ],
             [
              0.5555555555555556,
              "#d8576b"
             ],
             [
              0.6666666666666666,
              "#ed7953"
             ],
             [
              0.7777777777777778,
              "#fb9f3a"
             ],
             [
              0.8888888888888888,
              "#fdca26"
             ],
             [
              1,
              "#f0f921"
             ]
            ],
            "type": "histogram2dcontour"
           }
          ],
          "mesh3d": [
           {
            "colorbar": {
             "outlinewidth": 0,
             "ticks": ""
            },
            "type": "mesh3d"
           }
          ],
          "parcoords": [
           {
            "line": {
             "colorbar": {
              "outlinewidth": 0,
              "ticks": ""
             }
            },
            "type": "parcoords"
           }
          ],
          "pie": [
           {
            "automargin": true,
            "type": "pie"
           }
          ],
          "scatter": [
           {
            "fillpattern": {
             "fillmode": "overlay",
             "size": 10,
             "solidity": 0.2
            },
            "type": "scatter"
           }
          ],
          "scatter3d": [
           {
            "line": {
             "colorbar": {
              "outlinewidth": 0,
              "ticks": ""
             }
            },
            "marker": {
             "colorbar": {
              "outlinewidth": 0,
              "ticks": ""
             }
            },
            "type": "scatter3d"
           }
          ],
          "scattercarpet": [
           {
            "marker": {
             "colorbar": {
              "outlinewidth": 0,
              "ticks": ""
             }
            },
            "type": "scattercarpet"
           }
          ],
          "scattergeo": [
           {
            "marker": {
             "colorbar": {
              "outlinewidth": 0,
              "ticks": ""
             }
            },
            "type": "scattergeo"
           }
          ],
          "scattergl": [
           {
            "marker": {
             "colorbar": {
              "outlinewidth": 0,
              "ticks": ""
             }
            },
            "type": "scattergl"
           }
          ],
          "scattermapbox": [
           {
            "marker": {
             "colorbar": {
              "outlinewidth": 0,
              "ticks": ""
             }
            },
            "type": "scattermapbox"
           }
          ],
          "scatterpolar": [
           {
            "marker": {
             "colorbar": {
              "outlinewidth": 0,
              "ticks": ""
             }
            },
            "type": "scatterpolar"
           }
          ],
          "scatterpolargl": [
           {
            "marker": {
             "colorbar": {
              "outlinewidth": 0,
              "ticks": ""
             }
            },
            "type": "scatterpolargl"
           }
          ],
          "scatterternary": [
           {
            "marker": {
             "colorbar": {
              "outlinewidth": 0,
              "ticks": ""
             }
            },
            "type": "scatterternary"
           }
          ],
          "surface": [
           {
            "colorbar": {
             "outlinewidth": 0,
             "ticks": ""
            },
            "colorscale": [
             [
              0,
              "#0d0887"
             ],
             [
              0.1111111111111111,
              "#46039f"
             ],
             [
              0.2222222222222222,
              "#7201a8"
             ],
             [
              0.3333333333333333,
              "#9c179e"
             ],
             [
              0.4444444444444444,
              "#bd3786"
             ],
             [
              0.5555555555555556,
              "#d8576b"
             ],
             [
              0.6666666666666666,
              "#ed7953"
             ],
             [
              0.7777777777777778,
              "#fb9f3a"
             ],
             [
              0.8888888888888888,
              "#fdca26"
             ],
             [
              1,
              "#f0f921"
             ]
            ],
            "type": "surface"
           }
          ],
          "table": [
           {
            "cells": {
             "fill": {
              "color": "#EBF0F8"
             },
             "line": {
              "color": "white"
             }
            },
            "header": {
             "fill": {
              "color": "#C8D4E3"
             },
             "line": {
              "color": "white"
             }
            },
            "type": "table"
           }
          ]
         },
         "layout": {
          "annotationdefaults": {
           "arrowcolor": "#2a3f5f",
           "arrowhead": 0,
           "arrowwidth": 1
          },
          "autotypenumbers": "strict",
          "coloraxis": {
           "colorbar": {
            "outlinewidth": 0,
            "ticks": ""
           }
          },
          "colorscale": {
           "diverging": [
            [
             0,
             "#8e0152"
            ],
            [
             0.1,
             "#c51b7d"
            ],
            [
             0.2,
             "#de77ae"
            ],
            [
             0.3,
             "#f1b6da"
            ],
            [
             0.4,
             "#fde0ef"
            ],
            [
             0.5,
             "#f7f7f7"
            ],
            [
             0.6,
             "#e6f5d0"
            ],
            [
             0.7,
             "#b8e186"
            ],
            [
             0.8,
             "#7fbc41"
            ],
            [
             0.9,
             "#4d9221"
            ],
            [
             1,
             "#276419"
            ]
           ],
           "sequential": [
            [
             0,
             "#0d0887"
            ],
            [
             0.1111111111111111,
             "#46039f"
            ],
            [
             0.2222222222222222,
             "#7201a8"
            ],
            [
             0.3333333333333333,
             "#9c179e"
            ],
            [
             0.4444444444444444,
             "#bd3786"
            ],
            [
             0.5555555555555556,
             "#d8576b"
            ],
            [
             0.6666666666666666,
             "#ed7953"
            ],
            [
             0.7777777777777778,
             "#fb9f3a"
            ],
            [
             0.8888888888888888,
             "#fdca26"
            ],
            [
             1,
             "#f0f921"
            ]
           ],
           "sequentialminus": [
            [
             0,
             "#0d0887"
            ],
            [
             0.1111111111111111,
             "#46039f"
            ],
            [
             0.2222222222222222,
             "#7201a8"
            ],
            [
             0.3333333333333333,
             "#9c179e"
            ],
            [
             0.4444444444444444,
             "#bd3786"
            ],
            [
             0.5555555555555556,
             "#d8576b"
            ],
            [
             0.6666666666666666,
             "#ed7953"
            ],
            [
             0.7777777777777778,
             "#fb9f3a"
            ],
            [
             0.8888888888888888,
             "#fdca26"
            ],
            [
             1,
             "#f0f921"
            ]
           ]
          },
          "colorway": [
           "#636efa",
           "#EF553B",
           "#00cc96",
           "#ab63fa",
           "#FFA15A",
           "#19d3f3",
           "#FF6692",
           "#B6E880",
           "#FF97FF",
           "#FECB52"
          ],
          "font": {
           "color": "#2a3f5f"
          },
          "geo": {
           "bgcolor": "white",
           "lakecolor": "white",
           "landcolor": "#E5ECF6",
           "showlakes": true,
           "showland": true,
           "subunitcolor": "white"
          },
          "hoverlabel": {
           "align": "left"
          },
          "hovermode": "closest",
          "mapbox": {
           "style": "light"
          },
          "paper_bgcolor": "white",
          "plot_bgcolor": "#E5ECF6",
          "polar": {
           "angularaxis": {
            "gridcolor": "white",
            "linecolor": "white",
            "ticks": ""
           },
           "bgcolor": "#E5ECF6",
           "radialaxis": {
            "gridcolor": "white",
            "linecolor": "white",
            "ticks": ""
           }
          },
          "scene": {
           "xaxis": {
            "backgroundcolor": "#E5ECF6",
            "gridcolor": "white",
            "gridwidth": 2,
            "linecolor": "white",
            "showbackground": true,
            "ticks": "",
            "zerolinecolor": "white"
           },
           "yaxis": {
            "backgroundcolor": "#E5ECF6",
            "gridcolor": "white",
            "gridwidth": 2,
            "linecolor": "white",
            "showbackground": true,
            "ticks": "",
            "zerolinecolor": "white"
           },
           "zaxis": {
            "backgroundcolor": "#E5ECF6",
            "gridcolor": "white",
            "gridwidth": 2,
            "linecolor": "white",
            "showbackground": true,
            "ticks": "",
            "zerolinecolor": "white"
           }
          },
          "shapedefaults": {
           "line": {
            "color": "#2a3f5f"
           }
          },
          "ternary": {
           "aaxis": {
            "gridcolor": "white",
            "linecolor": "white",
            "ticks": ""
           },
           "baxis": {
            "gridcolor": "white",
            "linecolor": "white",
            "ticks": ""
           },
           "bgcolor": "#E5ECF6",
           "caxis": {
            "gridcolor": "white",
            "linecolor": "white",
            "ticks": ""
           }
          },
          "title": {
           "x": 0.05
          },
          "xaxis": {
           "automargin": true,
           "gridcolor": "white",
           "linecolor": "white",
           "ticks": "",
           "title": {
            "standoff": 15
           },
           "zerolinecolor": "white",
           "zerolinewidth": 2
          },
          "yaxis": {
           "automargin": true,
           "gridcolor": "white",
           "linecolor": "white",
           "ticks": "",
           "title": {
            "standoff": 15
           },
           "zerolinecolor": "white",
           "zerolinewidth": 2
          }
         }
        },
        "title": {
         "text": "Greenhouse gas emissions across stages of oil production lifecycle"
        },
        "xaxis": {
         "title": {
          "text": "Emissions [Kg CO2 - equivalents per kg product]"
         }
        },
        "yaxis": {
         "title": {
          "text": "Oil Type"
         }
        }
       }
      }
     },
     "metadata": {},
     "output_type": "display_data"
    }
   ],
   "source": [
    "import pandas as pd\n",
    "import plotly.graph_objs as go\n",
    "import plotly.express as px\n",
    "\n",
    "# Load your dataset\n",
    "fp_raw = pd.read_csv('../Datasets/Food_Production.csv')\n",
    "\n",
    "# Filter for oils\n",
    "oils = fp_raw[fp_raw['Food product'].str.contains('Oil')]\n",
    "\n",
    "# Specify the order of oils\n",
    "oil_order = ['Sunflower Oil', 'Rapeseed Oil', 'Olive Oil', 'Soybean Oil', 'Palm Oil']\n",
    "\n",
    "# Set the order in the DataFrame\n",
    "oils['Food product'] = pd.Categorical(oils['Food product'], categories=oil_order, ordered=True)\n",
    "oils = oils.sort_values(by='Food product')\n",
    "\n",
    "# Select relevant columns for plotting\n",
    "data2 = oils.iloc[:, [0, 1, 2, 3, 4, 5]]  # Assuming columns 1 to 5 are the stages of emissions\n",
    "\n",
    "# Define colors for each stage based on provided color palette\n",
    "colors = px.colors.qualitative.T10[:len(data2.columns[1:])]\n",
    "\n",
    "# Create traces for each stage\n",
    "traces = []\n",
    "for i, stage in enumerate(data2.columns[1:]):\n",
    "    trace = go.Bar(\n",
    "        y=data2['Food product'],\n",
    "        x=data2[stage],\n",
    "        name=stage,\n",
    "        orientation='h',\n",
    "        marker=dict(color=colors[i])\n",
    "    )\n",
    "    traces.append(trace)\n",
    "\n",
    "# Layout settings\n",
    "layout = go.Layout(\n",
    "    title='Greenhouse gas emissions across stages of oil production lifecycle',\n",
    "    barmode='stack',\n",
    "    yaxis=dict(title='Oil Type'),\n",
    "    xaxis=dict(title='Emissions [Kg CO2 - equivalents per kg product]'),\n",
    "    margin=dict(l=200),  # Adjust left margin to accommodate food product labels\n",
    "    height=600,  # Adjust height as needed\n",
    "    hovermode='closest',\n",
    "    showlegend=True\n",
    ")\n",
    "\n",
    "# Create figure object\n",
    "fig = go.Figure(data=traces, layout=layout)\n",
    "\n",
    "# Display the plot\n",
    "fig.show()\n"
   ]
  },
  {
   "cell_type": "markdown",
   "metadata": {},
   "source": [
    "## Perspective 2: The problem is with global demand for vegetable oil, not palm oil\n",
    "\n",
    "The solution seems straightforward: stop using palm oil. However, the solution might be a little more counter-intuitive. In fact, palm oil has some environmental benefits, especially its high yield per hectare. Looking at the chart below, it's clear that other oils require much more land to produce the same amount, with the next best already using 4 times as much area. So, replacing palm oil with other types could lead to more deforestation and all the problems that come with it."
   ]
  },
  {
   "cell_type": "code",
   "execution_count": 33,
   "metadata": {
    "tags": [
     "hide-input"
    ]
   },
   "outputs": [
    {
     "data": {
      "application/vnd.plotly.v1+json": {
       "config": {
        "plotlyServerURL": "https://plot.ly"
       },
       "data": [
        {
         "marker": {
          "color": [
           "#4C78A8",
           "#F58518",
           "#E45756",
           "#72B7B2",
           "#54A24B",
           "#EECA3B",
           "#B279A2",
           "#FF9DA6",
           "#9D755D"
          ]
         },
         "orientation": "h",
         "type": "bar",
         "x": [
          2.9909072,
          0.7332533,
          0.6281971,
          0.4718957,
          0.3241613,
          0.24315979,
          0.14546034,
          0.13188249,
          0.07831836
         ],
         "y": [
          "Oil Palm",
          "Rapeseed",
          "Sunflower",
          "Soybean",
          "Olive",
          "Coconut",
          "Groundnut",
          "Cottonseed",
          "Sesame"
         ]
        }
       ],
       "layout": {
        "height": 600,
        "margin": {
         "b": 0,
         "l": 0,
         "r": 0,
         "t": 30
        },
        "template": {
         "data": {
          "bar": [
           {
            "error_x": {
             "color": "#2a3f5f"
            },
            "error_y": {
             "color": "#2a3f5f"
            },
            "marker": {
             "line": {
              "color": "#E5ECF6",
              "width": 0.5
             },
             "pattern": {
              "fillmode": "overlay",
              "size": 10,
              "solidity": 0.2
             }
            },
            "type": "bar"
           }
          ],
          "barpolar": [
           {
            "marker": {
             "line": {
              "color": "#E5ECF6",
              "width": 0.5
             },
             "pattern": {
              "fillmode": "overlay",
              "size": 10,
              "solidity": 0.2
             }
            },
            "type": "barpolar"
           }
          ],
          "carpet": [
           {
            "aaxis": {
             "endlinecolor": "#2a3f5f",
             "gridcolor": "white",
             "linecolor": "white",
             "minorgridcolor": "white",
             "startlinecolor": "#2a3f5f"
            },
            "baxis": {
             "endlinecolor": "#2a3f5f",
             "gridcolor": "white",
             "linecolor": "white",
             "minorgridcolor": "white",
             "startlinecolor": "#2a3f5f"
            },
            "type": "carpet"
           }
          ],
          "choropleth": [
           {
            "colorbar": {
             "outlinewidth": 0,
             "ticks": ""
            },
            "type": "choropleth"
           }
          ],
          "contour": [
           {
            "colorbar": {
             "outlinewidth": 0,
             "ticks": ""
            },
            "colorscale": [
             [
              0,
              "#0d0887"
             ],
             [
              0.1111111111111111,
              "#46039f"
             ],
             [
              0.2222222222222222,
              "#7201a8"
             ],
             [
              0.3333333333333333,
              "#9c179e"
             ],
             [
              0.4444444444444444,
              "#bd3786"
             ],
             [
              0.5555555555555556,
              "#d8576b"
             ],
             [
              0.6666666666666666,
              "#ed7953"
             ],
             [
              0.7777777777777778,
              "#fb9f3a"
             ],
             [
              0.8888888888888888,
              "#fdca26"
             ],
             [
              1,
              "#f0f921"
             ]
            ],
            "type": "contour"
           }
          ],
          "contourcarpet": [
           {
            "colorbar": {
             "outlinewidth": 0,
             "ticks": ""
            },
            "type": "contourcarpet"
           }
          ],
          "heatmap": [
           {
            "colorbar": {
             "outlinewidth": 0,
             "ticks": ""
            },
            "colorscale": [
             [
              0,
              "#0d0887"
             ],
             [
              0.1111111111111111,
              "#46039f"
             ],
             [
              0.2222222222222222,
              "#7201a8"
             ],
             [
              0.3333333333333333,
              "#9c179e"
             ],
             [
              0.4444444444444444,
              "#bd3786"
             ],
             [
              0.5555555555555556,
              "#d8576b"
             ],
             [
              0.6666666666666666,
              "#ed7953"
             ],
             [
              0.7777777777777778,
              "#fb9f3a"
             ],
             [
              0.8888888888888888,
              "#fdca26"
             ],
             [
              1,
              "#f0f921"
             ]
            ],
            "type": "heatmap"
           }
          ],
          "heatmapgl": [
           {
            "colorbar": {
             "outlinewidth": 0,
             "ticks": ""
            },
            "colorscale": [
             [
              0,
              "#0d0887"
             ],
             [
              0.1111111111111111,
              "#46039f"
             ],
             [
              0.2222222222222222,
              "#7201a8"
             ],
             [
              0.3333333333333333,
              "#9c179e"
             ],
             [
              0.4444444444444444,
              "#bd3786"
             ],
             [
              0.5555555555555556,
              "#d8576b"
             ],
             [
              0.6666666666666666,
              "#ed7953"
             ],
             [
              0.7777777777777778,
              "#fb9f3a"
             ],
             [
              0.8888888888888888,
              "#fdca26"
             ],
             [
              1,
              "#f0f921"
             ]
            ],
            "type": "heatmapgl"
           }
          ],
          "histogram": [
           {
            "marker": {
             "pattern": {
              "fillmode": "overlay",
              "size": 10,
              "solidity": 0.2
             }
            },
            "type": "histogram"
           }
          ],
          "histogram2d": [
           {
            "colorbar": {
             "outlinewidth": 0,
             "ticks": ""
            },
            "colorscale": [
             [
              0,
              "#0d0887"
             ],
             [
              0.1111111111111111,
              "#46039f"
             ],
             [
              0.2222222222222222,
              "#7201a8"
             ],
             [
              0.3333333333333333,
              "#9c179e"
             ],
             [
              0.4444444444444444,
              "#bd3786"
             ],
             [
              0.5555555555555556,
              "#d8576b"
             ],
             [
              0.6666666666666666,
              "#ed7953"
             ],
             [
              0.7777777777777778,
              "#fb9f3a"
             ],
             [
              0.8888888888888888,
              "#fdca26"
             ],
             [
              1,
              "#f0f921"
             ]
            ],
            "type": "histogram2d"
           }
          ],
          "histogram2dcontour": [
           {
            "colorbar": {
             "outlinewidth": 0,
             "ticks": ""
            },
            "colorscale": [
             [
              0,
              "#0d0887"
             ],
             [
              0.1111111111111111,
              "#46039f"
             ],
             [
              0.2222222222222222,
              "#7201a8"
             ],
             [
              0.3333333333333333,
              "#9c179e"
             ],
             [
              0.4444444444444444,
              "#bd3786"
             ],
             [
              0.5555555555555556,
              "#d8576b"
             ],
             [
              0.6666666666666666,
              "#ed7953"
             ],
             [
              0.7777777777777778,
              "#fb9f3a"
             ],
             [
              0.8888888888888888,
              "#fdca26"
             ],
             [
              1,
              "#f0f921"
             ]
            ],
            "type": "histogram2dcontour"
           }
          ],
          "mesh3d": [
           {
            "colorbar": {
             "outlinewidth": 0,
             "ticks": ""
            },
            "type": "mesh3d"
           }
          ],
          "parcoords": [
           {
            "line": {
             "colorbar": {
              "outlinewidth": 0,
              "ticks": ""
             }
            },
            "type": "parcoords"
           }
          ],
          "pie": [
           {
            "automargin": true,
            "type": "pie"
           }
          ],
          "scatter": [
           {
            "fillpattern": {
             "fillmode": "overlay",
             "size": 10,
             "solidity": 0.2
            },
            "type": "scatter"
           }
          ],
          "scatter3d": [
           {
            "line": {
             "colorbar": {
              "outlinewidth": 0,
              "ticks": ""
             }
            },
            "marker": {
             "colorbar": {
              "outlinewidth": 0,
              "ticks": ""
             }
            },
            "type": "scatter3d"
           }
          ],
          "scattercarpet": [
           {
            "marker": {
             "colorbar": {
              "outlinewidth": 0,
              "ticks": ""
             }
            },
            "type": "scattercarpet"
           }
          ],
          "scattergeo": [
           {
            "marker": {
             "colorbar": {
              "outlinewidth": 0,
              "ticks": ""
             }
            },
            "type": "scattergeo"
           }
          ],
          "scattergl": [
           {
            "marker": {
             "colorbar": {
              "outlinewidth": 0,
              "ticks": ""
             }
            },
            "type": "scattergl"
           }
          ],
          "scattermapbox": [
           {
            "marker": {
             "colorbar": {
              "outlinewidth": 0,
              "ticks": ""
             }
            },
            "type": "scattermapbox"
           }
          ],
          "scatterpolar": [
           {
            "marker": {
             "colorbar": {
              "outlinewidth": 0,
              "ticks": ""
             }
            },
            "type": "scatterpolar"
           }
          ],
          "scatterpolargl": [
           {
            "marker": {
             "colorbar": {
              "outlinewidth": 0,
              "ticks": ""
             }
            },
            "type": "scatterpolargl"
           }
          ],
          "scatterternary": [
           {
            "marker": {
             "colorbar": {
              "outlinewidth": 0,
              "ticks": ""
             }
            },
            "type": "scatterternary"
           }
          ],
          "surface": [
           {
            "colorbar": {
             "outlinewidth": 0,
             "ticks": ""
            },
            "colorscale": [
             [
              0,
              "#0d0887"
             ],
             [
              0.1111111111111111,
              "#46039f"
             ],
             [
              0.2222222222222222,
              "#7201a8"
             ],
             [
              0.3333333333333333,
              "#9c179e"
             ],
             [
              0.4444444444444444,
              "#bd3786"
             ],
             [
              0.5555555555555556,
              "#d8576b"
             ],
             [
              0.6666666666666666,
              "#ed7953"
             ],
             [
              0.7777777777777778,
              "#fb9f3a"
             ],
             [
              0.8888888888888888,
              "#fdca26"
             ],
             [
              1,
              "#f0f921"
             ]
            ],
            "type": "surface"
           }
          ],
          "table": [
           {
            "cells": {
             "fill": {
              "color": "#EBF0F8"
             },
             "line": {
              "color": "white"
             }
            },
            "header": {
             "fill": {
              "color": "#C8D4E3"
             },
             "line": {
              "color": "white"
             }
            },
            "type": "table"
           }
          ]
         },
         "layout": {
          "annotationdefaults": {
           "arrowcolor": "#2a3f5f",
           "arrowhead": 0,
           "arrowwidth": 1
          },
          "autotypenumbers": "strict",
          "coloraxis": {
           "colorbar": {
            "outlinewidth": 0,
            "ticks": ""
           }
          },
          "colorscale": {
           "diverging": [
            [
             0,
             "#8e0152"
            ],
            [
             0.1,
             "#c51b7d"
            ],
            [
             0.2,
             "#de77ae"
            ],
            [
             0.3,
             "#f1b6da"
            ],
            [
             0.4,
             "#fde0ef"
            ],
            [
             0.5,
             "#f7f7f7"
            ],
            [
             0.6,
             "#e6f5d0"
            ],
            [
             0.7,
             "#b8e186"
            ],
            [
             0.8,
             "#7fbc41"
            ],
            [
             0.9,
             "#4d9221"
            ],
            [
             1,
             "#276419"
            ]
           ],
           "sequential": [
            [
             0,
             "#0d0887"
            ],
            [
             0.1111111111111111,
             "#46039f"
            ],
            [
             0.2222222222222222,
             "#7201a8"
            ],
            [
             0.3333333333333333,
             "#9c179e"
            ],
            [
             0.4444444444444444,
             "#bd3786"
            ],
            [
             0.5555555555555556,
             "#d8576b"
            ],
            [
             0.6666666666666666,
             "#ed7953"
            ],
            [
             0.7777777777777778,
             "#fb9f3a"
            ],
            [
             0.8888888888888888,
             "#fdca26"
            ],
            [
             1,
             "#f0f921"
            ]
           ],
           "sequentialminus": [
            [
             0,
             "#0d0887"
            ],
            [
             0.1111111111111111,
             "#46039f"
            ],
            [
             0.2222222222222222,
             "#7201a8"
            ],
            [
             0.3333333333333333,
             "#9c179e"
            ],
            [
             0.4444444444444444,
             "#bd3786"
            ],
            [
             0.5555555555555556,
             "#d8576b"
            ],
            [
             0.6666666666666666,
             "#ed7953"
            ],
            [
             0.7777777777777778,
             "#fb9f3a"
            ],
            [
             0.8888888888888888,
             "#fdca26"
            ],
            [
             1,
             "#f0f921"
            ]
           ]
          },
          "colorway": [
           "#636efa",
           "#EF553B",
           "#00cc96",
           "#ab63fa",
           "#FFA15A",
           "#19d3f3",
           "#FF6692",
           "#B6E880",
           "#FF97FF",
           "#FECB52"
          ],
          "font": {
           "color": "#2a3f5f"
          },
          "geo": {
           "bgcolor": "white",
           "lakecolor": "white",
           "landcolor": "#E5ECF6",
           "showlakes": true,
           "showland": true,
           "subunitcolor": "white"
          },
          "hoverlabel": {
           "align": "left"
          },
          "hovermode": "closest",
          "mapbox": {
           "style": "light"
          },
          "paper_bgcolor": "white",
          "plot_bgcolor": "#E5ECF6",
          "polar": {
           "angularaxis": {
            "gridcolor": "white",
            "linecolor": "white",
            "ticks": ""
           },
           "bgcolor": "#E5ECF6",
           "radialaxis": {
            "gridcolor": "white",
            "linecolor": "white",
            "ticks": ""
           }
          },
          "scene": {
           "xaxis": {
            "backgroundcolor": "#E5ECF6",
            "gridcolor": "white",
            "gridwidth": 2,
            "linecolor": "white",
            "showbackground": true,
            "ticks": "",
            "zerolinecolor": "white"
           },
           "yaxis": {
            "backgroundcolor": "#E5ECF6",
            "gridcolor": "white",
            "gridwidth": 2,
            "linecolor": "white",
            "showbackground": true,
            "ticks": "",
            "zerolinecolor": "white"
           },
           "zaxis": {
            "backgroundcolor": "#E5ECF6",
            "gridcolor": "white",
            "gridwidth": 2,
            "linecolor": "white",
            "showbackground": true,
            "ticks": "",
            "zerolinecolor": "white"
           }
          },
          "shapedefaults": {
           "line": {
            "color": "#2a3f5f"
           }
          },
          "ternary": {
           "aaxis": {
            "gridcolor": "white",
            "linecolor": "white",
            "ticks": ""
           },
           "baxis": {
            "gridcolor": "white",
            "linecolor": "white",
            "ticks": ""
           },
           "bgcolor": "#E5ECF6",
           "caxis": {
            "gridcolor": "white",
            "linecolor": "white",
            "ticks": ""
           }
          },
          "title": {
           "x": 0.05
          },
          "xaxis": {
           "automargin": true,
           "gridcolor": "white",
           "linecolor": "white",
           "ticks": "",
           "title": {
            "standoff": 15
           },
           "zerolinecolor": "white",
           "zerolinewidth": 2
          },
          "yaxis": {
           "automargin": true,
           "gridcolor": "white",
           "linecolor": "white",
           "ticks": "",
           "title": {
            "standoff": 15
           },
           "zerolinecolor": "white",
           "zerolinewidth": 2
          }
         }
        },
        "title": {
         "text": "Global mean oil yield per hectare in 2021 per crop"
        },
        "xaxis": {
         "title": {
          "text": "Mean yield per hectare (tonnes)"
         }
        },
        "yaxis": {
         "title": {
          "text": "Type of oil"
         }
        }
       }
      }
     },
     "metadata": {},
     "output_type": "display_data"
    }
   ],
   "source": [
    "import pandas as pd\n",
    "import plotly.graph_objects as go\n",
    "import plotly.express as px\n",
    "\n",
    "# Load the dataset\n",
    "oils_df = pd.read_csv('../Datasets/Oils/oil-yield-by-crop.csv')\n",
    "\n",
    "# Filter for the entity 'World'\n",
    "world_df = oils_df[oils_df['Entity'] == 'World']\n",
    "\n",
    "# Filter for the year 2021\n",
    "df_2021 = world_df.loc[world_df['Year'] == 2021]\n",
    "\n",
    "# Drop unnecessary columns\n",
    "df_2021_clean = df_2021.drop(columns=['Entity', 'Code', 'Year'])\n",
    "\n",
    "# Calculate the mean for each type of oil yield for the year 2021, ignoring NaNs\n",
    "mean_columns_2021 = df_2021_clean.mean()\n",
    "\n",
    "# Sort the mean values in descending order\n",
    "mean_columns_2021_sorted = mean_columns_2021.sort_values(ascending=False)\n",
    "\n",
    "# Define colors from Plotly's T10 qualitative color palette\n",
    "colors = px.colors.qualitative.T10[:len(mean_columns_2021_sorted)]\n",
    "\n",
    "# Create a bar plot using Plotly\n",
    "fig = go.Figure()\n",
    "\n",
    "fig.add_trace(go.Bar(\n",
    "    x=mean_columns_2021_sorted.values,\n",
    "    y=mean_columns_2021_sorted.index,\n",
    "    orientation='h',  # horizontal bar chart\n",
    "    marker_color=colors,  # assign colors to bars\n",
    "))\n",
    "\n",
    "fig.update_layout(\n",
    "    title='Global mean oil yield per hectare in 2021 per crop',\n",
    "    xaxis_title='Mean yield per hectare (tonnes)',\n",
    "    yaxis_title='Type of oil',\n",
    "    height=600,\n",
    "    margin=dict(l=0, r=0, t=30, b=0),  # adjust margins for better appearance\n",
    ")\n",
    "\n",
    "# Show the plot\n",
    "fig.show()\n"
   ]
  },
  {
   "cell_type": "markdown",
   "metadata": {},
   "source": [
    "In fact, as you can see in the following chart, almost 40 per cent of all vegetable oil in the world comes from the oil palm. Should this be replaced by any other oil, the total land area on which vegetable oil crops are grown would be at least doubled."
   ]
  },
  {
   "cell_type": "code",
   "execution_count": 34,
   "metadata": {
    "tags": [
     "hide-input"
    ]
   },
   "outputs": [
    {
     "data": {
      "application/vnd.plotly.v1+json": {
       "config": {
        "plotlyServerURL": "https://plot.ly"
       },
       "data": [
        {
         "hole": 0.7,
         "insidetextorientation": "radial",
         "labels": [
          "Palm",
          "Soybean",
          "Rapeseed",
          "Sunflower",
          "Palm kernel",
          "Groundnut",
          "Cottonseed",
          "Olive",
          "Other"
         ],
         "marker": {
          "colors": [
           "#4C78A8",
           "#F58518",
           "#E45756",
           "#72B7B2",
           "#54A24B",
           "#EECA3B",
           "#B279A2",
           "#FF9DA6",
           "#9D755D",
           "#BAB0AC"
          ]
         },
         "textinfo": "label+percent",
         "textposition": "outside",
         "type": "pie",
         "values": [
          80584560,
          60315692,
          26469122,
          18251694,
          7991699,
          4749601,
          4305035,
          3348153.8,
          7463307.61
         ]
        }
       ],
       "layout": {
        "height": 600,
        "showlegend": false,
        "template": {
         "data": {
          "bar": [
           {
            "error_x": {
             "color": "#2a3f5f"
            },
            "error_y": {
             "color": "#2a3f5f"
            },
            "marker": {
             "line": {
              "color": "#E5ECF6",
              "width": 0.5
             },
             "pattern": {
              "fillmode": "overlay",
              "size": 10,
              "solidity": 0.2
             }
            },
            "type": "bar"
           }
          ],
          "barpolar": [
           {
            "marker": {
             "line": {
              "color": "#E5ECF6",
              "width": 0.5
             },
             "pattern": {
              "fillmode": "overlay",
              "size": 10,
              "solidity": 0.2
             }
            },
            "type": "barpolar"
           }
          ],
          "carpet": [
           {
            "aaxis": {
             "endlinecolor": "#2a3f5f",
             "gridcolor": "white",
             "linecolor": "white",
             "minorgridcolor": "white",
             "startlinecolor": "#2a3f5f"
            },
            "baxis": {
             "endlinecolor": "#2a3f5f",
             "gridcolor": "white",
             "linecolor": "white",
             "minorgridcolor": "white",
             "startlinecolor": "#2a3f5f"
            },
            "type": "carpet"
           }
          ],
          "choropleth": [
           {
            "colorbar": {
             "outlinewidth": 0,
             "ticks": ""
            },
            "type": "choropleth"
           }
          ],
          "contour": [
           {
            "colorbar": {
             "outlinewidth": 0,
             "ticks": ""
            },
            "colorscale": [
             [
              0,
              "#0d0887"
             ],
             [
              0.1111111111111111,
              "#46039f"
             ],
             [
              0.2222222222222222,
              "#7201a8"
             ],
             [
              0.3333333333333333,
              "#9c179e"
             ],
             [
              0.4444444444444444,
              "#bd3786"
             ],
             [
              0.5555555555555556,
              "#d8576b"
             ],
             [
              0.6666666666666666,
              "#ed7953"
             ],
             [
              0.7777777777777778,
              "#fb9f3a"
             ],
             [
              0.8888888888888888,
              "#fdca26"
             ],
             [
              1,
              "#f0f921"
             ]
            ],
            "type": "contour"
           }
          ],
          "contourcarpet": [
           {
            "colorbar": {
             "outlinewidth": 0,
             "ticks": ""
            },
            "type": "contourcarpet"
           }
          ],
          "heatmap": [
           {
            "colorbar": {
             "outlinewidth": 0,
             "ticks": ""
            },
            "colorscale": [
             [
              0,
              "#0d0887"
             ],
             [
              0.1111111111111111,
              "#46039f"
             ],
             [
              0.2222222222222222,
              "#7201a8"
             ],
             [
              0.3333333333333333,
              "#9c179e"
             ],
             [
              0.4444444444444444,
              "#bd3786"
             ],
             [
              0.5555555555555556,
              "#d8576b"
             ],
             [
              0.6666666666666666,
              "#ed7953"
             ],
             [
              0.7777777777777778,
              "#fb9f3a"
             ],
             [
              0.8888888888888888,
              "#fdca26"
             ],
             [
              1,
              "#f0f921"
             ]
            ],
            "type": "heatmap"
           }
          ],
          "heatmapgl": [
           {
            "colorbar": {
             "outlinewidth": 0,
             "ticks": ""
            },
            "colorscale": [
             [
              0,
              "#0d0887"
             ],
             [
              0.1111111111111111,
              "#46039f"
             ],
             [
              0.2222222222222222,
              "#7201a8"
             ],
             [
              0.3333333333333333,
              "#9c179e"
             ],
             [
              0.4444444444444444,
              "#bd3786"
             ],
             [
              0.5555555555555556,
              "#d8576b"
             ],
             [
              0.6666666666666666,
              "#ed7953"
             ],
             [
              0.7777777777777778,
              "#fb9f3a"
             ],
             [
              0.8888888888888888,
              "#fdca26"
             ],
             [
              1,
              "#f0f921"
             ]
            ],
            "type": "heatmapgl"
           }
          ],
          "histogram": [
           {
            "marker": {
             "pattern": {
              "fillmode": "overlay",
              "size": 10,
              "solidity": 0.2
             }
            },
            "type": "histogram"
           }
          ],
          "histogram2d": [
           {
            "colorbar": {
             "outlinewidth": 0,
             "ticks": ""
            },
            "colorscale": [
             [
              0,
              "#0d0887"
             ],
             [
              0.1111111111111111,
              "#46039f"
             ],
             [
              0.2222222222222222,
              "#7201a8"
             ],
             [
              0.3333333333333333,
              "#9c179e"
             ],
             [
              0.4444444444444444,
              "#bd3786"
             ],
             [
              0.5555555555555556,
              "#d8576b"
             ],
             [
              0.6666666666666666,
              "#ed7953"
             ],
             [
              0.7777777777777778,
              "#fb9f3a"
             ],
             [
              0.8888888888888888,
              "#fdca26"
             ],
             [
              1,
              "#f0f921"
             ]
            ],
            "type": "histogram2d"
           }
          ],
          "histogram2dcontour": [
           {
            "colorbar": {
             "outlinewidth": 0,
             "ticks": ""
            },
            "colorscale": [
             [
              0,
              "#0d0887"
             ],
             [
              0.1111111111111111,
              "#46039f"
             ],
             [
              0.2222222222222222,
              "#7201a8"
             ],
             [
              0.3333333333333333,
              "#9c179e"
             ],
             [
              0.4444444444444444,
              "#bd3786"
             ],
             [
              0.5555555555555556,
              "#d8576b"
             ],
             [
              0.6666666666666666,
              "#ed7953"
             ],
             [
              0.7777777777777778,
              "#fb9f3a"
             ],
             [
              0.8888888888888888,
              "#fdca26"
             ],
             [
              1,
              "#f0f921"
             ]
            ],
            "type": "histogram2dcontour"
           }
          ],
          "mesh3d": [
           {
            "colorbar": {
             "outlinewidth": 0,
             "ticks": ""
            },
            "type": "mesh3d"
           }
          ],
          "parcoords": [
           {
            "line": {
             "colorbar": {
              "outlinewidth": 0,
              "ticks": ""
             }
            },
            "type": "parcoords"
           }
          ],
          "pie": [
           {
            "automargin": true,
            "type": "pie"
           }
          ],
          "scatter": [
           {
            "fillpattern": {
             "fillmode": "overlay",
             "size": 10,
             "solidity": 0.2
            },
            "type": "scatter"
           }
          ],
          "scatter3d": [
           {
            "line": {
             "colorbar": {
              "outlinewidth": 0,
              "ticks": ""
             }
            },
            "marker": {
             "colorbar": {
              "outlinewidth": 0,
              "ticks": ""
             }
            },
            "type": "scatter3d"
           }
          ],
          "scattercarpet": [
           {
            "marker": {
             "colorbar": {
              "outlinewidth": 0,
              "ticks": ""
             }
            },
            "type": "scattercarpet"
           }
          ],
          "scattergeo": [
           {
            "marker": {
             "colorbar": {
              "outlinewidth": 0,
              "ticks": ""
             }
            },
            "type": "scattergeo"
           }
          ],
          "scattergl": [
           {
            "marker": {
             "colorbar": {
              "outlinewidth": 0,
              "ticks": ""
             }
            },
            "type": "scattergl"
           }
          ],
          "scattermapbox": [
           {
            "marker": {
             "colorbar": {
              "outlinewidth": 0,
              "ticks": ""
             }
            },
            "type": "scattermapbox"
           }
          ],
          "scatterpolar": [
           {
            "marker": {
             "colorbar": {
              "outlinewidth": 0,
              "ticks": ""
             }
            },
            "type": "scatterpolar"
           }
          ],
          "scatterpolargl": [
           {
            "marker": {
             "colorbar": {
              "outlinewidth": 0,
              "ticks": ""
             }
            },
            "type": "scatterpolargl"
           }
          ],
          "scatterternary": [
           {
            "marker": {
             "colorbar": {
              "outlinewidth": 0,
              "ticks": ""
             }
            },
            "type": "scatterternary"
           }
          ],
          "surface": [
           {
            "colorbar": {
             "outlinewidth": 0,
             "ticks": ""
            },
            "colorscale": [
             [
              0,
              "#0d0887"
             ],
             [
              0.1111111111111111,
              "#46039f"
             ],
             [
              0.2222222222222222,
              "#7201a8"
             ],
             [
              0.3333333333333333,
              "#9c179e"
             ],
             [
              0.4444444444444444,
              "#bd3786"
             ],
             [
              0.5555555555555556,
              "#d8576b"
             ],
             [
              0.6666666666666666,
              "#ed7953"
             ],
             [
              0.7777777777777778,
              "#fb9f3a"
             ],
             [
              0.8888888888888888,
              "#fdca26"
             ],
             [
              1,
              "#f0f921"
             ]
            ],
            "type": "surface"
           }
          ],
          "table": [
           {
            "cells": {
             "fill": {
              "color": "#EBF0F8"
             },
             "line": {
              "color": "white"
             }
            },
            "header": {
             "fill": {
              "color": "#C8D4E3"
             },
             "line": {
              "color": "white"
             }
            },
            "type": "table"
           }
          ]
         },
         "layout": {
          "annotationdefaults": {
           "arrowcolor": "#2a3f5f",
           "arrowhead": 0,
           "arrowwidth": 1
          },
          "autotypenumbers": "strict",
          "coloraxis": {
           "colorbar": {
            "outlinewidth": 0,
            "ticks": ""
           }
          },
          "colorscale": {
           "diverging": [
            [
             0,
             "#8e0152"
            ],
            [
             0.1,
             "#c51b7d"
            ],
            [
             0.2,
             "#de77ae"
            ],
            [
             0.3,
             "#f1b6da"
            ],
            [
             0.4,
             "#fde0ef"
            ],
            [
             0.5,
             "#f7f7f7"
            ],
            [
             0.6,
             "#e6f5d0"
            ],
            [
             0.7,
             "#b8e186"
            ],
            [
             0.8,
             "#7fbc41"
            ],
            [
             0.9,
             "#4d9221"
            ],
            [
             1,
             "#276419"
            ]
           ],
           "sequential": [
            [
             0,
             "#0d0887"
            ],
            [
             0.1111111111111111,
             "#46039f"
            ],
            [
             0.2222222222222222,
             "#7201a8"
            ],
            [
             0.3333333333333333,
             "#9c179e"
            ],
            [
             0.4444444444444444,
             "#bd3786"
            ],
            [
             0.5555555555555556,
             "#d8576b"
            ],
            [
             0.6666666666666666,
             "#ed7953"
            ],
            [
             0.7777777777777778,
             "#fb9f3a"
            ],
            [
             0.8888888888888888,
             "#fdca26"
            ],
            [
             1,
             "#f0f921"
            ]
           ],
           "sequentialminus": [
            [
             0,
             "#0d0887"
            ],
            [
             0.1111111111111111,
             "#46039f"
            ],
            [
             0.2222222222222222,
             "#7201a8"
            ],
            [
             0.3333333333333333,
             "#9c179e"
            ],
            [
             0.4444444444444444,
             "#bd3786"
            ],
            [
             0.5555555555555556,
             "#d8576b"
            ],
            [
             0.6666666666666666,
             "#ed7953"
            ],
            [
             0.7777777777777778,
             "#fb9f3a"
            ],
            [
             0.8888888888888888,
             "#fdca26"
            ],
            [
             1,
             "#f0f921"
            ]
           ]
          },
          "colorway": [
           "#636efa",
           "#EF553B",
           "#00cc96",
           "#ab63fa",
           "#FFA15A",
           "#19d3f3",
           "#FF6692",
           "#B6E880",
           "#FF97FF",
           "#FECB52"
          ],
          "font": {
           "color": "#2a3f5f"
          },
          "geo": {
           "bgcolor": "white",
           "lakecolor": "white",
           "landcolor": "#E5ECF6",
           "showlakes": true,
           "showland": true,
           "subunitcolor": "white"
          },
          "hoverlabel": {
           "align": "left"
          },
          "hovermode": "closest",
          "mapbox": {
           "style": "light"
          },
          "paper_bgcolor": "white",
          "plot_bgcolor": "#E5ECF6",
          "polar": {
           "angularaxis": {
            "gridcolor": "white",
            "linecolor": "white",
            "ticks": ""
           },
           "bgcolor": "#E5ECF6",
           "radialaxis": {
            "gridcolor": "white",
            "linecolor": "white",
            "ticks": ""
           }
          },
          "scene": {
           "xaxis": {
            "backgroundcolor": "#E5ECF6",
            "gridcolor": "white",
            "gridwidth": 2,
            "linecolor": "white",
            "showbackground": true,
            "ticks": "",
            "zerolinecolor": "white"
           },
           "yaxis": {
            "backgroundcolor": "#E5ECF6",
            "gridcolor": "white",
            "gridwidth": 2,
            "linecolor": "white",
            "showbackground": true,
            "ticks": "",
            "zerolinecolor": "white"
           },
           "zaxis": {
            "backgroundcolor": "#E5ECF6",
            "gridcolor": "white",
            "gridwidth": 2,
            "linecolor": "white",
            "showbackground": true,
            "ticks": "",
            "zerolinecolor": "white"
           }
          },
          "shapedefaults": {
           "line": {
            "color": "#2a3f5f"
           }
          },
          "ternary": {
           "aaxis": {
            "gridcolor": "white",
            "linecolor": "white",
            "ticks": ""
           },
           "baxis": {
            "gridcolor": "white",
            "linecolor": "white",
            "ticks": ""
           },
           "bgcolor": "#E5ECF6",
           "caxis": {
            "gridcolor": "white",
            "linecolor": "white",
            "ticks": ""
           }
          },
          "title": {
           "x": 0.05
          },
          "xaxis": {
           "automargin": true,
           "gridcolor": "white",
           "linecolor": "white",
           "ticks": "",
           "title": {
            "standoff": 15
           },
           "zerolinecolor": "white",
           "zerolinewidth": 2
          },
          "yaxis": {
           "automargin": true,
           "gridcolor": "white",
           "linecolor": "white",
           "ticks": "",
           "title": {
            "standoff": 15
           },
           "zerolinecolor": "white",
           "zerolinewidth": 2
          }
         }
        },
        "title": {
         "text": "Total vegetable oil production in 2021"
        }
       }
      }
     },
     "metadata": {},
     "output_type": "display_data"
    }
   ],
   "source": [
    "import pandas as pd\n",
    "import plotly.graph_objects as go\n",
    "\n",
    "# Load the dataset\n",
    "oils_df = pd.read_csv('../Datasets/vegetable-oil-production.csv')\n",
    "\n",
    "# Filter for the entity 'World'\n",
    "world_df = oils_df[oils_df['Entity'] == 'World']\n",
    "\n",
    "# Filter for the year 2021\n",
    "df_2021 = world_df.loc[world_df['Year'] == 2021]\n",
    "\n",
    "# Drop unnecessary columns\n",
    "df_2021_clean = df_2021.drop(columns=['Entity', 'Code', 'Year'])\n",
    "\n",
    "# Calculate the mean for each type of oil yield for the year 2021, ignoring NaNs\n",
    "mean_columns_2021 = df_2021_clean.mean()\n",
    "\n",
    "# Sort the mean values in descending order\n",
    "mean_columns_2021_sorted = mean_columns_2021.sort_values(ascending=False)\n",
    "\n",
    "# Combine the lowest 5 categories into 'Other'\n",
    "top_categories = mean_columns_2021_sorted[:-5]\n",
    "other_category = mean_columns_2021_sorted[-5:].sum()\n",
    "mean_combined = pd.concat([top_categories, pd.Series({'Other': other_category})])\n",
    "\n",
    "# Prepare the data for the Plotly chart\n",
    "labels = mean_combined.index.tolist()\n",
    "values = mean_combined.values.tolist()\n",
    "colors = px.colors.qualitative.T10\n",
    "\n",
    "# Create the donut chart using Plotly\n",
    "fig = go.Figure(data=[go.Pie(\n",
    "    labels=labels, \n",
    "    values=values, \n",
    "    hole=.7,  # Set the hole size for the donut chart\n",
    "    textinfo='label+percent',\n",
    "    textposition='outside',\n",
    "    insidetextorientation='radial',\n",
    "    marker=dict(colors=colors)\n",
    "    )])\n",
    "\n",
    "fig.update_layout(\n",
    "    title_text='Total vegetable oil production in 2021',\n",
    "    showlegend=False,\n",
    "    height=600 \n",
    ")\n",
    "\n",
    "# Show the plot\n",
    "fig.show()\n"
   ]
  },
  {
   "cell_type": "markdown",
   "metadata": {},
   "source": [
    "\n",
    "What is the real solution to the problem? The issue lies not just with palm oil but with the global demand for vegetable oil in general. To address this, we need to consider reducing the consumption of all oils. This approach would alleviate the pressure on ecosystems currently threatened by extensive oil production. Reducing oil consumption can lead to decreased deforestation, less habitat destruction, and lower greenhouse gas emissions associated with oil cultivation and processing. By tackling the root cause—our overall demand for vegetable oils—we can make significant strides toward more sustainable consumption patterns and a healthier planet."
   ]
  },
  {
   "cell_type": "markdown",
   "metadata": {},
   "source": [
    "## Reflections"
   ]
  },
  {
   "cell_type": "markdown",
   "metadata": {},
   "source": []
  },
  {
   "cell_type": "markdown",
   "metadata": {},
   "source": [
    "The feedback from our peers and the TA helped us to improve a number of things. First of all we reduced the number of line and bar charts, to get a more diverse set of visualisations. This makes sure we can visualize the data in better way, so the readers of our story get a better understanding of the data. Secondly, we added another argument to the second perspective. This gives it more weight and credibility. Lastly we improved a number of small things thanks to the feedback, such as the addition of a map, an interactive plot and we fixed the 'hide-input' tags to make the github page neater. "
   ]
  },
  {
   "cell_type": "markdown",
   "metadata": {},
   "source": [
    "## Work distribution"
   ]
  },
  {
   "cell_type": "code",
   "execution_count": null,
   "metadata": {},
   "outputs": [],
   "source": []
  },
  {
   "cell_type": "markdown",
   "metadata": {},
   "source": [
    "Aylwin:\n",
    "\n",
    "- All arguments and perspectives <br>\n",
    "- Visualisations:\n",
    "    - Palm oil production in 2021\n",
    "    - Cumulative tree cover loss on Borneo per country and province (2001-2022)\n",
    "    - Global mean oil yield per hectare in 2021 per crop\n",
    "    - Total vegetable oil production in 2021\n",
    "    - Some polishing on a number of others\n",
    "\n",
    "Joren:\n",
    "\n",
    "- Visualisations\n",
    "    - Greenhouse gas emissions across stages of oil production lifecycle\n",
    "\n",
    "Mikail:\n",
    "\n",
    "- Visualisations\n",
    "    - Palm Oil Production in Indonesia and Malaysia (2000-2023)\n",
    "- Fixed hide-input tags\n",
    "\n",
    "Maywand:\n",
    "\n",
    "- Visualisations\n",
    "    - 3D Scatter Plot of Palm Oil Production and Tree Cover Loss\n",
    "    - Palm Oil Production by Country per Decade"
   ]
  },
  {
   "cell_type": "markdown",
   "metadata": {},
   "source": [
    "## References\n",
    "\n",
    "_Manning, F. C., Kho, L. K., Hill, T. C., Cornulier, T., & Teh, Y. A. (2019). Carbon emissions from oil palm plantations on peat soil. Frontiers in Forests and Global Change, 2, 37._"
   ]
  }
 ],
 "metadata": {
  "celltoolbar": "Tags",
  "kernelspec": {
   "display_name": "Python 3 (ipykernel)",
   "language": "python",
   "name": "python3"
  },
  "language_info": {
   "codemirror_mode": {
    "name": "ipython",
    "version": 3
   },
   "file_extension": ".py",
   "mimetype": "text/x-python",
   "name": "python",
   "nbconvert_exporter": "python",
   "pygments_lexer": "ipython3",
   "version": "3.10.14"
  }
 },
 "nbformat": 4,
 "nbformat_minor": 2
}
